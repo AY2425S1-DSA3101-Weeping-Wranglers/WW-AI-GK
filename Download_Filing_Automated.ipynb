{
 "cells": [
  {
   "cell_type": "code",
   "execution_count": 6,
   "metadata": {},
   "outputs": [],
   "source": [
    "#read csv from data/CIK.csv\n",
    "import pandas as pd\n",
    "import requests\n",
    "import json"
   ]
  },
  {
   "cell_type": "code",
   "execution_count": null,
   "metadata": {},
   "outputs": [],
   "source": [
    "\n",
    "\n",
    "cik = 320193\n",
    "# URL of the JSON file - CIK\n",
    "CIK_input = str(cik).zfill(10)\n",
    "url = f\"https://data.sec.gov/submissions/CIK{CIK_input}.json\"\n",
    "\n",
    "headers = {\n",
    "    'User-Agent': 'Nguyen Xuan Nam (namalcor02@gmail.com)'\n",
    "}\n",
    "# Send a GET request to the URL\n",
    "response = requests.get(url, headers=headers)\n",
    "\n",
    "\n",
    "# Check if the request was successful (status code 200)\n",
    "if response.status_code == 200:\n",
    "    # Convert the response to a Python object (list or dictionary)\n",
    "    data = response.json()\n",
    "    print(data)\n",
    "else:\n",
    "    print(f\"Failed to download JSON file. Status code: {response.status_code}\")"
   ]
  },
  {
   "cell_type": "code",
   "execution_count": 4,
   "metadata": {},
   "outputs": [],
   "source": [
    "def get_latest_filing_URL(cik, type = \"10-K\"):\n",
    "    \"\"\"\n",
    "    Retrieves the latest filing URL for a given company identified by its CIK (Central Index Key) and filing type.\n",
    "    Parameters:\n",
    "    cik (int or str): The Central Index Key (CIK) of the company. It can be an integer or a string.\n",
    "    type (str): The type of filing to search for (default is \"10-K\"). Examples include \"10-K\", \"10-Q\", \"8-K\", etc.\n",
    "    Returns:\n",
    "    tuple: A tuple containing the company name, the year of the latest filing, and the URL of the latest filing.\n",
    "            Returns None if the request to the SEC data fails.\n",
    "    Example:\n",
    "    get_latest_filing_URL(320193, \"10-K\")\n",
    "    ('Apple Inc.', '2022', 'https://www.sec.gov/Archives/edgar/data/320193/000032019322000007/aapl-20220924x10k.htm')\n",
    "    Notes:\n",
    "    - The function sends a GET request to the SEC's EDGAR database to retrieve the company's filing data.\n",
    "    - The User-Agent header is required by the SEC's API for identification purposes.\n",
    "    - The function looks for the specified filing type in the company's recent filings and constructs the URL for the latest filing.\n",
    "    \"\"\"\n",
    "    \n",
    "    \n",
    "    CIK_input = str(cik).zfill(10)\n",
    "    url = f\"https://data.sec.gov/submissions/CIK{CIK_input}.json\"\n",
    "\n",
    "    headers = {\n",
    "        'User-Agent': 'NUS DSA3101 AY24/25S1 WW (ay2525s1ww@googlegroups.com)'\n",
    "    }\n",
    "    # Send a GET request to the URL\n",
    "    response = requests.get(url, headers=headers)\n",
    "\n",
    "\n",
    "    # Check if the request was successful (status code 200)\n",
    "    if response.status_code == 200:\n",
    "        # Convert the response to a Python object (list or dictionary)\n",
    "        data = response.json()\n",
    "    else:\n",
    "        print(f\"Failed to download JSON file. Status code: {response.status_code}, CIK: {cik}\")\n",
    "        return None\n",
    "        \n",
    "    \n",
    "    # print(f\"We are getting the latest filling URL for CIK: {cik}, company name: {data['name']}, ticker: {*data[\"tickers\"],}\")\n",
    "    recents = data[\"filings\"][\"recent\"]\n",
    "    filling_type = recents[\"form\"]\n",
    "    accession_number = recents[\"accessionNumber\"]\n",
    "    primary_doc = recents[\"primaryDocument\"]\n",
    "    filling_date = recents[\"filingDate\"]\n",
    "    for i in range(len(filling_type)):\n",
    "        if filling_type[i] == type:\n",
    "            # print(f\"filling date: {filling_date[i]}\")\n",
    "            cik_url = cik\n",
    "            accession_number_url = accession_number[i].replace(\"-\", \"\")\n",
    "            primary_doc_url = primary_doc[i]\n",
    "            filing_URL = f\"https://www.sec.gov/Archives/edgar/data/{cik_url}/{accession_number_url}/{primary_doc_url}\"\n",
    "            latest_filing_year = filling_date[i][:4]\n",
    "            company_name = data['name']\n",
    "            break\n",
    "        \n",
    "    return company_name, latest_filing_year, filing_URL\n",
    "\n",
    "def map_ticker_to_cik(ticker_list: pd.DataFrame) -> pd.DataFrame:\n",
    "    mapper = pd.read_csv('data/mapping_stock.csv', header = 0)\n",
    "    mapper = mapper[mapper['ticker'].isin(ticker_list['Ticker'])]\n",
    "    return mapper.loc[:,[\"ticker\",\"cik\"]].reset_index(drop=True)\n",
    "    "
   ]
  },
  {
   "cell_type": "code",
   "execution_count": null,
   "metadata": {},
   "outputs": [],
   "source": [
    "ticker_df = pd.read_excel(\"data/ECM_Datasets.xlsx\")\n",
    "cik_df = map_ticker_to_cik(ticker_df)\n",
    "\n",
    "\n",
    "cik_df[\"Results\"] = cik_df[\"cik\"].apply(get_latest_filing_URL)\n",
    "cik_df[[\"Company Name\",\"Latest Filing Year\", \"Filing URL\"]] = pd.DataFrame(cik_df['Results'].tolist(),index = cik_df.index)\n",
    "cik_df = cik_df.drop(columns=[\"Results\"])\n",
    "cik_df.head()"
   ]
  },
  {
   "cell_type": "code",
   "execution_count": 8,
   "metadata": {},
   "outputs": [],
   "source": [
    "ticker_df = pd.read_excel(\"data/ECM_Datasets.xlsx\")\n",
    "cik_df = map_ticker_to_cik(ticker_df)\n",
    "\n",
    "\n",
    "cik_df[\"Results\"] = cik_df[\"cik\"].apply(lambda x: get_latest_filing_URL(x, type = \"8-K\"))\n",
    "cik_df[[\"Company Name\",\"Latest Filing Year\", \"Filing URL\"]] = pd.DataFrame(cik_df['Results'].tolist(),index = cik_df.index)\n",
    "cik_df = cik_df.drop(columns=[\"Results\"])\n",
    "cik_df.head()\n",
    "cik_df.to_excel(\"data/NASDAQ_8-K_URLs.xlsx\", index = False)"
   ]
  },
  {
   "cell_type": "code",
   "execution_count": 68,
   "metadata": {},
   "outputs": [],
   "source": [
    "cik_df.to_excel(\"data/NASDAQ_10-K_URLs.xlsx\", index = False)"
   ]
  }
 ],
 "metadata": {
  "kernelspec": {
   "display_name": "GraphDataScienceNeo4j",
   "language": "python",
   "name": "python3"
  },
  "language_info": {
   "codemirror_mode": {
    "name": "ipython",
    "version": 3
   },
   "file_extension": ".py",
   "mimetype": "text/x-python",
   "name": "python",
   "nbconvert_exporter": "python",
   "pygments_lexer": "ipython3",
   "version": "3.12.4"
  }
 },
 "nbformat": 4,
 "nbformat_minor": 2
}
