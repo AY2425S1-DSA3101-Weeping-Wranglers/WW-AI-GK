{
 "cells": [
  {
   "cell_type": "markdown",
   "metadata": {},
   "source": [
    "## Getting Started\n",
    "The first step is to install the `sec-api` Python package which provides access to the ExtractorApi."
   ]
  },
  {
   "cell_type": "code",
   "execution_count": null,
   "metadata": {},
   "outputs": [],
   "source": [
    "#pip install sec-api\n"
   ]
  },
  {
   "cell_type": "code",
   "execution_count": 16,
   "metadata": {},
   "outputs": [],
   "source": [
    "API_KEY = '' #Replace with your own api key from https://sec-api.io/\n",
    "from sec_api import ExtractorApi\n",
    "extractorApi = ExtractorApi(API_KEY)"
   ]
  },
  {
   "cell_type": "markdown",
   "metadata": {},
   "source": [
    "We define the `pprint` helper function to convert long, single-line text into a multi-line, easily readable format. This function is used to output the extracted text sections in a more readable format, especially when running the code in a Jupyter notebook."
   ]
  },
  {
   "cell_type": "code",
   "execution_count": 17,
   "metadata": {},
   "outputs": [],
   "source": [
    "\n",
    "# helper function to pretty print long, single-line text to multi-line text\n",
    "def pprint(text, line_length=100):\n",
    "  words = text.split(' ')\n",
    "  lines = []\n",
    "  current_line = ''\n",
    "  for word in words:\n",
    "    if len(current_line + ' ' + word) <= line_length:\n",
    "      current_line += ' ' + word\n",
    "    else:\n",
    "      lines.append(current_line.strip())\n",
    "      current_line = word\n",
    "  if current_line:\n",
    "    lines.append(current_line.strip())\n",
    "  print('\\n'.join(lines))"
   ]
  },
  {
   "cell_type": "markdown",
   "metadata": {},
   "source": [
    "## Extract \"Item 1 - Business\" from 10-K Filings\n",
    "We will begin by extracting the business section (Item 1) from a 10-K filing using the `.get_section(filing_url, section_id, output_type)` function. This function allows us to specify the URL of the 10-K filing, the ID of the item section to be extracted, and the desired output type (HTML or text), and returns the extracted section. [Refer to the documentation for a complete list of all 10-K item section IDs](https://sec-api.io/docs/sec-filings-item-extraction-api#request-parameters).\n",
    "\n",
    "As an example, let's extract Item 1 as text from Tesla's 10-K filing. In this item, we find a description of the company’s business, including its main products and services, what subsidiaries it owns, and what markets it operates in. This section may also include information about recent events, competition the company faces, regulations that apply to it, labor issues, special operating costs, or seasonal factors. This is a good place to start to understand how the company operates."
   ]
  },
  {
   "cell_type": "code",
   "execution_count": 14,
   "metadata": {},
   "outputs": [],
   "source": [
    "# URL of Tesla's 10-K filing\n",
    "filing_10_k_url = 'https://www.sec.gov/Archives/edgar/data/1318605/000156459021004599/tsla-10k_20201231.htm'"
   ]
  },
  {
   "cell_type": "code",
   "execution_count": 18,
   "metadata": {},
   "outputs": [
    {
     "name": "stdout",
     "output_type": "stream",
     "text": [
      "Extracted Item 1 (Text)\n",
      "-----------------------\n",
      "ITEM 1. \n",
      "\n",
      "BUSINESS\n",
      "\n",
      "##TABLE_END\n",
      "\n",
      "Overview \n",
      "\n",
      "We design, develop, manufacture, sell and lease\n",
      "high-performance fully electric vehicles and energy generation and storage systems, and offer\n",
      "services related to our sustainable energy products. We generally sell our products directly to\n",
      "customers, including through our website and retail locations. We also continue to grow our\n",
      "customer-facing infrastructure through a global network of vehicle service centers, Mobile Service\n",
      "technicians, body shops, Supercharger stations and Destination Chargers to accelerate the widespread\n",
      "adoption of our products. We emphasize performance, attractive styling and the safety of our users\n",
      "and workforce in the design and manufacture of our products and are continuing to develop full\n",
      "self-driving technology for improved safety. We also strive to lower the cost of ownership for our\n",
      "customers through continuous efforts to reduce manufacturing costs and by offering financial\n",
      "services tailored to our products. Our mission to accelerate the world&#8217;s transition to\n",
      "sustainable energy, engineering expertise, vertically integrated business model and focus on user\n",
      "experience differentiate us from other companies.\n",
      "\n",
      "Segment Information \n",
      "\n",
      "We operate as two\n",
      "reportable segments: (i) automotive and (ii) energy generation and storage.\n",
      "\n",
      "The automotive segment\n",
      "includes the design, development, manufacturing, sales and leasing of electric vehicles as well as\n",
      "sales of automotive regulatory credits. Additionally, the\n",
      "... cut for brevity\n",
      "-----------------------\n"
     ]
    }
   ],
   "source": [
    "# extract text section \"Item 1 - Business\" from 10-K\n",
    "item_1_text = extractorApi.get_section(filing_10_k_url, '1', 'text')\n",
    "\n",
    "print('Extracted Item 1 (Text)')\n",
    "print('-----------------------')\n",
    "pprint(item_1_text[0:1500])\n",
    "print('... cut for brevity')\n",
    "print('-----------------------')"
   ]
  },
  {
   "cell_type": "markdown",
   "metadata": {},
   "source": [
    "## Extract \"Item 7 - Management’s Discussion and Analysis of Financial Condition and Results of Operations” ##\n",
    "Item 7 gives the company’s perspective on the business results of the past financial year. This section, known as the MD&A for short, allows company management to tell its story in its own words. The MD&A presents:\n",
    "\n",
    "The company’s operations and financial results, including information about the company’s liquidity and capital resources and any known trends or uncertainties that could materially affect the company’s results. This section may also discuss management’s views of key business risks and what it is doing to address them."
   ]
  },
  {
   "cell_type": "code",
   "execution_count": 5,
   "metadata": {},
   "outputs": [
    {
     "name": "stdout",
     "output_type": "stream",
     "text": [
      "Extracted Item 7 (Text)\n",
      "-----------------------\n",
      "ITEM 7. \n",
      "\n",
      "MANAGEMENT&#8217;S DISCUSSION AND ANALYSIS OF FINANCIAL CONDITION AND RESULTS OF\n",
      "OPERATIONS\n",
      "\n",
      "##TABLE_END\n",
      "\n",
      "The following discussion and analysis should be read in conjunction with\n",
      "the consolidated financial statements and the related notes included elsewhere in this Annual Report\n",
      "on Form 10-K. For discussion related to changes in financial condition and the results of operations\n",
      "for fiscal year 2018-related items, refer to Part II, Item 7. Management's Discussion and Analysis\n",
      "of Financial Condition and Results of Operations in our Annual Report on Form 10-K for fiscal year\n",
      "2019, which was filed with the Securities and Exchange Commission on February 13, 2020.\n",
      "\n",
      "Overview\n",
      "and 2020 Highlights\n",
      "\n",
      "Our mission is to accelerate the world&#8217;s transition to sustainable\n",
      "energy. We design, develop, manufacture, lease and sell high-performance fully electric vehicles,\n",
      "solar energy generation systems and energy storage products. We also offer maintenance,\n",
      "installation, operation, financial and other services related to our products.\n",
      "\n",
      "In 2020, we produced\n",
      "509,737 vehicles and delivered 499,647 vehicles. We are currently focused on increasing vehicle\n",
      "production and capacity, developing and ramping our battery cell technology, increasing the\n",
      "affordability of our vehicles, expanding our global infrastructure and introducing our next\n",
      "vehicles.\n",
      "\n",
      "In 2020, we deployed 3.02 GWh of energy storage products and 205 megawatts of solar\n",
      "energy systems. We are currently focused on ramping prod\n",
      "... cut for brevity\n",
      "-----------------------\n"
     ]
    }
   ],
   "source": [
    "# extract text section \"Item 7 - MD&A\" from 10-K\n",
    "item_7_text = extractorApi.get_section(filing_10_k_url, '7', 'text')\n",
    "\n",
    "print('Extracted Item 7 (Text)')\n",
    "print('-----------------------')\n",
    "pprint(item_7_text[0:1500])\n",
    "print('... cut for brevity')\n",
    "print('-----------------------')"
   ]
  },
  {
   "cell_type": "markdown",
   "metadata": {},
   "source": [
    "## Store Items in MySQL Database ##\n",
    "API queries are expensive, so to avoid repeated calls, we wish to store our extracted results in a persistent database. We'll store information on the top 50 companies in the NASDAQ."
   ]
  },
  {
   "cell_type": "code",
   "execution_count": 21,
   "metadata": {},
   "outputs": [
    {
     "name": "stdout",
     "output_type": "stream",
     "text": [
      "Requirement already satisfied: mysql-connector-python in c:\\users\\ongai\\desktop\\dsa3101\\ww-ai-gk\\.venv\\lib\\site-packages (9.0.0)\n",
      "Note: you may need to restart the kernel to use updated packages.\n"
     ]
    }
   ],
   "source": [
    "#pip install mysql-connector-python"
   ]
  },
  {
   "cell_type": "code",
   "execution_count": 24,
   "metadata": {},
   "outputs": [
    {
     "name": "stdout",
     "output_type": "stream",
     "text": [
      "Requirement already satisfied: mysql-connector-python-rf in c:\\users\\ongai\\desktop\\dsa3101\\ww-ai-gk\\.venv\\lib\\site-packages (2.2.2)\n",
      "Note: you may need to restart the kernel to use updated packages.\n"
     ]
    }
   ],
   "source": [
    "#pip install mysql-connector-python-rf"
   ]
  },
  {
   "cell_type": "code",
   "execution_count": 9,
   "metadata": {},
   "outputs": [],
   "source": [
    "import mysql.connector\n",
    "import os\n",
    "from dotenv import load_dotenv, find_dotenv"
   ]
  },
  {
   "cell_type": "code",
   "execution_count": 10,
   "metadata": {},
   "outputs": [],
   "source": [
    "load_dotenv(find_dotenv())\n",
    "db_host = os.environ.get(\"db_host\")\n",
    "db_user = os.environ.get(\"db_user\")\n",
    "db_password = os.environ.get(\"db_password\")\n",
    "db_name = os.environ.get(\"db_name\")"
   ]
  },
  {
   "cell_type": "code",
   "execution_count": 11,
   "metadata": {},
   "outputs": [],
   "source": [
    "## Saving items to notepad files first.\n",
    "with open(\"tesla_items/tesla_item1.txt\", \"w\") as file:\n",
    "    file.write(item_1_text)"
   ]
  },
  {
   "cell_type": "code",
   "execution_count": 21,
   "metadata": {},
   "outputs": [],
   "source": [
    "with open(\"tesla_items/tesla_item7.txt\", \"w\") as file:\n",
    "    file.write(item_7_text)"
   ]
  },
  {
   "cell_type": "code",
   "execution_count": 3,
   "metadata": {},
   "outputs": [],
   "source": [
    "with open('tesla_items/tesla_item1.txt', 'r') as file:\n",
    "    item_1_text = file.read()"
   ]
  },
  {
   "cell_type": "code",
   "execution_count": 4,
   "metadata": {},
   "outputs": [],
   "source": [
    "with open('tesla_items/tesla_item7.txt', 'r') as file:\n",
    "    item_7_text = file.read()\n"
   ]
  },
  {
   "cell_type": "markdown",
   "metadata": {},
   "source": [
    "Our `SEC_10K_Filings database` will contain a single table that stores the name and stock symbol of a company, and its rank on the NASDAQ 100, together with its Item 1 and Item 7 sections from their associated 10K forms. Printing out the length of both items, we see that Tesla's Item 1 and Item 7 sections are tens of thousands of characters long. When storing such large textual data, we will use SQL's `MEDIUMTEXT` data type, which stores up to 16,777,215 characters, more than enough for our purposes."
   ]
  },
  {
   "cell_type": "code",
   "execution_count": 5,
   "metadata": {},
   "outputs": [
    {
     "name": "stdout",
     "output_type": "stream",
     "text": [
      "43996 99016\n"
     ]
    }
   ],
   "source": [
    "print(len(item_1_text),len(item_7_text))\n"
   ]
  },
  {
   "cell_type": "code",
   "execution_count": 12,
   "metadata": {},
   "outputs": [],
   "source": [
    "companies_schema = \"\"\"\n",
    "CREATE TABLE IF NOT EXISTS companies (\n",
    "    stock_symbol VARCHAR(4) PRIMARY KEY,\n",
    "    name VARCHAR(65),\n",
    "    rank_pos INT UNIQUE,\n",
    "    item1 MEDIUMTEXT,\n",
    "    item7 MEDIUMTEXT,\n",
    "    url TEXT\n",
    "    );\n",
    "\"\"\"\n",
    "table_schemas = [(\"companies\", companies_schema)]"
   ]
  },
  {
   "cell_type": "code",
   "execution_count": 15,
   "metadata": {},
   "outputs": [
    {
     "name": "stdout",
     "output_type": "stream",
     "text": [
      "Database 'ECMDatabase' created or already exists.\n",
      "Table 'companies' created successfully.\n",
      "Database operations completed.\n"
     ]
    }
   ],
   "source": [
    "connection = None\n",
    "try:\n",
    "    # Create the initial connection\n",
    "    connection = mysql.connector.connect(\n",
    "        host=db_host,\n",
    "        user=db_user,\n",
    "        password=db_password,\n",
    "        auth_plugin='mysql_native_password',\n",
    "        use_pure = False\n",
    "    )\n",
    "    cursor = connection.cursor()\n",
    "\n",
    "    # Create the database if it doesn't exist\n",
    "    cursor.execute(f\"CREATE DATABASE IF NOT EXISTS {db_name}\")\n",
    "    print(f\"Database '{db_name}' created or already exists.\")\n",
    "    cursor.execute(f\"USE {db_name}\")\n",
    "\n",
    "    # Create tables\n",
    "    for table_name, table_schema in table_schemas:\n",
    "        cursor.execute(table_schema)\n",
    "        print(f\"Table '{table_name}' created successfully.\")\n",
    "\n",
    "    # Insert TESLA forms into database.\n",
    "    cursor.execute(f'INSERT INTO companies VALUES(\"TSLA\", \"Tesla Inc\", 8, \"{item_1_text}\",\"{item_7_text}\",\"{filing_10_k_url}\")')\n",
    "    # Commit transaction\n",
    "    \n",
    "\n",
    "    # Close the initial connection\n",
    "    cursor.close()\n",
    "    connection.commit()\n",
    "    connection.close()\n",
    "except mysql.connector.Error as e:\n",
    "    print(f\"MySQL Error: {e}\")\n",
    "except Exception as e:\n",
    "    print(f\"Unexpected error: {e}\")\n",
    "finally:\n",
    "    if connection is not None and connection.is_connected():\n",
    "        connection.close()\n",
    "    print(\"Database operations completed.\")\n"
   ]
  }
 ],
 "metadata": {
  "kernelspec": {
   "display_name": ".venv",
   "language": "python",
   "name": "python3"
  },
  "language_info": {
   "codemirror_mode": {
    "name": "ipython",
    "version": 3
   },
   "file_extension": ".py",
   "mimetype": "text/x-python",
   "name": "python",
   "nbconvert_exporter": "python",
   "pygments_lexer": "ipython3",
   "version": "3.12.3"
  }
 },
 "nbformat": 4,
 "nbformat_minor": 2
}
