{
 "cells": [
  {
   "cell_type": "code",
   "execution_count": 1,
   "metadata": {},
   "outputs": [
    {
     "name": "stderr",
     "output_type": "stream",
     "text": [
      "/Users/wy/Documents/WW-AI-GK/.venv/lib/python3.11/site-packages/sentence_transformers/cross_encoder/CrossEncoder.py:13: TqdmExperimentalWarning: Using `tqdm.autonotebook.tqdm` in notebook mode. Use `tqdm.tqdm` instead to force console mode (e.g. in jupyter console)\n",
      "  from tqdm.autonotebook import tqdm, trange\n"
     ]
    },
    {
     "name": "stdout",
     "output_type": "stream",
     "text": [
      "Connection to graph database established.\n"
     ]
    }
   ],
   "source": [
    "import os\n",
    "import re\n",
    "import json\n",
    "import requests\n",
    "import pandas as pd\n",
    "import urllib.request\n",
    "from operator import itemgetter\n",
    "import pyreadr\n",
    "import numpy as np\n",
    "from IPython.display import Image\n",
    "from sentence_transformers import SentenceTransformer\n",
    "import graph_utils\n",
    "from fact_checking import fact_check_and_add, visualize_rules"
   ]
  },
  {
   "cell_type": "markdown",
   "metadata": {},
   "source": [
    "## Neo4J AuraDB Setup"
   ]
  },
  {
   "cell_type": "markdown",
   "metadata": {},
   "source": [
    "### Resetting database"
   ]
  },
  {
   "cell_type": "markdown",
   "metadata": {},
   "source": [
    "We reset the database to start with a blank slate."
   ]
  },
  {
   "cell_type": "code",
   "execution_count": 2,
   "metadata": {},
   "outputs": [],
   "source": [
    "# Removes all nodes and relationships\n",
    "graph_utils.reset_graph()"
   ]
  },
  {
   "cell_type": "code",
   "execution_count": 3,
   "metadata": {},
   "outputs": [],
   "source": [
    "# Removes all indexes and constraints\n",
    "graph_utils.reset_constraints()"
   ]
  },
  {
   "cell_type": "markdown",
   "metadata": {},
   "source": [
    "## Schema Constraints"
   ]
  },
  {
   "cell_type": "markdown",
   "metadata": {},
   "source": [
    "In this section, we define constraints and indexes for the various nodes in our graph.\n",
    "\n",
    "Key constraints and uniqueness constraints will ensure that nodes can be matched unambiguously.\n",
    "We also employ semantic indexes for the purposes of node disambiguiation:\n",
    "1. Full-text indexes allow keywords to be matched (e.g. country name aliases can be used to match to different aliases of a particular country)\n",
    "2. Vector indexes allow similarity based search (e.g. industry description can be used to match to specific industry nodes)"
   ]
  },
  {
   "cell_type": "markdown",
   "metadata": {},
   "source": [
    "### Region Node"
   ]
  },
  {
   "cell_type": "code",
   "execution_count": 4,
   "metadata": {},
   "outputs": [
    {
     "data": {
      "text/plain": [
       "EagerResult(records=[], summary=<neo4j._work.summary.ResultSummary object at 0x164d62110>, keys=[])"
      ]
     },
     "execution_count": 4,
     "metadata": {},
     "output_type": "execute_result"
    }
   ],
   "source": [
    "# m49 is key\n",
    "graph_utils.execute_query('''\n",
    "CREATE CONSTRAINT region_m49_key IF NOT EXISTS\n",
    "FOR (r:Region) REQUIRE r.m49 IS NODE KEY''')"
   ]
  },
  {
   "cell_type": "code",
   "execution_count": 5,
   "metadata": {},
   "outputs": [
    {
     "data": {
      "text/plain": [
       "EagerResult(records=[], summary=<neo4j._work.summary.ResultSummary object at 0x164d53690>, keys=[])"
      ]
     },
     "execution_count": 5,
     "metadata": {},
     "output_type": "execute_result"
    }
   ],
   "source": [
    "# name is unique\n",
    "graph_utils.execute_query('''\n",
    "CREATE CONSTRAINT region_name_unique IF NOT EXISTS\n",
    "FOR (r:Region) REQUIRE r.name IS UNIQUE''')"
   ]
  },
  {
   "cell_type": "code",
   "execution_count": 6,
   "metadata": {},
   "outputs": [
    {
     "data": {
      "text/plain": [
       "EagerResult(records=[], summary=<neo4j._work.summary.ResultSummary object at 0x164d60590>, keys=[])"
      ]
     },
     "execution_count": 6,
     "metadata": {},
     "output_type": "execute_result"
    }
   ],
   "source": [
    "# name fulltext index\n",
    "graph_utils.execute_query('''\n",
    "CREATE FULLTEXT INDEX region_name_index IF NOT EXISTS\n",
    "FOR (r:Region) ON EACH [r.name]''')"
   ]
  },
  {
   "cell_type": "markdown",
   "metadata": {},
   "source": [
    "### Country Node"
   ]
  },
  {
   "cell_type": "code",
   "execution_count": 7,
   "metadata": {},
   "outputs": [
    {
     "data": {
      "text/plain": [
       "EagerResult(records=[], summary=<neo4j._work.summary.ResultSummary object at 0x164d6dc10>, keys=[])"
      ]
     },
     "execution_count": 7,
     "metadata": {},
     "output_type": "execute_result"
    }
   ],
   "source": [
    "# iso3 is key\n",
    "graph_utils.execute_query('''\n",
    "CREATE CONSTRAINT country_iso3_key IF NOT EXISTS\n",
    "FOR (c:Country) REQUIRE c.iso3 IS NODE KEY''')"
   ]
  },
  {
   "cell_type": "code",
   "execution_count": 8,
   "metadata": {},
   "outputs": [
    {
     "data": {
      "text/plain": [
       "EagerResult(records=[], summary=<neo4j._work.summary.ResultSummary object at 0x164d6e650>, keys=[])"
      ]
     },
     "execution_count": 8,
     "metadata": {},
     "output_type": "execute_result"
    }
   ],
   "source": [
    "# iso2 is unique\n",
    "graph_utils.execute_query('''\n",
    "CREATE CONSTRAINT country_iso2_unique IF NOT EXISTS\n",
    "FOR (c:Country) REQUIRE c.iso2 IS UNIQUE''')"
   ]
  },
  {
   "cell_type": "code",
   "execution_count": 9,
   "metadata": {},
   "outputs": [
    {
     "data": {
      "text/plain": [
       "EagerResult(records=[], summary=<neo4j._work.summary.ResultSummary object at 0x164d53750>, keys=[])"
      ]
     },
     "execution_count": 9,
     "metadata": {},
     "output_type": "execute_result"
    }
   ],
   "source": [
    "# name is unique\n",
    "graph_utils.execute_query('''\n",
    "CREATE CONSTRAINT country_name_unique IF NOT EXISTS\n",
    "FOR (c:Country) REQUIRE c.name IS UNIQUE''')"
   ]
  },
  {
   "cell_type": "code",
   "execution_count": 10,
   "metadata": {},
   "outputs": [
    {
     "data": {
      "text/plain": [
       "EagerResult(records=[], summary=<neo4j._work.summary.ResultSummary object at 0x164d7a8d0>, keys=[])"
      ]
     },
     "execution_count": 10,
     "metadata": {},
     "output_type": "execute_result"
    }
   ],
   "source": [
    "# aliases fulltext index\n",
    "graph_utils.execute_query('''\n",
    "CREATE FULLTEXT INDEX country_aliases_index IF NOT EXISTS\n",
    "FOR (c:Country) ON EACH [c.aliases]''')"
   ]
  },
  {
   "cell_type": "markdown",
   "metadata": {},
   "source": [
    "### Sector Node"
   ]
  },
  {
   "cell_type": "code",
   "execution_count": 11,
   "metadata": {},
   "outputs": [
    {
     "data": {
      "text/plain": [
       "EagerResult(records=[], summary=<neo4j._work.summary.ResultSummary object at 0x164d2df50>, keys=[])"
      ]
     },
     "execution_count": 11,
     "metadata": {},
     "output_type": "execute_result"
    }
   ],
   "source": [
    "# gics is key\n",
    "graph_utils.execute_query('''\n",
    "CREATE CONSTRAINT sector_gics_key IF NOT EXISTS\n",
    "FOR (s:Sector) REQUIRE s.gics IS NODE KEY''')"
   ]
  },
  {
   "cell_type": "code",
   "execution_count": 12,
   "metadata": {},
   "outputs": [
    {
     "data": {
      "text/plain": [
       "EagerResult(records=[], summary=<neo4j._work.summary.ResultSummary object at 0x164d79390>, keys=[])"
      ]
     },
     "execution_count": 12,
     "metadata": {},
     "output_type": "execute_result"
    }
   ],
   "source": [
    "# name is unique\n",
    "graph_utils.execute_query('''\n",
    "CREATE CONSTRAINT country_name_unique IF NOT EXISTS\n",
    "FOR (c:Country) REQUIRE c.name IS UNIQUE''')"
   ]
  },
  {
   "cell_type": "markdown",
   "metadata": {},
   "source": [
    "### Industry Node"
   ]
  },
  {
   "cell_type": "code",
   "execution_count": 13,
   "metadata": {},
   "outputs": [
    {
     "data": {
      "text/plain": [
       "EagerResult(records=[], summary=<neo4j._work.summary.ResultSummary object at 0x164d86650>, keys=[])"
      ]
     },
     "execution_count": 13,
     "metadata": {},
     "output_type": "execute_result"
    }
   ],
   "source": [
    "# gics is key\n",
    "graph_utils.execute_query('''\n",
    "CREATE CONSTRAINT industry_gics_key IF NOT EXISTS\n",
    "FOR (i:Industry) REQUIRE i.gics IS NODE KEY''')"
   ]
  },
  {
   "cell_type": "code",
   "execution_count": 14,
   "metadata": {},
   "outputs": [
    {
     "data": {
      "text/plain": [
       "EagerResult(records=[], summary=<neo4j._work.summary.ResultSummary object at 0x164d87750>, keys=[])"
      ]
     },
     "execution_count": 14,
     "metadata": {},
     "output_type": "execute_result"
    }
   ],
   "source": [
    "# name is unique\n",
    "graph_utils.execute_query('''\n",
    "CREATE CONSTRAINT industry_name_unique IF NOT EXISTS\n",
    "FOR (i:Industry) REQUIRE i.name IS UNIQUE''')"
   ]
  },
  {
   "cell_type": "code",
   "execution_count": 15,
   "metadata": {},
   "outputs": [
    {
     "data": {
      "text/plain": [
       "EagerResult(records=[], summary=<neo4j._work.summary.ResultSummary object at 0x164d7ba10>, keys=[])"
      ]
     },
     "execution_count": 15,
     "metadata": {},
     "output_type": "execute_result"
    }
   ],
   "source": [
    "# description vector index\n",
    "graph_utils.execute_query('''\n",
    "CREATE VECTOR INDEX industry_description_index IF NOT EXISTS\n",
    "FOR (i:Industry)\n",
    "ON i.embedding\n",
    "OPTIONS { indexConfig: {\n",
    " `vector.quantization.enabled`: false\n",
    "}}''')"
   ]
  },
  {
   "cell_type": "markdown",
   "metadata": {},
   "source": [
    "### Company Node"
   ]
  },
  {
   "cell_type": "code",
   "execution_count": 16,
   "metadata": {},
   "outputs": [
    {
     "data": {
      "text/plain": [
       "EagerResult(records=[], summary=<neo4j._work.summary.ResultSummary object at 0x164d853d0>, keys=[])"
      ]
     },
     "execution_count": 16,
     "metadata": {},
     "output_type": "execute_result"
    }
   ],
   "source": [
    "# ticker is key\n",
    "graph_utils.execute_query('''CREATE CONSTRAINT company_ticker_key IF NOT EXISTS\n",
    "FOR (c:Company) REQUIRE c.ticker IS NODE KEY''')"
   ]
  },
  {
   "cell_type": "code",
   "execution_count": 17,
   "metadata": {},
   "outputs": [
    {
     "data": {
      "text/plain": [
       "EagerResult(records=[], summary=<neo4j._work.summary.ResultSummary object at 0x164d52bd0>, keys=[])"
      ]
     },
     "execution_count": 17,
     "metadata": {},
     "output_type": "execute_result"
    }
   ],
   "source": [
    "# names fulltext index\n",
    "graph_utils.execute_query('''CREATE FULLTEXT INDEX company_names_index IF NOT EXISTS\n",
    "FOR (c:Company) ON EACH [c.names]''')"
   ]
  },
  {
   "cell_type": "markdown",
   "metadata": {},
   "source": [
    "## Adding Initial Data"
   ]
  },
  {
   "cell_type": "markdown",
   "metadata": {},
   "source": [
    "### Region Nodes"
   ]
  },
  {
   "cell_type": "markdown",
   "metadata": {},
   "source": [
    "Our country and region nodes, as well as the IS_IN relationships from countries to regions, are sourced from [UNSD](https://unstats.un.org/unsd/methodology/m49/overview/)."
   ]
  },
  {
   "cell_type": "code",
   "execution_count": 18,
   "metadata": {},
   "outputs": [],
   "source": [
    "df_m49 = pd.read_csv('../data/UNSD_m49.csv', sep=';')"
   ]
  },
  {
   "cell_type": "code",
   "execution_count": 19,
   "metadata": {},
   "outputs": [],
   "source": [
    "continents = df_m49[['Region Code', 'Region Name']]\\\n",
    "                    .dropna()\\\n",
    "                    .drop_duplicates()\\\n",
    "                    .rename(columns={\n",
    "                        'Region Code': 'm49',\n",
    "                        'Region Name': 'name'\n",
    "                    })"
   ]
  },
  {
   "cell_type": "code",
   "execution_count": 20,
   "metadata": {},
   "outputs": [],
   "source": [
    "subregions = df_m49[['Sub-region Code', 'Sub-region Name']]\\\n",
    "                    .dropna()\\\n",
    "                    .drop_duplicates()\\\n",
    "                    .rename(columns={\n",
    "                        'Sub-region Code': 'm49',\n",
    "                        'Sub-region Name': 'name'\n",
    "                    })"
   ]
  },
  {
   "cell_type": "code",
   "execution_count": 21,
   "metadata": {},
   "outputs": [],
   "source": [
    "itdregions = df_m49[['Intermediate Region Code', 'Intermediate Region Name']]\\\n",
    "                    .dropna()\\\n",
    "                    .drop_duplicates()\\\n",
    "                    .rename(columns={\n",
    "                        'Intermediate Region Code': 'm49',\n",
    "                        'Intermediate Region Name': 'name'\n",
    "                    })"
   ]
  },
  {
   "cell_type": "code",
   "execution_count": 22,
   "metadata": {},
   "outputs": [],
   "source": [
    "regions = pd.concat([continents, subregions, itdregions], ignore_index=True)\\\n",
    "            .astype({'m49': int})"
   ]
  },
  {
   "cell_type": "code",
   "execution_count": 23,
   "metadata": {},
   "outputs": [
    {
     "data": {
      "text/plain": [
       "[{'m49': 2, 'name': 'Africa'},\n",
       " {'m49': 19, 'name': 'Americas'},\n",
       " {'m49': 142, 'name': 'Asia'},\n",
       " {'m49': 150, 'name': 'Europe'},\n",
       " {'m49': 9, 'name': 'Oceania'}]"
      ]
     },
     "execution_count": 23,
     "metadata": {},
     "output_type": "execute_result"
    }
   ],
   "source": [
    "region_nodes = regions.to_dict('records')\n",
    "region_nodes[:5]"
   ]
  },
  {
   "cell_type": "code",
   "execution_count": 24,
   "metadata": {},
   "outputs": [],
   "source": [
    "_ = graph_utils.execute_query_with_params(\"MERGE (:Region{m49: $m49, name: $name})\",\n",
    "                                          *region_nodes)"
   ]
  },
  {
   "cell_type": "markdown",
   "metadata": {},
   "source": [
    "### Country Nodes"
   ]
  },
  {
   "cell_type": "code",
   "execution_count": 25,
   "metadata": {},
   "outputs": [],
   "source": [
    "countries = df_m49[['ISO-alpha3 Code', 'ISO-alpha2 Code', 'Country or Area']]\\\n",
    "                    .dropna()\\\n",
    "                    .drop_duplicates()\\\n",
    "                    .rename(columns={\n",
    "                        'ISO-alpha3 Code': 'iso3',\n",
    "                        'ISO-alpha2 Code': 'iso2',\n",
    "                        'Country or Area': 'name'\n",
    "                    })"
   ]
  },
  {
   "cell_type": "code",
   "execution_count": 26,
   "metadata": {},
   "outputs": [
    {
     "data": {
      "text/plain": [
       "[{'iso3': 'DZA', 'iso2': 'DZ', 'name': 'Algeria'},\n",
       " {'iso3': 'EGY', 'iso2': 'EG', 'name': 'Egypt'},\n",
       " {'iso3': 'LBY', 'iso2': 'LY', 'name': 'Libya'},\n",
       " {'iso3': 'MAR', 'iso2': 'MA', 'name': 'Morocco'},\n",
       " {'iso3': 'SDN', 'iso2': 'SD', 'name': 'Sudan'}]"
      ]
     },
     "execution_count": 26,
     "metadata": {},
     "output_type": "execute_result"
    }
   ],
   "source": [
    "country_nodes = countries.to_dict('records')\n",
    "country_nodes[:5]"
   ]
  },
  {
   "cell_type": "code",
   "execution_count": 27,
   "metadata": {},
   "outputs": [],
   "source": [
    "_ = graph_utils.execute_query_with_params(\"MERGE (:Country{iso3: $iso3, name: $name, iso2: $iso2})\",\n",
    "                                          *country_nodes)"
   ]
  },
  {
   "cell_type": "markdown",
   "metadata": {},
   "source": [
    "### Country IS_IN Region Relationships"
   ]
  },
  {
   "cell_type": "code",
   "execution_count": 28,
   "metadata": {},
   "outputs": [],
   "source": [
    "country_continent = df_m49[['ISO-alpha3 Code', 'Region Code']]\\\n",
    "                            .dropna()\\\n",
    "                            .drop_duplicates()\\\n",
    "                            .rename(columns={\n",
    "                                'ISO-alpha3 Code': 'iso3',\n",
    "                                'Region Code': 'm49'\n",
    "                            })"
   ]
  },
  {
   "cell_type": "code",
   "execution_count": 29,
   "metadata": {},
   "outputs": [],
   "source": [
    "country_subregion = df_m49[['ISO-alpha3 Code', 'Sub-region Code']]\\\n",
    "                            .dropna()\\\n",
    "                            .drop_duplicates()\\\n",
    "                            .rename(columns={\n",
    "                                'ISO-alpha3 Code': 'iso3',\n",
    "                                'Sub-region Code': 'm49'\n",
    "                            })"
   ]
  },
  {
   "cell_type": "code",
   "execution_count": 30,
   "metadata": {},
   "outputs": [],
   "source": [
    "country_itdregion = df_m49[['ISO-alpha3 Code', 'Intermediate Region Code']]\\\n",
    "                            .dropna()\\\n",
    "                            .drop_duplicates()\\\n",
    "                            .rename(columns={\n",
    "                                'ISO-alpha3 Code': 'iso3',\n",
    "                                'Intermediate Region Code': 'm49'\n",
    "                            })"
   ]
  },
  {
   "cell_type": "code",
   "execution_count": 31,
   "metadata": {},
   "outputs": [],
   "source": [
    "country_region = pd.concat([country_continent, country_subregion, country_itdregion], ignore_index=True)"
   ]
  },
  {
   "cell_type": "code",
   "execution_count": 32,
   "metadata": {},
   "outputs": [
    {
     "data": {
      "text/plain": [
       "[{'iso3': 'DZA', 'm49': 2.0},\n",
       " {'iso3': 'EGY', 'm49': 2.0},\n",
       " {'iso3': 'LBY', 'm49': 2.0},\n",
       " {'iso3': 'MAR', 'm49': 2.0},\n",
       " {'iso3': 'SDN', 'm49': 2.0}]"
      ]
     },
     "execution_count": 32,
     "metadata": {},
     "output_type": "execute_result"
    }
   ],
   "source": [
    "isin_relationships = country_region.to_dict('records')\n",
    "isin_relationships[:5]"
   ]
  },
  {
   "cell_type": "code",
   "execution_count": 33,
   "metadata": {},
   "outputs": [],
   "source": [
    "_ = graph_utils.execute_query_with_params('''\n",
    "MATCH\n",
    "    (c:Country{iso3: $iso3}),\n",
    "    (r:Region{m49: $m49})\n",
    "MERGE (c)-[:IS_IN]->(r)''', *isin_relationships)"
   ]
  },
  {
   "cell_type": "markdown",
   "metadata": {},
   "source": [
    "### Country Aliases Property"
   ]
  },
  {
   "cell_type": "markdown",
   "metadata": {},
   "source": [
    "Alternative names for countries. Source: [Kaggle](https://www.kaggle.com/datasets/wbdill/country-aliaseslist-of-alternative-country-names)/[Wikipedia](https://en.wikipedia.org/wiki/List_of_alternative_country_names)"
   ]
  },
  {
   "cell_type": "code",
   "execution_count": 34,
   "metadata": {},
   "outputs": [],
   "source": [
    "df_alias = pd.read_csv('../data/country_aliases.csv')"
   ]
  },
  {
   "cell_type": "code",
   "execution_count": 35,
   "metadata": {},
   "outputs": [],
   "source": [
    "def split_alias(row):\n",
    "    '''\n",
    "    Splits a row if Alias contains multiple aliases seperated by \" or \"\n",
    "    '''\n",
    "    if ' or ' in row['Alias']:\n",
    "        values = row['Alias'].split(' or ')\n",
    "        return pd.DataFrame({'iso3': [row['iso3']] * len(values), 'Alias': values})\n",
    "    return pd.DataFrame({'iso3': [row['iso3']], 'Alias': [row['Alias']]})"
   ]
  },
  {
   "cell_type": "code",
   "execution_count": 36,
   "metadata": {},
   "outputs": [],
   "source": [
    "aliases = pd.concat([split_alias(row) for _, row in df_alias.iterrows()],\n",
    "                  ignore_index=True)\\\n",
    "        .dropna()\\\n",
    "        .drop_duplicates()\\\n",
    "        .rename(columns={'Alias': 'alias'})"
   ]
  },
  {
   "cell_type": "code",
   "execution_count": 37,
   "metadata": {},
   "outputs": [
    {
     "data": {
      "text/plain": [
       "[{'iso3': 'AFG', 'alias': 'Afghanistan'},\n",
       " {'iso3': 'AFG', 'alias': 'Islamic Republic of Afghanistan'},\n",
       " {'iso3': 'AFG', 'alias': 'Da Afganistan Islami Jumhoryat'},\n",
       " {'iso3': 'AFG', 'alias': 'Jomhuriyyeh Eslamiyyeh Afganestan'},\n",
       " {'iso3': 'ALB', 'alias': 'Albania'}]"
      ]
     },
     "execution_count": 37,
     "metadata": {},
     "output_type": "execute_result"
    }
   ],
   "source": [
    "country_aliases = aliases.to_dict('records')\n",
    "country_aliases[:5]"
   ]
  },
  {
   "cell_type": "code",
   "execution_count": null,
   "metadata": {},
   "outputs": [
    {
     "data": {
      "text/plain": [
       "[EagerResult(records=[], summary=<neo4j._work.summary.ResultSummary object at 0x165b5b7d0>, keys=[]),\n",
       " EagerResult(records=[], summary=<neo4j._work.summary.ResultSummary object at 0x165b5a790>, keys=[]),\n",
       " EagerResult(records=[], summary=<neo4j._work.summary.ResultSummary object at 0x165b593d0>, keys=[]),\n",
       " EagerResult(records=[], summary=<neo4j._work.summary.ResultSummary object at 0x16600be90>, keys=[]),\n",
       " EagerResult(records=[], summary=<neo4j._work.summary.ResultSummary object at 0x166008750>, keys=[]),\n",
       " EagerResult(records=[], summary=<neo4j._work.summary.ResultSummary object at 0x166000a50>, keys=[]),\n",
       " EagerResult(records=[], summary=<neo4j._work.summary.ResultSummary object at 0x166002a50>, keys=[]),\n",
       " EagerResult(records=[], summary=<neo4j._work.summary.ResultSummary object at 0x165ffa010>, keys=[]),\n",
       " EagerResult(records=[], summary=<neo4j._work.summary.ResultSummary object at 0x165ff2850>, keys=[]),\n",
       " EagerResult(records=[], summary=<neo4j._work.summary.ResultSummary object at 0x165ff2050>, keys=[]),\n",
       " EagerResult(records=[], summary=<neo4j._work.summary.ResultSummary object at 0x165fed110>, keys=[]),\n",
       " EagerResult(records=[], summary=<neo4j._work.summary.ResultSummary object at 0x165feca90>, keys=[]),\n",
       " EagerResult(records=[], summary=<neo4j._work.summary.ResultSummary object at 0x165fea8d0>, keys=[]),\n",
       " EagerResult(records=[], summary=<neo4j._work.summary.ResultSummary object at 0x165fe8850>, keys=[]),\n",
       " EagerResult(records=[], summary=<neo4j._work.summary.ResultSummary object at 0x165fdc890>, keys=[]),\n",
       " EagerResult(records=[], summary=<neo4j._work.summary.ResultSummary object at 0x165fdc610>, keys=[]),\n",
       " EagerResult(records=[], summary=<neo4j._work.summary.ResultSummary object at 0x165fcf090>, keys=[]),\n",
       " EagerResult(records=[], summary=<neo4j._work.summary.ResultSummary object at 0x165fcc450>, keys=[]),\n",
       " EagerResult(records=[], summary=<neo4j._work.summary.ResultSummary object at 0x165b4c5d0>, keys=[]),\n",
       " EagerResult(records=[], summary=<neo4j._work.summary.ResultSummary object at 0x165b4f650>, keys=[]),\n",
       " EagerResult(records=[], summary=<neo4j._work.summary.ResultSummary object at 0x165b4dfd0>, keys=[]),\n",
       " EagerResult(records=[], summary=<neo4j._work.summary.ResultSummary object at 0x165b4c950>, keys=[]),\n",
       " EagerResult(records=[], summary=<neo4j._work.summary.ResultSummary object at 0x165fc6ed0>, keys=[]),\n",
       " EagerResult(records=[], summary=<neo4j._work.summary.ResultSummary object at 0x165fc6950>, keys=[]),\n",
       " EagerResult(records=[], summary=<neo4j._work.summary.ResultSummary object at 0x165fbaa10>, keys=[]),\n",
       " EagerResult(records=[], summary=<neo4j._work.summary.ResultSummary object at 0x165fb9750>, keys=[]),\n",
       " EagerResult(records=[], summary=<neo4j._work.summary.ResultSummary object at 0x165fb0390>, keys=[]),\n",
       " EagerResult(records=[], summary=<neo4j._work.summary.ResultSummary object at 0x165fabe10>, keys=[]),\n",
       " EagerResult(records=[], summary=<neo4j._work.summary.ResultSummary object at 0x165fa9210>, keys=[]),\n",
       " EagerResult(records=[], summary=<neo4j._work.summary.ResultSummary object at 0x165fa2c90>, keys=[]),\n",
       " EagerResult(records=[], summary=<neo4j._work.summary.ResultSummary object at 0x165fa3390>, keys=[]),\n",
       " EagerResult(records=[], summary=<neo4j._work.summary.ResultSummary object at 0x165f9e910>, keys=[]),\n",
       " EagerResult(records=[], summary=<neo4j._work.summary.ResultSummary object at 0x165f9e5d0>, keys=[]),\n",
       " EagerResult(records=[], summary=<neo4j._work.summary.ResultSummary object at 0x165f9a4d0>, keys=[]),\n",
       " EagerResult(records=[], summary=<neo4j._work.summary.ResultSummary object at 0x165f9a410>, keys=[]),\n",
       " EagerResult(records=[], summary=<neo4j._work.summary.ResultSummary object at 0x165f8e150>, keys=[]),\n",
       " EagerResult(records=[], summary=<neo4j._work.summary.ResultSummary object at 0x165f8c050>, keys=[]),\n",
       " EagerResult(records=[], summary=<neo4j._work.summary.ResultSummary object at 0x165f84a50>, keys=[]),\n",
       " EagerResult(records=[], summary=<neo4j._work.summary.ResultSummary object at 0x165f84750>, keys=[]),\n",
       " EagerResult(records=[], summary=<neo4j._work.summary.ResultSummary object at 0x165b45310>, keys=[]),\n",
       " EagerResult(records=[], summary=<neo4j._work.summary.ResultSummary object at 0x165b462d0>, keys=[]),\n",
       " EagerResult(records=[], summary=<neo4j._work.summary.ResultSummary object at 0x165b45fd0>, keys=[]),\n",
       " EagerResult(records=[], summary=<neo4j._work.summary.ResultSummary object at 0x165b44cd0>, keys=[]),\n",
       " EagerResult(records=[], summary=<neo4j._work.summary.ResultSummary object at 0x165f78290>, keys=[]),\n",
       " EagerResult(records=[], summary=<neo4j._work.summary.ResultSummary object at 0x165f79e50>, keys=[]),\n",
       " EagerResult(records=[], summary=<neo4j._work.summary.ResultSummary object at 0x165f734d0>, keys=[]),\n",
       " EagerResult(records=[], summary=<neo4j._work.summary.ResultSummary object at 0x165f71210>, keys=[]),\n",
       " EagerResult(records=[], summary=<neo4j._work.summary.ResultSummary object at 0x165f68150>, keys=[]),\n",
       " EagerResult(records=[], summary=<neo4j._work.summary.ResultSummary object at 0x165f68b90>, keys=[]),\n",
       " EagerResult(records=[], summary=<neo4j._work.summary.ResultSummary object at 0x165f60810>, keys=[]),\n",
       " EagerResult(records=[], summary=<neo4j._work.summary.ResultSummary object at 0x165f61dd0>, keys=[]),\n",
       " EagerResult(records=[], summary=<neo4j._work.summary.ResultSummary object at 0x165f58cd0>, keys=[]),\n",
       " EagerResult(records=[], summary=<neo4j._work.summary.ResultSummary object at 0x165f58550>, keys=[]),\n",
       " EagerResult(records=[], summary=<neo4j._work.summary.ResultSummary object at 0x165f53490>, keys=[]),\n",
       " EagerResult(records=[], summary=<neo4j._work.summary.ResultSummary object at 0x165f51290>, keys=[]),\n",
       " EagerResult(records=[], summary=<neo4j._work.summary.ResultSummary object at 0x165f4e1d0>, keys=[]),\n",
       " EagerResult(records=[], summary=<neo4j._work.summary.ResultSummary object at 0x165f46e50>, keys=[]),\n",
       " EagerResult(records=[], summary=<neo4j._work.summary.ResultSummary object at 0x165f45050>, keys=[]),\n",
       " EagerResult(records=[], summary=<neo4j._work.summary.ResultSummary object at 0x165b434d0>, keys=[]),\n",
       " EagerResult(records=[], summary=<neo4j._work.summary.ResultSummary object at 0x165b43b90>, keys=[]),\n",
       " EagerResult(records=[], summary=<neo4j._work.summary.ResultSummary object at 0x165b42d10>, keys=[]),\n",
       " EagerResult(records=[], summary=<neo4j._work.summary.ResultSummary object at 0x165b41910>, keys=[]),\n",
       " EagerResult(records=[], summary=<neo4j._work.summary.ResultSummary object at 0x165f3fa90>, keys=[]),\n",
       " EagerResult(records=[], summary=<neo4j._work.summary.ResultSummary object at 0x165f3d410>, keys=[]),\n",
       " EagerResult(records=[], summary=<neo4j._work.summary.ResultSummary object at 0x165f29710>, keys=[]),\n",
       " EagerResult(records=[], summary=<neo4j._work.summary.ResultSummary object at 0x165f29a10>, keys=[]),\n",
       " EagerResult(records=[], summary=<neo4j._work.summary.ResultSummary object at 0x165f212d0>, keys=[]),\n",
       " EagerResult(records=[], summary=<neo4j._work.summary.ResultSummary object at 0x165f22050>, keys=[]),\n",
       " EagerResult(records=[], summary=<neo4j._work.summary.ResultSummary object at 0x165f18990>, keys=[]),\n",
       " EagerResult(records=[], summary=<neo4j._work.summary.ResultSummary object at 0x165f18ad0>, keys=[]),\n",
       " EagerResult(records=[], summary=<neo4j._work.summary.ResultSummary object at 0x165f103d0>, keys=[]),\n",
       " EagerResult(records=[], summary=<neo4j._work.summary.ResultSummary object at 0x165f10510>, keys=[]),\n",
       " EagerResult(records=[], summary=<neo4j._work.summary.ResultSummary object at 0x165f09090>, keys=[]),\n",
       " EagerResult(records=[], summary=<neo4j._work.summary.ResultSummary object at 0x165f09550>, keys=[]),\n",
       " EagerResult(records=[], summary=<neo4j._work.summary.ResultSummary object at 0x165f06590>, keys=[]),\n",
       " EagerResult(records=[], summary=<neo4j._work.summary.ResultSummary object at 0x165f06f90>, keys=[]),\n",
       " EagerResult(records=[], summary=<neo4j._work.summary.ResultSummary object at 0x165efffd0>, keys=[]),\n",
       " EagerResult(records=[], summary=<neo4j._work.summary.ResultSummary object at 0x165efcc50>, keys=[]),\n",
       " EagerResult(records=[], summary=<neo4j._work.summary.ResultSummary object at 0x165b3d3d0>, keys=[]),\n",
       " EagerResult(records=[], summary=<neo4j._work.summary.ResultSummary object at 0x165b3e990>, keys=[]),\n",
       " EagerResult(records=[], summary=<neo4j._work.summary.ResultSummary object at 0x165b3cdd0>, keys=[]),\n",
       " EagerResult(records=[], summary=<neo4j._work.summary.ResultSummary object at 0x165b3c5d0>, keys=[]),\n",
       " EagerResult(records=[], summary=<neo4j._work.summary.ResultSummary object at 0x165ef4950>, keys=[]),\n",
       " EagerResult(records=[], summary=<neo4j._work.summary.ResultSummary object at 0x165ef5350>, keys=[]),\n",
       " EagerResult(records=[], summary=<neo4j._work.summary.ResultSummary object at 0x165ef2590>, keys=[]),\n",
       " EagerResult(records=[], summary=<neo4j._work.summary.ResultSummary object at 0x165ef0190>, keys=[]),\n",
       " EagerResult(records=[], summary=<neo4j._work.summary.ResultSummary object at 0x165ee2190>, keys=[]),\n",
       " EagerResult(records=[], summary=<neo4j._work.summary.ResultSummary object at 0x165ede8d0>, keys=[]),\n",
       " EagerResult(records=[], summary=<neo4j._work.summary.ResultSummary object at 0x165edcc90>, keys=[]),\n",
       " EagerResult(records=[], summary=<neo4j._work.summary.ResultSummary object at 0x165ed6c50>, keys=[]),\n",
       " EagerResult(records=[], summary=<neo4j._work.summary.ResultSummary object at 0x165ed5810>, keys=[]),\n",
       " EagerResult(records=[], summary=<neo4j._work.summary.ResultSummary object at 0x165eca410>, keys=[]),\n",
       " EagerResult(records=[], summary=<neo4j._work.summary.ResultSummary object at 0x165eca310>, keys=[]),\n",
       " EagerResult(records=[], summary=<neo4j._work.summary.ResultSummary object at 0x165ec2590>, keys=[]),\n",
       " EagerResult(records=[], summary=<neo4j._work.summary.ResultSummary object at 0x165ec04d0>, keys=[]),\n",
       " EagerResult(records=[], summary=<neo4j._work.summary.ResultSummary object at 0x165ebee10>, keys=[]),\n",
       " EagerResult(records=[], summary=<neo4j._work.summary.ResultSummary object at 0x165ebc750>, keys=[]),\n",
       " EagerResult(records=[], summary=<neo4j._work.summary.ResultSummary object at 0x165b3a190>, keys=[]),\n",
       " EagerResult(records=[], summary=<neo4j._work.summary.ResultSummary object at 0x165b3afd0>, keys=[]),\n",
       " EagerResult(records=[], summary=<neo4j._work.summary.ResultSummary object at 0x165b3a450>, keys=[]),\n",
       " EagerResult(records=[], summary=<neo4j._work.summary.ResultSummary object at 0x165b390d0>, keys=[]),\n",
       " EagerResult(records=[], summary=<neo4j._work.summary.ResultSummary object at 0x165eb6a10>, keys=[]),\n",
       " EagerResult(records=[], summary=<neo4j._work.summary.ResultSummary object at 0x165eb4950>, keys=[]),\n",
       " EagerResult(records=[], summary=<neo4j._work.summary.ResultSummary object at 0x165ead310>, keys=[]),\n",
       " EagerResult(records=[], summary=<neo4j._work.summary.ResultSummary object at 0x165ead510>, keys=[]),\n",
       " EagerResult(records=[], summary=<neo4j._work.summary.ResultSummary object at 0x165ea7310>, keys=[]),\n",
       " EagerResult(records=[], summary=<neo4j._work.summary.ResultSummary object at 0x165ea5bd0>, keys=[]),\n",
       " EagerResult(records=[], summary=<neo4j._work.summary.ResultSummary object at 0x165e96d10>, keys=[]),\n",
       " EagerResult(records=[], summary=<neo4j._work.summary.ResultSummary object at 0x165e94990>, keys=[]),\n",
       " EagerResult(records=[], summary=<neo4j._work.summary.ResultSummary object at 0x165e8c710>, keys=[]),\n",
       " EagerResult(records=[], summary=<neo4j._work.summary.ResultSummary object at 0x165e8e590>, keys=[]),\n",
       " EagerResult(records=[], summary=<neo4j._work.summary.ResultSummary object at 0x165e876d0>, keys=[]),\n",
       " EagerResult(records=[], summary=<neo4j._work.summary.ResultSummary object at 0x165e83750>, keys=[]),\n",
       " EagerResult(records=[], summary=<neo4j._work.summary.ResultSummary object at 0x165e82e50>, keys=[]),\n",
       " EagerResult(records=[], summary=<neo4j._work.summary.ResultSummary object at 0x165e7fed0>, keys=[]),\n",
       " EagerResult(records=[], summary=<neo4j._work.summary.ResultSummary object at 0x165e7c690>, keys=[]),\n",
       " EagerResult(records=[], summary=<neo4j._work.summary.ResultSummary object at 0x165b32610>, keys=[]),\n",
       " EagerResult(records=[], summary=<neo4j._work.summary.ResultSummary object at 0x165b32350>, keys=[]),\n",
       " EagerResult(records=[], summary=<neo4j._work.summary.ResultSummary object at 0x165b32950>, keys=[]),\n",
       " EagerResult(records=[], summary=<neo4j._work.summary.ResultSummary object at 0x165b30fd0>, keys=[]),\n",
       " EagerResult(records=[], summary=<neo4j._work.summary.ResultSummary object at 0x165e6b590>, keys=[]),\n",
       " EagerResult(records=[], summary=<neo4j._work.summary.ResultSummary object at 0x165e6a5d0>, keys=[]),\n",
       " EagerResult(records=[], summary=<neo4j._work.summary.ResultSummary object at 0x165e63810>, keys=[]),\n",
       " EagerResult(records=[], summary=<neo4j._work.summary.ResultSummary object at 0x165e63ed0>, keys=[]),\n",
       " EagerResult(records=[], summary=<neo4j._work.summary.ResultSummary object at 0x165e5cf50>, keys=[]),\n",
       " EagerResult(records=[], summary=<neo4j._work.summary.ResultSummary object at 0x165e5c7d0>, keys=[]),\n",
       " EagerResult(records=[], summary=<neo4j._work.summary.ResultSummary object at 0x165e59f50>, keys=[]),\n",
       " EagerResult(records=[], summary=<neo4j._work.summary.ResultSummary object at 0x165e59dd0>, keys=[]),\n",
       " EagerResult(records=[], summary=<neo4j._work.summary.ResultSummary object at 0x165e4d690>, keys=[]),\n",
       " EagerResult(records=[], summary=<neo4j._work.summary.ResultSummary object at 0x165e4ead0>, keys=[]),\n",
       " EagerResult(records=[], summary=<neo4j._work.summary.ResultSummary object at 0x165e3e9d0>, keys=[]),\n",
       " EagerResult(records=[], summary=<neo4j._work.summary.ResultSummary object at 0x165e3c150>, keys=[]),\n",
       " EagerResult(records=[], summary=<neo4j._work.summary.ResultSummary object at 0x165e38110>, keys=[]),\n",
       " EagerResult(records=[], summary=<neo4j._work.summary.ResultSummary object at 0x165e33cd0>, keys=[]),\n",
       " EagerResult(records=[], summary=<neo4j._work.summary.ResultSummary object at 0x165e33150>, keys=[]),\n",
       " EagerResult(records=[], summary=<neo4j._work.summary.ResultSummary object at 0x165b2b210>, keys=[]),\n",
       " EagerResult(records=[], summary=<neo4j._work.summary.ResultSummary object at 0x165b2bf90>, keys=[]),\n",
       " EagerResult(records=[], summary=<neo4j._work.summary.ResultSummary object at 0x165b2add0>, keys=[]),\n",
       " EagerResult(records=[], summary=<neo4j._work.summary.ResultSummary object at 0x165b295d0>, keys=[]),\n",
       " EagerResult(records=[], summary=<neo4j._work.summary.ResultSummary object at 0x165e27c90>, keys=[]),\n",
       " EagerResult(records=[], summary=<neo4j._work.summary.ResultSummary object at 0x165e25650>, keys=[]),\n",
       " EagerResult(records=[], summary=<neo4j._work.summary.ResultSummary object at 0x165e22590>, keys=[]),\n",
       " EagerResult(records=[], summary=<neo4j._work.summary.ResultSummary object at 0x165e206d0>, keys=[]),\n",
       " EagerResult(records=[], summary=<neo4j._work.summary.ResultSummary object at 0x165e1a5d0>, keys=[]),\n",
       " EagerResult(records=[], summary=<neo4j._work.summary.ResultSummary object at 0x165e19250>, keys=[]),\n",
       " EagerResult(records=[], summary=<neo4j._work.summary.ResultSummary object at 0x165e10f10>, keys=[]),\n",
       " EagerResult(records=[], summary=<neo4j._work.summary.ResultSummary object at 0x165e13e10>, keys=[]),\n",
       " EagerResult(records=[], summary=<neo4j._work.summary.ResultSummary object at 0x165e0cfd0>, keys=[]),\n",
       " EagerResult(records=[], summary=<neo4j._work.summary.ResultSummary object at 0x165e0d050>, keys=[]),\n",
       " EagerResult(records=[], summary=<neo4j._work.summary.ResultSummary object at 0x165dff9d0>, keys=[]),\n",
       " EagerResult(records=[], summary=<neo4j._work.summary.ResultSummary object at 0x165dfc810>, keys=[]),\n",
       " EagerResult(records=[], summary=<neo4j._work.summary.ResultSummary object at 0x165df2310>, keys=[]),\n",
       " EagerResult(records=[], summary=<neo4j._work.summary.ResultSummary object at 0x165df1850>, keys=[]),\n",
       " EagerResult(records=[], summary=<neo4j._work.summary.ResultSummary object at 0x165deac50>, keys=[]),\n",
       " EagerResult(records=[], summary=<neo4j._work.summary.ResultSummary object at 0x165de7d10>, keys=[]),\n",
       " EagerResult(records=[], summary=<neo4j._work.summary.ResultSummary object at 0x165de4a10>, keys=[]),\n",
       " EagerResult(records=[], summary=<neo4j._work.summary.ResultSummary object at 0x165b26cd0>, keys=[]),\n",
       " EagerResult(records=[], summary=<neo4j._work.summary.ResultSummary object at 0x165b242d0>, keys=[]),\n",
       " EagerResult(records=[], summary=<neo4j._work.summary.ResultSummary object at 0x165b26c10>, keys=[]),\n",
       " EagerResult(records=[], summary=<neo4j._work.summary.ResultSummary object at 0x165b25790>, keys=[]),\n",
       " EagerResult(records=[], summary=<neo4j._work.summary.ResultSummary object at 0x165ddf810>, keys=[]),\n",
       " EagerResult(records=[], summary=<neo4j._work.summary.ResultSummary object at 0x165ddd510>, keys=[]),\n",
       " EagerResult(records=[], summary=<neo4j._work.summary.ResultSummary object at 0x165ddb6d0>, keys=[]),\n",
       " EagerResult(records=[], summary=<neo4j._work.summary.ResultSummary object at 0x165dd87d0>, keys=[]),\n",
       " EagerResult(records=[], summary=<neo4j._work.summary.ResultSummary object at 0x165dd5fd0>, keys=[]),\n",
       " EagerResult(records=[], summary=<neo4j._work.summary.ResultSummary object at 0x165dd6b90>, keys=[]),\n",
       " EagerResult(records=[], summary=<neo4j._work.summary.ResultSummary object at 0x165dcd7d0>, keys=[]),\n",
       " EagerResult(records=[], summary=<neo4j._work.summary.ResultSummary object at 0x165dced90>, keys=[]),\n",
       " EagerResult(records=[], summary=<neo4j._work.summary.ResultSummary object at 0x165dbc810>, keys=[]),\n",
       " EagerResult(records=[], summary=<neo4j._work.summary.ResultSummary object at 0x165dbf410>, keys=[]),\n",
       " EagerResult(records=[], summary=<neo4j._work.summary.ResultSummary object at 0x165daa590>, keys=[]),\n",
       " EagerResult(records=[], summary=<neo4j._work.summary.ResultSummary object at 0x165da8310>, keys=[]),\n",
       " EagerResult(records=[], summary=<neo4j._work.summary.ResultSummary object at 0x165da3190>, keys=[]),\n",
       " EagerResult(records=[], summary=<neo4j._work.summary.ResultSummary object at 0x165d9f9d0>, keys=[]),\n",
       " EagerResult(records=[], summary=<neo4j._work.summary.ResultSummary object at 0x165d9e750>, keys=[]),\n",
       " EagerResult(records=[], summary=<neo4j._work.summary.ResultSummary object at 0x165b1b8d0>, keys=[]),\n",
       " EagerResult(records=[], summary=<neo4j._work.summary.ResultSummary object at 0x165b18650>, keys=[]),\n",
       " EagerResult(records=[], summary=<neo4j._work.summary.ResultSummary object at 0x165b1b290>, keys=[]),\n",
       " EagerResult(records=[], summary=<neo4j._work.summary.ResultSummary object at 0x165b194d0>, keys=[]),\n",
       " EagerResult(records=[], summary=<neo4j._work.summary.ResultSummary object at 0x16495a8d0>, keys=[]),\n",
       " EagerResult(records=[], summary=<neo4j._work.summary.ResultSummary object at 0x165d99bd0>, keys=[]),\n",
       " EagerResult(records=[], summary=<neo4j._work.summary.ResultSummary object at 0x165d983d0>, keys=[]),\n",
       " EagerResult(records=[], summary=<neo4j._work.summary.ResultSummary object at 0x165d953d0>, keys=[]),\n",
       " EagerResult(records=[], summary=<neo4j._work.summary.ResultSummary object at 0x165d96210>, keys=[]),\n",
       " EagerResult(records=[], summary=<neo4j._work.summary.ResultSummary object at 0x165d91d50>, keys=[]),\n",
       " EagerResult(records=[], summary=<neo4j._work.summary.ResultSummary object at 0x165d879d0>, keys=[]),\n",
       " EagerResult(records=[], summary=<neo4j._work.summary.ResultSummary object at 0x165d86ad0>, keys=[]),\n",
       " EagerResult(records=[], summary=<neo4j._work.summary.ResultSummary object at 0x165d81910>, keys=[]),\n",
       " EagerResult(records=[], summary=<neo4j._work.summary.ResultSummary object at 0x165d81a10>, keys=[]),\n",
       " EagerResult(records=[], summary=<neo4j._work.summary.ResultSummary object at 0x165d7e890>, keys=[]),\n",
       " EagerResult(records=[], summary=<neo4j._work.summary.ResultSummary object at 0x165d7d250>, keys=[]),\n",
       " EagerResult(records=[], summary=<neo4j._work.summary.ResultSummary object at 0x165d6d350>, keys=[]),\n",
       " EagerResult(records=[], summary=<neo4j._work.summary.ResultSummary object at 0x165d6d090>, keys=[]),\n",
       " EagerResult(records=[], summary=<neo4j._work.summary.ResultSummary object at 0x165d64a10>, keys=[]),\n",
       " EagerResult(records=[], summary=<neo4j._work.summary.ResultSummary object at 0x165d67b50>, keys=[]),\n",
       " EagerResult(records=[], summary=<neo4j._work.summary.ResultSummary object at 0x165d60550>, keys=[]),\n",
       " EagerResult(records=[], summary=<neo4j._work.summary.ResultSummary object at 0x165d612d0>, keys=[]),\n",
       " EagerResult(records=[], summary=<neo4j._work.summary.ResultSummary object at 0x165b10b90>, keys=[]),\n",
       " EagerResult(records=[], summary=<neo4j._work.summary.ResultSummary object at 0x165b13410>, keys=[]),\n",
       " EagerResult(records=[], summary=<neo4j._work.summary.ResultSummary object at 0x165b10c50>, keys=[]),\n",
       " EagerResult(records=[], summary=<neo4j._work.summary.ResultSummary object at 0x165b10410>, keys=[]),\n",
       " EagerResult(records=[], summary=<neo4j._work.summary.ResultSummary object at 0x165d594d0>, keys=[]),\n",
       " EagerResult(records=[], summary=<neo4j._work.summary.ResultSummary object at 0x165d5a510>, keys=[]),\n",
       " EagerResult(records=[], summary=<neo4j._work.summary.ResultSummary object at 0x165d4dd50>, keys=[]),\n",
       " EagerResult(records=[], summary=<neo4j._work.summary.ResultSummary object at 0x165d4af50>, keys=[]),\n",
       " EagerResult(records=[], summary=<neo4j._work.summary.ResultSummary object at 0x165d4be50>, keys=[]),\n",
       " EagerResult(records=[], summary=<neo4j._work.summary.ResultSummary object at 0x165d41a10>, keys=[]),\n",
       " EagerResult(records=[], summary=<neo4j._work.summary.ResultSummary object at 0x165d41810>, keys=[]),\n",
       " EagerResult(records=[], summary=<neo4j._work.summary.ResultSummary object at 0x165d3e890>, keys=[]),\n",
       " EagerResult(records=[], summary=<neo4j._work.summary.ResultSummary object at 0x165d3d410>, keys=[]),\n",
       " EagerResult(records=[], summary=<neo4j._work.summary.ResultSummary object at 0x165d33710>, keys=[]),\n",
       " EagerResult(records=[], summary=<neo4j._work.summary.ResultSummary object at 0x165d33410>, keys=[]),\n",
       " EagerResult(records=[], summary=<neo4j._work.summary.ResultSummary object at 0x165d2abd0>, keys=[]),\n",
       " EagerResult(records=[], summary=<neo4j._work.summary.ResultSummary object at 0x165d28b10>, keys=[]),\n",
       " EagerResult(records=[], summary=<neo4j._work.summary.ResultSummary object at 0x165d25710>, keys=[]),\n",
       " EagerResult(records=[], summary=<neo4j._work.summary.ResultSummary object at 0x165d24450>, keys=[]),\n",
       " EagerResult(records=[], summary=<neo4j._work.summary.ResultSummary object at 0x165b0ce10>, keys=[]),\n",
       " EagerResult(records=[], summary=<neo4j._work.summary.ResultSummary object at 0x165b0f5d0>, keys=[]),\n",
       " EagerResult(records=[], summary=<neo4j._work.summary.ResultSummary object at 0x165b0df50>, keys=[]),\n",
       " EagerResult(records=[], summary=<neo4j._work.summary.ResultSummary object at 0x165b0c610>, keys=[]),\n",
       " EagerResult(records=[], summary=<neo4j._work.summary.ResultSummary object at 0x165d19210>, keys=[]),\n",
       " EagerResult(records=[], summary=<neo4j._work.summary.ResultSummary object at 0x165d18110>, keys=[]),\n",
       " EagerResult(records=[], summary=<neo4j._work.summary.ResultSummary object at 0x165bb5ad0>, keys=[]),\n",
       " EagerResult(records=[], summary=<neo4j._work.summary.ResultSummary object at 0x165bb5c90>, keys=[]),\n",
       " EagerResult(records=[], summary=<neo4j._work.summary.ResultSummary object at 0x165bb4850>, keys=[]),\n",
       " EagerResult(records=[], summary=<neo4j._work.summary.ResultSummary object at 0x165bb4910>, keys=[]),\n",
       " EagerResult(records=[], summary=<neo4j._work.summary.ResultSummary object at 0x165bbd210>, keys=[]),\n",
       " EagerResult(records=[], summary=<neo4j._work.summary.ResultSummary object at 0x165bbd010>, keys=[]),\n",
       " EagerResult(records=[], summary=<neo4j._work.summary.ResultSummary object at 0x165bbdc50>, keys=[]),\n",
       " EagerResult(records=[], summary=<neo4j._work.summary.ResultSummary object at 0x165bc0810>, keys=[]),\n",
       " EagerResult(records=[], summary=<neo4j._work.summary.ResultSummary object at 0x165bc1c90>, keys=[]),\n",
       " EagerResult(records=[], summary=<neo4j._work.summary.ResultSummary object at 0x165bc1290>, keys=[]),\n",
       " EagerResult(records=[], summary=<neo4j._work.summary.ResultSummary object at 0x165bc1590>, keys=[]),\n",
       " EagerResult(records=[], summary=<neo4j._work.summary.ResultSummary object at 0x165bd00d0>, keys=[]),\n",
       " EagerResult(records=[], summary=<neo4j._work.summary.ResultSummary object at 0x165bd10d0>, keys=[]),\n",
       " EagerResult(records=[], summary=<neo4j._work.summary.ResultSummary object at 0x165bd2550>, keys=[]),\n",
       " EagerResult(records=[], summary=<neo4j._work.summary.ResultSummary object at 0x165bd2950>, keys=[]),\n",
       " EagerResult(records=[], summary=<neo4j._work.summary.ResultSummary object at 0x165bdca10>, keys=[]),\n",
       " EagerResult(records=[], summary=<neo4j._work.summary.ResultSummary object at 0x165bdc810>, keys=[]),\n",
       " EagerResult(records=[], summary=<neo4j._work.summary.ResultSummary object at 0x165bdfdd0>, keys=[]),\n",
       " EagerResult(records=[], summary=<neo4j._work.summary.ResultSummary object at 0x165bde150>, keys=[]),\n",
       " EagerResult(records=[], summary=<neo4j._work.summary.ResultSummary object at 0x165be21d0>, keys=[]),\n",
       " EagerResult(records=[], summary=<neo4j._work.summary.ResultSummary object at 0x165be3310>, keys=[]),\n",
       " EagerResult(records=[], summary=<neo4j._work.summary.ResultSummary object at 0x165be05d0>, keys=[]),\n",
       " EagerResult(records=[], summary=<neo4j._work.summary.ResultSummary object at 0x165be9790>, keys=[]),\n",
       " EagerResult(records=[], summary=<neo4j._work.summary.ResultSummary object at 0x165beae90>, keys=[]),\n",
       " EagerResult(records=[], summary=<neo4j._work.summary.ResultSummary object at 0x165be9350>, keys=[]),\n",
       " EagerResult(records=[], summary=<neo4j._work.summary.ResultSummary object at 0x165be9250>, keys=[]),\n",
       " EagerResult(records=[], summary=<neo4j._work.summary.ResultSummary object at 0x165bf0710>, keys=[]),\n",
       " EagerResult(records=[], summary=<neo4j._work.summary.ResultSummary object at 0x165bf2d50>, keys=[]),\n",
       " EagerResult(records=[], summary=<neo4j._work.summary.ResultSummary object at 0x165bf3910>, keys=[]),\n",
       " EagerResult(records=[], summary=<neo4j._work.summary.ResultSummary object at 0x165bf1fd0>, keys=[]),\n",
       " EagerResult(records=[], summary=<neo4j._work.summary.ResultSummary object at 0x165bf47d0>, keys=[]),\n",
       " EagerResult(records=[], summary=<neo4j._work.summary.ResultSummary object at 0x165bf4410>, keys=[]),\n",
       " EagerResult(records=[], summary=<neo4j._work.summary.ResultSummary object at 0x165bf5d10>, keys=[]),\n",
       " EagerResult(records=[], summary=<neo4j._work.summary.ResultSummary object at 0x165c00650>, keys=[]),\n",
       " EagerResult(records=[], summary=<neo4j._work.summary.ResultSummary object at 0x165c01290>, keys=[]),\n",
       " EagerResult(records=[], summary=<neo4j._work.summary.ResultSummary object at 0x165c03890>, keys=[]),\n",
       " EagerResult(records=[], summary=<neo4j._work.summary.ResultSummary object at 0x165c00050>, keys=[]),\n",
       " EagerResult(records=[], summary=<neo4j._work.summary.ResultSummary object at 0x165b05cd0>, keys=[]),\n",
       " EagerResult(records=[], summary=<neo4j._work.summary.ResultSummary object at 0x165b06e90>, keys=[]),\n",
       " EagerResult(records=[], summary=<neo4j._work.summary.ResultSummary object at 0x165b062d0>, keys=[]),\n",
       " EagerResult(records=[], summary=<neo4j._work.summary.ResultSummary object at 0x165b04f90>, keys=[]),\n",
       " EagerResult(records=[], summary=<neo4j._work.summary.ResultSummary object at 0x165ba1c50>, keys=[]),\n",
       " EagerResult(records=[], summary=<neo4j._work.summary.ResultSummary object at 0x164d2c490>, keys=[]),\n",
       " EagerResult(records=[], summary=<neo4j._work.summary.ResultSummary object at 0x165cfb190>, keys=[]),\n",
       " EagerResult(records=[], summary=<neo4j._work.summary.ResultSummary object at 0x165cef5d0>, keys=[]),\n",
       " EagerResult(records=[], summary=<neo4j._work.summary.ResultSummary object at 0x165cee4d0>, keys=[]),\n",
       " EagerResult(records=[], summary=<neo4j._work.summary.ResultSummary object at 0x165ceac90>, keys=[]),\n",
       " EagerResult(records=[], summary=<neo4j._work.summary.ResultSummary object at 0x165cebad0>, keys=[]),\n",
       " EagerResult(records=[], summary=<neo4j._work.summary.ResultSummary object at 0x165bcc310>, keys=[]),\n",
       " EagerResult(records=[], summary=<neo4j._work.summary.ResultSummary object at 0x165bcd090>, keys=[]),\n",
       " EagerResult(records=[], summary=<neo4j._work.summary.ResultSummary object at 0x165bccb90>, keys=[]),\n",
       " EagerResult(records=[], summary=<neo4j._work.summary.ResultSummary object at 0x165bccdd0>, keys=[]),\n",
       " EagerResult(records=[], summary=<neo4j._work.summary.ResultSummary object at 0x165ce0490>, keys=[]),\n",
       " EagerResult(records=[], summary=<neo4j._work.summary.ResultSummary object at 0x165ce0650>, keys=[]),\n",
       " EagerResult(records=[], summary=<neo4j._work.summary.ResultSummary object at 0x165cd6310>, keys=[]),\n",
       " EagerResult(records=[], summary=<neo4j._work.summary.ResultSummary object at 0x165cd4290>, keys=[]),\n",
       " EagerResult(records=[], summary=<neo4j._work.summary.ResultSummary object at 0x165ccac10>, keys=[]),\n",
       " EagerResult(records=[], summary=<neo4j._work.summary.ResultSummary object at 0x165cbeb90>, keys=[]),\n",
       " EagerResult(records=[], summary=<neo4j._work.summary.ResultSummary object at 0x165cbd9d0>, keys=[]),\n",
       " EagerResult(records=[], summary=<neo4j._work.summary.ResultSummary object at 0x165cbb950>, keys=[]),\n",
       " EagerResult(records=[], summary=<neo4j._work.summary.ResultSummary object at 0x165cbb490>, keys=[]),\n",
       " EagerResult(records=[], summary=<neo4j._work.summary.ResultSummary object at 0x165cb6290>, keys=[]),\n",
       " EagerResult(records=[], summary=<neo4j._work.summary.ResultSummary object at 0x165cb6910>, keys=[]),\n",
       " EagerResult(records=[], summary=<neo4j._work.summary.ResultSummary object at 0x165cb3050>, keys=[]),\n",
       " EagerResult(records=[], summary=<neo4j._work.summary.ResultSummary object at 0x165cb0210>, keys=[]),\n",
       " EagerResult(records=[], summary=<neo4j._work.summary.ResultSummary object at 0x165ca38d0>, keys=[]),\n",
       " EagerResult(records=[], summary=<neo4j._work.summary.ResultSummary object at 0x165ca3dd0>, keys=[]),\n",
       " EagerResult(records=[], summary=<neo4j._work.summary.ResultSummary object at 0x165c98490>, keys=[]),\n",
       " EagerResult(records=[], summary=<neo4j._work.summary.ResultSummary object at 0x165c9a590>, keys=[]),\n",
       " EagerResult(records=[], summary=<neo4j._work.summary.ResultSummary object at 0x165c96f90>, keys=[]),\n",
       " EagerResult(records=[], summary=<neo4j._work.summary.ResultSummary object at 0x165c95e90>, keys=[]),\n",
       " EagerResult(records=[], summary=<neo4j._work.summary.ResultSummary object at 0x165c8db10>, keys=[]),\n",
       " EagerResult(records=[], summary=<neo4j._work.summary.ResultSummary object at 0x165c82d90>, keys=[]),\n",
       " EagerResult(records=[], summary=<neo4j._work.summary.ResultSummary object at 0x165c80cd0>, keys=[]),\n",
       " EagerResult(records=[], summary=<neo4j._work.summary.ResultSummary object at 0x165c76cd0>, keys=[]),\n",
       " EagerResult(records=[], summary=<neo4j._work.summary.ResultSummary object at 0x165c77790>, keys=[]),\n",
       " EagerResult(records=[], summary=<neo4j._work.summary.ResultSummary object at 0x164df3690>, keys=[]),\n",
       " EagerResult(records=[], summary=<neo4j._work.summary.ResultSummary object at 0x164df0790>, keys=[]),\n",
       " EagerResult(records=[], summary=<neo4j._work.summary.ResultSummary object at 0x164df2990>, keys=[]),\n",
       " EagerResult(records=[], summary=<neo4j._work.summary.ResultSummary object at 0x164df10d0>, keys=[]),\n",
       " EagerResult(records=[], summary=<neo4j._work.summary.ResultSummary object at 0x164df0090>, keys=[]),\n",
       " EagerResult(records=[], summary=<neo4j._work.summary.ResultSummary object at 0x165c71810>, keys=[]),\n",
       " EagerResult(records=[], summary=<neo4j._work.summary.ResultSummary object at 0x165c71e10>, keys=[]),\n",
       " EagerResult(records=[], summary=<neo4j._work.summary.ResultSummary object at 0x165c676d0>, keys=[]),\n",
       " EagerResult(records=[], summary=<neo4j._work.summary.ResultSummary object at 0x165c649d0>, keys=[]),\n",
       " EagerResult(records=[], summary=<neo4j._work.summary.ResultSummary object at 0x165bafe50>, keys=[]),\n",
       " EagerResult(records=[], summary=<neo4j._work.summary.ResultSummary object at 0x165c62310>, keys=[]),\n",
       " EagerResult(records=[], summary=<neo4j._work.summary.ResultSummary object at 0x165c623d0>, keys=[]),\n",
       " EagerResult(records=[], summary=<neo4j._work.summary.ResultSummary object at 0x165c55e90>, keys=[]),\n",
       " EagerResult(records=[], summary=<neo4j._work.summary.ResultSummary object at 0x165c48990>, keys=[]),\n",
       " EagerResult(records=[], summary=<neo4j._work.summary.ResultSummary object at 0x165c44810>, keys=[]),\n",
       " EagerResult(records=[], summary=<neo4j._work.summary.ResultSummary object at 0x165c3c250>, keys=[]),\n",
       " EagerResult(records=[], summary=<neo4j._work.summary.ResultSummary object at 0x166115750>, keys=[]),\n",
       " EagerResult(records=[], summary=<neo4j._work.summary.ResultSummary object at 0x166114650>, keys=[]),\n",
       " EagerResult(records=[], summary=<neo4j._work.summary.ResultSummary object at 0x165c110d0>, keys=[]),\n",
       " EagerResult(records=[], summary=<neo4j._work.summary.ResultSummary object at 0x165c11090>, keys=[]),\n",
       " EagerResult(records=[], summary=<neo4j._work.summary.ResultSummary object at 0x165c13e10>, keys=[]),\n",
       " EagerResult(records=[], summary=<neo4j._work.summary.ResultSummary object at 0x164dad750>, keys=[]),\n",
       " EagerResult(records=[], summary=<neo4j._work.summary.ResultSummary object at 0x164daee50>, keys=[]),\n",
       " EagerResult(records=[], summary=<neo4j._work.summary.ResultSummary object at 0x165b99610>, keys=[]),\n",
       " EagerResult(records=[], summary=<neo4j._work.summary.ResultSummary object at 0x165b95dd0>, keys=[]),\n",
       " EagerResult(records=[], summary=<neo4j._work.summary.ResultSummary object at 0x165b96fd0>, keys=[]),\n",
       " EagerResult(records=[], summary=<neo4j._work.summary.ResultSummary object at 0x165b94190>, keys=[]),\n",
       " EagerResult(records=[], summary=<neo4j._work.summary.ResultSummary object at 0x165b90110>, keys=[]),\n",
       " EagerResult(records=[], summary=<neo4j._work.summary.ResultSummary object at 0x165b91f90>, keys=[]),\n",
       " EagerResult(records=[], summary=<neo4j._work.summary.ResultSummary object at 0x165b8ea50>, keys=[]),\n",
       " EagerResult(records=[], summary=<neo4j._work.summary.ResultSummary object at 0x165b8e950>, keys=[]),\n",
       " EagerResult(records=[], summary=<neo4j._work.summary.ResultSummary object at 0x165b8ce10>, keys=[]),\n",
       " EagerResult(records=[], summary=<neo4j._work.summary.ResultSummary object at 0x165b7dd90>, keys=[]),\n",
       " EagerResult(records=[], summary=<neo4j._work.summary.ResultSummary object at 0x165b7e3d0>, keys=[]),\n",
       " EagerResult(records=[], summary=<neo4j._work.summary.ResultSummary object at 0x165b78bd0>, keys=[]),\n",
       " EagerResult(records=[], summary=<neo4j._work.summary.ResultSummary object at 0x165b788d0>, keys=[]),\n",
       " EagerResult(records=[], summary=<neo4j._work.summary.ResultSummary object at 0x165b7bdd0>, keys=[]),\n",
       " EagerResult(records=[], summary=<neo4j._work.summary.ResultSummary object at 0x1660872d0>, keys=[]),\n",
       " EagerResult(records=[], summary=<neo4j._work.summary.ResultSummary object at 0x166085390>, keys=[]),\n",
       " EagerResult(records=[], summary=<neo4j._work.summary.ResultSummary object at 0x166077090>, keys=[]),\n",
       " EagerResult(records=[], summary=<neo4j._work.summary.ResultSummary object at 0x166076cd0>, keys=[]),\n",
       " EagerResult(records=[], summary=<neo4j._work.summary.ResultSummary object at 0x166072d10>, keys=[]),\n",
       " EagerResult(records=[], summary=<neo4j._work.summary.ResultSummary object at 0x166072c10>, keys=[]),\n",
       " EagerResult(records=[], summary=<neo4j._work.summary.ResultSummary object at 0x166059710>, keys=[]),\n",
       " EagerResult(records=[], summary=<neo4j._work.summary.ResultSummary object at 0x166059510>, keys=[]),\n",
       " EagerResult(records=[], summary=<neo4j._work.summary.ResultSummary object at 0x1660551d0>, keys=[]),\n",
       " EagerResult(records=[], summary=<neo4j._work.summary.ResultSummary object at 0x166054e10>, keys=[]),\n",
       " EagerResult(records=[], summary=<neo4j._work.summary.ResultSummary object at 0x166068c10>, keys=[]),\n",
       " EagerResult(records=[], summary=<neo4j._work.summary.ResultSummary object at 0x16606bf10>, keys=[]),\n",
       " EagerResult(records=[], summary=<neo4j._work.summary.ResultSummary object at 0x166044c10>, keys=[]),\n",
       " EagerResult(records=[], summary=<neo4j._work.summary.ResultSummary object at 0x166047fd0>, keys=[]),\n",
       " EagerResult(records=[], summary=<neo4j._work.summary.ResultSummary object at 0x166036b90>, keys=[]),\n",
       " EagerResult(records=[], summary=<neo4j._work.summary.ResultSummary object at 0x16604bd90>, keys=[]),\n",
       " EagerResult(records=[], summary=<neo4j._work.summary.ResultSummary object at 0x16604b990>, keys=[]),\n",
       " EagerResult(records=[], summary=<neo4j._work.summary.ResultSummary object at 0x1660279d0>, keys=[]),\n",
       " EagerResult(records=[], summary=<neo4j._work.summary.ResultSummary object at 0x166024a90>, keys=[]),\n",
       " EagerResult(records=[], summary=<neo4j._work.summary.ResultSummary object at 0x166021b50>, keys=[]),\n",
       " EagerResult(records=[], summary=<neo4j._work.summary.ResultSummary object at 0x166020690>, keys=[]),\n",
       " EagerResult(records=[], summary=<neo4j._work.summary.ResultSummary object at 0x16602b690>, keys=[]),\n",
       " EagerResult(records=[], summary=<neo4j._work.summary.ResultSummary object at 0x16602a6d0>, keys=[]),\n",
       " EagerResult(records=[], summary=<neo4j._work.summary.ResultSummary object at 0x1660171d0>, keys=[]),\n",
       " EagerResult(records=[], summary=<neo4j._work.summary.ResultSummary object at 0x166015a90>, keys=[]),\n",
       " EagerResult(records=[], summary=<neo4j._work.summary.ResultSummary object at 0x16600dfd0>, keys=[]),\n",
       " EagerResult(records=[], summary=<neo4j._work.summary.ResultSummary object at 0x16600ed10>, keys=[]),\n",
       " EagerResult(records=[], summary=<neo4j._work.summary.ResultSummary object at 0x166088c90>, keys=[]),\n",
       " EagerResult(records=[], summary=<neo4j._work.summary.ResultSummary object at 0x166088dd0>, keys=[]),\n",
       " EagerResult(records=[], summary=<neo4j._work.summary.ResultSummary object at 0x165b65510>, keys=[]),\n",
       " EagerResult(records=[], summary=<neo4j._work.summary.ResultSummary object at 0x165b671d0>, keys=[]),\n",
       " EagerResult(records=[], summary=<neo4j._work.summary.ResultSummary object at 0x165b65c90>, keys=[]),\n",
       " EagerResult(records=[], summary=<neo4j._work.summary.ResultSummary object at 0x165b642d0>, keys=[]),\n",
       " EagerResult(records=[], summary=<neo4j._work.summary.ResultSummary object at 0x165c5c510>, keys=[]),\n",
       " EagerResult(records=[], summary=<neo4j._work.summary.ResultSummary object at 0x164dfda90>, keys=[]),\n",
       " EagerResult(records=[], summary=<neo4j._work.summary.ResultSummary object at 0x164dfe010>, keys=[]),\n",
       " EagerResult(records=[], summary=<neo4j._work.summary.ResultSummary object at 0x164dfd2d0>, keys=[]),\n",
       " EagerResult(records=[], summary=<neo4j._work.summary.ResultSummary object at 0x164dfc210>, keys=[]),\n",
       " EagerResult(records=[], summary=<neo4j._work.summary.ResultSummary object at 0x164deae90>, keys=[]),\n",
       " EagerResult(records=[], summary=<neo4j._work.summary.ResultSummary object at 0x164deb610>, keys=[]),\n",
       " EagerResult(records=[], summary=<neo4j._work.summary.ResultSummary object at 0x164debc90>, keys=[]),\n",
       " EagerResult(records=[], summary=<neo4j._work.summary.ResultSummary object at 0x164dea7d0>, keys=[]),\n",
       " EagerResult(records=[], summary=<neo4j._work.summary.ResultSummary object at 0x164de8e50>, keys=[]),\n",
       " EagerResult(records=[], summary=<neo4j._work.summary.ResultSummary object at 0x166284710>, keys=[]),\n",
       " EagerResult(records=[], summary=<neo4j._work.summary.ResultSummary object at 0x166285310>, keys=[]),\n",
       " EagerResult(records=[], summary=<neo4j._work.summary.ResultSummary object at 0x166285f10>, keys=[]),\n",
       " EagerResult(records=[], summary=<neo4j._work.summary.ResultSummary object at 0x166286b90>, keys=[]),\n",
       " EagerResult(records=[], summary=<neo4j._work.summary.ResultSummary object at 0x166287790>, keys=[]),\n",
       " EagerResult(records=[], summary=<neo4j._work.summary.ResultSummary object at 0x164c05ed0>, keys=[]),\n",
       " EagerResult(records=[], summary=<neo4j._work.summary.ResultSummary object at 0x164d529d0>, keys=[]),\n",
       " EagerResult(records=[], summary=<neo4j._work.summary.ResultSummary object at 0x164de16d0>, keys=[]),\n",
       " EagerResult(records=[], summary=<neo4j._work.summary.ResultSummary object at 0x164de3e90>, keys=[]),\n",
       " EagerResult(records=[], summary=<neo4j._work.summary.ResultSummary object at 0x164de1bd0>, keys=[]),\n",
       " EagerResult(records=[], summary=<neo4j._work.summary.ResultSummary object at 0x164de21d0>, keys=[]),\n",
       " EagerResult(records=[], summary=<neo4j._work.summary.ResultSummary object at 0x164de0810>, keys=[]),\n",
       " EagerResult(records=[], summary=<neo4j._work.summary.ResultSummary object at 0x164dd8610>, keys=[]),\n",
       " EagerResult(records=[], summary=<neo4j._work.summary.ResultSummary object at 0x164dd9690>, keys=[]),\n",
       " EagerResult(records=[], summary=<neo4j._work.summary.ResultSummary object at 0x164dd9a10>, keys=[]),\n",
       " EagerResult(records=[], summary=<neo4j._work.summary.ResultSummary object at 0x164ddb690>, keys=[]),\n",
       " EagerResult(records=[], summary=<neo4j._work.summary.ResultSummary object at 0x164dd8ed0>, keys=[]),\n",
       " EagerResult(records=[], summary=<neo4j._work.summary.ResultSummary object at 0x164d91b90>, keys=[]),\n",
       " EagerResult(records=[], summary=<neo4j._work.summary.ResultSummary object at 0x164da5310>, keys=[]),\n",
       " EagerResult(records=[], summary=<neo4j._work.summary.ResultSummary object at 0x164da7e10>, keys=[]),\n",
       " EagerResult(records=[], summary=<neo4j._work.summary.ResultSummary object at 0x164da5210>, keys=[]),\n",
       " EagerResult(records=[], summary=<neo4j._work.summary.ResultSummary object at 0x165c17250>, keys=[]),\n",
       " EagerResult(records=[], summary=<neo4j._work.summary.ResultSummary object at 0x165c16890>, keys=[]),\n",
       " EagerResult(records=[], summary=<neo4j._work.summary.ResultSummary object at 0x165c140d0>, keys=[]),\n",
       " EagerResult(records=[], summary=<neo4j._work.summary.ResultSummary object at 0x164db45d0>, keys=[]),\n",
       " EagerResult(records=[], summary=<neo4j._work.summary.ResultSummary object at 0x164db4590>, keys=[]),\n",
       " EagerResult(records=[], summary=<neo4j._work.summary.ResultSummary object at 0x164db5ed0>, keys=[]),\n",
       " EagerResult(records=[], summary=<neo4j._work.summary.ResultSummary object at 0x164dc69d0>, keys=[]),\n",
       " EagerResult(records=[], summary=<neo4j._work.summary.ResultSummary object at 0x164d6ce10>, keys=[]),\n",
       " EagerResult(records=[], summary=<neo4j._work.summary.ResultSummary object at 0x164d88890>, keys=[]),\n",
       " EagerResult(records=[], summary=<neo4j._work.summary.ResultSummary object at 0x164dcc150>, keys=[]),\n",
       " EagerResult(records=[], summary=<neo4j._work.summary.ResultSummary object at 0x164dcd210>, keys=[]),\n",
       " EagerResult(records=[], summary=<neo4j._work.summary.ResultSummary object at 0x164dcfe50>, keys=[]),\n",
       " EagerResult(records=[], summary=<neo4j._work.summary.ResultSummary object at 0x164dce5d0>, keys=[]),\n",
       " EagerResult(records=[], summary=<neo4j._work.summary.ResultSummary object at 0x165c2d510>, keys=[]),\n",
       " EagerResult(records=[], summary=<neo4j._work.summary.ResultSummary object at 0x165c2e2d0>, keys=[]),\n",
       " EagerResult(records=[], summary=<neo4j._work.summary.ResultSummary object at 0x165c0ee10>, keys=[]),\n",
       " EagerResult(records=[], summary=<neo4j._work.summary.ResultSummary object at 0x165c0df90>, keys=[]),\n",
       " EagerResult(records=[], summary=<neo4j._work.summary.ResultSummary object at 0x165c0db90>, keys=[]),\n",
       " EagerResult(records=[], summary=<neo4j._work.summary.ResultSummary object at 0x165ba8590>, keys=[]),\n",
       " EagerResult(records=[], summary=<neo4j._work.summary.ResultSummary object at 0x165baa3d0>, keys=[]),\n",
       " EagerResult(records=[], summary=<neo4j._work.summary.ResultSummary object at 0x165ba9ed0>, keys=[]),\n",
       " EagerResult(records=[], summary=<neo4j._work.summary.ResultSummary object at 0x165ba9150>, keys=[]),\n",
       " EagerResult(records=[], summary=<neo4j._work.summary.ResultSummary object at 0x1660df4d0>, keys=[]),\n",
       " EagerResult(records=[], summary=<neo4j._work.summary.ResultSummary object at 0x1660dc350>, keys=[]),\n",
       " EagerResult(records=[], summary=<neo4j._work.summary.ResultSummary object at 0x1660d4450>, keys=[]),\n",
       " EagerResult(records=[], summary=<neo4j._work.summary.ResultSummary object at 0x1660d5ed0>, keys=[]),\n",
       " EagerResult(records=[], summary=<neo4j._work.summary.ResultSummary object at 0x164d87e50>, keys=[]),\n",
       " EagerResult(records=[], summary=<neo4j._work.summary.ResultSummary object at 0x1660d2e50>, keys=[]),\n",
       " EagerResult(records=[], summary=<neo4j._work.summary.ResultSummary object at 0x1660d3bd0>, keys=[]),\n",
       " EagerResult(records=[], summary=<neo4j._work.summary.ResultSummary object at 0x164de4850>, keys=[]),\n",
       " EagerResult(records=[], summary=<neo4j._work.summary.ResultSummary object at 0x164de4fd0>, keys=[]),\n",
       " EagerResult(records=[], summary=<neo4j._work.summary.ResultSummary object at 0x164de5450>, keys=[]),\n",
       " EagerResult(records=[], summary=<neo4j._work.summary.ResultSummary object at 0x164de7050>, keys=[]),\n",
       " EagerResult(records=[], summary=<neo4j._work.summary.ResultSummary object at 0x164de52d0>, keys=[]),\n",
       " EagerResult(records=[], summary=<neo4j._work.summary.ResultSummary object at 0x1660ccb90>, keys=[]),\n",
       " EagerResult(records=[], summary=<neo4j._work.summary.ResultSummary object at 0x1660cffd0>, keys=[]),\n",
       " EagerResult(records=[], summary=<neo4j._work.summary.ResultSummary object at 0x1660c4150>, keys=[]),\n",
       " EagerResult(records=[], summary=<neo4j._work.summary.ResultSummary object at 0x1660c41d0>, keys=[]),\n",
       " EagerResult(records=[], summary=<neo4j._work.summary.ResultSummary object at 0x1660bafd0>, keys=[]),\n",
       " EagerResult(records=[], summary=<neo4j._work.summary.ResultSummary object at 0x1660baf90>, keys=[]),\n",
       " EagerResult(records=[], summary=<neo4j._work.summary.ResultSummary object at 0x1660abdd0>, keys=[]),\n",
       " EagerResult(records=[], summary=<neo4j._work.summary.ResultSummary object at 0x1660a9110>, keys=[]),\n",
       " EagerResult(records=[], summary=<neo4j._work.summary.ResultSummary object at 0x16609f8d0>, keys=[]),\n",
       " EagerResult(records=[], summary=<neo4j._work.summary.ResultSummary object at 0x16609cdd0>, keys=[]),\n",
       " EagerResult(records=[], summary=<neo4j._work.summary.ResultSummary object at 0x16609a790>, keys=[]),\n",
       " EagerResult(records=[], summary=<neo4j._work.summary.ResultSummary object at 0x1663280d0>, keys=[]),\n",
       " EagerResult(records=[], summary=<neo4j._work.summary.ResultSummary object at 0x1663291d0>, keys=[]),\n",
       " EagerResult(records=[], summary=<neo4j._work.summary.ResultSummary object at 0x166329d10>, keys=[]),\n",
       " EagerResult(records=[], summary=<neo4j._work.summary.ResultSummary object at 0x16632a950>, keys=[]),\n",
       " EagerResult(records=[], summary=<neo4j._work.summary.ResultSummary object at 0x16632b590>, keys=[]),\n",
       " EagerResult(records=[], summary=<neo4j._work.summary.ResultSummary object at 0x1662f5850>, keys=[]),\n",
       " EagerResult(records=[], summary=<neo4j._work.summary.ResultSummary object at 0x1662f6b90>, keys=[]),\n",
       " EagerResult(records=[], summary=<neo4j._work.summary.ResultSummary object at 0x1662f7790>, keys=[]),\n",
       " EagerResult(records=[], summary=<neo4j._work.summary.ResultSummary object at 0x1662f4390>, keys=[]),\n",
       " EagerResult(records=[], summary=<neo4j._work.summary.ResultSummary object at 0x1662f4f90>, keys=[]),\n",
       " EagerResult(records=[], summary=<neo4j._work.summary.ResultSummary object at 0x166095090>, keys=[]),\n",
       " EagerResult(records=[], summary=<neo4j._work.summary.ResultSummary object at 0x166095e90>, keys=[]),\n",
       " EagerResult(records=[], summary=<neo4j._work.summary.ResultSummary object at 0x1660919d0>, keys=[]),\n",
       " EagerResult(records=[], summary=<neo4j._work.summary.ResultSummary object at 0x166090ad0>, keys=[]),\n",
       " EagerResult(records=[], summary=<neo4j._work.summary.ResultSummary object at 0x1663c0b50>, keys=[]),\n",
       " EagerResult(records=[], summary=<neo4j._work.summary.ResultSummary object at 0x1663c1750>, keys=[]),\n",
       " EagerResult(records=[], summary=<neo4j._work.summary.ResultSummary object at 0x1663c2350>, keys=[]),\n",
       " EagerResult(records=[], summary=<neo4j._work.summary.ResultSummary object at 0x1663c2fd0>, keys=[]),\n",
       " EagerResult(records=[], summary=<neo4j._work.summary.ResultSummary object at 0x1663c3bd0>, keys=[]),\n",
       " EagerResult(records=[], summary=<neo4j._work.summary.ResultSummary object at 0x1661bc990>, keys=[]),\n",
       " EagerResult(records=[], summary=<neo4j._work.summary.ResultSummary object at 0x1661bd550>, keys=[]),\n",
       " EagerResult(records=[], summary=<neo4j._work.summary.ResultSummary object at 0x1661be110>, keys=[]),\n",
       " EagerResult(records=[], summary=<neo4j._work.summary.ResultSummary object at 0x1661becd0>, keys=[]),\n",
       " EagerResult(records=[], summary=<neo4j._work.summary.ResultSummary object at 0x1661bf890>, keys=[]),\n",
       " EagerResult(records=[], summary=<neo4j._work.summary.ResultSummary object at 0x1661c4490>, keys=[]),\n",
       " EagerResult(records=[], summary=<neo4j._work.summary.ResultSummary object at 0x1661c5050>, keys=[]),\n",
       " EagerResult(records=[], summary=<neo4j._work.summary.ResultSummary object at 0x1661c5c50>, keys=[]),\n",
       " EagerResult(records=[], summary=<neo4j._work.summary.ResultSummary object at 0x1661c6850>, keys=[]),\n",
       " EagerResult(records=[], summary=<neo4j._work.summary.ResultSummary object at 0x1661c7450>, keys=[]),\n",
       " EagerResult(records=[], summary=<neo4j._work.summary.ResultSummary object at 0x1661c8090>, keys=[]),\n",
       " EagerResult(records=[], summary=<neo4j._work.summary.ResultSummary object at 0x1661c8c90>, keys=[]),\n",
       " EagerResult(records=[], summary=<neo4j._work.summary.ResultSummary object at 0x1661c9890>, keys=[]),\n",
       " EagerResult(records=[], summary=<neo4j._work.summary.ResultSummary object at 0x1661ca490>, keys=[]),\n",
       " EagerResult(records=[], summary=<neo4j._work.summary.ResultSummary object at 0x1661cb090>, keys=[]),\n",
       " EagerResult(records=[], summary=<neo4j._work.summary.ResultSummary object at 0x1661cbc90>, keys=[]),\n",
       " EagerResult(records=[], summary=<neo4j._work.summary.ResultSummary object at 0x1661cc8d0>, keys=[]),\n",
       " EagerResult(records=[], summary=<neo4j._work.summary.ResultSummary object at 0x1661cd4d0>, keys=[]),\n",
       " EagerResult(records=[], summary=<neo4j._work.summary.ResultSummary object at 0x1661ce0d0>, keys=[]),\n",
       " EagerResult(records=[], summary=<neo4j._work.summary.ResultSummary object at 0x1661cee50>, keys=[]),\n",
       " EagerResult(records=[], summary=<neo4j._work.summary.ResultSummary object at 0x1661cfa10>, keys=[]),\n",
       " EagerResult(records=[], summary=<neo4j._work.summary.ResultSummary object at 0x1661d0610>, keys=[]),\n",
       " EagerResult(records=[], summary=<neo4j._work.summary.ResultSummary object at 0x1661d11d0>, keys=[]),\n",
       " EagerResult(records=[], summary=<neo4j._work.summary.ResultSummary object at 0x1661d1d90>, keys=[]),\n",
       " EagerResult(records=[], summary=<neo4j._work.summary.ResultSummary object at 0x1661d2950>, keys=[]),\n",
       " EagerResult(records=[], summary=<neo4j._work.summary.ResultSummary object at 0x1661d3510>, keys=[]),\n",
       " EagerResult(records=[], summary=<neo4j._work.summary.ResultSummary object at 0x166198150>, keys=[]),\n",
       " EagerResult(records=[], summary=<neo4j._work.summary.ResultSummary object at 0x166198d50>, keys=[]),\n",
       " EagerResult(records=[], summary=<neo4j._work.summary.ResultSummary object at 0x166199950>, keys=[]),\n",
       " EagerResult(records=[], summary=<neo4j._work.summary.ResultSummary object at 0x16619a550>, keys=[]),\n",
       " EagerResult(records=[], summary=<neo4j._work.summary.ResultSummary object at 0x16619b150>, keys=[]),\n",
       " EagerResult(records=[], summary=<neo4j._work.summary.ResultSummary object at 0x16619bd50>, keys=[]),\n",
       " EagerResult(records=[], summary=<neo4j._work.summary.ResultSummary object at 0x1661d4990>, keys=[]),\n",
       " EagerResult(records=[], summary=<neo4j._work.summary.ResultSummary object at 0x1661d5590>, keys=[]),\n",
       " EagerResult(records=[], summary=<neo4j._work.summary.ResultSummary object at 0x1661d6190>, keys=[]),\n",
       " EagerResult(records=[], summary=<neo4j._work.summary.ResultSummary object at 0x1661d6d90>, keys=[]),\n",
       " EagerResult(records=[], summary=<neo4j._work.summary.ResultSummary object at 0x1661d7990>, keys=[]),\n",
       " EagerResult(records=[], summary=<neo4j._work.summary.ResultSummary object at 0x1661545d0>, keys=[]),\n",
       " EagerResult(records=[], summary=<neo4j._work.summary.ResultSummary object at 0x166155350>, keys=[]),\n",
       " EagerResult(records=[], summary=<neo4j._work.summary.ResultSummary object at 0x166155f10>, keys=[]),\n",
       " EagerResult(records=[], summary=<neo4j._work.summary.ResultSummary object at 0x166156ad0>, keys=[]),\n",
       " EagerResult(records=[], summary=<neo4j._work.summary.ResultSummary object at 0x166157690>, keys=[]),\n",
       " EagerResult(records=[], summary=<neo4j._work.summary.ResultSummary object at 0x1661dc290>, keys=[]),\n",
       " EagerResult(records=[], summary=<neo4j._work.summary.ResultSummary object at 0x1661dce50>, keys=[]),\n",
       " EagerResult(records=[], summary=<neo4j._work.summary.ResultSummary object at 0x1661dda10>, keys=[]),\n",
       " EagerResult(records=[], summary=<neo4j._work.summary.ResultSummary object at 0x1661de610>, keys=[]),\n",
       " EagerResult(records=[], summary=<neo4j._work.summary.ResultSummary object at 0x1661df210>, keys=[]),\n",
       " EagerResult(records=[], summary=<neo4j._work.summary.ResultSummary object at 0x1661dfe10>, keys=[]),\n",
       " EagerResult(records=[], summary=<neo4j._work.summary.ResultSummary object at 0x166164a50>, keys=[]),\n",
       " EagerResult(records=[], summary=<neo4j._work.summary.ResultSummary object at 0x166165650>, keys=[]),\n",
       " EagerResult(records=[], summary=<neo4j._work.summary.ResultSummary object at 0x166166250>, keys=[]),\n",
       " EagerResult(records=[], summary=<neo4j._work.summary.ResultSummary object at 0x166166e50>, keys=[]),\n",
       " EagerResult(records=[], summary=<neo4j._work.summary.ResultSummary object at 0x166167a50>, keys=[]),\n",
       " EagerResult(records=[], summary=<neo4j._work.summary.ResultSummary object at 0x1661a0690>, keys=[]),\n",
       " EagerResult(records=[], summary=<neo4j._work.summary.ResultSummary object at 0x1661a1290>, keys=[]),\n",
       " EagerResult(records=[], summary=<neo4j._work.summary.ResultSummary object at 0x1661a1e90>, keys=[]),\n",
       " EagerResult(records=[], summary=<neo4j._work.summary.ResultSummary object at 0x1661a2a90>, keys=[]),\n",
       " EagerResult(records=[], summary=<neo4j._work.summary.ResultSummary object at 0x1661a3810>, keys=[]),\n",
       " EagerResult(records=[], summary=<neo4j._work.summary.ResultSummary object at 0x166174410>, keys=[]),\n",
       " EagerResult(records=[], summary=<neo4j._work.summary.ResultSummary object at 0x166174fd0>, keys=[]),\n",
       " EagerResult(records=[], summary=<neo4j._work.summary.ResultSummary object at 0x166175b90>, keys=[]),\n",
       " EagerResult(records=[], summary=<neo4j._work.summary.ResultSummary object at 0x166176750>, keys=[]),\n",
       " EagerResult(records=[], summary=<neo4j._work.summary.ResultSummary object at 0x166177310>, keys=[]),\n",
       " EagerResult(records=[], summary=<neo4j._work.summary.ResultSummary object at 0x166177ed0>, keys=[]),\n",
       " EagerResult(records=[], summary=<neo4j._work.summary.ResultSummary object at 0x1661e0b10>, keys=[]),\n",
       " EagerResult(records=[], summary=<neo4j._work.summary.ResultSummary object at 0x1661e1710>, keys=[]),\n",
       " EagerResult(records=[], summary=<neo4j._work.summary.ResultSummary object at 0x1661e2310>, keys=[]),\n",
       " EagerResult(records=[], summary=<neo4j._work.summary.ResultSummary object at 0x1661e2f10>, keys=[]),\n",
       " EagerResult(records=[], summary=<neo4j._work.summary.ResultSummary object at 0x1661e3b10>, keys=[]),\n",
       " EagerResult(records=[], summary=<neo4j._work.summary.ResultSummary object at 0x166184750>, keys=[]),\n",
       " EagerResult(records=[], summary=<neo4j._work.summary.ResultSummary object at 0x166185350>, keys=[]),\n",
       " EagerResult(records=[], summary=<neo4j._work.summary.ResultSummary object at 0x166185f50>, keys=[]),\n",
       " EagerResult(records=[], summary=<neo4j._work.summary.ResultSummary object at 0x166186b50>, keys=[]),\n",
       " EagerResult(records=[], summary=<neo4j._work.summary.ResultSummary object at 0x166187750>, keys=[]),\n",
       " EagerResult(records=[], summary=<neo4j._work.summary.ResultSummary object at 0x1661f0390>, keys=[]),\n",
       " EagerResult(records=[], summary=<neo4j._work.summary.ResultSummary object at 0x1661f0f90>, keys=[]),\n",
       " EagerResult(records=[], summary=<neo4j._work.summary.ResultSummary object at 0x1661f1d10>, keys=[]),\n",
       " EagerResult(records=[], summary=<neo4j._work.summary.ResultSummary object at 0x1661f28d0>, keys=[]),\n",
       " EagerResult(records=[], summary=<neo4j._work.summary.ResultSummary object at 0x1661f3490>, keys=[]),\n",
       " EagerResult(records=[], summary=<neo4j._work.summary.ResultSummary object at 0x1661fc090>, keys=[]),\n",
       " EagerResult(records=[], summary=<neo4j._work.summary.ResultSummary object at 0x1661fcc50>, keys=[]),\n",
       " EagerResult(records=[], summary=<neo4j._work.summary.ResultSummary object at 0x1661fd810>, keys=[]),\n",
       " EagerResult(records=[], summary=<neo4j._work.summary.ResultSummary object at 0x1661fe3d0>, keys=[]),\n",
       " EagerResult(records=[], summary=<neo4j._work.summary.ResultSummary object at 0x1661fefd0>, keys=[]),\n",
       " EagerResult(records=[], summary=<neo4j._work.summary.ResultSummary object at 0x1661ffbd0>, keys=[]),\n",
       " EagerResult(records=[], summary=<neo4j._work.summary.ResultSummary object at 0x1662b47d0>, keys=[]),\n",
       " EagerResult(records=[], summary=<neo4j._work.summary.ResultSummary object at 0x1662b5450>, keys=[]),\n",
       " EagerResult(records=[], summary=<neo4j._work.summary.ResultSummary object at 0x1662b6050>, keys=[]),\n",
       " EagerResult(records=[], summary=<neo4j._work.summary.ResultSummary object at 0x1662b6c50>, keys=[]),\n",
       " EagerResult(records=[], summary=<neo4j._work.summary.ResultSummary object at 0x1662b7850>, keys=[]),\n",
       " EagerResult(records=[], summary=<neo4j._work.summary.ResultSummary object at 0x166288450>, keys=[]),\n",
       " EagerResult(records=[], summary=<neo4j._work.summary.ResultSummary object at 0x166289050>, keys=[]),\n",
       " EagerResult(records=[], summary=<neo4j._work.summary.ResultSummary object at 0x166289c50>, keys=[]),\n",
       " EagerResult(records=[], summary=<neo4j._work.summary.ResultSummary object at 0x16628a850>, keys=[]),\n",
       " EagerResult(records=[], summary=<neo4j._work.summary.ResultSummary object at 0x16628b450>, keys=[]),\n",
       " EagerResult(records=[], summary=<neo4j._work.summary.ResultSummary object at 0x16623c210>, keys=[]),\n",
       " EagerResult(records=[], summary=<neo4j._work.summary.ResultSummary object at 0x16623cdd0>, keys=[]),\n",
       " EagerResult(records=[], summary=<neo4j._work.summary.ResultSummary object at 0x16623d990>, keys=[]),\n",
       " EagerResult(records=[], summary=<neo4j._work.summary.ResultSummary object at 0x16623e550>, keys=[]),\n",
       " EagerResult(records=[], summary=<neo4j._work.summary.ResultSummary object at 0x16623f110>, keys=[]),\n",
       " EagerResult(records=[], summary=<neo4j._work.summary.ResultSummary object at 0x16623fcd0>, keys=[]),\n",
       " EagerResult(records=[], summary=<neo4j._work.summary.ResultSummary object at 0x1662008d0>, keys=[]),\n",
       " EagerResult(records=[], summary=<neo4j._work.summary.ResultSummary object at 0x1662014d0>, keys=[]),\n",
       " EagerResult(records=[], summary=<neo4j._work.summary.ResultSummary object at 0x1662020d0>, keys=[]),\n",
       " EagerResult(records=[], summary=<neo4j._work.summary.ResultSummary object at 0x166202cd0>, keys=[]),\n",
       " EagerResult(records=[], summary=<neo4j._work.summary.ResultSummary object at 0x1662038d0>, keys=[]),\n",
       " EagerResult(records=[], summary=<neo4j._work.summary.ResultSummary object at 0x166250510>, keys=[]),\n",
       " EagerResult(records=[], summary=<neo4j._work.summary.ResultSummary object at 0x166251110>, keys=[]),\n",
       " EagerResult(records=[], summary=<neo4j._work.summary.ResultSummary object at 0x166251d10>, keys=[]),\n",
       " EagerResult(records=[], summary=<neo4j._work.summary.ResultSummary object at 0x166252910>, keys=[]),\n",
       " EagerResult(records=[], summary=<neo4j._work.summary.ResultSummary object at 0x166253510>, keys=[]),\n",
       " EagerResult(records=[], summary=<neo4j._work.summary.ResultSummary object at 0x166210150>, keys=[]),\n",
       " EagerResult(records=[], summary=<neo4j._work.summary.ResultSummary object at 0x166210d50>, keys=[]),\n",
       " EagerResult(records=[], summary=<neo4j._work.summary.ResultSummary object at 0x166211950>, keys=[]),\n",
       " EagerResult(records=[], summary=<neo4j._work.summary.ResultSummary object at 0x1662126d0>, keys=[]),\n",
       " EagerResult(records=[], summary=<neo4j._work.summary.ResultSummary object at 0x166213290>, keys=[]),\n",
       " EagerResult(records=[], summary=<neo4j._work.summary.ResultSummary object at 0x166213e50>, keys=[]),\n",
       " EagerResult(records=[], summary=<neo4j._work.summary.ResultSummary object at 0x166268a50>, keys=[]),\n",
       " EagerResult(records=[], summary=<neo4j._work.summary.ResultSummary object at 0x166269610>, keys=[]),\n",
       " EagerResult(records=[], summary=<neo4j._work.summary.ResultSummary object at 0x16626a1d0>, keys=[]),\n",
       " EagerResult(records=[], summary=<neo4j._work.summary.ResultSummary object at 0x16626ad90>, keys=[]),\n",
       " EagerResult(records=[], summary=<neo4j._work.summary.ResultSummary object at 0x16626b990>, keys=[]),\n",
       " EagerResult(records=[], summary=<neo4j._work.summary.ResultSummary object at 0x1662245d0>, keys=[]),\n",
       " EagerResult(records=[], summary=<neo4j._work.summary.ResultSummary object at 0x1662251d0>, keys=[]),\n",
       " EagerResult(records=[], summary=<neo4j._work.summary.ResultSummary object at 0x166225dd0>, keys=[]),\n",
       " EagerResult(records=[], summary=<neo4j._work.summary.ResultSummary object at 0x1662269d0>, keys=[]),\n",
       " EagerResult(records=[], summary=<neo4j._work.summary.ResultSummary object at 0x1662275d0>, keys=[]),\n",
       " EagerResult(records=[], summary=<neo4j._work.summary.ResultSummary object at 0x166274210>, keys=[]),\n",
       " EagerResult(records=[], summary=<neo4j._work.summary.ResultSummary object at 0x166274e10>, keys=[]),\n",
       " EagerResult(records=[], summary=<neo4j._work.summary.ResultSummary object at 0x166275a10>, keys=[]),\n",
       " EagerResult(records=[], summary=<neo4j._work.summary.ResultSummary object at 0x166276610>, keys=[]),\n",
       " EagerResult(records=[], summary=<neo4j._work.summary.ResultSummary object at 0x166277210>, keys=[]),\n",
       " EagerResult(records=[], summary=<neo4j._work.summary.ResultSummary object at 0x166277e10>, keys=[]),\n",
       " EagerResult(records=[], summary=<neo4j._work.summary.ResultSummary object at 0x166238bd0>, keys=[]),\n",
       " EagerResult(records=[], summary=<neo4j._work.summary.ResultSummary object at 0x166239790>, keys=[]),\n",
       " EagerResult(records=[], summary=<neo4j._work.summary.ResultSummary object at 0x16623a350>, keys=[]),\n",
       " EagerResult(records=[], summary=<neo4j._work.summary.ResultSummary object at 0x16623af10>, keys=[]),\n",
       " EagerResult(records=[], summary=<neo4j._work.summary.ResultSummary object at 0x16623bad0>, keys=[]),\n",
       " EagerResult(records=[], summary=<neo4j._work.summary.ResultSummary object at 0x1662486d0>, keys=[]),\n",
       " EagerResult(records=[], summary=<neo4j._work.summary.ResultSummary object at 0x166249290>, keys=[]),\n",
       " EagerResult(records=[], summary=<neo4j._work.summary.ResultSummary object at 0x166249e90>, keys=[]),\n",
       " EagerResult(records=[], summary=<neo4j._work.summary.ResultSummary object at 0x16624aa90>, keys=[]),\n",
       " EagerResult(records=[], summary=<neo4j._work.summary.ResultSummary object at 0x16624b690>, keys=[]),\n",
       " EagerResult(records=[], summary=<neo4j._work.summary.ResultSummary object at 0x16624c2d0>, keys=[]),\n",
       " EagerResult(records=[], summary=<neo4j._work.summary.ResultSummary object at 0x16624ced0>, keys=[]),\n",
       " EagerResult(records=[], summary=<neo4j._work.summary.ResultSummary object at 0x16624dad0>, keys=[]),\n",
       " EagerResult(records=[], summary=<neo4j._work.summary.ResultSummary object at 0x16624e6d0>, keys=[]),\n",
       " EagerResult(records=[], summary=<neo4j._work.summary.ResultSummary object at 0x16624f2d0>, keys=[]),\n",
       " EagerResult(records=[], summary=<neo4j._work.summary.ResultSummary object at 0x16624fed0>, keys=[]),\n",
       " EagerResult(records=[], summary=<neo4j._work.summary.ResultSummary object at 0x16625cb10>, keys=[]),\n",
       " EagerResult(records=[], summary=<neo4j._work.summary.ResultSummary object at 0x16625d710>, keys=[]),\n",
       " EagerResult(records=[], summary=<neo4j._work.summary.ResultSummary object at 0x16625e310>, keys=[]),\n",
       " EagerResult(records=[], summary=<neo4j._work.summary.ResultSummary object at 0x16625f090>, keys=[]),\n",
       " EagerResult(records=[], summary=<neo4j._work.summary.ResultSummary object at 0x16625fc50>, keys=[]),\n",
       " EagerResult(records=[], summary=<neo4j._work.summary.ResultSummary object at 0x16626c850>, keys=[]),\n",
       " EagerResult(records=[], summary=<neo4j._work.summary.ResultSummary object at 0x16626d410>, keys=[]),\n",
       " EagerResult(records=[], summary=<neo4j._work.summary.ResultSummary object at 0x16626dfd0>, keys=[]),\n",
       " EagerResult(records=[], summary=<neo4j._work.summary.ResultSummary object at 0x16626eb90>, keys=[]),\n",
       " EagerResult(records=[], summary=<neo4j._work.summary.ResultSummary object at 0x16626f750>, keys=[]),\n",
       " EagerResult(records=[], summary=<neo4j._work.summary.ResultSummary object at 0x16627c390>, keys=[]),\n",
       " EagerResult(records=[], summary=<neo4j._work.summary.ResultSummary object at 0x16627cf90>, keys=[]),\n",
       " EagerResult(records=[], summary=<neo4j._work.summary.ResultSummary object at 0x16627db90>, keys=[]),\n",
       " EagerResult(records=[], summary=<neo4j._work.summary.ResultSummary object at 0x16627e790>, keys=[]),\n",
       " EagerResult(records=[], summary=<neo4j._work.summary.ResultSummary object at 0x16627f390>, keys=[]),\n",
       " EagerResult(records=[], summary=<neo4j._work.summary.ResultSummary object at 0x16627ff90>, keys=[]),\n",
       " EagerResult(records=[], summary=<neo4j._work.summary.ResultSummary object at 0x1662e4c10>, keys=[]),\n",
       " EagerResult(records=[], summary=<neo4j._work.summary.ResultSummary object at 0x1662e5810>, keys=[]),\n",
       " EagerResult(records=[], summary=<neo4j._work.summary.ResultSummary object at 0x1662e6410>, keys=[]),\n",
       " EagerResult(records=[], summary=<neo4j._work.summary.ResultSummary object at 0x1662e7010>, keys=[]),\n",
       " EagerResult(records=[], summary=<neo4j._work.summary.ResultSummary object at 0x1662e7c10>, keys=[]),\n",
       " EagerResult(records=[], summary=<neo4j._work.summary.ResultSummary object at 0x166270810>, keys=[]),\n",
       " EagerResult(records=[], summary=<neo4j._work.summary.ResultSummary object at 0x166271590>, keys=[]),\n",
       " EagerResult(records=[], summary=<neo4j._work.summary.ResultSummary object at 0x166272190>, keys=[]),\n",
       " EagerResult(records=[], summary=<neo4j._work.summary.ResultSummary object at 0x166272dd0>, keys=[]),\n",
       " EagerResult(records=[], summary=<neo4j._work.summary.ResultSummary object at 0x166273990>, keys=[]),\n",
       " EagerResult(records=[], summary=<neo4j._work.summary.ResultSummary object at 0x1662904d0>, keys=[]),\n",
       " EagerResult(records=[], summary=<neo4j._work.summary.ResultSummary object at 0x166291090>, keys=[]),\n",
       " EagerResult(records=[], summary=<neo4j._work.summary.ResultSummary object at 0x166291c50>, keys=[]),\n",
       " EagerResult(records=[], summary=<neo4j._work.summary.ResultSummary object at 0x166292850>, keys=[]),\n",
       " EagerResult(records=[], summary=<neo4j._work.summary.ResultSummary object at 0x166293450>, keys=[]),\n",
       " EagerResult(records=[], summary=<neo4j._work.summary.ResultSummary object at 0x16629c090>, keys=[]),\n",
       " EagerResult(records=[], summary=<neo4j._work.summary.ResultSummary object at 0x16629cc90>, keys=[]),\n",
       " EagerResult(records=[], summary=<neo4j._work.summary.ResultSummary object at 0x16629d890>, keys=[]),\n",
       " EagerResult(records=[], summary=<neo4j._work.summary.ResultSummary object at 0x16629e490>, keys=[]),\n",
       " EagerResult(records=[], summary=<neo4j._work.summary.ResultSummary object at 0x16629f090>, keys=[]),\n",
       " EagerResult(records=[], summary=<neo4j._work.summary.ResultSummary object at 0x16629fc90>, keys=[]),\n",
       " EagerResult(records=[], summary=<neo4j._work.summary.ResultSummary object at 0x1662a0910>, keys=[]),\n",
       " EagerResult(records=[], summary=<neo4j._work.summary.ResultSummary object at 0x1662a1510>, keys=[]),\n",
       " EagerResult(records=[], summary=<neo4j._work.summary.ResultSummary object at 0x1662a2110>, keys=[]),\n",
       " EagerResult(records=[], summary=<neo4j._work.summary.ResultSummary object at 0x1662a2d10>, keys=[]),\n",
       " EagerResult(records=[], summary=<neo4j._work.summary.ResultSummary object at 0x1662a3a90>, keys=[]),\n",
       " EagerResult(records=[], summary=<neo4j._work.summary.ResultSummary object at 0x1662a8650>, keys=[]),\n",
       " EagerResult(records=[], summary=<neo4j._work.summary.ResultSummary object at 0x1662a9210>, keys=[]),\n",
       " EagerResult(records=[], summary=<neo4j._work.summary.ResultSummary object at 0x1662a9dd0>, keys=[]),\n",
       " EagerResult(records=[], summary=<neo4j._work.summary.ResultSummary object at 0x1662aa990>, keys=[]),\n",
       " EagerResult(records=[], summary=<neo4j._work.summary.ResultSummary object at 0x1662ab550>, keys=[]),\n",
       " EagerResult(records=[], summary=<neo4j._work.summary.ResultSummary object at 0x166204150>, keys=[]),\n",
       " EagerResult(records=[], summary=<neo4j._work.summary.ResultSummary object at 0x166204d50>, keys=[]),\n",
       " EagerResult(records=[], summary=<neo4j._work.summary.ResultSummary object at 0x166205950>, keys=[]),\n",
       " EagerResult(records=[], summary=<neo4j._work.summary.ResultSummary object at 0x166206550>, keys=[]),\n",
       " EagerResult(records=[], summary=<neo4j._work.summary.ResultSummary object at 0x166207150>, keys=[]),\n",
       " EagerResult(records=[], summary=<neo4j._work.summary.ResultSummary object at 0x166207d50>, keys=[]),\n",
       " EagerResult(records=[], summary=<neo4j._work.summary.ResultSummary object at 0x1662b8990>, keys=[]),\n",
       " EagerResult(records=[], summary=<neo4j._work.summary.ResultSummary object at 0x1662b9590>, keys=[]),\n",
       " EagerResult(records=[], summary=<neo4j._work.summary.ResultSummary object at 0x1662ba190>, keys=[]),\n",
       " EagerResult(records=[], summary=<neo4j._work.summary.ResultSummary object at 0x1662bad90>, keys=[]),\n",
       " EagerResult(records=[], summary=<neo4j._work.summary.ResultSummary object at 0x1662bb990>, keys=[]),\n",
       " EagerResult(records=[], summary=<neo4j._work.summary.ResultSummary object at 0x1662bc5d0>, keys=[]),\n",
       " EagerResult(records=[], summary=<neo4j._work.summary.ResultSummary object at 0x1662bd1d0>, keys=[]),\n",
       " EagerResult(records=[], summary=<neo4j._work.summary.ResultSummary object at 0x1662bdf50>, keys=[]),\n",
       " EagerResult(records=[], summary=<neo4j._work.summary.ResultSummary object at 0x1662beb10>, keys=[]),\n",
       " EagerResult(records=[], summary=<neo4j._work.summary.ResultSummary object at 0x1662bf6d0>, keys=[]),\n",
       " EagerResult(records=[], summary=<neo4j._work.summary.ResultSummary object at 0x1662c4310>, keys=[]),\n",
       " EagerResult(records=[], summary=<neo4j._work.summary.ResultSummary object at 0x1662c4e50>, keys=[]),\n",
       " EagerResult(records=[], summary=<neo4j._work.summary.ResultSummary object at 0x1662c5a90>, keys=[]),\n",
       " EagerResult(records=[], summary=<neo4j._work.summary.ResultSummary object at 0x1662c65d0>, keys=[]),\n",
       " EagerResult(records=[], summary=<neo4j._work.summary.ResultSummary object at 0x1662c71d0>, keys=[]),\n",
       " EagerResult(records=[], summary=<neo4j._work.summary.ResultSummary object at 0x1662c7dd0>, keys=[]),\n",
       " EagerResult(records=[], summary=<neo4j._work.summary.ResultSummary object at 0x166214a50>, keys=[]),\n",
       " EagerResult(records=[], summary=<neo4j._work.summary.ResultSummary object at 0x166215650>, keys=[]),\n",
       " EagerResult(records=[], summary=<neo4j._work.summary.ResultSummary object at 0x166216250>, keys=[]),\n",
       " EagerResult(records=[], summary=<neo4j._work.summary.ResultSummary object at 0x166216e50>, keys=[]),\n",
       " EagerResult(records=[], summary=<neo4j._work.summary.ResultSummary object at 0x166217a50>, keys=[]),\n",
       " EagerResult(records=[], summary=<neo4j._work.summary.ResultSummary object at 0x1662cc690>, keys=[]),\n",
       " EagerResult(records=[], summary=<neo4j._work.summary.ResultSummary object at 0x1662cd290>, keys=[]),\n",
       " EagerResult(records=[], summary=<neo4j._work.summary.ResultSummary object at 0x1662cde90>, keys=[]),\n",
       " EagerResult(records=[], summary=<neo4j._work.summary.ResultSummary object at 0x1662cea90>, keys=[]),\n",
       " EagerResult(records=[], summary=<neo4j._work.summary.ResultSummary object at 0x1662cf690>, keys=[]),\n",
       " EagerResult(records=[], summary=<neo4j._work.summary.ResultSummary object at 0x1662d4410>, keys=[]),\n",
       " EagerResult(records=[], summary=<neo4j._work.summary.ResultSummary object at 0x1662d5050>, keys=[]),\n",
       " EagerResult(records=[], summary=<neo4j._work.summary.ResultSummary object at 0x1662d5b90>, keys=[]),\n",
       " EagerResult(records=[], summary=<neo4j._work.summary.ResultSummary object at 0x1662d67d0>, keys=[]),\n",
       " EagerResult(records=[], summary=<neo4j._work.summary.ResultSummary object at 0x1662d7310>, keys=[]),\n",
       " EagerResult(records=[], summary=<neo4j._work.summary.ResultSummary object at 0x1662d7f50>, keys=[]),\n",
       " EagerResult(records=[], summary=<neo4j._work.summary.ResultSummary object at 0x1662d8b10>, keys=[]),\n",
       " EagerResult(records=[], summary=<neo4j._work.summary.ResultSummary object at 0x1662d9710>, keys=[]),\n",
       " EagerResult(records=[], summary=<neo4j._work.summary.ResultSummary object at 0x1662da310>, keys=[]),\n",
       " EagerResult(records=[], summary=<neo4j._work.summary.ResultSummary object at 0x1662daf10>, keys=[]),\n",
       " EagerResult(records=[], summary=<neo4j._work.summary.ResultSummary object at 0x1662dbb10>, keys=[]),\n",
       " EagerResult(records=[], summary=<neo4j._work.summary.ResultSummary object at 0x166220750>, keys=[]),\n",
       " EagerResult(records=[], summary=<neo4j._work.summary.ResultSummary object at 0x166221350>, keys=[]),\n",
       " EagerResult(records=[], summary=<neo4j._work.summary.ResultSummary object at 0x166221f50>, keys=[]),\n",
       " EagerResult(records=[], summary=<neo4j._work.summary.ResultSummary object at 0x166222b50>, keys=[]),\n",
       " EagerResult(records=[], summary=<neo4j._work.summary.ResultSummary object at 0x166223750>, keys=[]),\n",
       " EagerResult(records=[], summary=<neo4j._work.summary.ResultSummary object at 0x1662e0390>, keys=[]),\n",
       " EagerResult(records=[], summary=<neo4j._work.summary.ResultSummary object at 0x1662e0f90>, keys=[]),\n",
       " EagerResult(records=[], summary=<neo4j._work.summary.ResultSummary object at 0x1662e1b90>, keys=[]),\n",
       " EagerResult(records=[], summary=<neo4j._work.summary.ResultSummary object at 0x1662e2910>, keys=[]),\n",
       " EagerResult(records=[], summary=<neo4j._work.summary.ResultSummary object at 0x1662e34d0>, keys=[]),\n",
       " EagerResult(records=[], summary=<neo4j._work.summary.ResultSummary object at 0x1662280d0>, keys=[]),\n",
       " EagerResult(records=[], summary=<neo4j._work.summary.ResultSummary object at 0x166228c90>, keys=[]),\n",
       " EagerResult(records=[], summary=<neo4j._work.summary.ResultSummary object at 0x166229850>, keys=[]),\n",
       " EagerResult(records=[], summary=<neo4j._work.summary.ResultSummary object at 0x16622a410>, keys=[]),\n",
       " EagerResult(records=[], summary=<neo4j._work.summary.ResultSummary object at 0x16622afd0>, keys=[]),\n",
       " EagerResult(records=[], summary=<neo4j._work.summary.ResultSummary object at 0x16622bbd0>, keys=[]),\n",
       " EagerResult(records=[], summary=<neo4j._work.summary.ResultSummary object at 0x1662f0810>, keys=[]),\n",
       " EagerResult(records=[], summary=<neo4j._work.summary.ResultSummary object at 0x1662f1410>, keys=[]),\n",
       " EagerResult(records=[], summary=<neo4j._work.summary.ResultSummary object at 0x1662f2010>, keys=[]),\n",
       " EagerResult(records=[], summary=<neo4j._work.summary.ResultSummary object at 0x1662f2c10>, keys=[]),\n",
       " EagerResult(records=[], summary=<neo4j._work.summary.ResultSummary object at 0x1662f3810>, keys=[]),\n",
       " EagerResult(records=[], summary=<neo4j._work.summary.ResultSummary object at 0x166394450>, keys=[]),\n",
       " EagerResult(records=[], summary=<neo4j._work.summary.ResultSummary object at 0x166395050>, keys=[]),\n",
       " EagerResult(records=[], summary=<neo4j._work.summary.ResultSummary object at 0x166395c50>, keys=[]),\n",
       " EagerResult(records=[], summary=<neo4j._work.summary.ResultSummary object at 0x166396850>, keys=[]),\n",
       " EagerResult(records=[], summary=<neo4j._work.summary.ResultSummary object at 0x166397450>, keys=[]),\n",
       " EagerResult(records=[], summary=<neo4j._work.summary.ResultSummary object at 0x1663a0090>, keys=[]),\n",
       " EagerResult(records=[], summary=<neo4j._work.summary.ResultSummary object at 0x1663a0e10>, keys=[]),\n",
       " EagerResult(records=[], summary=<neo4j._work.summary.ResultSummary object at 0x1663a19d0>, keys=[]),\n",
       " EagerResult(records=[], summary=<neo4j._work.summary.ResultSummary object at 0x1663a2590>, keys=[]),\n",
       " EagerResult(records=[], summary=<neo4j._work.summary.ResultSummary object at 0x1663a3150>, keys=[]),\n",
       " EagerResult(records=[], summary=<neo4j._work.summary.ResultSummary object at 0x1663a3d10>, keys=[]),\n",
       " EagerResult(records=[], summary=<neo4j._work.summary.ResultSummary object at 0x166330910>, keys=[]),\n",
       " EagerResult(records=[], summary=<neo4j._work.summary.ResultSummary object at 0x1663314d0>, keys=[]),\n",
       " EagerResult(records=[], summary=<neo4j._work.summary.ResultSummary object at 0x1663320d0>, keys=[]),\n",
       " EagerResult(records=[], summary=<neo4j._work.summary.ResultSummary object at 0x166332cd0>, keys=[]),\n",
       " EagerResult(records=[], summary=<neo4j._work.summary.ResultSummary object at 0x1663338d0>, keys=[]),\n",
       " EagerResult(records=[], summary=<neo4j._work.summary.ResultSummary object at 0x166338550>, keys=[]),\n",
       " EagerResult(records=[], summary=<neo4j._work.summary.ResultSummary object at 0x166339150>, keys=[]),\n",
       " EagerResult(records=[], summary=<neo4j._work.summary.ResultSummary object at 0x166339d50>, keys=[]),\n",
       " EagerResult(records=[], summary=<neo4j._work.summary.ResultSummary object at 0x16633a950>, keys=[]),\n",
       " EagerResult(records=[], summary=<neo4j._work.summary.ResultSummary object at 0x16633b550>, keys=[]),\n",
       " EagerResult(records=[], summary=<neo4j._work.summary.ResultSummary object at 0x166340150>, keys=[]),\n",
       " EagerResult(records=[], summary=<neo4j._work.summary.ResultSummary object at 0x166340d50>, keys=[]),\n",
       " EagerResult(records=[], summary=<neo4j._work.summary.ResultSummary object at 0x166341950>, keys=[]),\n",
       " EagerResult(records=[], summary=<neo4j._work.summary.ResultSummary object at 0x166342550>, keys=[]),\n",
       " EagerResult(records=[], summary=<neo4j._work.summary.ResultSummary object at 0x1663432d0>, keys=[]),\n",
       " EagerResult(records=[], summary=<neo4j._work.summary.ResultSummary object at 0x166343e90>, keys=[]),\n",
       " EagerResult(records=[], summary=<neo4j._work.summary.ResultSummary object at 0x1663a4a90>, keys=[]),\n",
       " EagerResult(records=[], summary=<neo4j._work.summary.ResultSummary object at 0x1663a5610>, keys=[]),\n",
       " EagerResult(records=[], summary=<neo4j._work.summary.ResultSummary object at 0x1663a61d0>, keys=[]),\n",
       " EagerResult(records=[], summary=<neo4j._work.summary.ResultSummary object at 0x1663a6d90>, keys=[]),\n",
       " EagerResult(records=[], summary=<neo4j._work.summary.ResultSummary object at 0x1663a7950>, keys=[]),\n",
       " EagerResult(records=[], summary=<neo4j._work.summary.ResultSummary object at 0x166348590>, keys=[]),\n",
       " EagerResult(records=[], summary=<neo4j._work.summary.ResultSummary object at 0x166349190>, keys=[]),\n",
       " EagerResult(records=[], summary=<neo4j._work.summary.ResultSummary object at 0x166349d90>, keys=[]),\n",
       " EagerResult(records=[], summary=<neo4j._work.summary.ResultSummary object at 0x16634a990>, keys=[]),\n",
       " EagerResult(records=[], summary=<neo4j._work.summary.ResultSummary object at 0x16634b590>, keys=[]),\n",
       " EagerResult(records=[], summary=<neo4j._work.summary.ResultSummary object at 0x16634c190>, keys=[]),\n",
       " EagerResult(records=[], summary=<neo4j._work.summary.ResultSummary object at 0x16634cd90>, keys=[]),\n",
       " EagerResult(records=[], summary=<neo4j._work.summary.ResultSummary object at 0x16634d990>, keys=[]),\n",
       " EagerResult(records=[], summary=<neo4j._work.summary.ResultSummary object at 0x16634e590>, keys=[]),\n",
       " EagerResult(records=[], summary=<neo4j._work.summary.ResultSummary object at 0x16634f190>, keys=[]),\n",
       " EagerResult(records=[], summary=<neo4j._work.summary.ResultSummary object at 0x16634fd90>, keys=[]),\n",
       " EagerResult(records=[], summary=<neo4j._work.summary.ResultSummary object at 0x1663ac9d0>, keys=[]),\n",
       " EagerResult(records=[], summary=<neo4j._work.summary.ResultSummary object at 0x1663ad750>, keys=[]),\n",
       " EagerResult(records=[], summary=<neo4j._work.summary.ResultSummary object at 0x1663ae310>, keys=[]),\n",
       " EagerResult(records=[], summary=<neo4j._work.summary.ResultSummary object at 0x1663aeed0>, keys=[]),\n",
       " EagerResult(records=[], summary=<neo4j._work.summary.ResultSummary object at 0x1663afa90>, keys=[]),\n",
       " EagerResult(records=[], summary=<neo4j._work.summary.ResultSummary object at 0x1663586d0>, keys=[]),\n",
       " EagerResult(records=[], summary=<neo4j._work.summary.ResultSummary object at 0x1663592d0>, keys=[]),\n",
       " EagerResult(records=[], summary=<neo4j._work.summary.ResultSummary object at 0x166359e10>, keys=[]),\n",
       " EagerResult(records=[], summary=<neo4j._work.summary.ResultSummary object at 0x16635aa10>, keys=[]),\n",
       " EagerResult(records=[], summary=<neo4j._work.summary.ResultSummary object at 0x16635b610>, keys=[]),\n",
       " EagerResult(records=[], summary=<neo4j._work.summary.ResultSummary object at 0x166360250>, keys=[]),\n",
       " EagerResult(records=[], summary=<neo4j._work.summary.ResultSummary object at 0x166360e50>, keys=[]),\n",
       " EagerResult(records=[], summary=<neo4j._work.summary.ResultSummary object at 0x166361a50>, keys=[]),\n",
       " EagerResult(records=[], summary=<neo4j._work.summary.ResultSummary object at 0x1663626d0>, keys=[]),\n",
       " EagerResult(records=[], summary=<neo4j._work.summary.ResultSummary object at 0x1663632d0>, keys=[]),\n",
       " EagerResult(records=[], summary=<neo4j._work.summary.ResultSummary object at 0x166363ed0>, keys=[]),\n",
       " EagerResult(records=[], summary=<neo4j._work.summary.ResultSummary object at 0x1663b4b10>, keys=[]),\n",
       " EagerResult(records=[], summary=<neo4j._work.summary.ResultSummary object at 0x1663b5710>, keys=[]),\n",
       " EagerResult(records=[], summary=<neo4j._work.summary.ResultSummary object at 0x1663b6310>, keys=[]),\n",
       " EagerResult(records=[], summary=<neo4j._work.summary.ResultSummary object at 0x1663b6f10>, keys=[]),\n",
       " EagerResult(records=[], summary=<neo4j._work.summary.ResultSummary object at 0x1663b7c90>, keys=[]),\n",
       " EagerResult(records=[], summary=<neo4j._work.summary.ResultSummary object at 0x166368850>, keys=[]),\n",
       " EagerResult(records=[], summary=<neo4j._work.summary.ResultSummary object at 0x166369490>, keys=[]),\n",
       " EagerResult(records=[], summary=<neo4j._work.summary.ResultSummary object at 0x166369fd0>, keys=[]),\n",
       " EagerResult(records=[], summary=<neo4j._work.summary.ResultSummary object at 0x16636ac10>, keys=[]),\n",
       " EagerResult(records=[], summary=<neo4j._work.summary.ResultSummary object at 0x16636b750>, keys=[]),\n",
       " EagerResult(records=[], summary=<neo4j._work.summary.ResultSummary object at 0x16636c390>, keys=[]),\n",
       " EagerResult(records=[], summary=<neo4j._work.summary.ResultSummary object at 0x16636cf90>, keys=[]),\n",
       " EagerResult(records=[], summary=<neo4j._work.summary.ResultSummary object at 0x16636db90>, keys=[]),\n",
       " EagerResult(records=[], summary=<neo4j._work.summary.ResultSummary object at 0x16636e790>, keys=[]),\n",
       " EagerResult(records=[], summary=<neo4j._work.summary.ResultSummary object at 0x16636f390>, keys=[]),\n",
       " EagerResult(records=[], summary=<neo4j._work.summary.ResultSummary object at 0x16636ff90>, keys=[]),\n",
       " EagerResult(records=[], summary=<neo4j._work.summary.ResultSummary object at 0x1663b8bd0>, keys=[]),\n",
       " EagerResult(records=[], summary=<neo4j._work.summary.ResultSummary object at 0x1663b97d0>, keys=[]),\n",
       " EagerResult(records=[], summary=<neo4j._work.summary.ResultSummary object at 0x1663ba3d0>, keys=[]),\n",
       " EagerResult(records=[], summary=<neo4j._work.summary.ResultSummary object at 0x1663bafd0>, keys=[]),\n",
       " EagerResult(records=[], summary=<neo4j._work.summary.ResultSummary object at 0x1663bbbd0>, keys=[]),\n",
       " EagerResult(records=[], summary=<neo4j._work.summary.ResultSummary object at 0x166374810>, keys=[]),\n",
       " EagerResult(records=[], summary=<neo4j._work.summary.ResultSummary object at 0x166375410>, keys=[]),\n",
       " EagerResult(records=[], summary=<neo4j._work.summary.ResultSummary object at 0x166376190>, keys=[]),\n",
       " EagerResult(records=[], summary=<neo4j._work.summary.ResultSummary object at 0x166376d50>, keys=[]),\n",
       " EagerResult(records=[], summary=<neo4j._work.summary.ResultSummary object at 0x166377910>, keys=[]),\n",
       " EagerResult(records=[], summary=<neo4j._work.summary.ResultSummary object at 0x166380510>, keys=[]),\n",
       " EagerResult(records=[], summary=<neo4j._work.summary.ResultSummary object at 0x1663810d0>, keys=[]),\n",
       " EagerResult(records=[], summary=<neo4j._work.summary.ResultSummary object at 0x166381c90>, keys=[]),\n",
       " EagerResult(records=[], summary=<neo4j._work.summary.ResultSummary object at 0x166382850>, keys=[]),\n",
       " EagerResult(records=[], summary=<neo4j._work.summary.ResultSummary object at 0x166383450>, keys=[]),\n",
       " EagerResult(records=[], summary=<neo4j._work.summary.ResultSummary object at 0x166384090>, keys=[]),\n",
       " EagerResult(records=[], summary=<neo4j._work.summary.ResultSummary object at 0x166384c90>, keys=[]),\n",
       " EagerResult(records=[], summary=<neo4j._work.summary.ResultSummary object at 0x166385890>, keys=[]),\n",
       " EagerResult(records=[], summary=<neo4j._work.summary.ResultSummary object at 0x166386490>, keys=[]),\n",
       " EagerResult(records=[], summary=<neo4j._work.summary.ResultSummary object at 0x166387090>, keys=[]),\n",
       " EagerResult(records=[], summary=<neo4j._work.summary.ResultSummary object at 0x166387c90>, keys=[]),\n",
       " EagerResult(records=[], summary=<neo4j._work.summary.ResultSummary object at 0x1663908d0>, keys=[]),\n",
       " EagerResult(records=[], summary=<neo4j._work.summary.ResultSummary object at 0x1663914d0>, keys=[]),\n",
       " EagerResult(records=[], summary=<neo4j._work.summary.ResultSummary object at 0x1663920d0>, keys=[]),\n",
       " EagerResult(records=[], summary=<neo4j._work.summary.ResultSummary object at 0x166392cd0>, keys=[]),\n",
       " EagerResult(records=[], summary=<neo4j._work.summary.ResultSummary object at 0x1663938d0>, keys=[]),\n",
       " EagerResult(records=[], summary=<neo4j._work.summary.ResultSummary object at 0x166398690>, keys=[]),\n",
       " EagerResult(records=[], summary=<neo4j._work.summary.ResultSummary object at 0x166399250>, keys=[]),\n",
       " EagerResult(records=[], summary=<neo4j._work.summary.ResultSummary object at 0x166399e10>, keys=[]),\n",
       " EagerResult(records=[], summary=<neo4j._work.summary.ResultSummary object at 0x16639a9d0>, keys=[]),\n",
       " EagerResult(records=[], summary=<neo4j._work.summary.ResultSummary object at 0x16639b590>, keys=[]),\n",
       " EagerResult(records=[], summary=<neo4j._work.summary.ResultSummary object at 0x16630c190>, keys=[]),\n",
       " EagerResult(records=[], summary=<neo4j._work.summary.ResultSummary object at 0x16630cd50>, keys=[]),\n",
       " EagerResult(records=[], summary=<neo4j._work.summary.ResultSummary object at 0x16630d950>, keys=[]),\n",
       " EagerResult(records=[], summary=<neo4j._work.summary.ResultSummary object at 0x16630e550>, keys=[]),\n",
       " EagerResult(records=[], summary=<neo4j._work.summary.ResultSummary object at 0x16630f150>, keys=[]),\n",
       " EagerResult(records=[], summary=<neo4j._work.summary.ResultSummary object at 0x16630fd50>, keys=[]),\n",
       " EagerResult(records=[], summary=<neo4j._work.summary.ResultSummary object at 0x166310990>, keys=[]),\n",
       " EagerResult(records=[], summary=<neo4j._work.summary.ResultSummary object at 0x166311590>, keys=[]),\n",
       " EagerResult(records=[], summary=<neo4j._work.summary.ResultSummary object at 0x166312190>, keys=[]),\n",
       " EagerResult(records=[], summary=<neo4j._work.summary.ResultSummary object at 0x166312d90>, keys=[]),\n",
       " EagerResult(records=[], summary=<neo4j._work.summary.ResultSummary object at 0x166313990>, keys=[]),\n",
       " EagerResult(records=[], summary=<neo4j._work.summary.ResultSummary object at 0x1663145d0>, keys=[]),\n",
       " EagerResult(records=[], summary=<neo4j._work.summary.ResultSummary object at 0x1663151d0>, keys=[]),\n",
       " EagerResult(records=[], summary=<neo4j._work.summary.ResultSummary object at 0x166315dd0>, keys=[]),\n",
       " EagerResult(records=[], summary=<neo4j._work.summary.ResultSummary object at 0x166316b50>, keys=[]),\n",
       " EagerResult(records=[], summary=<neo4j._work.summary.ResultSummary object at 0x166317710>, keys=[]),\n",
       " EagerResult(records=[], summary=<neo4j._work.summary.ResultSummary object at 0x16631c310>, keys=[]),\n",
       " EagerResult(records=[], summary=<neo4j._work.summary.ResultSummary object at 0x16631ced0>, keys=[]),\n",
       " EagerResult(records=[], summary=<neo4j._work.summary.ResultSummary object at 0x16631da90>, keys=[]),\n",
       " EagerResult(records=[], summary=<neo4j._work.summary.ResultSummary object at 0x16631e650>, keys=[]),\n",
       " EagerResult(records=[], summary=<neo4j._work.summary.ResultSummary object at 0x16631f210>, keys=[]),\n",
       " EagerResult(records=[], summary=<neo4j._work.summary.ResultSummary object at 0x16631fe10>, keys=[]),\n",
       " EagerResult(records=[], summary=<neo4j._work.summary.ResultSummary object at 0x1663cca50>, keys=[]),\n",
       " EagerResult(records=[], summary=<neo4j._work.summary.ResultSummary object at 0x1663cd650>, keys=[]),\n",
       " EagerResult(records=[], summary=<neo4j._work.summary.ResultSummary object at 0x1663ce250>, keys=[]),\n",
       " EagerResult(records=[], summary=<neo4j._work.summary.ResultSummary object at 0x1663cee50>, keys=[]),\n",
       " EagerResult(records=[], summary=<neo4j._work.summary.ResultSummary object at 0x1663cfa50>, keys=[]),\n",
       " EagerResult(records=[], summary=<neo4j._work.summary.ResultSummary object at 0x1663d8690>, keys=[]),\n",
       " EagerResult(records=[], summary=<neo4j._work.summary.ResultSummary object at 0x1663d9290>, keys=[]),\n",
       " EagerResult(records=[], summary=<neo4j._work.summary.ResultSummary object at 0x1663d9e90>, keys=[]),\n",
       " EagerResult(records=[], summary=<neo4j._work.summary.ResultSummary object at 0x1663daa90>, keys=[]),\n",
       " EagerResult(records=[], summary=<neo4j._work.summary.ResultSummary object at 0x1663db690>, keys=[]),\n",
       " EagerResult(records=[], summary=<neo4j._work.summary.ResultSummary object at 0x1663dc2d0>, keys=[]),\n",
       " EagerResult(records=[], summary=<neo4j._work.summary.ResultSummary object at 0x1663dd050>, keys=[]),\n",
       " EagerResult(records=[], summary=<neo4j._work.summary.ResultSummary object at 0x1663ddc10>, keys=[]),\n",
       " EagerResult(records=[], summary=<neo4j._work.summary.ResultSummary object at 0x1663de7d0>, keys=[]),\n",
       " EagerResult(records=[], summary=<neo4j._work.summary.ResultSummary object at 0x1663df390>, keys=[]),\n",
       " EagerResult(records=[], summary=<neo4j._work.summary.ResultSummary object at 0x1663dff50>, keys=[]),\n",
       " EagerResult(records=[], summary=<neo4j._work.summary.ResultSummary object at 0x1663e4b50>, keys=[]),\n",
       " EagerResult(records=[], summary=<neo4j._work.summary.ResultSummary object at 0x1663e5710>, keys=[]),\n",
       " EagerResult(records=[], summary=<neo4j._work.summary.ResultSummary object at 0x1663e6310>, keys=[]),\n",
       " EagerResult(records=[], summary=<neo4j._work.summary.ResultSummary object at 0x1663e6f10>, keys=[]),\n",
       " EagerResult(records=[], summary=<neo4j._work.summary.ResultSummary object at 0x1663e7b10>, keys=[]),\n",
       " EagerResult(records=[], summary=<neo4j._work.summary.ResultSummary object at 0x1663e8750>, keys=[]),\n",
       " EagerResult(records=[], summary=<neo4j._work.summary.ResultSummary object at 0x1663e9350>, keys=[]),\n",
       " EagerResult(records=[], summary=<neo4j._work.summary.ResultSummary object at 0x1663e9f50>, keys=[]),\n",
       " EagerResult(records=[], summary=<neo4j._work.summary.ResultSummary object at 0x1663eab50>, keys=[]),\n",
       " EagerResult(records=[], summary=<neo4j._work.summary.ResultSummary object at 0x1663eb750>, keys=[]),\n",
       " EagerResult(records=[], summary=<neo4j._work.summary.ResultSummary object at 0x1663f0390>, keys=[]),\n",
       " EagerResult(records=[], summary=<neo4j._work.summary.ResultSummary object at 0x1663f0f90>, keys=[]),\n",
       " EagerResult(records=[], summary=<neo4j._work.summary.ResultSummary object at 0x1663f1b90>, keys=[]),\n",
       " EagerResult(records=[], summary=<neo4j._work.summary.ResultSummary object at 0x1663f2790>, keys=[]),\n",
       " EagerResult(records=[], summary=<neo4j._work.summary.ResultSummary object at 0x1663f3510>, keys=[]),\n",
       " EagerResult(records=[], summary=<neo4j._work.summary.ResultSummary object at 0x1663fc110>, keys=[]),\n",
       " EagerResult(records=[], summary=<neo4j._work.summary.ResultSummary object at 0x1663fccd0>, keys=[]),\n",
       " EagerResult(records=[], summary=<neo4j._work.summary.ResultSummary object at 0x1663fd890>, keys=[]),\n",
       " EagerResult(records=[], summary=<neo4j._work.summary.ResultSummary object at 0x1663fe450>, keys=[]),\n",
       " EagerResult(records=[], summary=<neo4j._work.summary.ResultSummary object at 0x1663ff010>, keys=[]),\n",
       " EagerResult(records=[], summary=<neo4j._work.summary.ResultSummary object at 0x1663ffbd0>, keys=[]),\n",
       " EagerResult(records=[], summary=<neo4j._work.summary.ResultSummary object at 0x166400810>, keys=[]),\n",
       " EagerResult(records=[], summary=<neo4j._work.summary.ResultSummary object at 0x166401410>, keys=[]),\n",
       " EagerResult(records=[], summary=<neo4j._work.summary.ResultSummary object at 0x166402010>, keys=[])]"
      ]
     },
     "execution_count": 38,
     "metadata": {},
     "output_type": "execute_result"
    }
   ],
   "source": [
    "_ = graph_utils.execute_query_with_params('''\n",
    "MERGE (c:Country {iso3: $iso3})\n",
    "SET c.aliases = \n",
    "    CASE\n",
    "        WHEN c.aliases IS NULL THEN [$alias]\n",
    "        WHEN NOT $alias IN c.aliases THEN c.aliases + $alias\n",
    "        ELSE c.aliases\n",
    "    END''', *country_aliases)"
   ]
  },
  {
   "cell_type": "markdown",
   "metadata": {},
   "source": [
    "### Country Stats"
   ]
  },
  {
   "cell_type": "markdown",
   "metadata": {},
   "source": [
    "Yearly stats for each country are sourced from [Worldbank](data.worldbank.org). Corporate Tax Rates sourced from [Tax Foundation](https://taxfoundation.org/data/all/global/corporate-tax-rates-by-country-2023)."
   ]
  },
  {
   "cell_type": "code",
   "execution_count": 39,
   "metadata": {},
   "outputs": [],
   "source": [
    "def get_worldbank(indicator: str) -> pd.DataFrame:\n",
    "    '''\n",
    "    Get indicator data using worldbank API\n",
    "    '''\n",
    "    with urllib.request.urlopen(f\"https://api.worldbank.org/v2/country/all/indicator/{indicator}?format=json&per_page=20000\") as url:\n",
    "        data = json.load(url)[1]\n",
    "    ind = data[0]['indicator']['value']\n",
    "    iso3 = map(itemgetter('countryiso3code'), data)\n",
    "    year = map(itemgetter('date'), data)\n",
    "    value = map(itemgetter('value'), data)\n",
    "    return pd.DataFrame({\n",
    "        'iso3': iso3,\n",
    "        'year': year,\n",
    "        ind: value\n",
    "    }).replace('', np.nan)\\\n",
    "      .dropna()\\\n",
    "      .set_index(['iso3', 'year'])"
   ]
  },
  {
   "cell_type": "code",
   "execution_count": 40,
   "metadata": {},
   "outputs": [],
   "source": [
    "population = get_worldbank('SP.POP.TOTL')"
   ]
  },
  {
   "cell_type": "code",
   "execution_count": 41,
   "metadata": {},
   "outputs": [],
   "source": [
    "gdp = get_worldbank('NY.GDP.MKTP.CD')"
   ]
  },
  {
   "cell_type": "code",
   "execution_count": 42,
   "metadata": {},
   "outputs": [],
   "source": [
    "pv = get_worldbank('PV.EST')"
   ]
  },
  {
   "cell_type": "code",
   "execution_count": 43,
   "metadata": {},
   "outputs": [],
   "source": [
    "ctr = pd.read_excel('../data/corp_tax_rate.xlsx')\\\n",
    "        .melt(id_vars='iso_3',\n",
    "              value_vars=range(1980, 2024),\n",
    "              var_name='year',\n",
    "              value_name='corporate_tax_rate')\\\n",
    "        .rename(columns={'iso_3': 'iso3'})\\\n",
    "        .astype({'year': str})\\\n",
    "        .set_index(['iso3', 'year'])"
   ]
  },
  {
   "cell_type": "code",
   "execution_count": 44,
   "metadata": {},
   "outputs": [],
   "source": [
    "stats = pd.concat([population, gdp, pv, ctr], axis=1).sort_index()\\\n",
    "          .reset_index()\\\n",
    "          .rename(columns={\n",
    "              'Population, total': 'population',\n",
    "              'GDP (current US$)': 'gdp',\n",
    "              'Political Stability and Absence of Violence/Terrorism: Estimate': 'pv',\n",
    "              'corporate_tax_rate': 'corporate_tax_rate'\n",
    "          })"
   ]
  },
  {
   "cell_type": "markdown",
   "metadata": {},
   "source": [
    "We use 2022 stats for now"
   ]
  },
  {
   "cell_type": "code",
   "execution_count": 45,
   "metadata": {},
   "outputs": [
    {
     "data": {
      "text/plain": [
       "[{'iso3': 'ABW',\n",
       "  'year': '2022',\n",
       "  'population': 106445.0,\n",
       "  'gdp': 3544707788.05664,\n",
       "  'pv': 1.47468435764313,\n",
       "  'corporate_tax_rate': 25.0},\n",
       " {'iso3': 'AFE',\n",
       "  'year': '2022',\n",
       "  'population': 720859132.0,\n",
       "  'gdp': 1183962133998.87,\n",
       "  'pv': nan,\n",
       "  'corporate_tax_rate': nan},\n",
       " {'iso3': 'AFG',\n",
       "  'year': '2022',\n",
       "  'population': 41128771.0,\n",
       "  'gdp': 14502158192.0904,\n",
       "  'pv': -2.5508017539978,\n",
       "  'corporate_tax_rate': 20.0}]"
      ]
     },
     "execution_count": 45,
     "metadata": {},
     "output_type": "execute_result"
    }
   ],
   "source": [
    "country_stats = stats[stats['year'] == '2022'].to_dict('records')\n",
    "country_stats[:3]"
   ]
  },
  {
   "cell_type": "code",
   "execution_count": 46,
   "metadata": {},
   "outputs": [],
   "source": [
    "_ = graph_utils.execute_query_with_params('''\n",
    "MATCH (c:Country {iso3: $iso3})\n",
    "SET\n",
    "    c.population = $population,\n",
    "    c.gdp = $gdp,\n",
    "    c.pv = $pv,\n",
    "    c.corporate_tax_rate = $corporate_tax_rate''', *country_stats)"
   ]
  },
  {
   "cell_type": "markdown",
   "metadata": {},
   "source": [
    "### Sector Nodes"
   ]
  },
  {
   "cell_type": "markdown",
   "metadata": {},
   "source": [
    "\n",
    "The data used for Sector/Industry nodes comes from [bautheac/GICS](https://github.com/bautheac/GICS) packages the Global Industry Classification Standards (GICS) dataset for consumption in R.  The GICS hierarchy begins with 11 sectors and is followed by 24 industry groups, 68 industries, and 157 sub-industries. "
   ]
  },
  {
   "cell_type": "code",
   "execution_count": 47,
   "metadata": {},
   "outputs": [],
   "source": [
    "gics_url = 'https://github.com/bautheac/GICS/raw/0c2b0e4c0ca56a0e520301fd978fc095ed4fc328/data/standards.rda'\n",
    "gics_response = requests.get(gics_url)\n",
    "\n",
    "rda_file_path = '../data/standards.rda'\n",
    "with open(rda_file_path, 'wb') as file:\n",
    "    file.write(gics_response.content)\n",
    "\n",
    "# Load the .rda file using pyreadr\n",
    "result = pyreadr.read_r(rda_file_path)\n",
    "\n",
    "gics = result[list(result.keys())[0]]\n",
    "\n",
    "os.remove(rda_file_path)"
   ]
  },
  {
   "cell_type": "code",
   "execution_count": 48,
   "metadata": {},
   "outputs": [],
   "source": [
    "# data wrangling for industry/sector\n",
    "\n",
    "def gics_wrangling(df):\n",
    "    df = df.dropna()\n",
    "    df = df.drop_duplicates()\n",
    "    df = df.rename(columns={\n",
    "        'sector id': 'sector_id',\n",
    "        'sector name': 'sector_name',\n",
    "        'industry group id': 'industry_group_id',\n",
    "        'industry group name': 'industry_group_name',\n",
    "        'industry id': 'industry_id',\n",
    "        'industry name': 'industry_name',\n",
    "        'subindustry id': 'subindustry_id',\n",
    "        'subindustry name': 'subindustry_name',\n",
    "        'description': 'primary_activity'\n",
    "    })\n",
    "    df['sector_id'] = df['sector_id'].astype('Int64')  \n",
    "    df['industry_group_id'] = df['industry_group_id'].astype('Int64')\n",
    "    df['industry_id'] = df['industry_id'].astype('Int64')\n",
    "    df['subindustry_id'] = df['subindustry_id'].astype('Int64')\n",
    "    df.reset_index(drop=True, inplace=True)\n",
    "    df.index += 1\n",
    "    return df\n",
    "\n",
    "df_standards = gics_wrangling(gics)"
   ]
  },
  {
   "cell_type": "code",
   "execution_count": 49,
   "metadata": {},
   "outputs": [],
   "source": [
    "sector = df_standards[['sector_id', 'sector_name']] \\\n",
    "        .drop_duplicates() \\\n",
    "        .rename(columns={\n",
    "            'sector_id': 'gics',\n",
    "            'sector_name': 'name'\n",
    "        })"
   ]
  },
  {
   "cell_type": "code",
   "execution_count": 50,
   "metadata": {},
   "outputs": [
    {
     "data": {
      "text/plain": [
       "[{'gics': 10, 'name': 'Energy'},\n",
       " {'gics': 15, 'name': 'Materials'},\n",
       " {'gics': 20, 'name': 'Industrials'},\n",
       " {'gics': 25, 'name': 'Consumer Discretionary'},\n",
       " {'gics': 30, 'name': 'Consumer Staples'}]"
      ]
     },
     "execution_count": 50,
     "metadata": {},
     "output_type": "execute_result"
    }
   ],
   "source": [
    "sector_nodes = sector.to_dict('records')\n",
    "sector_nodes[:5]"
   ]
  },
  {
   "cell_type": "code",
   "execution_count": 51,
   "metadata": {},
   "outputs": [],
   "source": [
    "_ = graph_utils.execute_query_with_params(\"MERGE (:Sector{gics: $gics, name: $name})\", *sector_nodes)"
   ]
  },
  {
   "cell_type": "markdown",
   "metadata": {},
   "source": [
    "### Industry Node"
   ]
  },
  {
   "cell_type": "code",
   "execution_count": 52,
   "metadata": {},
   "outputs": [],
   "source": [
    "industry = df_standards[['subindustry_id', 'subindustry_name', 'primary_activity']] \\\n",
    "           .drop_duplicates() \\\n",
    "           .rename(columns={\n",
    "               'subindustry_id': 'gics',\n",
    "               'subindustry_name': 'name',\n",
    "               'primary_activity': 'description'\n",
    "            })"
   ]
  },
  {
   "cell_type": "markdown",
   "metadata": {},
   "source": [
    "We use a sentence embeddings model to generate embeddings for the industry description."
   ]
  },
  {
   "cell_type": "code",
   "execution_count": 53,
   "metadata": {},
   "outputs": [],
   "source": [
    "EMBEDDING_MODEL = SentenceTransformer(\"all-MiniLM-L6-v2\")"
   ]
  },
  {
   "cell_type": "code",
   "execution_count": 54,
   "metadata": {},
   "outputs": [],
   "source": [
    "industry_desc_embed = EMBEDDING_MODEL.encode(industry['description'].to_numpy())\n",
    "industry['embedding'] = list(map(list, industry_desc_embed))"
   ]
  },
  {
   "cell_type": "code",
   "execution_count": 55,
   "metadata": {},
   "outputs": [],
   "source": [
    "insustry_nodes = industry.to_dict('records')"
   ]
  },
  {
   "cell_type": "code",
   "execution_count": 56,
   "metadata": {},
   "outputs": [],
   "source": [
    "_ = graph_utils.execute_query_with_params(\"MERGE (:Industry{gics: $gics, name: $name, description: $description, embedding: $embedding})\", *insustry_nodes)"
   ]
  },
  {
   "cell_type": "markdown",
   "metadata": {},
   "source": [
    "### Industry PART_OF Sector Relationships"
   ]
  },
  {
   "cell_type": "code",
   "execution_count": 57,
   "metadata": {},
   "outputs": [],
   "source": [
    "industry_sector = df_standards[['subindustry_id', 'sector_id']] \\\n",
    "                  .drop_duplicates() \\\n",
    "                  .rename(columns={\n",
    "                      'subindustry_id': 'industry_gics',\n",
    "                      'sector_id': 'sector_gics'\n",
    "                  })"
   ]
  },
  {
   "cell_type": "code",
   "execution_count": 58,
   "metadata": {},
   "outputs": [
    {
     "data": {
      "text/plain": [
       "[{'industry_gics': 10101010, 'sector_gics': 10},\n",
       " {'industry_gics': 10101020, 'sector_gics': 10},\n",
       " {'industry_gics': 10102010, 'sector_gics': 10},\n",
       " {'industry_gics': 10102020, 'sector_gics': 10},\n",
       " {'industry_gics': 10102030, 'sector_gics': 10}]"
      ]
     },
     "execution_count": 58,
     "metadata": {},
     "output_type": "execute_result"
    }
   ],
   "source": [
    "part_of_relationships = industry_sector.to_dict('records')\n",
    "part_of_relationships[:5]"
   ]
  },
  {
   "cell_type": "code",
   "execution_count": 59,
   "metadata": {},
   "outputs": [],
   "source": [
    "_ = graph_utils.execute_query_with_params('''\n",
    "MATCH\n",
    "    (i:Industry{gics: $industry_gics}),\n",
    "    (s:Sector{gics: $sector_gics})\n",
    "MERGE (i)-[:PART_OF]->(s)''', *part_of_relationships)"
   ]
  },
  {
   "cell_type": "markdown",
   "metadata": {},
   "source": [
    "## Adding Extracted Company Data"
   ]
  },
  {
   "cell_type": "markdown",
   "metadata": {},
   "source": [
    "### Import JSON file"
   ]
  },
  {
   "cell_type": "markdown",
   "metadata": {},
   "source": [
    "In this part, we import the extracted nodes and relationships from `merged_output.json`."
   ]
  },
  {
   "cell_type": "code",
   "execution_count": 61,
   "metadata": {},
   "outputs": [],
   "source": [
    "with open('../er_extraction/merged_output.json', 'r') as file:\n",
    "    merged_json = json.load(file)"
   ]
  },
  {
   "cell_type": "markdown",
   "metadata": {},
   "source": [
    "### Data Validation"
   ]
  },
  {
   "cell_type": "markdown",
   "metadata": {},
   "source": [
    "* This part is only for company nodes, where we want to ensure data integrity by checking the primary key ticker_code and ensuring other fields like company name adhere to specific formatting rules and constraints. \n",
    "* Validating ticker_code as a valid string consisting of 4 to 5 uppercase letters, is for accurate indexing in financial markets.\n",
    "* The process identifies duplicates and keeps the more-info version of an entry over the other duplicates. \n",
    "* Standardizing company names into title case and eliminating special symbols maintains consistency in representation and usability.\n",
    "* All data entry whose ticker_code and company_name does not meet these criteria will be removed to maintain a clean dataset for the reporting of company information."
   ]
  },
  {
   "cell_type": "code",
   "execution_count": 62,
   "metadata": {},
   "outputs": [],
   "source": [
    "def is_valid_ticker(ticker_code):\n",
    "    \"\"\"Helper function to check if the ticker code is valid (str, 4 to 5 letters, all upper case).\"\"\"\n",
    "    return isinstance(ticker_code, str) and 4 <= len(ticker_code) <= 5 and ticker_code.isupper()\n",
    "\n",
    "def remove_invalid_ticker_companies(data):\n",
    "    \"\"\"Remove companies whose ticker_code doesn't meet the 3, 4, or 5 letter criteria.\"\"\"\n",
    "    if isinstance(data, str):\n",
    "        print(\"Warning: data is a string, attempting to load as JSON.\")\n",
    "        data = json.loads(data)  \n",
    "    \n",
    "    if \"nodes\" in data and \"Company\" in data[\"nodes\"]:\n",
    "        companies = data[\"nodes\"][\"Company\"]\n",
    "        filtered_companies = [company for company in companies if is_valid_ticker(company.get(\"ticker_code\"))]\n",
    "        data[\"nodes\"][\"Company\"] = filtered_companies\n",
    "    else:\n",
    "        print(\"Warning: The expected structure is not found in the data.\")\n",
    "\n",
    "    return data\n",
    "\n",
    "def clean_names(name):\n",
    "    name = name.title()\n",
    "    name = re.sub(r'[^\\w\\s]', '', name)\n",
    "    return name\n",
    "\n",
    "def standarize_case(data):\n",
    "    \"\"\"function to standardize title case and no other special.\"\"\"\n",
    "    for company in data[\"nodes\"][\"Company\"]:\n",
    "        company[\"name\"] = clean_names(company[\"name\"])\n",
    "    return data"
   ]
  },
  {
   "cell_type": "code",
   "execution_count": 63,
   "metadata": {},
   "outputs": [
    {
     "name": "stdout",
     "output_type": "stream",
     "text": [
      "Completed.\n"
     ]
    }
   ],
   "source": [
    "def company_validate(data): \n",
    "    data = remove_invalid_ticker_companies(data)\n",
    "    data = standarize_case(data)\n",
    "    print(\"Completed.\")\n",
    "    return data\n",
    "\n",
    "validated_data = company_validate(merged_json)"
   ]
  },
  {
   "cell_type": "markdown",
   "metadata": {},
   "source": [
    "### Adding Company Nodes"
   ]
  },
  {
   "cell_type": "code",
   "execution_count": 64,
   "metadata": {},
   "outputs": [
    {
     "data": {
      "text/plain": [
       "[{'name': 'Apple Inc', 'ticker_code': 'AAPL', 'founded_year': ''},\n",
       " {'name': 'Apple', 'ticker_code': 'AAPL', 'founded_year': ''},\n",
       " {'name': 'Airpods', 'ticker_code': 'AAPL', 'founded_year': ''},\n",
       " {'name': 'Apple', 'ticker_code': 'AAPL', 'founded_year': ''},\n",
       " {'name': 'Major League Soccer Mls',\n",
       "  'ticker_code': 'MLFB',\n",
       "  'founded_year': ''}]"
      ]
     },
     "execution_count": 64,
     "metadata": {},
     "output_type": "execute_result"
    }
   ],
   "source": [
    "companies = validated_data['nodes']['Company']\n",
    "for company in companies:\n",
    "    company['founded_year'] = company['founded_year'] or \"\"\n",
    "companies[:5]"
   ]
  },
  {
   "cell_type": "code",
   "execution_count": 65,
   "metadata": {},
   "outputs": [],
   "source": [
    "_ = graph_utils.execute_query_with_params('''\n",
    "MERGE (c:Company {ticker: $ticker_code})\n",
    "SET c.names = \n",
    "    CASE\n",
    "        WHEN c.names IS NULL THEN [$name]\n",
    "        WHEN NOT $name IN c.names THEN c.names + $name\n",
    "        ELSE c.names\n",
    "    END,\n",
    "    c.founded_year = $founded_year''', *companies)"
   ]
  },
  {
   "cell_type": "markdown",
   "metadata": {},
   "source": [
    "### Preparing Company relationships"
   ]
  },
  {
   "cell_type": "markdown",
   "metadata": {},
   "source": [
    "For the purposes of consistency checking later on, we prepare the company relationship data and store the edges in a list. We use the fulltext and vector indexes we created to match the data to the correct nodes."
   ]
  },
  {
   "cell_type": "code",
   "execution_count": 66,
   "metadata": {},
   "outputs": [],
   "source": [
    "all_edges = []"
   ]
  },
  {
   "cell_type": "markdown",
   "metadata": {},
   "source": [
    "### Company-Industry relationships"
   ]
  },
  {
   "cell_type": "markdown",
   "metadata": {},
   "source": [
    "One of the key relationships defined in the data is \"IS_INVOLVED_IN\", which helps in modeling how companies are categorized based on their primary activities and the sectors they contribute to.\n",
    "\n",
    "\n",
    "\"IS_INVOLVED_IN\": [\n",
    "            {\n",
    "                \"company_name\": \"McKinsey &#38; Company\",\n",
    "                \"industry_name\": \"management consulting\"}]"
   ]
  },
  {
   "cell_type": "code",
   "execution_count": 67,
   "metadata": {},
   "outputs": [
    {
     "data": {
      "text/plain": [
       "[{'company_name': 'Apple', 'industry_name': 'accounting'},\n",
       " {'company_name': 'Apple', 'industry_name': 'technology'},\n",
       " {'company_name': 'Apple', 'industry_name': 'information technology'},\n",
       " {'company_name': 'Brightstar Corporation',\n",
       "  'industry_name': 'wireless device services'},\n",
       " {'company_name': 'Applied Materials, Inc.',\n",
       "  'industry_name': 'semiconductor equipment'}]"
      ]
     },
     "execution_count": 67,
     "metadata": {},
     "output_type": "execute_result"
    }
   ],
   "source": [
    "is_involved_in_data = validated_data['relationships']['IS_INVOLVED_IN']\n",
    "is_involved_in_data[:5]"
   ]
  },
  {
   "cell_type": "code",
   "execution_count": 68,
   "metadata": {},
   "outputs": [],
   "source": [
    "for company_industry in is_involved_in_data:\n",
    "    industry_name = company_industry['industry_name']\n",
    "    company_industry['company_name'] = clean_names(company_industry['company_name'])\n",
    "    company_industry['embedding'] = EMBEDDING_MODEL.encode(industry_name).tolist()"
   ]
  },
  {
   "cell_type": "code",
   "execution_count": 69,
   "metadata": {},
   "outputs": [],
   "source": [
    "is_involved_in_edges = graph_utils.execute_query_with_params(\"\"\"\n",
    "CALL db.index.fulltext.queryNodes('company_names_index', $company_name)\n",
    "    YIELD node AS c, score AS company_score\n",
    "CALL db.index.vector.queryNodes('industry_description_index', 10, $embedding)\n",
    "    YIELD node AS i, score AS industry_score\n",
    "WHERE company_score > 1\n",
    "AND industry_score > 0.7\n",
    "RETURN\n",
    "    c.ticker AS ticker,\n",
    "    i.gics AS gics\"\"\", *is_involved_in_data)\n",
    "\n",
    "for records, _, _ in is_involved_in_edges:\n",
    "    for ticker, gics in records:\n",
    "        all_edges.append((ticker, gics, \"Company\", \"Industry\", \"IS_INVOLVED_IN\", {}))"
   ]
  },
  {
   "cell_type": "markdown",
   "metadata": {},
   "source": [
    "### Company-Country relationships"
   ]
  },
  {
   "cell_type": "markdown",
   "metadata": {},
   "source": [
    "One of the key relationships defined in the data is \"HEADQUARTERS_IN\" and \"OPERATES_IN\", which helps in modeling how companies are categorized based on their countries.\n",
    "* \"HEADQUARTERS_IN\" relationship signifies that a company has its headquarters located in a specific country. It helps in understanding the geographical base of the company and can have implications for regulatory compliance, market strategy, and more.\n",
    "* \"OPERATES_IN\" relationship indicates that a company conducts its business operations in a specific country, which can include selling products, providing services, or having a physical presence (like branches or subsidiaries)."
   ]
  },
  {
   "cell_type": "code",
   "execution_count": 70,
   "metadata": {},
   "outputs": [
    {
     "data": {
      "text/plain": [
       "[{'company_name': 'Emea', 'country_name': 'Ireland'},\n",
       " {'company_name': 'Apple', 'country_name': 'United States'},\n",
       " {'company_name': 'Apple', 'country_name': 'United States'},\n",
       " {'company_name': 'Zhengzhou Technology Park', 'country_name': 'China'},\n",
       " {'company_name': 'Adobe', 'country_name': 'United States'}]"
      ]
     },
     "execution_count": 70,
     "metadata": {},
     "output_type": "execute_result"
    }
   ],
   "source": [
    "headquarters_data = validated_data['relationships']['HEADQUARTERS_IN']\n",
    "for entry in headquarters_data:\n",
    "    entry['company_name'] = clean_names(entry['company_name'])\n",
    "headquarters_data[:5]"
   ]
  },
  {
   "cell_type": "code",
   "execution_count": 71,
   "metadata": {},
   "outputs": [],
   "source": [
    "headquarters_edges = graph_utils.execute_query_with_params(\"\"\"\n",
    "CALL db.index.fulltext.queryNodes('company_names_index', $company_name)\n",
    "    YIELD node AS company, score AS company_score\n",
    "CALL db.index.fulltext.queryNodes('country_aliases_index', $country_name)\n",
    "    YIELD node AS country, score AS country_score\n",
    "WHERE company_score > 1\n",
    "AND country_score > 1\n",
    "RETURN company.ticker AS ticker, country.iso3 AS iso3\"\"\", *headquarters_data)\n",
    "\n",
    "for records, _, _ in headquarters_edges:\n",
    "    for ticker, iso3 in records:\n",
    "        all_edges.append((ticker, iso3, \"Company\", \"Country\", \"HEADQUARTERS_IN\", {}))"
   ]
  },
  {
   "cell_type": "code",
   "execution_count": 72,
   "metadata": {},
   "outputs": [
    {
     "data": {
      "text/plain": [
       "[{'company_name': 'Apple',\n",
       "  'country_name': 'Ireland',\n",
       "  'headcount': 7343,\n",
       "  'net_sales': 29831428},\n",
       " {'company_name': 'Apple',\n",
       "  'country_name': 'Ireland',\n",
       "  'headcount': 1665,\n",
       "  'net_sales': -24931076},\n",
       " {'company_name': 'Apple',\n",
       "  'country_name': 'United States',\n",
       "  'headcount': 1585,\n",
       "  'net_sales': -12538324},\n",
       " {'company_name': 'Apple',\n",
       "  'country_name': 'United States',\n",
       "  'headcount': 9447,\n",
       "  'net_sales': -20940672},\n",
       " {'company_name': 'Emea',\n",
       "  'country_name': 'Ireland',\n",
       "  'headcount': 5825,\n",
       "  'net_sales': -21823981}]"
      ]
     },
     "execution_count": 72,
     "metadata": {},
     "output_type": "execute_result"
    }
   ],
   "source": [
    "operates_data = validated_data['relationships']['OPERATES_IN_COUNTRY']\n",
    "for entry in operates_data:\n",
    "    entry['company_name'] = clean_names(entry['company_name'])\n",
    "    entry['net_sales'] = entry.pop('net sales')\n",
    "operates_data[:5]"
   ]
  },
  {
   "cell_type": "code",
   "execution_count": 73,
   "metadata": {},
   "outputs": [],
   "source": [
    "operates_edges = graph_utils.execute_query_with_params(\"\"\"\n",
    "CALL db.index.fulltext.queryNodes('company_names_index', $company_name)\n",
    "    YIELD node AS company, score AS company_score\n",
    "CALL db.index.fulltext.queryNodes('country_aliases_index', $country_name)\n",
    "    YIELD node AS country, score AS country_score\n",
    "WHERE company_score > 1\n",
    "AND country_score > 1\n",
    "RETURN\n",
    "    company.ticker AS ticker,\n",
    "    country.iso3 AS iso3,\n",
    "    $headcount AS headcount,\n",
    "    $net_sales AS net_sales\"\"\", *operates_data)\n",
    "\n",
    "for records, _, _ in operates_edges:\n",
    "    for ticker, iso3, headcount, net_sales in records:\n",
    "        all_edges.append((ticker, iso3, \"Company\", \"Country\", \"OPERATES_IN\",\n",
    "                          {'headcount': headcount, 'net_sales': net_sales}))"
   ]
  },
  {
   "cell_type": "markdown",
   "metadata": {},
   "source": [
    "### Company-Company relationships"
   ]
  },
  {
   "cell_type": "markdown",
   "metadata": {},
   "source": [
    "The key relationships are \"COMPETES_WITH\" and \"SUBSIDIARY_OF\".\n",
    "* \"COMPETES_WITH\" relationship is used to represent the competitive dynamics between companies. When two companies operate in the same industry or market and offer similar products or services, they are considered competitors.\n",
    "* \"SUBSIDIARY_OF\" relationship indicates that one company is a subsidiary of another, meaning it is controlled or owned by a parent company. This is a common structure in corporate hierarchies."
   ]
  },
  {
   "cell_type": "code",
   "execution_count": 74,
   "metadata": {},
   "outputs": [
    {
     "data": {
      "text/plain": [
       "[{'company_name_1': 'Be Inc', 'company_name_2': 'Gassée', 'type': None},\n",
       " {'company_name_1': 'Gassée', 'company_name_2': 'Be Inc', 'type': None},\n",
       " {'company_name_1': 'Microsoft', 'company_name_2': 'Apple', 'type': None},\n",
       " {'company_name_1': 'Apple', 'company_name_2': 'Microsoft', 'type': None},\n",
       " {'company_name_1': 'Adobe', 'company_name_2': 'Shopify', 'type': None}]"
      ]
     },
     "execution_count": 74,
     "metadata": {},
     "output_type": "execute_result"
    }
   ],
   "source": [
    "company_competes = validated_data['relationships']['COMPETES_WITH']\n",
    "for entry in company_competes:\n",
    "    entry['company_name_1'] = clean_names(entry['company_name_1'])\n",
    "    entry['company_name_2'] = clean_names(entry['company_name_2'])\n",
    "company_competes[:5]"
   ]
  },
  {
   "cell_type": "code",
   "execution_count": 75,
   "metadata": {},
   "outputs": [],
   "source": [
    "competes_edges = graph_utils.execute_query_with_params(\"\"\"\n",
    "CALL db.index.fulltext.queryNodes('company_names_index', $company_name_1)\n",
    "    YIELD node AS company1, score AS c1_score\n",
    "CALL db.index.fulltext.queryNodes('company_names_index', $company_name_2)\n",
    "    YIELD node AS company2, score AS c2_score\n",
    "WHERE c1_score > 1\n",
    "AND c2_score > 1\n",
    "RETURN company1.ticker AS ticker1, company2.ticker AS ticker2\"\"\", *company_competes)\n",
    "\n",
    "for records, _, _ in competes_edges:\n",
    "    for ticker1, ticker2 in records:\n",
    "        all_edges.append((ticker1, ticker2, \"Company\", \"Company\", \"COMPETES_WITH\", {}))"
   ]
  },
  {
   "cell_type": "code",
   "execution_count": 76,
   "metadata": {},
   "outputs": [
    {
     "data": {
      "text/plain": [
       "[{'company_name_1': 'Flurry Analytics',\n",
       "  'company_name_2': 'Verizon',\n",
       "  'type': 'subsidiary'},\n",
       " {'company_name_1': 'Apple Energy Llc',\n",
       "  'company_name_2': 'Apple Inc',\n",
       "  'type': 'subsidiary'},\n",
       " {'company_name_1': 'Ace American Insurance Company',\n",
       "  'company_name_2': 'Chubb Limited',\n",
       "  'type': 'subsidiary'},\n",
       " {'company_name_1': 'Adp Indemnity',\n",
       "  'company_name_2': 'Chubb Limited',\n",
       "  'type': 'subsidiary'},\n",
       " {'company_name_1': 'Arm',\n",
       "  'company_name_2': 'Arm Holdings',\n",
       "  'type': 'subsidiary'}]"
      ]
     },
     "execution_count": 76,
     "metadata": {},
     "output_type": "execute_result"
    }
   ],
   "source": [
    "company_subsidiary = validated_data['relationships']['SUBSIDIARY_OF']\n",
    "for entry in company_subsidiary:\n",
    "    entry['company_name_1'] = clean_names(entry['company_name_1'])\n",
    "    entry['company_name_2'] = clean_names(entry['company_name_2'])\n",
    "company_subsidiary[:5]"
   ]
  },
  {
   "cell_type": "code",
   "execution_count": 77,
   "metadata": {},
   "outputs": [],
   "source": [
    "subsidiary_edges = graph_utils.execute_query_with_params(\"\"\"\n",
    "CALL db.index.fulltext.queryNodes('company_names_index', $company_name_1)\n",
    "    YIELD node AS company1, score AS c1_score\n",
    "CALL db.index.fulltext.queryNodes('company_names_index', $company_name_2)\n",
    "    YIELD node AS company2, score AS c2_score\n",
    "WHERE c1_score > 1\n",
    "AND c2_score > 1\n",
    "RETURN company1.ticker AS ticker1, company2.ticker AS ticker2\"\"\", *company_subsidiary)\n",
    "\n",
    "for records, _, _ in subsidiary_edges:\n",
    "    for ticker1, ticker2 in records:\n",
    "        all_edges.append((ticker1, ticker2, \"Company\", \"Company\", \"SUBSIDIARY_OF\", {}))"
   ]
  },
  {
   "cell_type": "code",
   "execution_count": 78,
   "metadata": {},
   "outputs": [
    {
     "data": {
      "text/plain": [
       "[{'company_name_1': 'Apple',\n",
       "  'company_name_2': 'Nextstep',\n",
       "  'type': 'suppliers'},\n",
       " {'company_name_1': 'Apple',\n",
       "  'company_name_2': 'Lens Technology',\n",
       "  'type': 'suppliers'},\n",
       " {'company_name_1': 'Apple',\n",
       "  'company_name_2': 'Lens Technology',\n",
       "  'type': 'suppliers'},\n",
       " {'company_name_1': 'Chubb Limited',\n",
       "  'company_name_2': 'Adp Indemnity',\n",
       "  'type': 'suppliers'},\n",
       " {'company_name_1': 'Chubb Limited',\n",
       "  'company_name_2': 'Adp Indemnity',\n",
       "  'type': 'suppliers'}]"
      ]
     },
     "execution_count": 78,
     "metadata": {},
     "output_type": "execute_result"
    }
   ],
   "source": [
    "company_supplies = validated_data['relationships']['PARTNERS_WITH']\n",
    "for entry in company_supplies:\n",
    "    entry['company_name_1'] = clean_names(entry['company_name_1'])\n",
    "    entry['company_name_2'] = clean_names(entry['company_name_2'])\n",
    "company_supplies[:5]"
   ]
  },
  {
   "cell_type": "code",
   "execution_count": 79,
   "metadata": {},
   "outputs": [],
   "source": [
    "subsidiary_edges = graph_utils.execute_query_with_params(\"\"\"\n",
    "CALL db.index.fulltext.queryNodes('company_names_index', $company_name_1)\n",
    "    YIELD node AS company1, score AS c1_score\n",
    "CALL db.index.fulltext.queryNodes('company_names_index', $company_name_2)\n",
    "    YIELD node AS company2, score AS c2_score\n",
    "WHERE c1_score > 1\n",
    "AND c2_score > 1\n",
    "RETURN company1.ticker AS ticker1, company2.ticker AS ticker2\"\"\", *company_supplies)\n",
    "\n",
    "for records, _, _ in subsidiary_edges:\n",
    "    for ticker1, ticker2 in records:\n",
    "        all_edges.append((ticker1, ticker2, \"Company\", \"Company\", \"SUPPLIES_TO\", {}))"
   ]
  },
  {
   "cell_type": "markdown",
   "metadata": {},
   "source": [
    "### Consistency Checking"
   ]
  },
  {
   "cell_type": "markdown",
   "metadata": {},
   "source": [
    "In this section, we perform consistency checking of the edges we have gathered before adding them to the graph. We define that an edge is consistent with the current graph, if there is a positive evidence (pattern) in the graph that supports the edge.\n",
    "\n",
    "We make use of the Graph Fact Checking rules (GFCs) mining algorithm introduced by this [paper](https://github.com/001waiyan/GDRB/blob/master/2018-DASFAA-GFC-paper.pdf). We created a [fork](https://github.com/001waiyan/GDRB) of the paper's repository for the purposes of integration with the project. In this fork, we set up the FactChecker API, which performs the following:\n",
    "1. Generate patterns (GFCs) for the given relation and input graph.\n",
    "2. Checks each input edge against each found pattern.\n",
    "\n",
    "The GFC mining algorithm relies on Principal Closed World Assumption (PCWA) of the input graph, i.e. if the graph has at least one edge (V1)-[:R]->(V2), we assume that we have complete information of all (V1)-[:R]->(Vx). For example if the graph has two competitors of Apple, (Apple)-[:COMPETES_WITH]->(Google) and (Apple)-[:Competes_With]->(Samsung), anything not in the graph (e.g. (Apple)-[:COMPETES_WITH]->(Meta)) is considered false.\n",
    "\n",
    "In this section, we systematically fact check and add to the Neo4j database the list of edges, while maintaining PCWA of the graph. The edges to add are grouped by same source node and relation type (e.g. all COMPETES_WITH edges for the Apple node). Each group is fact checked using the FactChecker API and added one at a time to maintain PCWA.\n",
    "\n",
    "Algorithm used:\n",
    "1. Group the edges by the same source node and relation type.\n",
    "2. Add all groups that contain duplicate edges to the graph, without fact checking. (Assuming that these edges are more likely to be consistent)\n",
    "3. For the remaining groups, run the FactChecker API on each of them.\n",
    "4. If an edge was matched by at least one found pattern, add that edge to the graph.\n",
    "5. If no patterns were found for the group, add all its edges to the graph."
   ]
  },
  {
   "cell_type": "code",
   "execution_count": 80,
   "metadata": {},
   "outputs": [
    {
     "name": "stdout",
     "output_type": "stream",
     "text": [
      "====================Adding groups with duplicates====================\n",
      "Processing group: ('AAPL', 'Company', 'Industry', 'IS_INVOLVED_IN')\n",
      "10 edges found in group.\n",
      "Adding 5 unique edges.\n",
      "\n",
      "Processing group: ('KLAC', 'Company', 'Industry', 'IS_INVOLVED_IN')\n",
      "88 edges found in group.\n",
      "Adding 35 unique edges.\n",
      "\n",
      "Processing group: ('CMCSA', 'Company', 'Industry', 'IS_INVOLVED_IN')\n",
      "107 edges found in group.\n",
      "Adding 36 unique edges.\n",
      "\n",
      "Processing group: ('AMAT', 'Company', 'Industry', 'IS_INVOLVED_IN')\n",
      "90 edges found in group.\n",
      "Adding 23 unique edges.\n",
      "\n",
      "Processing group: ('ADBE', 'Company', 'Industry', 'IS_INVOLVED_IN')\n",
      "8 edges found in group.\n",
      "Adding 4 unique edges.\n",
      "\n",
      "Processing group: ('NVDA', 'Company', 'Industry', 'IS_INVOLVED_IN')\n",
      "62 edges found in group.\n",
      "Adding 21 unique edges.\n",
      "\n",
      "Processing group: ('AMZN', 'Company', 'Industry', 'IS_INVOLVED_IN')\n",
      "16 edges found in group.\n",
      "Adding 13 unique edges.\n",
      "\n",
      "Processing group: ('AMGN', 'Company', 'Industry', 'IS_INVOLVED_IN')\n",
      "5 edges found in group.\n",
      "Adding 3 unique edges.\n",
      "\n",
      "Processing group: ('GOOG', 'Company', 'Industry', 'IS_INVOLVED_IN')\n",
      "10 edges found in group.\n",
      "Adding 5 unique edges.\n",
      "\n",
      "Processing group: ('GOOGL', 'Company', 'Industry', 'IS_INVOLVED_IN')\n",
      "4 edges found in group.\n",
      "Adding 2 unique edges.\n",
      "\n",
      "Processing group: ('BKNG', 'Company', 'Industry', 'IS_INVOLVED_IN')\n",
      "19 edges found in group.\n",
      "Adding 14 unique edges.\n",
      "\n",
      "Processing group: ('AVGO', 'Company', 'Industry', 'IS_INVOLVED_IN')\n",
      "11 edges found in group.\n",
      "Adding 10 unique edges.\n",
      "\n",
      "Processing group: ('CSCO', 'Company', 'Industry', 'IS_INVOLVED_IN')\n",
      "7 edges found in group.\n",
      "Adding 5 unique edges.\n",
      "\n",
      "Processing group: ('VTAGY', 'Company', 'Industry', 'IS_INVOLVED_IN')\n",
      "7 edges found in group.\n",
      "Adding 5 unique edges.\n",
      "\n",
      "Processing group: ('GILD', 'Company', 'Industry', 'IS_INVOLVED_IN')\n",
      "22 edges found in group.\n",
      "Adding 14 unique edges.\n",
      "\n",
      "Processing group: ('MDLZ', 'Company', 'Industry', 'IS_INVOLVED_IN')\n",
      "9 edges found in group.\n",
      "Adding 8 unique edges.\n",
      "\n",
      "Processing group: ('INTC', 'Company', 'Industry', 'IS_INVOLVED_IN')\n",
      "12 edges found in group.\n",
      "Adding 10 unique edges.\n",
      "\n",
      "Processing group: ('INTU', 'Company', 'Industry', 'IS_INVOLVED_IN')\n",
      "18 edges found in group.\n",
      "Adding 15 unique edges.\n",
      "\n",
      "Processing group: ('LRCX', 'Company', 'Industry', 'IS_INVOLVED_IN')\n",
      "39 edges found in group.\n",
      "Adding 19 unique edges.\n",
      "\n",
      "Processing group: ('MELI', 'Company', 'Industry', 'IS_INVOLVED_IN')\n",
      "27 edges found in group.\n",
      "Adding 23 unique edges.\n",
      "\n",
      "Processing group: ('AAPL', 'Company', 'Country', 'HEADQUARTERS_IN')\n",
      "32 edges found in group.\n",
      "Adding 8 unique edges.\n",
      "\n",
      "Processing group: ('ADBE', 'Company', 'Country', 'HEADQUARTERS_IN')\n",
      "18 edges found in group.\n",
      "Adding 9 unique edges.\n",
      "\n",
      "Processing group: ('NVDA', 'Company', 'Country', 'HEADQUARTERS_IN')\n",
      "84 edges found in group.\n",
      "Adding 10 unique edges.\n",
      "\n",
      "Processing group: ('AMAT', 'Company', 'Country', 'HEADQUARTERS_IN')\n",
      "60 edges found in group.\n",
      "Adding 12 unique edges.\n",
      "\n",
      "Processing group: ('AMZN', 'Company', 'Country', 'HEADQUARTERS_IN')\n",
      "56 edges found in group.\n",
      "Adding 8 unique edges.\n",
      "\n",
      "Processing group: ('AMGN', 'Company', 'Country', 'HEADQUARTERS_IN')\n",
      "16 edges found in group.\n",
      "Adding 8 unique edges.\n",
      "\n",
      "Processing group: ('GOOGL', 'Company', 'Country', 'HEADQUARTERS_IN')\n",
      "32 edges found in group.\n",
      "Adding 8 unique edges.\n",
      "\n",
      "Processing group: ('GOOG', 'Company', 'Country', 'HEADQUARTERS_IN')\n",
      "32 edges found in group.\n",
      "Adding 8 unique edges.\n",
      "\n",
      "Processing group: ('BKNG', 'Company', 'Country', 'HEADQUARTERS_IN')\n",
      "16 edges found in group.\n",
      "Adding 8 unique edges.\n",
      "\n",
      "Processing group: ('CTAS', 'Company', 'Country', 'HEADQUARTERS_IN')\n",
      "16 edges found in group.\n",
      "Adding 8 unique edges.\n",
      "\n",
      "Processing group: ('KLAC', 'Company', 'Country', 'HEADQUARTERS_IN')\n",
      "65 edges found in group.\n",
      "Adding 9 unique edges.\n",
      "\n",
      "Processing group: ('CMCSA', 'Company', 'Country', 'HEADQUARTERS_IN')\n",
      "89 edges found in group.\n",
      "Adding 9 unique edges.\n",
      "\n",
      "Processing group: ('COST', 'Company', 'Country', 'HEADQUARTERS_IN')\n",
      "49 edges found in group.\n",
      "Adding 9 unique edges.\n",
      "\n",
      "Processing group: ('GILD', 'Company', 'Country', 'HEADQUARTERS_IN')\n",
      "32 edges found in group.\n",
      "Adding 8 unique edges.\n",
      "\n",
      "Processing group: ('MDLZ', 'Company', 'Country', 'HEADQUARTERS_IN')\n",
      "20 edges found in group.\n",
      "Adding 13 unique edges.\n",
      "\n",
      "Processing group: ('INTC', 'Company', 'Country', 'HEADQUARTERS_IN')\n",
      "34 edges found in group.\n",
      "Adding 9 unique edges.\n",
      "\n",
      "Processing group: ('INTU', 'Company', 'Country', 'HEADQUARTERS_IN')\n",
      "17 edges found in group.\n",
      "Adding 9 unique edges.\n",
      "\n",
      "Processing group: ('LRCX', 'Company', 'Country', 'HEADQUARTERS_IN')\n",
      "33 edges found in group.\n",
      "Adding 9 unique edges.\n",
      "\n",
      "Processing group: ('MELI', 'Company', 'Country', 'HEADQUARTERS_IN')\n",
      "19 edges found in group.\n",
      "Adding 10 unique edges.\n",
      "\n",
      "Processing group: ('MSFT', 'Company', 'Country', 'HEADQUARTERS_IN')\n",
      "29 edges found in group.\n",
      "Adding 13 unique edges.\n",
      "\n",
      "Processing group: ('META', 'Company', 'Country', 'HEADQUARTERS_IN')\n",
      "24 edges found in group.\n",
      "Adding 9 unique edges.\n",
      "\n",
      "Processing group: ('NFLX', 'Company', 'Country', 'HEADQUARTERS_IN')\n",
      "41 edges found in group.\n",
      "Adding 9 unique edges.\n",
      "\n",
      "Processing group: ('AAPL', 'Company', 'Country', 'OPERATES_IN')\n",
      "76 edges found in group.\n",
      "Adding 9 unique edges.\n",
      "\n",
      "Processing group: ('ADBE', 'Company', 'Country', 'OPERATES_IN')\n",
      "72 edges found in group.\n",
      "Adding 10 unique edges.\n",
      "\n",
      "Processing group: ('NVDA', 'Company', 'Country', 'OPERATES_IN')\n",
      "191 edges found in group.\n",
      "Adding 17 unique edges.\n",
      "\n",
      "Processing group: ('AMAT', 'Company', 'Country', 'OPERATES_IN')\n",
      "60 edges found in group.\n",
      "Adding 12 unique edges.\n",
      "\n",
      "Processing group: ('AMZN', 'Company', 'Country', 'OPERATES_IN')\n",
      "64 edges found in group.\n",
      "Adding 8 unique edges.\n",
      "\n",
      "Processing group: ('AMGN', 'Company', 'Country', 'OPERATES_IN')\n",
      "27 edges found in group.\n",
      "Adding 11 unique edges.\n",
      "\n",
      "Processing group: ('GOOGL', 'Company', 'Country', 'OPERATES_IN')\n",
      "34 edges found in group.\n",
      "Adding 9 unique edges.\n",
      "\n",
      "Processing group: ('GOOG', 'Company', 'Country', 'OPERATES_IN')\n",
      "34 edges found in group.\n",
      "Adding 9 unique edges.\n",
      "\n",
      "Processing group: ('BKNG', 'Company', 'Country', 'OPERATES_IN')\n",
      "34 edges found in group.\n",
      "Adding 17 unique edges.\n",
      "\n",
      "Processing group: ('CTAS', 'Company', 'Country', 'OPERATES_IN')\n",
      "32 edges found in group.\n",
      "Adding 8 unique edges.\n",
      "\n",
      "Processing group: ('CSCO', 'Company', 'Country', 'OPERATES_IN')\n",
      "24 edges found in group.\n",
      "Adding 13 unique edges.\n",
      "\n",
      "Processing group: ('VTAGY', 'Company', 'Country', 'OPERATES_IN')\n",
      "21 edges found in group.\n",
      "Adding 13 unique edges.\n",
      "\n",
      "Processing group: ('KLAC', 'Company', 'Country', 'OPERATES_IN')\n",
      "82 edges found in group.\n",
      "Adding 10 unique edges.\n",
      "\n",
      "Processing group: ('CMCSA', 'Company', 'Country', 'OPERATES_IN')\n",
      "232 edges found in group.\n",
      "Adding 22 unique edges.\n",
      "\n",
      "Processing group: ('COST', 'Company', 'Country', 'OPERATES_IN')\n",
      "112 edges found in group.\n",
      "Adding 17 unique edges.\n",
      "\n",
      "Processing group: ('GILD', 'Company', 'Country', 'OPERATES_IN')\n",
      "32 edges found in group.\n",
      "Adding 8 unique edges.\n",
      "\n",
      "Processing group: ('MDLZ', 'Company', 'Country', 'OPERATES_IN')\n",
      "21 edges found in group.\n",
      "Adding 14 unique edges.\n",
      "\n",
      "Processing group: ('INTC', 'Company', 'Country', 'OPERATES_IN')\n",
      "34 edges found in group.\n",
      "Adding 9 unique edges.\n",
      "\n",
      "Processing group: ('INTU', 'Company', 'Country', 'OPERATES_IN')\n",
      "21 edges found in group.\n",
      "Adding 9 unique edges.\n",
      "\n",
      "Processing group: ('LRCX', 'Company', 'Country', 'OPERATES_IN')\n",
      "33 edges found in group.\n",
      "Adding 9 unique edges.\n",
      "\n",
      "Processing group: ('MXIM', 'Company', 'Country', 'OPERATES_IN')\n",
      "16 edges found in group.\n",
      "Adding 8 unique edges.\n",
      "\n",
      "Processing group: ('MELI', 'Company', 'Country', 'OPERATES_IN')\n",
      "20 edges found in group.\n",
      "Adding 11 unique edges.\n",
      "\n",
      "Processing group: ('MSFT', 'Company', 'Country', 'OPERATES_IN')\n",
      "29 edges found in group.\n",
      "Adding 13 unique edges.\n",
      "\n",
      "Processing group: ('META', 'Company', 'Country', 'OPERATES_IN')\n",
      "41 edges found in group.\n",
      "Adding 11 unique edges.\n",
      "\n",
      "Processing group: ('NFLX', 'Company', 'Country', 'OPERATES_IN')\n",
      "51 edges found in group.\n",
      "Adding 11 unique edges.\n",
      "\n",
      "Processing group: ('MSFT', 'Company', 'Company', 'COMPETES_WITH')\n",
      "5 edges found in group.\n",
      "Adding 2 unique edges.\n",
      "\n",
      "Processing group: ('AAPL', 'Company', 'Company', 'COMPETES_WITH')\n",
      "3 edges found in group.\n",
      "Adding 1 unique edges.\n",
      "\n",
      "Processing group: ('ADBE', 'Company', 'Company', 'COMPETES_WITH')\n",
      "5 edges found in group.\n",
      "Adding 2 unique edges.\n",
      "\n",
      "Processing group: ('GOOG', 'Company', 'Company', 'COMPETES_WITH')\n",
      "3 edges found in group.\n",
      "Adding 2 unique edges.\n",
      "\n",
      "Processing group: ('BKNG', 'Company', 'Company', 'COMPETES_WITH')\n",
      "3 edges found in group.\n",
      "Adding 2 unique edges.\n",
      "\n",
      "Processing group: ('COST', 'Company', 'Company', 'COMPETES_WITH')\n",
      "3 edges found in group.\n",
      "Adding 2 unique edges.\n",
      "\n",
      "Processing group: ('INTC', 'Company', 'Company', 'COMPETES_WITH')\n",
      "10 edges found in group.\n",
      "Adding 7 unique edges.\n",
      "\n",
      "Processing group: ('CMCSA', 'Company', 'Company', 'COMPETES_WITH')\n",
      "2 edges found in group.\n",
      "Adding 1 unique edges.\n",
      "\n",
      "Processing group: ('NFLX', 'Company', 'Company', 'COMPETES_WITH')\n",
      "2 edges found in group.\n",
      "Adding 1 unique edges.\n",
      "\n",
      "Processing group: ('AAPL', 'Company', 'Company', 'SUBSIDIARY_OF')\n",
      "4 edges found in group.\n",
      "Adding 3 unique edges.\n",
      "\n",
      "Processing group: ('AMZN', 'Company', 'Company', 'SUBSIDIARY_OF')\n",
      "2 edges found in group.\n",
      "Adding 1 unique edges.\n",
      "\n",
      "Processing group: ('BKNG', 'Company', 'Company', 'SUBSIDIARY_OF')\n",
      "4 edges found in group.\n",
      "Adding 2 unique edges.\n",
      "\n",
      "Processing group: ('GOOG', 'Company', 'Company', 'SUBSIDIARY_OF')\n",
      "4 edges found in group.\n",
      "Adding 2 unique edges.\n",
      "\n",
      "Processing group: ('COST', 'Company', 'Company', 'SUBSIDIARY_OF')\n",
      "2 edges found in group.\n",
      "Adding 1 unique edges.\n",
      "\n",
      "====================Adding groups without duplicates====================\n",
      "Processing group: ('NUAN', 'Company', 'Industry', 'IS_INVOLVED_IN')\n",
      "4 edges found in group.\n",
      "0 patterns found for group.\n",
      "Adding 4 filtered edges.\n",
      "\n",
      "Processing group: ('CTNM', 'Company', 'Industry', 'IS_INVOLVED_IN')\n",
      "2 edges found in group.\n",
      "0 patterns found for group.\n",
      "Adding 2 filtered edges.\n",
      "\n",
      "Processing group: ('ISRG', 'Company', 'Industry', 'IS_INVOLVED_IN')\n",
      "3 edges found in group.\n",
      "0 patterns found for group.\n",
      "Adding 3 filtered edges.\n",
      "\n",
      "Processing group: ('MSFT', 'Company', 'Industry', 'IS_INVOLVED_IN')\n",
      "11 edges found in group.\n",
      "0 patterns found for group.\n",
      "Adding 11 filtered edges.\n",
      "\n",
      "Processing group: ('META', 'Company', 'Industry', 'IS_INVOLVED_IN')\n",
      "5 edges found in group.\n",
      "0 patterns found for group.\n",
      "Adding 5 filtered edges.\n",
      "\n",
      "Processing group: ('NFLX', 'Company', 'Industry', 'IS_INVOLVED_IN')\n",
      "1 edges found in group.\n",
      "0 patterns found for group.\n",
      "Adding 1 filtered edges.\n",
      "\n",
      "Processing group: ('AVGO', 'Company', 'Country', 'HEADQUARTERS_IN')\n",
      "1 edges found in group.\n",
      "0 patterns found for group.\n",
      "Adding 1 filtered edges.\n",
      "\n",
      "Processing group: ('CSCO', 'Company', 'Country', 'HEADQUARTERS_IN')\n",
      "10 edges found in group.\n",
      "0 patterns found for group.\n",
      "Adding 10 filtered edges.\n",
      "\n",
      "Processing group: ('VTAGY', 'Company', 'Country', 'HEADQUARTERS_IN')\n",
      "10 edges found in group.\n",
      "0 patterns found for group.\n",
      "Adding 10 filtered edges.\n",
      "\n",
      "Processing group: ('AVGO', 'Company', 'Country', 'OPERATES_IN')\n",
      "10 edges found in group.\n",
      "0 patterns found for group.\n",
      "Adding 10 filtered edges.\n",
      "\n",
      "Processing group: ('NUAN', 'Company', 'Country', 'OPERATES_IN')\n",
      "8 edges found in group.\n",
      "0 patterns found for group.\n",
      "Adding 8 filtered edges.\n",
      "\n",
      "Processing group: ('AMZN', 'Company', 'Company', 'COMPETES_WITH')\n",
      "3 edges found in group.\n",
      "8 patterns found for group.\n",
      "Adding 0 filtered edges.\n",
      "\n",
      "Processing group: ('AMAT', 'Company', 'Company', 'COMPETES_WITH')\n",
      "1 edges found in group.\n",
      "8 patterns found for group.\n",
      "Adding 0 filtered edges.\n",
      "\n",
      "Processing group: ('MXIM', 'Company', 'Company', 'COMPETES_WITH')\n",
      "1 edges found in group.\n",
      "8 patterns found for group.\n",
      "Adding 0 filtered edges.\n",
      "\n",
      "Processing group: ('CSCO', 'Company', 'Company', 'COMPETES_WITH')\n",
      "1 edges found in group.\n",
      "8 patterns found for group.\n",
      "Adding 0 filtered edges.\n",
      "\n",
      "Processing group: ('VTAGY', 'Company', 'Company', 'COMPETES_WITH')\n",
      "1 edges found in group.\n",
      "8 patterns found for group.\n",
      "Adding 0 filtered edges.\n",
      "\n",
      "Processing group: ('NVDA', 'Company', 'Company', 'COMPETES_WITH')\n",
      "1 edges found in group.\n",
      "8 patterns found for group.\n",
      "Adding 0 filtered edges.\n",
      "\n",
      "Processing group: ('META', 'Company', 'Company', 'SUBSIDIARY_OF')\n",
      "3 edges found in group.\n",
      "8 patterns found for group.\n",
      "Adding 0 filtered edges.\n",
      "\n",
      "Processing group: ('CTAS', 'Company', 'Company', 'SUBSIDIARY_OF')\n",
      "1 edges found in group.\n",
      "8 patterns found for group.\n",
      "Adding 0 filtered edges.\n",
      "\n",
      "Processing group: ('KLAC', 'Company', 'Company', 'SUBSIDIARY_OF')\n",
      "1 edges found in group.\n",
      "8 patterns found for group.\n",
      "Adding 0 filtered edges.\n",
      "\n",
      "Processing group: ('CMCSA', 'Company', 'Company', 'SUBSIDIARY_OF')\n",
      "1 edges found in group.\n",
      "8 patterns found for group.\n",
      "Adding 0 filtered edges.\n",
      "\n",
      "Processing group: ('INTU', 'Company', 'Company', 'SUBSIDIARY_OF')\n",
      "1 edges found in group.\n",
      "8 patterns found for group.\n",
      "Adding 0 filtered edges.\n",
      "\n",
      "Processing group: ('MSFT', 'Company', 'Company', 'SUBSIDIARY_OF')\n",
      "1 edges found in group.\n",
      "8 patterns found for group.\n",
      "Adding 0 filtered edges.\n",
      "\n",
      "Processing group: ('AAPL', 'Company', 'Company', 'SUPPLIES_TO')\n",
      "1 edges found in group.\n",
      "0 patterns found for group.\n",
      "Adding 1 filtered edges.\n",
      "\n"
     ]
    }
   ],
   "source": [
    "patterns = fact_check_and_add(all_edges, min_supp=0.5, min_conf=0.1, top_k=50, max_size=2)"
   ]
  },
  {
   "cell_type": "markdown",
   "metadata": {},
   "source": [
    "#### Interpretation of Mined Patterns"
   ]
  },
  {
   "cell_type": "code",
   "execution_count": 86,
   "metadata": {},
   "outputs": [],
   "source": [
    "# Visualises rules and saves them as images in ./rules\n",
    "visualize_rules(patterns)"
   ]
  },
  {
   "cell_type": "markdown",
   "metadata": {},
   "source": [
    "The statement \"Company A COMPETES_WITH Company B\" is considered consistent if at least one of the following is true:\n",
    "1. Company A and B headquarter and operate in the same country\n",
    "2. Company A headquarters and operates in a country that company B is operating in\n",
    "3. Company A and B are involved in the same industry\n",
    "4. Company A operates in a country that company B is headquartering and operating in\n",
    "5. Company A and B operate in the same country"
   ]
  },
  {
   "cell_type": "code",
   "execution_count": 82,
   "metadata": {},
   "outputs": [
    {
     "data": {
      "text/plain": [
       "{Pattern((Company1)-[:HEADQUARTERS_IN]->(Country3),\n",
       " (Company1)-[:OPERATES_IN]->(Country3),\n",
       " (Company2)-[:HEADQUARTERS_IN]->(Country3),\n",
       " (Company2)-[:OPERATES_IN]->(Country3)),\n",
       " Pattern((Company1)-[:HEADQUARTERS_IN]->(Country3),\n",
       " (Company1)-[:OPERATES_IN]->(Country3),\n",
       " (Company2)-[:OPERATES_IN]->(Country3)),\n",
       " Pattern((Company1)-[:IS_INVOLVED_IN]->(Industry3),\n",
       " (Company2)-[:IS_INVOLVED_IN]->(Industry3)),\n",
       " Pattern((Company1)-[:OPERATES_IN]->(Country3),\n",
       " (Company2)-[:HEADQUARTERS_IN]->(Country3),\n",
       " (Company2)-[:OPERATES_IN]->(Country3)),\n",
       " Pattern((Company1)-[:OPERATES_IN]->(Country3),\n",
       " (Company2)-[:OPERATES_IN]->(Country3))}"
      ]
     },
     "execution_count": 82,
     "metadata": {},
     "output_type": "execute_result"
    }
   ],
   "source": [
    "patterns[('Company', 'Company', 'COMPETES_WITH')]"
   ]
  },
  {
   "cell_type": "code",
   "execution_count": 83,
   "metadata": {},
   "outputs": [
    {
     "data": {
      "image/png": "[encoded data removed]",
      "text/plain": [
       "<IPython.core.display.Image object>"
      ]
     },
     "execution_count": 83,
     "metadata": {},
     "output_type": "execute_result"
    }
   ],
   "source": [
    "Image(r\"rules/Company_Company_COMPETES_WITH_3.png\")"
   ]
  },
  {
   "cell_type": "markdown",
   "metadata": {},
   "source": [
    "The statement \"Company A SUBSIDIARY_OF Company B\" is considered consistent if at least one of the following is true:\n",
    "1. Company A and B headquarter and operate in the same country\n",
    "2. Company A headquarters and operates in a country that company B is operating in\n",
    "3. Company A and B are involved in the same industry\n",
    "4. Company A operates in a country that company B is headquartering and operating in\n",
    "5. Company A and B operate in the same country"
   ]
  },
  {
   "cell_type": "code",
   "execution_count": 84,
   "metadata": {},
   "outputs": [
    {
     "data": {
      "text/plain": [
       "{Pattern((Company1)-[:HEADQUARTERS_IN]->(Country3),\n",
       " (Company1)-[:OPERATES_IN]->(Country3),\n",
       " (Company2)-[:HEADQUARTERS_IN]->(Country3),\n",
       " (Company2)-[:OPERATES_IN]->(Country3)),\n",
       " Pattern((Company1)-[:HEADQUARTERS_IN]->(Country3),\n",
       " (Company1)-[:OPERATES_IN]->(Country3),\n",
       " (Company2)-[:OPERATES_IN]->(Country3)),\n",
       " Pattern((Company1)-[:IS_INVOLVED_IN]->(Industry3),\n",
       " (Company2)-[:IS_INVOLVED_IN]->(Industry3)),\n",
       " Pattern((Company1)-[:OPERATES_IN]->(Country3),\n",
       " (Company2)-[:HEADQUARTERS_IN]->(Country3),\n",
       " (Company2)-[:OPERATES_IN]->(Country3)),\n",
       " Pattern((Company1)-[:OPERATES_IN]->(Country3),\n",
       " (Company2)-[:OPERATES_IN]->(Country3))}"
      ]
     },
     "execution_count": 84,
     "metadata": {},
     "output_type": "execute_result"
    }
   ],
   "source": [
    "patterns[('Company', 'Company', 'SUBSIDIARY_OF')]"
   ]
  },
  {
   "cell_type": "code",
   "execution_count": 85,
   "metadata": {},
   "outputs": [
    {
     "data": {
      "image/png": "[encoded data removed]",
      "text/plain": [
       "<IPython.core.display.Image object>"
      ]
     },
     "execution_count": 85,
     "metadata": {},
     "output_type": "execute_result"
    }
   ],
   "source": [
    "Image(r\"rules/Company_Company_SUBSIDIARY_OF_0.png\")"
   ]
  }
 ],
 "metadata": {
  "kernelspec": {
   "display_name": ".venv",
   "language": "python",
   "name": "python3"
  },
  "language_info": {
   "codemirror_mode": {
    "name": "ipython",
    "version": 3
   },
   "file_extension": ".py",
   "mimetype": "text/x-python",
   "name": "python",
   "nbconvert_exporter": "python",
   "pygments_lexer": "ipython3",
   "version": "3.11.6"
  }
 },
 "nbformat": 4,
 "nbformat_minor": 2
}
