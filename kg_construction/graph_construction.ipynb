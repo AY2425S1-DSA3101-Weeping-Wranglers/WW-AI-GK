{
 "cells": [
  {
   "cell_type": "code",
   "execution_count": 1,
   "metadata": {},
   "outputs": [
    {
     "name": "stderr",
     "output_type": "stream",
     "text": [
      "/Users/wy/Documents/WW-AI-GK/.venv/lib/python3.11/site-packages/sentence_transformers/cross_encoder/CrossEncoder.py:13: TqdmExperimentalWarning: Using `tqdm.autonotebook.tqdm` in notebook mode. Use `tqdm.tqdm` instead to force console mode (e.g. in jupyter console)\n",
      "  from tqdm.autonotebook import tqdm, trange\n"
     ]
    },
    {
     "name": "stdout",
     "output_type": "stream",
     "text": [
      "Connection to graph database established.\n"
     ]
    }
   ],
   "source": [
    "import os\n",
    "import re\n",
    "import json\n",
    "import requests\n",
    "import pandas as pd\n",
    "import urllib.request\n",
    "from operator import itemgetter\n",
    "import pyreadr\n",
    "import numpy as np\n",
    "from IPython.display import Image\n",
    "from sentence_transformers import SentenceTransformer\n",
    "import graph_utils\n",
    "from fact_checking import fact_check_and_add, extract_all_patterns, visualize_rules"
   ]
  },
  {
   "cell_type": "markdown",
   "metadata": {},
   "source": [
    "## Neo4J AuraDB Setup"
   ]
  },
  {
   "cell_type": "markdown",
   "metadata": {},
   "source": [
    "### Resetting database"
   ]
  },
  {
   "cell_type": "markdown",
   "metadata": {},
   "source": [
    "We reset the database to start with a blank slate."
   ]
  },
  {
   "cell_type": "code",
   "execution_count": 2,
   "metadata": {},
   "outputs": [],
   "source": [
    "# Removes all nodes and relationships\n",
    "graph_utils.reset_graph()"
   ]
  },
  {
   "cell_type": "code",
   "execution_count": 3,
   "metadata": {},
   "outputs": [],
   "source": [
    "# Removes all indexes and constraints\n",
    "graph_utils.reset_constraints()"
   ]
  },
  {
   "cell_type": "markdown",
   "metadata": {},
   "source": [
    "## Schema Constraints"
   ]
  },
  {
   "cell_type": "markdown",
   "metadata": {},
   "source": [
    "In this section, we define constraints and indexes for the various nodes in our graph.\n",
    "\n",
    "Key constraints and uniqueness constraints will ensure that nodes can be matched unambiguously.\n",
    "We also employ semantic indexes for the purposes of node disambiguiation:\n",
    "1. Full-text indexes allow keywords to be matched (e.g. country name aliases can be used to match to different aliases of a particular country)\n",
    "2. Vector indexes allow similarity based search (e.g. industry description can be used to match to specific industry nodes)"
   ]
  },
  {
   "cell_type": "markdown",
   "metadata": {},
   "source": [
    "### Region Node"
   ]
  },
  {
   "cell_type": "code",
   "execution_count": 4,
   "metadata": {},
   "outputs": [
    {
     "data": {
      "text/plain": [
       "EagerResult(records=[], summary=<neo4j._work.summary.ResultSummary object at 0x14dd64cd0>, keys=[])"
      ]
     },
     "execution_count": 4,
     "metadata": {},
     "output_type": "execute_result"
    }
   ],
   "source": [
    "# m49 is key\n",
    "graph_utils.execute_query('''\n",
    "CREATE CONSTRAINT region_m49_key IF NOT EXISTS\n",
    "FOR (r:Region) REQUIRE r.m49 IS NODE KEY''')"
   ]
  },
  {
   "cell_type": "code",
   "execution_count": 5,
   "metadata": {},
   "outputs": [
    {
     "data": {
      "text/plain": [
       "EagerResult(records=[], summary=<neo4j._work.summary.ResultSummary object at 0x14dd70a90>, keys=[])"
      ]
     },
     "execution_count": 5,
     "metadata": {},
     "output_type": "execute_result"
    }
   ],
   "source": [
    "# name is unique\n",
    "graph_utils.execute_query('''\n",
    "CREATE CONSTRAINT region_name_unique IF NOT EXISTS\n",
    "FOR (r:Region) REQUIRE r.name IS UNIQUE''')"
   ]
  },
  {
   "cell_type": "code",
   "execution_count": 6,
   "metadata": {},
   "outputs": [
    {
     "data": {
      "text/plain": [
       "EagerResult(records=[], summary=<neo4j._work.summary.ResultSummary object at 0x14dd641d0>, keys=[])"
      ]
     },
     "execution_count": 6,
     "metadata": {},
     "output_type": "execute_result"
    }
   ],
   "source": [
    "# name fulltext index\n",
    "graph_utils.execute_query('''\n",
    "CREATE FULLTEXT INDEX region_name_index IF NOT EXISTS\n",
    "FOR (r:Region) ON EACH [r.name]''')"
   ]
  },
  {
   "cell_type": "markdown",
   "metadata": {},
   "source": [
    "### Country Node"
   ]
  },
  {
   "cell_type": "code",
   "execution_count": 7,
   "metadata": {},
   "outputs": [
    {
     "data": {
      "text/plain": [
       "EagerResult(records=[], summary=<neo4j._work.summary.ResultSummary object at 0x14b6d8b90>, keys=[])"
      ]
     },
     "execution_count": 7,
     "metadata": {},
     "output_type": "execute_result"
    }
   ],
   "source": [
    "# iso3 is key\n",
    "graph_utils.execute_query('''\n",
    "CREATE CONSTRAINT country_iso3_key IF NOT EXISTS\n",
    "FOR (c:Country) REQUIRE c.iso3 IS NODE KEY''')"
   ]
  },
  {
   "cell_type": "code",
   "execution_count": 8,
   "metadata": {},
   "outputs": [
    {
     "data": {
      "text/plain": [
       "EagerResult(records=[], summary=<neo4j._work.summary.ResultSummary object at 0x14dd78690>, keys=[])"
      ]
     },
     "execution_count": 8,
     "metadata": {},
     "output_type": "execute_result"
    }
   ],
   "source": [
    "# iso2 is unique\n",
    "graph_utils.execute_query('''\n",
    "CREATE CONSTRAINT country_iso2_unique IF NOT EXISTS\n",
    "FOR (c:Country) REQUIRE c.iso2 IS UNIQUE''')"
   ]
  },
  {
   "cell_type": "code",
   "execution_count": 9,
   "metadata": {},
   "outputs": [
    {
     "data": {
      "text/plain": [
       "EagerResult(records=[], summary=<neo4j._work.summary.ResultSummary object at 0x14dd35050>, keys=[])"
      ]
     },
     "execution_count": 9,
     "metadata": {},
     "output_type": "execute_result"
    }
   ],
   "source": [
    "# name is unique\n",
    "graph_utils.execute_query('''\n",
    "CREATE CONSTRAINT country_name_unique IF NOT EXISTS\n",
    "FOR (c:Country) REQUIRE c.name IS UNIQUE''')"
   ]
  },
  {
   "cell_type": "code",
   "execution_count": 10,
   "metadata": {},
   "outputs": [
    {
     "data": {
      "text/plain": [
       "EagerResult(records=[], summary=<neo4j._work.summary.ResultSummary object at 0x14dd72510>, keys=[])"
      ]
     },
     "execution_count": 10,
     "metadata": {},
     "output_type": "execute_result"
    }
   ],
   "source": [
    "# aliases fulltext index\n",
    "graph_utils.execute_query('''\n",
    "CREATE FULLTEXT INDEX country_aliases_index IF NOT EXISTS\n",
    "FOR (c:Country) ON EACH [c.aliases]''')"
   ]
  },
  {
   "cell_type": "markdown",
   "metadata": {},
   "source": [
    "### Sector Node"
   ]
  },
  {
   "cell_type": "code",
   "execution_count": 11,
   "metadata": {},
   "outputs": [
    {
     "data": {
      "text/plain": [
       "EagerResult(records=[], summary=<neo4j._work.summary.ResultSummary object at 0x14dd7ab50>, keys=[])"
      ]
     },
     "execution_count": 11,
     "metadata": {},
     "output_type": "execute_result"
    }
   ],
   "source": [
    "# gics is key\n",
    "graph_utils.execute_query('''\n",
    "CREATE CONSTRAINT sector_gics_key IF NOT EXISTS\n",
    "FOR (s:Sector) REQUIRE s.gics IS NODE KEY''')"
   ]
  },
  {
   "cell_type": "code",
   "execution_count": 12,
   "metadata": {},
   "outputs": [
    {
     "data": {
      "text/plain": [
       "EagerResult(records=[], summary=<neo4j._work.summary.ResultSummary object at 0x14dd67f50>, keys=[])"
      ]
     },
     "execution_count": 12,
     "metadata": {},
     "output_type": "execute_result"
    }
   ],
   "source": [
    "# name is unique\n",
    "graph_utils.execute_query('''\n",
    "CREATE CONSTRAINT country_name_unique IF NOT EXISTS\n",
    "FOR (c:Country) REQUIRE c.name IS UNIQUE''')"
   ]
  },
  {
   "cell_type": "markdown",
   "metadata": {},
   "source": [
    "### Industry Node"
   ]
  },
  {
   "cell_type": "code",
   "execution_count": 13,
   "metadata": {},
   "outputs": [
    {
     "data": {
      "text/plain": [
       "EagerResult(records=[], summary=<neo4j._work.summary.ResultSummary object at 0x14dd78050>, keys=[])"
      ]
     },
     "execution_count": 13,
     "metadata": {},
     "output_type": "execute_result"
    }
   ],
   "source": [
    "# gics is key\n",
    "graph_utils.execute_query('''\n",
    "CREATE CONSTRAINT industry_gics_key IF NOT EXISTS\n",
    "FOR (i:Industry) REQUIRE i.gics IS NODE KEY''')"
   ]
  },
  {
   "cell_type": "code",
   "execution_count": 14,
   "metadata": {},
   "outputs": [
    {
     "data": {
      "text/plain": [
       "EagerResult(records=[], summary=<neo4j._work.summary.ResultSummary object at 0x14dd78b90>, keys=[])"
      ]
     },
     "execution_count": 14,
     "metadata": {},
     "output_type": "execute_result"
    }
   ],
   "source": [
    "# name is unique\n",
    "graph_utils.execute_query('''\n",
    "CREATE CONSTRAINT industry_name_unique IF NOT EXISTS\n",
    "FOR (i:Industry) REQUIRE i.name IS UNIQUE''')"
   ]
  },
  {
   "cell_type": "code",
   "execution_count": 15,
   "metadata": {},
   "outputs": [
    {
     "data": {
      "text/plain": [
       "EagerResult(records=[], summary=<neo4j._work.summary.ResultSummary object at 0x14da27790>, keys=[])"
      ]
     },
     "execution_count": 15,
     "metadata": {},
     "output_type": "execute_result"
    }
   ],
   "source": [
    "# description vector index\n",
    "graph_utils.execute_query('''\n",
    "CREATE VECTOR INDEX industry_description_index IF NOT EXISTS\n",
    "FOR (i:Industry)\n",
    "ON i.embedding\n",
    "OPTIONS { indexConfig: {\n",
    " `vector.quantization.enabled`: false\n",
    "}}''')"
   ]
  },
  {
   "cell_type": "markdown",
   "metadata": {},
   "source": [
    "### Company Node"
   ]
  },
  {
   "cell_type": "code",
   "execution_count": 16,
   "metadata": {},
   "outputs": [
    {
     "data": {
      "text/plain": [
       "EagerResult(records=[], summary=<neo4j._work.summary.ResultSummary object at 0x14dd85310>, keys=[])"
      ]
     },
     "execution_count": 16,
     "metadata": {},
     "output_type": "execute_result"
    }
   ],
   "source": [
    "# ticker is key\n",
    "graph_utils.execute_query('''CREATE CONSTRAINT company_ticker_key IF NOT EXISTS\n",
    "FOR (c:Company) REQUIRE c.ticker IS NODE KEY''')"
   ]
  },
  {
   "cell_type": "code",
   "execution_count": 17,
   "metadata": {},
   "outputs": [
    {
     "data": {
      "text/plain": [
       "EagerResult(records=[], summary=<neo4j._work.summary.ResultSummary object at 0x14dd85290>, keys=[])"
      ]
     },
     "execution_count": 17,
     "metadata": {},
     "output_type": "execute_result"
    }
   ],
   "source": [
    "# names fulltext index\n",
    "graph_utils.execute_query('''CREATE FULLTEXT INDEX company_names_index IF NOT EXISTS\n",
    "FOR (c:Company) ON EACH [c.names]''')"
   ]
  },
  {
   "cell_type": "markdown",
   "metadata": {},
   "source": [
    "## Adding Initial Data"
   ]
  },
  {
   "cell_type": "markdown",
   "metadata": {},
   "source": [
    "### Region Nodes"
   ]
  },
  {
   "cell_type": "markdown",
   "metadata": {},
   "source": [
    "Our country and region nodes, as well as the IS_IN relationships from countries to regions, are sourced from [UNSD](https://unstats.un.org/unsd/methodology/m49/overview/)."
   ]
  },
  {
   "cell_type": "code",
   "execution_count": 18,
   "metadata": {},
   "outputs": [],
   "source": [
    "df_m49 = pd.read_csv('../data/UNSD_m49.csv', sep=';')"
   ]
  },
  {
   "cell_type": "code",
   "execution_count": 19,
   "metadata": {},
   "outputs": [],
   "source": [
    "continents = df_m49[['Region Code', 'Region Name']]\\\n",
    "                    .dropna()\\\n",
    "                    .drop_duplicates()\\\n",
    "                    .rename(columns={\n",
    "                        'Region Code': 'm49',\n",
    "                        'Region Name': 'name'\n",
    "                    })"
   ]
  },
  {
   "cell_type": "code",
   "execution_count": 20,
   "metadata": {},
   "outputs": [],
   "source": [
    "subregions = df_m49[['Sub-region Code', 'Sub-region Name']]\\\n",
    "                    .dropna()\\\n",
    "                    .drop_duplicates()\\\n",
    "                    .rename(columns={\n",
    "                        'Sub-region Code': 'm49',\n",
    "                        'Sub-region Name': 'name'\n",
    "                    })"
   ]
  },
  {
   "cell_type": "code",
   "execution_count": 21,
   "metadata": {},
   "outputs": [],
   "source": [
    "itdregions = df_m49[['Intermediate Region Code', 'Intermediate Region Name']]\\\n",
    "                    .dropna()\\\n",
    "                    .drop_duplicates()\\\n",
    "                    .rename(columns={\n",
    "                        'Intermediate Region Code': 'm49',\n",
    "                        'Intermediate Region Name': 'name'\n",
    "                    })"
   ]
  },
  {
   "cell_type": "code",
   "execution_count": 22,
   "metadata": {},
   "outputs": [],
   "source": [
    "regions = pd.concat([continents, subregions, itdregions], ignore_index=True)\\\n",
    "            .astype({'m49': int})"
   ]
  },
  {
   "cell_type": "code",
   "execution_count": 23,
   "metadata": {},
   "outputs": [
    {
     "data": {
      "text/plain": [
       "[{'m49': 2, 'name': 'Africa'},\n",
       " {'m49': 19, 'name': 'Americas'},\n",
       " {'m49': 142, 'name': 'Asia'},\n",
       " {'m49': 150, 'name': 'Europe'},\n",
       " {'m49': 9, 'name': 'Oceania'}]"
      ]
     },
     "execution_count": 23,
     "metadata": {},
     "output_type": "execute_result"
    }
   ],
   "source": [
    "region_nodes = regions.to_dict('records')\n",
    "region_nodes[:5]"
   ]
  },
  {
   "cell_type": "code",
   "execution_count": 24,
   "metadata": {},
   "outputs": [],
   "source": [
    "_ = graph_utils.execute_query_with_params(\"MERGE (:Region{m49: $m49, name: $name})\",\n",
    "                                          *region_nodes)"
   ]
  },
  {
   "cell_type": "markdown",
   "metadata": {},
   "source": [
    "### Country Nodes"
   ]
  },
  {
   "cell_type": "code",
   "execution_count": 25,
   "metadata": {},
   "outputs": [],
   "source": [
    "countries = df_m49[['ISO-alpha3 Code', 'ISO-alpha2 Code', 'Country or Area']]\\\n",
    "                    .dropna()\\\n",
    "                    .drop_duplicates()\\\n",
    "                    .rename(columns={\n",
    "                        'ISO-alpha3 Code': 'iso3',\n",
    "                        'ISO-alpha2 Code': 'iso2',\n",
    "                        'Country or Area': 'name'\n",
    "                    })"
   ]
  },
  {
   "cell_type": "code",
   "execution_count": 26,
   "metadata": {},
   "outputs": [
    {
     "data": {
      "text/plain": [
       "[{'iso3': 'DZA', 'iso2': 'DZ', 'name': 'Algeria'},\n",
       " {'iso3': 'EGY', 'iso2': 'EG', 'name': 'Egypt'},\n",
       " {'iso3': 'LBY', 'iso2': 'LY', 'name': 'Libya'},\n",
       " {'iso3': 'MAR', 'iso2': 'MA', 'name': 'Morocco'},\n",
       " {'iso3': 'SDN', 'iso2': 'SD', 'name': 'Sudan'}]"
      ]
     },
     "execution_count": 26,
     "metadata": {},
     "output_type": "execute_result"
    }
   ],
   "source": [
    "country_nodes = countries.to_dict('records')\n",
    "country_nodes[:5]"
   ]
  },
  {
   "cell_type": "code",
   "execution_count": 27,
   "metadata": {},
   "outputs": [],
   "source": [
    "_ = graph_utils.execute_query_with_params(\"MERGE (:Country{iso3: $iso3, name: $name, iso2: $iso2})\",\n",
    "                                          *country_nodes)"
   ]
  },
  {
   "cell_type": "markdown",
   "metadata": {},
   "source": [
    "### Country IS_IN Region Relationships"
   ]
  },
  {
   "cell_type": "code",
   "execution_count": 28,
   "metadata": {},
   "outputs": [],
   "source": [
    "country_continent = df_m49[['ISO-alpha3 Code', 'Region Code']]\\\n",
    "                            .dropna()\\\n",
    "                            .drop_duplicates()\\\n",
    "                            .rename(columns={\n",
    "                                'ISO-alpha3 Code': 'iso3',\n",
    "                                'Region Code': 'm49'\n",
    "                            })"
   ]
  },
  {
   "cell_type": "code",
   "execution_count": 29,
   "metadata": {},
   "outputs": [],
   "source": [
    "country_subregion = df_m49[['ISO-alpha3 Code', 'Sub-region Code']]\\\n",
    "                            .dropna()\\\n",
    "                            .drop_duplicates()\\\n",
    "                            .rename(columns={\n",
    "                                'ISO-alpha3 Code': 'iso3',\n",
    "                                'Sub-region Code': 'm49'\n",
    "                            })"
   ]
  },
  {
   "cell_type": "code",
   "execution_count": 30,
   "metadata": {},
   "outputs": [],
   "source": [
    "country_itdregion = df_m49[['ISO-alpha3 Code', 'Intermediate Region Code']]\\\n",
    "                            .dropna()\\\n",
    "                            .drop_duplicates()\\\n",
    "                            .rename(columns={\n",
    "                                'ISO-alpha3 Code': 'iso3',\n",
    "                                'Intermediate Region Code': 'm49'\n",
    "                            })"
   ]
  },
  {
   "cell_type": "code",
   "execution_count": 31,
   "metadata": {},
   "outputs": [],
   "source": [
    "country_region = pd.concat([country_continent, country_subregion, country_itdregion], ignore_index=True)"
   ]
  },
  {
   "cell_type": "code",
   "execution_count": 32,
   "metadata": {},
   "outputs": [
    {
     "data": {
      "text/plain": [
       "[{'iso3': 'DZA', 'm49': 2.0},\n",
       " {'iso3': 'EGY', 'm49': 2.0},\n",
       " {'iso3': 'LBY', 'm49': 2.0},\n",
       " {'iso3': 'MAR', 'm49': 2.0},\n",
       " {'iso3': 'SDN', 'm49': 2.0}]"
      ]
     },
     "execution_count": 32,
     "metadata": {},
     "output_type": "execute_result"
    }
   ],
   "source": [
    "isin_relationships = country_region.to_dict('records')\n",
    "isin_relationships[:5]"
   ]
  },
  {
   "cell_type": "code",
   "execution_count": 33,
   "metadata": {},
   "outputs": [],
   "source": [
    "_ = graph_utils.execute_query_with_params('''\n",
    "MATCH\n",
    "    (c:Country{iso3: $iso3}),\n",
    "    (r:Region{m49: $m49})\n",
    "MERGE (c)-[:IS_IN]->(r)''', *isin_relationships)"
   ]
  },
  {
   "cell_type": "markdown",
   "metadata": {},
   "source": [
    "### Country Aliases Property"
   ]
  },
  {
   "cell_type": "markdown",
   "metadata": {},
   "source": [
    "Alternative names for countries. Source: [Kaggle](https://www.kaggle.com/datasets/wbdill/country-aliaseslist-of-alternative-country-names)/[Wikipedia](https://en.wikipedia.org/wiki/List_of_alternative_country_names)"
   ]
  },
  {
   "cell_type": "code",
   "execution_count": 34,
   "metadata": {},
   "outputs": [],
   "source": [
    "df_alias = pd.read_csv('../data/country_aliases.csv')"
   ]
  },
  {
   "cell_type": "code",
   "execution_count": 35,
   "metadata": {},
   "outputs": [],
   "source": [
    "def split_alias(row):\n",
    "    '''\n",
    "    Splits a row if Alias contains multiple aliases seperated by \" or \"\n",
    "    '''\n",
    "    if ' or ' in row['Alias']:\n",
    "        values = row['Alias'].split(' or ')\n",
    "        return pd.DataFrame({'iso3': [row['iso3']] * len(values), 'Alias': values})\n",
    "    return pd.DataFrame({'iso3': [row['iso3']], 'Alias': [row['Alias']]})"
   ]
  },
  {
   "cell_type": "code",
   "execution_count": 36,
   "metadata": {},
   "outputs": [],
   "source": [
    "aliases = pd.concat([split_alias(row) for _, row in df_alias.iterrows()],\n",
    "                  ignore_index=True)\\\n",
    "        .dropna()\\\n",
    "        .drop_duplicates()\\\n",
    "        .rename(columns={'Alias': 'alias'})"
   ]
  },
  {
   "cell_type": "code",
   "execution_count": 37,
   "metadata": {},
   "outputs": [
    {
     "data": {
      "text/plain": [
       "[{'iso3': 'AFG', 'alias': 'Afghanistan'},\n",
       " {'iso3': 'AFG', 'alias': 'Islamic Republic of Afghanistan'},\n",
       " {'iso3': 'AFG', 'alias': 'Da Afganistan Islami Jumhoryat'},\n",
       " {'iso3': 'AFG', 'alias': 'Jomhuriyyeh Eslamiyyeh Afganestan'},\n",
       " {'iso3': 'ALB', 'alias': 'Albania'}]"
      ]
     },
     "execution_count": 37,
     "metadata": {},
     "output_type": "execute_result"
    }
   ],
   "source": [
    "country_aliases = aliases.to_dict('records')\n",
    "country_aliases[:5]"
   ]
  },
  {
   "cell_type": "code",
   "execution_count": 38,
   "metadata": {},
   "outputs": [],
   "source": [
    "_ = graph_utils.execute_query_with_params('''\n",
    "MERGE (c:Country {iso3: $iso3})\n",
    "SET c.aliases = \n",
    "    CASE\n",
    "        WHEN c.aliases IS NULL THEN [$alias]\n",
    "        WHEN NOT $alias IN c.aliases THEN c.aliases + $alias\n",
    "        ELSE c.aliases\n",
    "    END''', *country_aliases)"
   ]
  },
  {
   "cell_type": "markdown",
   "metadata": {},
   "source": [
    "### Country Stats"
   ]
  },
  {
   "cell_type": "markdown",
   "metadata": {},
   "source": [
    "Yearly stats for each country are sourced from [Worldbank](data.worldbank.org). Corporate Tax Rates sourced from [Tax Foundation](https://taxfoundation.org/data/all/global/corporate-tax-rates-by-country-2023)."
   ]
  },
  {
   "cell_type": "code",
   "execution_count": 39,
   "metadata": {},
   "outputs": [],
   "source": [
    "def get_worldbank(indicator: str) -> pd.DataFrame:\n",
    "    '''\n",
    "    Get indicator data using worldbank API\n",
    "    '''\n",
    "    with urllib.request.urlopen(f\"https://api.worldbank.org/v2/country/all/indicator/{indicator}?format=json&per_page=20000\") as url:\n",
    "        data = json.load(url)[1]\n",
    "    ind = data[0]['indicator']['value']\n",
    "    iso3 = map(itemgetter('countryiso3code'), data)\n",
    "    year = map(itemgetter('date'), data)\n",
    "    value = map(itemgetter('value'), data)\n",
    "    return pd.DataFrame({\n",
    "        'iso3': iso3,\n",
    "        'year': year,\n",
    "        ind: value\n",
    "    }).replace('', np.nan)\\\n",
    "      .dropna()\\\n",
    "      .set_index(['iso3', 'year'])"
   ]
  },
  {
   "cell_type": "code",
   "execution_count": 40,
   "metadata": {},
   "outputs": [],
   "source": [
    "population = get_worldbank('SP.POP.TOTL')"
   ]
  },
  {
   "cell_type": "code",
   "execution_count": 41,
   "metadata": {},
   "outputs": [],
   "source": [
    "gdp = get_worldbank('NY.GDP.MKTP.CD')"
   ]
  },
  {
   "cell_type": "code",
   "execution_count": 42,
   "metadata": {},
   "outputs": [],
   "source": [
    "pv = get_worldbank('PV.EST')"
   ]
  },
  {
   "cell_type": "code",
   "execution_count": 43,
   "metadata": {},
   "outputs": [],
   "source": [
    "ctr = pd.read_excel('../data/corp_tax_rate.xlsx')\\\n",
    "        .melt(id_vars='iso_3',\n",
    "              value_vars=range(1980, 2024),\n",
    "              var_name='year',\n",
    "              value_name='corporate_tax_rate')\\\n",
    "        .rename(columns={'iso_3': 'iso3'})\\\n",
    "        .astype({'year': str})\\\n",
    "        .set_index(['iso3', 'year'])"
   ]
  },
  {
   "cell_type": "code",
   "execution_count": 44,
   "metadata": {},
   "outputs": [],
   "source": [
    "stats = pd.concat([population, gdp, pv, ctr], axis=1).sort_index()\\\n",
    "          .reset_index()\\\n",
    "          .rename(columns={\n",
    "              'Population, total': 'population',\n",
    "              'GDP (current US$)': 'gdp',\n",
    "              'Political Stability and Absence of Violence/Terrorism: Estimate': 'pv',\n",
    "              'corporate_tax_rate': 'corporate_tax_rate'\n",
    "          })"
   ]
  },
  {
   "cell_type": "markdown",
   "metadata": {},
   "source": [
    "We use 2022 stats for now"
   ]
  },
  {
   "cell_type": "code",
   "execution_count": 45,
   "metadata": {},
   "outputs": [
    {
     "data": {
      "text/plain": [
       "[{'iso3': 'ABW',\n",
       "  'year': '2022',\n",
       "  'population': 106445.0,\n",
       "  'gdp': 3544707788.05664,\n",
       "  'pv': 1.47468435764313,\n",
       "  'corporate_tax_rate': 25.0},\n",
       " {'iso3': 'AFE',\n",
       "  'year': '2022',\n",
       "  'population': 720859132.0,\n",
       "  'gdp': 1183962133998.87,\n",
       "  'pv': nan,\n",
       "  'corporate_tax_rate': nan},\n",
       " {'iso3': 'AFG',\n",
       "  'year': '2022',\n",
       "  'population': 41128771.0,\n",
       "  'gdp': 14502158192.0904,\n",
       "  'pv': -2.5508017539978,\n",
       "  'corporate_tax_rate': 20.0}]"
      ]
     },
     "execution_count": 45,
     "metadata": {},
     "output_type": "execute_result"
    }
   ],
   "source": [
    "country_stats = stats[stats['year'] == '2022'].to_dict('records')\n",
    "country_stats[:3]"
   ]
  },
  {
   "cell_type": "code",
   "execution_count": 46,
   "metadata": {},
   "outputs": [],
   "source": [
    "_ = graph_utils.execute_query_with_params('''\n",
    "MATCH (c:Country {iso3: $iso3})\n",
    "SET\n",
    "    c.population = $population,\n",
    "    c.gdp = $gdp,\n",
    "    c.pv = $pv,\n",
    "    c.corporate_tax_rate = $corporate_tax_rate''', *country_stats)"
   ]
  },
  {
   "cell_type": "markdown",
   "metadata": {},
   "source": [
    "### Sector Nodes"
   ]
  },
  {
   "cell_type": "markdown",
   "metadata": {},
   "source": [
    "\n",
    "The data used for Sector/Industry nodes comes from [bautheac/GICS](https://github.com/bautheac/GICS) packages the Global Industry Classification Standards (GICS) dataset for consumption in R.  The GICS hierarchy begins with 11 sectors and is followed by 24 industry groups, 68 industries, and 157 sub-industries. "
   ]
  },
  {
   "cell_type": "code",
   "execution_count": 47,
   "metadata": {},
   "outputs": [],
   "source": [
    "gics_url = 'https://github.com/bautheac/GICS/raw/0c2b0e4c0ca56a0e520301fd978fc095ed4fc328/data/standards.rda'\n",
    "gics_response = requests.get(gics_url)\n",
    "\n",
    "rda_file_path = '../data/standards.rda'\n",
    "with open(rda_file_path, 'wb') as file:\n",
    "    file.write(gics_response.content)\n",
    "\n",
    "# Load the .rda file using pyreadr\n",
    "result = pyreadr.read_r(rda_file_path)\n",
    "\n",
    "gics = result[list(result.keys())[0]]\n",
    "\n",
    "os.remove(rda_file_path)"
   ]
  },
  {
   "cell_type": "code",
   "execution_count": 48,
   "metadata": {},
   "outputs": [],
   "source": [
    "# data wrangling for industry/sector\n",
    "\n",
    "def gics_wrangling(df):\n",
    "    df = df.dropna()\n",
    "    df = df.drop_duplicates()\n",
    "    df = df.rename(columns={\n",
    "        'sector id': 'sector_id',\n",
    "        'sector name': 'sector_name',\n",
    "        'industry group id': 'industry_group_id',\n",
    "        'industry group name': 'industry_group_name',\n",
    "        'industry id': 'industry_id',\n",
    "        'industry name': 'industry_name',\n",
    "        'subindustry id': 'subindustry_id',\n",
    "        'subindustry name': 'subindustry_name',\n",
    "        'description': 'primary_activity'\n",
    "    })\n",
    "    df['sector_id'] = df['sector_id'].astype('Int64')  \n",
    "    df['industry_group_id'] = df['industry_group_id'].astype('Int64')\n",
    "    df['industry_id'] = df['industry_id'].astype('Int64')\n",
    "    df['subindustry_id'] = df['subindustry_id'].astype('Int64')\n",
    "    df.reset_index(drop=True, inplace=True)\n",
    "    df.index += 1\n",
    "    return df\n",
    "\n",
    "df_standards = gics_wrangling(gics)"
   ]
  },
  {
   "cell_type": "code",
   "execution_count": 49,
   "metadata": {},
   "outputs": [],
   "source": [
    "sector = df_standards[['sector_id', 'sector_name']] \\\n",
    "        .drop_duplicates() \\\n",
    "        .rename(columns={\n",
    "            'sector_id': 'gics',\n",
    "            'sector_name': 'name'\n",
    "        })"
   ]
  },
  {
   "cell_type": "code",
   "execution_count": 50,
   "metadata": {},
   "outputs": [
    {
     "data": {
      "text/plain": [
       "[{'gics': 10, 'name': 'Energy'},\n",
       " {'gics': 15, 'name': 'Materials'},\n",
       " {'gics': 20, 'name': 'Industrials'},\n",
       " {'gics': 25, 'name': 'Consumer Discretionary'},\n",
       " {'gics': 30, 'name': 'Consumer Staples'}]"
      ]
     },
     "execution_count": 50,
     "metadata": {},
     "output_type": "execute_result"
    }
   ],
   "source": [
    "sector_nodes = sector.to_dict('records')\n",
    "sector_nodes[:5]"
   ]
  },
  {
   "cell_type": "code",
   "execution_count": 51,
   "metadata": {},
   "outputs": [],
   "source": [
    "_ = graph_utils.execute_query_with_params(\"MERGE (:Sector{gics: $gics, name: $name})\", *sector_nodes)"
   ]
  },
  {
   "cell_type": "markdown",
   "metadata": {},
   "source": [
    "### Industry Node"
   ]
  },
  {
   "cell_type": "code",
   "execution_count": 52,
   "metadata": {},
   "outputs": [],
   "source": [
    "industry = df_standards[['subindustry_id', 'subindustry_name', 'primary_activity']] \\\n",
    "           .drop_duplicates() \\\n",
    "           .rename(columns={\n",
    "               'subindustry_id': 'gics',\n",
    "               'subindustry_name': 'name',\n",
    "               'primary_activity': 'description'\n",
    "            })"
   ]
  },
  {
   "cell_type": "markdown",
   "metadata": {},
   "source": [
    "We use a sentence embeddings model to generate embeddings for the industry description."
   ]
  },
  {
   "cell_type": "code",
   "execution_count": 53,
   "metadata": {},
   "outputs": [],
   "source": [
    "EMBEDDING_MODEL = SentenceTransformer(\"all-MiniLM-L6-v2\")"
   ]
  },
  {
   "cell_type": "code",
   "execution_count": 54,
   "metadata": {},
   "outputs": [],
   "source": [
    "industry_desc_embed = EMBEDDING_MODEL.encode(industry['description'].to_numpy())\n",
    "industry['embedding'] = list(map(list, industry_desc_embed))"
   ]
  },
  {
   "cell_type": "code",
   "execution_count": 55,
   "metadata": {},
   "outputs": [],
   "source": [
    "insustry_nodes = industry.to_dict('records')"
   ]
  },
  {
   "cell_type": "code",
   "execution_count": 56,
   "metadata": {},
   "outputs": [],
   "source": [
    "_ = graph_utils.execute_query_with_params(\"MERGE (:Industry{gics: $gics, name: $name, description: $description, embedding: $embedding})\", *insustry_nodes)"
   ]
  },
  {
   "cell_type": "markdown",
   "metadata": {},
   "source": [
    "### Industry PART_OF Sector Relationships"
   ]
  },
  {
   "cell_type": "code",
   "execution_count": 57,
   "metadata": {},
   "outputs": [],
   "source": [
    "industry_sector = df_standards[['subindustry_id', 'sector_id']] \\\n",
    "                  .drop_duplicates() \\\n",
    "                  .rename(columns={\n",
    "                      'subindustry_id': 'industry_gics',\n",
    "                      'sector_id': 'sector_gics'\n",
    "                  })"
   ]
  },
  {
   "cell_type": "code",
   "execution_count": 58,
   "metadata": {},
   "outputs": [
    {
     "data": {
      "text/plain": [
       "[{'industry_gics': 10101010, 'sector_gics': 10},\n",
       " {'industry_gics': 10101020, 'sector_gics': 10},\n",
       " {'industry_gics': 10102010, 'sector_gics': 10},\n",
       " {'industry_gics': 10102020, 'sector_gics': 10},\n",
       " {'industry_gics': 10102030, 'sector_gics': 10}]"
      ]
     },
     "execution_count": 58,
     "metadata": {},
     "output_type": "execute_result"
    }
   ],
   "source": [
    "part_of_relationships = industry_sector.to_dict('records')\n",
    "part_of_relationships[:5]"
   ]
  },
  {
   "cell_type": "code",
   "execution_count": 59,
   "metadata": {},
   "outputs": [],
   "source": [
    "_ = graph_utils.execute_query_with_params('''\n",
    "MATCH\n",
    "    (i:Industry{gics: $industry_gics}),\n",
    "    (s:Sector{gics: $sector_gics})\n",
    "MERGE (i)-[:PART_OF]->(s)''', *part_of_relationships)"
   ]
  },
  {
   "cell_type": "markdown",
   "metadata": {},
   "source": [
    "## Adding Extracted Company Data"
   ]
  },
  {
   "cell_type": "markdown",
   "metadata": {},
   "source": [
    "### Import JSON file"
   ]
  },
  {
   "cell_type": "markdown",
   "metadata": {},
   "source": [
    "In this part, we import the extracted nodes and relationships from `merged_output.json`."
   ]
  },
  {
   "cell_type": "code",
   "execution_count": 60,
   "metadata": {},
   "outputs": [],
   "source": [
    "extracted_file = os.getenv(\"ER_EXTRACTION_OUTPUT\", \"merged_output.json\")\n",
    "with open(f'../output/{extracted_file}', 'r') as file:\n",
    "    merged_json = json.load(file)"
   ]
  },
  {
   "cell_type": "markdown",
   "metadata": {},
   "source": [
    "### Data Validation"
   ]
  },
  {
   "cell_type": "markdown",
   "metadata": {},
   "source": [
    "* This part is only for company nodes, where we want to ensure data integrity by checking the primary key ticker_code and ensuring other fields like company name adhere to specific formatting rules and constraints. \n",
    "* Validating ticker_code as a valid string consisting of 4 to 5 uppercase letters, is for accurate indexing in financial markets.\n",
    "* The process identifies duplicates and keeps the more-info version of an entry over the other duplicates. \n",
    "* Standardizing company names into title case and eliminating special symbols maintains consistency in representation and usability.\n",
    "* All data entry whose ticker_code and company_name does not meet these criteria will be removed to maintain a clean dataset for the reporting of company information."
   ]
  },
  {
   "cell_type": "code",
   "execution_count": 61,
   "metadata": {},
   "outputs": [],
   "source": [
    "def is_valid_ticker(ticker_code):\n",
    "    \"\"\"Helper function to check if the ticker code is valid (str, 4 to 5 letters, all upper case).\"\"\"\n",
    "    return isinstance(ticker_code, str) and 4 <= len(ticker_code) <= 5 and ticker_code.isupper()\n",
    "\n",
    "def remove_invalid_ticker_companies(data):\n",
    "    \"\"\"Remove companies whose ticker_code doesn't meet the 3, 4, or 5 letter criteria.\"\"\"\n",
    "    if isinstance(data, str):\n",
    "        print(\"Warning: data is a string, attempting to load as JSON.\")\n",
    "        data = json.loads(data)  \n",
    "    \n",
    "    if \"nodes\" in data and \"Company\" in data[\"nodes\"]:\n",
    "        companies = data[\"nodes\"][\"Company\"]\n",
    "        filtered_companies = [company for company in companies if is_valid_ticker(company.get(\"ticker_code\"))]\n",
    "        data[\"nodes\"][\"Company\"] = filtered_companies\n",
    "    else:\n",
    "        print(\"Warning: The expected structure is not found in the data.\")\n",
    "\n",
    "    return data\n",
    "\n",
    "def clean_names(name):\n",
    "    name = name.title()\n",
    "    name = re.sub(r'[^\\w\\s]', '', name)\n",
    "    return name\n",
    "\n",
    "def standarize_case(data):\n",
    "    \"\"\"function to standardize title case and no other special.\"\"\"\n",
    "    for company in data[\"nodes\"][\"Company\"]:\n",
    "        company[\"name\"] = clean_names(company[\"name\"])\n",
    "    return data"
   ]
  },
  {
   "cell_type": "code",
   "execution_count": 62,
   "metadata": {},
   "outputs": [
    {
     "name": "stdout",
     "output_type": "stream",
     "text": [
      "Completed.\n"
     ]
    }
   ],
   "source": [
    "def company_validate(data): \n",
    "    data = remove_invalid_ticker_companies(data)\n",
    "    data = standarize_case(data)\n",
    "    print(\"Completed.\")\n",
    "    return data\n",
    "\n",
    "validated_data = company_validate(merged_json)"
   ]
  },
  {
   "cell_type": "markdown",
   "metadata": {},
   "source": [
    "### Adding Company Nodes"
   ]
  },
  {
   "cell_type": "code",
   "execution_count": 63,
   "metadata": {},
   "outputs": [
    {
     "data": {
      "text/plain": [
       "[{'name': 'Apple Inc', 'ticker_code': 'AAPL', 'founded_year': ''},\n",
       " {'name': 'Apple', 'ticker_code': 'AAPL', 'founded_year': ''},\n",
       " {'name': 'Airpods', 'ticker_code': 'AAPL', 'founded_year': ''},\n",
       " {'name': 'Apple', 'ticker_code': 'AAPL', 'founded_year': ''},\n",
       " {'name': 'Major League Soccer Mls',\n",
       "  'ticker_code': 'MLFB',\n",
       "  'founded_year': ''}]"
      ]
     },
     "execution_count": 63,
     "metadata": {},
     "output_type": "execute_result"
    }
   ],
   "source": [
    "companies = validated_data['nodes']['Company']\n",
    "for company in companies:\n",
    "    company['founded_year'] = company['founded_year'] or \"\"\n",
    "companies[:5]"
   ]
  },
  {
   "cell_type": "code",
   "execution_count": 64,
   "metadata": {},
   "outputs": [],
   "source": [
    "_ = graph_utils.execute_query_with_params('''\n",
    "MERGE (c:Company {ticker: $ticker_code})\n",
    "SET c.names = \n",
    "    CASE\n",
    "        WHEN c.names IS NULL THEN [$name]\n",
    "        WHEN NOT $name IN c.names THEN c.names + $name\n",
    "        ELSE c.names\n",
    "    END,\n",
    "    c.founded_year = $founded_year''', *companies)"
   ]
  },
  {
   "cell_type": "markdown",
   "metadata": {},
   "source": [
    "### Adding Product Nodes"
   ]
  },
  {
   "cell_type": "code",
   "execution_count": 65,
   "metadata": {},
   "outputs": [
    {
     "data": {
      "text/plain": [
       "[{'name': 'MacBook Air'},\n",
       " {'name': 'MacBook Pro'},\n",
       " {'name': 'Apple TV'},\n",
       " {'name': 'Mac Studio'},\n",
       " {'name': 'AirPods'}]"
      ]
     },
     "execution_count": 65,
     "metadata": {},
     "output_type": "execute_result"
    }
   ],
   "source": [
    "products = validated_data['nodes']['Product']\n",
    "products[:5]"
   ]
  },
  {
   "cell_type": "code",
   "execution_count": 66,
   "metadata": {},
   "outputs": [],
   "source": [
    "_ = graph_utils.execute_query_with_params(\"MERGE (p:Product {name: $name})\", *products)"
   ]
  },
  {
   "cell_type": "markdown",
   "metadata": {},
   "source": [
    "### Preparing Company relationships"
   ]
  },
  {
   "cell_type": "markdown",
   "metadata": {},
   "source": [
    "For the purposes of consistency checking later on, we prepare the company relationship data and store the edges in a list. We use the fulltext and vector indexes we created to match the data to the correct nodes."
   ]
  },
  {
   "cell_type": "code",
   "execution_count": 67,
   "metadata": {},
   "outputs": [],
   "source": [
    "all_edges = []"
   ]
  },
  {
   "cell_type": "markdown",
   "metadata": {},
   "source": [
    "### Company-Product relationships"
   ]
  },
  {
   "cell_type": "markdown",
   "metadata": {},
   "source": [
    "### Company-Industry relationships"
   ]
  },
  {
   "cell_type": "markdown",
   "metadata": {},
   "source": [
    "One of the key relationships defined in the data is \"IS_INVOLVED_IN\", which helps in modeling how companies are categorized based on their primary activities and the sectors they contribute to. In this section, we match to industry nodes in our graph using the vector index for industry descriptions.\n",
    "\n",
    "\n",
    "\"IS_INVOLVED_IN\": [\n",
    "            {\n",
    "                \"company_name\": \"McKinsey &#38; Company\",\n",
    "                \"industry_name\": \"management consulting\"}]"
   ]
  },
  {
   "cell_type": "code",
   "execution_count": 68,
   "metadata": {},
   "outputs": [
    {
     "data": {
      "text/plain": [
       "[{'company_name': 'Apple', 'industry_name': 'accounting'},\n",
       " {'company_name': 'Apple', 'industry_name': 'technology'},\n",
       " {'company_name': 'Apple', 'industry_name': 'information technology'},\n",
       " {'company_name': 'Brightstar Corporation',\n",
       "  'industry_name': 'wireless device services'},\n",
       " {'company_name': 'Applied Materials, Inc.',\n",
       "  'industry_name': 'semiconductor equipment'}]"
      ]
     },
     "execution_count": 68,
     "metadata": {},
     "output_type": "execute_result"
    }
   ],
   "source": [
    "is_involved_in_data = validated_data['relationships']['IS_INVOLVED_IN']\n",
    "is_involved_in_data[:5]"
   ]
  },
  {
   "cell_type": "code",
   "execution_count": 69,
   "metadata": {},
   "outputs": [],
   "source": [
    "for company_industry in is_involved_in_data:\n",
    "    industry_name = company_industry['industry_name']\n",
    "    company_industry['company_name'] = clean_names(company_industry['company_name'])\n",
    "    company_industry['embedding'] = EMBEDDING_MODEL.encode(industry_name).tolist()"
   ]
  },
  {
   "cell_type": "markdown",
   "metadata": {},
   "source": [
    "We also use the products produced by the company to match to industries"
   ]
  },
  {
   "cell_type": "code",
   "execution_count": 70,
   "metadata": {},
   "outputs": [
    {
     "data": {
      "text/plain": [
       "[{'company_name': 'Emagic', 'product_name': 'music software'},\n",
       " {'company_name': 'Emagic', 'product_name': 'computer'},\n",
       " {'company_name': 'Apple Energy, LLC', 'product_name': 'solar energy'},\n",
       " {'company_name': 'Apple Inc.', 'product_name': 'solar energy'},\n",
       " {'company_name': 'Apple', 'product_name': 'mobile handset'}]"
      ]
     },
     "execution_count": 70,
     "metadata": {},
     "output_type": "execute_result"
    }
   ],
   "source": [
    "produces_data = validated_data['relationships']['PRODUCES']\n",
    "produces_data[:5]"
   ]
  },
  {
   "cell_type": "code",
   "execution_count": 71,
   "metadata": {},
   "outputs": [],
   "source": [
    "for company_product in produces_data:\n",
    "    product_name = company_product['product_name']\n",
    "    company_product['company_name'] = clean_names(company_product['company_name'])\n",
    "    company_product['embedding'] = EMBEDDING_MODEL.encode(product_name).tolist()"
   ]
  },
  {
   "cell_type": "code",
   "execution_count": 72,
   "metadata": {},
   "outputs": [],
   "source": [
    "is_involved_in_edges = graph_utils.execute_query_with_params(\"\"\"\n",
    "CALL db.index.fulltext.queryNodes('company_names_index', $company_name)\n",
    "    YIELD node AS c, score AS company_score\n",
    "CALL db.index.vector.queryNodes('industry_description_index', 10, $embedding)\n",
    "    YIELD node AS i, score AS industry_score\n",
    "WHERE company_score > 1\n",
    "AND industry_score > 0.7\n",
    "RETURN\n",
    "    c.ticker AS ticker,\n",
    "    i.gics AS gics\"\"\", *(is_involved_in_data + produces_data))\n",
    "\n",
    "for records, _, _ in is_involved_in_edges:\n",
    "    for ticker, gics in records:\n",
    "        all_edges.append((ticker, gics, \"Company\", \"Industry\", \"IS_INVOLVED_IN\", {}))"
   ]
  },
  {
   "cell_type": "markdown",
   "metadata": {},
   "source": [
    "### Company-Country relationships"
   ]
  },
  {
   "cell_type": "markdown",
   "metadata": {},
   "source": [
    "One of the key relationships defined in the data is \"HEADQUARTERS_IN\" and \"OPERATES_IN\", which helps in modeling how companies are categorized based on their countries.\n",
    "* \"HEADQUARTERS_IN\" relationship signifies that a company has its headquarters located in a specific country. It helps in understanding the geographical base of the company and can have implications for regulatory compliance, market strategy, and more.\n",
    "* \"OPERATES_IN\" relationship indicates that a company conducts its business operations in a specific country, which can include selling products, providing services, or having a physical presence (like branches or subsidiaries)."
   ]
  },
  {
   "cell_type": "code",
   "execution_count": 73,
   "metadata": {},
   "outputs": [
    {
     "data": {
      "text/plain": [
       "[{'company_name': 'Emea', 'country_name': 'Ireland'},\n",
       " {'company_name': 'Apple', 'country_name': 'United States'},\n",
       " {'company_name': 'Apple', 'country_name': 'United States'},\n",
       " {'company_name': 'Zhengzhou Technology Park', 'country_name': 'China'},\n",
       " {'company_name': 'Adobe', 'country_name': 'United States'}]"
      ]
     },
     "execution_count": 73,
     "metadata": {},
     "output_type": "execute_result"
    }
   ],
   "source": [
    "headquarters_data = validated_data['relationships']['HEADQUARTERS_IN']\n",
    "for entry in headquarters_data:\n",
    "    entry['company_name'] = clean_names(entry['company_name'])\n",
    "headquarters_data[:5]"
   ]
  },
  {
   "cell_type": "code",
   "execution_count": 74,
   "metadata": {},
   "outputs": [],
   "source": [
    "headquarters_edges = graph_utils.execute_query_with_params(\"\"\"\n",
    "CALL db.index.fulltext.queryNodes('company_names_index', $company_name)\n",
    "    YIELD node AS company, score AS company_score\n",
    "CALL db.index.fulltext.queryNodes('country_aliases_index', $country_name)\n",
    "    YIELD node AS country, score AS country_score\n",
    "WHERE company_score > 1\n",
    "AND country_score > 1\n",
    "RETURN company.ticker AS ticker, country.iso3 AS iso3\"\"\", *headquarters_data)\n",
    "\n",
    "for records, _, _ in headquarters_edges:\n",
    "    for ticker, iso3 in records:\n",
    "        all_edges.append((ticker, iso3, \"Company\", \"Country\", \"HEADQUARTERS_IN\", {}))"
   ]
  },
  {
   "cell_type": "code",
   "execution_count": 75,
   "metadata": {},
   "outputs": [
    {
     "data": {
      "text/plain": [
       "[{'company_name': 'Apple',\n",
       "  'country_name': 'Ireland',\n",
       "  'headcount': 7343,\n",
       "  'net_sales': 29831428},\n",
       " {'company_name': 'Apple',\n",
       "  'country_name': 'Ireland',\n",
       "  'headcount': 1665,\n",
       "  'net_sales': -24931076},\n",
       " {'company_name': 'Apple',\n",
       "  'country_name': 'United States',\n",
       "  'headcount': 1585,\n",
       "  'net_sales': -12538324},\n",
       " {'company_name': 'Apple',\n",
       "  'country_name': 'United States',\n",
       "  'headcount': 9447,\n",
       "  'net_sales': -20940672},\n",
       " {'company_name': 'Emea',\n",
       "  'country_name': 'Ireland',\n",
       "  'headcount': 5825,\n",
       "  'net_sales': -21823981}]"
      ]
     },
     "execution_count": 75,
     "metadata": {},
     "output_type": "execute_result"
    }
   ],
   "source": [
    "operates_data = validated_data['relationships']['OPERATES_IN_COUNTRY']\n",
    "for entry in operates_data:\n",
    "    entry['company_name'] = clean_names(entry['company_name'])\n",
    "    entry['net_sales'] = entry.pop('net sales')\n",
    "operates_data[:5]"
   ]
  },
  {
   "cell_type": "code",
   "execution_count": 76,
   "metadata": {},
   "outputs": [],
   "source": [
    "operates_edges = graph_utils.execute_query_with_params(\"\"\"\n",
    "CALL db.index.fulltext.queryNodes('company_names_index', $company_name)\n",
    "    YIELD node AS company, score AS company_score\n",
    "CALL db.index.fulltext.queryNodes('country_aliases_index', $country_name)\n",
    "    YIELD node AS country, score AS country_score\n",
    "WHERE company_score > 1\n",
    "AND country_score > 1\n",
    "RETURN\n",
    "    company.ticker AS ticker,\n",
    "    country.iso3 AS iso3,\n",
    "    $headcount AS headcount,\n",
    "    $net_sales AS net_sales\"\"\", *operates_data)\n",
    "\n",
    "for records, _, _ in operates_edges:\n",
    "    for ticker, iso3, headcount, net_sales in records:\n",
    "        all_edges.append((ticker, iso3, \"Company\", \"Country\", \"OPERATES_IN\",\n",
    "                          {'headcount': headcount, 'net_sales': net_sales}))"
   ]
  },
  {
   "cell_type": "markdown",
   "metadata": {},
   "source": [
    "### Company-Company relationships"
   ]
  },
  {
   "cell_type": "markdown",
   "metadata": {},
   "source": [
    "The key relationships are \"COMPETES_WITH\" and \"SUBSIDIARY_OF\".\n",
    "* \"COMPETES_WITH\" relationship is used to represent the competitive dynamics between companies. When two companies operate in the same industry or market and offer similar products or services, they are considered competitors.\n",
    "* \"SUBSIDIARY_OF\" relationship indicates that one company is a subsidiary of another, meaning it is controlled or owned by a parent company. This is a common structure in corporate hierarchies."
   ]
  },
  {
   "cell_type": "code",
   "execution_count": 77,
   "metadata": {},
   "outputs": [
    {
     "data": {
      "text/plain": [
       "[{'company_name_1': 'Be Inc', 'company_name_2': 'Gassée', 'type': None},\n",
       " {'company_name_1': 'Gassée', 'company_name_2': 'Be Inc', 'type': None},\n",
       " {'company_name_1': 'Microsoft', 'company_name_2': 'Apple', 'type': None},\n",
       " {'company_name_1': 'Apple', 'company_name_2': 'Microsoft', 'type': None},\n",
       " {'company_name_1': 'Adobe', 'company_name_2': 'Shopify', 'type': None}]"
      ]
     },
     "execution_count": 77,
     "metadata": {},
     "output_type": "execute_result"
    }
   ],
   "source": [
    "company_competes = validated_data['relationships']['COMPETES_WITH']\n",
    "for entry in company_competes:\n",
    "    entry['company_name_1'] = clean_names(entry['company_name_1'])\n",
    "    entry['company_name_2'] = clean_names(entry['company_name_2'])\n",
    "company_competes[:5]"
   ]
  },
  {
   "cell_type": "code",
   "execution_count": 78,
   "metadata": {},
   "outputs": [],
   "source": [
    "competes_edges = graph_utils.execute_query_with_params(\"\"\"\n",
    "CALL db.index.fulltext.queryNodes('company_names_index', $company_name_1)\n",
    "    YIELD node AS company1, score AS c1_score\n",
    "CALL db.index.fulltext.queryNodes('company_names_index', $company_name_2)\n",
    "    YIELD node AS company2, score AS c2_score\n",
    "WHERE c1_score > 1\n",
    "AND c2_score > 1\n",
    "RETURN company1.ticker AS ticker1, company2.ticker AS ticker2\"\"\", *company_competes)\n",
    "\n",
    "for records, _, _ in competes_edges:\n",
    "    for ticker1, ticker2 in records:\n",
    "        all_edges.append((ticker1, ticker2, \"Company\", \"Company\", \"COMPETES_WITH\", {}))"
   ]
  },
  {
   "cell_type": "code",
   "execution_count": 79,
   "metadata": {},
   "outputs": [
    {
     "data": {
      "text/plain": [
       "[{'company_name_1': 'Flurry Analytics',\n",
       "  'company_name_2': 'Verizon',\n",
       "  'type': 'subsidiary'},\n",
       " {'company_name_1': 'Apple Energy Llc',\n",
       "  'company_name_2': 'Apple Inc',\n",
       "  'type': 'subsidiary'},\n",
       " {'company_name_1': 'Ace American Insurance Company',\n",
       "  'company_name_2': 'Chubb Limited',\n",
       "  'type': 'subsidiary'},\n",
       " {'company_name_1': 'Adp Indemnity',\n",
       "  'company_name_2': 'Chubb Limited',\n",
       "  'type': 'subsidiary'},\n",
       " {'company_name_1': 'Arm',\n",
       "  'company_name_2': 'Arm Holdings',\n",
       "  'type': 'subsidiary'}]"
      ]
     },
     "execution_count": 79,
     "metadata": {},
     "output_type": "execute_result"
    }
   ],
   "source": [
    "company_subsidiary = validated_data['relationships']['SUBSIDIARY_OF']\n",
    "for entry in company_subsidiary:\n",
    "    entry['company_name_1'] = clean_names(entry['company_name_1'])\n",
    "    entry['company_name_2'] = clean_names(entry['company_name_2'])\n",
    "company_subsidiary[:5]"
   ]
  },
  {
   "cell_type": "code",
   "execution_count": 80,
   "metadata": {},
   "outputs": [],
   "source": [
    "subsidiary_edges = graph_utils.execute_query_with_params(\"\"\"\n",
    "CALL db.index.fulltext.queryNodes('company_names_index', $company_name_1)\n",
    "    YIELD node AS company1, score AS c1_score\n",
    "CALL db.index.fulltext.queryNodes('company_names_index', $company_name_2)\n",
    "    YIELD node AS company2, score AS c2_score\n",
    "WHERE c1_score > 1\n",
    "AND c2_score > 1\n",
    "RETURN company1.ticker AS ticker1, company2.ticker AS ticker2\"\"\", *company_subsidiary)\n",
    "\n",
    "for records, _, _ in subsidiary_edges:\n",
    "    for ticker1, ticker2 in records:\n",
    "        all_edges.append((ticker1, ticker2, \"Company\", \"Company\", \"SUBSIDIARY_OF\", {}))"
   ]
  },
  {
   "cell_type": "code",
   "execution_count": 81,
   "metadata": {},
   "outputs": [
    {
     "data": {
      "text/plain": [
       "[{'company_name_1': 'Apple',\n",
       "  'company_name_2': 'Nextstep',\n",
       "  'type': 'suppliers'},\n",
       " {'company_name_1': 'Apple',\n",
       "  'company_name_2': 'Lens Technology',\n",
       "  'type': 'suppliers'},\n",
       " {'company_name_1': 'Apple',\n",
       "  'company_name_2': 'Lens Technology',\n",
       "  'type': 'suppliers'},\n",
       " {'company_name_1': 'Chubb Limited',\n",
       "  'company_name_2': 'Adp Indemnity',\n",
       "  'type': 'suppliers'},\n",
       " {'company_name_1': 'Chubb Limited',\n",
       "  'company_name_2': 'Adp Indemnity',\n",
       "  'type': 'suppliers'}]"
      ]
     },
     "execution_count": 81,
     "metadata": {},
     "output_type": "execute_result"
    }
   ],
   "source": [
    "company_supplies = validated_data['relationships']['PARTNERS_WITH']\n",
    "for entry in company_supplies:\n",
    "    entry['company_name_1'] = clean_names(entry['company_name_1'])\n",
    "    entry['company_name_2'] = clean_names(entry['company_name_2'])\n",
    "company_supplies[:5]"
   ]
  },
  {
   "cell_type": "code",
   "execution_count": 82,
   "metadata": {},
   "outputs": [],
   "source": [
    "subsidiary_edges = graph_utils.execute_query_with_params(\"\"\"\n",
    "CALL db.index.fulltext.queryNodes('company_names_index', $company_name_1)\n",
    "    YIELD node AS company1, score AS c1_score\n",
    "CALL db.index.fulltext.queryNodes('company_names_index', $company_name_2)\n",
    "    YIELD node AS company2, score AS c2_score\n",
    "WHERE c1_score > 1\n",
    "AND c2_score > 1\n",
    "RETURN company1.ticker AS ticker1, company2.ticker AS ticker2\"\"\", *company_supplies)\n",
    "\n",
    "for records, _, _ in subsidiary_edges:\n",
    "    for ticker1, ticker2 in records:\n",
    "        all_edges.append((ticker1, ticker2, \"Company\", \"Company\", \"SUPPLIES_TO\", {}))"
   ]
  },
  {
   "cell_type": "markdown",
   "metadata": {},
   "source": [
    "### Consistency Checking"
   ]
  },
  {
   "cell_type": "markdown",
   "metadata": {},
   "source": [
    "In this section, we perform consistency checking of the edges we have gathered before adding them to the graph. We define that an edge is consistent with the current graph, if there is a positive evidence (pattern) in the graph that supports the edge.\n",
    "\n",
    "We make use of the Graph Fact Checking rules (GFCs) mining algorithm introduced by this [paper](https://github.com/001waiyan/GDRB/blob/master/2018-DASFAA-GFC-paper.pdf). We created a [fork](https://github.com/001waiyan/GDRB) of the paper's repository for the purposes of integration with the project. In this fork, we set up the FactChecker API, which performs the following:\n",
    "1. Generate patterns (GFCs) for the given relation and input graph.\n",
    "2. Checks each input edge against each found pattern.\n",
    "\n",
    "The GFC mining algorithm relies on Principal Closed World Assumption (PCWA) of the input graph, i.e. if the graph has at least one edge (V1)-[:R]->(V2), we assume that we have complete information of all (V1)-[:R]->(Vx). For example if the graph has two competitors of Apple, (Apple)-[:COMPETES_WITH]->(Google) and (Apple)-[:Competes_With]->(Samsung), anything not in the graph (e.g. (Apple)-[:COMPETES_WITH]->(Meta)) is considered false.\n",
    "\n",
    "In this section, we systematically fact check and add to the Neo4j database the list of edges, while maintaining PCWA of the graph. The edges to add are grouped by same source node and relation type (e.g. all COMPETES_WITH edges for the Apple node). Each group is fact checked using the FactChecker API and added one at a time to maintain PCWA.\n",
    "\n",
    "Algorithm used:\n",
    "1. Group the edges by the same source node and relation type.\n",
    "2. Add all groups that contain duplicate edges to the graph, without fact checking. (Assuming that these edges are more likely to be consistent)\n",
    "3. For the remaining groups, run the FactChecker API on each of them.\n",
    "4. If an edge was matched by at least one found pattern, add that edge to the graph.\n",
    "5. If no patterns were found for the group, add all its edges to the graph."
   ]
  },
  {
   "cell_type": "code",
   "execution_count": 83,
   "metadata": {},
   "outputs": [
    {
     "name": "stdout",
     "output_type": "stream",
     "text": [
      "====================Adding groups with duplicates====================\n",
      "Processing group: ('AAPL', 'Company', 'Industry', 'IS_INVOLVED_IN')\n",
      "14 edges found in group.\n",
      "Adding 6 unique edges.\n",
      "\n",
      "Processing group: ('KLAC', 'Company', 'Industry', 'IS_INVOLVED_IN')\n",
      "89 edges found in group.\n",
      "Adding 35 unique edges.\n",
      "\n",
      "Processing group: ('CMCSA', 'Company', 'Industry', 'IS_INVOLVED_IN')\n",
      "134 edges found in group.\n",
      "Adding 41 unique edges.\n",
      "\n",
      "Processing group: ('AMAT', 'Company', 'Industry', 'IS_INVOLVED_IN')\n",
      "190 edges found in group.\n",
      "Adding 35 unique edges.\n",
      "\n",
      "Processing group: ('ADBE', 'Company', 'Industry', 'IS_INVOLVED_IN')\n",
      "8 edges found in group.\n",
      "Adding 4 unique edges.\n",
      "\n",
      "Processing group: ('NVDA', 'Company', 'Industry', 'IS_INVOLVED_IN')\n",
      "62 edges found in group.\n",
      "Adding 21 unique edges.\n",
      "\n",
      "Processing group: ('AMZN', 'Company', 'Industry', 'IS_INVOLVED_IN')\n",
      "40 edges found in group.\n",
      "Adding 31 unique edges.\n",
      "\n",
      "Processing group: ('AMGN', 'Company', 'Industry', 'IS_INVOLVED_IN')\n",
      "5 edges found in group.\n",
      "Adding 3 unique edges.\n",
      "\n",
      "Processing group: ('GOOG', 'Company', 'Industry', 'IS_INVOLVED_IN')\n",
      "10 edges found in group.\n",
      "Adding 5 unique edges.\n",
      "\n",
      "Processing group: ('GOOGL', 'Company', 'Industry', 'IS_INVOLVED_IN')\n",
      "4 edges found in group.\n",
      "Adding 2 unique edges.\n",
      "\n",
      "Processing group: ('BKNG', 'Company', 'Industry', 'IS_INVOLVED_IN')\n",
      "37 edges found in group.\n",
      "Adding 23 unique edges.\n",
      "\n",
      "Processing group: ('AVGO', 'Company', 'Industry', 'IS_INVOLVED_IN')\n",
      "23 edges found in group.\n",
      "Adding 12 unique edges.\n",
      "\n",
      "Processing group: ('CSCO', 'Company', 'Industry', 'IS_INVOLVED_IN')\n",
      "52 edges found in group.\n",
      "Adding 30 unique edges.\n",
      "\n",
      "Processing group: ('VTAGY', 'Company', 'Industry', 'IS_INVOLVED_IN')\n",
      "50 edges found in group.\n",
      "Adding 30 unique edges.\n",
      "\n",
      "Processing group: ('GILD', 'Company', 'Industry', 'IS_INVOLVED_IN')\n",
      "22 edges found in group.\n",
      "Adding 14 unique edges.\n",
      "\n",
      "Processing group: ('MDLZ', 'Company', 'Industry', 'IS_INVOLVED_IN')\n",
      "15 edges found in group.\n",
      "Adding 12 unique edges.\n",
      "\n",
      "Processing group: ('INTC', 'Company', 'Industry', 'IS_INVOLVED_IN')\n",
      "41 edges found in group.\n",
      "Adding 18 unique edges.\n",
      "\n",
      "Processing group: ('INTU', 'Company', 'Industry', 'IS_INVOLVED_IN')\n",
      "21 edges found in group.\n",
      "Adding 17 unique edges.\n",
      "\n",
      "Processing group: ('LRCX', 'Company', 'Industry', 'IS_INVOLVED_IN')\n",
      "72 edges found in group.\n",
      "Adding 31 unique edges.\n",
      "\n",
      "Processing group: ('MELI', 'Company', 'Industry', 'IS_INVOLVED_IN')\n",
      "27 edges found in group.\n",
      "Adding 23 unique edges.\n",
      "\n",
      "Processing group: ('MXIM', 'Company', 'Industry', 'IS_INVOLVED_IN')\n",
      "18 edges found in group.\n",
      "Adding 9 unique edges.\n",
      "\n",
      "Processing group: ('CTAS', 'Company', 'Industry', 'IS_INVOLVED_IN')\n",
      "14 edges found in group.\n",
      "Adding 12 unique edges.\n",
      "\n",
      "Processing group: ('AAPL', 'Company', 'Country', 'HEADQUARTERS_IN')\n",
      "32 edges found in group.\n",
      "Adding 8 unique edges.\n",
      "\n",
      "Processing group: ('ADBE', 'Company', 'Country', 'HEADQUARTERS_IN')\n",
      "18 edges found in group.\n",
      "Adding 9 unique edges.\n",
      "\n",
      "Processing group: ('NVDA', 'Company', 'Country', 'HEADQUARTERS_IN')\n",
      "84 edges found in group.\n",
      "Adding 10 unique edges.\n",
      "\n",
      "Processing group: ('AMAT', 'Company', 'Country', 'HEADQUARTERS_IN')\n",
      "60 edges found in group.\n",
      "Adding 12 unique edges.\n",
      "\n",
      "Processing group: ('AMZN', 'Company', 'Country', 'HEADQUARTERS_IN')\n",
      "56 edges found in group.\n",
      "Adding 8 unique edges.\n",
      "\n",
      "Processing group: ('AMGN', 'Company', 'Country', 'HEADQUARTERS_IN')\n",
      "16 edges found in group.\n",
      "Adding 8 unique edges.\n",
      "\n",
      "Processing group: ('GOOGL', 'Company', 'Country', 'HEADQUARTERS_IN')\n",
      "32 edges found in group.\n",
      "Adding 8 unique edges.\n",
      "\n",
      "Processing group: ('GOOG', 'Company', 'Country', 'HEADQUARTERS_IN')\n",
      "32 edges found in group.\n",
      "Adding 8 unique edges.\n",
      "\n",
      "Processing group: ('BKNG', 'Company', 'Country', 'HEADQUARTERS_IN')\n",
      "16 edges found in group.\n",
      "Adding 8 unique edges.\n",
      "\n",
      "Processing group: ('CTAS', 'Company', 'Country', 'HEADQUARTERS_IN')\n",
      "16 edges found in group.\n",
      "Adding 8 unique edges.\n",
      "\n",
      "Processing group: ('KLAC', 'Company', 'Country', 'HEADQUARTERS_IN')\n",
      "65 edges found in group.\n",
      "Adding 9 unique edges.\n",
      "\n",
      "Processing group: ('CMCSA', 'Company', 'Country', 'HEADQUARTERS_IN')\n",
      "89 edges found in group.\n",
      "Adding 9 unique edges.\n",
      "\n",
      "Processing group: ('COST', 'Company', 'Country', 'HEADQUARTERS_IN')\n",
      "49 edges found in group.\n",
      "Adding 9 unique edges.\n",
      "\n",
      "Processing group: ('GILD', 'Company', 'Country', 'HEADQUARTERS_IN')\n",
      "32 edges found in group.\n",
      "Adding 8 unique edges.\n",
      "\n",
      "Processing group: ('MDLZ', 'Company', 'Country', 'HEADQUARTERS_IN')\n",
      "20 edges found in group.\n",
      "Adding 13 unique edges.\n",
      "\n",
      "Processing group: ('INTC', 'Company', 'Country', 'HEADQUARTERS_IN')\n",
      "34 edges found in group.\n",
      "Adding 9 unique edges.\n",
      "\n",
      "Processing group: ('INTU', 'Company', 'Country', 'HEADQUARTERS_IN')\n",
      "17 edges found in group.\n",
      "Adding 9 unique edges.\n",
      "\n",
      "Processing group: ('LRCX', 'Company', 'Country', 'HEADQUARTERS_IN')\n",
      "33 edges found in group.\n",
      "Adding 9 unique edges.\n",
      "\n",
      "Processing group: ('MELI', 'Company', 'Country', 'HEADQUARTERS_IN')\n",
      "19 edges found in group.\n",
      "Adding 10 unique edges.\n",
      "\n",
      "Processing group: ('MSFT', 'Company', 'Country', 'HEADQUARTERS_IN')\n",
      "29 edges found in group.\n",
      "Adding 13 unique edges.\n",
      "\n",
      "Processing group: ('META', 'Company', 'Country', 'HEADQUARTERS_IN')\n",
      "24 edges found in group.\n",
      "Adding 9 unique edges.\n",
      "\n",
      "Processing group: ('NFLX', 'Company', 'Country', 'HEADQUARTERS_IN')\n",
      "41 edges found in group.\n",
      "Adding 9 unique edges.\n",
      "\n",
      "Processing group: ('AAPL', 'Company', 'Country', 'OPERATES_IN')\n",
      "76 edges found in group.\n",
      "Adding 9 unique edges.\n",
      "\n",
      "Processing group: ('ADBE', 'Company', 'Country', 'OPERATES_IN')\n",
      "72 edges found in group.\n",
      "Adding 10 unique edges.\n",
      "\n",
      "Processing group: ('NVDA', 'Company', 'Country', 'OPERATES_IN')\n",
      "191 edges found in group.\n",
      "Adding 17 unique edges.\n",
      "\n",
      "Processing group: ('AMAT', 'Company', 'Country', 'OPERATES_IN')\n",
      "60 edges found in group.\n",
      "Adding 12 unique edges.\n",
      "\n",
      "Processing group: ('AMZN', 'Company', 'Country', 'OPERATES_IN')\n",
      "64 edges found in group.\n",
      "Adding 8 unique edges.\n",
      "\n",
      "Processing group: ('AMGN', 'Company', 'Country', 'OPERATES_IN')\n",
      "27 edges found in group.\n",
      "Adding 11 unique edges.\n",
      "\n",
      "Processing group: ('GOOGL', 'Company', 'Country', 'OPERATES_IN')\n",
      "34 edges found in group.\n",
      "Adding 9 unique edges.\n",
      "\n",
      "Processing group: ('GOOG', 'Company', 'Country', 'OPERATES_IN')\n",
      "34 edges found in group.\n",
      "Adding 9 unique edges.\n",
      "\n",
      "Processing group: ('BKNG', 'Company', 'Country', 'OPERATES_IN')\n",
      "34 edges found in group.\n",
      "Adding 17 unique edges.\n",
      "\n",
      "Processing group: ('CTAS', 'Company', 'Country', 'OPERATES_IN')\n",
      "32 edges found in group.\n",
      "Adding 8 unique edges.\n",
      "\n",
      "Processing group: ('CSCO', 'Company', 'Country', 'OPERATES_IN')\n",
      "24 edges found in group.\n",
      "Adding 13 unique edges.\n",
      "\n",
      "Processing group: ('VTAGY', 'Company', 'Country', 'OPERATES_IN')\n",
      "21 edges found in group.\n",
      "Adding 13 unique edges.\n",
      "\n",
      "Processing group: ('KLAC', 'Company', 'Country', 'OPERATES_IN')\n",
      "82 edges found in group.\n",
      "Adding 10 unique edges.\n",
      "\n",
      "Processing group: ('CMCSA', 'Company', 'Country', 'OPERATES_IN')\n",
      "232 edges found in group.\n",
      "Adding 22 unique edges.\n",
      "\n",
      "Processing group: ('COST', 'Company', 'Country', 'OPERATES_IN')\n",
      "112 edges found in group.\n",
      "Adding 17 unique edges.\n",
      "\n",
      "Processing group: ('GILD', 'Company', 'Country', 'OPERATES_IN')\n",
      "32 edges found in group.\n",
      "Adding 8 unique edges.\n",
      "\n",
      "Processing group: ('MDLZ', 'Company', 'Country', 'OPERATES_IN')\n",
      "21 edges found in group.\n",
      "Adding 14 unique edges.\n",
      "\n",
      "Processing group: ('INTC', 'Company', 'Country', 'OPERATES_IN')\n",
      "34 edges found in group.\n",
      "Adding 9 unique edges.\n",
      "\n",
      "Processing group: ('INTU', 'Company', 'Country', 'OPERATES_IN')\n",
      "21 edges found in group.\n",
      "Adding 9 unique edges.\n",
      "\n",
      "Processing group: ('LRCX', 'Company', 'Country', 'OPERATES_IN')\n",
      "33 edges found in group.\n",
      "Adding 9 unique edges.\n",
      "\n",
      "Processing group: ('MXIM', 'Company', 'Country', 'OPERATES_IN')\n",
      "16 edges found in group.\n",
      "Adding 8 unique edges.\n",
      "\n",
      "Processing group: ('MELI', 'Company', 'Country', 'OPERATES_IN')\n",
      "20 edges found in group.\n",
      "Adding 11 unique edges.\n",
      "\n",
      "Processing group: ('MSFT', 'Company', 'Country', 'OPERATES_IN')\n",
      "29 edges found in group.\n",
      "Adding 13 unique edges.\n",
      "\n",
      "Processing group: ('META', 'Company', 'Country', 'OPERATES_IN')\n",
      "41 edges found in group.\n",
      "Adding 11 unique edges.\n",
      "\n",
      "Processing group: ('NFLX', 'Company', 'Country', 'OPERATES_IN')\n",
      "51 edges found in group.\n",
      "Adding 11 unique edges.\n",
      "\n",
      "Processing group: ('MSFT', 'Company', 'Company', 'COMPETES_WITH')\n",
      "5 edges found in group.\n",
      "Adding 2 unique edges.\n",
      "\n",
      "Processing group: ('AAPL', 'Company', 'Company', 'COMPETES_WITH')\n",
      "3 edges found in group.\n",
      "Adding 1 unique edges.\n",
      "\n",
      "Processing group: ('ADBE', 'Company', 'Company', 'COMPETES_WITH')\n",
      "5 edges found in group.\n",
      "Adding 2 unique edges.\n",
      "\n",
      "Processing group: ('GOOG', 'Company', 'Company', 'COMPETES_WITH')\n",
      "3 edges found in group.\n",
      "Adding 2 unique edges.\n",
      "\n",
      "Processing group: ('BKNG', 'Company', 'Company', 'COMPETES_WITH')\n",
      "3 edges found in group.\n",
      "Adding 2 unique edges.\n",
      "\n",
      "Processing group: ('COST', 'Company', 'Company', 'COMPETES_WITH')\n",
      "3 edges found in group.\n",
      "Adding 2 unique edges.\n",
      "\n",
      "Processing group: ('INTC', 'Company', 'Company', 'COMPETES_WITH')\n",
      "10 edges found in group.\n",
      "Adding 7 unique edges.\n",
      "\n",
      "Processing group: ('CMCSA', 'Company', 'Company', 'COMPETES_WITH')\n",
      "2 edges found in group.\n",
      "Adding 1 unique edges.\n",
      "\n",
      "Processing group: ('NFLX', 'Company', 'Company', 'COMPETES_WITH')\n",
      "2 edges found in group.\n",
      "Adding 1 unique edges.\n",
      "\n",
      "Processing group: ('AAPL', 'Company', 'Company', 'SUBSIDIARY_OF')\n",
      "4 edges found in group.\n",
      "Adding 3 unique edges.\n",
      "\n",
      "Processing group: ('AMZN', 'Company', 'Company', 'SUBSIDIARY_OF')\n",
      "2 edges found in group.\n",
      "Adding 1 unique edges.\n",
      "\n",
      "Processing group: ('BKNG', 'Company', 'Company', 'SUBSIDIARY_OF')\n",
      "4 edges found in group.\n",
      "Adding 2 unique edges.\n",
      "\n",
      "Processing group: ('GOOG', 'Company', 'Company', 'SUBSIDIARY_OF')\n",
      "4 edges found in group.\n",
      "Adding 2 unique edges.\n",
      "\n",
      "Processing group: ('COST', 'Company', 'Company', 'SUBSIDIARY_OF')\n",
      "2 edges found in group.\n",
      "Adding 1 unique edges.\n",
      "\n",
      "====================Adding groups without duplicates====================\n",
      "Processing group: ('NUAN', 'Company', 'Industry', 'IS_INVOLVED_IN')\n",
      "4 edges found in group.\n",
      "0 patterns found for group.\n",
      "Adding 4 filtered edges.\n",
      "\n",
      "Processing group: ('CTNM', 'Company', 'Industry', 'IS_INVOLVED_IN')\n",
      "2 edges found in group.\n",
      "0 patterns found for group.\n",
      "Adding 2 filtered edges.\n",
      "\n",
      "Processing group: ('ISRG', 'Company', 'Industry', 'IS_INVOLVED_IN')\n",
      "12 edges found in group.\n",
      "0 patterns found for group.\n",
      "Adding 12 filtered edges.\n",
      "\n",
      "Processing group: ('MSFT', 'Company', 'Industry', 'IS_INVOLVED_IN')\n",
      "11 edges found in group.\n",
      "0 patterns found for group.\n",
      "Adding 11 filtered edges.\n",
      "\n",
      "Processing group: ('META', 'Company', 'Industry', 'IS_INVOLVED_IN')\n",
      "5 edges found in group.\n",
      "0 patterns found for group.\n",
      "Adding 5 filtered edges.\n",
      "\n",
      "Processing group: ('NFLX', 'Company', 'Industry', 'IS_INVOLVED_IN')\n",
      "1 edges found in group.\n",
      "0 patterns found for group.\n",
      "Adding 1 filtered edges.\n",
      "\n",
      "Processing group: ('COST', 'Company', 'Industry', 'IS_INVOLVED_IN')\n",
      "6 edges found in group.\n",
      "0 patterns found for group.\n",
      "Adding 6 filtered edges.\n",
      "\n",
      "Processing group: ('LYTS', 'Company', 'Industry', 'IS_INVOLVED_IN')\n",
      "1 edges found in group.\n",
      "0 patterns found for group.\n",
      "Adding 1 filtered edges.\n",
      "\n",
      "Processing group: ('AVGO', 'Company', 'Country', 'HEADQUARTERS_IN')\n",
      "1 edges found in group.\n",
      "0 patterns found for group.\n",
      "Adding 1 filtered edges.\n",
      "\n",
      "Processing group: ('CSCO', 'Company', 'Country', 'HEADQUARTERS_IN')\n",
      "10 edges found in group.\n",
      "0 patterns found for group.\n",
      "Adding 10 filtered edges.\n",
      "\n",
      "Processing group: ('VTAGY', 'Company', 'Country', 'HEADQUARTERS_IN')\n",
      "10 edges found in group.\n",
      "0 patterns found for group.\n",
      "Adding 10 filtered edges.\n",
      "\n",
      "Processing group: ('AVGO', 'Company', 'Country', 'OPERATES_IN')\n",
      "10 edges found in group.\n",
      "0 patterns found for group.\n",
      "Adding 10 filtered edges.\n",
      "\n",
      "Processing group: ('NUAN', 'Company', 'Country', 'OPERATES_IN')\n",
      "8 edges found in group.\n",
      "0 patterns found for group.\n",
      "Adding 8 filtered edges.\n",
      "\n",
      "Processing group: ('AMZN', 'Company', 'Company', 'COMPETES_WITH')\n",
      "3 edges found in group.\n",
      "2 patterns found for group.\n",
      "Adding 0 filtered edges.\n",
      "\n",
      "Processing group: ('AMAT', 'Company', 'Company', 'COMPETES_WITH')\n",
      "1 edges found in group.\n",
      "2 patterns found for group.\n",
      "Adding 0 filtered edges.\n",
      "\n",
      "Processing group: ('MXIM', 'Company', 'Company', 'COMPETES_WITH')\n",
      "1 edges found in group.\n",
      "2 patterns found for group.\n",
      "Adding 0 filtered edges.\n",
      "\n",
      "Processing group: ('CSCO', 'Company', 'Company', 'COMPETES_WITH')\n",
      "1 edges found in group.\n",
      "2 patterns found for group.\n",
      "Adding 0 filtered edges.\n",
      "\n",
      "Processing group: ('VTAGY', 'Company', 'Company', 'COMPETES_WITH')\n",
      "1 edges found in group.\n",
      "2 patterns found for group.\n",
      "Adding 0 filtered edges.\n",
      "\n",
      "Processing group: ('NVDA', 'Company', 'Company', 'COMPETES_WITH')\n",
      "1 edges found in group.\n",
      "2 patterns found for group.\n",
      "Adding 0 filtered edges.\n",
      "\n",
      "Processing group: ('META', 'Company', 'Company', 'SUBSIDIARY_OF')\n",
      "3 edges found in group.\n",
      "2 patterns found for group.\n",
      "Adding 0 filtered edges.\n",
      "\n",
      "Processing group: ('CTAS', 'Company', 'Company', 'SUBSIDIARY_OF')\n",
      "1 edges found in group.\n",
      "2 patterns found for group.\n",
      "Adding 0 filtered edges.\n",
      "\n",
      "Processing group: ('KLAC', 'Company', 'Company', 'SUBSIDIARY_OF')\n",
      "1 edges found in group.\n",
      "2 patterns found for group.\n",
      "Adding 0 filtered edges.\n",
      "\n",
      "Processing group: ('CMCSA', 'Company', 'Company', 'SUBSIDIARY_OF')\n",
      "1 edges found in group.\n",
      "2 patterns found for group.\n",
      "Adding 0 filtered edges.\n",
      "\n",
      "Processing group: ('INTU', 'Company', 'Company', 'SUBSIDIARY_OF')\n",
      "1 edges found in group.\n",
      "2 patterns found for group.\n",
      "Adding 0 filtered edges.\n",
      "\n",
      "Processing group: ('MSFT', 'Company', 'Company', 'SUBSIDIARY_OF')\n",
      "1 edges found in group.\n",
      "2 patterns found for group.\n",
      "Adding 0 filtered edges.\n",
      "\n",
      "Processing group: ('AAPL', 'Company', 'Company', 'SUPPLIES_TO')\n",
      "1 edges found in group.\n",
      "0 patterns found for group.\n",
      "Adding 1 filtered edges.\n",
      "\n"
     ]
    }
   ],
   "source": [
    "fact_check_and_add(all_edges, min_supp=0.5, min_conf=0.1, top_k=50, max_size=2)"
   ]
  },
  {
   "cell_type": "markdown",
   "metadata": {},
   "source": [
    "#### Interpretation of Mined Patterns"
   ]
  },
  {
   "cell_type": "code",
   "execution_count": 84,
   "metadata": {},
   "outputs": [
    {
     "name": "stdout",
     "output_type": "stream",
     "text": [
      "Extracting patterns for (Country)-[:IS_IN]->(Region)\n",
      "0 patterns found.\n",
      "Extracting patterns for (Industry)-[:PART_OF]->(Sector)\n",
      "0 patterns found.\n",
      "Extracting patterns for (Company)-[:COMPETES_WITH]->(Company)\n",
      "2 patterns found.\n",
      "Extracting patterns for (Company)-[:HEADQUARTERS_IN]->(Country)\n",
      "0 patterns found.\n",
      "Extracting patterns for (Company)-[:SUBSIDIARY_OF]->(Company)\n",
      "2 patterns found.\n",
      "Extracting patterns for (Company)-[:OPERATES_IN]->(Country)\n",
      "0 patterns found.\n",
      "Extracting patterns for (Company)-[:IS_INVOLVED_IN]->(Industry)\n",
      "0 patterns found.\n",
      "Extracting patterns for (Company)-[:SUPPLIES_TO]->(Company)\n",
      "2 patterns found.\n"
     ]
    }
   ],
   "source": [
    "patterns = extract_all_patterns(min_supp=0.5, min_conf=0.1, top_k=50, max_size=2)"
   ]
  },
  {
   "cell_type": "code",
   "execution_count": 85,
   "metadata": {},
   "outputs": [],
   "source": [
    "# Visualises rules and saves them as images in ../output/rules\n",
    "visualize_rules(patterns)"
   ]
  },
  {
   "cell_type": "markdown",
   "metadata": {},
   "source": [
    "The statement \"Company A COMPETES_WITH Company B\" is considered consistent if at least one of the following is true:\n",
    "1. They operate in the same country.\n",
    "2. They are involved in the same industry."
   ]
  },
  {
   "cell_type": "code",
   "execution_count": 86,
   "metadata": {},
   "outputs": [
    {
     "data": {
      "text/plain": [
       "{Pattern((Company0)-[:OPERATES_IN]->(Country2),\n",
       " (Company1)-[:OPERATES_IN]->(Country2),\n",
       " supp=1, conf=0.15079365079365079),\n",
       " Pattern((Company0)-[:IS_INVOLVED_IN]->(Industry2),\n",
       " (Company1)-[:IS_INVOLVED_IN]->(Industry2),\n",
       " supp=1, conf=0.15079365079365079)}"
      ]
     },
     "execution_count": 86,
     "metadata": {},
     "output_type": "execute_result"
    }
   ],
   "source": [
    "patterns['COMPETES_WITH']"
   ]
  },
  {
   "cell_type": "code",
   "execution_count": 87,
   "metadata": {},
   "outputs": [
    {
     "data": {
      "image/png": "[encoded data removed]",
      "text/plain": [
       "<IPython.core.display.Image object>"
      ]
     },
     "execution_count": 87,
     "metadata": {},
     "output_type": "execute_result"
    }
   ],
   "source": [
    "Image(r\"../output/rules/Company_COMPETES_WITH_Company_0.png\")"
   ]
  },
  {
   "cell_type": "code",
   "execution_count": 88,
   "metadata": {},
   "outputs": [
    {
     "data": {
      "image/png": "[encoded data removed]",
      "text/plain": [
       "<IPython.core.display.Image object>"
      ]
     },
     "execution_count": 88,
     "metadata": {},
     "output_type": "execute_result"
    }
   ],
   "source": [
    "Image(r\"../output/rules/Company_COMPETES_WITH_Company_1.png\")"
   ]
  },
  {
   "cell_type": "markdown",
   "metadata": {},
   "source": [
    "Likewise for the SUBSIDIARY_OF and SUPPLIES_TO relationships, the same patterns were extracted by the algorithm.\n",
    "1. They operate in the same country.\n",
    "2. They are involved in the same industry."
   ]
  },
  {
   "cell_type": "code",
   "execution_count": 89,
   "metadata": {},
   "outputs": [
    {
     "data": {
      "text/plain": [
       "{Pattern((Company0)-[:OPERATES_IN]->(Country2),\n",
       " (Company1)-[:OPERATES_IN]->(Country2),\n",
       " supp=1, conf=0.5),\n",
       " Pattern((Company0)-[:IS_INVOLVED_IN]->(Industry2),\n",
       " (Company1)-[:IS_INVOLVED_IN]->(Industry2),\n",
       " supp=1, conf=0.5)}"
      ]
     },
     "execution_count": 89,
     "metadata": {},
     "output_type": "execute_result"
    }
   ],
   "source": [
    "patterns['SUBSIDIARY_OF']"
   ]
  },
  {
   "cell_type": "code",
   "execution_count": 90,
   "metadata": {},
   "outputs": [
    {
     "data": {
      "text/plain": [
       "{Pattern((Company0)-[:OPERATES_IN]->(Country2),\n",
       " (Company1)-[:OPERATES_IN]->(Country2),\n",
       " supp=1, conf=1),\n",
       " Pattern((Company0)-[:IS_INVOLVED_IN]->(Industry2),\n",
       " (Company1)-[:IS_INVOLVED_IN]->(Industry2),\n",
       " supp=1, conf=1)}"
      ]
     },
     "execution_count": 90,
     "metadata": {},
     "output_type": "execute_result"
    }
   ],
   "source": [
    "patterns['SUPPLIES_TO']"
   ]
  }
 ],
 "metadata": {
  "kernelspec": {
   "display_name": ".venv",
   "language": "python",
   "name": "python3"
  },
  "language_info": {
   "codemirror_mode": {
    "name": "ipython",
    "version": 3
   },
   "file_extension": ".py",
   "mimetype": "text/x-python",
   "name": "python",
   "nbconvert_exporter": "python",
   "pygments_lexer": "ipython3",
   "version": "3.11.6"
  }
 },
 "nbformat": 4,
 "nbformat_minor": 2
}
