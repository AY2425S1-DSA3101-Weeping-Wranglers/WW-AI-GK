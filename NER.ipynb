{
 "cells": [
  {
   "cell_type": "markdown",
   "metadata": {},
   "source": [
    "## Subtask A: Entity and Relationship Extraction\n"
   ]
  },
  {
   "cell_type": "code",
   "execution_count": 3,
   "metadata": {},
   "outputs": [
    {
     "ename": "SyntaxError",
     "evalue": "invalid syntax (1011913231.py, line 5)",
     "output_type": "error",
     "traceback": [
      "\u001b[1;36m  Cell \u001b[1;32mIn[3], line 5\u001b[1;36m\u001b[0m\n\u001b[1;33m    pip install google\u001b[0m\n\u001b[1;37m        ^\u001b[0m\n\u001b[1;31mSyntaxError\u001b[0m\u001b[1;31m:\u001b[0m invalid syntax\n"
     ]
    }
   ],
   "source": [
    "#pip install transformers\n",
    "#pip install spacy\n",
    "#pip install nltk\n",
    "#pip install torch"
   ]
  },
  {
   "cell_type": "code",
   "execution_count": null,
   "metadata": {},
   "outputs": [],
   "source": [
    "!python -m spacy download en_core_web_sm"
   ]
  },
  {
   "cell_type": "code",
   "execution_count": 4,
   "metadata": {},
   "outputs": [
    {
     "name": "stderr",
     "output_type": "stream",
     "text": [
      "c:\\Users\\ongai\\Desktop\\DSA3101\\WW-AI-GK\\.venv\\Lib\\site-packages\\tqdm\\auto.py:21: TqdmWarning: IProgress not found. Please update jupyter and ipywidgets. See https://ipywidgets.readthedocs.io/en/stable/user_install.html\n",
      "  from .autonotebook import tqdm as notebook_tqdm\n"
     ]
    }
   ],
   "source": [
    "import sqlite3\n",
    "from transformers import AutoTokenizer, AutoModelForTokenClassification, pipeline\n",
    "import spacy \n",
    "import nltk\n",
    "import requests \n",
    "import torch\n",
    "import pandas as pd\n",
    "from bs4 import BeautifulSoup\n",
    "pd.set_option(\"display.max_rows\", 200)"
   ]
  },
  {
   "cell_type": "code",
   "execution_count": 7,
   "metadata": {},
   "outputs": [],
   "source": [
    "dbpath = 'data/ecmdatabase.db'\n",
    "con = sqlite3.connect(f\"file:{dbpath}?mode=ro\", uri=True)\n",
    "with con:\n",
    "    result = con.execute(\"SELECT item1 from companies WHERE stock_symbol = 'TSLA';\")\n",
    "    tsla_item1 = result.fetchall()[0][0]"
   ]
  },
  {
   "cell_type": "code",
   "execution_count": 8,
   "metadata": {},
   "outputs": [
    {
     "data": {
      "text/plain": [
       "\" ITEM 1. BUSINESS \\n\\nOverview \\n\\nWe design, develop, manufacture, sell and lease high-performance fully electric vehicles and energy generation and storage systems, and offer services related to our products. We generally sell our products directly to customers, and continue to grow our customer-facing infrastructure through a global network of vehicle showrooms and service centers, Mobile Service, body shops, Supercharger stations and Destination Chargers to accelerate the widespread adoption of our products. We emphasize performance, attractive styling and the safety of our users and workforce in the design and manufacture of our products and are continuing to develop full self-driving technology for improved safety. We also strive to lower the cost of ownership for our customers through continuous efforts to reduce manufacturing costs and by offering financial and other services tailored to our products. \\n\\nOur mission is to accelerate the world&#8217;s transition to sustainable energy. We believe that this mission, along with our engineering expertise, vertically integrated business model and focus on user experience differentiate us from other companies. \\n\\nSegment Information \\n\\nWe operate as two reportable segments: (i) automotive and (ii) energy generation and storage. \\n\\nThe automotive segment includes the design, development, manufacturing, sales and leasing of high-performance fully electric vehicles as well as sales of automotive regulatory credits. Additionally, the automotive segment also includes services and other, which includes sales of used vehicles, non-warranty after-sales vehicle services, body shop and parts, paid Supercharging, vehicle insurance revenue and retail merchandise. The energy generation and storage segment includes the design, manufacture, installation, sales and leasing of solar energy generation and energy storage products and related services and sales of solar energy systems incentives. \\n\\nOur Products and Services \\n\\nAutomotive \\n\\nWe currently manufacture five different consumer vehicles &#8211; the Model 3, Y, S, X and Cybertruck. Model 3 is a four-door mid-size sedan that we designed for manufacturability with a base price for mass-market appeal. Model Y is a compact sport utility vehicle (&#8220;SUV&#8221;) built on the Model 3 platform with seating for up to seven adults. Model S is a four-door full-size sedan and Model X is a mid-size SUV with seating for up to seven adults. Model S and Model X feature the highest performance characteristics and longest ranges that we offer in a sedan and SUV, respectively. In November 2023, we entered the consumer pickup truck market with first deliveries of the Cybertruck, a full-size electric pickup truck with a stainless steel exterior that has the utility and strength of a truck while featuring the speed of a sports car. \\n\\nIn 2022, we also began early production and deliveries of a commercial electric vehicle, the Tesla Semi. We have planned electric vehicles to address additional vehicle markets, and to continue leveraging developments in our proprietary Full Self-Driving (&#8220;FSD&#8221;) Capability features, battery cell and other technologies. \\n\\nEnergy Generation and Storage \\n\\nEnergy Storage Products \\n\\nPowerwall and Megapack are our lithium-ion battery energy storage products. Powerwall, which we sell directly to customers, as well as through channel partners, is designed to store energy at a home or small commercial facility. Megapack is an energy storage solution for commercial, industrial, utility and energy generation customers, multiple of which may be grouped together to form larger installations of gigawatt hours (&#8220;GWh&#8221;) or greater capacity. \\n\\nWe also continue to develop software capabilities for remotely controlling and dispatching our energy storage systems across a wide range of markets and applications, including through our real-time energy control and optimization platforms. \\n\\nSolar Energy Offerings \\n\\nWe sell retrofit solar energy systems to customers and channel partners and also make them available through power purchase agreement (&#8220;PPA&#8221;) arrangements. We purchase most of the components for our retrofit solar energy systems from multiple sources to ensure competitive pricing and adequate supply. We also design and manufacture certain components for our solar energy products. \\n\\nWe sell our Solar Roof, which combines premium glass roof tiles with energy generation, directly to customers, as well as through channel customers. We continue to improve our installation capability and efficiency, including through collaboration with real estate developers and builders on new homes. \\n\\nTechnology \\n\\nAutomotive \\n\\nBattery and Powertrain \\n\\nOur core vehicle technology competencies include powertrain engineering and manufacturing and our ability to design vehicles that utilize the unique advantages of an electric powertrain. We have designed our proprietary powertrain systems to be adaptable, efficient, reliable and cost-effective while withstanding the rigors of an automotive environment. We offer dual motor powertrain vehicles, which use two electric motors to maximize traction and performance in an all-wheel drive configuration, as well as vehicle powertrain technology featuring three electric motors for further increased performance in certain versions of Model S and Model X, Cybertruck and the Tesla Semi. \\n\\nWe maintain extensive testing and R&#38;D capabilities for battery cells, packs and systems, and have built an expansive body of knowledge on lithium-ion cell chemistry types and performance characteristics. In order to enable a greater supply of cells for our products with higher energy density at lower costs, we have developed a new proprietary lithium-ion battery cell and improved manufacturing processes. \\n\\nVehicle Control and Infotainment Software \\n\\nThe performance and safety systems of our vehicles and their battery packs utilize sophisticated control software. Control systems in our vehicles optimize performance, customize vehicle behavior, manage charging and control all infotainment functions. We develop almost all of this software, including most of the user interfaces, internally and update our vehicles&#8217; software regularly through over-the-air updates. \\n\\nSelf-Driving Development and Artificial Intelligence \\n\\nWe have expertise in developing technologies, systems and software to enable self-driving vehicles using primarily vision-based technologies. Our FSD Computer runs our neural networks in our vehicles, and we are also developing additional computer hardware to better enable the massive amounts of field data captured by our vehicles to continually train and improve these neural networks for real-world performance. \\n\\nCurrently, we offer in our vehicles certain advanced driver assist systems under our Autopilot and FSD Capability options. Although at present the driver is ultimately responsible for controlling the vehicle, our systems provide safety and convenience functionality that relieves drivers of the most tedious and potentially dangerous aspects of road travel much like the system that airplane pilots use, when conditions permit. As with other vehicle systems, we improve these functions in our vehicles over time through over-the-air updates. \\n\\nWe intend to establish in the future an autonomous Tesla ride-hailing network, which we expect would also allow us to access a new customer base even as modes of transportation evolve. \\n\\nWe are also applying our artificial intelligence learnings from self-driving technology to the field of robotics, such as through Optimus, a robotic humanoid in development, which is controlled by the same AI system. \\n\\nEnergy Generation and Storage \\n\\nEnergy Storage Products \\n\\nWe leverage many of the component-level technologies from our vehicles in our energy storage products. By taking a modular approach to the design of battery systems, we can optimize manufacturing capacity of our energy storage products. Additionally, our expertise in power electronics enables our battery systems to interconnect with electricity grids while providing fast-acting systems for power injection and absorption. We have also developed software to remotely control and dispatch our energy storage systems. \\n\\nSolar Energy Systems \\n\\nWe have engineered Solar Roof over numerous iterations to combine aesthetic appeal and durability with power generation. The efficiency of our solar energy products is aided by our own solar inverter, which incorporates our power electronics technologies. We designed both products to integrate with Powerwall. \\n\\nDesign and Engineering \\n\\nAutomotive \\n\\nWe have established significant in-house capabilities in the design and test engineering of electric vehicles and their components and systems. Our team has significant experience in computer-aided design as well as durability, strength and crash test simulations, which reduces the product development time of new models. We have also achieved complex engineering feats in stamping, casting and thermal systems, and developed a method to integrate batteries directly with vehicle body structures without separate battery packs to optimize manufacturability, weight, range and cost characteristics. \\n\\nWe are also expanding our manufacturing operations globally while taking action to localize our vehicle designs and production for particular markets, including country-specific market demands and factory optimizations for local workforces. As we increase our capabilities, particularly in the areas of automation, die-making and line-building, we are also making strides in the simulations modeling these capabilities prior to construction. \\n\\nEnergy Generation and Storage \\n\\nOur expertise in electrical, mechanical, civil and software engineering allows us to design, engineer, manufacture and install energy generating and storage products and components, including at the residential through utility scale. For example, the modular design of our Megapack utility-scale battery line is intended to significantly reduce the amount of assembly required in the field. We also customize solutions including our energy storage products, solar energy systems and/or Solar Roof for customers to meet their specific needs. \\n\\nSales and Marketing \\n\\nHistorically, we have been able to achieve sales without traditional advertising and at relatively low marketing costs. We continue to monitor our public narrative and brand, and tailor our marketing efforts accordingly, including through investments in customer education and advertising as necessary. \\n\\nAutomotive \\n\\nDirect Sales \\n\\nOur vehicle sales channels currently include our website and an international network of company-owned stores. In some jurisdictions, we also have galleries to educate and inform customers about our products, but such locations do not transact in the sale of vehicles. We believe this infrastructure enables us to better control costs of inventory, manage warranty service and pricing, educate consumers about electric vehicles, make our vehicles more affordable, maintain and strengthen the Tesla brand and obtain rapid customer feedback. \\n\\nWe reevaluate our sales strategy both globally and at a location-by-location level from time to time to optimize our sales channels. However, sales of vehicles in the automobile industry tend to be cyclical in many markets, which may expose us to volatility from time to time. \\n\\nUsed Vehicle Sales \\n\\nOur used vehicle business supports new vehicle sales by integrating the trade-in of a customer&#8217;s existing Tesla or non-Tesla vehicle with the sale of a new or used Tesla vehicle. The Tesla and non-Tesla vehicles we acquire as trade-ins are subsequently remarketed, either directly by us or through third parties. We also remarket used Tesla vehicles acquired from other sources including lease returns. \\n\\nPublic Charging \\n\\nWe have a growing global network of Tesla Superchargers, which are our industrial-grade, high-speed vehicle chargers. Where possible, we co-locate Superchargers with our solar and energy storage systems to reduce costs and promote renewable power. Supercharger stations are typically placed along well-traveled routes and in and around dense city centers to allow vehicle owners the ability to enjoy quick, reliable charging along an extensive network with convenient stops. Use of the Supercharger network either requires payment of a fee or is free under certain sales programs. In November 2021, we began to offer Supercharger access to non-Tesla vehicles in certain locations in support of our mission to accelerate the world&#8217;s transition to sustainable energy, and in November 2022, we opened up our previously proprietary charging connector as the North American Charging Standard (NACS). This enables all electric vehicles and charging stations to interoperate &#8212; which makes charging easier and more efficient for everyone and advances our mission to accelerate the world&#8217;s transition to sustainable energy. Following this, a number of major automotive companies announced their adoption of NACS, with their access to the Supercharger network beginning in phases in 2024 and their production of NACS vehicles beginning no later than 2025. We also engaged SAE International to govern NACS as an industry standard, now named J3400. We continue to monitor and increase our network of Tesla Superchargers in anticipation of future demand. \\n\\nWe also work with a wide variety of hospitality, retail and public destinations, as well as businesses with commuting employees, to offer additional charging options for our customers, as well as single-family homeowners and multi-family residential entities, to deploy home charging solutions. \\n\\nIn-App Upgrades \\n\\nAs our vehicles are capable of being updated remotely over-the-air, our customers may purchase additional paid options and features through the Tesla app or through the in-vehicle user interface. We expect that this functionality will also allow us to offer certain options and features on a subscription basis in the future. \\n\\nEnergy Generation and Storage \\n\\nWe market and sell our solar and energy storage products to residential, commercial and industrial customers and utilities through a variety of channels, including through our website, stores and galleries, as well as through our network of channel partners, and in the case of some commercial customers, through PPA transactions. We emphasize simplicity, standardization and accessibility to make it easy and cost-effective for customers to adopt clean energy, while reducing our customer acquisition costs. \\n\\nService and Warranty \\n\\nAutomotive \\n\\nService \\n\\nWe provide service for our electric vehicles at our company-owned service locations and through Tesla Mobile Service technicians who perform work remotely at customers&#8217; homes or other locations. Servicing the vehicles ourselves allows us to identify problems and implement solutions and improvements faster than traditional automobile manufacturers and their dealer networks. The connectivity of our vehicles also allows us to diagnose and remedy many problems remotely and proactively. \\n\\nVehicle Limited Warranties and Extended Service Plans \\n\\nWe provide a manufacturer&#8217;s limited warranty on all new and used Tesla vehicles we sell directly to consumers, which may include limited warranties on certain components, specific types of damage or battery capacity retention. We also currently offer optional extended service plans that provide coverage beyond the new vehicle limited warranties for certain models in specified regions. \\n\\nEnergy Generation and Storage \\n\\nWe provide service and repairs to our energy product customers, including under warranty where applicable. We generally provide manufacturer&#8217;s limited warranties with our energy storage products and offer certain extended limited warranties that are available at the time of purchase of the system. If we install a system, we also provide certain limited warranties on our installation workmanship. \\n\\nFor retrofit solar energy systems, we provide separate limited warranties for workmanship and against roof leaks, and for Solar Roof, we also provide limited warranties for defects and weatherization. For components not manufactured by us, we generally pass-through the applicable manufacturers&#8217; warranties. \\n\\nAs part of our solar energy system and energy storage contracts, we may provide the customer with performance guarantees that commit that the underlying system will meet or exceed the minimum energy generation or performance requirements specified in the contract. \\n\\nFinancial Services \\n\\nAutomotive \\n\\nPurchase Financing and Leases \\n\\nWe offer leasing and/or loan financing arrangements for our vehicles in certain jurisdictions in North America, Europe and Asia ourselves and through various financial institutions. Under certain of such programs, we have provided resale value guarantees or buyback guarantees that may obligate us to cover a resale loss up to a certain limit or repurchase the subject vehicles at pre-determined values. \\n\\nInsurance \\n\\nIn 2021, we launched our insurance product using real-time driving behavior in select states, which offers rates that are often better than other alternatives and promotes safer driving. Our insurance products are currently available in 12 states and we plan to expand the markets in which we offer insurance products, as part of our ongoing effort to decrease the total cost of ownership for our customers. \\n\\nEnergy Generation and Storage \\n\\nWe offer certain financing options to our solar customers, which enable the customer to purchase and own a solar energy system, Solar Roof or integrated solar and Powerwall system. Our solar PPAs, offered primarily to commercial customers, charge a fee per kilowatt-hour based on the amount of electricity produced by our solar energy systems. \\n\\nManufacturing \\n\\nWe currently have manufacturing facilities in the U.S. in Northern California, in Buffalo, New York, Gigafactory New York; in Austin, Texas, Gigafactory Texas and near Reno, Nevada, Gigafactory Nevada. At these facilities, we manufacture and assemble, among other things, vehicles, certain vehicle parts and components, such as our battery packs and battery cells, energy storage components and solar products and components. \\n\\nInternationally, we also have manufacturing facilities in China (Gigafactory Shanghai) and Germany (Gigafactory Berlin-Brandenburg), which allows us to increase the affordability of our vehicles for customers in local markets by reducing transportation and manufacturing costs and eliminating the impact of unfavorable tariffs. In March 2023, we announced the location of our next Gigafactory in Monterrey, Mexico. Generally, we continue to expand production capacity at our existing facilities. We also intend to further increase cost-competitiveness in our significant markets by strategically adding local manufacturing. \\n\\nSupply Chain \\n\\nOur products use thousands of parts that are sourced from hundreds of suppliers across the world. We have developed close relationships with vendors of key parts such as battery cells, electronics and complex vehicle assemblies. Certain components purchased from these suppliers are shared or are similar across many product lines, allowing us to take advantage of pricing efficiencies from economies of scale. \\n\\nAs is the case for some automotive companies, some of our procured components and systems are sourced from single suppliers. Where multiple sources are available for certain key components, we work to qualify multiple suppliers for them where it is sensible to do so in order to minimize potential production risks due to disruptions in their supply. We also mitigate risk by maintaining safety stock for key parts and assemblies and die banks for components with lengthy procurement lead times. \\n\\nOur products use various raw materials including aluminum, steel, cobalt, lithium, nickel and copper. Pricing for these materials is governed by market conditions and may fluctuate due to various factors outside of our control, such as supply and demand and market speculation. We strive to execute long-term supply contracts for such materials at competitive pricing when feasible, and we currently believe that we have adequate access to raw materials supplies to meet the needs of our operations. \\n\\nGovernmental Programs, Incentives and Regulations \\n\\nGlobally, the ownership of our products by our customers is impacted by various government credits, incentives, and policies. Our business and products are also subject to numerous governmental regulations that vary among jurisdictions. \\n\\nThe operation of our business is also impacted by various government programs, incentives, and other arrangements. See Note 2, Summary of Significant Accounting Policies , to the consolidated financial statements included elsewhere in this Annual Report on Form 10-K for further details. \\n\\nPrograms and Incentives \\n\\nInflation Reduction Act \\n\\nOn August 16, 2022, the Inflation Reduction Act of 2022 (&#8220;IRA&#8221;) was enacted into law and is effective for taxable years beginning after December 31, 2022, and remains subject to future guidance releases. The IRA includes multiple incentives to promote clean energy, electric vehicles, battery and energy storage manufacture or purchase, including through providing tax credits to consumers. For example, qualifying Tesla customers may receive up to $7,500 in federal tax credits for the purchase of qualified electric vehicles in the U.S. through 2032. \\n\\nAutomotive Regulatory Credits \\n\\nWe earn tradable credits in the operation of our business under various regulations related to zero-emission vehicles (&#8220;ZEVs&#8221;), greenhouse gas, fuel economy and clean fuel. We sell these credits to other regulated entities who can use the credits to comply with emission standards and other regulatory requirements. Sales of these credits are recognized within automotive regulatory credits revenue in our consolidated statements of operations included elsewhere in this Annual Report on Form 10-K. \\n\\nEnergy Storage System Incentives and Policies \\n\\nWhile the regulatory regime for energy storage projects is still under development, there are various policies, incentives and financial mechanisms at the federal, state and local levels that support the adoption of energy storage. \\n\\nFor example, energy storage systems that are charged using solar energy may be eligible for the solar energy-related U.S. federal tax credits described below. The Federal Energy Regulatory Commission (&#8220;FERC&#8221;) has also taken steps to enable the participation of energy storage in wholesale energy markets. In addition, California and a number of other states have adopted procurement targets for energy storage, and behind-the-meter energy storage systems qualify for funding under the California Self Generation Incentive Program. Our customers primarily benefit directly under these programs. In certain instances our customers may transfer such credits to us as contract consideration. In such transactions, they are included as a component of energy generation and storage revenues in our consolidated statements of operations included elsewhere in this Annual Report on Form 10-K. \\n\\nPursuant to the IRA, under Sections 48, 48E and 25D of the Internal Revenue Code (&#8221;IRC&#8221;), standalone energy storage technology is eligible for a tax credit between 6% and 50% of qualified expenditures, regardless of the source of energy, which may be claimed by our customers for storage systems they purchase or by us for arrangements where we own the systems. These tax credits are primarily for the benefit of our customers and are currently scheduled to phase-out starting in 2032 or later. \\n\\nSolar Energy System Incentives and Policies \\n\\nU.S. federal, state and local governments have established various policies, incentives and financial mechanisms to reduce the cost of solar energy and to accelerate the adoption of solar energy. These incentives include tax credits, cash grants, tax abatements and rebates. \\n\\nIn particular, pursuant to the IRA, Sections 48, 48E and 25D of the IRC provides a tax credit between 6% and 70% of qualified commercial or residential expenditures for solar energy systems, which may be claimed by our customers for systems they purchase, or by us for arrangements where we own the systems for properties that meet statutory requirements. These tax credits are primarily for the direct benefit of our customers and are currently scheduled to phase-out starting in 2032 or later. \\n\\nRegulations \\n\\nVehicle Safety and Testing \\n\\nIn the U.S., our vehicles are subject to regulation by the National Highway Traffic Safety Administration (&#8220;NHTSA&#8221;), including all applicable Federal Motor Vehicle Safety Standards (&#8220;FMVSS&#8221;) and the NHTSA bumper standard. Numerous FMVSS apply to our vehicles, such as crash-worthiness and occupant protection requirements. Our current vehicles fully comply and we expect that our vehicles in the future will fully comply with all applicable FMVSS with limited or no exemptions, however, FMVSS are subject to change from time to time. As a manufacturer, we must self-certify that our vehicles meet all applicable FMVSS and the NHTSA bumper standard, or otherwise are exempt, before the vehicles may be imported or sold in the U.S. \\n\\nWe are also required to comply with other federal laws administered by NHTSA, including the Corporate Average Fuel Economy standards, Theft Prevention Act requirements, labeling requirements and other information provided to customers in writing, Early Warning Reporting requirements regarding warranty claims, field reports, death and injury reports and foreign recalls, a Standing General Order requiring reports regarding crashes involving vehicles equipped with advanced driver assistance systems, and additional requirements for cooperating with compliance and safety investigations and recall reporting. The U.S. Automobile Information and Disclosure Act also requires manufacturers of motor vehicles to disclose certain information regarding the manufacturer&#8217;s suggested retail price, optional equipment and pricing. In addition, federal law requires inclusion of fuel economy ratings, as determined by the U.S. Department of Transportation and the Environmental Protection Agency (the &#8220;EPA&#8221;), and New Car Assessment Program ratings as determined by NHTSA, if available. \\n\\nOur vehicles sold outside of the U.S. are subject to similar foreign compliance, safety, environmental and other regulations. Many of those regulations are different from those applicable in the U.S. and may require redesign and/or retesting. Some of those regulations impact or prevent the rollout of new vehicle features. \\n\\nSelf-Driving Vehicles \\n\\nGenerally, laws pertaining to self-driving vehicles are evolving globally, and in some cases may create restrictions on features or vehicle designs that we develop. While there are currently no federal U.S. regulations pertaining specifically to self-driving vehicles or self-driving equipment, NHTSA has published recommended guidelines on self-driving vehicles, apart from the FMVSS and manufacturer reporting obligations, and retains the authority to investigate and/or take action on the safety or compliance of any vehicle, equipment or features operating on public roads. Certain U.S. states also have legal restrictions on the operation, registration or licensure of self-driving vehicles, and many other states are considering them. This regulatory patchwork increases the legal complexity with respect to self-driving vehicles in the U.S. \\n\\nIn markets that follow the regulations of the United Nations Economic Commission for Europe (&#8220; ECE markets &#8221;), some requirements restrict the design of advanced driver-assistance or self-driving features, which can compromise or prevent their use entirely. Other applicable laws, both current and proposed, may hinder the path and timeline to introducing self-driving vehicles for sale and use in the markets where they apply. \\n\\nOther key markets, including China, continue to consider self-driving regulation. Any implemented regulations may differ materially from the U.S. and ECE markets, which may further increase the legal complexity of self-driving vehicles and limit or prevent certain features. \\n\\nAutomobile Manufacturer and Dealer Regulation \\n\\nIn the U.S., state laws regulate the manufacture, distribution, sale and service of automobiles, and generally require motor vehicle manufacturers and dealers to be licensed in order to sell vehicles directly to residents. Certain states have asserted that the laws in such states do not permit automobile manufacturers to be licensed as dealers or to act in the capacity of a dealer, or that they otherwise restrict a manufacturer&#8217;s ability to deliver or perform warranty repairs on vehicles. To sell vehicles to residents of states where we are not licensed as a dealer, we generally conduct the sale out of the state. In certain such states, we have opened &#8220;galleries&#8221; that serve an educational purpose and where sales may not occur. \\n\\nSome automobile dealer trade associations have both challenged the legality of our operations in court and used administrative and legislative processes to attempt to prohibit or limit our ability to operate existing stores or expand to new locations. Certain dealer associations have also actively lobbied state licensing agencies and legislators to interpret existing laws or enact new laws in ways not favorable to our ownership and operation of our own retail and service locations. We expect such challenges to continue, and we intend to actively fight any such efforts. \\n\\nBattery Safety and Testing \\n\\nOur battery packs are subject to various U.S. and international regulations that govern transport of &#8220;dangerous goods,&#8221; defined to include lithium-ion batteries, which may present a risk in transportation. We conduct testing to demonstrate our compliance with such regulations. \\n\\nWe use lithium-ion cells in our high voltage battery packs in our vehicles and energy storage products. The use, storage and disposal of our battery packs are regulated under existing laws and are the subject of ongoing regulatory changes that may add additional requirements in the future. We have agreements with third party battery recycling companies to recycle our battery packs, and we are also piloting our own recycling technology. \\n\\nSolar Energy&#8212;General \\n\\nWe are subject to certain state and federal regulations applicable to solar and battery storage providers and sellers of electricity. To operate our systems, we enter into standard interconnection agreements with applicable utilities. Sales of electricity and non-sale equipment leases by third parties, such as our leases and PPAs, have faced regulatory challenges in some states and jurisdictions. \\n\\nSolar Energy&#8212;Net Metering \\n\\nMost states in the U.S. make net energy metering, or net metering, available to solar customers. Net metering typically allows solar customers to interconnect their solar energy systems to the utility grid and offset their utility electricity purchases by receiving a bill credit for excess energy generated by their solar energy system that is exported to the grid. In certain jurisdictions, regulators or utilities have reduced or eliminated the benefit available under net metering or have proposed to do so. \\n\\nCompetition \\n\\nAutomotive \\n\\nThe worldwide automotive market is highly competitive and we expect it will become even more competitive in the future as a significant and growing number of established and new automobile manufacturers, as well as other companies, have entered, or are reported to have plans to enter the electric vehicle market. \\n\\nWe believe that our vehicles compete in the market based on both their traditional segment classification as well as their propulsion technology. For example, Cybertruck competes with other pickup trucks, Model S and Model X compete primarily with premium sedans and premium SUVs and Model 3 and Model Y compete with small to medium-sized sedans and compact SUVs, which are extremely competitive markets. Competing products typically include internal combustion vehicles from more established automobile manufacturers; however, many established and new automobile manufacturers have entered or have announced plans to enter the market for electric and other alternative fuel vehicles. Overall, we believe these announcements and vehicle introductions, including the introduction of electric vehicles into rental car company fleets, promote the development of the electric vehicle market by highlighting the attractiveness of electric vehicles relative to the internal combustion vehicle. Many major automobile manufacturers have electric vehicles available today in major markets including the U.S., China and Europe, and other current and prospective automobile manufacturers are also developing electric vehicles. In addition, several manufacturers offer hybrid vehicles, including plug-in versions. \\n\\nWe believe that there is also increasing competition for our vehicle offerings as a platform for delivering self-driving technologies, charging solutions and other features and services, and we expect to compete in this developing market through continued progress on our Autopilot, FSD and neural network capabilities, Supercharger network and our infotainment offerings. \\n\\nEnergy Generation and Storage \\n\\nEnergy Storage Systems \\n\\nThe market for energy storage products is also highly competitive, and both established and emerging companies have introduced products that are similar to our product portfolio or that are alternatives to the elements of our systems. We compete with these companies based on price, energy density and efficiency. We believe that the specifications and features of our products, our strong brand and the modular, scalable nature of our energy storage products give us a competitive advantage in our markets. \\n\\nSolar Energy Systems \\n\\nThe primary competitors to our solar energy business are the traditional local utility companies that supply energy to our potential customers. We compete with these traditional utility companies primarily based on price and the ease by which customers can switch to electricity generated by our solar energy systems. We also compete with solar energy companies that provide products and services similar to ours. Many solar energy companies only install solar energy systems, while others only provide financing for these installations. We believe we have a significant expansion opportunity with our offerings and that the regulatory environment is increasingly conducive to the adoption of renewable energy systems. \\n\\nIntellectual Property \\n\\nWe place a strong emphasis on our innovative approach and proprietary designs which bring intrinsic value and uniqueness to our product portfolio. As part of our business, we seek to protect the underlying intellectual property rights of these innovations and designs such as with respect to patents, trademarks, copyrights, trade secrets, confidential information and other measures, including through employee and third-party nondisclosure agreements and other contractual arrangements. For example, we place a high priority on obtaining patents to provide the broadest and strongest possible protection to enable our freedom to operate our innovations and designs across all of our products and technologies as well as to protect and defend our product portfolio. We have also adopted a patent policy in which we irrevocably pledged that we will not initiate a lawsuit against any party for infringing our patents through activity relating to electric vehicles or related equipment for so long as such party is acting in good faith. We made this pledge in order to encourage the advancement of a common, rapidly-evolving platform for electric vehicles, thereby benefiting ourselves, other companies making electric vehicles and the world. \\n\\nEnvironmental, Social and Governance (ESG) and Human Capital Resources \\n\\nESG \\n\\nThe very purpose of Tesla's existence is to accelerate the world's transition to sustainable energy. We believe the world cannot reduce carbon emissions without addressing both energy generation and consumption, and we are designing and manufacturing a complete energy and transportation ecosystem to achieve this goal. As we expand, we are building each new factory to be more efficient and sustainably designed than the previous one, including with respect to per-unit waste reduction and resource consumption, including water and energy usage. We are focused on further enhancing sustainability of operations outside of our direct control, including reducing the carbon footprint of our supply chain. \\n\\nWe are committed to sourcing only responsibly produced materials, and our suppliers are required to provide evidence of management systems that ensure social, environmental and sustainability best practices in their own operations, as well as to demonstrate a commitment to responsible sourcing into their supply chains. We have a zero-tolerance policy when it comes to child or forced labor and human trafficking by our suppliers and we look to the Organization for Economic Co-operation and Development Due Diligence Guidelines to inform our process and use feedback from our internal and external stakeholders to find ways to continually improve. We are also driving safety in our own factories by focusing on worker engagement. Our incidents per vehicle continue to drop even as our production volumes increase. We also strive to be an employer of choice by offering compelling, impactful jobs with best in-industry benefits. \\n\\nWe believe that sound corporate governance is critical to helping us achieve our goals, including with respect to ESG. We continue to evolve a governance framework that exercises appropriate oversight of responsibilities at all levels throughout the company and manages its affairs consistent with high principles of business ethics. Our ESG Sustainability Council is made up of leaders from across our company, and regularly presents to our Board of Directors, which oversees our ESG impacts, initiatives and priorities. \\n\\nHuman Capital Resources \\n\\nA competitive edge for Tesla is its ability to attract and retain high quality employees. During the past year, Tesla made substantial investments in its workforce, further strengthening its standing as one of the most desirable and innovative companies to work for. As of December 31, 2023, our employee headcount worldwide was 140,473. \\n\\nWe have created an environment that fosters growth opportunities, and as of this report, nearly two-thirds (65%) of our managers were promoted from an internal, non-manager position, and 43% of our management employees have been with Tesla for more than five years. Tesla&#8217;s growth of 35% over the past two years has offered internal career development to our employees as well as the ability to make a meaningful contribution to a sustainable future. \\n\\nWe are able to retain our employees, in part, not only because employees can enjoy ownership in Tesla through stock (of which 89% have been given the opportunity to), but because we also provide them with excellent health benefits such as free counseling, paid parental leave, paid time off and zero-premium medical plan options that are made available on the first day of employment. \\n\\nWe recognize the positive impact that leaders can have on their teams and offer fundamental skills training and continuous development to all leaders through various programs globally. \\n\\nWe don&#8217;t stop there. Tesla has several other programs strategically designed to increase paths for greater career opportunity such as: \\n\\n&#8226; Technician Trainee (Service) &#8211; &#8239; The Tesla Technician Trainee Program provides on-the-job automotive maintenance training at Tesla, resulting in an industry certification. Targeted at individuals with limited experience, whether in industry or vocational schools, the program prepares trainees for employment as technicians. In 2023, we hired over 1,900 Technician Trainees across the U.S., Germany and China. \\n\\n&#8226; START (Manufacturing and Service) &#8211; Tesla START is an intensive training program that complements the Technician Trainee program and equips individuals with the skills needed for a successful technician role at Tesla. We have partnered with colleges and technical academies to launch Tesla START in the U.S., United Kingdom and Germany. In 2023, we hired over 350 trainees for manufacturing and service roles through this program, providing an opportunity to transition into full-time employment . \\n\\n&#8226; Internships &#8211; Annually, Tesla hires over 6,000 university and college students from around the world. We recruit from diverse student organizations and campuses, seeking top talent passionate about our mission. Our interns engage in meaningful work from day one, and we often offer them full-time positions post-internship. \\n\\n&#8226; Military Fellowship and Transition Programs &#8211; &#8239;The Military Fellowship and Transition Programs are designed to offer exiting military service members in the U.S. and Europe with career guidance on transitioning into the civil workforce. We partner with the career transition services of European Defence Ministries across five countries, as well as the U.S. Chamber of Commerce&#8217;s Hire our Heroes. These programs aim to convert high-performing individuals to full-time roles and create a veteran talent pipeline. \\n\\n&#8226; Apprenticeships &#8211; Tesla Apprenticeships are offered globally, providing academic and on-the-job training to prepare specialists in skilled trades. Apprentices will complete between one to four years of on-the-job training. Apprentice programs have seen skilled trade hires across the U.S., Australia, Hong Kong, Korea and Germany. \\n\\n&#8226; Manufacturing Development Program &#8211;&#8239;Tesla's manufacturing pathway program is designed to provide graduating high school seniors with the financial resources, coursework and experience they need to start a successful manufacturing career at Tesla. We hired 373 graduates through this program in 2023, and our goal in 2024 is grow this program to over 600 students annually across our Fremont Factory, Gigafactory Nevada, Gigafactory Texas and Gigafactory New York. \\n\\n&#8226; Engineering Development Program &#8211;&#8239;Launched in January 2024, this program targets recent college and university graduates for specialized engineering fields. In collaboration with Austin Community College, the program educates early-career engineers in controls engineering, enhancing their knowledge of high-demand technologies for U.S. manufacturing. \\n\\nWe will continue to expand the opportunities for our employees to add skills and develop professionally with a new Employee Educational Assistance Program launching in the U.S. in the spring of 2024 to help employees pursue select certificates or degrees. With virtual, self-paced education options available, employees can pursue a new path or expand their knowledge while continuing to grow their career. \\n\\nAt Tesla, our employees show up passionate about making a difference in the world and for each other. We remain unwavering in our demand that our factories, offices, stores and service centers are places where our employees feel respected and appreciated. Our policies are designed to promote fairness and respect for everyone. We hire, evaluate and promote employees based on their skills and performance. Everyone is expected to be trustworthy, demonstrate excellence in their performance and collaborate with others. With this in mind, we will not tolerate certain behaviors. These include harassment, retaliation, violence, intimidation and discrimination of any kind on the basis of race, color, religion, national origin, gender, sexual orientation, gender identity, gender expression, age, disability or veteran status. \\n\\nAnti-harassment training is conducted on day one of new hire orientation for all employees and reoccurring for leaders. In addition, we run various leadership development programs throughout the year aimed at enhancing leaders&#8217; skills, and in particular, helping them to understand how to appropriately respond to and address employee concerns. \\n\\nEmployees are encouraged to speak up both in regard to misconduct and safety concerns and can do so by contacting the integrity line, submitting concerns through our Take Charge process, or notifying their Human Resource Partner or any member of management. Concerns are reviewed in accordance with established protocols by investigators with expertise, who also review for trends and outcomes for remediation and appropriate controls. Responding to questions timely is key so Human Resource Partners for each functional area are visible throughout facilities and are actively involved in driving culture and engagement alongside business leaders. \\n\\nAvailable Information \\n\\nWe file or furnish periodic reports and amendments thereto, including our Annual Reports on Form 10-K, our Quarterly Reports on Form 10-Q and Current Reports on Form 8-K, proxy statements and other information with the SEC. In addition, the SEC maintains a website ( www.sec.gov ) that contains reports, proxy and information statements, and other information regarding issuers that file electronically. Our website is located at www.tesla.com , and our reports, amendments thereto, proxy statements and other information are also made available, free of charge, on our investor relations website at ir.tesla.com as soon as reasonably practicable after we electronically file or furnish such information with the SEC. The information posted on our website is not incorporated by reference into this Annual Report on Form 10-K. \\n\\n\""
      ]
     },
     "execution_count": 8,
     "metadata": {},
     "output_type": "execute_result"
    }
   ],
   "source": [
    "tsla_item1"
   ]
  },
  {
   "cell_type": "code",
   "execution_count": 26,
   "metadata": {},
   "outputs": [
    {
     "data": {
      "text/plain": [
       "\" ITEM 1. BUSINESS Overview We design, develop, manufacture, sell and lease high-performance fully electric vehicles and energy generation and storage systems, and offer services related to our products. We generally sell our products directly to customers, and continue to grow our customer-facing infrastructure through a global network of vehicle showrooms and service centers, Mobile Service, body shops, Supercharger stations and Destination Chargers to accelerate the widespread adoption of our products. We emphasize performance, attractive styling and the safety of our users and workforce in the design and manufacture of our products and are continuing to develop full self-driving technology for improved safety. We also strive to lower the cost of ownership for our customers through continuous efforts to reduce manufacturing costs and by offering financial and other services tailored to our products. Our mission is to accelerate the world&#8217;s transition to sustainable energy. We believe that this mission, along with our engineering expertise, vertically integrated business model and focus on user experience differentiate us from other companies. Segment Information We operate as two reportable segments: (i) automotive and (ii) energy generation and storage. The automotive segment includes the design, development, manufacturing, sales and leasing of high-performance fully electric vehicles as well as sales of automotive regulatory credits. Additionally, the automotive segment also includes services and other, which includes sales of used vehicles, non-warranty after-sales vehicle services, body shop and parts, paid Supercharging, vehicle insurance revenue and retail merchandise. The energy generation and storage segment includes the design, manufacture, installation, sales and leasing of solar energy generation and energy storage products and related services and sales of solar energy systems incentives. Our Products and Services Automotive We currently manufacture five different consumer vehicles &#8211; the Model 3, Y, S, X and Cybertruck. Model 3 is a four-door mid-size sedan that we designed for manufacturability with a base price for mass-market appeal. Model Y is a compact sport utility vehicle (&#8220;SUV&#8221;) built on the Model 3 platform with seating for up to seven adults. Model S is a four-door full-size sedan and Model X is a mid-size SUV with seating for up to seven adults. Model S and Model X feature the highest performance characteristics and longest ranges that we offer in a sedan and SUV, respectively. In November 2023, we entered the consumer pickup truck market with first deliveries of the Cybertruck, a full-size electric pickup truck with a stainless steel exterior that has the utility and strength of a truck while featuring the speed of a sports car. In 2022, we also began early production and deliveries of a commercial electric vehicle, the Tesla Semi. We have planned electric vehicles to address additional vehicle markets, and to continue leveraging developments in our proprietary Full Self-Driving (&#8220;FSD&#8221;) Capability features, battery cell and other technologies. Energy Generation and Storage Energy Storage Products Powerwall and Megapack are our lithium-ion battery energy storage products. Powerwall, which we sell directly to customers, as well as through channel partners, is designed to store energy at a home or small commercial facility. Megapack is an energy storage solution for commercial, industrial, utility and energy generation customers, multiple of which may be grouped together to form larger installations of gigawatt hours (&#8220;GWh&#8221;) or greater capacity. We also continue to develop software capabilities for remotely controlling and dispatching our energy storage systems across a wide range of markets and applications, including through our real-time energy control and optimization platforms. Solar Energy Offerings We sell retrofit solar energy systems to customers and channel partners and also make them available through power purchase agreement (&#8220;PPA&#8221;) arrangements. We purchase most of the components for our retrofit solar energy systems from multiple sources to ensure competitive pricing and adequate supply. We also design and manufacture certain components for our solar energy products. We sell our Solar Roof, which combines premium glass roof tiles with energy generation, directly to customers, as well as through channel customers. We continue to improve our installation capability and efficiency, including through collaboration with real estate developers and builders on new homes. Technology Automotive Battery and Powertrain Our core vehicle technology competencies include powertrain engineering and manufacturing and our ability to design vehicles that utilize the unique advantages of an electric powertrain. We have designed our proprietary powertrain systems to be adaptable, efficient, reliable and cost-effective while withstanding the rigors of an automotive environment. We offer dual motor powertrain vehicles, which use two electric motors to maximize traction and performance in an all-wheel drive configuration, as well as vehicle powertrain technology featuring three electric motors for further increased performance in certain versions of Model S and Model X, Cybertruck and the Tesla Semi. We maintain extensive testing and R&#38;D capabilities for battery cells, packs and systems, and have built an expansive body of knowledge on lithium-ion cell chemistry types and performance characteristics. In order to enable a greater supply of cells for our products with higher energy density at lower costs, we have developed a new proprietary lithium-ion battery cell and improved manufacturing processes. Vehicle Control and Infotainment Software The performance and safety systems of our vehicles and their battery packs utilize sophisticated control software. Control systems in our vehicles optimize performance, customize vehicle behavior, manage charging and control all infotainment functions. We develop almost all of this software, including most of the user interfaces, internally and update our vehicles&#8217; software regularly through over-the-air updates. Self-Driving Development and Artificial Intelligence We have expertise in developing technologies, systems and software to enable self-driving vehicles using primarily vision-based technologies. Our FSD Computer runs our neural networks in our vehicles, and we are also developing additional computer hardware to better enable the massive amounts of field data captured by our vehicles to continually train and improve these neural networks for real-world performance. Currently, we offer in our vehicles certain advanced driver assist systems under our Autopilot and FSD Capability options. Although at present the driver is ultimately responsible for controlling the vehicle, our systems provide safety and convenience functionality that relieves drivers of the most tedious and potentially dangerous aspects of road travel much like the system that airplane pilots use, when conditions permit. As with other vehicle systems, we improve these functions in our vehicles over time through over-the-air updates. We intend to establish in the future an autonomous Tesla ride-hailing network, which we expect would also allow us to access a new customer base even as modes of transportation evolve. We are also applying our artificial intelligence learnings from self-driving technology to the field of robotics, such as through Optimus, a robotic humanoid in development, which is controlled by the same AI system. Energy Generation and Storage Energy Storage Products We leverage many of the component-level technologies from our vehicles in our energy storage products. By taking a modular approach to the design of battery systems, we can optimize manufacturing capacity of our energy storage products. Additionally, our expertise in power electronics enables our battery systems to interconnect with electricity grids while providing fast-acting systems for power injection and absorption. We have also developed software to remotely control and dispatch our energy storage systems. Solar Energy Systems We have engineered Solar Roof over numerous iterations to combine aesthetic appeal and durability with power generation. The efficiency of our solar energy products is aided by our own solar inverter, which incorporates our power electronics technologies. We designed both products to integrate with Powerwall. Design and Engineering Automotive We have established significant in-house capabilities in the design and test engineering of electric vehicles and their components and systems. Our team has significant experience in computer-aided design as well as durability, strength and crash test simulations, which reduces the product development time of new models. We have also achieved complex engineering feats in stamping, casting and thermal systems, and developed a method to integrate batteries directly with vehicle body structures without separate battery packs to optimize manufacturability, weight, range and cost characteristics. We are also expanding our manufacturing operations globally while taking action to localize our vehicle designs and production for particular markets, including country-specific market demands and factory optimizations for local workforces. As we increase our capabilities, particularly in the areas of automation, die-making and line-building, we are also making strides in the simulations modeling these capabilities prior to construction. Energy Generation and Storage Our expertise in electrical, mechanical, civil and software engineering allows us to design, engineer, manufacture and install energy generating and storage products and components, including at the residential through utility scale. For example, the modular design of our Megapack utility-scale battery line is intended to significantly reduce the amount of assembly required in the field. We also customize solutions including our energy storage products, solar energy systems and/or Solar Roof for customers to meet their specific needs. Sales and Marketing Historically, we have been able to achieve sales without traditional advertising and at relatively low marketing costs. We continue to monitor our public narrative and brand, and tailor our marketing efforts accordingly, including through investments in customer education and advertising as necessary. Automotive Direct Sales Our vehicle sales channels currently include our website and an international network of company-owned stores. In some jurisdictions, we also have galleries to educate and inform customers about our products, but such locations do not transact in the sale of vehicles. We believe this infrastructure enables us to better control costs of inventory, manage warranty service and pricing, educate consumers about electric vehicles, make our vehicles more affordable, maintain and strengthen the Tesla brand and obtain rapid customer feedback. We reevaluate our sales strategy both globally and at a location-by-location level from time to time to optimize our sales channels. However, sales of vehicles in the automobile industry tend to be cyclical in many markets, which may expose us to volatility from time to time. Used Vehicle Sales Our used vehicle business supports new vehicle sales by integrating the trade-in of a customer&#8217;s existing Tesla or non-Tesla vehicle with the sale of a new or used Tesla vehicle. The Tesla and non-Tesla vehicles we acquire as trade-ins are subsequently remarketed, either directly by us or through third parties. We also remarket used Tesla vehicles acquired from other sources including lease returns. Public Charging We have a growing global network of Tesla Superchargers, which are our industrial-grade, high-speed vehicle chargers. Where possible, we co-locate Superchargers with our solar and energy storage systems to reduce costs and promote renewable power. Supercharger stations are typically placed along well-traveled routes and in and around dense city centers to allow vehicle owners the ability to enjoy quick, reliable charging along an extensive network with convenient stops. Use of the Supercharger network either requires payment of a fee or is free under certain sales programs. In November 2021, we began to offer Supercharger access to non-Tesla vehicles in certain locations in support of our mission to accelerate the world&#8217;s transition to sustainable energy, and in November 2022, we opened up our previously proprietary charging connector as the North American Charging Standard (NACS). This enables all electric vehicles and charging stations to interoperate &#8212; which makes charging easier and more efficient for everyone and advances our mission to accelerate the world&#8217;s transition to sustainable energy. Following this, a number of major automotive companies announced their adoption of NACS, with their access to the Supercharger network beginning in phases in 2024 and their production of NACS vehicles beginning no later than 2025. We also engaged SAE International to govern NACS as an industry standard, now named J3400. We continue to monitor and increase our network of Tesla Superchargers in anticipation of future demand. We also work with a wide variety of hospitality, retail and public destinations, as well as businesses with commuting employees, to offer additional charging options for our customers, as well as single-family homeowners and multi-family residential entities, to deploy home charging solutions. In-App Upgrades As our vehicles are capable of being updated remotely over-the-air, our customers may purchase additional paid options and features through the Tesla app or through the in-vehicle user interface. We expect that this functionality will also allow us to offer certain options and features on a subscription basis in the future. Energy Generation and Storage We market and sell our solar and energy storage products to residential, commercial and industrial customers and utilities through a variety of channels, including through our website, stores and galleries, as well as through our network of channel partners, and in the case of some commercial customers, through PPA transactions. We emphasize simplicity, standardization and accessibility to make it easy and cost-effective for customers to adopt clean energy, while reducing our customer acquisition costs. Service and Warranty Automotive Service We provide service for our electric vehicles at our company-owned service locations and through Tesla Mobile Service technicians who perform work remotely at customers&#8217; homes or other locations. Servicing the vehicles ourselves allows us to identify problems and implement solutions and improvements faster than traditional automobile manufacturers and their dealer networks. The connectivity of our vehicles also allows us to diagnose and remedy many problems remotely and proactively. Vehicle Limited Warranties and Extended Service Plans We provide a manufacturer&#8217;s limited warranty on all new and used Tesla vehicles we sell directly to consumers, which may include limited warranties on certain components, specific types of damage or battery capacity retention. We also currently offer optional extended service plans that provide coverage beyond the new vehicle limited warranties for certain models in specified regions. Energy Generation and Storage We provide service and repairs to our energy product customers, including under warranty where applicable. We generally provide manufacturer&#8217;s limited warranties with our energy storage products and offer certain extended limited warranties that are available at the time of purchase of the system. If we install a system, we also provide certain limited warranties on our installation workmanship. For retrofit solar energy systems, we provide separate limited warranties for workmanship and against roof leaks, and for Solar Roof, we also provide limited warranties for defects and weatherization. For components not manufactured by us, we generally pass-through the applicable manufacturers&#8217; warranties. As part of our solar energy system and energy storage contracts, we may provide the customer with performance guarantees that commit that the underlying system will meet or exceed the minimum energy generation or performance requirements specified in the contract. Financial Services Automotive Purchase Financing and Leases We offer leasing and/or loan financing arrangements for our vehicles in certain jurisdictions in North America, Europe and Asia ourselves and through various financial institutions. Under certain of such programs, we have provided resale value guarantees or buyback guarantees that may obligate us to cover a resale loss up to a certain limit or repurchase the subject vehicles at pre-determined values. Insurance In 2021, we launched our insurance product using real-time driving behavior in select states, which offers rates that are often better than other alternatives and promotes safer driving. Our insurance products are currently available in 12 states and we plan to expand the markets in which we offer insurance products, as part of our ongoing effort to decrease the total cost of ownership for our customers. Energy Generation and Storage We offer certain financing options to our solar customers, which enable the customer to purchase and own a solar energy system, Solar Roof or integrated solar and Powerwall system. Our solar PPAs, offered primarily to commercial customers, charge a fee per kilowatt-hour based on the amount of electricity produced by our solar energy systems. Manufacturing We currently have manufacturing facilities in the U.S. in Northern California, in Buffalo, New York, Gigafactory New York; in Austin, Texas, Gigafactory Texas and near Reno, Nevada, Gigafactory Nevada. At these facilities, we manufacture and assemble, among other things, vehicles, certain vehicle parts and components, such as our battery packs and battery cells, energy storage components and solar products and components. Internationally, we also have manufacturing facilities in China (Gigafactory Shanghai) and Germany (Gigafactory Berlin-Brandenburg), which allows us to increase the affordability of our vehicles for customers in local markets by reducing transportation and manufacturing costs and eliminating the impact of unfavorable tariffs. In March 2023, we announced the location of our next Gigafactory in Monterrey, Mexico. Generally, we continue to expand production capacity at our existing facilities. We also intend to further increase cost-competitiveness in our significant markets by strategically adding local manufacturing. Supply Chain Our products use thousands of parts that are sourced from hundreds of suppliers across the world. We have developed close relationships with vendors of key parts such as battery cells, electronics and complex vehicle assemblies. Certain components purchased from these suppliers are shared or are similar across many product lines, allowing us to take advantage of pricing efficiencies from economies of scale. As is the case for some automotive companies, some of our procured components and systems are sourced from single suppliers. Where multiple sources are available for certain key components, we work to qualify multiple suppliers for them where it is sensible to do so in order to minimize potential production risks due to disruptions in their supply. We also mitigate risk by maintaining safety stock for key parts and assemblies and die banks for components with lengthy procurement lead times. Our products use various raw materials including aluminum, steel, cobalt, lithium, nickel and copper. Pricing for these materials is governed by market conditions and may fluctuate due to various factors outside of our control, such as supply and demand and market speculation. We strive to execute long-term supply contracts for such materials at competitive pricing when feasible, and we currently believe that we have adequate access to raw materials supplies to meet the needs of our operations. Governmental Programs, Incentives and Regulations Globally, the ownership of our products by our customers is impacted by various government credits, incentives, and policies. Our business and products are also subject to numerous governmental regulations that vary among jurisdictions. The operation of our business is also impacted by various government programs, incentives, and other arrangements. See Note 2, Summary of Significant Accounting Policies , to the consolidated financial statements included elsewhere in this Annual Report on Form 10-K for further details. Programs and Incentives Inflation Reduction Act On August 16, 2022, the Inflation Reduction Act of 2022 (&#8220;IRA&#8221;) was enacted into law and is effective for taxable years beginning after December 31, 2022, and remains subject to future guidance releases. The IRA includes multiple incentives to promote clean energy, electric vehicles, battery and energy storage manufacture or purchase, including through providing tax credits to consumers. For example, qualifying Tesla customers may receive up to $7,500 in federal tax credits for the purchase of qualified electric vehicles in the U.S. through 2032. Automotive Regulatory Credits We earn tradable credits in the operation of our business under various regulations related to zero-emission vehicles (&#8220;ZEVs&#8221;), greenhouse gas, fuel economy and clean fuel. We sell these credits to other regulated entities who can use the credits to comply with emission standards and other regulatory requirements. Sales of these credits are recognized within automotive regulatory credits revenue in our consolidated statements of operations included elsewhere in this Annual Report on Form 10-K. Energy Storage System Incentives and Policies While the regulatory regime for energy storage projects is still under development, there are various policies, incentives and financial mechanisms at the federal, state and local levels that support the adoption of energy storage. For example, energy storage systems that are charged using solar energy may be eligible for the solar energy-related U.S. federal tax credits described below. The Federal Energy Regulatory Commission (&#8220;FERC&#8221;) has also taken steps to enable the participation of energy storage in wholesale energy markets. In addition, California and a number of other states have adopted procurement targets for energy storage, and behind-the-meter energy storage systems qualify for funding under the California Self Generation Incentive Program. Our customers primarily benefit directly under these programs. In certain instances our customers may transfer such credits to us as contract consideration. In such transactions, they are included as a component of energy generation and storage revenues in our consolidated statements of operations included elsewhere in this Annual Report on Form 10-K. Pursuant to the IRA, under Sections 48, 48E and 25D of the Internal Revenue Code (&#8221;IRC&#8221;), standalone energy storage technology is eligible for a tax credit between 6% and 50% of qualified expenditures, regardless of the source of energy, which may be claimed by our customers for storage systems they purchase or by us for arrangements where we own the systems. These tax credits are primarily for the benefit of our customers and are currently scheduled to phase-out starting in 2032 or later. Solar Energy System Incentives and Policies U.S. federal, state and local governments have established various policies, incentives and financial mechanisms to reduce the cost of solar energy and to accelerate the adoption of solar energy. These incentives include tax credits, cash grants, tax abatements and rebates. In particular, pursuant to the IRA, Sections 48, 48E and 25D of the IRC provides a tax credit between 6% and 70% of qualified commercial or residential expenditures for solar energy systems, which may be claimed by our customers for systems they purchase, or by us for arrangements where we own the systems for properties that meet statutory requirements. These tax credits are primarily for the direct benefit of our customers and are currently scheduled to phase-out starting in 2032 or later. Regulations Vehicle Safety and Testing In the U.S., our vehicles are subject to regulation by the National Highway Traffic Safety Administration (&#8220;NHTSA&#8221;), including all applicable Federal Motor Vehicle Safety Standards (&#8220;FMVSS&#8221;) and the NHTSA bumper standard. Numerous FMVSS apply to our vehicles, such as crash-worthiness and occupant protection requirements. Our current vehicles fully comply and we expect that our vehicles in the future will fully comply with all applicable FMVSS with limited or no exemptions, however, FMVSS are subject to change from time to time. As a manufacturer, we must self-certify that our vehicles meet all applicable FMVSS and the NHTSA bumper standard, or otherwise are exempt, before the vehicles may be imported or sold in the U.S. We are also required to comply with other federal laws administered by NHTSA, including the Corporate Average Fuel Economy standards, Theft Prevention Act requirements, labeling requirements and other information provided to customers in writing, Early Warning Reporting requirements regarding warranty claims, field reports, death and injury reports and foreign recalls, a Standing General Order requiring reports regarding crashes involving vehicles equipped with advanced driver assistance systems, and additional requirements for cooperating with compliance and safety investigations and recall reporting. The U.S. Automobile Information and Disclosure Act also requires manufacturers of motor vehicles to disclose certain information regarding the manufacturer&#8217;s suggested retail price, optional equipment and pricing. In addition, federal law requires inclusion of fuel economy ratings, as determined by the U.S. Department of Transportation and the Environmental Protection Agency (the &#8220;EPA&#8221;), and New Car Assessment Program ratings as determined by NHTSA, if available. Our vehicles sold outside of the U.S. are subject to similar foreign compliance, safety, environmental and other regulations. Many of those regulations are different from those applicable in the U.S. and may require redesign and/or retesting. Some of those regulations impact or prevent the rollout of new vehicle features. Self-Driving Vehicles Generally, laws pertaining to self-driving vehicles are evolving globally, and in some cases may create restrictions on features or vehicle designs that we develop. While there are currently no federal U.S. regulations pertaining specifically to self-driving vehicles or self-driving equipment, NHTSA has published recommended guidelines on self-driving vehicles, apart from the FMVSS and manufacturer reporting obligations, and retains the authority to investigate and/or take action on the safety or compliance of any vehicle, equipment or features operating on public roads. Certain U.S. states also have legal restrictions on the operation, registration or licensure of self-driving vehicles, and many other states are considering them. This regulatory patchwork increases the legal complexity with respect to self-driving vehicles in the U.S. In markets that follow the regulations of the United Nations Economic Commission for Europe (&#8220; ECE markets &#8221;), some requirements restrict the design of advanced driver-assistance or self-driving features, which can compromise or prevent their use entirely. Other applicable laws, both current and proposed, may hinder the path and timeline to introducing self-driving vehicles for sale and use in the markets where they apply. Other key markets, including China, continue to consider self-driving regulation. Any implemented regulations may differ materially from the U.S. and ECE markets, which may further increase the legal complexity of self-driving vehicles and limit or prevent certain features. Automobile Manufacturer and Dealer Regulation In the U.S., state laws regulate the manufacture, distribution, sale and service of automobiles, and generally require motor vehicle manufacturers and dealers to be licensed in order to sell vehicles directly to residents. Certain states have asserted that the laws in such states do not permit automobile manufacturers to be licensed as dealers or to act in the capacity of a dealer, or that they otherwise restrict a manufacturer&#8217;s ability to deliver or perform warranty repairs on vehicles. To sell vehicles to residents of states where we are not licensed as a dealer, we generally conduct the sale out of the state. In certain such states, we have opened &#8220;galleries&#8221; that serve an educational purpose and where sales may not occur. Some automobile dealer trade associations have both challenged the legality of our operations in court and used administrative and legislative processes to attempt to prohibit or limit our ability to operate existing stores or expand to new locations. Certain dealer associations have also actively lobbied state licensing agencies and legislators to interpret existing laws or enact new laws in ways not favorable to our ownership and operation of our own retail and service locations. We expect such challenges to continue, and we intend to actively fight any such efforts. Battery Safety and Testing Our battery packs are subject to various U.S. and international regulations that govern transport of &#8220;dangerous goods,&#8221; defined to include lithium-ion batteries, which may present a risk in transportation. We conduct testing to demonstrate our compliance with such regulations. We use lithium-ion cells in our high voltage battery packs in our vehicles and energy storage products. The use, storage and disposal of our battery packs are regulated under existing laws and are the subject of ongoing regulatory changes that may add additional requirements in the future. We have agreements with third party battery recycling companies to recycle our battery packs, and we are also piloting our own recycling technology. Solar Energy&#8212;General We are subject to certain state and federal regulations applicable to solar and battery storage providers and sellers of electricity. To operate our systems, we enter into standard interconnection agreements with applicable utilities. Sales of electricity and non-sale equipment leases by third parties, such as our leases and PPAs, have faced regulatory challenges in some states and jurisdictions. Solar Energy&#8212;Net Metering Most states in the U.S. make net energy metering, or net metering, available to solar customers. Net metering typically allows solar customers to interconnect their solar energy systems to the utility grid and offset their utility electricity purchases by receiving a bill credit for excess energy generated by their solar energy system that is exported to the grid. In certain jurisdictions, regulators or utilities have reduced or eliminated the benefit available under net metering or have proposed to do so. Competition Automotive The worldwide automotive market is highly competitive and we expect it will become even more competitive in the future as a significant and growing number of established and new automobile manufacturers, as well as other companies, have entered, or are reported to have plans to enter the electric vehicle market. We believe that our vehicles compete in the market based on both their traditional segment classification as well as their propulsion technology. For example, Cybertruck competes with other pickup trucks, Model S and Model X compete primarily with premium sedans and premium SUVs and Model 3 and Model Y compete with small to medium-sized sedans and compact SUVs, which are extremely competitive markets. Competing products typically include internal combustion vehicles from more established automobile manufacturers; however, many established and new automobile manufacturers have entered or have announced plans to enter the market for electric and other alternative fuel vehicles. Overall, we believe these announcements and vehicle introductions, including the introduction of electric vehicles into rental car company fleets, promote the development of the electric vehicle market by highlighting the attractiveness of electric vehicles relative to the internal combustion vehicle. Many major automobile manufacturers have electric vehicles available today in major markets including the U.S., China and Europe, and other current and prospective automobile manufacturers are also developing electric vehicles. In addition, several manufacturers offer hybrid vehicles, including plug-in versions. We believe that there is also increasing competition for our vehicle offerings as a platform for delivering self-driving technologies, charging solutions and other features and services, and we expect to compete in this developing market through continued progress on our Autopilot, FSD and neural network capabilities, Supercharger network and our infotainment offerings. Energy Generation and Storage Energy Storage Systems The market for energy storage products is also highly competitive, and both established and emerging companies have introduced products that are similar to our product portfolio or that are alternatives to the elements of our systems. We compete with these companies based on price, energy density and efficiency. We believe that the specifications and features of our products, our strong brand and the modular, scalable nature of our energy storage products give us a competitive advantage in our markets. Solar Energy Systems The primary competitors to our solar energy business are the traditional local utility companies that supply energy to our potential customers. We compete with these traditional utility companies primarily based on price and the ease by which customers can switch to electricity generated by our solar energy systems. We also compete with solar energy companies that provide products and services similar to ours. Many solar energy companies only install solar energy systems, while others only provide financing for these installations. We believe we have a significant expansion opportunity with our offerings and that the regulatory environment is increasingly conducive to the adoption of renewable energy systems. Intellectual Property We place a strong emphasis on our innovative approach and proprietary designs which bring intrinsic value and uniqueness to our product portfolio. As part of our business, we seek to protect the underlying intellectual property rights of these innovations and designs such as with respect to patents, trademarks, copyrights, trade secrets, confidential information and other measures, including through employee and third-party nondisclosure agreements and other contractual arrangements. For example, we place a high priority on obtaining patents to provide the broadest and strongest possible protection to enable our freedom to operate our innovations and designs across all of our products and technologies as well as to protect and defend our product portfolio. We have also adopted a patent policy in which we irrevocably pledged that we will not initiate a lawsuit against any party for infringing our patents through activity relating to electric vehicles or related equipment for so long as such party is acting in good faith. We made this pledge in order to encourage the advancement of a common, rapidly-evolving platform for electric vehicles, thereby benefiting ourselves, other companies making electric vehicles and the world. Environmental, Social and Governance (ESG) and Human Capital Resources ESG The very purpose of Tesla's existence is to accelerate the world's transition to sustainable energy. We believe the world cannot reduce carbon emissions without addressing both energy generation and consumption, and we are designing and manufacturing a complete energy and transportation ecosystem to achieve this goal. As we expand, we are building each new factory to be more efficient and sustainably designed than the previous one, including with respect to per-unit waste reduction and resource consumption, including water and energy usage. We are focused on further enhancing sustainability of operations outside of our direct control, including reducing the carbon footprint of our supply chain. We are committed to sourcing only responsibly produced materials, and our suppliers are required to provide evidence of management systems that ensure social, environmental and sustainability best practices in their own operations, as well as to demonstrate a commitment to responsible sourcing into their supply chains. We have a zero-tolerance policy when it comes to child or forced labor and human trafficking by our suppliers and we look to the Organization for Economic Co-operation and Development Due Diligence Guidelines to inform our process and use feedback from our internal and external stakeholders to find ways to continually improve. We are also driving safety in our own factories by focusing on worker engagement. Our incidents per vehicle continue to drop even as our production volumes increase. We also strive to be an employer of choice by offering compelling, impactful jobs with best in-industry benefits. We believe that sound corporate governance is critical to helping us achieve our goals, including with respect to ESG. We continue to evolve a governance framework that exercises appropriate oversight of responsibilities at all levels throughout the company and manages its affairs consistent with high principles of business ethics. Our ESG Sustainability Council is made up of leaders from across our company, and regularly presents to our Board of Directors, which oversees our ESG impacts, initiatives and priorities. Human Capital Resources A competitive edge for Tesla is its ability to attract and retain high quality employees. During the past year, Tesla made substantial investments in its workforce, further strengthening its standing as one of the most desirable and innovative companies to work for. As of December 31, 2023, our employee headcount worldwide was 140,473. We have created an environment that fosters growth opportunities, and as of this report, nearly two-thirds (65%) of our managers were promoted from an internal, non-manager position, and 43% of our management employees have been with Tesla for more than five years. Tesla&#8217;s growth of 35% over the past two years has offered internal career development to our employees as well as the ability to make a meaningful contribution to a sustainable future. We are able to retain our employees, in part, not only because employees can enjoy ownership in Tesla through stock (of which 89% have been given the opportunity to), but because we also provide them with excellent health benefits such as free counseling, paid parental leave, paid time off and zero-premium medical plan options that are made available on the first day of employment. We recognize the positive impact that leaders can have on their teams and offer fundamental skills training and continuous development to all leaders through various programs globally. We don&#8217;t stop there. Tesla has several other programs strategically designed to increase paths for greater career opportunity such as: &#8226; Technician Trainee (Service) &#8211; &#8239; The Tesla Technician Trainee Program provides on-the-job automotive maintenance training at Tesla, resulting in an industry certification. Targeted at individuals with limited experience, whether in industry or vocational schools, the program prepares trainees for employment as technicians. In 2023, we hired over 1,900 Technician Trainees across the U.S., Germany and China. &#8226; START (Manufacturing and Service) &#8211; Tesla START is an intensive training program that complements the Technician Trainee program and equips individuals with the skills needed for a successful technician role at Tesla. We have partnered with colleges and technical academies to launch Tesla START in the U.S., United Kingdom and Germany. In 2023, we hired over 350 trainees for manufacturing and service roles through this program, providing an opportunity to transition into full-time employment . &#8226; Internships &#8211; Annually, Tesla hires over 6,000 university and college students from around the world. We recruit from diverse student organizations and campuses, seeking top talent passionate about our mission. Our interns engage in meaningful work from day one, and we often offer them full-time positions post-internship. &#8226; Military Fellowship and Transition Programs &#8211; &#8239;The Military Fellowship and Transition Programs are designed to offer exiting military service members in the U.S. and Europe with career guidance on transitioning into the civil workforce. We partner with the career transition services of European Defence Ministries across five countries, as well as the U.S. Chamber of Commerce&#8217;s Hire our Heroes. These programs aim to convert high-performing individuals to full-time roles and create a veteran talent pipeline. &#8226; Apprenticeships &#8211; Tesla Apprenticeships are offered globally, providing academic and on-the-job training to prepare specialists in skilled trades. Apprentices will complete between one to four years of on-the-job training. Apprentice programs have seen skilled trade hires across the U.S., Australia, Hong Kong, Korea and Germany. &#8226; Manufacturing Development Program &#8211;&#8239;Tesla's manufacturing pathway program is designed to provide graduating high school seniors with the financial resources, coursework and experience they need to start a successful manufacturing career at Tesla. We hired 373 graduates through this program in 2023, and our goal in 2024 is grow this program to over 600 students annually across our Fremont Factory, Gigafactory Nevada, Gigafactory Texas and Gigafactory New York. &#8226; Engineering Development Program &#8211;&#8239;Launched in January 2024, this program targets recent college and university graduates for specialized engineering fields. In collaboration with Austin Community College, the program educates early-career engineers in controls engineering, enhancing their knowledge of high-demand technologies for U.S. manufacturing. We will continue to expand the opportunities for our employees to add skills and develop professionally with a new Employee Educational Assistance Program launching in the U.S. in the spring of 2024 to help employees pursue select certificates or degrees. With virtual, self-paced education options available, employees can pursue a new path or expand their knowledge while continuing to grow their career. At Tesla, our employees show up passionate about making a difference in the world and for each other. We remain unwavering in our demand that our factories, offices, stores and service centers are places where our employees feel respected and appreciated. Our policies are designed to promote fairness and respect for everyone. We hire, evaluate and promote employees based on their skills and performance. Everyone is expected to be trustworthy, demonstrate excellence in their performance and collaborate with others. With this in mind, we will not tolerate certain behaviors. These include harassment, retaliation, violence, intimidation and discrimination of any kind on the basis of race, color, religion, national origin, gender, sexual orientation, gender identity, gender expression, age, disability or veteran status. Anti-harassment training is conducted on day one of new hire orientation for all employees and reoccurring for leaders. In addition, we run various leadership development programs throughout the year aimed at enhancing leaders&#8217; skills, and in particular, helping them to understand how to appropriately respond to and address employee concerns. Employees are encouraged to speak up both in regard to misconduct and safety concerns and can do so by contacting the integrity line, submitting concerns through our Take Charge process, or notifying their Human Resource Partner or any member of management. Concerns are reviewed in accordance with established protocols by investigators with expertise, who also review for trends and outcomes for remediation and appropriate controls. Responding to questions timely is key so Human Resource Partners for each functional area are visible throughout facilities and are actively involved in driving culture and engagement alongside business leaders. Available Information We file or furnish periodic reports and amendments thereto, including our Annual Reports on Form 10-K, our Quarterly Reports on Form 10-Q and Current Reports on Form 8-K, proxy statements and other information with the SEC. In addition, the SEC maintains a website ( www.sec.gov ) that contains reports, proxy and information statements, and other information regarding issuers that file electronically. Our website is located at www.tesla.com , and our reports, amendments thereto, proxy statements and other information are also made available, free of charge, on our investor relations website at ir.tesla.com as soon as reasonably practicable after we electronically file or furnish such information with the SEC. The information posted on our website is not incorporated by reference into this Annual Report on Form 10-K. \""
      ]
     },
     "execution_count": 26,
     "metadata": {},
     "output_type": "execute_result"
    }
   ],
   "source": [
    "tsla_item1 = tsla_item1.replace('\\n', '')\n",
    "tsla_item1"
   ]
  },
  {
   "cell_type": "markdown",
   "metadata": {},
   "source": [
    "## Data Exploration - Text Analysis"
   ]
  },
  {
   "cell_type": "code",
   "execution_count": null,
   "metadata": {},
   "outputs": [],
   "source": []
  },
  {
   "cell_type": "markdown",
   "metadata": {},
   "source": [
    "## Named Entity Recognition"
   ]
  },
  {
   "cell_type": "markdown",
   "metadata": {},
   "source": [
    "### NLTK"
   ]
  },
  {
   "cell_type": "code",
   "execution_count": 17,
   "metadata": {},
   "outputs": [
    {
     "name": "stderr",
     "output_type": "stream",
     "text": [
      "[nltk_data] Downloading package punkt to\n",
      "[nltk_data]     C:\\Users\\ongai\\AppData\\Roaming\\nltk_data...\n",
      "[nltk_data]   Package punkt is already up-to-date!\n",
      "[nltk_data] Downloading package punkt_tab to\n",
      "[nltk_data]     C:\\Users\\ongai\\AppData\\Roaming\\nltk_data...\n",
      "[nltk_data]   Package punkt_tab is already up-to-date!\n",
      "[nltk_data] Downloading package averaged_perceptron_tagger_eng to\n",
      "[nltk_data]     C:\\Users\\ongai\\AppData\\Roaming\\nltk_data...\n",
      "[nltk_data]   Package averaged_perceptron_tagger_eng is already up-to-\n",
      "[nltk_data]       date!\n",
      "[nltk_data] Downloading package maxent_ne_chunker_tab to\n",
      "[nltk_data]     C:\\Users\\ongai\\AppData\\Roaming\\nltk_data...\n",
      "[nltk_data]   Unzipping chunkers\\maxent_ne_chunker_tab.zip.\n",
      "[nltk_data] Downloading package words to\n",
      "[nltk_data]     C:\\Users\\ongai\\AppData\\Roaming\\nltk_data...\n",
      "[nltk_data]   Package words is already up-to-date!\n"
     ]
    },
    {
     "name": "stdout",
     "output_type": "stream",
     "text": [
      "46161\n",
      "ORGANIZATION BUSINESS\n",
      "PERSON Mobile Service\n",
      "GPE Supercharger\n",
      "ORGANIZATION Services Automotive\n",
      "GPE Y\n",
      "GPE S\n",
      "ORGANIZATION Cybertruck\n",
      "PERSON Model\n",
      "ORGANIZATION SUV\n",
      "PERSON Model\n",
      "PERSON Model X\n",
      "ORGANIZATION SUV\n",
      "PERSON Model\n",
      "PERSON Model X\n",
      "ORGANIZATION SUV\n",
      "ORGANIZATION Cybertruck\n",
      "ORGANIZATION Tesla Semi\n",
      "ORGANIZATION FSD\n",
      "PERSON Energy\n",
      "ORGANIZATION Generation\n",
      "PERSON Storage Energy Storage\n",
      "GPE Powerwall\n",
      "GPE Megapack\n",
      "ORGANIZATION GWh\n",
      "PERSON Solar\n",
      "PERSON Energy Offerings\n",
      "ORGANIZATION PPA\n",
      "PERSON Technology\n",
      "ORGANIZATION Automotive Battery\n",
      "GPE Powertrain\n",
      "PERSON Model S\n",
      "PERSON Model X\n",
      "PERSON Cybertruck\n",
      "ORGANIZATION Tesla Semi\n",
      "PERSON Vehicle\n",
      "ORGANIZATION Control\n",
      "ORGANIZATION Infotainment\n",
      "GSP Control\n",
      "ORGANIZATION Artificial\n",
      "ORGANIZATION FSD Computer\n",
      "ORGANIZATION FSD\n",
      "GPE Optimus\n",
      "PERSON Energy\n",
      "ORGANIZATION Generation\n",
      "PERSON Storage Energy Storage\n",
      "PERSON Solar\n",
      "ORGANIZATION Energy Systems\n",
      "PERSON Solar Roof\n",
      "ORGANIZATION Powerwall\n",
      "GPE Design\n",
      "PERSON Energy\n",
      "ORGANIZATION Generation\n",
      "PERSON Solar Roof\n",
      "PERSON Marketing Historically\n",
      "GPE Tesla\n",
      "GPE Vehicle\n",
      "PERSON Tesla\n",
      "PERSON Tesla\n",
      "ORGANIZATION Tesla\n",
      "PERSON Public\n",
      "PERSON Tesla Superchargers\n",
      "GPE Supercharger\n",
      "LOCATION North\n",
      "ORGANIZATION American\n",
      "ORGANIZATION NACS\n",
      "ORGANIZATION NACS\n",
      "ORGANIZATION NACS\n",
      "ORGANIZATION SAE International\n",
      "ORGANIZATION NACS\n",
      "PERSON J3400\n",
      "PERSON Tesla Superchargers\n",
      "GPE Tesla\n",
      "PERSON Energy\n",
      "ORGANIZATION Generation\n",
      "ORGANIZATION PPA\n",
      "GPE Service\n",
      "PERSON Warranty Automotive\n",
      "PERSON Tesla Mobile Service\n",
      "PERSON Vehicle\n",
      "PERSON Limited Warranties\n",
      "ORGANIZATION Extended Service\n",
      "PERSON Energy\n",
      "ORGANIZATION Generation\n",
      "PERSON Solar Roof\n",
      "GPE North America\n",
      "GPE Europe\n",
      "GPE Asia\n",
      "GPE Insurance\n",
      "PERSON Energy\n",
      "ORGANIZATION Generation\n",
      "PERSON Solar Roof\n",
      "ORGANIZATION Powerwall\n",
      "ORGANIZATION PPAs\n",
      "GPE U.S.\n",
      "GPE Northern California\n",
      "GPE Buffalo\n",
      "GPE New York\n",
      "PERSON Gigafactory New York\n",
      "GPE Austin\n",
      "GPE Texas\n",
      "PERSON Gigafactory Texas\n",
      "PERSON Reno\n",
      "GPE Nevada\n",
      "PERSON Gigafactory Nevada\n",
      "GPE China\n",
      "ORGANIZATION Gigafactory Shanghai\n",
      "GPE Germany\n",
      "ORGANIZATION Gigafactory\n",
      "GPE Monterrey\n",
      "GPE Mexico\n",
      "PERSON Supply Chain\n",
      "GPE Certain\n",
      "ORGANIZATION Incentives\n",
      "ORGANIZATION Regulations Globally\n",
      "ORGANIZATION Significant Accounting Policies\n",
      "ORGANIZATION Incentives Inflation\n",
      "ORGANIZATION Inflation\n",
      "ORGANIZATION IRA\n",
      "ORGANIZATION IRA\n",
      "GPE Tesla\n",
      "GPE U.S.\n",
      "PERSON Automotive\n",
      "ORGANIZATION Regulatory\n",
      "ORGANIZATION ZEVs\n",
      "ORGANIZATION Energy Storage System Incentives\n",
      "GPE U.S.\n",
      "ORGANIZATION Federal Energy Regulatory Commission\n",
      "ORGANIZATION FERC\n",
      "GPE California\n",
      "GPE California\n",
      "ORGANIZATION IRA\n",
      "ORGANIZATION Internal Revenue Code\n",
      "ORGANIZATION IRC\n",
      "PERSON Solar\n",
      "PERSON Energy System Incentives\n",
      "PERSON Policies U.S.\n",
      "ORGANIZATION IRA\n",
      "ORGANIZATION IRC\n",
      "PERSON Vehicle Safety\n",
      "GPE U.S.\n",
      "ORGANIZATION National Highway Traffic Safety Administration\n",
      "ORGANIZATION NHTSA\n",
      "ORGANIZATION Federal Motor Vehicle Safety\n",
      "ORGANIZATION FMVSS\n",
      "ORGANIZATION NHTSA\n",
      "ORGANIZATION FMVSS\n",
      "ORGANIZATION FMVSS\n",
      "ORGANIZATION FMVSS\n",
      "ORGANIZATION NHTSA\n",
      "GPE U.S.\n",
      "ORGANIZATION NHTSA\n",
      "ORGANIZATION Corporate Average Fuel Economy\n",
      "PERSON Theft\n",
      "GPE Early\n",
      "ORGANIZATION General Order\n",
      "ORGANIZATION Disclosure Act\n",
      "ORGANIZATION U.S. Department\n",
      "ORGANIZATION Transportation\n",
      "ORGANIZATION Environmental Protection Agency\n",
      "ORGANIZATION EPA\n",
      "GPE New\n",
      "ORGANIZATION NHTSA\n",
      "GPE U.S.\n",
      "GPE U.S.\n",
      "PERSON Vehicles Generally\n",
      "GPE U.S.\n",
      "ORGANIZATION NHTSA\n",
      "ORGANIZATION FMVSS\n",
      "GPE Certain\n",
      "GPE U.S.\n",
      "ORGANIZATION United Nations Economic Commission\n",
      "GPE Europe\n",
      "ORGANIZATION ECE\n",
      "GPE China\n",
      "GPE U.S.\n",
      "ORGANIZATION ECE\n",
      "PERSON Dealer Regulation\n",
      "GPE U.S.\n",
      "GPE Certain\n",
      "GPE Certain\n",
      "PERSON Battery\n",
      "ORGANIZATION Safety\n",
      "GPE U.S.\n",
      "PERSON Solar\n",
      "ORGANIZATION Energy\n",
      "ORGANIZATION PPAs\n",
      "PERSON Solar\n",
      "ORGANIZATION Energy\n",
      "GPE U.S.\n",
      "ORGANIZATION Competition Automotive\n",
      "PERSON Cybertruck\n",
      "PERSON Model S\n",
      "PERSON Model X\n",
      "ORGANIZATION SUVs\n",
      "PERSON Model Y\n",
      "ORGANIZATION SUVs\n",
      "GPE Overall\n",
      "GPE U.S.\n",
      "GPE China\n",
      "GPE Europe\n",
      "ORGANIZATION FSD\n",
      "PERSON Supercharger\n",
      "PERSON Energy\n",
      "ORGANIZATION Generation\n",
      "PERSON Storage Energy Storage\n",
      "PERSON Solar\n",
      "ORGANIZATION Energy Systems\n",
      "GPE Environmental\n",
      "ORGANIZATION Social\n",
      "GPE Governance\n",
      "ORGANIZATION ESG\n",
      "PERSON Human Capital Resources\n",
      "GPE Tesla\n",
      "ORGANIZATION Organization\n",
      "ORGANIZATION Economic\n",
      "ORGANIZATION Development Due Diligence Guidelines\n",
      "ORGANIZATION ESG\n",
      "ORGANIZATION ESG Sustainability Council\n",
      "ORGANIZATION Board\n",
      "GPE Directors\n",
      "ORGANIZATION ESG\n",
      "PERSON Human\n",
      "ORGANIZATION Capital\n",
      "PERSON Tesla\n",
      "PERSON Tesla\n",
      "PERSON Tesla\n",
      "GPE Tesla\n",
      "GPE Tesla\n",
      "GPE Tesla\n",
      "GPE Technician\n",
      "ORGANIZATION Tesla Technician Trainee Program\n",
      "ORGANIZATION Tesla\n",
      "ORGANIZATION Trainees\n",
      "GPE U.S.\n",
      "GPE Germany\n",
      "GPE China\n",
      "GPE Service\n",
      "PERSON Tesla START\n",
      "ORGANIZATION Technician Trainee\n",
      "ORGANIZATION Tesla\n",
      "PERSON Tesla START\n",
      "GPE U.S.\n",
      "GPE United Kingdom\n",
      "GPE Germany\n",
      "ORGANIZATION Internships\n",
      "PERSON Annually\n",
      "PERSON Tesla\n",
      "PERSON Military Fellowship\n",
      "ORGANIZATION Transition Programs\n",
      "ORGANIZATION Transition\n",
      "GPE U.S.\n",
      "GPE Europe\n",
      "GPE European\n",
      "ORGANIZATION Defence Ministries\n",
      "GPE U.S.\n",
      "ORGANIZATION Commerce\n",
      "PERSON Tesla Apprenticeships\n",
      "GPE U.S.\n",
      "GPE Australia\n",
      "GPE Hong Kong\n",
      "GPE Korea\n",
      "GPE Germany\n",
      "PERSON Tesla\n",
      "ORGANIZATION Tesla\n",
      "PERSON Fremont Factory\n",
      "PERSON Gigafactory Nevada\n",
      "PERSON Gigafactory Texas\n",
      "PERSON Gigafactory New York\n",
      "PERSON Austin Community College\n",
      "GPE U.S.\n",
      "PERSON Employee Educational Assistance Program\n",
      "GPE U.S.\n",
      "ORGANIZATION Tesla\n",
      "GPE Everyone\n",
      "PERSON Human Resource Partners\n",
      "GPE Available\n",
      "ORGANIZATION Current Reports\n",
      "ORGANIZATION SEC\n",
      "ORGANIZATION SEC\n",
      "ORGANIZATION SEC\n"
     ]
    }
   ],
   "source": [
    "## using nltk\n",
    "nltk.download('punkt')\n",
    "nltk.download('punkt_tab')\n",
    "nltk.download('averaged_perceptron_tagger_eng')\n",
    "nltk.download('maxent_ne_chunker_tab')\n",
    "nltk.download('words')\n",
    " \n",
    "# Step Two: Load Data\n",
    "print(len(tsla_item1))\n",
    "\n",
    "# Step Three: Tokenise, find parts of speech and chunk words \n",
    "\n",
    "for sent in nltk.sent_tokenize(tsla_item1):\n",
    "  for chunk in nltk.ne_chunk(nltk.pos_tag(nltk.word_tokenize(sent))):\n",
    "     if hasattr(chunk, 'label'):\n",
    "        print(chunk.label(), ' '.join(c[0] for c in chunk))"
   ]
  },
  {
   "cell_type": "markdown",
   "metadata": {},
   "source": [
    "### Spacy"
   ]
  },
  {
   "cell_type": "code",
   "execution_count": 40,
   "metadata": {},
   "outputs": [],
   "source": [
    "## Using spacy\n",
    "\n",
    "# load spacy model\n",
    "nlp = spacy.load('en_core_web_sm')\n",
    "nlp.disable_pipe(\"parser\")\n",
    "nlp.enable_pipe(\"senter\")\n",
    "# load data\n",
    "doc = nlp(tsla_item1)\n",
    "\n",
    "# collect unique labels\n",
    "unique_labels = {}\n",
    "for ent in doc.ents:\n",
    "    if ent.label_ not in unique_labels.keys():\n",
    "        unique_labels[ent.label_] = []\n",
    "    unique_labels[ent.label_].append((ent.text, ent.start_char, ent.end_char))\n"
   ]
  },
  {
   "cell_type": "markdown",
   "metadata": {},
   "source": [
    "- PERSON:      People, including fictional.\n",
    "- NORP:        Nationalities or religious or political groups.\n",
    "- FAC:         Buildings, airports, highways, bridges, etc.\n",
    "- ORG:         Companies, agencies, institutions, etc.\n",
    "- GPE:         Countries, cities, states.\n",
    "- LOC:         Non-GPE locations, mountain ranges, bodies of water.\n",
    "- PRODUCT:     Objects, vehicles, foods, etc. (Not services.)\n",
    "- EVENT:       Named hurricanes, battles, wars, sports events, etc.\n",
    "- WORK_OF_ART: Titles of books, songs, etc.\n",
    "- LAW:         Named documents made into laws.\n",
    "- LANGUAGE:    Any named language.\n",
    "- DATE:        Absolute or relative dates or periods.\n",
    "- TIME:        Times smaller than a day.\n",
    "- PERCENT:     Percentage, including ”%“.\n",
    "- MONEY:       Monetary values, including unit.\n",
    "- QUANTITY:    Measurements, as of weight or distance.\n",
    "- ORDINAL:     “first”, “second”, etc.\n",
    "- CARDINAL:    Numerals that do not fall under another type."
   ]
  },
  {
   "cell_type": "code",
   "execution_count": 41,
   "metadata": {},
   "outputs": [
    {
     "data": {
      "text/plain": [
       "dict_keys(['ORG', 'PERSON', 'CARDINAL', 'MONEY', 'PRODUCT', 'NORP', 'DATE', 'ORDINAL', 'TIME', 'LOC', 'GPE', 'FAC', 'EVENT', 'LAW', 'PERCENT', 'WORK_OF_ART'])"
      ]
     },
     "execution_count": 41,
     "metadata": {},
     "output_type": "execute_result"
    }
   ],
   "source": [
    "unique_labels.keys()"
   ]
  },
  {
   "cell_type": "code",
   "execution_count": 42,
   "metadata": {},
   "outputs": [
    {
     "data": {
      "text/plain": [
       "[('Mobile Service', 380, 394),\n",
       " ('Our Products and Services Automotive', 1942, 1978),\n",
       " ('Full Self-Driving (&', 3066, 3086),\n",
       " ('Energy Generation and Storage Energy Storage Products Powerwall',\n",
       "  3162,\n",
       "  3225),\n",
       " ('Solar Energy Offerings', 3925, 3947),\n",
       " ('Powertrain Our', 4680, 4694),\n",
       " ('Model S', 5321, 5328),\n",
       " ('Vehicle Control', 5785, 5800),\n",
       " ('Control systems', 5942, 5957),\n",
       " ('Self-Driving Development and Artificial Intelligence We', 6250, 6305),\n",
       " ('FSD Computer', 6449, 6461),\n",
       " ('Autopilot', 6804, 6813),\n",
       " ('Tesla', 7312, 7317),\n",
       " ('AI', 7652, 7654),\n",
       " ('Energy Generation and Storage Energy Storage Products', 7663, 7716),\n",
       " ('Solar Energy Systems', 8235, 8255),\n",
       " ('Energy Generation and Storage', 9642, 9671),\n",
       " ('Megapack', 9945, 9953),\n",
       " ('Automotive Direct Sales Our', 10536, 10563),\n",
       " ('Tesla', 11052, 11057),\n",
       " ('Tesla', 11508, 11513),\n",
       " ('Tesla', 11585, 11590),\n",
       " ('Tesla', 11737, 11742),\n",
       " ('Tesla Superchargers', 11857, 11876),\n",
       " ('the North American Charging Standard', 12677, 12713),\n",
       " ('NACS', 12715, 12719),\n",
       " ('NACS', 13037, 13041),\n",
       " ('NACS', 13141, 13145),\n",
       " ('SAE International', 13201, 13218),\n",
       " ('NACS', 13229, 13233),\n",
       " ('Tesla Superchargers', 13327, 13346),\n",
       " ('Energy Generation and Storage', 14018, 14047),\n",
       " ('Warranty Automotive Service', 14569, 14596),\n",
       " ('Tesla Mobile Service', 14693, 14713),\n",
       " ('Vehicle Limited Warranties and Extended Service', 15090, 15137),\n",
       " ('Tesla', 15215, 15220),\n",
       " ('Energy Generation and Storage', 15538, 15567),\n",
       " ('Financial Services', 16552, 16570),\n",
       " ('Automotive Purchase Financing and Leases', 16571, 16611),\n",
       " ('Energy Generation and Storage', 17434, 17463),\n",
       " ('Governmental Programs', 20292, 20313),\n",
       " ('Significant Accounting Policies', 20717, 20748),\n",
       " ('Incentives Inflation Reduction Act', 20880, 20914),\n",
       " ('Tesla', 21342, 21347),\n",
       " ('Automotive Regulatory Credits', 21480, 21509),\n",
       " ('The Federal Energy Regulatory Commission', 22458, 22498),\n",
       " ('the California Self Generation Incentive Program', 22792, 22840),\n",
       " ('the Internal Revenue Code', 23251, 23276),\n",
       " ('Solar Energy System Incentives', 23703, 23733),\n",
       " ('IRC', 24090, 24093),\n",
       " ('Regulations Vehicle Safety and Testing In', 24518, 24559),\n",
       " ('the National Highway Traffic Safety Administration', 24612, 24662),\n",
       " ('Federal Motor Vehicle Safety Standards (&#8220;FMVSS&#8221', 24711, 24769),\n",
       " ('NHTSA', 24780, 24785),\n",
       " ('NHTSA', 25207, 25212),\n",
       " ('NHTSA', 25382, 25387),\n",
       " ('Theft Prevention Act', 25445, 25465),\n",
       " ('Standing General Order', 25685, 25707),\n",
       " ('The U.S. Automobile Information and Disclosure Act', 25921, 25971),\n",
       " ('the U.S. Department of Transportation', 26227, 26264),\n",
       " ('the Environmental Protection Agency', 26269, 26304),\n",
       " ('the &#8220;EPA&#8221', 26306, 26326),\n",
       " ('New Car Assessment Program', 26334, 26360),\n",
       " ('NHTSA', 26386, 26391),\n",
       " ('Self-Driving Vehicles Generally', 26731, 26762),\n",
       " ('NHTSA', 27048, 27053),\n",
       " ('FMVSS', 27132, 27137),\n",
       " ('the United Nations Economic Commission for Europe', 27643, 27692),\n",
       " ('ECE markets &#8221;)', 27702, 27722),\n",
       " ('ECE', 28190, 28193),\n",
       " ('Automobile Manufacturer', 28315, 28338),\n",
       " ('Battery Safety and Testing Our', 29692, 29722),\n",
       " ('Model S', 31962, 31969),\n",
       " ('Autopilot', 33331, 33340),\n",
       " ('FSD', 33342, 33345),\n",
       " ('Energy Generation and Storage Energy Storage Systems', 33432, 33484),\n",
       " ('Solar Energy Systems', 33993, 34013),\n",
       " ('Human Capital Resources', 36044, 36067),\n",
       " ('Tesla', 36092, 36097),\n",
       " ('the Organization for Economic Co-operation and', 37222, 37268),\n",
       " ('ESG Sustainability Council', 38044, 38070),\n",
       " ('Board of Directors', 38148, 38166),\n",
       " ('ESG', 38187, 38190),\n",
       " ('Human Capital Resources A', 38228, 38253),\n",
       " ('Tesla', 38275, 38280),\n",
       " ('Tesla', 38364, 38369),\n",
       " ('Tesla', 38824, 38829),\n",
       " ('Tesla', 39143, 39148),\n",
       " ('Tesla', 39644, 39649),\n",
       " (': &#8226', 39756, 39764),\n",
       " ('Technician Trainee (Service) &', 39766, 39796),\n",
       " ('Technician Trainee Program', 39821, 39847),\n",
       " ('Tesla', 39903, 39908),\n",
       " ('Technician Trainees', 40132, 40151),\n",
       " ('START', 40196, 40201),\n",
       " ('Technician Trainee', 40304, 40322),\n",
       " ('Tesla', 40413, 40418),\n",
       " ('Internships &#8211', 40708, 40726),\n",
       " ('Tesla', 40738, 40743),\n",
       " ('European Defence Ministries', 41345, 41372),\n",
       " ('the U.S.', 41407, 41415),\n",
       " ('Apprenticeships &#8211', 41584, 41606),\n",
       " ('Manufacturing Development Program &', 41929, 41964),\n",
       " ('Tesla', 42181, 42186),\n",
       " ('Gigafactory Nevada', 42341, 42359),\n",
       " ('Engineering Development Program &', 42413, 42446),\n",
       " ('Austin Community College', 42604, 42628),\n",
       " ('Tesla', 43187, 43192),\n",
       " ('Take Charge', 44528, 44539),\n",
       " ('Human Resource Partners', 44839, 44862),\n",
       " ('SEC', 45251, 45254),\n",
       " ('SEC', 45273, 45276),\n",
       " ('ir.tesla.com', 45632, 45644),\n",
       " ('SEC', 45745, 45748)]"
      ]
     },
     "execution_count": 42,
     "metadata": {},
     "output_type": "execute_result"
    }
   ],
   "source": [
    "unique_labels['ORG']"
   ]
  },
  {
   "cell_type": "code",
   "execution_count": 44,
   "metadata": {},
   "outputs": [
    {
     "data": {
      "text/plain": [
       "[('the Model 3', 2045, 2056),\n",
       " ('Model 3', 2082, 2089),\n",
       " ('Model 3', 2277, 2284),\n",
       " ('Model S', 2437, 2444),\n",
       " ('Solar Roof', 4355, 4365),\n",
       " ('Solar Roof', 8275, 8285),\n",
       " ('Solar Roof', 10158, 10168),\n",
       " ('Solar Roof', 16095, 16105),\n",
       " ('Solar Roof', 17592, 17602),\n",
       " ('Model 3', 32041, 32048),\n",
       " ('Model Y', 32053, 32060)]"
      ]
     },
     "execution_count": 44,
     "metadata": {},
     "output_type": "execute_result"
    }
   ],
   "source": [
    "unique_labels['PRODUCT'] #products"
   ]
  },
  {
   "cell_type": "code",
   "execution_count": 45,
   "metadata": {},
   "outputs": [
    {
     "data": {
      "text/plain": [
       "[('North America', 16709, 16722),\n",
       " ('Europe', 16724, 16730),\n",
       " ('Asia', 16735, 16739),\n",
       " ('Northern California', 17880, 17899),\n",
       " ('Europe', 32867, 32873),\n",
       " ('Europe', 41224, 41230)]"
      ]
     },
     "execution_count": 45,
     "metadata": {},
     "output_type": "execute_result"
    }
   ],
   "source": [
    "unique_labels['LOC'] # locations"
   ]
  },
  {
   "cell_type": "code",
   "execution_count": 46,
   "metadata": {},
   "outputs": [
    {
     "data": {
      "text/plain": [
       "[('Gigafactory Texas', 17963, 17980),\n",
       " ('Fremont Factory', 42324, 42339),\n",
       " ('Gigafactory Texas', 42361, 42378)]"
      ]
     },
     "execution_count": 46,
     "metadata": {},
     "output_type": "execute_result"
    }
   ],
   "source": [
    "unique_labels['FAC'] # facilities / factories"
   ]
  },
  {
   "cell_type": "code",
   "execution_count": 47,
   "metadata": {},
   "outputs": [
    {
     "data": {
      "text/plain": [
       "[('this Annual Report on Form 10-K', 20814, 20845),\n",
       " ('this Annual Report on Form 10-K. Energy Storage System Incentives',\n",
       "  21988,\n",
       "  22053),\n",
       " ('this Annual Report on Form 10-K. Pursuant', 23163, 23204),\n",
       " ('this Annual Report on Form 10-K.', 45826, 45858)]"
      ]
     },
     "execution_count": 47,
     "metadata": {},
     "output_type": "execute_result"
    }
   ],
   "source": [
    "unique_labels['EVENT'] # events"
   ]
  },
  {
   "cell_type": "markdown",
   "metadata": {},
   "source": [
    "### Hugging Face Transformers"
   ]
  },
  {
   "cell_type": "code",
   "execution_count": 9,
   "metadata": {},
   "outputs": [
    {
     "name": "stderr",
     "output_type": "stream",
     "text": [
      "Some weights of the model checkpoint at dslim/bert-base-NER were not used when initializing BertForTokenClassification: ['bert.pooler.dense.bias', 'bert.pooler.dense.weight']\n",
      "- This IS expected if you are initializing BertForTokenClassification from the checkpoint of a model trained on another task or with another architecture (e.g. initializing a BertForSequenceClassification model from a BertForPreTraining model).\n",
      "- This IS NOT expected if you are initializing BertForTokenClassification from the checkpoint of a model that you expect to be exactly identical (initializing a BertForSequenceClassification model from a BertForSequenceClassification model).\n"
     ]
    },
    {
     "name": "stdout",
     "output_type": "stream",
     "text": [
      "{'entity': 'I-ORG', 'score': 0.54775363, 'index': 74, 'word': 'Service', 'start': 391, 'end': 398}\n",
      "{'entity': 'B-MISC', 'score': 0.5205288, 'index': 84, 'word': 'Des', 'start': 438, 'end': 441}\n",
      "{'entity': 'I-MISC', 'score': 0.62265116, 'index': 87, 'word': 'Chargers', 'start': 450, 'end': 458}\n",
      "{'entity': 'B-ORG', 'score': 0.75424445, 'index': 350, 'word': 'Products', 'start': 1960, 'end': 1968}\n",
      "{'entity': 'I-ORG', 'score': 0.9869141, 'index': 351, 'word': 'and', 'start': 1969, 'end': 1972}\n",
      "{'entity': 'I-ORG', 'score': 0.9261165, 'index': 352, 'word': 'Services', 'start': 1973, 'end': 1981}\n",
      "{'entity': 'I-ORG', 'score': 0.88983554, 'index': 353, 'word': 'Auto', 'start': 1984, 'end': 1988}\n",
      "{'entity': 'I-ORG', 'score': 0.60575384, 'index': 354, 'word': '##mot', 'start': 1988, 'end': 1991}\n",
      "{'entity': 'B-MISC', 'score': 0.59626323, 'index': 369, 'word': 'Model', 'start': 2067, 'end': 2072}\n",
      "{'entity': 'I-MISC', 'score': 0.9495684, 'index': 370, 'word': '3', 'start': 2073, 'end': 2074}\n"
     ]
    }
   ],
   "source": [
    "## Using transformers\n",
    "tokenizer = AutoTokenizer.from_pretrained(\"dslim/bert-base-NER\")\n",
    "model = AutoModelForTokenClassification.from_pretrained(\"dslim/bert-base-NER\")\n",
    "ner_pipe = pipeline(\"ner\", model = model, tokenizer = tokenizer)\n",
    "for ent in ner_pipe(tsla_item1):\n",
    "    print(ent)"
   ]
  }
 ],
 "metadata": {
  "kernelspec": {
   "display_name": ".venv",
   "language": "python",
   "name": "python3"
  },
  "language_info": {
   "codemirror_mode": {
    "name": "ipython",
    "version": 3
   },
   "file_extension": ".py",
   "mimetype": "text/x-python",
   "name": "python",
   "nbconvert_exporter": "python",
   "pygments_lexer": "ipython3",
   "version": "3.12.3"
  }
 },
 "nbformat": 4,
 "nbformat_minor": 2
}
