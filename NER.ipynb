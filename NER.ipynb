{
 "cells": [
  {
   "cell_type": "markdown",
   "metadata": {},
   "source": [
    "## Subtask A: Entity and Relationship Extraction\n"
   ]
  },
  {
   "cell_type": "code",
   "execution_count": 129,
   "metadata": {},
   "outputs": [],
   "source": [
    "#pip install transformers\n",
    "#pip install spacy\n",
    "#pip install nltk\n",
    "#pip install torch\n",
    "#pip install requests beautifulsoup4\n",
    "#pip install yahooquery\n",
    "#pip install scikit-learn\n",
    "#pip install gensim"
   ]
  },
  {
   "cell_type": "code",
   "execution_count": 130,
   "metadata": {},
   "outputs": [],
   "source": [
    "#!python -m spacy download en_core_web_sm"
   ]
  },
  {
   "cell_type": "code",
   "execution_count": 9,
   "metadata": {},
   "outputs": [
    {
     "name": "stderr",
     "output_type": "stream",
     "text": [
      "c:\\Users\\ongai\\Desktop\\DSA3101\\WW-AI-GK\\.venv\\Lib\\site-packages\\tqdm\\auto.py:21: TqdmWarning: IProgress not found. Please update jupyter and ipywidgets. See https://ipywidgets.readthedocs.io/en/stable/user_install.html\n",
      "  from .autonotebook import tqdm as notebook_tqdm\n"
     ]
    }
   ],
   "source": [
    "import sqlite3\n",
    "from transformers import AutoTokenizer, AutoModelForTokenClassification, pipeline\n",
    "import spacy \n",
    "import nltk\n",
    "import requests \n",
    "import torch\n",
    "import pandas as pd\n",
    "import re\n",
    "\n",
    "from collections import Counter, defaultdict\n",
    "from bs4 import BeautifulSoup\n",
    "from sklearn.feature_extraction.text import TfidfVectorizer\n",
    "from gensim import corpora\n",
    "from gensim.models import LdaModel\n",
    "pd.set_option(\"display.max_rows\", 200)"
   ]
  },
  {
   "cell_type": "code",
   "execution_count": 132,
   "metadata": {},
   "outputs": [],
   "source": [
    "dbpath = 'data/ecmdatabase.db'\n",
    "con = sqlite3.connect(f\"file:{dbpath}?mode=ro\", uri=True)\n",
    "with con:\n",
    "    result = con.execute(\"SELECT * from companies WHERE stock_symbol = 'TSLA';\")\n",
    "    records = result.fetchall()\n",
    "    company_name = records[0][1]\n",
    "    tsla_item1 = records[0][2]"
   ]
  },
  {
   "cell_type": "code",
   "execution_count": 133,
   "metadata": {},
   "outputs": [
    {
     "data": {
      "text/plain": [
       "\" ITEM 1. BUSINESS \\n\\nOverview \\n\\nWe design, develop, manufacture, sell and lease high-performance fully electric vehicles and energy generation and storage systems, and offer services related to our products. We generally sell our products directly to customers, and continue to grow our customer-facing infrastructure through a global network of vehicle showrooms and service centers, Mobile Service, body shops, Supercharger stations and Destination Chargers to accelerate the widespread adoption of our products. We emphasize performance, attractive styling and the safety of our users and workforce in the design and manufacture of our products and are continuing to develop full self-driving technology for improved safety. We also strive to lower the cost of ownership for our customers through continuous efforts to reduce manufacturing costs and by offering financial and other services tailored to our products. \\n\\nOur mission is to accelerate the world&#8217;s transition to sustainable energy. We believe that this mission, along with our engineering expertise, vertically integrated business model and focus on user experience differentiate us from other companies. \\n\\nSegment Information \\n\\nWe operate as two reportable segments: (i) automotive and (ii) energy generation and storage. \\n\\nThe automotive segment includes the design, development, manufacturing, sales and leasing of high-performance fully electric vehicles as well as sales of automotive regulatory credits. Additionally, the automotive segment also includes services and other, which includes sales of used vehicles, non-warranty after-sales vehicle services, body shop and parts, paid Supercharging, vehicle insurance revenue and retail merchandise. The energy generation and storage segment includes the design, manufacture, installation, sales and leasing of solar energy generation and energy storage products and related services and sales of solar energy systems incentives. \\n\\nOur Products and Services \\n\\nAutomotive \\n\\nWe currently manufacture five different consumer vehicles &#8211; the Model 3, Y, S, X and Cybertruck. Model 3 is a four-door mid-size sedan that we designed for manufacturability with a base price for mass-market appeal. Model Y is a compact sport utility vehicle (&#8220;SUV&#8221;) built on the Model 3 platform with seating for up to seven adults. Model S is a four-door full-size sedan and Model X is a mid-size SUV with seating for up to seven adults. Model S and Model X feature the highest performance characteristics and longest ranges that we offer in a sedan and SUV, respectively. In November 2023, we entered the consumer pickup truck market with first deliveries of the Cybertruck, a full-size electric pickup truck with a stainless steel exterior that has the utility and strength of a truck while featuring the speed of a sports car. \\n\\nIn 2022, we also began early production and deliveries of a commercial electric vehicle, the Tesla Semi. We have planned electric vehicles to address additional vehicle markets, and to continue leveraging developments in our proprietary Full Self-Driving (&#8220;FSD&#8221;) Capability features, battery cell and other technologies. \\n\\nEnergy Generation and Storage \\n\\nEnergy Storage Products \\n\\nPowerwall and Megapack are our lithium-ion battery energy storage products. Powerwall, which we sell directly to customers, as well as through channel partners, is designed to store energy at a home or small commercial facility. Megapack is an energy storage solution for commercial, industrial, utility and energy generation customers, multiple of which may be grouped together to form larger installations of gigawatt hours (&#8220;GWh&#8221;) or greater capacity. \\n\\nWe also continue to develop software capabilities for remotely controlling and dispatching our energy storage systems across a wide range of markets and applications, including through our real-time energy control and optimization platforms. \\n\\nSolar Energy Offerings \\n\\nWe sell retrofit solar energy systems to customers and channel partners and also make them available through power purchase agreement (&#8220;PPA&#8221;) arrangements. We purchase most of the components for our retrofit solar energy systems from multiple sources to ensure competitive pricing and adequate supply. We also design and manufacture certain components for our solar energy products. \\n\\nWe sell our Solar Roof, which combines premium glass roof tiles with energy generation, directly to customers, as well as through channel customers. We continue to improve our installation capability and efficiency, including through collaboration with real estate developers and builders on new homes. \\n\\nTechnology \\n\\nAutomotive \\n\\nBattery and Powertrain \\n\\nOur core vehicle technology competencies include powertrain engineering and manufacturing and our ability to design vehicles that utilize the unique advantages of an electric powertrain. We have designed our proprietary powertrain systems to be adaptable, efficient, reliable and cost-effective while withstanding the rigors of an automotive environment. We offer dual motor powertrain vehicles, which use two electric motors to maximize traction and performance in an all-wheel drive configuration, as well as vehicle powertrain technology featuring three electric motors for further increased performance in certain versions of Model S and Model X, Cybertruck and the Tesla Semi. \\n\\nWe maintain extensive testing and R&#38;D capabilities for battery cells, packs and systems, and have built an expansive body of knowledge on lithium-ion cell chemistry types and performance characteristics. In order to enable a greater supply of cells for our products with higher energy density at lower costs, we have developed a new proprietary lithium-ion battery cell and improved manufacturing processes. \\n\\nVehicle Control and Infotainment Software \\n\\nThe performance and safety systems of our vehicles and their battery packs utilize sophisticated control software. Control systems in our vehicles optimize performance, customize vehicle behavior, manage charging and control all infotainment functions. We develop almost all of this software, including most of the user interfaces, internally and update our vehicles&#8217; software regularly through over-the-air updates. \\n\\nSelf-Driving Development and Artificial Intelligence \\n\\nWe have expertise in developing technologies, systems and software to enable self-driving vehicles using primarily vision-based technologies. Our FSD Computer runs our neural networks in our vehicles, and we are also developing additional computer hardware to better enable the massive amounts of field data captured by our vehicles to continually train and improve these neural networks for real-world performance. \\n\\nCurrently, we offer in our vehicles certain advanced driver assist systems under our Autopilot and FSD Capability options. Although at present the driver is ultimately responsible for controlling the vehicle, our systems provide safety and convenience functionality that relieves drivers of the most tedious and potentially dangerous aspects of road travel much like the system that airplane pilots use, when conditions permit. As with other vehicle systems, we improve these functions in our vehicles over time through over-the-air updates. \\n\\nWe intend to establish in the future an autonomous Tesla ride-hailing network, which we expect would also allow us to access a new customer base even as modes of transportation evolve. \\n\\nWe are also applying our artificial intelligence learnings from self-driving technology to the field of robotics, such as through Optimus, a robotic humanoid in development, which is controlled by the same AI system. \\n\\nEnergy Generation and Storage \\n\\nEnergy Storage Products \\n\\nWe leverage many of the component-level technologies from our vehicles in our energy storage products. By taking a modular approach to the design of battery systems, we can optimize manufacturing capacity of our energy storage products. Additionally, our expertise in power electronics enables our battery systems to interconnect with electricity grids while providing fast-acting systems for power injection and absorption. We have also developed software to remotely control and dispatch our energy storage systems. \\n\\nSolar Energy Systems \\n\\nWe have engineered Solar Roof over numerous iterations to combine aesthetic appeal and durability with power generation. The efficiency of our solar energy products is aided by our own solar inverter, which incorporates our power electronics technologies. We designed both products to integrate with Powerwall. \\n\\nDesign and Engineering \\n\\nAutomotive \\n\\nWe have established significant in-house capabilities in the design and test engineering of electric vehicles and their components and systems. Our team has significant experience in computer-aided design as well as durability, strength and crash test simulations, which reduces the product development time of new models. We have also achieved complex engineering feats in stamping, casting and thermal systems, and developed a method to integrate batteries directly with vehicle body structures without separate battery packs to optimize manufacturability, weight, range and cost characteristics. \\n\\nWe are also expanding our manufacturing operations globally while taking action to localize our vehicle designs and production for particular markets, including country-specific market demands and factory optimizations for local workforces. As we increase our capabilities, particularly in the areas of automation, die-making and line-building, we are also making strides in the simulations modeling these capabilities prior to construction. \\n\\nEnergy Generation and Storage \\n\\nOur expertise in electrical, mechanical, civil and software engineering allows us to design, engineer, manufacture and install energy generating and storage products and components, including at the residential through utility scale. For example, the modular design of our Megapack utility-scale battery line is intended to significantly reduce the amount of assembly required in the field. We also customize solutions including our energy storage products, solar energy systems and/or Solar Roof for customers to meet their specific needs. \\n\\nSales and Marketing \\n\\nHistorically, we have been able to achieve sales without traditional advertising and at relatively low marketing costs. We continue to monitor our public narrative and brand, and tailor our marketing efforts accordingly, including through investments in customer education and advertising as necessary. \\n\\nAutomotive \\n\\nDirect Sales \\n\\nOur vehicle sales channels currently include our website and an international network of company-owned stores. In some jurisdictions, we also have galleries to educate and inform customers about our products, but such locations do not transact in the sale of vehicles. We believe this infrastructure enables us to better control costs of inventory, manage warranty service and pricing, educate consumers about electric vehicles, make our vehicles more affordable, maintain and strengthen the Tesla brand and obtain rapid customer feedback. \\n\\nWe reevaluate our sales strategy both globally and at a location-by-location level from time to time to optimize our sales channels. However, sales of vehicles in the automobile industry tend to be cyclical in many markets, which may expose us to volatility from time to time. \\n\\nUsed Vehicle Sales \\n\\nOur used vehicle business supports new vehicle sales by integrating the trade-in of a customer&#8217;s existing Tesla or non-Tesla vehicle with the sale of a new or used Tesla vehicle. The Tesla and non-Tesla vehicles we acquire as trade-ins are subsequently remarketed, either directly by us or through third parties. We also remarket used Tesla vehicles acquired from other sources including lease returns. \\n\\nPublic Charging \\n\\nWe have a growing global network of Tesla Superchargers, which are our industrial-grade, high-speed vehicle chargers. Where possible, we co-locate Superchargers with our solar and energy storage systems to reduce costs and promote renewable power. Supercharger stations are typically placed along well-traveled routes and in and around dense city centers to allow vehicle owners the ability to enjoy quick, reliable charging along an extensive network with convenient stops. Use of the Supercharger network either requires payment of a fee or is free under certain sales programs. In November 2021, we began to offer Supercharger access to non-Tesla vehicles in certain locations in support of our mission to accelerate the world&#8217;s transition to sustainable energy, and in November 2022, we opened up our previously proprietary charging connector as the North American Charging Standard (NACS). This enables all electric vehicles and charging stations to interoperate &#8212; which makes charging easier and more efficient for everyone and advances our mission to accelerate the world&#8217;s transition to sustainable energy. Following this, a number of major automotive companies announced their adoption of NACS, with their access to the Supercharger network beginning in phases in 2024 and their production of NACS vehicles beginning no later than 2025. We also engaged SAE International to govern NACS as an industry standard, now named J3400. We continue to monitor and increase our network of Tesla Superchargers in anticipation of future demand. \\n\\nWe also work with a wide variety of hospitality, retail and public destinations, as well as businesses with commuting employees, to offer additional charging options for our customers, as well as single-family homeowners and multi-family residential entities, to deploy home charging solutions. \\n\\nIn-App Upgrades \\n\\nAs our vehicles are capable of being updated remotely over-the-air, our customers may purchase additional paid options and features through the Tesla app or through the in-vehicle user interface. We expect that this functionality will also allow us to offer certain options and features on a subscription basis in the future. \\n\\nEnergy Generation and Storage \\n\\nWe market and sell our solar and energy storage products to residential, commercial and industrial customers and utilities through a variety of channels, including through our website, stores and galleries, as well as through our network of channel partners, and in the case of some commercial customers, through PPA transactions. We emphasize simplicity, standardization and accessibility to make it easy and cost-effective for customers to adopt clean energy, while reducing our customer acquisition costs. \\n\\nService and Warranty \\n\\nAutomotive \\n\\nService \\n\\nWe provide service for our electric vehicles at our company-owned service locations and through Tesla Mobile Service technicians who perform work remotely at customers&#8217; homes or other locations. Servicing the vehicles ourselves allows us to identify problems and implement solutions and improvements faster than traditional automobile manufacturers and their dealer networks. The connectivity of our vehicles also allows us to diagnose and remedy many problems remotely and proactively. \\n\\nVehicle Limited Warranties and Extended Service Plans \\n\\nWe provide a manufacturer&#8217;s limited warranty on all new and used Tesla vehicles we sell directly to consumers, which may include limited warranties on certain components, specific types of damage or battery capacity retention. We also currently offer optional extended service plans that provide coverage beyond the new vehicle limited warranties for certain models in specified regions. \\n\\nEnergy Generation and Storage \\n\\nWe provide service and repairs to our energy product customers, including under warranty where applicable. We generally provide manufacturer&#8217;s limited warranties with our energy storage products and offer certain extended limited warranties that are available at the time of purchase of the system. If we install a system, we also provide certain limited warranties on our installation workmanship. \\n\\nFor retrofit solar energy systems, we provide separate limited warranties for workmanship and against roof leaks, and for Solar Roof, we also provide limited warranties for defects and weatherization. For components not manufactured by us, we generally pass-through the applicable manufacturers&#8217; warranties. \\n\\nAs part of our solar energy system and energy storage contracts, we may provide the customer with performance guarantees that commit that the underlying system will meet or exceed the minimum energy generation or performance requirements specified in the contract. \\n\\nFinancial Services \\n\\nAutomotive \\n\\nPurchase Financing and Leases \\n\\nWe offer leasing and/or loan financing arrangements for our vehicles in certain jurisdictions in North America, Europe and Asia ourselves and through various financial institutions. Under certain of such programs, we have provided resale value guarantees or buyback guarantees that may obligate us to cover a resale loss up to a certain limit or repurchase the subject vehicles at pre-determined values. \\n\\nInsurance \\n\\nIn 2021, we launched our insurance product using real-time driving behavior in select states, which offers rates that are often better than other alternatives and promotes safer driving. Our insurance products are currently available in 12 states and we plan to expand the markets in which we offer insurance products, as part of our ongoing effort to decrease the total cost of ownership for our customers. \\n\\nEnergy Generation and Storage \\n\\nWe offer certain financing options to our solar customers, which enable the customer to purchase and own a solar energy system, Solar Roof or integrated solar and Powerwall system. Our solar PPAs, offered primarily to commercial customers, charge a fee per kilowatt-hour based on the amount of electricity produced by our solar energy systems. \\n\\nManufacturing \\n\\nWe currently have manufacturing facilities in the U.S. in Northern California, in Buffalo, New York, Gigafactory New York; in Austin, Texas, Gigafactory Texas and near Reno, Nevada, Gigafactory Nevada. At these facilities, we manufacture and assemble, among other things, vehicles, certain vehicle parts and components, such as our battery packs and battery cells, energy storage components and solar products and components. \\n\\nInternationally, we also have manufacturing facilities in China (Gigafactory Shanghai) and Germany (Gigafactory Berlin-Brandenburg), which allows us to increase the affordability of our vehicles for customers in local markets by reducing transportation and manufacturing costs and eliminating the impact of unfavorable tariffs. In March 2023, we announced the location of our next Gigafactory in Monterrey, Mexico. Generally, we continue to expand production capacity at our existing facilities. We also intend to further increase cost-competitiveness in our significant markets by strategically adding local manufacturing. \\n\\nSupply Chain \\n\\nOur products use thousands of parts that are sourced from hundreds of suppliers across the world. We have developed close relationships with vendors of key parts such as battery cells, electronics and complex vehicle assemblies. Certain components purchased from these suppliers are shared or are similar across many product lines, allowing us to take advantage of pricing efficiencies from economies of scale. \\n\\nAs is the case for some automotive companies, some of our procured components and systems are sourced from single suppliers. Where multiple sources are available for certain key components, we work to qualify multiple suppliers for them where it is sensible to do so in order to minimize potential production risks due to disruptions in their supply. We also mitigate risk by maintaining safety stock for key parts and assemblies and die banks for components with lengthy procurement lead times. \\n\\nOur products use various raw materials including aluminum, steel, cobalt, lithium, nickel and copper. Pricing for these materials is governed by market conditions and may fluctuate due to various factors outside of our control, such as supply and demand and market speculation. We strive to execute long-term supply contracts for such materials at competitive pricing when feasible, and we currently believe that we have adequate access to raw materials supplies to meet the needs of our operations. \\n\\nGovernmental Programs, Incentives and Regulations \\n\\nGlobally, the ownership of our products by our customers is impacted by various government credits, incentives, and policies. Our business and products are also subject to numerous governmental regulations that vary among jurisdictions. \\n\\nThe operation of our business is also impacted by various government programs, incentives, and other arrangements. See Note 2, Summary of Significant Accounting Policies , to the consolidated financial statements included elsewhere in this Annual Report on Form 10-K for further details. \\n\\nPrograms and Incentives \\n\\nInflation Reduction Act \\n\\nOn August 16, 2022, the Inflation Reduction Act of 2022 (&#8220;IRA&#8221;) was enacted into law and is effective for taxable years beginning after December 31, 2022, and remains subject to future guidance releases. The IRA includes multiple incentives to promote clean energy, electric vehicles, battery and energy storage manufacture or purchase, including through providing tax credits to consumers. For example, qualifying Tesla customers may receive up to $7,500 in federal tax credits for the purchase of qualified electric vehicles in the U.S. through 2032. \\n\\nAutomotive Regulatory Credits \\n\\nWe earn tradable credits in the operation of our business under various regulations related to zero-emission vehicles (&#8220;ZEVs&#8221;), greenhouse gas, fuel economy and clean fuel. We sell these credits to other regulated entities who can use the credits to comply with emission standards and other regulatory requirements. Sales of these credits are recognized within automotive regulatory credits revenue in our consolidated statements of operations included elsewhere in this Annual Report on Form 10-K. \\n\\nEnergy Storage System Incentives and Policies \\n\\nWhile the regulatory regime for energy storage projects is still under development, there are various policies, incentives and financial mechanisms at the federal, state and local levels that support the adoption of energy storage. \\n\\nFor example, energy storage systems that are charged using solar energy may be eligible for the solar energy-related U.S. federal tax credits described below. The Federal Energy Regulatory Commission (&#8220;FERC&#8221;) has also taken steps to enable the participation of energy storage in wholesale energy markets. In addition, California and a number of other states have adopted procurement targets for energy storage, and behind-the-meter energy storage systems qualify for funding under the California Self Generation Incentive Program. Our customers primarily benefit directly under these programs. In certain instances our customers may transfer such credits to us as contract consideration. In such transactions, they are included as a component of energy generation and storage revenues in our consolidated statements of operations included elsewhere in this Annual Report on Form 10-K. \\n\\nPursuant to the IRA, under Sections 48, 48E and 25D of the Internal Revenue Code (&#8221;IRC&#8221;), standalone energy storage technology is eligible for a tax credit between 6% and 50% of qualified expenditures, regardless of the source of energy, which may be claimed by our customers for storage systems they purchase or by us for arrangements where we own the systems. These tax credits are primarily for the benefit of our customers and are currently scheduled to phase-out starting in 2032 or later. \\n\\nSolar Energy System Incentives and Policies \\n\\nU.S. federal, state and local governments have established various policies, incentives and financial mechanisms to reduce the cost of solar energy and to accelerate the adoption of solar energy. These incentives include tax credits, cash grants, tax abatements and rebates. \\n\\nIn particular, pursuant to the IRA, Sections 48, 48E and 25D of the IRC provides a tax credit between 6% and 70% of qualified commercial or residential expenditures for solar energy systems, which may be claimed by our customers for systems they purchase, or by us for arrangements where we own the systems for properties that meet statutory requirements. These tax credits are primarily for the direct benefit of our customers and are currently scheduled to phase-out starting in 2032 or later. \\n\\nRegulations \\n\\nVehicle Safety and Testing \\n\\nIn the U.S., our vehicles are subject to regulation by the National Highway Traffic Safety Administration (&#8220;NHTSA&#8221;), including all applicable Federal Motor Vehicle Safety Standards (&#8220;FMVSS&#8221;) and the NHTSA bumper standard. Numerous FMVSS apply to our vehicles, such as crash-worthiness and occupant protection requirements. Our current vehicles fully comply and we expect that our vehicles in the future will fully comply with all applicable FMVSS with limited or no exemptions, however, FMVSS are subject to change from time to time. As a manufacturer, we must self-certify that our vehicles meet all applicable FMVSS and the NHTSA bumper standard, or otherwise are exempt, before the vehicles may be imported or sold in the U.S. \\n\\nWe are also required to comply with other federal laws administered by NHTSA, including the Corporate Average Fuel Economy standards, Theft Prevention Act requirements, labeling requirements and other information provided to customers in writing, Early Warning Reporting requirements regarding warranty claims, field reports, death and injury reports and foreign recalls, a Standing General Order requiring reports regarding crashes involving vehicles equipped with advanced driver assistance systems, and additional requirements for cooperating with compliance and safety investigations and recall reporting. The U.S. Automobile Information and Disclosure Act also requires manufacturers of motor vehicles to disclose certain information regarding the manufacturer&#8217;s suggested retail price, optional equipment and pricing. In addition, federal law requires inclusion of fuel economy ratings, as determined by the U.S. Department of Transportation and the Environmental Protection Agency (the &#8220;EPA&#8221;), and New Car Assessment Program ratings as determined by NHTSA, if available. \\n\\nOur vehicles sold outside of the U.S. are subject to similar foreign compliance, safety, environmental and other regulations. Many of those regulations are different from those applicable in the U.S. and may require redesign and/or retesting. Some of those regulations impact or prevent the rollout of new vehicle features. \\n\\nSelf-Driving Vehicles \\n\\nGenerally, laws pertaining to self-driving vehicles are evolving globally, and in some cases may create restrictions on features or vehicle designs that we develop. While there are currently no federal U.S. regulations pertaining specifically to self-driving vehicles or self-driving equipment, NHTSA has published recommended guidelines on self-driving vehicles, apart from the FMVSS and manufacturer reporting obligations, and retains the authority to investigate and/or take action on the safety or compliance of any vehicle, equipment or features operating on public roads. Certain U.S. states also have legal restrictions on the operation, registration or licensure of self-driving vehicles, and many other states are considering them. This regulatory patchwork increases the legal complexity with respect to self-driving vehicles in the U.S. \\n\\nIn markets that follow the regulations of the United Nations Economic Commission for Europe (&#8220; ECE markets &#8221;), some requirements restrict the design of advanced driver-assistance or self-driving features, which can compromise or prevent their use entirely. Other applicable laws, both current and proposed, may hinder the path and timeline to introducing self-driving vehicles for sale and use in the markets where they apply. \\n\\nOther key markets, including China, continue to consider self-driving regulation. Any implemented regulations may differ materially from the U.S. and ECE markets, which may further increase the legal complexity of self-driving vehicles and limit or prevent certain features. \\n\\nAutomobile Manufacturer and Dealer Regulation \\n\\nIn the U.S., state laws regulate the manufacture, distribution, sale and service of automobiles, and generally require motor vehicle manufacturers and dealers to be licensed in order to sell vehicles directly to residents. Certain states have asserted that the laws in such states do not permit automobile manufacturers to be licensed as dealers or to act in the capacity of a dealer, or that they otherwise restrict a manufacturer&#8217;s ability to deliver or perform warranty repairs on vehicles. To sell vehicles to residents of states where we are not licensed as a dealer, we generally conduct the sale out of the state. In certain such states, we have opened &#8220;galleries&#8221; that serve an educational purpose and where sales may not occur. \\n\\nSome automobile dealer trade associations have both challenged the legality of our operations in court and used administrative and legislative processes to attempt to prohibit or limit our ability to operate existing stores or expand to new locations. Certain dealer associations have also actively lobbied state licensing agencies and legislators to interpret existing laws or enact new laws in ways not favorable to our ownership and operation of our own retail and service locations. We expect such challenges to continue, and we intend to actively fight any such efforts. \\n\\nBattery Safety and Testing \\n\\nOur battery packs are subject to various U.S. and international regulations that govern transport of &#8220;dangerous goods,&#8221; defined to include lithium-ion batteries, which may present a risk in transportation. We conduct testing to demonstrate our compliance with such regulations. \\n\\nWe use lithium-ion cells in our high voltage battery packs in our vehicles and energy storage products. The use, storage and disposal of our battery packs are regulated under existing laws and are the subject of ongoing regulatory changes that may add additional requirements in the future. We have agreements with third party battery recycling companies to recycle our battery packs, and we are also piloting our own recycling technology. \\n\\nSolar Energy&#8212;General \\n\\nWe are subject to certain state and federal regulations applicable to solar and battery storage providers and sellers of electricity. To operate our systems, we enter into standard interconnection agreements with applicable utilities. Sales of electricity and non-sale equipment leases by third parties, such as our leases and PPAs, have faced regulatory challenges in some states and jurisdictions. \\n\\nSolar Energy&#8212;Net Metering \\n\\nMost states in the U.S. make net energy metering, or net metering, available to solar customers. Net metering typically allows solar customers to interconnect their solar energy systems to the utility grid and offset their utility electricity purchases by receiving a bill credit for excess energy generated by their solar energy system that is exported to the grid. In certain jurisdictions, regulators or utilities have reduced or eliminated the benefit available under net metering or have proposed to do so. \\n\\nCompetition \\n\\nAutomotive \\n\\nThe worldwide automotive market is highly competitive and we expect it will become even more competitive in the future as a significant and growing number of established and new automobile manufacturers, as well as other companies, have entered, or are reported to have plans to enter the electric vehicle market. \\n\\nWe believe that our vehicles compete in the market based on both their traditional segment classification as well as their propulsion technology. For example, Cybertruck competes with other pickup trucks, Model S and Model X compete primarily with premium sedans and premium SUVs and Model 3 and Model Y compete with small to medium-sized sedans and compact SUVs, which are extremely competitive markets. Competing products typically include internal combustion vehicles from more established automobile manufacturers; however, many established and new automobile manufacturers have entered or have announced plans to enter the market for electric and other alternative fuel vehicles. Overall, we believe these announcements and vehicle introductions, including the introduction of electric vehicles into rental car company fleets, promote the development of the electric vehicle market by highlighting the attractiveness of electric vehicles relative to the internal combustion vehicle. Many major automobile manufacturers have electric vehicles available today in major markets including the U.S., China and Europe, and other current and prospective automobile manufacturers are also developing electric vehicles. In addition, several manufacturers offer hybrid vehicles, including plug-in versions. \\n\\nWe believe that there is also increasing competition for our vehicle offerings as a platform for delivering self-driving technologies, charging solutions and other features and services, and we expect to compete in this developing market through continued progress on our Autopilot, FSD and neural network capabilities, Supercharger network and our infotainment offerings. \\n\\nEnergy Generation and Storage \\n\\nEnergy Storage Systems \\n\\nThe market for energy storage products is also highly competitive, and both established and emerging companies have introduced products that are similar to our product portfolio or that are alternatives to the elements of our systems. We compete with these companies based on price, energy density and efficiency. We believe that the specifications and features of our products, our strong brand and the modular, scalable nature of our energy storage products give us a competitive advantage in our markets. \\n\\nSolar Energy Systems \\n\\nThe primary competitors to our solar energy business are the traditional local utility companies that supply energy to our potential customers. We compete with these traditional utility companies primarily based on price and the ease by which customers can switch to electricity generated by our solar energy systems. We also compete with solar energy companies that provide products and services similar to ours. Many solar energy companies only install solar energy systems, while others only provide financing for these installations. We believe we have a significant expansion opportunity with our offerings and that the regulatory environment is increasingly conducive to the adoption of renewable energy systems. \\n\\nIntellectual Property \\n\\nWe place a strong emphasis on our innovative approach and proprietary designs which bring intrinsic value and uniqueness to our product portfolio. As part of our business, we seek to protect the underlying intellectual property rights of these innovations and designs such as with respect to patents, trademarks, copyrights, trade secrets, confidential information and other measures, including through employee and third-party nondisclosure agreements and other contractual arrangements. For example, we place a high priority on obtaining patents to provide the broadest and strongest possible protection to enable our freedom to operate our innovations and designs across all of our products and technologies as well as to protect and defend our product portfolio. We have also adopted a patent policy in which we irrevocably pledged that we will not initiate a lawsuit against any party for infringing our patents through activity relating to electric vehicles or related equipment for so long as such party is acting in good faith. We made this pledge in order to encourage the advancement of a common, rapidly-evolving platform for electric vehicles, thereby benefiting ourselves, other companies making electric vehicles and the world. \\n\\nEnvironmental, Social and Governance (ESG) and Human Capital Resources \\n\\nESG \\n\\nThe very purpose of Tesla's existence is to accelerate the world's transition to sustainable energy. We believe the world cannot reduce carbon emissions without addressing both energy generation and consumption, and we are designing and manufacturing a complete energy and transportation ecosystem to achieve this goal. As we expand, we are building each new factory to be more efficient and sustainably designed than the previous one, including with respect to per-unit waste reduction and resource consumption, including water and energy usage. We are focused on further enhancing sustainability of operations outside of our direct control, including reducing the carbon footprint of our supply chain. \\n\\nWe are committed to sourcing only responsibly produced materials, and our suppliers are required to provide evidence of management systems that ensure social, environmental and sustainability best practices in their own operations, as well as to demonstrate a commitment to responsible sourcing into their supply chains. We have a zero-tolerance policy when it comes to child or forced labor and human trafficking by our suppliers and we look to the Organization for Economic Co-operation and Development Due Diligence Guidelines to inform our process and use feedback from our internal and external stakeholders to find ways to continually improve. We are also driving safety in our own factories by focusing on worker engagement. Our incidents per vehicle continue to drop even as our production volumes increase. We also strive to be an employer of choice by offering compelling, impactful jobs with best in-industry benefits. \\n\\nWe believe that sound corporate governance is critical to helping us achieve our goals, including with respect to ESG. We continue to evolve a governance framework that exercises appropriate oversight of responsibilities at all levels throughout the company and manages its affairs consistent with high principles of business ethics. Our ESG Sustainability Council is made up of leaders from across our company, and regularly presents to our Board of Directors, which oversees our ESG impacts, initiatives and priorities. \\n\\nHuman Capital Resources \\n\\nA competitive edge for Tesla is its ability to attract and retain high quality employees. During the past year, Tesla made substantial investments in its workforce, further strengthening its standing as one of the most desirable and innovative companies to work for. As of December 31, 2023, our employee headcount worldwide was 140,473. \\n\\nWe have created an environment that fosters growth opportunities, and as of this report, nearly two-thirds (65%) of our managers were promoted from an internal, non-manager position, and 43% of our management employees have been with Tesla for more than five years. Tesla&#8217;s growth of 35% over the past two years has offered internal career development to our employees as well as the ability to make a meaningful contribution to a sustainable future. \\n\\nWe are able to retain our employees, in part, not only because employees can enjoy ownership in Tesla through stock (of which 89% have been given the opportunity to), but because we also provide them with excellent health benefits such as free counseling, paid parental leave, paid time off and zero-premium medical plan options that are made available on the first day of employment. \\n\\nWe recognize the positive impact that leaders can have on their teams and offer fundamental skills training and continuous development to all leaders through various programs globally. \\n\\nWe don&#8217;t stop there. Tesla has several other programs strategically designed to increase paths for greater career opportunity such as: \\n\\n&#8226; Technician Trainee (Service) &#8211; &#8239; The Tesla Technician Trainee Program provides on-the-job automotive maintenance training at Tesla, resulting in an industry certification. Targeted at individuals with limited experience, whether in industry or vocational schools, the program prepares trainees for employment as technicians. In 2023, we hired over 1,900 Technician Trainees across the U.S., Germany and China. \\n\\n&#8226; START (Manufacturing and Service) &#8211; Tesla START is an intensive training program that complements the Technician Trainee program and equips individuals with the skills needed for a successful technician role at Tesla. We have partnered with colleges and technical academies to launch Tesla START in the U.S., United Kingdom and Germany. In 2023, we hired over 350 trainees for manufacturing and service roles through this program, providing an opportunity to transition into full-time employment . \\n\\n&#8226; Internships &#8211; Annually, Tesla hires over 6,000 university and college students from around the world. We recruit from diverse student organizations and campuses, seeking top talent passionate about our mission. Our interns engage in meaningful work from day one, and we often offer them full-time positions post-internship. \\n\\n&#8226; Military Fellowship and Transition Programs &#8211; &#8239;The Military Fellowship and Transition Programs are designed to offer exiting military service members in the U.S. and Europe with career guidance on transitioning into the civil workforce. We partner with the career transition services of European Defence Ministries across five countries, as well as the U.S. Chamber of Commerce&#8217;s Hire our Heroes. These programs aim to convert high-performing individuals to full-time roles and create a veteran talent pipeline. \\n\\n&#8226; Apprenticeships &#8211; Tesla Apprenticeships are offered globally, providing academic and on-the-job training to prepare specialists in skilled trades. Apprentices will complete between one to four years of on-the-job training. Apprentice programs have seen skilled trade hires across the U.S., Australia, Hong Kong, Korea and Germany. \\n\\n&#8226; Manufacturing Development Program &#8211;&#8239;Tesla's manufacturing pathway program is designed to provide graduating high school seniors with the financial resources, coursework and experience they need to start a successful manufacturing career at Tesla. We hired 373 graduates through this program in 2023, and our goal in 2024 is grow this program to over 600 students annually across our Fremont Factory, Gigafactory Nevada, Gigafactory Texas and Gigafactory New York. \\n\\n&#8226; Engineering Development Program &#8211;&#8239;Launched in January 2024, this program targets recent college and university graduates for specialized engineering fields. In collaboration with Austin Community College, the program educates early-career engineers in controls engineering, enhancing their knowledge of high-demand technologies for U.S. manufacturing. \\n\\nWe will continue to expand the opportunities for our employees to add skills and develop professionally with a new Employee Educational Assistance Program launching in the U.S. in the spring of 2024 to help employees pursue select certificates or degrees. With virtual, self-paced education options available, employees can pursue a new path or expand their knowledge while continuing to grow their career. \\n\\nAt Tesla, our employees show up passionate about making a difference in the world and for each other. We remain unwavering in our demand that our factories, offices, stores and service centers are places where our employees feel respected and appreciated. Our policies are designed to promote fairness and respect for everyone. We hire, evaluate and promote employees based on their skills and performance. Everyone is expected to be trustworthy, demonstrate excellence in their performance and collaborate with others. With this in mind, we will not tolerate certain behaviors. These include harassment, retaliation, violence, intimidation and discrimination of any kind on the basis of race, color, religion, national origin, gender, sexual orientation, gender identity, gender expression, age, disability or veteran status. \\n\\nAnti-harassment training is conducted on day one of new hire orientation for all employees and reoccurring for leaders. In addition, we run various leadership development programs throughout the year aimed at enhancing leaders&#8217; skills, and in particular, helping them to understand how to appropriately respond to and address employee concerns. \\n\\nEmployees are encouraged to speak up both in regard to misconduct and safety concerns and can do so by contacting the integrity line, submitting concerns through our Take Charge process, or notifying their Human Resource Partner or any member of management. Concerns are reviewed in accordance with established protocols by investigators with expertise, who also review for trends and outcomes for remediation and appropriate controls. Responding to questions timely is key so Human Resource Partners for each functional area are visible throughout facilities and are actively involved in driving culture and engagement alongside business leaders. \\n\\nAvailable Information \\n\\nWe file or furnish periodic reports and amendments thereto, including our Annual Reports on Form 10-K, our Quarterly Reports on Form 10-Q and Current Reports on Form 8-K, proxy statements and other information with the SEC. In addition, the SEC maintains a website ( www.sec.gov ) that contains reports, proxy and information statements, and other information regarding issuers that file electronically. Our website is located at www.tesla.com , and our reports, amendments thereto, proxy statements and other information are also made available, free of charge, on our investor relations website at ir.tesla.com as soon as reasonably practicable after we electronically file or furnish such information with the SEC. The information posted on our website is not incorporated by reference into this Annual Report on Form 10-K. \\n\\n\""
      ]
     },
     "execution_count": 133,
     "metadata": {},
     "output_type": "execute_result"
    }
   ],
   "source": [
    "tsla_item1"
   ]
  },
  {
   "cell_type": "code",
   "execution_count": 134,
   "metadata": {},
   "outputs": [
    {
     "data": {
      "text/plain": [
       "\" ITEM 1. BUSINESS Overview We design, develop, manufacture, sell and lease high-performance fully electric vehicles and energy generation and storage systems, and offer services related to our products. We generally sell our products directly to customers, and continue to grow our customer-facing infrastructure through a global network of vehicle showrooms and service centers, Mobile Service, body shops, Supercharger stations and Destination Chargers to accelerate the widespread adoption of our products. We emphasize performance, attractive styling and the safety of our users and workforce in the design and manufacture of our products and are continuing to develop full self-driving technology for improved safety. We also strive to lower the cost of ownership for our customers through continuous efforts to reduce manufacturing costs and by offering financial and other services tailored to our products. Our mission is to accelerate the world&#8217;s transition to sustainable energy. We believe that this mission, along with our engineering expertise, vertically integrated business model and focus on user experience differentiate us from other companies. Segment Information We operate as two reportable segments: (i) automotive and (ii) energy generation and storage. The automotive segment includes the design, development, manufacturing, sales and leasing of high-performance fully electric vehicles as well as sales of automotive regulatory credits. Additionally, the automotive segment also includes services and other, which includes sales of used vehicles, non-warranty after-sales vehicle services, body shop and parts, paid Supercharging, vehicle insurance revenue and retail merchandise. The energy generation and storage segment includes the design, manufacture, installation, sales and leasing of solar energy generation and energy storage products and related services and sales of solar energy systems incentives. Our Products and Services Automotive We currently manufacture five different consumer vehicles &#8211; the Model 3, Y, S, X and Cybertruck. Model 3 is a four-door mid-size sedan that we designed for manufacturability with a base price for mass-market appeal. Model Y is a compact sport utility vehicle (&#8220;SUV&#8221;) built on the Model 3 platform with seating for up to seven adults. Model S is a four-door full-size sedan and Model X is a mid-size SUV with seating for up to seven adults. Model S and Model X feature the highest performance characteristics and longest ranges that we offer in a sedan and SUV, respectively. In November 2023, we entered the consumer pickup truck market with first deliveries of the Cybertruck, a full-size electric pickup truck with a stainless steel exterior that has the utility and strength of a truck while featuring the speed of a sports car. In 2022, we also began early production and deliveries of a commercial electric vehicle, the Tesla Semi. We have planned electric vehicles to address additional vehicle markets, and to continue leveraging developments in our proprietary Full Self-Driving (&#8220;FSD&#8221;) Capability features, battery cell and other technologies. Energy Generation and Storage Energy Storage Products Powerwall and Megapack are our lithium-ion battery energy storage products. Powerwall, which we sell directly to customers, as well as through channel partners, is designed to store energy at a home or small commercial facility. Megapack is an energy storage solution for commercial, industrial, utility and energy generation customers, multiple of which may be grouped together to form larger installations of gigawatt hours (&#8220;GWh&#8221;) or greater capacity. We also continue to develop software capabilities for remotely controlling and dispatching our energy storage systems across a wide range of markets and applications, including through our real-time energy control and optimization platforms. Solar Energy Offerings We sell retrofit solar energy systems to customers and channel partners and also make them available through power purchase agreement (&#8220;PPA&#8221;) arrangements. We purchase most of the components for our retrofit solar energy systems from multiple sources to ensure competitive pricing and adequate supply. We also design and manufacture certain components for our solar energy products. We sell our Solar Roof, which combines premium glass roof tiles with energy generation, directly to customers, as well as through channel customers. We continue to improve our installation capability and efficiency, including through collaboration with real estate developers and builders on new homes. Technology Automotive Battery and Powertrain Our core vehicle technology competencies include powertrain engineering and manufacturing and our ability to design vehicles that utilize the unique advantages of an electric powertrain. We have designed our proprietary powertrain systems to be adaptable, efficient, reliable and cost-effective while withstanding the rigors of an automotive environment. We offer dual motor powertrain vehicles, which use two electric motors to maximize traction and performance in an all-wheel drive configuration, as well as vehicle powertrain technology featuring three electric motors for further increased performance in certain versions of Model S and Model X, Cybertruck and the Tesla Semi. We maintain extensive testing and R&#38;D capabilities for battery cells, packs and systems, and have built an expansive body of knowledge on lithium-ion cell chemistry types and performance characteristics. In order to enable a greater supply of cells for our products with higher energy density at lower costs, we have developed a new proprietary lithium-ion battery cell and improved manufacturing processes. Vehicle Control and Infotainment Software The performance and safety systems of our vehicles and their battery packs utilize sophisticated control software. Control systems in our vehicles optimize performance, customize vehicle behavior, manage charging and control all infotainment functions. We develop almost all of this software, including most of the user interfaces, internally and update our vehicles&#8217; software regularly through over-the-air updates. Self-Driving Development and Artificial Intelligence We have expertise in developing technologies, systems and software to enable self-driving vehicles using primarily vision-based technologies. Our FSD Computer runs our neural networks in our vehicles, and we are also developing additional computer hardware to better enable the massive amounts of field data captured by our vehicles to continually train and improve these neural networks for real-world performance. Currently, we offer in our vehicles certain advanced driver assist systems under our Autopilot and FSD Capability options. Although at present the driver is ultimately responsible for controlling the vehicle, our systems provide safety and convenience functionality that relieves drivers of the most tedious and potentially dangerous aspects of road travel much like the system that airplane pilots use, when conditions permit. As with other vehicle systems, we improve these functions in our vehicles over time through over-the-air updates. We intend to establish in the future an autonomous Tesla ride-hailing network, which we expect would also allow us to access a new customer base even as modes of transportation evolve. We are also applying our artificial intelligence learnings from self-driving technology to the field of robotics, such as through Optimus, a robotic humanoid in development, which is controlled by the same AI system. Energy Generation and Storage Energy Storage Products We leverage many of the component-level technologies from our vehicles in our energy storage products. By taking a modular approach to the design of battery systems, we can optimize manufacturing capacity of our energy storage products. Additionally, our expertise in power electronics enables our battery systems to interconnect with electricity grids while providing fast-acting systems for power injection and absorption. We have also developed software to remotely control and dispatch our energy storage systems. Solar Energy Systems We have engineered Solar Roof over numerous iterations to combine aesthetic appeal and durability with power generation. The efficiency of our solar energy products is aided by our own solar inverter, which incorporates our power electronics technologies. We designed both products to integrate with Powerwall. Design and Engineering Automotive We have established significant in-house capabilities in the design and test engineering of electric vehicles and their components and systems. Our team has significant experience in computer-aided design as well as durability, strength and crash test simulations, which reduces the product development time of new models. We have also achieved complex engineering feats in stamping, casting and thermal systems, and developed a method to integrate batteries directly with vehicle body structures without separate battery packs to optimize manufacturability, weight, range and cost characteristics. We are also expanding our manufacturing operations globally while taking action to localize our vehicle designs and production for particular markets, including country-specific market demands and factory optimizations for local workforces. As we increase our capabilities, particularly in the areas of automation, die-making and line-building, we are also making strides in the simulations modeling these capabilities prior to construction. Energy Generation and Storage Our expertise in electrical, mechanical, civil and software engineering allows us to design, engineer, manufacture and install energy generating and storage products and components, including at the residential through utility scale. For example, the modular design of our Megapack utility-scale battery line is intended to significantly reduce the amount of assembly required in the field. We also customize solutions including our energy storage products, solar energy systems and/or Solar Roof for customers to meet their specific needs. Sales and Marketing Historically, we have been able to achieve sales without traditional advertising and at relatively low marketing costs. We continue to monitor our public narrative and brand, and tailor our marketing efforts accordingly, including through investments in customer education and advertising as necessary. Automotive Direct Sales Our vehicle sales channels currently include our website and an international network of company-owned stores. In some jurisdictions, we also have galleries to educate and inform customers about our products, but such locations do not transact in the sale of vehicles. We believe this infrastructure enables us to better control costs of inventory, manage warranty service and pricing, educate consumers about electric vehicles, make our vehicles more affordable, maintain and strengthen the Tesla brand and obtain rapid customer feedback. We reevaluate our sales strategy both globally and at a location-by-location level from time to time to optimize our sales channels. However, sales of vehicles in the automobile industry tend to be cyclical in many markets, which may expose us to volatility from time to time. Used Vehicle Sales Our used vehicle business supports new vehicle sales by integrating the trade-in of a customer&#8217;s existing Tesla or non-Tesla vehicle with the sale of a new or used Tesla vehicle. The Tesla and non-Tesla vehicles we acquire as trade-ins are subsequently remarketed, either directly by us or through third parties. We also remarket used Tesla vehicles acquired from other sources including lease returns. Public Charging We have a growing global network of Tesla Superchargers, which are our industrial-grade, high-speed vehicle chargers. Where possible, we co-locate Superchargers with our solar and energy storage systems to reduce costs and promote renewable power. Supercharger stations are typically placed along well-traveled routes and in and around dense city centers to allow vehicle owners the ability to enjoy quick, reliable charging along an extensive network with convenient stops. Use of the Supercharger network either requires payment of a fee or is free under certain sales programs. In November 2021, we began to offer Supercharger access to non-Tesla vehicles in certain locations in support of our mission to accelerate the world&#8217;s transition to sustainable energy, and in November 2022, we opened up our previously proprietary charging connector as the North American Charging Standard (NACS). This enables all electric vehicles and charging stations to interoperate &#8212; which makes charging easier and more efficient for everyone and advances our mission to accelerate the world&#8217;s transition to sustainable energy. Following this, a number of major automotive companies announced their adoption of NACS, with their access to the Supercharger network beginning in phases in 2024 and their production of NACS vehicles beginning no later than 2025. We also engaged SAE International to govern NACS as an industry standard, now named J3400. We continue to monitor and increase our network of Tesla Superchargers in anticipation of future demand. We also work with a wide variety of hospitality, retail and public destinations, as well as businesses with commuting employees, to offer additional charging options for our customers, as well as single-family homeowners and multi-family residential entities, to deploy home charging solutions. In-App Upgrades As our vehicles are capable of being updated remotely over-the-air, our customers may purchase additional paid options and features through the Tesla app or through the in-vehicle user interface. We expect that this functionality will also allow us to offer certain options and features on a subscription basis in the future. Energy Generation and Storage We market and sell our solar and energy storage products to residential, commercial and industrial customers and utilities through a variety of channels, including through our website, stores and galleries, as well as through our network of channel partners, and in the case of some commercial customers, through PPA transactions. We emphasize simplicity, standardization and accessibility to make it easy and cost-effective for customers to adopt clean energy, while reducing our customer acquisition costs. Service and Warranty Automotive Service We provide service for our electric vehicles at our company-owned service locations and through Tesla Mobile Service technicians who perform work remotely at customers&#8217; homes or other locations. Servicing the vehicles ourselves allows us to identify problems and implement solutions and improvements faster than traditional automobile manufacturers and their dealer networks. The connectivity of our vehicles also allows us to diagnose and remedy many problems remotely and proactively. Vehicle Limited Warranties and Extended Service Plans We provide a manufacturer&#8217;s limited warranty on all new and used Tesla vehicles we sell directly to consumers, which may include limited warranties on certain components, specific types of damage or battery capacity retention. We also currently offer optional extended service plans that provide coverage beyond the new vehicle limited warranties for certain models in specified regions. Energy Generation and Storage We provide service and repairs to our energy product customers, including under warranty where applicable. We generally provide manufacturer&#8217;s limited warranties with our energy storage products and offer certain extended limited warranties that are available at the time of purchase of the system. If we install a system, we also provide certain limited warranties on our installation workmanship. For retrofit solar energy systems, we provide separate limited warranties for workmanship and against roof leaks, and for Solar Roof, we also provide limited warranties for defects and weatherization. For components not manufactured by us, we generally pass-through the applicable manufacturers&#8217; warranties. As part of our solar energy system and energy storage contracts, we may provide the customer with performance guarantees that commit that the underlying system will meet or exceed the minimum energy generation or performance requirements specified in the contract. Financial Services Automotive Purchase Financing and Leases We offer leasing and/or loan financing arrangements for our vehicles in certain jurisdictions in North America, Europe and Asia ourselves and through various financial institutions. Under certain of such programs, we have provided resale value guarantees or buyback guarantees that may obligate us to cover a resale loss up to a certain limit or repurchase the subject vehicles at pre-determined values. Insurance In 2021, we launched our insurance product using real-time driving behavior in select states, which offers rates that are often better than other alternatives and promotes safer driving. Our insurance products are currently available in 12 states and we plan to expand the markets in which we offer insurance products, as part of our ongoing effort to decrease the total cost of ownership for our customers. Energy Generation and Storage We offer certain financing options to our solar customers, which enable the customer to purchase and own a solar energy system, Solar Roof or integrated solar and Powerwall system. Our solar PPAs, offered primarily to commercial customers, charge a fee per kilowatt-hour based on the amount of electricity produced by our solar energy systems. Manufacturing We currently have manufacturing facilities in the U.S. in Northern California, in Buffalo, New York, Gigafactory New York; in Austin, Texas, Gigafactory Texas and near Reno, Nevada, Gigafactory Nevada. At these facilities, we manufacture and assemble, among other things, vehicles, certain vehicle parts and components, such as our battery packs and battery cells, energy storage components and solar products and components. Internationally, we also have manufacturing facilities in China (Gigafactory Shanghai) and Germany (Gigafactory Berlin-Brandenburg), which allows us to increase the affordability of our vehicles for customers in local markets by reducing transportation and manufacturing costs and eliminating the impact of unfavorable tariffs. In March 2023, we announced the location of our next Gigafactory in Monterrey, Mexico. Generally, we continue to expand production capacity at our existing facilities. We also intend to further increase cost-competitiveness in our significant markets by strategically adding local manufacturing. Supply Chain Our products use thousands of parts that are sourced from hundreds of suppliers across the world. We have developed close relationships with vendors of key parts such as battery cells, electronics and complex vehicle assemblies. Certain components purchased from these suppliers are shared or are similar across many product lines, allowing us to take advantage of pricing efficiencies from economies of scale. As is the case for some automotive companies, some of our procured components and systems are sourced from single suppliers. Where multiple sources are available for certain key components, we work to qualify multiple suppliers for them where it is sensible to do so in order to minimize potential production risks due to disruptions in their supply. We also mitigate risk by maintaining safety stock for key parts and assemblies and die banks for components with lengthy procurement lead times. Our products use various raw materials including aluminum, steel, cobalt, lithium, nickel and copper. Pricing for these materials is governed by market conditions and may fluctuate due to various factors outside of our control, such as supply and demand and market speculation. We strive to execute long-term supply contracts for such materials at competitive pricing when feasible, and we currently believe that we have adequate access to raw materials supplies to meet the needs of our operations. Governmental Programs, Incentives and Regulations Globally, the ownership of our products by our customers is impacted by various government credits, incentives, and policies. Our business and products are also subject to numerous governmental regulations that vary among jurisdictions. The operation of our business is also impacted by various government programs, incentives, and other arrangements. See Note 2, Summary of Significant Accounting Policies , to the consolidated financial statements included elsewhere in this Annual Report on Form 10-K for further details. Programs and Incentives Inflation Reduction Act On August 16, 2022, the Inflation Reduction Act of 2022 (&#8220;IRA&#8221;) was enacted into law and is effective for taxable years beginning after December 31, 2022, and remains subject to future guidance releases. The IRA includes multiple incentives to promote clean energy, electric vehicles, battery and energy storage manufacture or purchase, including through providing tax credits to consumers. For example, qualifying Tesla customers may receive up to $7,500 in federal tax credits for the purchase of qualified electric vehicles in the U.S. through 2032. Automotive Regulatory Credits We earn tradable credits in the operation of our business under various regulations related to zero-emission vehicles (&#8220;ZEVs&#8221;), greenhouse gas, fuel economy and clean fuel. We sell these credits to other regulated entities who can use the credits to comply with emission standards and other regulatory requirements. Sales of these credits are recognized within automotive regulatory credits revenue in our consolidated statements of operations included elsewhere in this Annual Report on Form 10-K. Energy Storage System Incentives and Policies While the regulatory regime for energy storage projects is still under development, there are various policies, incentives and financial mechanisms at the federal, state and local levels that support the adoption of energy storage. For example, energy storage systems that are charged using solar energy may be eligible for the solar energy-related U.S. federal tax credits described below. The Federal Energy Regulatory Commission (&#8220;FERC&#8221;) has also taken steps to enable the participation of energy storage in wholesale energy markets. In addition, California and a number of other states have adopted procurement targets for energy storage, and behind-the-meter energy storage systems qualify for funding under the California Self Generation Incentive Program. Our customers primarily benefit directly under these programs. In certain instances our customers may transfer such credits to us as contract consideration. In such transactions, they are included as a component of energy generation and storage revenues in our consolidated statements of operations included elsewhere in this Annual Report on Form 10-K. Pursuant to the IRA, under Sections 48, 48E and 25D of the Internal Revenue Code (&#8221;IRC&#8221;), standalone energy storage technology is eligible for a tax credit between 6% and 50% of qualified expenditures, regardless of the source of energy, which may be claimed by our customers for storage systems they purchase or by us for arrangements where we own the systems. These tax credits are primarily for the benefit of our customers and are currently scheduled to phase-out starting in 2032 or later. Solar Energy System Incentives and Policies U.S. federal, state and local governments have established various policies, incentives and financial mechanisms to reduce the cost of solar energy and to accelerate the adoption of solar energy. These incentives include tax credits, cash grants, tax abatements and rebates. In particular, pursuant to the IRA, Sections 48, 48E and 25D of the IRC provides a tax credit between 6% and 70% of qualified commercial or residential expenditures for solar energy systems, which may be claimed by our customers for systems they purchase, or by us for arrangements where we own the systems for properties that meet statutory requirements. These tax credits are primarily for the direct benefit of our customers and are currently scheduled to phase-out starting in 2032 or later. Regulations Vehicle Safety and Testing In the U.S., our vehicles are subject to regulation by the National Highway Traffic Safety Administration (&#8220;NHTSA&#8221;), including all applicable Federal Motor Vehicle Safety Standards (&#8220;FMVSS&#8221;) and the NHTSA bumper standard. Numerous FMVSS apply to our vehicles, such as crash-worthiness and occupant protection requirements. Our current vehicles fully comply and we expect that our vehicles in the future will fully comply with all applicable FMVSS with limited or no exemptions, however, FMVSS are subject to change from time to time. As a manufacturer, we must self-certify that our vehicles meet all applicable FMVSS and the NHTSA bumper standard, or otherwise are exempt, before the vehicles may be imported or sold in the U.S. We are also required to comply with other federal laws administered by NHTSA, including the Corporate Average Fuel Economy standards, Theft Prevention Act requirements, labeling requirements and other information provided to customers in writing, Early Warning Reporting requirements regarding warranty claims, field reports, death and injury reports and foreign recalls, a Standing General Order requiring reports regarding crashes involving vehicles equipped with advanced driver assistance systems, and additional requirements for cooperating with compliance and safety investigations and recall reporting. The U.S. Automobile Information and Disclosure Act also requires manufacturers of motor vehicles to disclose certain information regarding the manufacturer&#8217;s suggested retail price, optional equipment and pricing. In addition, federal law requires inclusion of fuel economy ratings, as determined by the U.S. Department of Transportation and the Environmental Protection Agency (the &#8220;EPA&#8221;), and New Car Assessment Program ratings as determined by NHTSA, if available. Our vehicles sold outside of the U.S. are subject to similar foreign compliance, safety, environmental and other regulations. Many of those regulations are different from those applicable in the U.S. and may require redesign and/or retesting. Some of those regulations impact or prevent the rollout of new vehicle features. Self-Driving Vehicles Generally, laws pertaining to self-driving vehicles are evolving globally, and in some cases may create restrictions on features or vehicle designs that we develop. While there are currently no federal U.S. regulations pertaining specifically to self-driving vehicles or self-driving equipment, NHTSA has published recommended guidelines on self-driving vehicles, apart from the FMVSS and manufacturer reporting obligations, and retains the authority to investigate and/or take action on the safety or compliance of any vehicle, equipment or features operating on public roads. Certain U.S. states also have legal restrictions on the operation, registration or licensure of self-driving vehicles, and many other states are considering them. This regulatory patchwork increases the legal complexity with respect to self-driving vehicles in the U.S. In markets that follow the regulations of the United Nations Economic Commission for Europe (&#8220; ECE markets &#8221;), some requirements restrict the design of advanced driver-assistance or self-driving features, which can compromise or prevent their use entirely. Other applicable laws, both current and proposed, may hinder the path and timeline to introducing self-driving vehicles for sale and use in the markets where they apply. Other key markets, including China, continue to consider self-driving regulation. Any implemented regulations may differ materially from the U.S. and ECE markets, which may further increase the legal complexity of self-driving vehicles and limit or prevent certain features. Automobile Manufacturer and Dealer Regulation In the U.S., state laws regulate the manufacture, distribution, sale and service of automobiles, and generally require motor vehicle manufacturers and dealers to be licensed in order to sell vehicles directly to residents. Certain states have asserted that the laws in such states do not permit automobile manufacturers to be licensed as dealers or to act in the capacity of a dealer, or that they otherwise restrict a manufacturer&#8217;s ability to deliver or perform warranty repairs on vehicles. To sell vehicles to residents of states where we are not licensed as a dealer, we generally conduct the sale out of the state. In certain such states, we have opened &#8220;galleries&#8221; that serve an educational purpose and where sales may not occur. Some automobile dealer trade associations have both challenged the legality of our operations in court and used administrative and legislative processes to attempt to prohibit or limit our ability to operate existing stores or expand to new locations. Certain dealer associations have also actively lobbied state licensing agencies and legislators to interpret existing laws or enact new laws in ways not favorable to our ownership and operation of our own retail and service locations. We expect such challenges to continue, and we intend to actively fight any such efforts. Battery Safety and Testing Our battery packs are subject to various U.S. and international regulations that govern transport of &#8220;dangerous goods,&#8221; defined to include lithium-ion batteries, which may present a risk in transportation. We conduct testing to demonstrate our compliance with such regulations. We use lithium-ion cells in our high voltage battery packs in our vehicles and energy storage products. The use, storage and disposal of our battery packs are regulated under existing laws and are the subject of ongoing regulatory changes that may add additional requirements in the future. We have agreements with third party battery recycling companies to recycle our battery packs, and we are also piloting our own recycling technology. Solar Energy&#8212;General We are subject to certain state and federal regulations applicable to solar and battery storage providers and sellers of electricity. To operate our systems, we enter into standard interconnection agreements with applicable utilities. Sales of electricity and non-sale equipment leases by third parties, such as our leases and PPAs, have faced regulatory challenges in some states and jurisdictions. Solar Energy&#8212;Net Metering Most states in the U.S. make net energy metering, or net metering, available to solar customers. Net metering typically allows solar customers to interconnect their solar energy systems to the utility grid and offset their utility electricity purchases by receiving a bill credit for excess energy generated by their solar energy system that is exported to the grid. In certain jurisdictions, regulators or utilities have reduced or eliminated the benefit available under net metering or have proposed to do so. Competition Automotive The worldwide automotive market is highly competitive and we expect it will become even more competitive in the future as a significant and growing number of established and new automobile manufacturers, as well as other companies, have entered, or are reported to have plans to enter the electric vehicle market. We believe that our vehicles compete in the market based on both their traditional segment classification as well as their propulsion technology. For example, Cybertruck competes with other pickup trucks, Model S and Model X compete primarily with premium sedans and premium SUVs and Model 3 and Model Y compete with small to medium-sized sedans and compact SUVs, which are extremely competitive markets. Competing products typically include internal combustion vehicles from more established automobile manufacturers; however, many established and new automobile manufacturers have entered or have announced plans to enter the market for electric and other alternative fuel vehicles. Overall, we believe these announcements and vehicle introductions, including the introduction of electric vehicles into rental car company fleets, promote the development of the electric vehicle market by highlighting the attractiveness of electric vehicles relative to the internal combustion vehicle. Many major automobile manufacturers have electric vehicles available today in major markets including the U.S., China and Europe, and other current and prospective automobile manufacturers are also developing electric vehicles. In addition, several manufacturers offer hybrid vehicles, including plug-in versions. We believe that there is also increasing competition for our vehicle offerings as a platform for delivering self-driving technologies, charging solutions and other features and services, and we expect to compete in this developing market through continued progress on our Autopilot, FSD and neural network capabilities, Supercharger network and our infotainment offerings. Energy Generation and Storage Energy Storage Systems The market for energy storage products is also highly competitive, and both established and emerging companies have introduced products that are similar to our product portfolio or that are alternatives to the elements of our systems. We compete with these companies based on price, energy density and efficiency. We believe that the specifications and features of our products, our strong brand and the modular, scalable nature of our energy storage products give us a competitive advantage in our markets. Solar Energy Systems The primary competitors to our solar energy business are the traditional local utility companies that supply energy to our potential customers. We compete with these traditional utility companies primarily based on price and the ease by which customers can switch to electricity generated by our solar energy systems. We also compete with solar energy companies that provide products and services similar to ours. Many solar energy companies only install solar energy systems, while others only provide financing for these installations. We believe we have a significant expansion opportunity with our offerings and that the regulatory environment is increasingly conducive to the adoption of renewable energy systems. Intellectual Property We place a strong emphasis on our innovative approach and proprietary designs which bring intrinsic value and uniqueness to our product portfolio. As part of our business, we seek to protect the underlying intellectual property rights of these innovations and designs such as with respect to patents, trademarks, copyrights, trade secrets, confidential information and other measures, including through employee and third-party nondisclosure agreements and other contractual arrangements. For example, we place a high priority on obtaining patents to provide the broadest and strongest possible protection to enable our freedom to operate our innovations and designs across all of our products and technologies as well as to protect and defend our product portfolio. We have also adopted a patent policy in which we irrevocably pledged that we will not initiate a lawsuit against any party for infringing our patents through activity relating to electric vehicles or related equipment for so long as such party is acting in good faith. We made this pledge in order to encourage the advancement of a common, rapidly-evolving platform for electric vehicles, thereby benefiting ourselves, other companies making electric vehicles and the world. Environmental, Social and Governance (ESG) and Human Capital Resources ESG The very purpose of Tesla's existence is to accelerate the world's transition to sustainable energy. We believe the world cannot reduce carbon emissions without addressing both energy generation and consumption, and we are designing and manufacturing a complete energy and transportation ecosystem to achieve this goal. As we expand, we are building each new factory to be more efficient and sustainably designed than the previous one, including with respect to per-unit waste reduction and resource consumption, including water and energy usage. We are focused on further enhancing sustainability of operations outside of our direct control, including reducing the carbon footprint of our supply chain. We are committed to sourcing only responsibly produced materials, and our suppliers are required to provide evidence of management systems that ensure social, environmental and sustainability best practices in their own operations, as well as to demonstrate a commitment to responsible sourcing into their supply chains. We have a zero-tolerance policy when it comes to child or forced labor and human trafficking by our suppliers and we look to the Organization for Economic Co-operation and Development Due Diligence Guidelines to inform our process and use feedback from our internal and external stakeholders to find ways to continually improve. We are also driving safety in our own factories by focusing on worker engagement. Our incidents per vehicle continue to drop even as our production volumes increase. We also strive to be an employer of choice by offering compelling, impactful jobs with best in-industry benefits. We believe that sound corporate governance is critical to helping us achieve our goals, including with respect to ESG. We continue to evolve a governance framework that exercises appropriate oversight of responsibilities at all levels throughout the company and manages its affairs consistent with high principles of business ethics. Our ESG Sustainability Council is made up of leaders from across our company, and regularly presents to our Board of Directors, which oversees our ESG impacts, initiatives and priorities. Human Capital Resources A competitive edge for Tesla is its ability to attract and retain high quality employees. During the past year, Tesla made substantial investments in its workforce, further strengthening its standing as one of the most desirable and innovative companies to work for. As of December 31, 2023, our employee headcount worldwide was 140,473. We have created an environment that fosters growth opportunities, and as of this report, nearly two-thirds (65%) of our managers were promoted from an internal, non-manager position, and 43% of our management employees have been with Tesla for more than five years. Tesla&#8217;s growth of 35% over the past two years has offered internal career development to our employees as well as the ability to make a meaningful contribution to a sustainable future. We are able to retain our employees, in part, not only because employees can enjoy ownership in Tesla through stock (of which 89% have been given the opportunity to), but because we also provide them with excellent health benefits such as free counseling, paid parental leave, paid time off and zero-premium medical plan options that are made available on the first day of employment. We recognize the positive impact that leaders can have on their teams and offer fundamental skills training and continuous development to all leaders through various programs globally. We don&#8217;t stop there. Tesla has several other programs strategically designed to increase paths for greater career opportunity such as: &#8226; Technician Trainee (Service) &#8211; &#8239; The Tesla Technician Trainee Program provides on-the-job automotive maintenance training at Tesla, resulting in an industry certification. Targeted at individuals with limited experience, whether in industry or vocational schools, the program prepares trainees for employment as technicians. In 2023, we hired over 1,900 Technician Trainees across the U.S., Germany and China. &#8226; START (Manufacturing and Service) &#8211; Tesla START is an intensive training program that complements the Technician Trainee program and equips individuals with the skills needed for a successful technician role at Tesla. We have partnered with colleges and technical academies to launch Tesla START in the U.S., United Kingdom and Germany. In 2023, we hired over 350 trainees for manufacturing and service roles through this program, providing an opportunity to transition into full-time employment . &#8226; Internships &#8211; Annually, Tesla hires over 6,000 university and college students from around the world. We recruit from diverse student organizations and campuses, seeking top talent passionate about our mission. Our interns engage in meaningful work from day one, and we often offer them full-time positions post-internship. &#8226; Military Fellowship and Transition Programs &#8211; &#8239;The Military Fellowship and Transition Programs are designed to offer exiting military service members in the U.S. and Europe with career guidance on transitioning into the civil workforce. We partner with the career transition services of European Defence Ministries across five countries, as well as the U.S. Chamber of Commerce&#8217;s Hire our Heroes. These programs aim to convert high-performing individuals to full-time roles and create a veteran talent pipeline. &#8226; Apprenticeships &#8211; Tesla Apprenticeships are offered globally, providing academic and on-the-job training to prepare specialists in skilled trades. Apprentices will complete between one to four years of on-the-job training. Apprentice programs have seen skilled trade hires across the U.S., Australia, Hong Kong, Korea and Germany. &#8226; Manufacturing Development Program &#8211;&#8239;Tesla's manufacturing pathway program is designed to provide graduating high school seniors with the financial resources, coursework and experience they need to start a successful manufacturing career at Tesla. We hired 373 graduates through this program in 2023, and our goal in 2024 is grow this program to over 600 students annually across our Fremont Factory, Gigafactory Nevada, Gigafactory Texas and Gigafactory New York. &#8226; Engineering Development Program &#8211;&#8239;Launched in January 2024, this program targets recent college and university graduates for specialized engineering fields. In collaboration with Austin Community College, the program educates early-career engineers in controls engineering, enhancing their knowledge of high-demand technologies for U.S. manufacturing. We will continue to expand the opportunities for our employees to add skills and develop professionally with a new Employee Educational Assistance Program launching in the U.S. in the spring of 2024 to help employees pursue select certificates or degrees. With virtual, self-paced education options available, employees can pursue a new path or expand their knowledge while continuing to grow their career. At Tesla, our employees show up passionate about making a difference in the world and for each other. We remain unwavering in our demand that our factories, offices, stores and service centers are places where our employees feel respected and appreciated. Our policies are designed to promote fairness and respect for everyone. We hire, evaluate and promote employees based on their skills and performance. Everyone is expected to be trustworthy, demonstrate excellence in their performance and collaborate with others. With this in mind, we will not tolerate certain behaviors. These include harassment, retaliation, violence, intimidation and discrimination of any kind on the basis of race, color, religion, national origin, gender, sexual orientation, gender identity, gender expression, age, disability or veteran status. Anti-harassment training is conducted on day one of new hire orientation for all employees and reoccurring for leaders. In addition, we run various leadership development programs throughout the year aimed at enhancing leaders&#8217; skills, and in particular, helping them to understand how to appropriately respond to and address employee concerns. Employees are encouraged to speak up both in regard to misconduct and safety concerns and can do so by contacting the integrity line, submitting concerns through our Take Charge process, or notifying their Human Resource Partner or any member of management. Concerns are reviewed in accordance with established protocols by investigators with expertise, who also review for trends and outcomes for remediation and appropriate controls. Responding to questions timely is key so Human Resource Partners for each functional area are visible throughout facilities and are actively involved in driving culture and engagement alongside business leaders. Available Information We file or furnish periodic reports and amendments thereto, including our Annual Reports on Form 10-K, our Quarterly Reports on Form 10-Q and Current Reports on Form 8-K, proxy statements and other information with the SEC. In addition, the SEC maintains a website ( www.sec.gov ) that contains reports, proxy and information statements, and other information regarding issuers that file electronically. Our website is located at www.tesla.com , and our reports, amendments thereto, proxy statements and other information are also made available, free of charge, on our investor relations website at ir.tesla.com as soon as reasonably practicable after we electronically file or furnish such information with the SEC. The information posted on our website is not incorporated by reference into this Annual Report on Form 10-K. \""
      ]
     },
     "execution_count": 134,
     "metadata": {},
     "output_type": "execute_result"
    }
   ],
   "source": [
    "tsla_item1 = tsla_item1.replace('\\n', '')\n",
    "tsla_item1"
   ]
  },
  {
   "cell_type": "markdown",
   "metadata": {},
   "source": [
    "## Data Exploration - Text Analysis"
   ]
  },
  {
   "cell_type": "markdown",
   "metadata": {},
   "source": [
    "### Frequency Analysis"
   ]
  },
  {
   "cell_type": "code",
   "execution_count": 135,
   "metadata": {},
   "outputs": [
    {
     "name": "stdout",
     "output_type": "stream",
     "text": [
      "[('energy', 75), ('vehicles', 68), ('systems', 39), ('vehicle', 34), ('products', 33), ('solar', 33), ('storage', 32), ('customers', 32), ('Tesla', 32), ('U.S.', 25), ('electric', 24), ('including', 24), ('certain', 23), ('battery', 20), ('driving', 18), ('new', 17), ('offer', 16), ('self', 16), ('markets', 16), ('Energy', 16)]\n"
     ]
    }
   ],
   "source": [
    "## FREQUENCY ANALYSIS\n",
    "# load spacy model\n",
    "nlp = spacy.load('en_core_web_sm')\n",
    "nlp.disable_pipe(\"parser\")\n",
    "nlp.enable_pipe(\"senter\")\n",
    "# load data\n",
    "doc = nlp(tsla_item1)\n",
    "words = [token.text for token in doc if not token.is_stop and not token.is_punct]\n",
    "\n",
    "print(Counter(words).most_common(20))"
   ]
  },
  {
   "cell_type": "markdown",
   "metadata": {},
   "source": [
    "From the frequency analysis, we see that Tesla was mentioned a total of 32 times."
   ]
  },
  {
   "cell_type": "markdown",
   "metadata": {},
   "source": [
    "### TF-IDF"
   ]
  },
  {
   "cell_type": "code",
   "execution_count": 136,
   "metadata": {},
   "outputs": [
    {
     "name": "stderr",
     "output_type": "stream",
     "text": [
      "[nltk_data] Downloading package punkt to\n",
      "[nltk_data]     C:\\Users\\ongai\\AppData\\Roaming\\nltk_data...\n",
      "[nltk_data]   Package punkt is already up-to-date!\n",
      "[nltk_data] Downloading package stopwords to\n",
      "[nltk_data]     C:\\Users\\ongai\\AppData\\Roaming\\nltk_data...\n",
      "[nltk_data]   Package stopwords is already up-to-date!\n"
     ]
    }
   ],
   "source": [
    "# Load spaCy model\n",
    "nlp = spacy.load('en_core_web_sm')\n",
    "\n",
    "# Step 1: Load and preprocess the text\n",
    "text_data = [tsla_item1]\n",
    "\n",
    "# Tokenization using nltk\n",
    "nltk.download('punkt')\n",
    "nltk.download('stopwords')\n",
    "from nltk.corpus import stopwords\n",
    "from nltk.tokenize import word_tokenize\n",
    "\n",
    "stop_words = set(stopwords.words('english'))\n",
    "\n",
    "def preprocess(text):\n",
    "    # Tokenization and lowercasing\n",
    "    tokens = word_tokenize(text.lower())\n",
    "    # Remove stopwords and non-alphabetic characters\n",
    "    tokens = [word for word in tokens if word.isalpha() and word not in stop_words]\n",
    "    return ' '.join(tokens)\n",
    "\n",
    "# Preprocess the data\n",
    "processed_text = [preprocess(text) for text in text_data]\n"
   ]
  },
  {
   "cell_type": "code",
   "execution_count": 137,
   "metadata": {},
   "outputs": [
    {
     "name": "stdout",
     "output_type": "stream",
     "text": [
      "Top TF-IDF Keywords:\n",
      "['also' 'customers' 'energy' 'products' 'solar' 'storage' 'systems'\n",
      " 'tesla' 'vehicle' 'vehicles']\n"
     ]
    }
   ],
   "source": [
    "# TF-IDF Vectorization\n",
    "tfidf_vectorizer = TfidfVectorizer(max_features=10)  # Limit to top 10 features for brevity\n",
    "tfidf_matrix = tfidf_vectorizer.fit_transform(processed_text)\n",
    "tfidf_keywords = tfidf_vectorizer.get_feature_names_out()\n",
    "\n",
    "print(\"Top TF-IDF Keywords:\")\n",
    "print(tfidf_keywords)"
   ]
  },
  {
   "cell_type": "markdown",
   "metadata": {},
   "source": [
    "### LDA"
   ]
  },
  {
   "cell_type": "code",
   "execution_count": 138,
   "metadata": {},
   "outputs": [
    {
     "name": "stdout",
     "output_type": "stream",
     "text": [
      "LDA Topics:\n",
      "Topic 0: 0.001*\"energy\" + 0.001*\"vehicles\" + 0.001*\"solar\" + 0.001*\"storage\" + 0.001*\"products\" + 0.001*\"also\" + 0.001*\"systems\" + 0.001*\"vehicle\" + 0.001*\"customers\" + 0.001*\"electric\"\n",
      "Topic 1: 0.020*\"energy\" + 0.015*\"vehicles\" + 0.010*\"also\" + 0.010*\"solar\" + 0.009*\"storage\" + 0.009*\"systems\" + 0.008*\"vehicle\" + 0.008*\"products\" + 0.007*\"customers\" + 0.007*\"tesla\"\n"
     ]
    }
   ],
   "source": [
    "# Prepare data for LDA\n",
    "tokenized_texts = [preprocess(text).split() for text in text_data]\n",
    "dictionary = corpora.Dictionary(tokenized_texts)\n",
    "corpus = [dictionary.doc2bow(text) for text in tokenized_texts]\n",
    "\n",
    "# Train LDA model\n",
    "lda_model = LdaModel(corpus, num_topics=2, id2word=dictionary, passes=15)\n",
    "\n",
    "# Display topics\n",
    "print(\"LDA Topics:\")\n",
    "for idx, topic in lda_model.print_topics(-1):\n",
    "    print(f\"Topic {idx}: {topic}\")\n"
   ]
  },
  {
   "cell_type": "markdown",
   "metadata": {},
   "source": [
    "### Pos tagging"
   ]
  },
  {
   "cell_type": "code",
   "execution_count": 139,
   "metadata": {},
   "outputs": [
    {
     "name": "stdout",
     "output_type": "stream",
     "text": [
      "Part-of-Speech Tags:\n",
      "[(' ', 'SPACE'), ('ITEM', 'PROPN'), ('1', 'NUM'), ('.', 'PUNCT'), ('BUSINESS', 'PROPN'), ('Overview', 'PROPN'), ('We', 'PRON'), ('design', 'VERB'), (',', 'PUNCT'), ('develop', 'VERB'), (',', 'PUNCT'), ('manufacture', 'NOUN'), (',', 'PUNCT'), ('sell', 'VERB'), ('and', 'CCONJ'), ('lease', 'VERB'), ('high', 'ADJ'), ('-', 'PUNCT'), ('performance', 'NOUN'), ('fully', 'ADV'), ('electric', 'ADJ'), ('vehicles', 'NOUN'), ('and', 'CCONJ'), ('energy', 'NOUN'), ('generation', 'NOUN'), ('and', 'CCONJ'), ('storage', 'NOUN'), ('systems', 'NOUN'), (',', 'PUNCT'), ('and', 'CCONJ'), ('offer', 'VERB'), ('services', 'NOUN'), ('related', 'VERB'), ('to', 'ADP'), ('our', 'PRON'), ('products', 'NOUN'), ('.', 'PUNCT'), ('We', 'PRON'), ('generally', 'ADV'), ('sell', 'VERB'), ('our', 'PRON'), ('products', 'NOUN'), ('directly', 'ADV'), ('to', 'ADP'), ('customers', 'NOUN'), (',', 'PUNCT'), ('and', 'CCONJ'), ('continue', 'VERB'), ('to', 'PART'), ('grow', 'VERB'), ('our', 'PRON'), ('customer', 'NOUN'), ('-', 'PUNCT'), ('facing', 'VERB'), ('infrastructure', 'NOUN'), ('through', 'ADP'), ('a', 'DET'), ('global', 'ADJ'), ('network', 'NOUN'), ('of', 'ADP'), ('vehicle', 'NOUN'), ('showrooms', 'NOUN'), ('and', 'CCONJ'), ('service', 'NOUN'), ('centers', 'NOUN'), (',', 'PUNCT'), ('Mobile', 'PROPN'), ('Service', 'PROPN'), (',', 'PUNCT'), ('body', 'NOUN'), ('shops', 'NOUN'), (',', 'PUNCT'), ('Supercharger', 'NOUN'), ('stations', 'NOUN'), ('and', 'CCONJ'), ('Destination', 'PROPN'), ('Chargers', 'PROPN'), ('to', 'PART'), ('accelerate', 'VERB'), ('the', 'DET'), ('widespread', 'ADJ'), ('adoption', 'NOUN'), ('of', 'ADP'), ('our', 'PRON'), ('products', 'NOUN'), ('.', 'PUNCT'), ('We', 'PRON'), ('emphasize', 'VERB'), ('performance', 'NOUN'), (',', 'PUNCT'), ('attractive', 'ADJ'), ('styling', 'NOUN'), ('and', 'CCONJ'), ('the', 'DET'), ('safety', 'NOUN'), ('of', 'ADP'), ('our', 'PRON'), ('users', 'NOUN'), ('and', 'CCONJ'), ('workforce', 'NOUN'), ('in', 'ADP'), ('the', 'DET'), ('design', 'NOUN'), ('and', 'CCONJ'), ('manufacture', 'NOUN'), ('of', 'ADP'), ('our', 'PRON'), ('products', 'NOUN'), ('and', 'CCONJ'), ('are', 'AUX'), ('continuing', 'VERB'), ('to', 'PART'), ('develop', 'VERB'), ('full', 'ADJ'), ('self', 'NOUN'), ('-', 'PUNCT'), ('driving', 'VERB'), ('technology', 'NOUN'), ('for', 'ADP'), ('improved', 'ADJ'), ('safety', 'NOUN'), ('.', 'PUNCT'), ('We', 'PRON'), ('also', 'ADV'), ('strive', 'VERB'), ('to', 'PART'), ('lower', 'VERB'), ('the', 'DET'), ('cost', 'NOUN'), ('of', 'ADP'), ('ownership', 'NOUN'), ('for', 'ADP'), ('our', 'PRON'), ('customers', 'NOUN'), ('through', 'ADP'), ('continuous', 'ADJ'), ('efforts', 'NOUN'), ('to', 'PART'), ('reduce', 'VERB'), ('manufacturing', 'NOUN'), ('costs', 'NOUN'), ('and', 'CCONJ'), ('by', 'ADP'), ('offering', 'VERB'), ('financial', 'ADJ'), ('and', 'CCONJ'), ('other', 'ADJ'), ('services', 'NOUN'), ('tailored', 'VERB'), ('to', 'ADP'), ('our', 'PRON'), ('products', 'NOUN'), ('.', 'PUNCT'), ('Our', 'PRON'), ('mission', 'NOUN'), ('is', 'AUX'), ('to', 'PART'), ('accelerate', 'VERB'), ('the', 'DET'), ('world&#8217;s', 'NOUN'), ('transition', 'NOUN'), ('to', 'ADP'), ('sustainable', 'ADJ'), ('energy', 'NOUN'), ('.', 'PUNCT'), ('We', 'PRON'), ('believe', 'VERB'), ('that', 'SCONJ'), ('this', 'DET'), ('mission', 'NOUN'), (',', 'PUNCT'), ('along', 'ADP'), ('with', 'ADP'), ('our', 'PRON'), ('engineering', 'NOUN'), ('expertise', 'NOUN'), (',', 'PUNCT'), ('vertically', 'ADV'), ('integrated', 'VERB'), ('business', 'NOUN'), ('model', 'NOUN'), ('and', 'CCONJ'), ('focus', 'VERB'), ('on', 'ADP'), ('user', 'NOUN'), ('experience', 'NOUN'), ('differentiate', 'VERB'), ('us', 'PRON'), ('from', 'ADP'), ('other', 'ADJ'), ('companies', 'NOUN'), ('.', 'PUNCT'), ('Segment', 'NOUN'), ('Information', 'PROPN'), ('We', 'PRON'), ('operate', 'VERB'), ('as', 'ADP'), ('two', 'NUM'), ('reportable', 'ADJ'), ('segments', 'NOUN'), (':', 'PUNCT'), ('(', 'PUNCT'), ('i', 'NOUN'), (')', 'PUNCT'), ('automotive', 'ADJ'), ('and', 'CCONJ'), ('(', 'PUNCT'), ('ii', 'PROPN'), (')', 'PUNCT'), ('energy', 'NOUN'), ('generation', 'NOUN'), ('and', 'CCONJ'), ('storage', 'NOUN'), ('.', 'PUNCT'), ('The', 'DET'), ('automotive', 'ADJ'), ('segment', 'NOUN'), ('includes', 'VERB'), ('the', 'DET'), ('design', 'NOUN'), (',', 'PUNCT'), ('development', 'NOUN'), (',', 'PUNCT'), ('manufacturing', 'NOUN'), (',', 'PUNCT'), ('sales', 'NOUN'), ('and', 'CCONJ'), ('leasing', 'NOUN'), ('of', 'ADP'), ('high', 'ADJ'), ('-', 'PUNCT'), ('performance', 'NOUN'), ('fully', 'ADV'), ('electric', 'ADJ'), ('vehicles', 'NOUN'), ('as', 'ADV'), ('well', 'ADV'), ('as', 'ADP'), ('sales', 'NOUN'), ('of', 'ADP'), ('automotive', 'ADJ'), ('regulatory', 'ADJ'), ('credits', 'NOUN'), ('.', 'PUNCT'), ('Additionally', 'ADV'), (',', 'PUNCT'), ('the', 'DET'), ('automotive', 'ADJ'), ('segment', 'NOUN'), ('also', 'ADV'), ('includes', 'VERB'), ('services', 'NOUN'), ('and', 'CCONJ'), ('other', 'ADJ'), (',', 'PUNCT'), ('which', 'PRON'), ('includes', 'VERB'), ('sales', 'NOUN'), ('of', 'ADP'), ('used', 'VERB'), ('vehicles', 'NOUN'), (',', 'PUNCT'), ('non', 'ADJ'), ('-', 'NOUN'), ('warranty', 'NOUN'), ('after', 'ADP'), ('-', 'PUNCT'), ('sales', 'NOUN'), ('vehicle', 'NOUN'), ('services', 'NOUN'), (',', 'PUNCT'), ('body', 'NOUN'), ('shop', 'NOUN'), ('and', 'CCONJ'), ('parts', 'NOUN'), (',', 'PUNCT'), ('paid', 'VERB'), ('Supercharging', 'PROPN'), (',', 'PUNCT'), ('vehicle', 'NOUN'), ('insurance', 'NOUN'), ('revenue', 'NOUN'), ('and', 'CCONJ'), ('retail', 'ADJ'), ('merchandise', 'NOUN'), ('.', 'PUNCT'), ('The', 'DET'), ('energy', 'NOUN'), ('generation', 'NOUN'), ('and', 'CCONJ'), ('storage', 'NOUN'), ('segment', 'NOUN'), ('includes', 'VERB'), ('the', 'DET'), ('design', 'NOUN'), (',', 'PUNCT'), ('manufacture', 'NOUN'), (',', 'PUNCT'), ('installation', 'NOUN'), (',', 'PUNCT'), ('sales', 'NOUN'), ('and', 'CCONJ'), ('leasing', 'NOUN'), ('of', 'ADP'), ('solar', 'ADJ'), ('energy', 'NOUN'), ('generation', 'NOUN'), ('and', 'CCONJ'), ('energy', 'NOUN'), ('storage', 'NOUN'), ('products', 'NOUN'), ('and', 'CCONJ'), ('related', 'ADJ'), ('services', 'NOUN'), ('and', 'CCONJ'), ('sales', 'NOUN'), ('of', 'ADP'), ('solar', 'ADJ'), ('energy', 'NOUN'), ('systems', 'NOUN'), ('incentives', 'NOUN'), ('.', 'PUNCT'), ('Our', 'PRON'), ('Products', 'PROPN'), ('and', 'CCONJ'), ('Services', 'PROPN'), ('Automotive', 'PROPN'), ('We', 'PRON'), ('currently', 'ADV'), ('manufacture', 'VERB'), ('five', 'NUM'), ('different', 'ADJ'), ('consumer', 'NOUN'), ('vehicles', 'NOUN'), ('&', 'CCONJ'), ('#', 'SYM'), ('8211', 'NUM'), (';', 'PUNCT'), ('the', 'DET'), ('Model', 'PROPN'), ('3', 'NUM'), (',', 'PUNCT'), ('Y', 'PROPN'), (',', 'PUNCT'), ('S', 'PROPN'), (',', 'PUNCT'), ('X', 'PROPN'), ('and', 'CCONJ'), ('Cybertruck', 'PROPN'), ('.', 'PUNCT'), ('Model', 'NOUN'), ('3', 'NUM'), ('is', 'AUX'), ('a', 'DET'), ('four', 'NUM'), ('-', 'PUNCT'), ('door', 'NOUN'), ('mid', 'ADJ'), ('-', 'NOUN'), ('size', 'ADJ'), ('sedan', 'NOUN'), ('that', 'PRON'), ('we', 'PRON'), ('designed', 'VERB'), ('for', 'ADP'), ('manufacturability', 'NOUN'), ('with', 'ADP'), ('a', 'DET'), ('base', 'NOUN'), ('price', 'NOUN'), ('for', 'ADP'), ('mass', 'ADJ'), ('-', 'PUNCT'), ('market', 'NOUN'), ('appeal', 'NOUN'), ('.', 'PUNCT'), ('Model', 'PROPN'), ('Y', 'PROPN'), ('is', 'AUX'), ('a', 'DET'), ('compact', 'ADJ'), ('sport', 'NOUN'), ('utility', 'NOUN'), ('vehicle', 'NOUN'), ('(', 'PUNCT'), ('&', 'CCONJ'), ('#', 'SYM'), ('8220;SUV&#8221', 'NUM'), (';)', 'PUNCT'), ('built', 'VERB'), ('on', 'ADP'), ('the', 'DET'), ('Model', 'PROPN'), ('3', 'NUM'), ('platform', 'NOUN'), ('with', 'ADP'), ('seating', 'NOUN'), ('for', 'ADP'), ('up', 'ADP'), ('to', 'PART'), ('seven', 'NUM'), ('adults', 'NOUN'), ('.', 'PUNCT'), ('Model', 'PROPN'), ('S', 'PROPN'), ('is', 'AUX'), ('a', 'DET'), ('four', 'NUM'), ('-', 'PUNCT'), ('door', 'NOUN'), ('full', 'ADJ'), ('-', 'PUNCT'), ('size', 'NOUN'), ('sedan', 'NOUN'), ('and', 'CCONJ'), ('Model', 'PROPN'), ('X', 'PROPN'), ('is', 'AUX'), ('a', 'DET'), ('mid', 'ADJ'), ('-', 'NOUN'), ('size', 'ADJ'), ('SUV', 'NOUN'), ('with', 'ADP'), ('seating', 'NOUN'), ('for', 'ADP'), ('up', 'ADP'), ('to', 'PART'), ('seven', 'NUM'), ('adults', 'NOUN'), ('.', 'PUNCT'), ('Model', 'PROPN'), ('S', 'PROPN'), ('and', 'CCONJ'), ('Model', 'PROPN'), ('X', 'PROPN'), ('feature', 'VERB'), ('the', 'DET'), ('highest', 'ADJ'), ('performance', 'NOUN'), ('characteristics', 'NOUN'), ('and', 'CCONJ'), ('longest', 'ADJ'), ('ranges', 'VERB'), ('that', 'PRON'), ('we', 'PRON'), ('offer', 'VERB'), ('in', 'ADP'), ('a', 'DET'), ('sedan', 'NOUN'), ('and', 'CCONJ'), ('SUV', 'PROPN'), (',', 'PUNCT'), ('respectively', 'ADV'), ('.', 'PUNCT'), ('In', 'ADP'), ('November', 'PROPN'), ('2023', 'NUM'), (',', 'PUNCT'), ('we', 'PRON'), ('entered', 'VERB'), ('the', 'DET'), ('consumer', 'NOUN'), ('pickup', 'NOUN'), ('truck', 'NOUN'), ('market', 'NOUN'), ('with', 'ADP'), ('first', 'ADJ'), ('deliveries', 'NOUN'), ('of', 'ADP'), ('the', 'DET'), ('Cybertruck', 'PROPN'), (',', 'PUNCT'), ('a', 'DET'), ('full', 'ADJ'), ('-', 'PUNCT'), ('size', 'NOUN'), ('electric', 'ADJ'), ('pickup', 'NOUN'), ('truck', 'NOUN'), ('with', 'ADP'), ('a', 'DET'), ('stainless', 'ADJ'), ('steel', 'NOUN'), ('exterior', 'NOUN'), ('that', 'PRON'), ('has', 'VERB'), ('the', 'DET'), ('utility', 'NOUN'), ('and', 'CCONJ'), ('strength', 'NOUN'), ('of', 'ADP'), ('a', 'DET'), ('truck', 'NOUN'), ('while', 'SCONJ'), ('featuring', 'VERB'), ('the', 'DET'), ('speed', 'NOUN'), ('of', 'ADP'), ('a', 'DET'), ('sports', 'NOUN'), ('car', 'NOUN'), ('.', 'PUNCT'), ('In', 'ADP'), ('2022', 'NUM'), (',', 'PUNCT'), ('we', 'PRON'), ('also', 'ADV'), ('began', 'VERB'), ('early', 'ADJ'), ('production', 'NOUN'), ('and', 'CCONJ'), ('deliveries', 'NOUN'), ('of', 'ADP'), ('a', 'DET'), ('commercial', 'ADJ'), ('electric', 'ADJ'), ('vehicle', 'NOUN'), (',', 'PUNCT'), ('the', 'DET'), ('Tesla', 'PROPN'), ('Semi', 'PROPN'), ('.', 'PUNCT'), ('We', 'PRON'), ('have', 'AUX'), ('planned', 'VERB'), ('electric', 'ADJ'), ('vehicles', 'NOUN'), ('to', 'PART'), ('address', 'VERB'), ('additional', 'ADJ'), ('vehicle', 'NOUN'), ('markets', 'NOUN'), (',', 'PUNCT'), ('and', 'CCONJ'), ('to', 'PART'), ('continue', 'VERB'), ('leveraging', 'VERB'), ('developments', 'NOUN'), ('in', 'ADP'), ('our', 'PRON'), ('proprietary', 'ADJ'), ('Full', 'ADJ'), ('Self', 'NOUN'), ('-', 'PUNCT'), ('Driving', 'PROPN'), ('(', 'PUNCT'), ('&', 'CCONJ'), ('#', 'SYM'), ('8220;FSD&#8221', 'NUM'), (';)', 'PUNCT'), ('Capability', 'NOUN'), ('features', 'NOUN'), (',', 'PUNCT'), ('battery', 'NOUN'), ('cell', 'NOUN'), ('and', 'CCONJ'), ('other', 'ADJ'), ('technologies', 'NOUN'), ('.', 'PUNCT'), ('Energy', 'PROPN'), ('Generation', 'PROPN'), ('and', 'CCONJ'), ('Storage', 'PROPN'), ('Energy', 'PROPN'), ('Storage', 'PROPN'), ('Products', 'PROPN'), ('Powerwall', 'PROPN'), ('and', 'CCONJ'), ('Megapack', 'PROPN'), ('are', 'AUX'), ('our', 'PRON'), ('lithium', 'NOUN'), ('-', 'PUNCT'), ('ion', 'NOUN'), ('battery', 'NOUN'), ('energy', 'NOUN'), ('storage', 'NOUN'), ('products', 'NOUN'), ('.', 'PUNCT'), ('Powerwall', 'NOUN'), (',', 'PUNCT'), ('which', 'PRON'), ('we', 'PRON'), ('sell', 'VERB'), ('directly', 'ADV'), ('to', 'ADP'), ('customers', 'NOUN'), (',', 'PUNCT'), ('as', 'ADV'), ('well', 'ADV'), ('as', 'ADP'), ('through', 'ADP'), ('channel', 'NOUN'), ('partners', 'NOUN'), (',', 'PUNCT'), ('is', 'AUX'), ('designed', 'VERB'), ('to', 'PART'), ('store', 'VERB'), ('energy', 'NOUN'), ('at', 'ADP'), ('a', 'DET'), ('home', 'NOUN'), ('or', 'CCONJ'), ('small', 'ADJ'), ('commercial', 'ADJ'), ('facility', 'NOUN'), ('.', 'PUNCT'), ('Megapack', 'PROPN'), ('is', 'AUX'), ('an', 'DET'), ('energy', 'NOUN'), ('storage', 'NOUN'), ('solution', 'NOUN'), ('for', 'ADP'), ('commercial', 'ADJ'), (',', 'PUNCT'), ('industrial', 'ADJ'), (',', 'PUNCT'), ('utility', 'NOUN'), ('and', 'CCONJ'), ('energy', 'NOUN'), ('generation', 'NOUN'), ('customers', 'NOUN'), (',', 'PUNCT'), ('multiple', 'NOUN'), ('of', 'ADP'), ('which', 'PRON'), ('may', 'AUX'), ('be', 'AUX'), ('grouped', 'VERB'), ('together', 'ADV'), ('to', 'PART'), ('form', 'VERB'), ('larger', 'ADJ'), ('installations', 'NOUN'), ('of', 'ADP'), ('gigawatt', 'PROPN'), ('hours', 'NOUN'), ('(', 'PUNCT'), ('&', 'CCONJ'), ('#', 'SYM'), ('8220;GWh&#8221', 'NUM'), (';)', 'PUNCT'), ('or', 'CCONJ'), ('greater', 'ADJ'), ('capacity', 'NOUN'), ('.', 'PUNCT'), ('We', 'PRON'), ('also', 'ADV'), ('continue', 'VERB'), ('to', 'PART'), ('develop', 'VERB'), ('software', 'NOUN'), ('capabilities', 'NOUN'), ('for', 'ADP'), ('remotely', 'ADV'), ('controlling', 'VERB'), ('and', 'CCONJ'), ('dispatching', 'VERB'), ('our', 'PRON'), ('energy', 'NOUN'), ('storage', 'NOUN'), ('systems', 'NOUN'), ('across', 'ADP'), ('a', 'DET'), ('wide', 'ADJ'), ('range', 'NOUN'), ('of', 'ADP'), ('markets', 'NOUN'), ('and', 'CCONJ'), ('applications', 'NOUN'), (',', 'PUNCT'), ('including', 'VERB'), ('through', 'ADP'), ('our', 'PRON'), ('real', 'ADJ'), ('-', 'PUNCT'), ('time', 'NOUN'), ('energy', 'NOUN'), ('control', 'NOUN'), ('and', 'CCONJ'), ('optimization', 'NOUN'), ('platforms', 'NOUN'), ('.', 'PUNCT'), ('Solar', 'PROPN'), ('Energy', 'PROPN'), ('Offerings', 'PROPN'), ('We', 'PRON'), ('sell', 'VERB'), ('retrofit', 'NOUN'), ('solar', 'ADJ'), ('energy', 'NOUN'), ('systems', 'NOUN'), ('to', 'ADP'), ('customers', 'NOUN'), ('and', 'CCONJ'), ('channel', 'NOUN'), ('partners', 'NOUN'), ('and', 'CCONJ'), ('also', 'ADV'), ('make', 'VERB'), ('them', 'PRON'), ('available', 'ADJ'), ('through', 'ADP'), ('power', 'NOUN'), ('purchase', 'NOUN'), ('agreement', 'NOUN'), ('(', 'PUNCT'), ('&', 'CCONJ'), ('#', 'SYM'), ('8220;PPA&#8221', 'NUM'), (';)', 'ADJ'), ('arrangements', 'NOUN'), ('.', 'PUNCT'), ('We', 'PRON'), ('purchase', 'VERB'), ('most', 'ADJ'), ('of', 'ADP'), ('the', 'DET'), ('components', 'NOUN'), ('for', 'ADP'), ('our', 'PRON'), ('retrofit', 'ADJ'), ('solar', 'ADJ'), ('energy', 'NOUN'), ('systems', 'NOUN'), ('from', 'ADP'), ('multiple', 'ADJ'), ('sources', 'NOUN'), ('to', 'PART'), ('ensure', 'VERB'), ('competitive', 'ADJ'), ('pricing', 'NOUN'), ('and', 'CCONJ'), ('adequate', 'ADJ'), ('supply', 'NOUN'), ('.', 'PUNCT'), ('We', 'PRON'), ('also', 'ADV'), ('design', 'VERB'), ('and', 'CCONJ'), ('manufacture', 'VERB'), ('certain', 'ADJ'), ('components', 'NOUN'), ('for', 'ADP'), ('our', 'PRON'), ('solar', 'ADJ'), ('energy', 'NOUN'), ('products', 'NOUN'), ('.', 'PUNCT'), ('We', 'PRON'), ('sell', 'VERB'), ('our', 'PRON'), ('Solar', 'PROPN'), ('Roof', 'PROPN'), (',', 'PUNCT'), ('which', 'PRON'), ('combines', 'VERB'), ('premium', 'ADJ'), ('glass', 'NOUN'), ('roof', 'NOUN'), ('tiles', 'NOUN'), ('with', 'ADP'), ('energy', 'NOUN'), ('generation', 'NOUN'), (',', 'PUNCT'), ('directly', 'ADV'), ('to', 'ADP'), ('customers', 'NOUN'), (',', 'PUNCT'), ('as', 'ADV'), ('well', 'ADV'), ('as', 'ADP'), ('through', 'ADP'), ('channel', 'NOUN'), ('customers', 'NOUN'), ('.', 'PUNCT'), ('We', 'PRON'), ('continue', 'VERB'), ('to', 'PART'), ('improve', 'VERB'), ('our', 'PRON'), ('installation', 'NOUN'), ('capability', 'NOUN'), ('and', 'CCONJ'), ('efficiency', 'NOUN'), (',', 'PUNCT'), ('including', 'VERB'), ('through', 'ADP'), ('collaboration', 'NOUN'), ('with', 'ADP'), ('real', 'ADJ'), ('estate', 'NOUN'), ('developers', 'NOUN'), ('and', 'CCONJ'), ('builders', 'NOUN'), ('on', 'ADP'), ('new', 'ADJ'), ('homes', 'NOUN'), ('.', 'PUNCT'), ('Technology', 'NOUN'), ('Automotive', 'PROPN'), ('Battery', 'PROPN'), ('and', 'CCONJ'), ('Powertrain', 'PROPN'), ('Our', 'PRON'), ('core', 'NOUN'), ('vehicle', 'NOUN'), ('technology', 'NOUN'), ('competencies', 'NOUN'), ('include', 'VERB'), ('powertrain', 'NOUN'), ('engineering', 'NOUN'), ('and', 'CCONJ'), ('manufacturing', 'NOUN'), ('and', 'CCONJ'), ('our', 'PRON'), ('ability', 'NOUN'), ('to', 'PART'), ('design', 'VERB'), ('vehicles', 'NOUN'), ('that', 'PRON'), ('utilize', 'VERB'), ('the', 'DET'), ('unique', 'ADJ'), ('advantages', 'NOUN'), ('of', 'ADP'), ('an', 'DET'), ('electric', 'ADJ'), ('powertrain', 'NOUN'), ('.', 'PUNCT'), ('We', 'PRON'), ('have', 'AUX'), ('designed', 'VERB'), ('our', 'PRON'), ('proprietary', 'ADJ'), ('powertrain', 'NOUN'), ('systems', 'NOUN'), ('to', 'PART'), ('be', 'AUX'), ('adaptable', 'ADJ'), (',', 'PUNCT'), ('efficient', 'ADJ'), (',', 'PUNCT'), ('reliable', 'ADJ'), ('and', 'CCONJ'), ('cost', 'NOUN'), ('-', 'PUNCT'), ('effective', 'ADJ'), ('while', 'SCONJ'), ('withstanding', 'VERB'), ('the', 'DET'), ('rigors', 'NOUN'), ('of', 'ADP'), ('an', 'DET'), ('automotive', 'ADJ'), ('environment', 'NOUN'), ('.', 'PUNCT'), ('We', 'PRON'), ('offer', 'VERB'), ('dual', 'ADJ'), ('motor', 'NOUN'), ('powertrain', 'NOUN'), ('vehicles', 'NOUN'), (',', 'PUNCT'), ('which', 'PRON'), ('use', 'VERB'), ('two', 'NUM'), ('electric', 'ADJ'), ('motors', 'NOUN'), ('to', 'PART'), ('maximize', 'VERB'), ('traction', 'NOUN'), ('and', 'CCONJ'), ('performance', 'NOUN'), ('in', 'ADP'), ('an', 'DET'), ('all', 'PRON'), ('-', 'PUNCT'), ('wheel', 'NOUN'), ('drive', 'NOUN'), ('configuration', 'NOUN'), (',', 'PUNCT'), ('as', 'ADV'), ('well', 'ADV'), ('as', 'ADP'), ('vehicle', 'NOUN'), ('powertrain', 'NOUN'), ('technology', 'NOUN'), ('featuring', 'VERB'), ('three', 'NUM'), ('electric', 'ADJ'), ('motors', 'NOUN'), ('for', 'ADP'), ('further', 'ADV'), ('increased', 'VERB'), ('performance', 'NOUN'), ('in', 'ADP'), ('certain', 'ADJ'), ('versions', 'NOUN'), ('of', 'ADP'), ('Model', 'PROPN'), ('S', 'PROPN'), ('and', 'CCONJ'), ('Model', 'PROPN'), ('X', 'PROPN'), (',', 'PUNCT'), ('Cybertruck', 'PROPN'), ('and', 'CCONJ'), ('the', 'DET'), ('Tesla', 'PROPN'), ('Semi', 'PROPN'), ('.', 'PUNCT'), ('We', 'PRON'), ('maintain', 'VERB'), ('extensive', 'ADJ'), ('testing', 'NOUN'), ('and', 'CCONJ'), ('R&#38;D', 'NOUN'), ('capabilities', 'NOUN'), ('for', 'ADP'), ('battery', 'NOUN'), ('cells', 'NOUN'), (',', 'PUNCT'), ('packs', 'NOUN'), ('and', 'CCONJ'), ('systems', 'NOUN'), (',', 'PUNCT'), ('and', 'CCONJ'), ('have', 'AUX'), ('built', 'VERB'), ('an', 'DET'), ('expansive', 'ADJ'), ('body', 'NOUN'), ('of', 'ADP'), ('knowledge', 'NOUN'), ('on', 'ADP'), ('lithium', 'NOUN'), ('-', 'PUNCT'), ('ion', 'NOUN'), ('cell', 'NOUN'), ('chemistry', 'NOUN'), ('types', 'NOUN'), ('and', 'CCONJ'), ('performance', 'NOUN'), ('characteristics', 'NOUN'), ('.', 'PUNCT'), ('In', 'ADP'), ('order', 'NOUN'), ('to', 'PART'), ('enable', 'VERB'), ('a', 'DET'), ('greater', 'ADJ'), ('supply', 'NOUN'), ('of', 'ADP'), ('cells', 'NOUN'), ('for', 'ADP'), ('our', 'PRON'), ('products', 'NOUN'), ('with', 'ADP'), ('higher', 'ADJ'), ('energy', 'NOUN'), ('density', 'NOUN'), ('at', 'ADP'), ('lower', 'ADJ'), ('costs', 'NOUN'), (',', 'PUNCT'), ('we', 'PRON'), ('have', 'AUX'), ('developed', 'VERB'), ('a', 'DET'), ('new', 'ADJ'), ('proprietary', 'ADJ'), ('lithium', 'NOUN'), ('-', 'PUNCT'), ('ion', 'NOUN'), ('battery', 'NOUN'), ('cell', 'NOUN'), ('and', 'CCONJ'), ('improved', 'ADJ'), ('manufacturing', 'NOUN'), ('processes', 'NOUN'), ('.', 'PUNCT'), ('Vehicle', 'PROPN'), ('Control', 'PROPN'), ('and', 'CCONJ'), ('Infotainment', 'PROPN'), ('Software', 'PROPN'), ('The', 'DET'), ('performance', 'NOUN'), ('and', 'CCONJ'), ('safety', 'NOUN'), ('systems', 'NOUN'), ('of', 'ADP'), ('our', 'PRON'), ('vehicles', 'NOUN'), ('and', 'CCONJ'), ('their', 'PRON'), ('battery', 'NOUN'), ('packs', 'NOUN'), ('utilize', 'VERB'), ('sophisticated', 'ADJ'), ('control', 'NOUN'), ('software', 'NOUN'), ('.', 'PUNCT'), ('Control', 'NOUN'), ('systems', 'NOUN'), ('in', 'ADP'), ('our', 'PRON'), ('vehicles', 'NOUN'), ('optimize', 'VERB'), ('performance', 'NOUN'), (',', 'PUNCT'), ('customize', 'NOUN'), ('vehicle', 'NOUN'), ('behavior', 'NOUN'), (',', 'PUNCT'), ('manage', 'VERB'), ('charging', 'VERB'), ('and', 'CCONJ'), ('control', 'VERB'), ('all', 'DET'), ('infotainment', 'ADJ'), ('functions', 'NOUN'), ('.', 'PUNCT'), ('We', 'PRON'), ('develop', 'VERB'), ('almost', 'ADV'), ('all', 'PRON'), ('of', 'ADP'), ('this', 'DET'), ('software', 'NOUN'), (',', 'PUNCT'), ('including', 'VERB'), ('most', 'ADJ'), ('of', 'ADP'), ('the', 'DET'), ('user', 'NOUN'), ('interfaces', 'NOUN'), (',', 'PUNCT'), ('internally', 'ADV'), ('and', 'CCONJ'), ('update', 'VERB'), ('our', 'PRON'), ('vehicles&#8217', 'NOUN'), (';', 'PUNCT'), ('software', 'NOUN'), ('regularly', 'ADV'), ('through', 'ADP'), ('over', 'ADP'), ('-', 'PUNCT'), ('the', 'DET'), ('-', 'PUNCT'), ('air', 'NOUN'), ('updates', 'NOUN'), ('.', 'PUNCT'), ('Self', 'NOUN'), ('-', 'PUNCT'), ('Driving', 'PROPN'), ('Development', 'PROPN'), ('and', 'CCONJ'), ('Artificial', 'PROPN'), ('Intelligence', 'PROPN'), ('We', 'PRON'), ('have', 'VERB'), ('expertise', 'NOUN'), ('in', 'ADP'), ('developing', 'VERB'), ('technologies', 'NOUN'), (',', 'PUNCT'), ('systems', 'NOUN'), ('and', 'CCONJ'), ('software', 'NOUN'), ('to', 'PART'), ('enable', 'VERB'), ('self', 'NOUN'), ('-', 'PUNCT'), ('driving', 'VERB'), ('vehicles', 'NOUN'), ('using', 'VERB'), ('primarily', 'ADV'), ('vision', 'NOUN'), ('-', 'PUNCT'), ('based', 'VERB'), ('technologies', 'NOUN'), ('.', 'PUNCT'), ('Our', 'PRON'), ('FSD', 'PROPN'), ('Computer', 'PROPN'), ('runs', 'VERB'), ('our', 'PRON'), ('neural', 'ADJ'), ('networks', 'NOUN'), ('in', 'ADP'), ('our', 'PRON'), ('vehicles', 'NOUN'), (',', 'PUNCT'), ('and', 'CCONJ'), ('we', 'PRON'), ('are', 'AUX'), ('also', 'ADV'), ('developing', 'VERB'), ('additional', 'ADJ'), ('computer', 'NOUN'), ('hardware', 'NOUN'), ('to', 'PART'), ('better', 'ADV'), ('enable', 'VERB'), ('the', 'DET'), ('massive', 'ADJ'), ('amounts', 'NOUN'), ('of', 'ADP'), ('field', 'NOUN'), ('data', 'NOUN'), ('captured', 'VERB'), ('by', 'ADP'), ('our', 'PRON'), ('vehicles', 'NOUN'), ('to', 'PART'), ('continually', 'ADV'), ('train', 'VERB'), ('and', 'CCONJ'), ('improve', 'VERB'), ('these', 'DET'), ('neural', 'ADJ'), ('networks', 'NOUN'), ('for', 'ADP'), ('real', 'ADJ'), ('-', 'PUNCT'), ('world', 'NOUN'), ('performance', 'NOUN'), ('.', 'PUNCT'), ('Currently', 'ADV'), (',', 'PUNCT'), ('we', 'PRON'), ('offer', 'VERB'), ('in', 'ADP'), ('our', 'PRON'), ('vehicles', 'NOUN'), ('certain', 'ADJ'), ('advanced', 'ADJ'), ('driver', 'NOUN'), ('assist', 'NOUN'), ('systems', 'NOUN'), ('under', 'ADP'), ('our', 'PRON'), ('Autopilot', 'PROPN'), ('and', 'CCONJ'), ('FSD', 'PROPN'), ('Capability', 'PROPN'), ('options', 'NOUN'), ('.', 'PUNCT'), ('Although', 'SCONJ'), ('at', 'ADP'), ('present', 'NOUN'), ('the', 'DET'), ('driver', 'NOUN'), ('is', 'AUX'), ('ultimately', 'ADV'), ('responsible', 'ADJ'), ('for', 'ADP'), ('controlling', 'VERB'), ('the', 'DET'), ('vehicle', 'NOUN'), (',', 'PUNCT'), ('our', 'PRON'), ('systems', 'NOUN'), ('provide', 'VERB'), ('safety', 'NOUN'), ('and', 'CCONJ'), ('convenience', 'NOUN'), ('functionality', 'NOUN'), ('that', 'PRON'), ('relieves', 'VERB'), ('drivers', 'NOUN'), ('of', 'ADP'), ('the', 'DET'), ('most', 'ADV'), ('tedious', 'ADJ'), ('and', 'CCONJ'), ('potentially', 'ADV'), ('dangerous', 'ADJ'), ('aspects', 'NOUN'), ('of', 'ADP'), ('road', 'NOUN'), ('travel', 'NOUN'), ('much', 'ADV'), ('like', 'ADP'), ('the', 'DET'), ('system', 'NOUN'), ('that', 'PRON'), ('airplane', 'NOUN'), ('pilots', 'NOUN'), ('use', 'VERB'), (',', 'PUNCT'), ('when', 'SCONJ'), ('conditions', 'NOUN'), ('permit', 'VERB'), ('.', 'PUNCT'), ('As', 'ADP'), ('with', 'ADP'), ('other', 'ADJ'), ('vehicle', 'NOUN'), ('systems', 'NOUN'), (',', 'PUNCT'), ('we', 'PRON'), ('improve', 'VERB'), ('these', 'DET'), ('functions', 'NOUN'), ('in', 'ADP'), ('our', 'PRON'), ('vehicles', 'NOUN'), ('over', 'ADP'), ('time', 'NOUN'), ('through', 'ADP'), ('over', 'ADP'), ('-', 'PUNCT'), ('the', 'DET'), ('-', 'PUNCT'), ('air', 'NOUN'), ('updates', 'NOUN'), ('.', 'PUNCT'), ('We', 'PRON'), ('intend', 'VERB'), ('to', 'PART'), ('establish', 'VERB'), ('in', 'ADP'), ('the', 'DET'), ('future', 'NOUN'), ('an', 'DET'), ('autonomous', 'ADJ'), ('Tesla', 'PROPN'), ('ride', 'NOUN'), ('-', 'PUNCT'), ('hailing', 'VERB'), ('network', 'NOUN'), (',', 'PUNCT'), ('which', 'PRON'), ('we', 'PRON'), ('expect', 'VERB'), ('would', 'AUX'), ('also', 'ADV'), ('allow', 'VERB'), ('us', 'PRON'), ('to', 'PART'), ('access', 'VERB'), ('a', 'DET'), ('new', 'ADJ'), ('customer', 'NOUN'), ('base', 'NOUN'), ('even', 'ADV'), ('as', 'ADP'), ('modes', 'NOUN'), ('of', 'ADP'), ('transportation', 'NOUN'), ('evolve', 'NOUN'), ('.', 'PUNCT'), ('We', 'PRON'), ('are', 'AUX'), ('also', 'ADV'), ('applying', 'VERB'), ('our', 'PRON'), ('artificial', 'ADJ'), ('intelligence', 'NOUN'), ('learnings', 'NOUN'), ('from', 'ADP'), ('self', 'NOUN'), ('-', 'PUNCT'), ('driving', 'VERB'), ('technology', 'NOUN'), ('to', 'ADP'), ('the', 'DET'), ('field', 'NOUN'), ('of', 'ADP'), ('robotics', 'NOUN'), (',', 'PUNCT'), ('such', 'ADJ'), ('as', 'ADP'), ('through', 'ADP'), ('Optimus', 'PROPN'), (',', 'PUNCT'), ('a', 'DET'), ('robotic', 'ADJ'), ('humanoid', 'NOUN'), ('in', 'ADP'), ('development', 'NOUN'), (',', 'PUNCT'), ('which', 'PRON'), ('is', 'AUX'), ('controlled', 'VERB'), ('by', 'ADP'), ('the', 'DET'), ('same', 'ADJ'), ('AI', 'PROPN'), ('system', 'NOUN'), ('.', 'PUNCT'), ('Energy', 'PROPN'), ('Generation', 'PROPN'), ('and', 'CCONJ'), ('Storage', 'PROPN'), ('Energy', 'PROPN'), ('Storage', 'PROPN'), ('Products', 'PROPN'), ('We', 'PRON'), ('leverage', 'VERB'), ('many', 'ADJ'), ('of', 'ADP'), ('the', 'DET'), ('component', 'NOUN'), ('-', 'PUNCT'), ('level', 'NOUN'), ('technologies', 'NOUN'), ('from', 'ADP'), ('our', 'PRON'), ('vehicles', 'NOUN'), ('in', 'ADP'), ('our', 'PRON'), ('energy', 'NOUN'), ('storage', 'NOUN'), ('products', 'NOUN'), ('.', 'PUNCT'), ('By', 'ADP'), ('taking', 'VERB'), ('a', 'DET'), ('modular', 'ADJ'), ('approach', 'NOUN'), ('to', 'ADP'), ('the', 'DET'), ('design', 'NOUN'), ('of', 'ADP'), ('battery', 'NOUN'), ('systems', 'NOUN'), (',', 'PUNCT'), ('we', 'PRON'), ('can', 'AUX'), ('optimize', 'VERB'), ('manufacturing', 'NOUN'), ('capacity', 'NOUN'), ('of', 'ADP'), ('our', 'PRON'), ('energy', 'NOUN'), ('storage', 'NOUN'), ('products', 'NOUN'), ('.', 'PUNCT'), ('Additionally', 'ADV'), (',', 'PUNCT'), ('our', 'PRON'), ('expertise', 'NOUN'), ('in', 'ADP'), ('power', 'NOUN'), ('electronics', 'NOUN'), ('enables', 'VERB'), ('our', 'PRON'), ('battery', 'NOUN'), ('systems', 'NOUN'), ('to', 'PART'), ('interconnect', 'VERB'), ('with', 'ADP'), ('electricity', 'NOUN'), ('grids', 'NOUN'), ('while', 'SCONJ'), ('providing', 'VERB'), ('fast', 'ADJ'), ('-', 'PUNCT'), ('acting', 'VERB'), ('systems', 'NOUN'), ('for', 'ADP'), ('power', 'NOUN'), ('injection', 'NOUN'), ('and', 'CCONJ'), ('absorption', 'NOUN'), ('.', 'PUNCT'), ('We', 'PRON'), ('have', 'AUX'), ('also', 'ADV'), ('developed', 'VERB'), ('software', 'NOUN'), ('to', 'PART'), ('remotely', 'ADV'), ('control', 'VERB'), ('and', 'CCONJ'), ('dispatch', 'VERB'), ('our', 'PRON'), ('energy', 'NOUN'), ('storage', 'NOUN'), ('systems', 'NOUN'), ('.', 'PUNCT'), ('Solar', 'PROPN'), ('Energy', 'PROPN'), ('Systems', 'PROPN'), ('We', 'PRON'), ('have', 'AUX'), ('engineered', 'VERB'), ('Solar', 'PROPN'), ('Roof', 'PROPN'), ('over', 'ADP'), ('numerous', 'ADJ'), ('iterations', 'NOUN'), ('to', 'PART'), ('combine', 'VERB'), ('aesthetic', 'ADJ'), ('appeal', 'NOUN'), ('and', 'CCONJ'), ('durability', 'NOUN'), ('with', 'ADP'), ('power', 'NOUN'), ('generation', 'NOUN'), ('.', 'PUNCT'), ('The', 'DET'), ('efficiency', 'NOUN'), ('of', 'ADP'), ('our', 'PRON'), ('solar', 'ADJ'), ('energy', 'NOUN'), ('products', 'NOUN'), ('is', 'AUX'), ('aided', 'VERB'), ('by', 'ADP'), ('our', 'PRON'), ('own', 'ADJ'), ('solar', 'ADJ'), ('inverter', 'NOUN'), (',', 'PUNCT'), ('which', 'PRON'), ('incorporates', 'VERB'), ('our', 'PRON'), ('power', 'NOUN'), ('electronics', 'NOUN'), ('technologies', 'NOUN'), ('.', 'PUNCT'), ('We', 'PRON'), ('designed', 'VERB'), ('both', 'DET'), ('products', 'NOUN'), ('to', 'PART'), ('integrate', 'VERB'), ('with', 'ADP'), ('Powerwall', 'PROPN'), ('.', 'PUNCT'), ('Design', 'NOUN'), ('and', 'CCONJ'), ('Engineering', 'PROPN'), ('Automotive', 'PROPN'), ('We', 'PRON'), ('have', 'AUX'), ('established', 'VERB'), ('significant', 'ADJ'), ('in', 'ADP'), ('-', 'PUNCT'), ('house', 'NOUN'), ('capabilities', 'NOUN'), ('in', 'ADP'), ('the', 'DET'), ('design', 'NOUN'), ('and', 'CCONJ'), ('test', 'NOUN'), ('engineering', 'NOUN'), ('of', 'ADP'), ('electric', 'ADJ'), ('vehicles', 'NOUN'), ('and', 'CCONJ'), ('their', 'PRON'), ('components', 'NOUN'), ('and', 'CCONJ'), ('systems', 'NOUN'), ('.', 'PUNCT'), ('Our', 'PRON'), ('team', 'NOUN'), ('has', 'VERB'), ('significant', 'ADJ'), ('experience', 'NOUN'), ('in', 'ADP'), ('computer', 'NOUN'), ('-', 'PUNCT'), ('aided', 'VERB'), ('design', 'NOUN'), ('as', 'ADV'), ('well', 'ADV'), ('as', 'ADP'), ('durability', 'NOUN'), (',', 'PUNCT'), ('strength', 'NOUN'), ('and', 'CCONJ'), ('crash', 'NOUN'), ('test', 'NOUN'), ('simulations', 'NOUN'), (',', 'PUNCT'), ('which', 'PRON'), ('reduces', 'VERB'), ('the', 'DET'), ('product', 'NOUN'), ('development', 'NOUN'), ('time', 'NOUN'), ('of', 'ADP'), ('new', 'ADJ'), ('models', 'NOUN'), ('.', 'PUNCT'), ('We', 'PRON'), ('have', 'AUX'), ('also', 'ADV'), ('achieved', 'VERB'), ('complex', 'ADJ'), ('engineering', 'NOUN'), ('feats', 'NOUN'), ('in', 'ADP'), ('stamping', 'NOUN'), (',', 'PUNCT'), ('casting', 'NOUN'), ('and', 'CCONJ'), ('thermal', 'ADJ'), ('systems', 'NOUN'), (',', 'PUNCT'), ('and', 'CCONJ'), ('developed', 'VERB'), ('a', 'DET'), ('method', 'NOUN'), ('to', 'PART'), ('integrate', 'VERB'), ('batteries', 'NOUN'), ('directly', 'ADV'), ('with', 'ADP'), ('vehicle', 'NOUN'), ('body', 'NOUN'), ('structures', 'NOUN'), ('without', 'ADP'), ('separate', 'ADJ'), ('battery', 'NOUN'), ('packs', 'NOUN'), ('to', 'PART'), ('optimize', 'VERB'), ('manufacturability', 'NOUN'), (',', 'PUNCT'), ('weight', 'NOUN'), (',', 'PUNCT'), ('range', 'NOUN'), ('and', 'CCONJ'), ('cost', 'NOUN'), ('characteristics', 'NOUN'), ('.', 'PUNCT'), ('We', 'PRON'), ('are', 'AUX'), ('also', 'ADV'), ('expanding', 'VERB'), ('our', 'PRON'), ('manufacturing', 'VERB'), ('operations', 'NOUN'), ('globally', 'ADV'), ('while', 'SCONJ'), ('taking', 'VERB'), ('action', 'NOUN'), ('to', 'PART'), ('localize', 'VERB'), ('our', 'PRON'), ('vehicle', 'NOUN'), ('designs', 'NOUN'), ('and', 'CCONJ'), ('production', 'NOUN'), ('for', 'ADP'), ('particular', 'ADJ'), ('markets', 'NOUN'), (',', 'PUNCT'), ('including', 'VERB'), ('country', 'NOUN'), ('-', 'PUNCT'), ('specific', 'ADJ'), ('market', 'NOUN'), ('demands', 'NOUN'), ('and', 'CCONJ'), ('factory', 'NOUN'), ('optimizations', 'NOUN'), ('for', 'ADP'), ('local', 'ADJ'), ('workforces', 'NOUN'), ('.', 'PUNCT'), ('As', 'SCONJ'), ('we', 'PRON'), ('increase', 'VERB'), ('our', 'PRON'), ('capabilities', 'NOUN'), (',', 'PUNCT'), ('particularly', 'ADV'), ('in', 'ADP'), ('the', 'DET'), ('areas', 'NOUN'), ('of', 'ADP'), ('automation', 'NOUN'), (',', 'PUNCT'), ('die', 'NOUN'), ('-', 'PUNCT'), ('making', 'NOUN'), ('and', 'CCONJ'), ('line', 'NOUN'), ('-', 'PUNCT'), ('building', 'NOUN'), (',', 'PUNCT'), ('we', 'PRON'), ('are', 'AUX'), ('also', 'ADV'), ('making', 'VERB'), ('strides', 'NOUN'), ('in', 'ADP'), ('the', 'DET'), ('simulations', 'NOUN'), ('modeling', 'VERB'), ('these', 'DET'), ('capabilities', 'NOUN'), ('prior', 'ADV'), ('to', 'ADP'), ('construction', 'NOUN'), ('.', 'PUNCT'), ('Energy', 'PROPN'), ('Generation', 'PROPN'), ('and', 'CCONJ'), ('Storage', 'PROPN'), ('Our', 'PRON'), ('expertise', 'NOUN'), ('in', 'ADP'), ('electrical', 'ADJ'), (',', 'PUNCT'), ('mechanical', 'ADJ'), (',', 'PUNCT'), ('civil', 'ADJ'), ('and', 'CCONJ'), ('software', 'NOUN'), ('engineering', 'NOUN'), ('allows', 'VERB'), ('us', 'PRON'), ('to', 'PART'), ('design', 'VERB'), (',', 'PUNCT'), ('engineer', 'NOUN'), (',', 'PUNCT'), ('manufacture', 'NOUN'), ('and', 'CCONJ'), ('install', 'VERB'), ('energy', 'NOUN'), ('generating', 'VERB'), ('and', 'CCONJ'), ('storage', 'NOUN'), ('products', 'NOUN'), ('and', 'CCONJ'), ('components', 'NOUN'), (',', 'PUNCT'), ('including', 'VERB'), ('at', 'ADP'), ('the', 'DET'), ('residential', 'ADJ'), ('through', 'ADP'), ('utility', 'NOUN'), ('scale', 'NOUN'), ('.', 'PUNCT'), ('For', 'ADP'), ('example', 'NOUN'), (',', 'PUNCT'), ('the', 'DET'), ('modular', 'ADJ'), ('design', 'NOUN'), ('of', 'ADP'), ('our', 'PRON'), ('Megapack', 'PROPN'), ('utility', 'NOUN'), ('-', 'PUNCT'), ('scale', 'NOUN'), ('battery', 'NOUN'), ('line', 'NOUN'), ('is', 'AUX'), ('intended', 'VERB'), ('to', 'PART'), ('significantly', 'ADV'), ('reduce', 'VERB'), ('the', 'DET'), ('amount', 'NOUN'), ('of', 'ADP'), ('assembly', 'NOUN'), ('required', 'VERB'), ('in', 'ADP'), ('the', 'DET'), ('field', 'NOUN'), ('.', 'PUNCT'), ('We', 'PRON'), ('also', 'ADV'), ('customize', 'VERB'), ('solutions', 'NOUN'), ('including', 'VERB'), ('our', 'PRON'), ('energy', 'NOUN'), ('storage', 'NOUN'), ('products', 'NOUN'), (',', 'PUNCT'), ('solar', 'ADJ'), ('energy', 'NOUN'), ('systems', 'NOUN'), ('and/or', 'CCONJ'), ('Solar', 'PROPN'), ('Roof', 'PROPN'), ('for', 'SCONJ'), ('customers', 'NOUN'), ('to', 'PART'), ('meet', 'VERB'), ('their', 'PRON'), ('specific', 'ADJ'), ('needs', 'NOUN'), ('.', 'PUNCT'), ('Sales', 'NOUN'), ('and', 'CCONJ'), ('Marketing', 'PROPN'), ('Historically', 'ADV'), (',', 'PUNCT'), ('we', 'PRON'), ('have', 'AUX'), ('been', 'AUX'), ('able', 'ADJ'), ('to', 'PART'), ('achieve', 'VERB'), ('sales', 'NOUN'), ('without', 'ADP'), ('traditional', 'ADJ'), ('advertising', 'NOUN'), ('and', 'CCONJ'), ('at', 'ADP'), ('relatively', 'ADV'), ('low', 'ADJ'), ('marketing', 'NOUN'), ('costs', 'NOUN'), ('.', 'PUNCT'), ('We', 'PRON'), ('continue', 'VERB'), ('to', 'PART'), ('monitor', 'VERB'), ('our', 'PRON'), ('public', 'ADJ'), ('narrative', 'NOUN'), ('and', 'CCONJ'), ('brand', 'NOUN'), (',', 'PUNCT'), ('and', 'CCONJ'), ('tailor', 'VERB'), ('our', 'PRON'), ('marketing', 'NOUN'), ('efforts', 'NOUN'), ('accordingly', 'ADV'), (',', 'PUNCT'), ('including', 'VERB'), ('through', 'ADP'), ('investments', 'NOUN'), ('in', 'ADP'), ('customer', 'NOUN'), ('education', 'NOUN'), ('and', 'CCONJ'), ('advertising', 'NOUN'), ('as', 'ADP'), ('necessary', 'ADJ'), ('.', 'PUNCT'), ('Automotive', 'PROPN'), ('Direct', 'PROPN'), ('Sales', 'PROPN'), ('Our', 'PRON'), ('vehicle', 'NOUN'), ('sales', 'NOUN'), ('channels', 'NOUN'), ('currently', 'ADV'), ('include', 'VERB'), ('our', 'PRON'), ('website', 'NOUN'), ('and', 'CCONJ'), ('an', 'DET'), ('international', 'ADJ'), ('network', 'NOUN'), ('of', 'ADP'), ('company', 'NOUN'), ('-', 'PUNCT'), ('owned', 'VERB'), ('stores', 'NOUN'), ('.', 'PUNCT'), ('In', 'ADP'), ('some', 'DET'), ('jurisdictions', 'NOUN'), (',', 'PUNCT'), ('we', 'PRON'), ('also', 'ADV'), ('have', 'VERB'), ('galleries', 'NOUN'), ('to', 'PART'), ('educate', 'VERB'), ('and', 'CCONJ'), ('inform', 'VERB'), ('customers', 'NOUN'), ('about', 'ADP'), ('our', 'PRON'), ('products', 'NOUN'), (',', 'PUNCT'), ('but', 'CCONJ'), ('such', 'ADJ'), ('locations', 'NOUN'), ('do', 'AUX'), ('not', 'PART'), ('transact', 'VERB'), ('in', 'ADP'), ('the', 'DET'), ('sale', 'NOUN'), ('of', 'ADP'), ('vehicles', 'NOUN'), ('.', 'PUNCT'), ('We', 'PRON'), ('believe', 'VERB'), ('this', 'DET'), ('infrastructure', 'NOUN'), ('enables', 'VERB'), ('us', 'PRON'), ('to', 'PART'), ('better', 'ADJ'), ('control', 'NOUN'), ('costs', 'NOUN'), ('of', 'ADP'), ('inventory', 'NOUN'), (',', 'PUNCT'), ('manage', 'VERB'), ('warranty', 'NOUN'), ('service', 'NOUN'), ('and', 'CCONJ'), ('pricing', 'NOUN'), (',', 'PUNCT'), ('educate', 'VERB'), ('consumers', 'NOUN'), ('about', 'ADP'), ('electric', 'ADJ'), ('vehicles', 'NOUN'), (',', 'PUNCT'), ('make', 'VERB'), ('our', 'PRON'), ('vehicles', 'NOUN'), ('more', 'ADV'), ('affordable', 'ADJ'), (',', 'PUNCT'), ('maintain', 'VERB'), ('and', 'CCONJ'), ('strengthen', 'VERB'), ('the', 'DET'), ('Tesla', 'PROPN'), ('brand', 'NOUN'), ('and', 'CCONJ'), ('obtain', 'VERB'), ('rapid', 'ADJ'), ('customer', 'NOUN'), ('feedback', 'NOUN'), ('.', 'PUNCT'), ('We', 'PRON'), ('reevaluate', 'VERB'), ('our', 'PRON'), ('sales', 'NOUN'), ('strategy', 'NOUN'), ('both', 'CCONJ'), ('globally', 'ADV'), ('and', 'CCONJ'), ('at', 'ADP'), ('a', 'DET'), ('location', 'NOUN'), ('-', 'PUNCT'), ('by', 'ADP'), ('-', 'PUNCT'), ('location', 'NOUN'), ('level', 'NOUN'), ('from', 'ADP'), ('time', 'NOUN'), ('to', 'ADP'), ('time', 'NOUN'), ('to', 'PART'), ('optimize', 'VERB'), ('our', 'PRON'), ('sales', 'NOUN'), ('channels', 'NOUN'), ('.', 'PUNCT'), ('However', 'ADV'), (',', 'PUNCT'), ('sales', 'NOUN'), ('of', 'ADP'), ('vehicles', 'NOUN'), ('in', 'ADP'), ('the', 'DET'), ('automobile', 'NOUN'), ('industry', 'NOUN'), ('tend', 'VERB'), ('to', 'PART'), ('be', 'AUX'), ('cyclical', 'ADJ'), ('in', 'ADP'), ('many', 'ADJ'), ('markets', 'NOUN'), (',', 'PUNCT'), ('which', 'PRON'), ('may', 'AUX'), ('expose', 'VERB'), ('us', 'PRON'), ('to', 'ADP'), ('volatility', 'NOUN'), ('from', 'ADP'), ('time', 'NOUN'), ('to', 'ADP'), ('time', 'NOUN'), ('.', 'PUNCT'), ('Used', 'VERB'), ('Vehicle', 'PROPN'), ('Sales', 'NOUN'), ('Our', 'PRON'), ('used', 'ADJ'), ('vehicle', 'NOUN'), ('business', 'NOUN'), ('supports', 'VERB'), ('new', 'ADJ'), ('vehicle', 'NOUN'), ('sales', 'NOUN'), ('by', 'ADP'), ('integrating', 'VERB'), ('the', 'DET'), ('trade', 'NOUN'), ('-', 'PUNCT'), ('in', 'NOUN'), ('of', 'ADP'), ('a', 'DET'), ('customer&#8217;s', 'NOUN'), ('existing', 'VERB'), ('Tesla', 'PROPN'), ('or', 'CCONJ'), ('non', 'ADJ'), ('-', 'ADJ'), ('Tesla', 'ADJ'), ('vehicle', 'NOUN'), ('with', 'ADP'), ('the', 'DET'), ('sale', 'NOUN'), ('of', 'ADP'), ('a', 'DET'), ('new', 'ADJ'), ('or', 'CCONJ'), ('used', 'VERB'), ('Tesla', 'PROPN'), ('vehicle', 'NOUN'), ('.', 'PUNCT'), ('The', 'DET'), ('Tesla', 'PROPN'), ('and', 'CCONJ'), ('non', 'ADJ'), ('-', 'ADJ'), ('Tesla', 'ADJ'), ('vehicles', 'NOUN'), ('we', 'PRON'), ('acquire', 'VERB'), ('as', 'SCONJ'), ('trade', 'NOUN'), ('-', 'PUNCT'), ('ins', 'NOUN'), ('are', 'AUX'), ('subsequently', 'ADV'), ('remarketed', 'VERB'), (',', 'PUNCT'), ('either', 'ADV'), ('directly', 'ADV'), ('by', 'ADP'), ('us', 'PRON'), ('or', 'CCONJ'), ('through', 'ADP'), ('third', 'ADJ'), ('parties', 'NOUN'), ('.', 'PUNCT'), ('We', 'PRON'), ('also', 'ADV'), ('remarket', 'VERB'), ('used', 'VERB'), ('Tesla', 'PROPN'), ('vehicles', 'NOUN'), ('acquired', 'VERB'), ('from', 'ADP'), ('other', 'ADJ'), ('sources', 'NOUN'), ('including', 'VERB'), ('lease', 'NOUN'), ('returns', 'NOUN'), ('.', 'PUNCT'), ('Public', 'PROPN'), ('Charging', 'PROPN'), ('We', 'PRON'), ('have', 'VERB'), ('a', 'DET'), ('growing', 'VERB'), ('global', 'ADJ'), ('network', 'NOUN'), ('of', 'ADP'), ('Tesla', 'PROPN'), ('Superchargers', 'PROPN'), (',', 'PUNCT'), ('which', 'PRON'), ('are', 'AUX'), ('our', 'PRON'), ('industrial', 'ADJ'), ('-', 'PUNCT'), ('grade', 'NOUN'), (',', 'PUNCT'), ('high', 'ADJ'), ('-', 'PUNCT'), ('speed', 'NOUN'), ('vehicle', 'NOUN'), ('chargers', 'NOUN'), ('.', 'PUNCT'), ('Where', 'SCONJ'), ('possible', 'ADJ'), (',', 'PUNCT'), ('we', 'PRON'), ('co', 'VERB'), ('-', 'ADJ'), ('locate', 'ADJ'), ('Superchargers', 'PROPN'), ('with', 'ADP'), ('our', 'PRON'), ('solar', 'ADJ'), ('and', 'CCONJ'), ('energy', 'NOUN'), ('storage', 'NOUN'), ('systems', 'NOUN'), ('to', 'PART'), ('reduce', 'VERB'), ('costs', 'NOUN'), ('and', 'CCONJ'), ('promote', 'VERB'), ('renewable', 'ADJ'), ('power', 'NOUN'), ('.', 'PUNCT'), ('Supercharger', 'NOUN'), ('stations', 'NOUN'), ('are', 'AUX'), ('typically', 'ADV'), ('placed', 'VERB'), ('along', 'ADP'), ('well', 'ADV'), ('-', 'PUNCT'), ('traveled', 'VERB'), ('routes', 'NOUN'), ('and', 'CCONJ'), ('in', 'ADP'), ('and', 'CCONJ'), ('around', 'ADP'), ('dense', 'ADJ'), ('city', 'NOUN'), ('centers', 'NOUN'), ('to', 'PART'), ('allow', 'VERB'), ('vehicle', 'NOUN'), ('owners', 'NOUN'), ('the', 'DET'), ('ability', 'NOUN'), ('to', 'PART'), ('enjoy', 'VERB'), ('quick', 'ADJ'), (',', 'PUNCT'), ('reliable', 'ADJ'), ('charging', 'NOUN'), ('along', 'ADP'), ('an', 'DET'), ('extensive', 'ADJ'), ('network', 'NOUN'), ('with', 'ADP'), ('convenient', 'ADJ'), ('stops', 'NOUN'), ('.', 'PUNCT'), ('Use', 'NOUN'), ('of', 'ADP'), ('the', 'DET'), ('Supercharger', 'PROPN'), ('network', 'NOUN'), ('either', 'CCONJ'), ('requires', 'VERB'), ('payment', 'NOUN'), ('of', 'ADP'), ('a', 'DET'), ('fee', 'NOUN'), ('or', 'CCONJ'), ('is', 'AUX'), ('free', 'ADJ'), ('under', 'ADP'), ('certain', 'ADJ'), ('sales', 'NOUN'), ('programs', 'NOUN'), ('.', 'PUNCT'), ('In', 'ADP'), ('November', 'PROPN'), ('2021', 'NUM'), (',', 'PUNCT'), ('we', 'PRON'), ('began', 'VERB'), ('to', 'PART'), ('offer', 'VERB'), ('Supercharger', 'NOUN'), ('access', 'NOUN'), ('to', 'ADP'), ('non', 'ADJ'), ('-', 'ADJ'), ('Tesla', 'ADJ'), ('vehicles', 'NOUN'), ('in', 'ADP'), ('certain', 'ADJ'), ('locations', 'NOUN'), ('in', 'ADP'), ('support', 'NOUN'), ('of', 'ADP'), ('our', 'PRON'), ('mission', 'NOUN'), ('to', 'PART'), ('accelerate', 'VERB'), ('the', 'DET'), ('world&#8217;s', 'NOUN'), ('transition', 'NOUN'), ('to', 'ADP'), ('sustainable', 'ADJ'), ('energy', 'NOUN'), (',', 'PUNCT'), ('and', 'CCONJ'), ('in', 'ADP'), ('November', 'PROPN'), ('2022', 'NUM'), (',', 'PUNCT'), ('we', 'PRON'), ('opened', 'VERB'), ('up', 'ADP'), ('our', 'PRON'), ('previously', 'ADV'), ('proprietary', 'ADJ'), ('charging', 'VERB'), ('connector', 'NOUN'), ('as', 'ADP'), ('the', 'DET'), ('North', 'PROPN'), ('American', 'PROPN'), ('Charging', 'PROPN'), ('Standard', 'PROPN'), ('(', 'PUNCT'), ('NACS', 'PROPN'), (')', 'PUNCT'), ('.', 'PUNCT'), ('This', 'PRON'), ('enables', 'VERB'), ('all', 'DET'), ('electric', 'ADJ'), ('vehicles', 'NOUN'), ('and', 'CCONJ'), ('charging', 'VERB'), ('stations', 'NOUN'), ('to', 'PART'), ('interoperate', 'VERB'), ('&', 'CCONJ'), ('#', 'SYM'), ('8212', 'NUM'), (';', 'PUNCT'), ('which', 'PRON'), ('makes', 'VERB'), ('charging', 'VERB'), ('easier', 'ADJ'), ('and', 'CCONJ'), ('more', 'ADV'), ('efficient', 'ADJ'), ('for', 'ADP'), ('everyone', 'PRON'), ('and', 'CCONJ'), ('advances', 'VERB'), ('our', 'PRON'), ('mission', 'NOUN'), ('to', 'PART'), ('accelerate', 'VERB'), ('the', 'DET'), ('world&#8217;s', 'NOUN'), ('transition', 'NOUN'), ('to', 'ADP'), ('sustainable', 'ADJ'), ('energy', 'NOUN'), ('.', 'PUNCT'), ('Following', 'VERB'), ('this', 'PRON'), (',', 'PUNCT'), ('a', 'DET'), ('number', 'NOUN'), ('of', 'ADP'), ('major', 'ADJ'), ('automotive', 'ADJ'), ('companies', 'NOUN'), ('announced', 'VERB'), ('their', 'PRON'), ('adoption', 'NOUN'), ('of', 'ADP'), ('NACS', 'PROPN'), (',', 'PUNCT'), ('with', 'ADP'), ('their', 'PRON'), ('access', 'NOUN'), ('to', 'ADP'), ('the', 'DET'), ('Supercharger', 'PROPN'), ('network', 'NOUN'), ('beginning', 'VERB'), ('in', 'ADP'), ('phases', 'NOUN'), ('in', 'ADP'), ('2024', 'NUM'), ('and', 'CCONJ'), ('their', 'PRON'), ('production', 'NOUN'), ('of', 'ADP'), ('NACS', 'PROPN'), ('vehicles', 'NOUN'), ('beginning', 'VERB'), ('no', 'ADV'), ('later', 'ADV'), ('than', 'ADP'), ('2025', 'NUM'), ('.', 'PUNCT'), ('We', 'PRON'), ('also', 'ADV'), ('engaged', 'VERB'), ('SAE', 'PROPN'), ('International', 'PROPN'), ('to', 'PART'), ('govern', 'VERB'), ('NACS', 'PROPN'), ('as', 'ADP'), ('an', 'DET'), ('industry', 'NOUN'), ('standard', 'NOUN'), (',', 'PUNCT'), ('now', 'ADV'), ('named', 'VERB'), ('J3400', 'PROPN'), ('.', 'PUNCT'), ('We', 'PRON'), ('continue', 'VERB'), ('to', 'PART'), ('monitor', 'VERB'), ('and', 'CCONJ'), ('increase', 'VERB'), ('our', 'PRON'), ('network', 'NOUN'), ('of', 'ADP'), ('Tesla', 'PROPN'), ('Superchargers', 'PROPN'), ('in', 'ADP'), ('anticipation', 'NOUN'), ('of', 'ADP'), ('future', 'ADJ'), ('demand', 'NOUN'), ('.', 'PUNCT'), ('We', 'PRON'), ('also', 'ADV'), ('work', 'VERB'), ('with', 'ADP'), ('a', 'DET'), ('wide', 'ADJ'), ('variety', 'NOUN'), ('of', 'ADP'), ('hospitality', 'NOUN'), (',', 'PUNCT'), ('retail', 'ADJ'), ('and', 'CCONJ'), ('public', 'ADJ'), ('destinations', 'NOUN'), (',', 'PUNCT'), ('as', 'ADV'), ('well', 'ADV'), ('as', 'ADP'), ('businesses', 'NOUN'), ('with', 'ADP'), ('commuting', 'VERB'), ('employees', 'NOUN'), (',', 'PUNCT'), ('to', 'PART'), ('offer', 'VERB'), ('additional', 'ADJ'), ('charging', 'VERB'), ('options', 'NOUN'), ('for', 'ADP'), ('our', 'PRON'), ('customers', 'NOUN'), (',', 'PUNCT'), ('as', 'ADV'), ('well', 'ADV'), ('as', 'ADP'), ('single', 'ADJ'), ('-', 'PUNCT'), ('family', 'NOUN'), ('homeowners', 'NOUN'), ('and', 'CCONJ'), ('multi', 'ADJ'), ('-', 'ADJ'), ('family', 'ADJ'), ('residential', 'ADJ'), ('entities', 'NOUN'), (',', 'PUNCT'), ('to', 'PART'), ('deploy', 'VERB'), ('home', 'NOUN'), ('charging', 'VERB'), ('solutions', 'NOUN'), ('.', 'PUNCT'), ('In', 'ADP'), ('-', 'PUNCT'), ('App', 'PROPN'), ('Upgrades', 'PROPN'), ('As', 'SCONJ'), ('our', 'PRON'), ('vehicles', 'NOUN'), ('are', 'AUX'), ('capable', 'ADJ'), ('of', 'ADP'), ('being', 'AUX'), ('updated', 'VERB'), ('remotely', 'ADV'), ('over', 'ADP'), ('-', 'PUNCT'), ('the', 'DET'), ('-', 'PUNCT'), ('air', 'NOUN'), (',', 'PUNCT'), ('our', 'PRON'), ('customers', 'NOUN'), ('may', 'AUX'), ('purchase', 'VERB'), ('additional', 'ADJ'), ('paid', 'VERB'), ('options', 'NOUN'), ('and', 'CCONJ'), ('features', 'NOUN'), ('through', 'ADP'), ('the', 'DET'), ('Tesla', 'PROPN'), ('app', 'NOUN'), ('or', 'CCONJ'), ('through', 'ADP'), ('the', 'DET'), ('in', 'ADP'), ('-', 'PUNCT'), ('vehicle', 'NOUN'), ('user', 'NOUN'), ('interface', 'NOUN'), ('.', 'PUNCT'), ('We', 'PRON'), ('expect', 'VERB'), ('that', 'SCONJ'), ('this', 'DET'), ('functionality', 'NOUN'), ('will', 'AUX'), ('also', 'ADV'), ('allow', 'VERB'), ('us', 'PRON'), ('to', 'PART'), ('offer', 'VERB'), ('certain', 'ADJ'), ('options', 'NOUN'), ('and', 'CCONJ'), ('features', 'NOUN'), ('on', 'ADP'), ('a', 'DET'), ('subscription', 'NOUN'), ('basis', 'NOUN'), ('in', 'ADP'), ('the', 'DET'), ('future', 'NOUN'), ('.', 'PUNCT'), ('Energy', 'PROPN'), ('Generation', 'PROPN'), ('and', 'CCONJ'), ('Storage', 'PROPN'), ('We', 'PRON'), ('market', 'VERB'), ('and', 'CCONJ'), ('sell', 'VERB'), ('our', 'PRON'), ('solar', 'ADJ'), ('and', 'CCONJ'), ('energy', 'NOUN'), ('storage', 'NOUN'), ('products', 'NOUN'), ('to', 'ADP'), ('residential', 'ADJ'), (',', 'PUNCT'), ('commercial', 'ADJ'), ('and', 'CCONJ'), ('industrial', 'ADJ'), ('customers', 'NOUN'), ('and', 'CCONJ'), ('utilities', 'NOUN'), ('through', 'ADP'), ('a', 'DET'), ('variety', 'NOUN'), ('of', 'ADP'), ('channels', 'NOUN'), (',', 'PUNCT'), ('including', 'VERB'), ('through', 'ADP'), ('our', 'PRON'), ('website', 'NOUN'), (',', 'PUNCT'), ('stores', 'NOUN'), ('and', 'CCONJ'), ('galleries', 'NOUN'), (',', 'PUNCT'), ('as', 'ADV'), ('well', 'ADV'), ('as', 'ADP'), ('through', 'ADP'), ('our', 'PRON'), ('network', 'NOUN'), ('of', 'ADP'), ('channel', 'NOUN'), ('partners', 'NOUN'), (',', 'PUNCT'), ('and', 'CCONJ'), ('in', 'ADP'), ('the', 'DET'), ('case', 'NOUN'), ('of', 'ADP'), ('some', 'DET'), ('commercial', 'ADJ'), ('customers', 'NOUN'), (',', 'PUNCT'), ('through', 'ADP'), ('PPA', 'PROPN'), ('transactions', 'NOUN'), ('.', 'PUNCT'), ('We', 'PRON'), ('emphasize', 'VERB'), ('simplicity', 'NOUN'), (',', 'PUNCT'), ('standardization', 'NOUN'), ('and', 'CCONJ'), ('accessibility', 'NOUN'), ('to', 'PART'), ('make', 'VERB'), ('it', 'PRON'), ('easy', 'ADJ'), ('and', 'CCONJ'), ('cost', 'NOUN'), ('-', 'PUNCT'), ('effective', 'ADJ'), ('for', 'SCONJ'), ('customers', 'NOUN'), ('to', 'PART'), ('adopt', 'VERB'), ('clean', 'ADJ'), ('energy', 'NOUN'), (',', 'PUNCT'), ('while', 'SCONJ'), ('reducing', 'VERB'), ('our', 'PRON'), ('customer', 'NOUN'), ('acquisition', 'NOUN'), ('costs', 'NOUN'), ('.', 'PUNCT'), ('Service', 'NOUN'), ('and', 'CCONJ'), ('Warranty', 'PROPN'), ('Automotive', 'PROPN'), ('Service', 'PROPN'), ('We', 'PRON'), ('provide', 'VERB'), ('service', 'NOUN'), ('for', 'ADP'), ('our', 'PRON'), ('electric', 'ADJ'), ('vehicles', 'NOUN'), ('at', 'ADP'), ('our', 'PRON'), ('company', 'NOUN'), ('-', 'PUNCT'), ('owned', 'VERB'), ('service', 'NOUN'), ('locations', 'NOUN'), ('and', 'CCONJ'), ('through', 'ADP'), ('Tesla', 'PROPN'), ('Mobile', 'PROPN'), ('Service', 'PROPN'), ('technicians', 'NOUN'), ('who', 'PRON'), ('perform', 'VERB'), ('work', 'NOUN'), ('remotely', 'ADV'), ('at', 'ADP'), ('customers&#8217', 'PROPN'), (';', 'PUNCT'), ('homes', 'NOUN'), ('or', 'CCONJ'), ('other', 'ADJ'), ('locations', 'NOUN'), ('.', 'PUNCT'), ('Servicing', 'VERB'), ('the', 'DET'), ('vehicles', 'NOUN'), ('ourselves', 'PRON'), ('allows', 'VERB'), ('us', 'PRON'), ('to', 'PART'), ('identify', 'VERB'), ('problems', 'NOUN'), ('and', 'CCONJ'), ('implement', 'VERB'), ('solutions', 'NOUN'), ('and', 'CCONJ'), ('improvements', 'NOUN'), ('faster', 'ADV'), ('than', 'ADP'), ('traditional', 'ADJ'), ('automobile', 'NOUN'), ('manufacturers', 'NOUN'), ('and', 'CCONJ'), ('their', 'PRON'), ('dealer', 'NOUN'), ('networks', 'NOUN'), ('.', 'PUNCT'), ('The', 'DET'), ('connectivity', 'NOUN'), ('of', 'ADP'), ('our', 'PRON'), ('vehicles', 'NOUN'), ('also', 'ADV'), ('allows', 'VERB'), ('us', 'PRON'), ('to', 'PART'), ('diagnose', 'VERB'), ('and', 'CCONJ'), ('remedy', 'VERB'), ('many', 'ADJ'), ('problems', 'NOUN'), ('remotely', 'ADV'), ('and', 'CCONJ'), ('proactively', 'ADV'), ('.', 'PUNCT'), ('Vehicle', 'PROPN'), ('Limited', 'PROPN'), ('Warranties', 'PROPN'), ('and', 'CCONJ'), ('Extended', 'PROPN'), ('Service', 'PROPN'), ('Plans', 'NOUN'), ('We', 'PRON'), ('provide', 'VERB'), ('a', 'DET'), ('manufacturer&#8217;s', 'NOUN'), ('limited', 'VERB'), ('warranty', 'NOUN'), ('on', 'ADP'), ('all', 'PRON'), ('new', 'ADJ'), ('and', 'CCONJ'), ('used', 'VERB'), ('Tesla', 'PROPN'), ('vehicles', 'NOUN'), ('we', 'PRON'), ('sell', 'VERB'), ('directly', 'ADV'), ('to', 'ADP'), ('consumers', 'NOUN'), (',', 'PUNCT'), ('which', 'PRON'), ('may', 'AUX'), ('include', 'VERB'), ('limited', 'ADJ'), ('warranties', 'NOUN'), ('on', 'ADP'), ('certain', 'ADJ'), ('components', 'NOUN'), (',', 'PUNCT'), ('specific', 'ADJ'), ('types', 'NOUN'), ('of', 'ADP'), ('damage', 'NOUN'), ('or', 'CCONJ'), ('battery', 'NOUN'), ('capacity', 'NOUN'), ('retention', 'NOUN'), ('.', 'PUNCT'), ('We', 'PRON'), ('also', 'ADV'), ('currently', 'ADV'), ('offer', 'VERB'), ('optional', 'ADJ'), ('extended', 'ADJ'), ('service', 'NOUN'), ('plans', 'NOUN'), ('that', 'PRON'), ('provide', 'VERB'), ('coverage', 'NOUN'), ('beyond', 'ADP'), ('the', 'DET'), ('new', 'ADJ'), ('vehicle', 'NOUN'), ('limited', 'ADJ'), ('warranties', 'NOUN'), ('for', 'ADP'), ('certain', 'ADJ'), ('models', 'NOUN'), ('in', 'ADP'), ('specified', 'VERB'), ('regions', 'NOUN'), ('.', 'PUNCT'), ('Energy', 'PROPN'), ('Generation', 'PROPN'), ('and', 'CCONJ'), ('Storage', 'PROPN'), ('We', 'PRON'), ('provide', 'VERB'), ('service', 'NOUN'), ('and', 'CCONJ'), ('repairs', 'NOUN'), ('to', 'ADP'), ('our', 'PRON'), ('energy', 'NOUN'), ('product', 'NOUN'), ('customers', 'NOUN'), (',', 'PUNCT'), ('including', 'VERB'), ('under', 'ADP'), ('warranty', 'NOUN'), ('where', 'SCONJ'), ('applicable', 'ADJ'), ('.', 'PUNCT'), ('We', 'PRON'), ('generally', 'ADV'), ('provide', 'VERB'), ('manufacturer&#8217;s', 'NOUN'), ('limited', 'VERB'), ('warranties', 'NOUN'), ('with', 'ADP'), ('our', 'PRON'), ('energy', 'NOUN'), ('storage', 'NOUN'), ('products', 'NOUN'), ('and', 'CCONJ'), ('offer', 'VERB'), ('certain', 'ADJ'), ('extended', 'ADJ'), ('limited', 'ADJ'), ('warranties', 'NOUN'), ('that', 'PRON'), ('are', 'AUX'), ('available', 'ADJ'), ('at', 'ADP'), ('the', 'DET'), ('time', 'NOUN'), ('of', 'ADP'), ('purchase', 'NOUN'), ('of', 'ADP'), ('the', 'DET'), ('system', 'NOUN'), ('.', 'PUNCT'), ('If', 'SCONJ'), ('we', 'PRON'), ('install', 'VERB'), ('a', 'DET'), ('system', 'NOUN'), (',', 'PUNCT'), ('we', 'PRON'), ('also', 'ADV'), ('provide', 'VERB'), ('certain', 'ADJ'), ('limited', 'ADJ'), ('warranties', 'NOUN'), ('on', 'ADP'), ('our', 'PRON'), ('installation', 'NOUN'), ('workmanship', 'NOUN'), ('.', 'PUNCT'), ('For', 'ADP'), ('retrofit', 'ADJ'), ('solar', 'ADJ'), ('energy', 'NOUN'), ('systems', 'NOUN'), (',', 'PUNCT'), ('we', 'PRON'), ('provide', 'VERB'), ('separate', 'ADJ'), ('limited', 'ADJ'), ('warranties', 'NOUN'), ('for', 'ADP'), ('workmanship', 'NOUN'), ('and', 'CCONJ'), ('against', 'ADP'), ('roof', 'NOUN'), ('leaks', 'NOUN'), (',', 'PUNCT'), ('and', 'CCONJ'), ('for', 'ADP'), ('Solar', 'PROPN'), ('Roof', 'PROPN'), (',', 'PUNCT'), ('we', 'PRON'), ('also', 'ADV'), ('provide', 'VERB'), ('limited', 'ADJ'), ('warranties', 'NOUN'), ('for', 'ADP'), ('defects', 'NOUN'), ('and', 'CCONJ'), ('weatherization', 'NOUN'), ('.', 'PUNCT'), ('For', 'ADP'), ('components', 'NOUN'), ('not', 'PART'), ('manufactured', 'VERB'), ('by', 'ADP'), ('us', 'PRON'), (',', 'PUNCT'), ('we', 'PRON'), ('generally', 'ADV'), ('pass', 'VERB'), ('-', 'PUNCT'), ('through', 'ADP'), ('the', 'DET'), ('applicable', 'ADJ'), ('manufacturers&#8217', 'ADJ'), (';', 'PUNCT'), ('warranties', 'NOUN'), ('.', 'PUNCT'), ('As', 'ADP'), ('part', 'NOUN'), ('of', 'ADP'), ('our', 'PRON'), ('solar', 'ADJ'), ('energy', 'NOUN'), ('system', 'NOUN'), ('and', 'CCONJ'), ('energy', 'NOUN'), ('storage', 'NOUN'), ('contracts', 'NOUN'), (',', 'PUNCT'), ('we', 'PRON'), ('may', 'AUX'), ('provide', 'VERB'), ('the', 'DET'), ('customer', 'NOUN'), ('with', 'ADP'), ('performance', 'NOUN'), ('guarantees', 'NOUN'), ('that', 'PRON'), ('commit', 'VERB'), ('that', 'SCONJ'), ('the', 'DET'), ('underlying', 'VERB'), ('system', 'NOUN'), ('will', 'AUX'), ('meet', 'VERB'), ('or', 'CCONJ'), ('exceed', 'VERB'), ('the', 'DET'), ('minimum', 'ADJ'), ('energy', 'NOUN'), ('generation', 'NOUN'), ('or', 'CCONJ'), ('performance', 'NOUN'), ('requirements', 'NOUN'), ('specified', 'VERB'), ('in', 'ADP'), ('the', 'DET'), ('contract', 'NOUN'), ('.', 'PUNCT'), ('Financial', 'PROPN'), ('Services', 'PROPN'), ('Automotive', 'PROPN'), ('Purchase', 'PROPN'), ('Financing', 'PROPN'), ('and', 'CCONJ'), ('Leases', 'NOUN'), ('We', 'PRON'), ('offer', 'VERB'), ('leasing', 'NOUN'), ('and/or', 'CCONJ'), ('loan', 'NOUN'), ('financing', 'NOUN'), ('arrangements', 'NOUN'), ('for', 'ADP'), ('our', 'PRON'), ('vehicles', 'NOUN'), ('in', 'ADP'), ('certain', 'ADJ'), ('jurisdictions', 'NOUN'), ('in', 'ADP'), ('North', 'PROPN'), ('America', 'PROPN'), (',', 'PUNCT'), ('Europe', 'PROPN'), ('and', 'CCONJ'), ('Asia', 'PROPN'), ('ourselves', 'PRON'), ('and', 'CCONJ'), ('through', 'ADP'), ('various', 'ADJ'), ('financial', 'ADJ'), ('institutions', 'NOUN'), ('.', 'PUNCT'), ('Under', 'ADP'), ('certain', 'ADJ'), ('of', 'ADP'), ('such', 'ADJ'), ('programs', 'NOUN'), (',', 'PUNCT'), ('we', 'PRON'), ('have', 'AUX'), ('provided', 'VERB'), ('resale', 'NOUN'), ('value', 'NOUN'), ('guarantees', 'NOUN'), ('or', 'CCONJ'), ('buyback', 'NOUN'), ('guarantees', 'NOUN'), ('that', 'PRON'), ('may', 'AUX'), ('obligate', 'VERB'), ('us', 'PRON'), ('to', 'PART'), ('cover', 'VERB'), ('a', 'DET'), ('resale', 'NOUN'), ('loss', 'NOUN'), ('up', 'ADP'), ('to', 'ADP'), ('a', 'DET'), ('certain', 'ADJ'), ('limit', 'NOUN'), ('or', 'CCONJ'), ('repurchase', 'VERB'), ('the', 'DET'), ('subject', 'ADJ'), ('vehicles', 'NOUN'), ('at', 'ADP'), ('pre', 'ADJ'), ('-', 'ADJ'), ('determined', 'ADJ'), ('values', 'NOUN'), ('.', 'PUNCT'), ('Insurance', 'NOUN'), ('In', 'ADP'), ('2021', 'NUM'), (',', 'PUNCT'), ('we', 'PRON'), ('launched', 'VERB'), ('our', 'PRON'), ('insurance', 'NOUN'), ('product', 'NOUN'), ('using', 'VERB'), ('real', 'ADJ'), ('-', 'PUNCT'), ('time', 'NOUN'), ('driving', 'VERB'), ('behavior', 'NOUN'), ('in', 'ADP'), ('select', 'ADJ'), ('states', 'NOUN'), (',', 'PUNCT'), ('which', 'PRON'), ('offers', 'VERB'), ('rates', 'NOUN'), ('that', 'PRON'), ('are', 'AUX'), ('often', 'ADV'), ('better', 'ADJ'), ('than', 'ADP'), ('other', 'ADJ'), ('alternatives', 'NOUN'), ('and', 'CCONJ'), ('promotes', 'VERB'), ('safer', 'ADJ'), ('driving', 'NOUN'), ('.', 'PUNCT'), ('Our', 'PRON'), ('insurance', 'NOUN'), ('products', 'NOUN'), ('are', 'AUX'), ('currently', 'ADV'), ('available', 'ADJ'), ('in', 'ADP'), ('12', 'NUM'), ('states', 'NOUN'), ('and', 'CCONJ'), ('we', 'PRON'), ('plan', 'VERB'), ('to', 'PART'), ('expand', 'VERB'), ('the', 'DET'), ('markets', 'NOUN'), ('in', 'ADP'), ('which', 'PRON'), ('we', 'PRON'), ('offer', 'VERB'), ('insurance', 'NOUN'), ('products', 'NOUN'), (',', 'PUNCT'), ('as', 'ADP'), ('part', 'NOUN'), ('of', 'ADP'), ('our', 'PRON'), ('ongoing', 'ADJ'), ('effort', 'NOUN'), ('to', 'PART'), ('decrease', 'VERB'), ('the', 'DET'), ('total', 'ADJ'), ('cost', 'NOUN'), ('of', 'ADP'), ('ownership', 'NOUN'), ('for', 'ADP'), ('our', 'PRON'), ('customers', 'NOUN'), ('.', 'PUNCT'), ('Energy', 'PROPN'), ('Generation', 'PROPN'), ('and', 'CCONJ'), ('Storage', 'PROPN'), ('We', 'PRON'), ('offer', 'VERB'), ('certain', 'ADJ'), ('financing', 'NOUN'), ('options', 'NOUN'), ('to', 'ADP'), ('our', 'PRON'), ('solar', 'ADJ'), ('customers', 'NOUN'), (',', 'PUNCT'), ('which', 'PRON'), ('enable', 'VERB'), ('the', 'DET'), ('customer', 'NOUN'), ('to', 'PART'), ('purchase', 'VERB'), ('and', 'CCONJ'), ('own', 'VERB'), ('a', 'DET'), ('solar', 'ADJ'), ('energy', 'NOUN'), ('system', 'NOUN'), (',', 'PUNCT'), ('Solar', 'PROPN'), ('Roof', 'PROPN'), ('or', 'CCONJ'), ('integrated', 'VERB'), ('solar', 'ADJ'), ('and', 'CCONJ'), ('Powerwall', 'ADJ'), ('system', 'NOUN'), ('.', 'PUNCT'), ('Our', 'PRON'), ('solar', 'ADJ'), ('PPAs', 'NOUN'), (',', 'PUNCT'), ('offered', 'VERB'), ('primarily', 'ADV'), ('to', 'ADP'), ('commercial', 'ADJ'), ('customers', 'NOUN'), (',', 'PUNCT'), ('charge', 'VERB'), ('a', 'DET'), ('fee', 'NOUN'), ('per', 'ADP'), ('kilowatt', 'NOUN'), ('-', 'PUNCT'), ('hour', 'NOUN'), ('based', 'VERB'), ('on', 'ADP'), ('the', 'DET'), ('amount', 'NOUN'), ('of', 'ADP'), ('electricity', 'NOUN'), ('produced', 'VERB'), ('by', 'ADP'), ('our', 'PRON'), ('solar', 'ADJ'), ('energy', 'NOUN'), ('systems', 'NOUN'), ('.', 'PUNCT'), ('Manufacturing', 'VERB'), ('We', 'PRON'), ('currently', 'ADV'), ('have', 'VERB'), ('manufacturing', 'NOUN'), ('facilities', 'NOUN'), ('in', 'ADP'), ('the', 'DET'), ('U.S.', 'PROPN'), ('in', 'ADP'), ('Northern', 'PROPN'), ('California', 'PROPN'), (',', 'PUNCT'), ('in', 'ADP'), ('Buffalo', 'PROPN'), (',', 'PUNCT'), ('New', 'PROPN'), ('York', 'PROPN'), (',', 'PUNCT'), ('Gigafactory', 'PROPN'), ('New', 'PROPN'), ('York', 'PROPN'), (';', 'PUNCT'), ('in', 'ADP'), ('Austin', 'PROPN'), (',', 'PUNCT'), ('Texas', 'PROPN'), (',', 'PUNCT'), ('Gigafactory', 'PROPN'), ('Texas', 'PROPN'), ('and', 'CCONJ'), ('near', 'ADP'), ('Reno', 'PROPN'), (',', 'PUNCT'), ('Nevada', 'PROPN'), (',', 'PUNCT'), ('Gigafactory', 'PROPN'), ('Nevada', 'PROPN'), ('.', 'PUNCT'), ('At', 'ADP'), ('these', 'DET'), ('facilities', 'NOUN'), (',', 'PUNCT'), ('we', 'PRON'), ('manufacture', 'VERB'), ('and', 'CCONJ'), ('assemble', 'VERB'), (',', 'PUNCT'), ('among', 'ADP'), ('other', 'ADJ'), ('things', 'NOUN'), (',', 'PUNCT'), ('vehicles', 'NOUN'), (',', 'PUNCT'), ('certain', 'ADJ'), ('vehicle', 'NOUN'), ('parts', 'NOUN'), ('and', 'CCONJ'), ('components', 'NOUN'), (',', 'PUNCT'), ('such', 'ADJ'), ('as', 'ADP'), ('our', 'PRON'), ('battery', 'NOUN'), ('packs', 'NOUN'), ('and', 'CCONJ'), ('battery', 'NOUN'), ('cells', 'NOUN'), (',', 'PUNCT'), ('energy', 'NOUN'), ('storage', 'NOUN'), ('components', 'NOUN'), ('and', 'CCONJ'), ('solar', 'ADJ'), ('products', 'NOUN'), ('and', 'CCONJ'), ('components', 'NOUN'), ('.', 'PUNCT'), ('Internationally', 'ADV'), (',', 'PUNCT'), ('we', 'PRON'), ('also', 'ADV'), ('have', 'VERB'), ('manufacturing', 'NOUN'), ('facilities', 'NOUN'), ('in', 'ADP'), ('China', 'PROPN'), ('(', 'PUNCT'), ('Gigafactory', 'PROPN'), ('Shanghai', 'PROPN'), (')', 'PUNCT'), ('and', 'CCONJ'), ('Germany', 'PROPN'), ('(', 'PUNCT'), ('Gigafactory', 'PROPN'), ('Berlin', 'PROPN'), ('-', 'PUNCT'), ('Brandenburg', 'PROPN'), (')', 'PUNCT'), (',', 'PUNCT'), ('which', 'PRON'), ('allows', 'VERB'), ('us', 'PRON'), ('to', 'PART'), ('increase', 'VERB'), ('the', 'DET'), ('affordability', 'NOUN'), ('of', 'ADP'), ('our', 'PRON'), ('vehicles', 'NOUN'), ('for', 'ADP'), ('customers', 'NOUN'), ('in', 'ADP'), ('local', 'ADJ'), ('markets', 'NOUN'), ('by', 'ADP'), ('reducing', 'VERB'), ('transportation', 'NOUN'), ('and', 'CCONJ'), ('manufacturing', 'NOUN'), ('costs', 'NOUN'), ('and', 'CCONJ'), ('eliminating', 'VERB'), ('the', 'DET'), ('impact', 'NOUN'), ('of', 'ADP'), ('unfavorable', 'ADJ'), ('tariffs', 'NOUN'), ('.', 'PUNCT'), ('In', 'ADP'), ('March', 'PROPN'), ('2023', 'NUM'), (',', 'PUNCT'), ('we', 'PRON'), ('announced', 'VERB'), ('the', 'DET'), ('location', 'NOUN'), ('of', 'ADP'), ('our', 'PRON'), ('next', 'ADJ'), ('Gigafactory', 'NOUN'), ('in', 'ADP'), ('Monterrey', 'PROPN'), (',', 'PUNCT'), ('Mexico', 'PROPN'), ('.', 'PUNCT'), ('Generally', 'ADV'), (',', 'PUNCT'), ('we', 'PRON'), ('continue', 'VERB'), ('to', 'PART'), ('expand', 'VERB'), ('production', 'NOUN'), ('capacity', 'NOUN'), ('at', 'ADP'), ('our', 'PRON'), ('existing', 'VERB'), ('facilities', 'NOUN'), ('.', 'PUNCT'), ('We', 'PRON'), ('also', 'ADV'), ('intend', 'VERB'), ('to', 'PART'), ('further', 'ADV'), ('increase', 'VERB'), ('cost', 'NOUN'), ('-', 'PUNCT'), ('competitiveness', 'NOUN'), ('in', 'ADP'), ('our', 'PRON'), ('significant', 'ADJ'), ('markets', 'NOUN'), ('by', 'ADP'), ('strategically', 'ADV'), ('adding', 'VERB'), ('local', 'ADJ'), ('manufacturing', 'NOUN'), ('.', 'PUNCT'), ('Supply', 'PROPN'), ('Chain', 'PROPN'), ('Our', 'PRON'), ('products', 'NOUN'), ('use', 'VERB'), ('thousands', 'NOUN'), ('of', 'ADP'), ('parts', 'NOUN'), ('that', 'PRON'), ('are', 'AUX'), ('sourced', 'VERB'), ('from', 'ADP'), ('hundreds', 'NOUN'), ('of', 'ADP'), ('suppliers', 'NOUN'), ('across', 'ADP'), ('the', 'DET'), ('world', 'NOUN'), ('.', 'PUNCT'), ('We', 'PRON'), ('have', 'AUX'), ('developed', 'VERB'), ('close', 'ADJ'), ('relationships', 'NOUN'), ('with', 'ADP'), ('vendors', 'NOUN'), ('of', 'ADP'), ('key', 'ADJ'), ('parts', 'NOUN'), ('such', 'ADJ'), ('as', 'ADP'), ('battery', 'NOUN'), ('cells', 'NOUN'), (',', 'PUNCT'), ('electronics', 'NOUN'), ('and', 'CCONJ'), ('complex', 'ADJ'), ('vehicle', 'NOUN'), ('assemblies', 'NOUN'), ('.', 'PUNCT'), ('Certain', 'ADJ'), ('components', 'NOUN'), ('purchased', 'VERB'), ('from', 'ADP'), ('these', 'DET'), ('suppliers', 'NOUN'), ('are', 'AUX'), ('shared', 'VERB'), ('or', 'CCONJ'), ('are', 'AUX'), ('similar', 'ADJ'), ('across', 'ADP'), ('many', 'ADJ'), ('product', 'NOUN'), ('lines', 'NOUN'), (',', 'PUNCT'), ('allowing', 'VERB'), ('us', 'PRON'), ('to', 'PART'), ('take', 'VERB'), ('advantage', 'NOUN'), ('of', 'ADP'), ('pricing', 'NOUN'), ('efficiencies', 'NOUN'), ('from', 'ADP'), ('economies', 'NOUN'), ('of', 'ADP'), ('scale', 'NOUN'), ('.', 'PUNCT'), ('As', 'SCONJ'), ('is', 'AUX'), ('the', 'DET'), ('case', 'NOUN'), ('for', 'ADP'), ('some', 'DET'), ('automotive', 'ADJ'), ('companies', 'NOUN'), (',', 'PUNCT'), ('some', 'PRON'), ('of', 'ADP'), ('our', 'PRON'), ('procured', 'VERB'), ('components', 'NOUN'), ('and', 'CCONJ'), ('systems', 'NOUN'), ('are', 'AUX'), ('sourced', 'VERB'), ('from', 'ADP'), ('single', 'ADJ'), ('suppliers', 'NOUN'), ('.', 'PUNCT'), ('Where', 'SCONJ'), ('multiple', 'ADJ'), ('sources', 'NOUN'), ('are', 'AUX'), ('available', 'ADJ'), ('for', 'ADP'), ('certain', 'ADJ'), ('key', 'ADJ'), ('components', 'NOUN'), (',', 'PUNCT'), ('we', 'PRON'), ('work', 'VERB'), ('to', 'PART'), ('qualify', 'VERB'), ('multiple', 'ADJ'), ('suppliers', 'NOUN'), ('for', 'ADP'), ('them', 'PRON'), ('where', 'SCONJ'), ('it', 'PRON'), ('is', 'AUX'), ('sensible', 'ADJ'), ('to', 'PART'), ('do', 'VERB'), ('so', 'ADV'), ('in', 'ADP'), ('order', 'NOUN'), ('to', 'PART'), ('minimize', 'VERB'), ('potential', 'ADJ'), ('production', 'NOUN'), ('risks', 'NOUN'), ('due', 'ADP'), ('to', 'ADP'), ('disruptions', 'NOUN'), ('in', 'ADP'), ('their', 'PRON'), ('supply', 'NOUN'), ('.', 'PUNCT'), ('We', 'PRON'), ('also', 'ADV'), ('mitigate', 'VERB'), ('risk', 'NOUN'), ('by', 'ADP'), ('maintaining', 'VERB'), ('safety', 'NOUN'), ('stock', 'NOUN'), ('for', 'ADP'), ('key', 'ADJ'), ('parts', 'NOUN'), ('and', 'CCONJ'), ('assemblies', 'NOUN'), ('and', 'CCONJ'), ('die', 'VERB'), ('banks', 'NOUN'), ('for', 'ADP'), ('components', 'NOUN'), ('with', 'ADP'), ('lengthy', 'ADJ'), ('procurement', 'NOUN'), ('lead', 'NOUN'), ('times', 'NOUN'), ('.', 'PUNCT'), ('Our', 'PRON'), ('products', 'NOUN'), ('use', 'VERB'), ('various', 'ADJ'), ('raw', 'ADJ'), ('materials', 'NOUN'), ('including', 'VERB'), ('aluminum', 'NOUN'), (',', 'PUNCT'), ('steel', 'NOUN'), (',', 'PUNCT'), ('cobalt', 'NOUN'), (',', 'PUNCT'), ('lithium', 'NOUN'), (',', 'PUNCT'), ('nickel', 'NOUN'), ('and', 'CCONJ'), ('copper', 'NOUN'), ('.', 'PUNCT'), ('Pricing', 'NOUN'), ('for', 'ADP'), ('these', 'DET'), ('materials', 'NOUN'), ('is', 'AUX'), ('governed', 'VERB'), ('by', 'ADP'), ('market', 'NOUN'), ('conditions', 'NOUN'), ('and', 'CCONJ'), ('may', 'AUX'), ('fluctuate', 'VERB'), ('due', 'ADP'), ('to', 'ADP'), ('various', 'ADJ'), ('factors', 'NOUN'), ('outside', 'ADP'), ('of', 'ADP'), ('our', 'PRON'), ('control', 'NOUN'), (',', 'PUNCT'), ('such', 'ADJ'), ('as', 'ADP'), ('supply', 'NOUN'), ('and', 'CCONJ'), ('demand', 'NOUN'), ('and', 'CCONJ'), ('market', 'NOUN'), ('speculation', 'NOUN'), ('.', 'PUNCT'), ('We', 'PRON'), ('strive', 'VERB'), ('to', 'PART'), ('execute', 'VERB'), ('long', 'ADJ'), ('-', 'PUNCT'), ('term', 'NOUN'), ('supply', 'NOUN'), ('contracts', 'NOUN'), ('for', 'ADP'), ('such', 'ADJ'), ('materials', 'NOUN'), ('at', 'ADP'), ('competitive', 'ADJ'), ('pricing', 'NOUN'), ('when', 'SCONJ'), ('feasible', 'ADJ'), (',', 'PUNCT'), ('and', 'CCONJ'), ('we', 'PRON'), ('currently', 'ADV'), ('believe', 'VERB'), ('that', 'SCONJ'), ('we', 'PRON'), ('have', 'VERB'), ('adequate', 'ADJ'), ('access', 'NOUN'), ('to', 'ADP'), ('raw', 'ADJ'), ('materials', 'NOUN'), ('supplies', 'NOUN'), ('to', 'PART'), ('meet', 'VERB'), ('the', 'DET'), ('needs', 'NOUN'), ('of', 'ADP'), ('our', 'PRON'), ('operations', 'NOUN'), ('.', 'PUNCT'), ('Governmental', 'PROPN'), ('Programs', 'PROPN'), (',', 'PUNCT'), ('Incentives', 'PROPN'), ('and', 'CCONJ'), ('Regulations', 'PROPN'), ('Globally', 'ADV'), (',', 'PUNCT'), ('the', 'DET'), ('ownership', 'NOUN'), ('of', 'ADP'), ('our', 'PRON'), ('products', 'NOUN'), ('by', 'ADP'), ('our', 'PRON'), ('customers', 'NOUN'), ('is', 'AUX'), ('impacted', 'VERB'), ('by', 'ADP'), ('various', 'ADJ'), ('government', 'NOUN'), ('credits', 'NOUN'), (',', 'PUNCT'), ('incentives', 'NOUN'), (',', 'PUNCT'), ('and', 'CCONJ'), ('policies', 'NOUN'), ('.', 'PUNCT'), ('Our', 'PRON'), ('business', 'NOUN'), ('and', 'CCONJ'), ('products', 'NOUN'), ('are', 'AUX'), ('also', 'ADV'), ('subject', 'ADJ'), ('to', 'ADP'), ('numerous', 'ADJ'), ('governmental', 'ADJ'), ('regulations', 'NOUN'), ('that', 'PRON'), ('vary', 'VERB'), ('among', 'ADP'), ('jurisdictions', 'NOUN'), ('.', 'PUNCT'), ('The', 'DET'), ('operation', 'NOUN'), ('of', 'ADP'), ('our', 'PRON'), ('business', 'NOUN'), ('is', 'AUX'), ('also', 'ADV'), ('impacted', 'VERB'), ('by', 'ADP'), ('various', 'ADJ'), ('government', 'NOUN'), ('programs', 'NOUN'), (',', 'PUNCT'), ('incentives', 'NOUN'), (',', 'PUNCT'), ('and', 'CCONJ'), ('other', 'ADJ'), ('arrangements', 'NOUN'), ('.', 'PUNCT'), ('See', 'VERB'), ('Note', 'PROPN'), ('2', 'NUM'), (',', 'PUNCT'), ('Summary', 'PROPN'), ('of', 'ADP'), ('Significant', 'PROPN'), ('Accounting', 'PROPN'), ('Policies', 'PROPN'), (',', 'PUNCT'), ('to', 'ADP'), ('the', 'DET'), ('consolidated', 'ADJ'), ('financial', 'ADJ'), ('statements', 'NOUN'), ('included', 'VERB'), ('elsewhere', 'ADV'), ('in', 'ADP'), ('this', 'DET'), ('Annual', 'PROPN'), ('Report', 'PROPN'), ('on', 'ADP'), ('Form', 'PROPN'), ('10', 'NUM'), ('-', 'PUNCT'), ('K', 'NOUN'), ('for', 'ADP'), ('further', 'ADJ'), ('details', 'NOUN'), ('.', 'PUNCT'), ('Programs', 'NOUN'), ('and', 'CCONJ'), ('Incentives', 'PROPN'), ('Inflation', 'PROPN'), ('Reduction', 'PROPN'), ('Act', 'PROPN'), ('On', 'ADP'), ('August', 'PROPN'), ('16', 'NUM'), (',', 'PUNCT'), ('2022', 'NUM'), (',', 'PUNCT'), ('the', 'DET'), ('Inflation', 'PROPN'), ('Reduction', 'PROPN'), ('Act', 'PROPN'), ('of', 'ADP'), ('2022', 'NUM'), ('(', 'PUNCT'), ('&', 'CCONJ'), ('#', 'SYM'), ('8220;IRA&#8221', 'NUM'), (';)', 'PUNCT'), ('was', 'AUX'), ('enacted', 'VERB'), ('into', 'ADP'), ('law', 'NOUN'), ('and', 'CCONJ'), ('is', 'AUX'), ('effective', 'ADJ'), ('for', 'ADP'), ('taxable', 'ADJ'), ('years', 'NOUN'), ('beginning', 'VERB'), ('after', 'ADP'), ('December', 'PROPN'), ('31', 'NUM'), (',', 'PUNCT'), ('2022', 'NUM'), (',', 'PUNCT'), ('and', 'CCONJ'), ('remains', 'VERB'), ('subject', 'ADJ'), ('to', 'ADP'), ('future', 'ADJ'), ('guidance', 'NOUN'), ('releases', 'NOUN'), ('.', 'PUNCT'), ('The', 'DET'), ('IRA', 'PROPN'), ('includes', 'VERB'), ('multiple', 'ADJ'), ('incentives', 'NOUN'), ('to', 'PART'), ('promote', 'VERB'), ('clean', 'ADJ'), ('energy', 'NOUN'), (',', 'PUNCT'), ('electric', 'ADJ'), ('vehicles', 'NOUN'), (',', 'PUNCT'), ('battery', 'NOUN'), ('and', 'CCONJ'), ('energy', 'NOUN'), ('storage', 'NOUN'), ('manufacture', 'NOUN'), ('or', 'CCONJ'), ('purchase', 'NOUN'), (',', 'PUNCT'), ('including', 'VERB'), ('through', 'ADP'), ('providing', 'VERB'), ('tax', 'NOUN'), ('credits', 'NOUN'), ('to', 'ADP'), ('consumers', 'NOUN'), ('.', 'PUNCT'), ('For', 'ADP'), ('example', 'NOUN'), (',', 'PUNCT'), ('qualifying', 'VERB'), ('Tesla', 'PROPN'), ('customers', 'NOUN'), ('may', 'AUX'), ('receive', 'VERB'), ('up', 'ADP'), ('to', 'PART'), ('$', 'SYM'), ('7,500', 'NUM'), ('in', 'ADP'), ('federal', 'ADJ'), ('tax', 'NOUN'), ('credits', 'NOUN'), ('for', 'ADP'), ('the', 'DET'), ('purchase', 'NOUN'), ('of', 'ADP'), ('qualified', 'ADJ'), ('electric', 'ADJ'), ('vehicles', 'NOUN'), ('in', 'ADP'), ('the', 'DET'), ('U.S.', 'PROPN'), ('through', 'ADP'), ('2032', 'NUM'), ('.', 'PUNCT'), ('Automotive', 'PROPN'), ('Regulatory', 'PROPN'), ('Credits', 'PROPN'), ('We', 'PRON'), ('earn', 'VERB'), ('tradable', 'ADJ'), ('credits', 'NOUN'), ('in', 'ADP'), ('the', 'DET'), ('operation', 'NOUN'), ('of', 'ADP'), ('our', 'PRON'), ('business', 'NOUN'), ('under', 'ADP'), ('various', 'ADJ'), ('regulations', 'NOUN'), ('related', 'VERB'), ('to', 'ADP'), ('zero', 'NUM'), ('-', 'PUNCT'), ('emission', 'NOUN'), ('vehicles', 'NOUN'), ('(', 'PUNCT'), ('&', 'CCONJ'), ('#', 'SYM'), ('8220;ZEVs&#8221', 'NUM'), (';)', 'NOUN'), (',', 'PUNCT'), ('greenhouse', 'NOUN'), ('gas', 'NOUN'), (',', 'PUNCT'), ('fuel', 'NOUN'), ('economy', 'NOUN'), ('and', 'CCONJ'), ('clean', 'ADJ'), ('fuel', 'NOUN'), ('.', 'PUNCT'), ('We', 'PRON'), ('sell', 'VERB'), ('these', 'DET'), ('credits', 'NOUN'), ('to', 'ADP'), ('other', 'ADJ'), ('regulated', 'VERB'), ('entities', 'NOUN'), ('who', 'PRON'), ('can', 'AUX'), ('use', 'VERB'), ('the', 'DET'), ('credits', 'NOUN'), ('to', 'PART'), ('comply', 'VERB'), ('with', 'ADP'), ('emission', 'NOUN'), ('standards', 'NOUN'), ('and', 'CCONJ'), ('other', 'ADJ'), ('regulatory', 'ADJ'), ('requirements', 'NOUN'), ('.', 'PUNCT'), ('Sales', 'NOUN'), ('of', 'ADP'), ('these', 'DET'), ('credits', 'NOUN'), ('are', 'AUX'), ('recognized', 'VERB'), ('within', 'ADP'), ('automotive', 'ADJ'), ('regulatory', 'ADJ'), ('credits', 'NOUN'), ('revenue', 'NOUN'), ('in', 'ADP'), ('our', 'PRON'), ('consolidated', 'ADJ'), ('statements', 'NOUN'), ('of', 'ADP'), ('operations', 'NOUN'), ('included', 'VERB'), ('elsewhere', 'ADV'), ('in', 'ADP'), ('this', 'DET'), ('Annual', 'PROPN'), ('Report', 'PROPN'), ('on', 'ADP'), ('Form', 'PROPN'), ('10', 'NUM'), ('-', 'PUNCT'), ('K.', 'PROPN'), ('Energy', 'PROPN'), ('Storage', 'PROPN'), ('System', 'PROPN'), ('Incentives', 'PROPN'), ('and', 'CCONJ'), ('Policies', 'NOUN'), ('While', 'SCONJ'), ('the', 'DET'), ('regulatory', 'ADJ'), ('regime', 'NOUN'), ('for', 'ADP'), ('energy', 'NOUN'), ('storage', 'NOUN'), ('projects', 'NOUN'), ('is', 'AUX'), ('still', 'ADV'), ('under', 'ADP'), ('development', 'NOUN'), (',', 'PUNCT'), ('there', 'PRON'), ('are', 'VERB'), ('various', 'ADJ'), ('policies', 'NOUN'), (',', 'PUNCT'), ('incentives', 'NOUN'), ('and', 'CCONJ'), ('financial', 'ADJ'), ('mechanisms', 'NOUN'), ('at', 'ADP'), ('the', 'DET'), ('federal', 'ADJ'), (',', 'PUNCT'), ('state', 'NOUN'), ('and', 'CCONJ'), ('local', 'ADJ'), ('levels', 'NOUN'), ('that', 'PRON'), ('support', 'VERB'), ('the', 'DET'), ('adoption', 'NOUN'), ('of', 'ADP'), ('energy', 'NOUN'), ('storage', 'NOUN'), ('.', 'PUNCT'), ('For', 'ADP'), ('example', 'NOUN'), (',', 'PUNCT'), ('energy', 'NOUN'), ('storage', 'NOUN'), ('systems', 'NOUN'), ('that', 'PRON'), ('are', 'AUX'), ('charged', 'VERB'), ('using', 'VERB'), ('solar', 'ADJ'), ('energy', 'NOUN'), ('may', 'AUX'), ('be', 'AUX'), ('eligible', 'ADJ'), ('for', 'ADP'), ('the', 'DET'), ('solar', 'ADJ'), ('energy', 'NOUN'), ('-', 'PUNCT'), ('related', 'VERB'), ('U.S.', 'PROPN'), ('federal', 'ADJ'), ('tax', 'NOUN'), ('credits', 'NOUN'), ('described', 'VERB'), ('below', 'ADV'), ('.', 'PUNCT'), ('The', 'DET'), ('Federal', 'PROPN'), ('Energy', 'PROPN'), ('Regulatory', 'PROPN'), ('Commission', 'PROPN'), ('(', 'PUNCT'), ('&', 'CCONJ'), ('#', 'SYM'), ('8220;FERC&#8221', 'NUM'), (';)', 'PUNCT'), ('has', 'AUX'), ('also', 'ADV'), ('taken', 'VERB'), ('steps', 'NOUN'), ('to', 'PART'), ('enable', 'VERB'), ('the', 'DET'), ('participation', 'NOUN'), ('of', 'ADP'), ('energy', 'NOUN'), ('storage', 'NOUN'), ('in', 'ADP'), ('wholesale', 'ADJ'), ('energy', 'NOUN'), ('markets', 'NOUN'), ('.', 'PUNCT'), ('In', 'ADP'), ('addition', 'NOUN'), (',', 'PUNCT'), ('California', 'PROPN'), ('and', 'CCONJ'), ('a', 'DET'), ('number', 'NOUN'), ('of', 'ADP'), ('other', 'ADJ'), ('states', 'NOUN'), ('have', 'AUX'), ('adopted', 'VERB'), ('procurement', 'NOUN'), ('targets', 'NOUN'), ('for', 'ADP'), ('energy', 'NOUN'), ('storage', 'NOUN'), (',', 'PUNCT'), ('and', 'CCONJ'), ('behind', 'ADP'), ('-', 'PUNCT'), ('the', 'DET'), ('-', 'PUNCT'), ('meter', 'NOUN'), ('energy', 'NOUN'), ('storage', 'NOUN'), ('systems', 'NOUN'), ('qualify', 'VERB'), ('for', 'ADP'), ('funding', 'NOUN'), ('under', 'ADP'), ('the', 'DET'), ('California', 'PROPN'), ('Self', 'PROPN'), ('Generation', 'PROPN'), ('Incentive', 'PROPN'), ('Program', 'PROPN'), ('.', 'PUNCT'), ('Our', 'PRON'), ('customers', 'NOUN'), ('primarily', 'ADV'), ('benefit', 'VERB'), ('directly', 'ADV'), ('under', 'ADP'), ('these', 'DET'), ('programs', 'NOUN'), ('.', 'PUNCT'), ('In', 'ADP'), ('certain', 'ADJ'), ('instances', 'NOUN'), ('our', 'PRON'), ('customers', 'NOUN'), ('may', 'AUX'), ('transfer', 'VERB'), ('such', 'ADJ'), ('credits', 'NOUN'), ('to', 'ADP'), ('us', 'PRON'), ('as', 'ADP'), ('contract', 'NOUN'), ('consideration', 'NOUN'), ('.', 'PUNCT'), ('In', 'ADP'), ('such', 'ADJ'), ('transactions', 'NOUN'), (',', 'PUNCT'), ('they', 'PRON'), ('are', 'AUX'), ('included', 'VERB'), ('as', 'ADP'), ('a', 'DET'), ('component', 'NOUN'), ('of', 'ADP'), ('energy', 'NOUN'), ('generation', 'NOUN'), ('and', 'CCONJ'), ('storage', 'NOUN'), ('revenues', 'NOUN'), ('in', 'ADP'), ('our', 'PRON'), ('consolidated', 'ADJ'), ('statements', 'NOUN'), ('of', 'ADP'), ('operations', 'NOUN'), ('included', 'VERB'), ('elsewhere', 'ADV'), ('in', 'ADP'), ('this', 'DET'), ('Annual', 'PROPN'), ('Report', 'PROPN'), ('on', 'ADP'), ('Form', 'PROPN'), ('10', 'NUM'), ('-', 'PUNCT'), ('K.', 'NOUN'), ('Pursuant', 'PROPN'), ('to', 'ADP'), ('the', 'DET'), ('IRA', 'PROPN'), (',', 'PUNCT'), ('under', 'ADP'), ('Sections', 'NOUN'), ('48', 'NUM'), (',', 'PUNCT'), ('48E', 'NUM'), ('and', 'CCONJ'), ('25D', 'NUM'), ('of', 'ADP'), ('the', 'DET'), ('Internal', 'PROPN'), ('Revenue', 'PROPN'), ('Code', 'PROPN'), ('(', 'PUNCT'), ('&', 'CCONJ'), ('#', 'SYM'), ('8221;IRC&#8221', 'NUM'), (';)', 'NUM'), (',', 'PUNCT'), ('standalone', 'ADJ'), ('energy', 'NOUN'), ('storage', 'NOUN'), ('technology', 'NOUN'), ('is', 'AUX'), ('eligible', 'ADJ'), ('for', 'ADP'), ('a', 'DET'), ('tax', 'NOUN'), ('credit', 'NOUN'), ('between', 'ADP'), ('6', 'NUM'), ('%', 'NOUN'), ('and', 'CCONJ'), ('50', 'NUM'), ('%', 'NOUN'), ('of', 'ADP'), ('qualified', 'ADJ'), ('expenditures', 'NOUN'), (',', 'PUNCT'), ('regardless', 'ADV'), ('of', 'ADP'), ('the', 'DET'), ('source', 'NOUN'), ('of', 'ADP'), ('energy', 'NOUN'), (',', 'PUNCT'), ('which', 'PRON'), ('may', 'AUX'), ('be', 'AUX'), ('claimed', 'VERB'), ('by', 'ADP'), ('our', 'PRON'), ('customers', 'NOUN'), ('for', 'ADP'), ('storage', 'NOUN'), ('systems', 'NOUN'), ('they', 'PRON'), ('purchase', 'VERB'), ('or', 'CCONJ'), ('by', 'ADP'), ('us', 'PRON'), ('for', 'ADP'), ('arrangements', 'NOUN'), ('where', 'SCONJ'), ('we', 'PRON'), ('own', 'VERB'), ('the', 'DET'), ('systems', 'NOUN'), ('.', 'PUNCT'), ('These', 'DET'), ('tax', 'NOUN'), ('credits', 'NOUN'), ('are', 'AUX'), ('primarily', 'ADV'), ('for', 'ADP'), ('the', 'DET'), ('benefit', 'NOUN'), ('of', 'ADP'), ('our', 'PRON'), ('customers', 'NOUN'), ('and', 'CCONJ'), ('are', 'AUX'), ('currently', 'ADV'), ('scheduled', 'VERB'), ('to', 'PART'), ('phase', 'NOUN'), ('-', 'PUNCT'), ('out', 'ADP'), ('starting', 'VERB'), ('in', 'ADP'), ('2032', 'NUM'), ('or', 'CCONJ'), ('later', 'ADV'), ('.', 'PUNCT'), ('Solar', 'PROPN'), ('Energy', 'PROPN'), ('System', 'PROPN'), ('Incentives', 'PROPN'), ('and', 'CCONJ'), ('Policies', 'PROPN'), ('U.S.', 'PROPN'), ('federal', 'ADJ'), (',', 'PUNCT'), ('state', 'NOUN'), ('and', 'CCONJ'), ('local', 'ADJ'), ('governments', 'NOUN'), ('have', 'AUX'), ('established', 'VERB'), ('various', 'ADJ'), ('policies', 'NOUN'), (',', 'PUNCT'), ('incentives', 'NOUN'), ('and', 'CCONJ'), ('financial', 'ADJ'), ('mechanisms', 'NOUN'), ('to', 'PART'), ('reduce', 'VERB'), ('the', 'DET'), ('cost', 'NOUN'), ('of', 'ADP'), ('solar', 'ADJ'), ('energy', 'NOUN'), ('and', 'CCONJ'), ('to', 'PART'), ('accelerate', 'VERB'), ('the', 'DET'), ('adoption', 'NOUN'), ('of', 'ADP'), ('solar', 'ADJ'), ('energy', 'NOUN'), ('.', 'PUNCT'), ('These', 'DET'), ('incentives', 'NOUN'), ('include', 'VERB'), ('tax', 'NOUN'), ('credits', 'NOUN'), (',', 'PUNCT'), ('cash', 'NOUN'), ('grants', 'NOUN'), (',', 'PUNCT'), ('tax', 'NOUN'), ('abatements', 'NOUN'), ('and', 'CCONJ'), ('rebates', 'NOUN'), ('.', 'PUNCT'), ('In', 'ADP'), ('particular', 'ADJ'), (',', 'PUNCT'), ('pursuant', 'ADJ'), ('to', 'ADP'), ('the', 'DET'), ('IRA', 'PROPN'), (',', 'PUNCT'), ('Sections', 'PROPN'), ('48', 'NUM'), (',', 'PUNCT'), ('48E', 'NUM'), ('and', 'CCONJ'), ('25D', 'NUM'), ('of', 'ADP'), ('the', 'DET'), ('IRC', 'PROPN'), ('provides', 'VERB'), ('a', 'DET'), ('tax', 'NOUN'), ('credit', 'NOUN'), ('between', 'ADP'), ('6', 'NUM'), ('%', 'NOUN'), ('and', 'CCONJ'), ('70', 'NUM'), ('%', 'NOUN'), ('of', 'ADP'), ('qualified', 'ADJ'), ('commercial', 'ADJ'), ('or', 'CCONJ'), ('residential', 'ADJ'), ('expenditures', 'NOUN'), ('for', 'ADP'), ('solar', 'ADJ'), ('energy', 'NOUN'), ('systems', 'NOUN'), (',', 'PUNCT'), ('which', 'PRON'), ('may', 'AUX'), ('be', 'AUX'), ('claimed', 'VERB'), ('by', 'ADP'), ('our', 'PRON'), ('customers', 'NOUN'), ('for', 'ADP'), ('systems', 'NOUN'), ('they', 'PRON'), ('purchase', 'VERB'), (',', 'PUNCT'), ('or', 'CCONJ'), ('by', 'ADP'), ('us', 'PRON'), ('for', 'ADP'), ('arrangements', 'NOUN'), ('where', 'SCONJ'), ('we', 'PRON'), ('own', 'VERB'), ('the', 'DET'), ('systems', 'NOUN'), ('for', 'ADP'), ('properties', 'NOUN'), ('that', 'PRON'), ('meet', 'VERB'), ('statutory', 'ADJ'), ('requirements', 'NOUN'), ('.', 'PUNCT'), ('These', 'DET'), ('tax', 'NOUN'), ('credits', 'NOUN'), ('are', 'AUX'), ('primarily', 'ADV'), ('for', 'ADP'), ('the', 'DET'), ('direct', 'ADJ'), ('benefit', 'NOUN'), ('of', 'ADP'), ('our', 'PRON'), ('customers', 'NOUN'), ('and', 'CCONJ'), ('are', 'AUX'), ('currently', 'ADV'), ('scheduled', 'VERB'), ('to', 'PART'), ('phase', 'NOUN'), ('-', 'PUNCT'), ('out', 'ADP'), ('starting', 'VERB'), ('in', 'ADP'), ('2032', 'NUM'), ('or', 'CCONJ'), ('later', 'ADV'), ('.', 'PUNCT'), ('Regulations', 'NOUN'), ('Vehicle', 'PROPN'), ('Safety', 'PROPN'), ('and', 'CCONJ'), ('Testing', 'PROPN'), ('In', 'ADP'), ('the', 'DET'), ('U.S.', 'PROPN'), (',', 'PUNCT'), ('our', 'PRON'), ('vehicles', 'NOUN'), ('are', 'AUX'), ('subject', 'ADJ'), ('to', 'ADP'), ('regulation', 'NOUN'), ('by', 'ADP'), ('the', 'DET'), ('National', 'PROPN'), ('Highway', 'PROPN'), ('Traffic', 'PROPN'), ('Safety', 'PROPN'), ('Administration', 'PROPN'), ('(', 'PUNCT'), ('&', 'CCONJ'), ('#', 'SYM'), ('8220;NHTSA&#8221', 'NUM'), (';)', 'NUM'), (',', 'PUNCT'), ('including', 'VERB'), ('all', 'DET'), ('applicable', 'ADJ'), ('Federal', 'PROPN'), ('Motor', 'PROPN'), ('Vehicle', 'PROPN'), ('Safety', 'PROPN'), ('Standards', 'PROPN'), ('(', 'PUNCT'), ('&', 'CCONJ'), ('#', 'SYM'), ('8220;FMVSS&#8221', 'NUM'), (';)', 'PUNCT'), ('and', 'CCONJ'), ('the', 'DET'), ('NHTSA', 'PROPN'), ('bumper', 'NOUN'), ('standard', 'NOUN'), ('.', 'PUNCT'), ('Numerous', 'ADJ'), ('FMVSS', 'PROPN'), ('apply', 'VERB'), ('to', 'ADP'), ('our', 'PRON'), ('vehicles', 'NOUN'), (',', 'PUNCT'), ('such', 'ADJ'), ('as', 'ADP'), ('crash', 'NOUN'), ('-', 'PUNCT'), ('worthiness', 'NOUN'), ('and', 'CCONJ'), ('occupant', 'NOUN'), ('protection', 'NOUN'), ('requirements', 'NOUN'), ('.', 'PUNCT'), ('Our', 'PRON'), ('current', 'ADJ'), ('vehicles', 'NOUN'), ('fully', 'ADV'), ('comply', 'ADV'), ('and', 'CCONJ'), ('we', 'PRON'), ('expect', 'VERB'), ('that', 'SCONJ'), ('our', 'PRON'), ('vehicles', 'NOUN'), ('in', 'ADP'), ('the', 'DET'), ('future', 'NOUN'), ('will', 'AUX'), ('fully', 'ADV'), ('comply', 'VERB'), ('with', 'ADP'), ('all', 'DET'), ('applicable', 'ADJ'), ('FMVSS', 'PROPN'), ('with', 'ADP'), ('limited', 'ADJ'), ('or', 'CCONJ'), ('no', 'PRON'), ('exemptions', 'NOUN'), (',', 'PUNCT'), ('however', 'ADV'), (',', 'PUNCT'), ('FMVSS', 'PROPN'), ('are', 'AUX'), ('subject', 'ADJ'), ('to', 'ADP'), ('change', 'NOUN'), ('from', 'ADP'), ('time', 'NOUN'), ('to', 'ADP'), ('time', 'NOUN'), ('.', 'PUNCT'), ('As', 'ADP'), ('a', 'DET'), ('manufacturer', 'NOUN'), (',', 'PUNCT'), ('we', 'PRON'), ('must', 'AUX'), ('self', 'NOUN'), ('-', 'PUNCT'), ('certify', 'VERB'), ('that', 'SCONJ'), ('our', 'PRON'), ('vehicles', 'NOUN'), ('meet', 'VERB'), ('all', 'DET'), ('applicable', 'ADJ'), ('FMVSS', 'PROPN'), ('and', 'CCONJ'), ('the', 'DET'), ('NHTSA', 'PROPN'), ('bumper', 'NOUN'), ('standard', 'NOUN'), (',', 'PUNCT'), ('or', 'CCONJ'), ('otherwise', 'ADV'), ('are', 'AUX'), ('exempt', 'ADJ'), (',', 'PUNCT'), ('before', 'SCONJ'), ('the', 'DET'), ('vehicles', 'NOUN'), ('may', 'AUX'), ('be', 'AUX'), ('imported', 'VERB'), ('or', 'CCONJ'), ('sold', 'VERB'), ('in', 'ADP'), ('the', 'DET'), ('U.S.', 'PROPN'), ('We', 'PRON'), ('are', 'AUX'), ('also', 'ADV'), ('required', 'VERB'), ('to', 'PART'), ('comply', 'VERB'), ('with', 'ADP'), ('other', 'ADJ'), ('federal', 'ADJ'), ('laws', 'NOUN'), ('administered', 'VERB'), ('by', 'ADP'), ('NHTSA', 'PROPN'), (',', 'PUNCT'), ('including', 'VERB'), ('the', 'DET'), ('Corporate', 'PROPN'), ('Average', 'PROPN'), ('Fuel', 'PROPN'), ('Economy', 'PROPN'), ('standards', 'NOUN'), (',', 'PUNCT'), ('Theft', 'PROPN'), ('Prevention', 'PROPN'), ('Act', 'PROPN'), ('requirements', 'NOUN'), (',', 'PUNCT'), ('labeling', 'NOUN'), ('requirements', 'NOUN'), ('and', 'CCONJ'), ('other', 'ADJ'), ('information', 'NOUN'), ('provided', 'VERB'), ('to', 'ADP'), ('customers', 'NOUN'), ('in', 'ADP'), ('writing', 'NOUN'), (',', 'PUNCT'), ('Early', 'ADJ'), ('Warning', 'PROPN'), ('Reporting', 'NOUN'), ('requirements', 'NOUN'), ('regarding', 'VERB'), ('warranty', 'NOUN'), ('claims', 'NOUN'), (',', 'PUNCT'), ('field', 'NOUN'), ('reports', 'NOUN'), (',', 'PUNCT'), ('death', 'NOUN'), ('and', 'CCONJ'), ('injury', 'NOUN'), ('reports', 'NOUN'), ('and', 'CCONJ'), ('foreign', 'ADJ'), ('recalls', 'NOUN'), (',', 'PUNCT'), ('a', 'DET'), ('Standing', 'PROPN'), ('General', 'PROPN'), ('Order', 'PROPN'), ('requiring', 'VERB'), ('reports', 'NOUN'), ('regarding', 'VERB'), ('crashes', 'NOUN'), ('involving', 'VERB'), ('vehicles', 'NOUN'), ('equipped', 'VERB'), ('with', 'ADP'), ('advanced', 'ADJ'), ('driver', 'NOUN'), ('assistance', 'NOUN'), ('systems', 'NOUN'), (',', 'PUNCT'), ('and', 'CCONJ'), ('additional', 'ADJ'), ('requirements', 'NOUN'), ('for', 'ADP'), ('cooperating', 'VERB'), ('with', 'ADP'), ('compliance', 'NOUN'), ('and', 'CCONJ'), ('safety', 'NOUN'), ('investigations', 'NOUN'), ('and', 'CCONJ'), ('recall', 'VERB'), ('reporting', 'NOUN'), ('.', 'PUNCT'), ('The', 'DET'), ('U.S.', 'PROPN'), ('Automobile', 'PROPN'), ('Information', 'PROPN'), ('and', 'CCONJ'), ('Disclosure', 'PROPN'), ('Act', 'PROPN'), ('also', 'ADV'), ('requires', 'VERB'), ('manufacturers', 'NOUN'), ('of', 'ADP'), ('motor', 'NOUN'), ('vehicles', 'NOUN'), ('to', 'PART'), ('disclose', 'VERB'), ('certain', 'ADJ'), ('information', 'NOUN'), ('regarding', 'VERB'), ('the', 'DET'), ('manufacturer&#8217;s', 'PROPN'), ('suggested', 'VERB'), ('retail', 'ADJ'), ('price', 'NOUN'), (',', 'PUNCT'), ('optional', 'ADJ'), ('equipment', 'NOUN'), ('and', 'CCONJ'), ('pricing', 'NOUN'), ('.', 'PUNCT'), ('In', 'ADP'), ('addition', 'NOUN'), (',', 'PUNCT'), ('federal', 'ADJ'), ('law', 'NOUN'), ('requires', 'VERB'), ('inclusion', 'NOUN'), ('of', 'ADP'), ('fuel', 'NOUN'), ('economy', 'NOUN'), ('ratings', 'NOUN'), (',', 'PUNCT'), ('as', 'SCONJ'), ('determined', 'VERB'), ('by', 'ADP'), ('the', 'DET'), ('U.S.', 'PROPN'), ('Department', 'PROPN'), ('of', 'ADP'), ('Transportation', 'PROPN'), ('and', 'CCONJ'), ('the', 'DET'), ('Environmental', 'PROPN'), ('Protection', 'PROPN'), ('Agency', 'PROPN'), ('(', 'PUNCT'), ('the', 'PRON'), ('&', 'CCONJ'), ('#', 'SYM'), ('8220;EPA&#8221', 'NUM'), (';)', 'NUM'), (',', 'PUNCT'), ('and', 'CCONJ'), ('New', 'PROPN'), ('Car', 'PROPN'), ('Assessment', 'PROPN'), ('Program', 'PROPN'), ('ratings', 'NOUN'), ('as', 'SCONJ'), ('determined', 'VERB'), ('by', 'ADP'), ('NHTSA', 'PROPN'), (',', 'PUNCT'), ('if', 'SCONJ'), ('available', 'ADJ'), ('.', 'PUNCT'), ('Our', 'PRON'), ('vehicles', 'NOUN'), ('sold', 'VERB'), ('outside', 'ADV'), ('of', 'ADP'), ('the', 'DET'), ('U.S.', 'PROPN'), ('are', 'AUX'), ('subject', 'ADJ'), ('to', 'ADP'), ('similar', 'ADJ'), ('foreign', 'ADJ'), ('compliance', 'NOUN'), (',', 'PUNCT'), ('safety', 'NOUN'), (',', 'PUNCT'), ('environmental', 'ADJ'), ('and', 'CCONJ'), ('other', 'ADJ'), ('regulations', 'NOUN'), ('.', 'PUNCT'), ('Many', 'ADJ'), ('of', 'ADP'), ('those', 'DET'), ('regulations', 'NOUN'), ('are', 'AUX'), ('different', 'ADJ'), ('from', 'ADP'), ('those', 'PRON'), ('applicable', 'ADJ'), ('in', 'ADP'), ('the', 'DET'), ('U.S.', 'PROPN'), ('and', 'CCONJ'), ('may', 'AUX'), ('require', 'VERB'), ('redesign', 'NOUN'), ('and/or', 'CCONJ'), ('retesting', 'VERB'), ('.', 'PUNCT'), ('Some', 'PRON'), ('of', 'ADP'), ('those', 'DET'), ('regulations', 'NOUN'), ('impact', 'NOUN'), ('or', 'CCONJ'), ('prevent', 'VERB'), ('the', 'DET'), ('rollout', 'NOUN'), ('of', 'ADP'), ('new', 'ADJ'), ('vehicle', 'NOUN'), ('features', 'NOUN'), ('.', 'PUNCT'), ('Self', 'NOUN'), ('-', 'PUNCT'), ('Driving', 'PROPN'), ('Vehicles', 'PROPN'), ('Generally', 'ADV'), (',', 'PUNCT'), ('laws', 'NOUN'), ('pertaining', 'VERB'), ('to', 'ADP'), ('self', 'NOUN'), ('-', 'PUNCT'), ('driving', 'VERB'), ('vehicles', 'NOUN'), ('are', 'AUX'), ('evolving', 'VERB'), ('globally', 'ADV'), (',', 'PUNCT'), ('and', 'CCONJ'), ('in', 'ADP'), ('some', 'DET'), ('cases', 'NOUN'), ('may', 'AUX'), ('create', 'VERB'), ('restrictions', 'NOUN'), ('on', 'ADP'), ('features', 'NOUN'), ('or', 'CCONJ'), ('vehicle', 'NOUN'), ('designs', 'NOUN'), ('that', 'PRON'), ('we', 'PRON'), ('develop', 'VERB'), ('.', 'PUNCT'), ('While', 'SCONJ'), ('there', 'PRON'), ('are', 'VERB'), ('currently', 'ADV'), ('no', 'DET'), ('federal', 'ADJ'), ('U.S.', 'PROPN'), ('regulations', 'NOUN'), ('pertaining', 'VERB'), ('specifically', 'ADV'), ('to', 'ADP'), ('self', 'NOUN'), ('-', 'PUNCT'), ('driving', 'VERB'), ('vehicles', 'NOUN'), ('or', 'CCONJ'), ('self', 'NOUN'), ('-', 'PUNCT'), ('driving', 'VERB'), ('equipment', 'NOUN'), (',', 'PUNCT'), ('NHTSA', 'PROPN'), ('has', 'AUX'), ('published', 'VERB'), ('recommended', 'VERB'), ('guidelines', 'NOUN'), ('on', 'ADP'), ('self', 'NOUN'), ('-', 'PUNCT'), ('driving', 'VERB'), ('vehicles', 'NOUN'), (',', 'PUNCT'), ('apart', 'ADV'), ('from', 'ADP'), ('the', 'DET'), ('FMVSS', 'PROPN'), ('and', 'CCONJ'), ('manufacturer', 'NOUN'), ('reporting', 'VERB'), ('obligations', 'NOUN'), (',', 'PUNCT'), ('and', 'CCONJ'), ('retains', 'VERB'), ('the', 'DET'), ('authority', 'NOUN'), ('to', 'PART'), ('investigate', 'VERB'), ('and/or', 'CCONJ'), ('take', 'VERB'), ('action', 'NOUN'), ('on', 'ADP'), ('the', 'DET'), ('safety', 'NOUN'), ('or', 'CCONJ'), ('compliance', 'NOUN'), ('of', 'ADP'), ('any', 'DET'), ('vehicle', 'NOUN'), (',', 'PUNCT'), ('equipment', 'NOUN'), ('or', 'CCONJ'), ('features', 'NOUN'), ('operating', 'VERB'), ('on', 'ADP'), ('public', 'ADJ'), ('roads', 'NOUN'), ('.', 'PUNCT'), ('Certain', 'ADJ'), ('U.S.', 'PROPN'), ('states', 'NOUN'), ('also', 'ADV'), ('have', 'VERB'), ('legal', 'ADJ'), ('restrictions', 'NOUN'), ('on', 'ADP'), ('the', 'DET'), ('operation', 'NOUN'), (',', 'PUNCT'), ('registration', 'NOUN'), ('or', 'CCONJ'), ('licensure', 'NOUN'), ('of', 'ADP'), ('self', 'NOUN'), ('-', 'PUNCT'), ('driving', 'VERB'), ('vehicles', 'NOUN'), (',', 'PUNCT'), ('and', 'CCONJ'), ('many', 'ADJ'), ('other', 'ADJ'), ('states', 'NOUN'), ('are', 'AUX'), ('considering', 'VERB'), ('them', 'PRON'), ('.', 'PUNCT'), ('This', 'DET'), ('regulatory', 'ADJ'), ('patchwork', 'NOUN'), ('increases', 'VERB'), ('the', 'DET'), ('legal', 'ADJ'), ('complexity', 'NOUN'), ('with', 'ADP'), ('respect', 'NOUN'), ('to', 'ADP'), ('self', 'NOUN'), ('-', 'PUNCT'), ('driving', 'VERB'), ('vehicles', 'NOUN'), ('in', 'ADP'), ('the', 'DET'), ('U.S.', 'PROPN'), ('In', 'ADP'), ('markets', 'NOUN'), ('that', 'PRON'), ('follow', 'VERB'), ('the', 'DET'), ('regulations', 'NOUN'), ('of', 'ADP'), ('the', 'DET'), ('United', 'PROPN'), ('Nations', 'PROPN'), ('Economic', 'PROPN'), ('Commission', 'PROPN'), ('for', 'ADP'), ('Europe', 'PROPN'), ('(', 'PUNCT'), ('&', 'CCONJ'), ('#', 'SYM'), ('8220', 'NUM'), (';', 'PUNCT'), ('ECE', 'PROPN'), ('markets', 'NOUN'), ('&', 'CCONJ'), ('#', 'SYM'), ('8221', 'NUM'), (';)', 'NUM'), (',', 'PUNCT'), ('some', 'DET'), ('requirements', 'NOUN'), ('restrict', 'VERB'), ('the', 'DET'), ('design', 'NOUN'), ('of', 'ADP'), ('advanced', 'ADJ'), ('driver', 'NOUN'), ('-', 'PUNCT'), ('assistance', 'NOUN'), ('or', 'CCONJ'), ('self', 'NOUN'), ('-', 'PUNCT'), ('driving', 'VERB'), ('features', 'NOUN'), (',', 'PUNCT'), ('which', 'PRON'), ('can', 'AUX'), ('compromise', 'VERB'), ('or', 'CCONJ'), ('prevent', 'VERB'), ('their', 'PRON'), ('use', 'NOUN'), ('entirely', 'ADV'), ('.', 'PUNCT'), ('Other', 'ADJ'), ('applicable', 'ADJ'), ('laws', 'NOUN'), (',', 'PUNCT'), ('both', 'CCONJ'), ('current', 'ADJ'), ('and', 'CCONJ'), ('proposed', 'VERB'), (',', 'PUNCT'), ('may', 'AUX'), ('hinder', 'VERB'), ('the', 'DET'), ('path', 'NOUN'), ('and', 'CCONJ'), ('timeline', 'NOUN'), ('to', 'ADP'), ('introducing', 'VERB'), ('self', 'NOUN'), ('-', 'PUNCT'), ('driving', 'VERB'), ('vehicles', 'NOUN'), ('for', 'ADP'), ('sale', 'NOUN'), ('and', 'CCONJ'), ('use', 'NOUN'), ('in', 'ADP'), ('the', 'DET'), ('markets', 'NOUN'), ('where', 'SCONJ'), ('they', 'PRON'), ('apply', 'VERB'), ('.', 'PUNCT'), ('Other', 'ADJ'), ('key', 'ADJ'), ('markets', 'NOUN'), (',', 'PUNCT'), ('including', 'VERB'), ('China', 'PROPN'), (',', 'PUNCT'), ('continue', 'VERB'), ('to', 'PART'), ('consider', 'VERB'), ('self', 'NOUN'), ('-', 'PUNCT'), ('driving', 'VERB'), ('regulation', 'NOUN'), ('.', 'PUNCT'), ('Any', 'DET'), ('implemented', 'VERB'), ('regulations', 'NOUN'), ('may', 'AUX'), ('differ', 'VERB'), ('materially', 'ADV'), ('from', 'ADP'), ('the', 'DET'), ('U.S.', 'PROPN'), ('and', 'CCONJ'), ('ECE', 'PROPN'), ('markets', 'NOUN'), (',', 'PUNCT'), ('which', 'PRON'), ('may', 'AUX'), ('further', 'ADV'), ('increase', 'VERB'), ('the', 'DET'), ('legal', 'ADJ'), ('complexity', 'NOUN'), ('of', 'ADP'), ('self', 'NOUN'), ('-', 'PUNCT'), ('driving', 'VERB'), ('vehicles', 'NOUN'), ('and', 'CCONJ'), ('limit', 'VERB'), ('or', 'CCONJ'), ('prevent', 'VERB'), ('certain', 'ADJ'), ('features', 'NOUN'), ('.', 'PUNCT'), ('Automobile', 'PROPN'), ('Manufacturer', 'PROPN'), ('and', 'CCONJ'), ('Dealer', 'PROPN'), ('Regulation', 'PROPN'), ('In', 'ADP'), ('the', 'DET'), ('U.S.', 'PROPN'), (',', 'PUNCT'), ('state', 'NOUN'), ('laws', 'NOUN'), ('regulate', 'VERB'), ('the', 'DET'), ('manufacture', 'NOUN'), (',', 'PUNCT'), ('distribution', 'NOUN'), (',', 'PUNCT'), ('sale', 'NOUN'), ('and', 'CCONJ'), ('service', 'NOUN'), ('of', 'ADP'), ('automobiles', 'NOUN'), (',', 'PUNCT'), ('and', 'CCONJ'), ('generally', 'ADV'), ('require', 'VERB'), ('motor', 'NOUN'), ('vehicle', 'NOUN'), ('manufacturers', 'NOUN'), ('and', 'CCONJ'), ('dealers', 'NOUN'), ('to', 'PART'), ('be', 'AUX'), ('licensed', 'VERB'), ('in', 'ADP'), ('order', 'NOUN'), ('to', 'PART'), ('sell', 'VERB'), ('vehicles', 'NOUN'), ('directly', 'ADV'), ('to', 'ADP'), ('residents', 'NOUN'), ('.', 'PUNCT'), ('Certain', 'ADJ'), ('states', 'NOUN'), ('have', 'AUX'), ('asserted', 'VERB'), ('that', 'SCONJ'), ('the', 'DET'), ('laws', 'NOUN'), ('in', 'ADP'), ('such', 'ADJ'), ('states', 'NOUN'), ('do', 'AUX'), ('not', 'PART'), ('permit', 'VERB'), ('automobile', 'NOUN'), ('manufacturers', 'NOUN'), ('to', 'PART'), ('be', 'AUX'), ('licensed', 'VERB'), ('as', 'ADP'), ('dealers', 'NOUN'), ('or', 'CCONJ'), ('to', 'PART'), ('act', 'VERB'), ('in', 'ADP'), ('the', 'DET'), ('capacity', 'NOUN'), ('of', 'ADP'), ('a', 'DET'), ('dealer', 'NOUN'), (',', 'PUNCT'), ('or', 'CCONJ'), ('that', 'SCONJ'), ('they', 'PRON'), ('otherwise', 'ADV'), ('restrict', 'VERB'), ('a', 'DET'), ('manufacturer&#8217;s', 'NOUN'), ('ability', 'NOUN'), ('to', 'PART'), ('deliver', 'VERB'), ('or', 'CCONJ'), ('perform', 'VERB'), ('warranty', 'NOUN'), ('repairs', 'NOUN'), ('on', 'ADP'), ('vehicles', 'NOUN'), ('.', 'PUNCT'), ('To', 'PART'), ('sell', 'VERB'), ('vehicles', 'NOUN'), ('to', 'ADP'), ('residents', 'NOUN'), ('of', 'ADP'), ('states', 'NOUN'), ('where', 'SCONJ'), ('we', 'PRON'), ('are', 'AUX'), ('not', 'PART'), ('licensed', 'VERB'), ('as', 'ADP'), ('a', 'DET'), ('dealer', 'NOUN'), (',', 'PUNCT'), ('we', 'PRON'), ('generally', 'ADV'), ('conduct', 'VERB'), ('the', 'DET'), ('sale', 'NOUN'), ('out', 'ADP'), ('of', 'ADP'), ('the', 'DET'), ('state', 'NOUN'), ('.', 'PUNCT'), ('In', 'ADP'), ('certain', 'ADJ'), ('such', 'ADJ'), ('states', 'NOUN'), (',', 'PUNCT'), ('we', 'PRON'), ('have', 'AUX'), ('opened', 'VERB'), ('&', 'CCONJ'), ('#', 'SYM'), ('8220;galleries&#8221', 'PROPN'), (';', 'PUNCT'), ('that', 'PRON'), ('serve', 'VERB'), ('an', 'DET'), ('educational', 'ADJ'), ('purpose', 'NOUN'), ('and', 'CCONJ'), ('where', 'SCONJ'), ('sales', 'NOUN'), ('may', 'AUX'), ('not', 'PART'), ('occur', 'VERB'), ('.', 'PUNCT'), ('Some', 'DET'), ('automobile', 'NOUN'), ('dealer', 'NOUN'), ('trade', 'NOUN'), ('associations', 'NOUN'), ('have', 'AUX'), ('both', 'PRON'), ('challenged', 'VERB'), ('the', 'DET'), ('legality', 'NOUN'), ('of', 'ADP'), ('our', 'PRON'), ('operations', 'NOUN'), ('in', 'ADP'), ('court', 'NOUN'), ('and', 'CCONJ'), ('used', 'VERB'), ('administrative', 'ADJ'), ('and', 'CCONJ'), ('legislative', 'ADJ'), ('processes', 'NOUN'), ('to', 'PART'), ('attempt', 'VERB'), ('to', 'PART'), ('prohibit', 'VERB'), ('or', 'CCONJ'), ('limit', 'VERB'), ('our', 'PRON'), ('ability', 'NOUN'), ('to', 'PART'), ('operate', 'VERB'), ('existing', 'VERB'), ('stores', 'NOUN'), ('or', 'CCONJ'), ('expand', 'VERB'), ('to', 'ADP'), ('new', 'ADJ'), ('locations', 'NOUN'), ('.', 'PUNCT'), ('Certain', 'ADJ'), ('dealer', 'NOUN'), ('associations', 'NOUN'), ('have', 'AUX'), ('also', 'ADV'), ('actively', 'ADV'), ('lobbied', 'VERB'), ('state', 'NOUN'), ('licensing', 'NOUN'), ('agencies', 'NOUN'), ('and', 'CCONJ'), ('legislators', 'NOUN'), ('to', 'PART'), ('interpret', 'VERB'), ('existing', 'VERB'), ('laws', 'NOUN'), ('or', 'CCONJ'), ('enact', 'VERB'), ('new', 'ADJ'), ('laws', 'NOUN'), ('in', 'ADP'), ('ways', 'NOUN'), ('not', 'PART'), ('favorable', 'ADJ'), ('to', 'ADP'), ('our', 'PRON'), ('ownership', 'NOUN'), ('and', 'CCONJ'), ('operation', 'NOUN'), ('of', 'ADP'), ('our', 'PRON'), ('own', 'ADJ'), ('retail', 'NOUN'), ('and', 'CCONJ'), ('service', 'NOUN'), ('locations', 'NOUN'), ('.', 'PUNCT'), ('We', 'PRON'), ('expect', 'VERB'), ('such', 'ADJ'), ('challenges', 'NOUN'), ('to', 'PART'), ('continue', 'VERB'), (',', 'PUNCT'), ('and', 'CCONJ'), ('we', 'PRON'), ('intend', 'VERB'), ('to', 'PART'), ('actively', 'ADV'), ('fight', 'VERB'), ('any', 'DET'), ('such', 'ADJ'), ('efforts', 'NOUN'), ('.', 'PUNCT'), ('Battery', 'PROPN'), ('Safety', 'PROPN'), ('and', 'CCONJ'), ('Testing', 'VERB'), ('Our', 'PRON'), ('battery', 'NOUN'), ('packs', 'NOUN'), ('are', 'AUX'), ('subject', 'ADJ'), ('to', 'ADP'), ('various', 'ADJ'), ('U.S.', 'PROPN'), ('and', 'CCONJ'), ('international', 'ADJ'), ('regulations', 'NOUN'), ('that', 'PRON'), ('govern', 'VERB'), ('transport', 'NOUN'), ('of', 'ADP'), ('&', 'CCONJ'), ('#', 'SYM'), ('8220;dangerous', 'NUM'), ('goods,&#8221', 'NOUN'), (';', 'PUNCT'), ('defined', 'VERB'), ('to', 'PART'), ('include', 'VERB'), ('lithium', 'NOUN'), ('-', 'PUNCT'), ('ion', 'NOUN'), ('batteries', 'NOUN'), (',', 'PUNCT'), ('which', 'PRON'), ('may', 'AUX'), ('present', 'VERB'), ('a', 'DET'), ('risk', 'NOUN'), ('in', 'ADP'), ('transportation', 'NOUN'), ('.', 'PUNCT'), ('We', 'PRON'), ('conduct', 'VERB'), ('testing', 'NOUN'), ('to', 'PART'), ('demonstrate', 'VERB'), ('our', 'PRON'), ('compliance', 'NOUN'), ('with', 'ADP'), ('such', 'ADJ'), ('regulations', 'NOUN'), ('.', 'PUNCT'), ('We', 'PRON'), ('use', 'VERB'), ('lithium', 'NOUN'), ('-', 'PUNCT'), ('ion', 'NOUN'), ('cells', 'NOUN'), ('in', 'ADP'), ('our', 'PRON'), ('high', 'ADJ'), ('voltage', 'NOUN'), ('battery', 'NOUN'), ('packs', 'NOUN'), ('in', 'ADP'), ('our', 'PRON'), ('vehicles', 'NOUN'), ('and', 'CCONJ'), ('energy', 'NOUN'), ('storage', 'NOUN'), ('products', 'NOUN'), ('.', 'PUNCT'), ('The', 'DET'), ('use', 'NOUN'), (',', 'PUNCT'), ('storage', 'NOUN'), ('and', 'CCONJ'), ('disposal', 'NOUN'), ('of', 'ADP'), ('our', 'PRON'), ('battery', 'NOUN'), ('packs', 'NOUN'), ('are', 'AUX'), ('regulated', 'VERB'), ('under', 'ADP'), ('existing', 'VERB'), ('laws', 'NOUN'), ('and', 'CCONJ'), ('are', 'AUX'), ('the', 'DET'), ('subject', 'NOUN'), ('of', 'ADP'), ('ongoing', 'ADJ'), ('regulatory', 'ADJ'), ('changes', 'NOUN'), ('that', 'PRON'), ('may', 'AUX'), ('add', 'VERB'), ('additional', 'ADJ'), ('requirements', 'NOUN'), ('in', 'ADP'), ('the', 'DET'), ('future', 'NOUN'), ('.', 'PUNCT'), ('We', 'PRON'), ('have', 'VERB'), ('agreements', 'NOUN'), ('with', 'ADP'), ('third', 'ADJ'), ('party', 'NOUN'), ('battery', 'NOUN'), ('recycling', 'NOUN'), ('companies', 'NOUN'), ('to', 'PART'), ('recycle', 'VERB'), ('our', 'PRON'), ('battery', 'NOUN'), ('packs', 'NOUN'), (',', 'PUNCT'), ('and', 'CCONJ'), ('we', 'PRON'), ('are', 'AUX'), ('also', 'ADV'), ('piloting', 'VERB'), ('our', 'PRON'), ('own', 'ADJ'), ('recycling', 'NOUN'), ('technology', 'NOUN'), ('.', 'PUNCT'), ('Solar', 'PROPN'), ('Energy&#8212;General', 'PROPN'), ('We', 'PRON'), ('are', 'AUX'), ('subject', 'ADJ'), ('to', 'ADP'), ('certain', 'ADJ'), ('state', 'NOUN'), ('and', 'CCONJ'), ('federal', 'ADJ'), ('regulations', 'NOUN'), ('applicable', 'ADJ'), ('to', 'ADP'), ('solar', 'ADJ'), ('and', 'CCONJ'), ('battery', 'NOUN'), ('storage', 'NOUN'), ('providers', 'NOUN'), ('and', 'CCONJ'), ('sellers', 'NOUN'), ('of', 'ADP'), ('electricity', 'NOUN'), ('.', 'PUNCT'), ('To', 'PART'), ('operate', 'VERB'), ('our', 'PRON'), ('systems', 'NOUN'), (',', 'PUNCT'), ('we', 'PRON'), ('enter', 'VERB'), ('into', 'ADP'), ('standard', 'ADJ'), ('interconnection', 'NOUN'), ('agreements', 'NOUN'), ('with', 'ADP'), ('applicable', 'ADJ'), ('utilities', 'NOUN'), ('.', 'PUNCT'), ('Sales', 'NOUN'), ('of', 'ADP'), ('electricity', 'NOUN'), ('and', 'CCONJ'), ('non', 'ADJ'), ('-', 'ADJ'), ('sale', 'ADJ'), ('equipment', 'NOUN'), ('leases', 'NOUN'), ('by', 'ADP'), ('third', 'ADJ'), ('parties', 'NOUN'), (',', 'PUNCT'), ('such', 'ADJ'), ('as', 'ADP'), ('our', 'PRON'), ('leases', 'NOUN'), ('and', 'CCONJ'), ('PPAs', 'NOUN'), (',', 'PUNCT'), ('have', 'AUX'), ('faced', 'VERB'), ('regulatory', 'ADJ'), ('challenges', 'NOUN'), ('in', 'ADP'), ('some', 'DET'), ('states', 'NOUN'), ('and', 'CCONJ'), ('jurisdictions', 'NOUN'), ('.', 'PUNCT'), ('Solar', 'ADJ'), ('Energy&#8212;Net', 'VERB'), ('Metering', 'VERB'), ('Most', 'ADJ'), ('states', 'NOUN'), ('in', 'ADP'), ('the', 'DET'), ('U.S.', 'PROPN'), ('make', 'VERB'), ('net', 'ADJ'), ('energy', 'NOUN'), ('metering', 'NOUN'), (',', 'PUNCT'), ('or', 'CCONJ'), ('net', 'ADJ'), ('metering', 'NOUN'), (',', 'PUNCT'), ('available', 'ADJ'), ('to', 'ADP'), ('solar', 'ADJ'), ('customers', 'NOUN'), ('.', 'PUNCT'), ('Net', 'ADJ'), ('metering', 'NOUN'), ('typically', 'ADV'), ('allows', 'VERB'), ('solar', 'ADJ'), ('customers', 'NOUN'), ('to', 'PART'), ('interconnect', 'VERB'), ('their', 'PRON'), ('solar', 'ADJ'), ('energy', 'NOUN'), ('systems', 'NOUN'), ('to', 'ADP'), ('the', 'DET'), ('utility', 'NOUN'), ('grid', 'NOUN'), ('and', 'CCONJ'), ('offset', 'VERB'), ('their', 'PRON'), ('utility', 'NOUN'), ('electricity', 'NOUN'), ('purchases', 'NOUN'), ('by', 'ADP'), ('receiving', 'VERB'), ('a', 'DET'), ('bill', 'NOUN'), ('credit', 'NOUN'), ('for', 'ADP'), ('excess', 'ADJ'), ('energy', 'NOUN'), ('generated', 'VERB'), ('by', 'ADP'), ('their', 'PRON'), ('solar', 'ADJ'), ('energy', 'NOUN'), ('system', 'NOUN'), ('that', 'PRON'), ('is', 'AUX'), ('exported', 'VERB'), ('to', 'ADP'), ('the', 'DET'), ('grid', 'NOUN'), ('.', 'PUNCT'), ('In', 'ADP'), ('certain', 'ADJ'), ('jurisdictions', 'NOUN'), (',', 'PUNCT'), ('regulators', 'NOUN'), ('or', 'CCONJ'), ('utilities', 'NOUN'), ('have', 'AUX'), ('reduced', 'VERB'), ('or', 'CCONJ'), ('eliminated', 'VERB'), ('the', 'DET'), ('benefit', 'NOUN'), ('available', 'ADJ'), ('under', 'ADP'), ('net', 'ADJ'), ('metering', 'NOUN'), ('or', 'CCONJ'), ('have', 'AUX'), ('proposed', 'VERB'), ('to', 'PART'), ('do', 'VERB'), ('so', 'ADV'), ('.', 'PUNCT'), ('Competition', 'NOUN'), ('Automotive', 'PROPN'), ('The', 'DET'), ('worldwide', 'ADJ'), ('automotive', 'ADJ'), ('market', 'NOUN'), ('is', 'AUX'), ('highly', 'ADV'), ('competitive', 'ADJ'), ('and', 'CCONJ'), ('we', 'PRON'), ('expect', 'VERB'), ('it', 'PRON'), ('will', 'AUX'), ('become', 'VERB'), ('even', 'ADV'), ('more', 'ADV'), ('competitive', 'ADJ'), ('in', 'ADP'), ('the', 'DET'), ('future', 'NOUN'), ('as', 'ADP'), ('a', 'DET'), ('significant', 'ADJ'), ('and', 'CCONJ'), ('growing', 'VERB'), ('number', 'NOUN'), ('of', 'ADP'), ('established', 'VERB'), ('and', 'CCONJ'), ('new', 'ADJ'), ('automobile', 'NOUN'), ('manufacturers', 'NOUN'), (',', 'PUNCT'), ('as', 'ADV'), ('well', 'ADV'), ('as', 'ADP'), ('other', 'ADJ'), ('companies', 'NOUN'), (',', 'PUNCT'), ('have', 'AUX'), ('entered', 'VERB'), (',', 'PUNCT'), ('or', 'CCONJ'), ('are', 'AUX'), ('reported', 'VERB'), ('to', 'PART'), ('have', 'VERB'), ('plans', 'NOUN'), ('to', 'PART'), ('enter', 'VERB'), ('the', 'DET'), ('electric', 'ADJ'), ('vehicle', 'NOUN'), ('market', 'NOUN'), ('.', 'PUNCT'), ('We', 'PRON'), ('believe', 'VERB'), ('that', 'SCONJ'), ('our', 'PRON'), ('vehicles', 'NOUN'), ('compete', 'VERB'), ('in', 'ADP'), ('the', 'DET'), ('market', 'NOUN'), ('based', 'VERB'), ('on', 'ADP'), ('both', 'CCONJ'), ('their', 'PRON'), ('traditional', 'ADJ'), ('segment', 'NOUN'), ('classification', 'NOUN'), ('as', 'ADV'), ('well', 'ADV'), ('as', 'ADP'), ('their', 'PRON'), ('propulsion', 'NOUN'), ('technology', 'NOUN'), ('.', 'PUNCT'), ('For', 'ADP'), ('example', 'NOUN'), (',', 'PUNCT'), ('Cybertruck', 'PROPN'), ('competes', 'VERB'), ('with', 'ADP'), ('other', 'ADJ'), ('pickup', 'NOUN'), ('trucks', 'NOUN'), (',', 'PUNCT'), ('Model', 'PROPN'), ('S', 'PROPN'), ('and', 'CCONJ'), ('Model', 'PROPN'), ('X', 'PROPN'), ('compete', 'VERB'), ('primarily', 'ADV'), ('with', 'ADP'), ('premium', 'NOUN'), ('sedans', 'NOUN'), ('and', 'CCONJ'), ('premium', 'NOUN'), ('SUVs', 'NOUN'), ('and', 'CCONJ'), ('Model', 'PROPN'), ('3', 'NUM'), ('and', 'CCONJ'), ('Model', 'PROPN'), ('Y', 'PROPN'), ('compete', 'VERB'), ('with', 'ADP'), ('small', 'ADJ'), ('to', 'PART'), ('medium', 'ADJ'), ('-', 'PUNCT'), ('sized', 'ADJ'), ('sedans', 'NOUN'), ('and', 'CCONJ'), ('compact', 'ADJ'), ('SUVs', 'NOUN'), (',', 'PUNCT'), ('which', 'PRON'), ('are', 'AUX'), ('extremely', 'ADV'), ('competitive', 'ADJ'), ('markets', 'NOUN'), ('.', 'PUNCT'), ('Competing', 'VERB'), ('products', 'NOUN'), ('typically', 'ADV'), ('include', 'VERB'), ('internal', 'ADJ'), ('combustion', 'NOUN'), ('vehicles', 'NOUN'), ('from', 'ADP'), ('more', 'ADV'), ('established', 'ADJ'), ('automobile', 'NOUN'), ('manufacturers', 'NOUN'), (';', 'PUNCT'), ('however', 'ADV'), (',', 'PUNCT'), ('many', 'ADJ'), ('established', 'VERB'), ('and', 'CCONJ'), ('new', 'ADJ'), ('automobile', 'NOUN'), ('manufacturers', 'NOUN'), ('have', 'AUX'), ('entered', 'VERB'), ('or', 'CCONJ'), ('have', 'AUX'), ('announced', 'VERB'), ('plans', 'NOUN'), ('to', 'PART'), ('enter', 'VERB'), ('the', 'DET'), ('market', 'NOUN'), ('for', 'ADP'), ('electric', 'ADJ'), ('and', 'CCONJ'), ('other', 'ADJ'), ('alternative', 'ADJ'), ('fuel', 'NOUN'), ('vehicles', 'NOUN'), ('.', 'PUNCT'), ('Overall', 'ADV'), (',', 'PUNCT'), ('we', 'PRON'), ('believe', 'VERB'), ('these', 'DET'), ('announcements', 'NOUN'), ('and', 'CCONJ'), ('vehicle', 'NOUN'), ('introductions', 'NOUN'), (',', 'PUNCT'), ('including', 'VERB'), ('the', 'DET'), ('introduction', 'NOUN'), ('of', 'ADP'), ('electric', 'ADJ'), ('vehicles', 'NOUN'), ('into', 'ADP'), ('rental', 'ADJ'), ('car', 'NOUN'), ('company', 'NOUN'), ('fleets', 'NOUN'), (',', 'PUNCT'), ('promote', 'VERB'), ('the', 'DET'), ('development', 'NOUN'), ('of', 'ADP'), ('the', 'DET'), ('electric', 'ADJ'), ('vehicle', 'NOUN'), ('market', 'NOUN'), ('by', 'ADP'), ('highlighting', 'VERB'), ('the', 'DET'), ('attractiveness', 'NOUN'), ('of', 'ADP'), ('electric', 'ADJ'), ('vehicles', 'NOUN'), ('relative', 'ADJ'), ('to', 'ADP'), ('the', 'DET'), ('internal', 'ADJ'), ('combustion', 'NOUN'), ('vehicle', 'NOUN'), ('.', 'PUNCT'), ('Many', 'ADJ'), ('major', 'ADJ'), ('automobile', 'NOUN'), ('manufacturers', 'NOUN'), ('have', 'VERB'), ('electric', 'ADJ'), ('vehicles', 'NOUN'), ('available', 'ADJ'), ('today', 'NOUN'), ('in', 'ADP'), ('major', 'ADJ'), ('markets', 'NOUN'), ('including', 'VERB'), ('the', 'DET'), ('U.S.', 'PROPN'), (',', 'PUNCT'), ('China', 'PROPN'), ('and', 'CCONJ'), ('Europe', 'PROPN'), (',', 'PUNCT'), ('and', 'CCONJ'), ('other', 'ADJ'), ('current', 'ADJ'), ('and', 'CCONJ'), ('prospective', 'ADJ'), ('automobile', 'NOUN'), ('manufacturers', 'NOUN'), ('are', 'AUX'), ('also', 'ADV'), ('developing', 'VERB'), ('electric', 'ADJ'), ('vehicles', 'NOUN'), ('.', 'PUNCT'), ('In', 'ADP'), ('addition', 'NOUN'), (',', 'PUNCT'), ('several', 'ADJ'), ('manufacturers', 'NOUN'), ('offer', 'VERB'), ('hybrid', 'ADJ'), ('vehicles', 'NOUN'), (',', 'PUNCT'), ('including', 'VERB'), ('plug', 'NOUN'), ('-', 'PUNCT'), ('in', 'ADP'), ('versions', 'NOUN'), ('.', 'PUNCT'), ('We', 'PRON'), ('believe', 'VERB'), ('that', 'SCONJ'), ('there', 'PRON'), ('is', 'VERB'), ('also', 'ADV'), ('increasing', 'VERB'), ('competition', 'NOUN'), ('for', 'ADP'), ('our', 'PRON'), ('vehicle', 'NOUN'), ('offerings', 'NOUN'), ('as', 'ADP'), ('a', 'DET'), ('platform', 'NOUN'), ('for', 'ADP'), ('delivering', 'VERB'), ('self', 'NOUN'), ('-', 'PUNCT'), ('driving', 'VERB'), ('technologies', 'NOUN'), (',', 'PUNCT'), ('charging', 'VERB'), ('solutions', 'NOUN'), ('and', 'CCONJ'), ('other', 'ADJ'), ('features', 'NOUN'), ('and', 'CCONJ'), ('services', 'NOUN'), (',', 'PUNCT'), ('and', 'CCONJ'), ('we', 'PRON'), ('expect', 'VERB'), ('to', 'PART'), ('compete', 'VERB'), ('in', 'ADP'), ('this', 'DET'), ('developing', 'VERB'), ('market', 'NOUN'), ('through', 'ADP'), ('continued', 'VERB'), ('progress', 'NOUN'), ('on', 'ADP'), ('our', 'PRON'), ('Autopilot', 'PROPN'), (',', 'PUNCT'), ('FSD', 'PROPN'), ('and', 'CCONJ'), ('neural', 'ADJ'), ('network', 'NOUN'), ('capabilities', 'NOUN'), (',', 'PUNCT'), ('Supercharger', 'NOUN'), ('network', 'NOUN'), ('and', 'CCONJ'), ('our', 'PRON'), ('infotainment', 'ADJ'), ('offerings', 'NOUN'), ('.', 'PUNCT'), ('Energy', 'PROPN'), ('Generation', 'PROPN'), ('and', 'CCONJ'), ('Storage', 'PROPN'), ('Energy', 'PROPN'), ('Storage', 'PROPN'), ('Systems', 'PROPN'), ('The', 'DET'), ('market', 'NOUN'), ('for', 'ADP'), ('energy', 'NOUN'), ('storage', 'NOUN'), ('products', 'NOUN'), ('is', 'AUX'), ('also', 'ADV'), ('highly', 'ADV'), ('competitive', 'ADJ'), (',', 'PUNCT'), ('and', 'CCONJ'), ('both', 'PRON'), ('established', 'VERB'), ('and', 'CCONJ'), ('emerging', 'VERB'), ('companies', 'NOUN'), ('have', 'AUX'), ('introduced', 'VERB'), ('products', 'NOUN'), ('that', 'PRON'), ('are', 'AUX'), ('similar', 'ADJ'), ('to', 'ADP'), ('our', 'PRON'), ('product', 'NOUN'), ('portfolio', 'NOUN'), ('or', 'CCONJ'), ('that', 'PRON'), ('are', 'AUX'), ('alternatives', 'NOUN'), ('to', 'ADP'), ('the', 'DET'), ('elements', 'NOUN'), ('of', 'ADP'), ('our', 'PRON'), ('systems', 'NOUN'), ('.', 'PUNCT'), ('We', 'PRON'), ('compete', 'VERB'), ('with', 'ADP'), ('these', 'DET'), ('companies', 'NOUN'), ('based', 'VERB'), ('on', 'ADP'), ('price', 'NOUN'), (',', 'PUNCT'), ('energy', 'NOUN'), ('density', 'NOUN'), ('and', 'CCONJ'), ('efficiency', 'NOUN'), ('.', 'PUNCT'), ('We', 'PRON'), ('believe', 'VERB'), ('that', 'SCONJ'), ('the', 'DET'), ('specifications', 'NOUN'), ('and', 'CCONJ'), ('features', 'NOUN'), ('of', 'ADP'), ('our', 'PRON'), ('products', 'NOUN'), (',', 'PUNCT'), ('our', 'PRON'), ('strong', 'ADJ'), ('brand', 'NOUN'), ('and', 'CCONJ'), ('the', 'DET'), ('modular', 'ADJ'), (',', 'PUNCT'), ('scalable', 'ADJ'), ('nature', 'NOUN'), ('of', 'ADP'), ('our', 'PRON'), ('energy', 'NOUN'), ('storage', 'NOUN'), ('products', 'NOUN'), ('give', 'VERB'), ('us', 'PRON'), ('a', 'DET'), ('competitive', 'ADJ'), ('advantage', 'NOUN'), ('in', 'ADP'), ('our', 'PRON'), ('markets', 'NOUN'), ('.', 'PUNCT'), ('Solar', 'PROPN'), ('Energy', 'PROPN'), ('Systems', 'PROPN'), ('The', 'DET'), ('primary', 'ADJ'), ('competitors', 'NOUN'), ('to', 'ADP'), ('our', 'PRON'), ('solar', 'ADJ'), ('energy', 'NOUN'), ('business', 'NOUN'), ('are', 'AUX'), ('the', 'DET'), ('traditional', 'ADJ'), ('local', 'ADJ'), ('utility', 'NOUN'), ('companies', 'NOUN'), ('that', 'PRON'), ('supply', 'VERB'), ('energy', 'NOUN'), ('to', 'ADP'), ('our', 'PRON'), ('potential', 'ADJ'), ('customers', 'NOUN'), ('.', 'PUNCT'), ('We', 'PRON'), ('compete', 'VERB'), ('with', 'ADP'), ('these', 'DET'), ('traditional', 'ADJ'), ('utility', 'NOUN'), ('companies', 'NOUN'), ('primarily', 'ADV'), ('based', 'VERB'), ('on', 'ADP'), ('price', 'NOUN'), ('and', 'CCONJ'), ('the', 'DET'), ('ease', 'NOUN'), ('by', 'ADP'), ('which', 'PRON'), ('customers', 'NOUN'), ('can', 'AUX'), ('switch', 'VERB'), ('to', 'ADP'), ('electricity', 'NOUN'), ('generated', 'VERB'), ('by', 'ADP'), ('our', 'PRON'), ('solar', 'ADJ'), ('energy', 'NOUN'), ('systems', 'NOUN'), ('.', 'PUNCT'), ('We', 'PRON'), ('also', 'ADV'), ('compete', 'VERB'), ('with', 'ADP'), ('solar', 'ADJ'), ('energy', 'NOUN'), ('companies', 'NOUN'), ('that', 'PRON'), ('provide', 'VERB'), ('products', 'NOUN'), ('and', 'CCONJ'), ('services', 'NOUN'), ('similar', 'ADJ'), ('to', 'ADP'), ('ours', 'PRON'), ('.', 'PUNCT'), ('Many', 'ADJ'), ('solar', 'ADJ'), ('energy', 'NOUN'), ('companies', 'NOUN'), ('only', 'ADV'), ('install', 'VERB'), ('solar', 'ADJ'), ('energy', 'NOUN'), ('systems', 'NOUN'), (',', 'PUNCT'), ('while', 'SCONJ'), ('others', 'NOUN'), ('only', 'ADV'), ('provide', 'VERB'), ('financing', 'NOUN'), ('for', 'ADP'), ('these', 'DET'), ('installations', 'NOUN'), ('.', 'PUNCT'), ('We', 'PRON'), ('believe', 'VERB'), ('we', 'PRON'), ('have', 'VERB'), ('a', 'DET'), ('significant', 'ADJ'), ('expansion', 'NOUN'), ('opportunity', 'NOUN'), ('with', 'ADP'), ('our', 'PRON'), ('offerings', 'NOUN'), ('and', 'CCONJ'), ('that', 'SCONJ'), ('the', 'DET'), ('regulatory', 'ADJ'), ('environment', 'NOUN'), ('is', 'AUX'), ('increasingly', 'ADV'), ('conducive', 'ADJ'), ('to', 'ADP'), ('the', 'DET'), ('adoption', 'NOUN'), ('of', 'ADP'), ('renewable', 'ADJ'), ('energy', 'NOUN'), ('systems', 'NOUN'), ('.', 'PUNCT'), ('Intellectual', 'PROPN'), ('Property', 'PROPN'), ('We', 'PRON'), ('place', 'VERB'), ('a', 'DET'), ('strong', 'ADJ'), ('emphasis', 'NOUN'), ('on', 'ADP'), ('our', 'PRON'), ('innovative', 'ADJ'), ('approach', 'NOUN'), ('and', 'CCONJ'), ('proprietary', 'ADJ'), ('designs', 'NOUN'), ('which', 'PRON'), ('bring', 'VERB'), ('intrinsic', 'ADJ'), ('value', 'NOUN'), ('and', 'CCONJ'), ('uniqueness', 'NOUN'), ('to', 'ADP'), ('our', 'PRON'), ('product', 'NOUN'), ('portfolio', 'NOUN'), ('.', 'PUNCT'), ('As', 'ADP'), ('part', 'NOUN'), ('of', 'ADP'), ('our', 'PRON'), ('business', 'NOUN'), (',', 'PUNCT'), ('we', 'PRON'), ('seek', 'VERB'), ('to', 'PART'), ('protect', 'VERB'), ('the', 'DET'), ('underlying', 'VERB'), ('intellectual', 'ADJ'), ('property', 'NOUN'), ('rights', 'NOUN'), ('of', 'ADP'), ('these', 'DET'), ('innovations', 'NOUN'), ('and', 'CCONJ'), ('designs', 'NOUN'), ('such', 'ADJ'), ('as', 'ADP'), ('with', 'ADP'), ('respect', 'NOUN'), ('to', 'ADP'), ('patents', 'NOUN'), (',', 'PUNCT'), ('trademarks', 'NOUN'), (',', 'PUNCT'), ('copyrights', 'NOUN'), (',', 'PUNCT'), ('trade', 'NOUN'), ('secrets', 'NOUN'), (',', 'PUNCT'), ('confidential', 'ADJ'), ('information', 'NOUN'), ('and', 'CCONJ'), ('other', 'ADJ'), ('measures', 'NOUN'), (',', 'PUNCT'), ('including', 'VERB'), ('through', 'ADP'), ('employee', 'NOUN'), ('and', 'CCONJ'), ('third', 'ADJ'), ('-', 'PUNCT'), ('party', 'NOUN'), ('nondisclosure', 'NOUN'), ('agreements', 'NOUN'), ('and', 'CCONJ'), ('other', 'ADJ'), ('contractual', 'ADJ'), ('arrangements', 'NOUN'), ('.', 'PUNCT'), ('For', 'ADP'), ('example', 'NOUN'), (',', 'PUNCT'), ('we', 'PRON'), ('place', 'VERB'), ('a', 'DET'), ('high', 'ADJ'), ('priority', 'NOUN'), ('on', 'ADP'), ('obtaining', 'VERB'), ('patents', 'NOUN'), ('to', 'PART'), ('provide', 'VERB'), ('the', 'DET'), ('broadest', 'ADJ'), ('and', 'CCONJ'), ('strongest', 'ADJ'), ('possible', 'ADJ'), ('protection', 'NOUN'), ('to', 'PART'), ('enable', 'VERB'), ('our', 'PRON'), ('freedom', 'NOUN'), ('to', 'PART'), ('operate', 'VERB'), ('our', 'PRON'), ('innovations', 'NOUN'), ('and', 'CCONJ'), ('designs', 'NOUN'), ('across', 'ADP'), ('all', 'PRON'), ('of', 'ADP'), ('our', 'PRON'), ('products', 'NOUN'), ('and', 'CCONJ'), ('technologies', 'NOUN'), ('as', 'ADV'), ('well', 'ADV'), ('as', 'ADP'), ('to', 'PART'), ('protect', 'VERB'), ('and', 'CCONJ'), ('defend', 'VERB'), ('our', 'PRON'), ('product', 'NOUN'), ('portfolio', 'NOUN'), ('.', 'PUNCT'), ('We', 'PRON'), ('have', 'AUX'), ('also', 'ADV'), ('adopted', 'VERB'), ('a', 'DET'), ('patent', 'NOUN'), ('policy', 'NOUN'), ('in', 'ADP'), ('which', 'PRON'), ('we', 'PRON'), ('irrevocably', 'ADV'), ('pledged', 'VERB'), ('that', 'SCONJ'), ('we', 'PRON'), ('will', 'AUX'), ('not', 'PART'), ('initiate', 'VERB'), ('a', 'DET'), ('lawsuit', 'NOUN'), ('against', 'ADP'), ('any', 'DET'), ('party', 'NOUN'), ('for', 'ADP'), ('infringing', 'VERB'), ('our', 'PRON'), ('patents', 'NOUN'), ('through', 'ADP'), ('activity', 'NOUN'), ('relating', 'VERB'), ('to', 'ADP'), ('electric', 'ADJ'), ('vehicles', 'NOUN'), ('or', 'CCONJ'), ('related', 'ADJ'), ('equipment', 'NOUN'), ('for', 'ADP'), ('so', 'ADV'), ('long', 'ADV'), ('as', 'SCONJ'), ('such', 'ADJ'), ('party', 'NOUN'), ('is', 'AUX'), ('acting', 'VERB'), ('in', 'ADP'), ('good', 'ADJ'), ('faith', 'NOUN'), ('.', 'PUNCT'), ('We', 'PRON'), ('made', 'VERB'), ('this', 'DET'), ('pledge', 'NOUN'), ('in', 'ADP'), ('order', 'NOUN'), ('to', 'PART'), ('encourage', 'VERB'), ('the', 'DET'), ('advancement', 'NOUN'), ('of', 'ADP'), ('a', 'DET'), ('common', 'ADJ'), (',', 'PUNCT'), ('rapidly', 'ADV'), ('-', 'PUNCT'), ('evolving', 'VERB'), ('platform', 'NOUN'), ('for', 'ADP'), ('electric', 'ADJ'), ('vehicles', 'NOUN'), (',', 'PUNCT'), ('thereby', 'ADV'), ('benefiting', 'VERB'), ('ourselves', 'PRON'), (',', 'PUNCT'), ('other', 'ADJ'), ('companies', 'NOUN'), ('making', 'VERB'), ('electric', 'ADJ'), ('vehicles', 'NOUN'), ('and', 'CCONJ'), ('the', 'DET'), ('world', 'NOUN'), ('.', 'PUNCT'), ('Environmental', 'ADJ'), (',', 'PUNCT'), ('Social', 'PROPN'), ('and', 'CCONJ'), ('Governance', 'PROPN'), ('(', 'PUNCT'), ('ESG', 'PROPN'), (')', 'PUNCT'), ('and', 'CCONJ'), ('Human', 'PROPN'), ('Capital', 'PROPN'), ('Resources', 'PROPN'), ('ESG', 'VERB'), ('The', 'DET'), ('very', 'ADJ'), ('purpose', 'NOUN'), ('of', 'ADP'), ('Tesla', 'PROPN'), (\"'s\", 'PART'), ('existence', 'NOUN'), ('is', 'AUX'), ('to', 'PART'), ('accelerate', 'VERB'), ('the', 'DET'), ('world', 'NOUN'), (\"'s\", 'PART'), ('transition', 'NOUN'), ('to', 'ADP'), ('sustainable', 'ADJ'), ('energy', 'NOUN'), ('.', 'PUNCT'), ('We', 'PRON'), ('believe', 'VERB'), ('the', 'DET'), ('world', 'NOUN'), ('can', 'AUX'), ('not', 'PART'), ('reduce', 'VERB'), ('carbon', 'NOUN'), ('emissions', 'NOUN'), ('without', 'ADP'), ('addressing', 'VERB'), ('both', 'DET'), ('energy', 'NOUN'), ('generation', 'NOUN'), ('and', 'CCONJ'), ('consumption', 'NOUN'), (',', 'PUNCT'), ('and', 'CCONJ'), ('we', 'PRON'), ('are', 'AUX'), ('designing', 'VERB'), ('and', 'CCONJ'), ('manufacturing', 'VERB'), ('a', 'DET'), ('complete', 'ADJ'), ('energy', 'NOUN'), ('and', 'CCONJ'), ('transportation', 'NOUN'), ('ecosystem', 'NOUN'), ('to', 'PART'), ('achieve', 'VERB'), ('this', 'DET'), ('goal', 'NOUN'), ('.', 'PUNCT'), ('As', 'SCONJ'), ('we', 'PRON'), ('expand', 'VERB'), (',', 'PUNCT'), ('we', 'PRON'), ('are', 'AUX'), ('building', 'VERB'), ('each', 'DET'), ('new', 'ADJ'), ('factory', 'NOUN'), ('to', 'PART'), ('be', 'AUX'), ('more', 'ADV'), ('efficient', 'ADJ'), ('and', 'CCONJ'), ('sustainably', 'ADV'), ('designed', 'VERB'), ('than', 'ADP'), ('the', 'DET'), ('previous', 'ADJ'), ('one', 'NOUN'), (',', 'PUNCT'), ('including', 'VERB'), ('with', 'ADP'), ('respect', 'NOUN'), ('to', 'ADP'), ('per', 'ADP'), ('-', 'PUNCT'), ('unit', 'NOUN'), ('waste', 'NOUN'), ('reduction', 'NOUN'), ('and', 'CCONJ'), ('resource', 'NOUN'), ('consumption', 'NOUN'), (',', 'PUNCT'), ('including', 'VERB'), ('water', 'NOUN'), ('and', 'CCONJ'), ('energy', 'NOUN'), ('usage', 'NOUN'), ('.', 'PUNCT'), ('We', 'PRON'), ('are', 'AUX'), ('focused', 'VERB'), ('on', 'ADP'), ('further', 'ADV'), ('enhancing', 'VERB'), ('sustainability', 'NOUN'), ('of', 'ADP'), ('operations', 'NOUN'), ('outside', 'ADP'), ('of', 'ADP'), ('our', 'PRON'), ('direct', 'ADJ'), ('control', 'NOUN'), (',', 'PUNCT'), ('including', 'VERB'), ('reducing', 'VERB'), ('the', 'DET'), ('carbon', 'NOUN'), ('footprint', 'NOUN'), ('of', 'ADP'), ('our', 'PRON'), ('supply', 'NOUN'), ('chain', 'NOUN'), ('.', 'PUNCT'), ('We', 'PRON'), ('are', 'AUX'), ('committed', 'ADJ'), ('to', 'ADP'), ('sourcing', 'VERB'), ('only', 'ADV'), ('responsibly', 'ADV'), ('produced', 'VERB'), ('materials', 'NOUN'), (',', 'PUNCT'), ('and', 'CCONJ'), ('our', 'PRON'), ('suppliers', 'NOUN'), ('are', 'AUX'), ('required', 'VERB'), ('to', 'PART'), ('provide', 'VERB'), ('evidence', 'NOUN'), ('of', 'ADP'), ('management', 'NOUN'), ('systems', 'NOUN'), ('that', 'PRON'), ('ensure', 'VERB'), ('social', 'ADJ'), (',', 'PUNCT'), ('environmental', 'ADJ'), ('and', 'CCONJ'), ('sustainability', 'NOUN'), ('best', 'ADJ'), ('practices', 'NOUN'), ('in', 'ADP'), ('their', 'PRON'), ('own', 'ADJ'), ('operations', 'NOUN'), (',', 'PUNCT'), ('as', 'ADV'), ('well', 'ADV'), ('as', 'ADP'), ('to', 'PART'), ('demonstrate', 'VERB'), ('a', 'DET'), ('commitment', 'NOUN'), ('to', 'ADP'), ('responsible', 'ADJ'), ('sourcing', 'VERB'), ('into', 'ADP'), ('their', 'PRON'), ('supply', 'NOUN'), ('chains', 'NOUN'), ('.', 'PUNCT'), ('We', 'PRON'), ('have', 'VERB'), ('a', 'DET'), ('zero', 'NUM'), ('-', 'PUNCT'), ('tolerance', 'NOUN'), ('policy', 'NOUN'), ('when', 'SCONJ'), ('it', 'PRON'), ('comes', 'VERB'), ('to', 'ADP'), ('child', 'NOUN'), ('or', 'CCONJ'), ('forced', 'VERB'), ('labor', 'NOUN'), ('and', 'CCONJ'), ('human', 'ADJ'), ('trafficking', 'NOUN'), ('by', 'ADP'), ('our', 'PRON'), ('suppliers', 'NOUN'), ('and', 'CCONJ'), ('we', 'PRON'), ('look', 'VERB'), ('to', 'ADP'), ('the', 'DET'), ('Organization', 'PROPN'), ('for', 'ADP'), ('Economic', 'PROPN'), ('Co', 'PROPN'), ('-', 'NOUN'), ('operation', 'NOUN'), ('and', 'CCONJ'), ('Development', 'PROPN'), ('Due', 'PROPN'), ('Diligence', 'PROPN'), ('Guidelines', 'PROPN'), ('to', 'PART'), ('inform', 'VERB'), ('our', 'PRON'), ('process', 'NOUN'), ('and', 'CCONJ'), ('use', 'VERB'), ('feedback', 'NOUN'), ('from', 'ADP'), ('our', 'PRON'), ('internal', 'ADJ'), ('and', 'CCONJ'), ('external', 'ADJ'), ('stakeholders', 'NOUN'), ('to', 'PART'), ('find', 'VERB'), ('ways', 'NOUN'), ('to', 'PART'), ('continually', 'ADV'), ('improve', 'VERB'), ('.', 'PUNCT'), ('We', 'PRON'), ('are', 'AUX'), ('also', 'ADV'), ('driving', 'VERB'), ('safety', 'NOUN'), ('in', 'ADP'), ('our', 'PRON'), ('own', 'ADJ'), ('factories', 'NOUN'), ('by', 'ADP'), ('focusing', 'VERB'), ('on', 'ADP'), ('worker', 'NOUN'), ('engagement', 'NOUN'), ('.', 'PUNCT'), ('Our', 'PRON'), ('incidents', 'NOUN'), ('per', 'ADP'), ('vehicle', 'NOUN'), ('continue', 'VERB'), ('to', 'PART'), ('drop', 'VERB'), ('even', 'ADV'), ('as', 'SCONJ'), ('our', 'PRON'), ('production', 'NOUN'), ('volumes', 'NOUN'), ('increase', 'VERB'), ('.', 'PUNCT'), ('We', 'PRON'), ('also', 'ADV'), ('strive', 'VERB'), ('to', 'PART'), ('be', 'AUX'), ('an', 'DET'), ('employer', 'NOUN'), ('of', 'ADP'), ('choice', 'NOUN'), ('by', 'ADP'), ('offering', 'VERB'), ('compelling', 'ADJ'), (',', 'PUNCT'), ('impactful', 'ADJ'), ('jobs', 'NOUN'), ('with', 'ADP'), ('best', 'ADJ'), ('in', 'ADP'), ('-', 'PUNCT'), ('industry', 'NOUN'), ('benefits', 'NOUN'), ('.', 'PUNCT'), ('We', 'PRON'), ('believe', 'VERB'), ('that', 'SCONJ'), ('sound', 'ADJ'), ('corporate', 'ADJ'), ('governance', 'NOUN'), ('is', 'AUX'), ('critical', 'ADJ'), ('to', 'ADP'), ('helping', 'VERB'), ('us', 'PRON'), ('achieve', 'VERB'), ('our', 'PRON'), ('goals', 'NOUN'), (',', 'PUNCT'), ('including', 'VERB'), ('with', 'ADP'), ('respect', 'NOUN'), ('to', 'ADP'), ('ESG', 'PROPN'), ('.', 'PUNCT'), ('We', 'PRON'), ('continue', 'VERB'), ('to', 'PART'), ('evolve', 'VERB'), ('a', 'DET'), ('governance', 'NOUN'), ('framework', 'NOUN'), ('that', 'PRON'), ('exercises', 'VERB'), ('appropriate', 'ADJ'), ('oversight', 'NOUN'), ('of', 'ADP'), ('responsibilities', 'NOUN'), ('at', 'ADP'), ('all', 'DET'), ('levels', 'NOUN'), ('throughout', 'ADP'), ('the', 'DET'), ('company', 'NOUN'), ('and', 'CCONJ'), ('manages', 'VERB'), ('its', 'PRON'), ('affairs', 'NOUN'), ('consistent', 'ADJ'), ('with', 'ADP'), ('high', 'ADJ'), ('principles', 'NOUN'), ('of', 'ADP'), ('business', 'NOUN'), ('ethics', 'NOUN'), ('.', 'PUNCT'), ('Our', 'PRON'), ('ESG', 'PROPN'), ('Sustainability', 'PROPN'), ('Council', 'PROPN'), ('is', 'AUX'), ('made', 'VERB'), ('up', 'ADP'), ('of', 'ADP'), ('leaders', 'NOUN'), ('from', 'ADP'), ('across', 'ADP'), ('our', 'PRON'), ('company', 'NOUN'), (',', 'PUNCT'), ('and', 'CCONJ'), ('regularly', 'ADV'), ('presents', 'VERB'), ('to', 'ADP'), ('our', 'PRON'), ('Board', 'PROPN'), ('of', 'ADP'), ('Directors', 'PROPN'), (',', 'PUNCT'), ('which', 'PRON'), ('oversees', 'VERB'), ('our', 'PRON'), ('ESG', 'PROPN'), ('impacts', 'NOUN'), (',', 'PUNCT'), ('initiatives', 'NOUN'), ('and', 'CCONJ'), ('priorities', 'NOUN'), ('.', 'PUNCT'), ('Human', 'PROPN'), ('Capital', 'PROPN'), ('Resources', 'PROPN'), ('A', 'DET'), ('competitive', 'ADJ'), ('edge', 'NOUN'), ('for', 'ADP'), ('Tesla', 'PROPN'), ('is', 'AUX'), ('its', 'PRON'), ('ability', 'NOUN'), ('to', 'PART'), ('attract', 'VERB'), ('and', 'CCONJ'), ('retain', 'VERB'), ('high', 'ADJ'), ('quality', 'NOUN'), ('employees', 'NOUN'), ('.', 'PUNCT'), ('During', 'ADP'), ('the', 'DET'), ('past', 'ADJ'), ('year', 'NOUN'), (',', 'PUNCT'), ('Tesla', 'PROPN'), ('made', 'VERB'), ('substantial', 'ADJ'), ('investments', 'NOUN'), ('in', 'ADP'), ('its', 'PRON'), ('workforce', 'NOUN'), (',', 'PUNCT'), ('further', 'ADV'), ('strengthening', 'VERB'), ('its', 'PRON'), ('standing', 'NOUN'), ('as', 'ADP'), ('one', 'NUM'), ('of', 'ADP'), ('the', 'DET'), ('most', 'ADV'), ('desirable', 'ADJ'), ('and', 'CCONJ'), ('innovative', 'ADJ'), ('companies', 'NOUN'), ('to', 'PART'), ('work', 'VERB'), ('for', 'ADP'), ('.', 'PUNCT'), ('As', 'ADP'), ('of', 'ADP'), ('December', 'PROPN'), ('31', 'NUM'), (',', 'PUNCT'), ('2023', 'NUM'), (',', 'PUNCT'), ('our', 'PRON'), ('employee', 'NOUN'), ('headcount', 'NOUN'), ('worldwide', 'ADV'), ('was', 'AUX'), ('140,473', 'NUM'), ('.', 'PUNCT'), ('We', 'PRON'), ('have', 'AUX'), ('created', 'VERB'), ('an', 'DET'), ('environment', 'NOUN'), ('that', 'PRON'), ('fosters', 'VERB'), ('growth', 'NOUN'), ('opportunities', 'NOUN'), (',', 'PUNCT'), ('and', 'CCONJ'), ('as', 'ADP'), ('of', 'ADP'), ('this', 'DET'), ('report', 'NOUN'), (',', 'PUNCT'), ('nearly', 'ADV'), ('two', 'NUM'), ('-', 'PUNCT'), ('thirds', 'NOUN'), ('(', 'PUNCT'), ('65', 'NUM'), ('%', 'NOUN'), (')', 'PUNCT'), ('of', 'ADP'), ('our', 'PRON'), ('managers', 'NOUN'), ('were', 'AUX'), ('promoted', 'VERB'), ('from', 'ADP'), ('an', 'DET'), ('internal', 'ADJ'), (',', 'PUNCT'), ('non', 'ADJ'), ('-', 'ADJ'), ('manager', 'ADJ'), ('position', 'NOUN'), (',', 'PUNCT'), ('and', 'CCONJ'), ('43', 'NUM'), ('%', 'NOUN'), ('of', 'ADP'), ('our', 'PRON'), ('management', 'NOUN'), ('employees', 'NOUN'), ('have', 'AUX'), ('been', 'AUX'), ('with', 'ADP'), ('Tesla', 'PROPN'), ('for', 'ADP'), ('more', 'ADJ'), ('than', 'ADP'), ('five', 'NUM'), ('years', 'NOUN'), ('.', 'PUNCT'), ('Tesla&#8217;s', 'VERB'), ('growth', 'NOUN'), ('of', 'ADP'), ('35', 'NUM'), ('%', 'NOUN'), ('over', 'ADP'), ('the', 'DET'), ('past', 'ADJ'), ('two', 'NUM'), ('years', 'NOUN'), ('has', 'AUX'), ('offered', 'VERB'), ('internal', 'ADJ'), ('career', 'NOUN'), ('development', 'NOUN'), ('to', 'ADP'), ('our', 'PRON'), ('employees', 'NOUN'), ('as', 'ADV'), ('well', 'ADV'), ('as', 'ADP'), ('the', 'DET'), ('ability', 'NOUN'), ('to', 'PART'), ('make', 'VERB'), ('a', 'DET'), ('meaningful', 'ADJ'), ('contribution', 'NOUN'), ('to', 'ADP'), ('a', 'DET'), ('sustainable', 'ADJ'), ('future', 'NOUN'), ('.', 'PUNCT'), ('We', 'PRON'), ('are', 'AUX'), ('able', 'ADJ'), ('to', 'PART'), ('retain', 'VERB'), ('our', 'PRON'), ('employees', 'NOUN'), (',', 'PUNCT'), ('in', 'ADP'), ('part', 'NOUN'), (',', 'PUNCT'), ('not', 'PART'), ('only', 'ADV'), ('because', 'SCONJ'), ('employees', 'NOUN'), ('can', 'AUX'), ('enjoy', 'VERB'), ('ownership', 'NOUN'), ('in', 'ADP'), ('Tesla', 'PROPN'), ('through', 'ADP'), ('stock', 'NOUN'), ('(', 'PUNCT'), ('of', 'ADP'), ('which', 'PRON'), ('89', 'NUM'), ('%', 'NOUN'), ('have', 'AUX'), ('been', 'AUX'), ('given', 'VERB'), ('the', 'DET'), ('opportunity', 'NOUN'), ('to', 'PART'), (')', 'PUNCT'), (',', 'PUNCT'), ('but', 'CCONJ'), ('because', 'SCONJ'), ('we', 'PRON'), ('also', 'ADV'), ('provide', 'VERB'), ('them', 'PRON'), ('with', 'ADP'), ('excellent', 'ADJ'), ('health', 'NOUN'), ('benefits', 'NOUN'), ('such', 'ADJ'), ('as', 'ADP'), ('free', 'ADJ'), ('counseling', 'NOUN'), (',', 'PUNCT'), ('paid', 'VERB'), ('parental', 'ADJ'), ('leave', 'NOUN'), (',', 'PUNCT'), ('paid', 'VERB'), ('time', 'NOUN'), ('off', 'ADP'), ('and', 'CCONJ'), ('zero', 'NUM'), ('-', 'PUNCT'), ('premium', 'NOUN'), ('medical', 'ADJ'), ('plan', 'NOUN'), ('options', 'NOUN'), ('that', 'PRON'), ('are', 'AUX'), ('made', 'VERB'), ('available', 'ADJ'), ('on', 'ADP'), ('the', 'DET'), ('first', 'ADJ'), ('day', 'NOUN'), ('of', 'ADP'), ('employment', 'NOUN'), ('.', 'PUNCT'), ('We', 'PRON'), ('recognize', 'VERB'), ('the', 'DET'), ('positive', 'ADJ'), ('impact', 'NOUN'), ('that', 'PRON'), ('leaders', 'NOUN'), ('can', 'AUX'), ('have', 'VERB'), ('on', 'ADP'), ('their', 'PRON'), ('teams', 'NOUN'), ('and', 'CCONJ'), ('offer', 'VERB'), ('fundamental', 'ADJ'), ('skills', 'NOUN'), ('training', 'NOUN'), ('and', 'CCONJ'), ('continuous', 'ADJ'), ('development', 'NOUN'), ('to', 'ADP'), ('all', 'DET'), ('leaders', 'NOUN'), ('through', 'ADP'), ('various', 'ADJ'), ('programs', 'NOUN'), ('globally', 'ADV'), ('.', 'PUNCT'), ('We', 'PRON'), ('don&#8217;t', 'PROPN'), ('stop', 'VERB'), ('there', 'ADV'), ('.', 'PUNCT'), ('Tesla', 'PROPN'), ('has', 'VERB'), ('several', 'ADJ'), ('other', 'ADJ'), ('programs', 'NOUN'), ('strategically', 'ADV'), ('designed', 'VERB'), ('to', 'PART'), ('increase', 'VERB'), ('paths', 'NOUN'), ('for', 'ADP'), ('greater', 'ADJ'), ('career', 'NOUN'), ('opportunity', 'NOUN'), ('such', 'ADJ'), ('as', 'ADP'), (':', 'PUNCT'), ('&', 'CCONJ'), ('#', 'SYM'), ('8226', 'NUM'), (';', 'PUNCT'), ('Technician', 'PROPN'), ('Trainee', 'PROPN'), ('(', 'PUNCT'), ('Service', 'PROPN'), (')', 'PUNCT'), ('&', 'CCONJ'), ('#', 'SYM'), ('8211', 'NUM'), (';', 'PUNCT'), ('&', 'CCONJ'), ('#', 'SYM'), ('8239', 'NUM'), (';', 'PUNCT'), ('The', 'DET'), ('Tesla', 'PROPN'), ('Technician', 'PROPN'), ('Trainee', 'PROPN'), ('Program', 'PROPN'), ('provides', 'VERB'), ('on', 'ADP'), ('-', 'PUNCT'), ('the', 'DET'), ('-', 'PUNCT'), ('job', 'NOUN'), ('automotive', 'ADJ'), ('maintenance', 'NOUN'), ('training', 'NOUN'), ('at', 'ADP'), ('Tesla', 'PROPN'), (',', 'PUNCT'), ('resulting', 'VERB'), ('in', 'ADP'), ('an', 'DET'), ('industry', 'NOUN'), ('certification', 'NOUN'), ('.', 'PUNCT'), ('Targeted', 'VERB'), ('at', 'ADP'), ('individuals', 'NOUN'), ('with', 'ADP'), ('limited', 'ADJ'), ('experience', 'NOUN'), (',', 'PUNCT'), ('whether', 'SCONJ'), ('in', 'ADP'), ('industry', 'NOUN'), ('or', 'CCONJ'), ('vocational', 'ADJ'), ('schools', 'NOUN'), (',', 'PUNCT'), ('the', 'DET'), ('program', 'NOUN'), ('prepares', 'VERB'), ('trainees', 'NOUN'), ('for', 'ADP'), ('employment', 'NOUN'), ('as', 'ADP'), ('technicians', 'NOUN'), ('.', 'PUNCT'), ('In', 'ADP'), ('2023', 'NUM'), (',', 'PUNCT'), ('we', 'PRON'), ('hired', 'VERB'), ('over', 'ADP'), ('1,900', 'NUM'), ('Technician', 'PROPN'), ('Trainees', 'PROPN'), ('across', 'ADP'), ('the', 'DET'), ('U.S.', 'PROPN'), (',', 'PUNCT'), ('Germany', 'PROPN'), ('and', 'CCONJ'), ('China', 'PROPN'), ('.', 'PUNCT'), ('&', 'CCONJ'), ('#', 'SYM'), ('8226', 'NUM'), (';', 'PUNCT'), ('START', 'PROPN'), ('(', 'PUNCT'), ('Manufacturing', 'PROPN'), ('and', 'CCONJ'), ('Service', 'PROPN'), (')', 'PUNCT'), ('&', 'CCONJ'), ('#', 'SYM'), ('8211', 'NUM'), (';', 'PUNCT'), ('Tesla', 'PROPN'), ('START', 'PROPN'), ('is', 'AUX'), ('an', 'DET'), ('intensive', 'ADJ'), ('training', 'NOUN'), ('program', 'NOUN'), ('that', 'PRON'), ('complements', 'VERB'), ('the', 'DET'), ('Technician', 'ADJ'), ('Trainee', 'PROPN'), ('program', 'NOUN'), ('and', 'CCONJ'), ('equips', 'VERB'), ('individuals', 'NOUN'), ('with', 'ADP'), ('the', 'DET'), ('skills', 'NOUN'), ('needed', 'VERB'), ('for', 'ADP'), ('a', 'DET'), ('successful', 'ADJ'), ('technician', 'ADJ'), ('role', 'NOUN'), ('at', 'ADP'), ('Tesla', 'PROPN'), ('.', 'PUNCT'), ('We', 'PRON'), ('have', 'AUX'), ('partnered', 'VERB'), ('with', 'ADP'), ('colleges', 'NOUN'), ('and', 'CCONJ'), ('technical', 'ADJ'), ('academies', 'NOUN'), ('to', 'PART'), ('launch', 'VERB'), ('Tesla', 'PROPN'), ('START', 'PROPN'), ('in', 'ADP'), ('the', 'DET'), ('U.S.', 'PROPN'), (',', 'PUNCT'), ('United', 'PROPN'), ('Kingdom', 'PROPN'), ('and', 'CCONJ'), ('Germany', 'PROPN'), ('.', 'PUNCT'), ('In', 'ADP'), ('2023', 'NUM'), (',', 'PUNCT'), ('we', 'PRON'), ('hired', 'VERB'), ('over', 'ADP'), ('350', 'NUM'), ('trainees', 'NOUN'), ('for', 'ADP'), ('manufacturing', 'NOUN'), ('and', 'CCONJ'), ('service', 'NOUN'), ('roles', 'NOUN'), ('through', 'ADP'), ('this', 'DET'), ('program', 'NOUN'), (',', 'PUNCT'), ('providing', 'VERB'), ('an', 'DET'), ('opportunity', 'NOUN'), ('to', 'PART'), ('transition', 'VERB'), ('into', 'ADP'), ('full', 'ADJ'), ('-', 'PUNCT'), ('time', 'NOUN'), ('employment', 'NOUN'), ('.', 'PUNCT'), ('&', 'CCONJ'), ('#', 'SYM'), ('8226', 'NUM'), (';', 'PUNCT'), ('Internships', 'PROPN'), ('&', 'CCONJ'), ('#', 'SYM'), ('8211', 'NUM'), (';', 'PUNCT'), ('Annually', 'ADV'), (',', 'PUNCT'), ('Tesla', 'PROPN'), ('hires', 'VERB'), ('over', 'ADP'), ('6,000', 'NUM'), ('university', 'NOUN'), ('and', 'CCONJ'), ('college', 'NOUN'), ('students', 'NOUN'), ('from', 'ADP'), ('around', 'ADP'), ('the', 'DET'), ('world', 'NOUN'), ('.', 'PUNCT'), ('We', 'PRON'), ('recruit', 'VERB'), ('from', 'ADP'), ('diverse', 'ADJ'), ('student', 'NOUN'), ('organizations', 'NOUN'), ('and', 'CCONJ'), ('campuses', 'NOUN'), (',', 'PUNCT'), ('seeking', 'VERB'), ('top', 'ADJ'), ('talent', 'NOUN'), ('passionate', 'NOUN'), ('about', 'ADP'), ('our', 'PRON'), ('mission', 'NOUN'), ('.', 'PUNCT'), ('Our', 'PRON'), ('interns', 'NOUN'), ('engage', 'VERB'), ('in', 'ADP'), ('meaningful', 'ADJ'), ('work', 'NOUN'), ('from', 'ADP'), ('day', 'NOUN'), ('one', 'NUM'), (',', 'PUNCT'), ('and', 'CCONJ'), ('we', 'PRON'), ('often', 'ADV'), ('offer', 'VERB'), ('them', 'PRON'), ('full', 'ADJ'), ('-', 'PUNCT'), ('time', 'NOUN'), ('positions', 'NOUN'), ('post', 'NOUN'), ('-', 'NOUN'), ('internship', 'NOUN'), ('.', 'PUNCT'), ('&', 'CCONJ'), ('#', 'SYM'), ('8226', 'NUM'), (';', 'PUNCT'), ('Military', 'PROPN'), ('Fellowship', 'PROPN'), ('and', 'CCONJ'), ('Transition', 'PROPN'), ('Programs', 'PROPN'), ('&', 'CCONJ'), ('#', 'SYM'), ('8211', 'NUM'), (';', 'PUNCT'), ('&', 'CCONJ'), ('#', 'SYM'), ('8239;The', 'PROPN'), ('Military', 'ADJ'), ('Fellowship', 'PROPN'), ('and', 'CCONJ'), ('Transition', 'PROPN'), ('Programs', 'PROPN'), ('are', 'AUX'), ('designed', 'VERB'), ('to', 'PART'), ('offer', 'VERB'), ('exiting', 'VERB'), ('military', 'ADJ'), ('service', 'NOUN'), ('members', 'NOUN'), ('in', 'ADP'), ('the', 'DET'), ('U.S.', 'PROPN'), ('and', 'CCONJ'), ('Europe', 'PROPN'), ('with', 'ADP'), ('career', 'NOUN'), ('guidance', 'NOUN'), ('on', 'ADP'), ('transitioning', 'NOUN'), ('into', 'ADP'), ('the', 'DET'), ('civil', 'ADJ'), ('workforce', 'NOUN'), ('.', 'PUNCT'), ('We', 'PRON'), ('partner', 'VERB'), ('with', 'ADP'), ('the', 'DET'), ('career', 'NOUN'), ('transition', 'NOUN'), ('services', 'NOUN'), ('of', 'ADP'), ('European', 'PROPN'), ('Defence', 'PROPN'), ('Ministries', 'PROPN'), ('across', 'ADP'), ('five', 'NUM'), ('countries', 'NOUN'), (',', 'PUNCT'), ('as', 'ADV'), ('well', 'ADV'), ('as', 'ADP'), ('the', 'DET'), ('U.S.', 'PROPN'), ('Chamber', 'PROPN'), ('of', 'ADP'), ('Commerce&#8217;s', 'PROPN'), ('Hire', 'PROPN'), ('our', 'PRON'), ('Heroes', 'PROPN'), ('.', 'PUNCT'), ('These', 'DET'), ('programs', 'NOUN'), ('aim', 'VERB'), ('to', 'PART'), ('convert', 'VERB'), ('high', 'ADV'), ('-', 'PUNCT'), ('performing', 'VERB'), ('individuals', 'NOUN'), ('to', 'ADP'), ('full', 'ADJ'), ('-', 'PUNCT'), ('time', 'NOUN'), ('roles', 'NOUN'), ('and', 'CCONJ'), ('create', 'VERB'), ('a', 'DET'), ('veteran', 'ADJ'), ('talent', 'NOUN'), ('pipeline', 'NOUN'), ('.', 'PUNCT'), ('&', 'CCONJ'), ('#', 'SYM'), ('8226', 'NUM'), (';', 'PUNCT'), ('Apprenticeships', 'NOUN'), ('&', 'CCONJ'), ('#', 'SYM'), ('8211', 'NUM'), (';', 'PUNCT'), ('Tesla', 'PROPN'), ('Apprenticeships', 'PROPN'), ('are', 'AUX'), ('offered', 'VERB'), ('globally', 'ADV'), (',', 'PUNCT'), ('providing', 'VERB'), ('academic', 'ADJ'), ('and', 'CCONJ'), ('on', 'ADP'), ('-', 'PUNCT'), ('the', 'DET'), ('-', 'PUNCT'), ('job', 'NOUN'), ('training', 'NOUN'), ('to', 'PART'), ('prepare', 'VERB'), ('specialists', 'NOUN'), ('in', 'ADP'), ('skilled', 'ADJ'), ('trades', 'NOUN'), ('.', 'PUNCT'), ('Apprentices', 'NOUN'), ('will', 'AUX'), ('complete', 'VERB'), ('between', 'ADP'), ('one', 'NUM'), ('to', 'PART'), ('four', 'NUM'), ('years', 'NOUN'), ('of', 'ADP'), ('on', 'ADP'), ('-', 'PUNCT'), ('the', 'DET'), ('-', 'PUNCT'), ('job', 'NOUN'), ('training', 'NOUN'), ('.', 'PUNCT'), ('Apprentice', 'NOUN'), ('programs', 'NOUN'), ('have', 'AUX'), ('seen', 'VERB'), ('skilled', 'ADJ'), ('trade', 'NOUN'), ('hires', 'NOUN'), ('across', 'ADP'), ('the', 'DET'), ('U.S.', 'PROPN'), (',', 'PUNCT'), ('Australia', 'PROPN'), (',', 'PUNCT'), ('Hong', 'PROPN'), ('Kong', 'PROPN'), (',', 'PUNCT'), ('Korea', 'PROPN'), ('and', 'CCONJ'), ('Germany', 'PROPN'), ('.', 'PUNCT'), ('&', 'CCONJ'), ('#', 'SYM'), ('8226', 'NUM'), (';', 'PUNCT'), ('Manufacturing', 'PROPN'), ('Development', 'PROPN'), ('Program', 'PROPN'), ('&', 'CCONJ'), ('#', 'SYM'), ('8211;&#8239;Tesla', 'NUM'), (\"'s\", 'PART'), ('manufacturing', 'NOUN'), ('pathway', 'NOUN'), ('program', 'NOUN'), ('is', 'AUX'), ('designed', 'VERB'), ('to', 'PART'), ('provide', 'VERB'), ('graduating', 'VERB'), ('high', 'ADJ'), ('school', 'NOUN'), ('seniors', 'NOUN'), ('with', 'ADP'), ('the', 'DET'), ('financial', 'ADJ'), ('resources', 'NOUN'), (',', 'PUNCT'), ('coursework', 'NOUN'), ('and', 'CCONJ'), ('experience', 'NOUN'), ('they', 'PRON'), ('need', 'VERB'), ('to', 'PART'), ('start', 'VERB'), ('a', 'DET'), ('successful', 'ADJ'), ('manufacturing', 'NOUN'), ('career', 'NOUN'), ('at', 'ADP'), ('Tesla', 'PROPN'), ('.', 'PUNCT'), ('We', 'PRON'), ('hired', 'VERB'), ('373', 'NUM'), ('graduates', 'NOUN'), ('through', 'ADP'), ('this', 'DET'), ('program', 'NOUN'), ('in', 'ADP'), ('2023', 'NUM'), (',', 'PUNCT'), ('and', 'CCONJ'), ('our', 'PRON'), ('goal', 'NOUN'), ('in', 'ADP'), ('2024', 'NUM'), ('is', 'AUX'), ('grow', 'VERB'), ('this', 'DET'), ('program', 'NOUN'), ('to', 'ADP'), ('over', 'ADP'), ('600', 'NUM'), ('students', 'NOUN'), ('annually', 'ADV'), ('across', 'ADP'), ('our', 'PRON'), ('Fremont', 'PROPN'), ('Factory', 'PROPN'), (',', 'PUNCT'), ('Gigafactory', 'PROPN'), ('Nevada', 'PROPN'), (',', 'PUNCT'), ('Gigafactory', 'PROPN'), ('Texas', 'PROPN'), ('and', 'CCONJ'), ('Gigafactory', 'PROPN'), ('New', 'PROPN'), ('York', 'PROPN'), ('.', 'PUNCT'), ('&', 'CCONJ'), ('#', 'SYM'), ('8226', 'NUM'), (';', 'PUNCT'), ('Engineering', 'PROPN'), ('Development', 'PROPN'), ('Program', 'PROPN'), ('&', 'CCONJ'), ('#', 'SYM'), ('8211;&#8239;Launched', 'NUM'), ('in', 'ADP'), ('January', 'PROPN'), ('2024', 'NUM'), (',', 'PUNCT'), ('this', 'DET'), ('program', 'NOUN'), ('targets', 'VERB'), ('recent', 'ADJ'), ('college', 'NOUN'), ('and', 'CCONJ'), ('university', 'NOUN'), ('graduates', 'NOUN'), ('for', 'ADP'), ('specialized', 'ADJ'), ('engineering', 'NOUN'), ('fields', 'NOUN'), ('.', 'PUNCT'), ('In', 'ADP'), ('collaboration', 'NOUN'), ('with', 'ADP'), ('Austin', 'PROPN'), ('Community', 'PROPN'), ('College', 'PROPN'), (',', 'PUNCT'), ('the', 'DET'), ('program', 'NOUN'), ('educates', 'VERB'), ('early', 'ADJ'), ('-', 'PUNCT'), ('career', 'NOUN'), ('engineers', 'NOUN'), ('in', 'ADP'), ('controls', 'NOUN'), ('engineering', 'NOUN'), (',', 'PUNCT'), ('enhancing', 'VERB'), ('their', 'PRON'), ('knowledge', 'NOUN'), ('of', 'ADP'), ('high', 'ADJ'), ('-', 'PUNCT'), ('demand', 'NOUN'), ('technologies', 'NOUN'), ('for', 'ADP'), ('U.S.', 'PROPN'), ('manufacturing', 'NOUN'), ('.', 'PUNCT'), ('We', 'PRON'), ('will', 'AUX'), ('continue', 'VERB'), ('to', 'PART'), ('expand', 'VERB'), ('the', 'DET'), ('opportunities', 'NOUN'), ('for', 'SCONJ'), ('our', 'PRON'), ('employees', 'NOUN'), ('to', 'PART'), ('add', 'VERB'), ('skills', 'NOUN'), ('and', 'CCONJ'), ('develop', 'VERB'), ('professionally', 'ADV'), ('with', 'ADP'), ('a', 'DET'), ('new', 'ADJ'), ('Employee', 'PROPN'), ('Educational', 'PROPN'), ('Assistance', 'PROPN'), ('Program', 'PROPN'), ('launching', 'VERB'), ('in', 'ADP'), ('the', 'DET'), ('U.S.', 'PROPN'), ('in', 'ADP'), ('the', 'DET'), ('spring', 'NOUN'), ('of', 'ADP'), ('2024', 'NUM'), ('to', 'PART'), ('help', 'VERB'), ('employees', 'NOUN'), ('pursue', 'VERB'), ('select', 'ADJ'), ('certificates', 'NOUN'), ('or', 'CCONJ'), ('degrees', 'NOUN'), ('.', 'PUNCT'), ('With', 'SCONJ'), ('virtual', 'ADJ'), (',', 'PUNCT'), ('self', 'NOUN'), ('-', 'PUNCT'), ('paced', 'VERB'), ('education', 'NOUN'), ('options', 'NOUN'), ('available', 'ADJ'), (',', 'PUNCT'), ('employees', 'NOUN'), ('can', 'AUX'), ('pursue', 'VERB'), ('a', 'DET'), ('new', 'ADJ'), ('path', 'NOUN'), ('or', 'CCONJ'), ('expand', 'VERB'), ('their', 'PRON'), ('knowledge', 'NOUN'), ('while', 'SCONJ'), ('continuing', 'VERB'), ('to', 'PART'), ('grow', 'VERB'), ('their', 'PRON'), ('career', 'NOUN'), ('.', 'PUNCT'), ('At', 'ADP'), ('Tesla', 'PROPN'), (',', 'PUNCT'), ('our', 'PRON'), ('employees', 'NOUN'), ('show', 'VERB'), ('up', 'ADP'), ('passionate', 'ADJ'), ('about', 'ADP'), ('making', 'VERB'), ('a', 'DET'), ('difference', 'NOUN'), ('in', 'ADP'), ('the', 'DET'), ('world', 'NOUN'), ('and', 'CCONJ'), ('for', 'ADP'), ('each', 'DET'), ('other', 'ADJ'), ('.', 'PUNCT'), ('We', 'PRON'), ('remain', 'VERB'), ('unwavering', 'VERB'), ('in', 'ADP'), ('our', 'PRON'), ('demand', 'NOUN'), ('that', 'SCONJ'), ('our', 'PRON'), ('factories', 'NOUN'), (',', 'PUNCT'), ('offices', 'NOUN'), (',', 'PUNCT'), ('stores', 'NOUN'), ('and', 'CCONJ'), ('service', 'NOUN'), ('centers', 'NOUN'), ('are', 'AUX'), ('places', 'NOUN'), ('where', 'SCONJ'), ('our', 'PRON'), ('employees', 'NOUN'), ('feel', 'VERB'), ('respected', 'ADJ'), ('and', 'CCONJ'), ('appreciated', 'VERB'), ('.', 'PUNCT'), ('Our', 'PRON'), ('policies', 'NOUN'), ('are', 'AUX'), ('designed', 'VERB'), ('to', 'PART'), ('promote', 'VERB'), ('fairness', 'NOUN'), ('and', 'CCONJ'), ('respect', 'NOUN'), ('for', 'ADP'), ('everyone', 'PRON'), ('.', 'PUNCT'), ('We', 'PRON'), ('hire', 'VERB'), (',', 'PUNCT'), ('evaluate', 'VERB'), ('and', 'CCONJ'), ('promote', 'VERB'), ('employees', 'NOUN'), ('based', 'VERB'), ('on', 'ADP'), ('their', 'PRON'), ('skills', 'NOUN'), ('and', 'CCONJ'), ('performance', 'NOUN'), ('.', 'PUNCT'), ('Everyone', 'PRON'), ('is', 'AUX'), ('expected', 'VERB'), ('to', 'PART'), ('be', 'AUX'), ('trustworthy', 'ADJ'), (',', 'PUNCT'), ('demonstrate', 'VERB'), ('excellence', 'NOUN'), ('in', 'ADP'), ('their', 'PRON'), ('performance', 'NOUN'), ('and', 'CCONJ'), ('collaborate', 'VERB'), ('with', 'ADP'), ('others', 'NOUN'), ('.', 'PUNCT'), ('With', 'ADP'), ('this', 'PRON'), ('in', 'ADP'), ('mind', 'NOUN'), (',', 'PUNCT'), ('we', 'PRON'), ('will', 'AUX'), ('not', 'PART'), ('tolerate', 'VERB'), ('certain', 'ADJ'), ('behaviors', 'NOUN'), ('.', 'PUNCT'), ('These', 'PRON'), ('include', 'VERB'), ('harassment', 'NOUN'), (',', 'PUNCT'), ('retaliation', 'NOUN'), (',', 'PUNCT'), ('violence', 'NOUN'), (',', 'PUNCT'), ('intimidation', 'NOUN'), ('and', 'CCONJ'), ('discrimination', 'NOUN'), ('of', 'ADP'), ('any', 'DET'), ('kind', 'NOUN'), ('on', 'ADP'), ('the', 'DET'), ('basis', 'NOUN'), ('of', 'ADP'), ('race', 'NOUN'), (',', 'PUNCT'), ('color', 'NOUN'), (',', 'PUNCT'), ('religion', 'NOUN'), (',', 'PUNCT'), ('national', 'ADJ'), ('origin', 'NOUN'), (',', 'PUNCT'), ('gender', 'NOUN'), (',', 'PUNCT'), ('sexual', 'ADJ'), ('orientation', 'NOUN'), (',', 'PUNCT'), ('gender', 'NOUN'), ('identity', 'NOUN'), (',', 'PUNCT'), ('gender', 'NOUN'), ('expression', 'NOUN'), (',', 'PUNCT'), ('age', 'NOUN'), (',', 'PUNCT'), ('disability', 'NOUN'), ('or', 'CCONJ'), ('veteran', 'NOUN'), ('status', 'NOUN'), ('.', 'PUNCT'), ('Anti', 'ADJ'), ('-', 'ADJ'), ('harassment', 'ADJ'), ('training', 'NOUN'), ('is', 'AUX'), ('conducted', 'VERB'), ('on', 'ADP'), ('day', 'NOUN'), ('one', 'NUM'), ('of', 'ADP'), ('new', 'ADJ'), ('hire', 'NOUN'), ('orientation', 'NOUN'), ('for', 'ADP'), ('all', 'DET'), ('employees', 'NOUN'), ('and', 'CCONJ'), ('reoccurring', 'VERB'), ('for', 'ADP'), ('leaders', 'NOUN'), ('.', 'PUNCT'), ('In', 'ADP'), ('addition', 'NOUN'), (',', 'PUNCT'), ('we', 'PRON'), ('run', 'VERB'), ('various', 'ADJ'), ('leadership', 'NOUN'), ('development', 'NOUN'), ('programs', 'NOUN'), ('throughout', 'ADP'), ('the', 'DET'), ('year', 'NOUN'), ('aimed', 'VERB'), ('at', 'ADP'), ('enhancing', 'VERB'), ('leaders&#8217', 'PROPN'), (';', 'PUNCT'), ('skills', 'NOUN'), (',', 'PUNCT'), ('and', 'CCONJ'), ('in', 'ADP'), ('particular', 'ADJ'), (',', 'PUNCT'), ('helping', 'VERB'), ('them', 'PRON'), ('to', 'PART'), ('understand', 'VERB'), ('how', 'SCONJ'), ('to', 'PART'), ('appropriately', 'ADV'), ('respond', 'VERB'), ('to', 'ADP'), ('and', 'CCONJ'), ('address', 'VERB'), ('employee', 'NOUN'), ('concerns', 'NOUN'), ('.', 'PUNCT'), ('Employees', 'NOUN'), ('are', 'AUX'), ('encouraged', 'VERB'), ('to', 'PART'), ('speak', 'VERB'), ('up', 'ADP'), ('both', 'PRON'), ('in', 'ADP'), ('regard', 'NOUN'), ('to', 'ADP'), ('misconduct', 'NOUN'), ('and', 'CCONJ'), ('safety', 'NOUN'), ('concerns', 'NOUN'), ('and', 'CCONJ'), ('can', 'AUX'), ('do', 'VERB'), ('so', 'ADV'), ('by', 'ADP'), ('contacting', 'VERB'), ('the', 'DET'), ('integrity', 'NOUN'), ('line', 'NOUN'), (',', 'PUNCT'), ('submitting', 'VERB'), ('concerns', 'NOUN'), ('through', 'ADP'), ('our', 'PRON'), ('Take', 'PROPN'), ('Charge', 'PROPN'), ('process', 'NOUN'), (',', 'PUNCT'), ('or', 'CCONJ'), ('notifying', 'VERB'), ('their', 'PRON'), ('Human', 'PROPN'), ('Resource', 'PROPN'), ('Partner', 'PROPN'), ('or', 'CCONJ'), ('any', 'DET'), ('member', 'NOUN'), ('of', 'ADP'), ('management', 'NOUN'), ('.', 'PUNCT'), ('Concerns', 'NOUN'), ('are', 'AUX'), ('reviewed', 'VERB'), ('in', 'ADP'), ('accordance', 'NOUN'), ('with', 'ADP'), ('established', 'VERB'), ('protocols', 'NOUN'), ('by', 'ADP'), ('investigators', 'NOUN'), ('with', 'ADP'), ('expertise', 'NOUN'), (',', 'PUNCT'), ('who', 'PRON'), ('also', 'ADV'), ('review', 'VERB'), ('for', 'ADP'), ('trends', 'NOUN'), ('and', 'CCONJ'), ('outcomes', 'NOUN'), ('for', 'ADP'), ('remediation', 'NOUN'), ('and', 'CCONJ'), ('appropriate', 'ADJ'), ('controls', 'NOUN'), ('.', 'PUNCT'), ('Responding', 'VERB'), ('to', 'ADP'), ('questions', 'NOUN'), ('timely', 'ADV'), ('is', 'AUX'), ('key', 'ADJ'), ('so', 'SCONJ'), ('Human', 'PROPN'), ('Resource', 'PROPN'), ('Partners', 'PROPN'), ('for', 'ADP'), ('each', 'DET'), ('functional', 'ADJ'), ('area', 'NOUN'), ('are', 'AUX'), ('visible', 'ADJ'), ('throughout', 'ADP'), ('facilities', 'NOUN'), ('and', 'CCONJ'), ('are', 'AUX'), ('actively', 'ADV'), ('involved', 'VERB'), ('in', 'ADP'), ('driving', 'VERB'), ('culture', 'NOUN'), ('and', 'CCONJ'), ('engagement', 'NOUN'), ('alongside', 'ADP'), ('business', 'NOUN'), ('leaders', 'NOUN'), ('.', 'PUNCT'), ('Available', 'ADJ'), ('Information', 'PROPN'), ('We', 'PRON'), ('file', 'VERB'), ('or', 'CCONJ'), ('furnish', 'VERB'), ('periodic', 'ADJ'), ('reports', 'NOUN'), ('and', 'CCONJ'), ('amendments', 'NOUN'), ('thereto', 'VERB'), (',', 'PUNCT'), ('including', 'VERB'), ('our', 'PRON'), ('Annual', 'PROPN'), ('Reports', 'PROPN'), ('on', 'ADP'), ('Form', 'PROPN'), ('10', 'NUM'), ('-', 'PUNCT'), ('K', 'NOUN'), (',', 'PUNCT'), ('our', 'PRON'), ('Quarterly', 'PROPN'), ('Reports', 'PROPN'), ('on', 'ADP'), ('Form', 'NOUN'), ('10', 'NUM'), ('-', 'PUNCT'), ('Q', 'NOUN'), ('and', 'CCONJ'), ('Current', 'PROPN'), ('Reports', 'PROPN'), ('on', 'ADP'), ('Form', 'NOUN'), ('8', 'NUM'), ('-', 'PUNCT'), ('K', 'NOUN'), (',', 'PUNCT'), ('proxy', 'NOUN'), ('statements', 'NOUN'), ('and', 'CCONJ'), ('other', 'ADJ'), ('information', 'NOUN'), ('with', 'ADP'), ('the', 'DET'), ('SEC', 'PROPN'), ('.', 'PUNCT'), ('In', 'ADP'), ('addition', 'NOUN'), (',', 'PUNCT'), ('the', 'DET'), ('SEC', 'PROPN'), ('maintains', 'VERB'), ('a', 'DET'), ('website', 'NOUN'), ('(', 'PUNCT'), ('www.sec.gov', 'NOUN'), (')', 'PUNCT'), ('that', 'PRON'), ('contains', 'VERB'), ('reports', 'NOUN'), (',', 'PUNCT'), ('proxy', 'NOUN'), ('and', 'CCONJ'), ('information', 'NOUN'), ('statements', 'NOUN'), (',', 'PUNCT'), ('and', 'CCONJ'), ('other', 'ADJ'), ('information', 'NOUN'), ('regarding', 'VERB'), ('issuers', 'NOUN'), ('that', 'PRON'), ('file', 'VERB'), ('electronically', 'ADV'), ('.', 'PUNCT'), ('Our', 'PRON'), ('website', 'NOUN'), ('is', 'AUX'), ('located', 'VERB'), ('at', 'ADP'), ('www.tesla.com', 'X'), (',', 'PUNCT'), ('and', 'CCONJ'), ('our', 'PRON'), ('reports', 'NOUN'), (',', 'PUNCT'), ('amendments', 'NOUN'), ('thereto', 'VERB'), (',', 'PUNCT'), ('proxy', 'NOUN'), ('statements', 'NOUN'), ('and', 'CCONJ'), ('other', 'ADJ'), ('information', 'NOUN'), ('are', 'AUX'), ('also', 'ADV'), ('made', 'VERB'), ('available', 'ADJ'), (',', 'PUNCT'), ('free', 'ADJ'), ('of', 'ADP'), ('charge', 'NOUN'), (',', 'PUNCT'), ('on', 'ADP'), ('our', 'PRON'), ('investor', 'NOUN'), ('relations', 'NOUN'), ('website', 'NOUN'), ('at', 'ADP'), ('ir.tesla.com', 'X'), ('as', 'ADV'), ('soon', 'ADV'), ('as', 'SCONJ'), ('reasonably', 'ADV'), ('practicable', 'ADJ'), ('after', 'SCONJ'), ('we', 'PRON'), ('electronically', 'ADV'), ('file', 'VERB'), ('or', 'CCONJ'), ('furnish', 'VERB'), ('such', 'ADJ'), ('information', 'NOUN'), ('with', 'ADP'), ('the', 'DET'), ('SEC', 'PROPN'), ('.', 'PUNCT'), ('The', 'DET'), ('information', 'NOUN'), ('posted', 'VERB'), ('on', 'ADP'), ('our', 'PRON'), ('website', 'NOUN'), ('is', 'AUX'), ('not', 'PART'), ('incorporated', 'VERB'), ('by', 'ADP'), ('reference', 'NOUN'), ('into', 'ADP'), ('this', 'DET'), ('Annual', 'PROPN'), ('Report', 'PROPN'), ('on', 'ADP'), ('Form', 'PROPN'), ('10', 'NUM'), ('-', 'PUNCT'), ('K.', 'NOUN')]\n"
     ]
    }
   ],
   "source": [
    "# POS Tagging using spaCy\n",
    "doc = nlp(tsla_item1)\n",
    "\n",
    "# Extract POS tags\n",
    "pos_tags = [(token.text, token.pos_) for token in doc]\n",
    "\n",
    "print(\"Part-of-Speech Tags:\")\n",
    "print(pos_tags)\n"
   ]
  },
  {
   "cell_type": "markdown",
   "metadata": {},
   "source": [
    "## Named Entity Recognition"
   ]
  },
  {
   "cell_type": "markdown",
   "metadata": {},
   "source": [
    "### NLTK"
   ]
  },
  {
   "cell_type": "code",
   "execution_count": null,
   "metadata": {},
   "outputs": [],
   "source": [
    "## using nltk to identify mentions of Tesla\n",
    "'''\n",
    "nltk.download('punkt')\n",
    "nltk.download('punkt_tab')\n",
    "nltk.download('averaged_perceptron_tagger_eng')\n",
    "nltk.download('maxent_ne_chunker_tab')\n",
    "nltk.download('words')\n",
    "''' \n",
    "nltk_name=[]\n",
    "nltk_label=[]\n",
    "for sent in nltk.sent_tokenize(tsla_item1):\n",
    "  for chunk in nltk.ne_chunk(nltk.pos_tag(nltk.word_tokenize(sent))):\n",
    "     if hasattr(chunk, 'label'):\n",
    "      entity_name = ' '.join(c[0] for c in chunk)\n",
    "      entity_label = chunk.label()\n",
    "      nltk_name.append(entity_name)\n",
    "      nltk_label.append(entity_label)\n",
    "      if entity_name == 'Tesla':\n",
    "        print(entity_label, entity_name)"
   ]
  },
  {
   "cell_type": "markdown",
   "metadata": {},
   "source": [
    "We see that the word Tesla was recognised as an entity 19 times. However, it was only correctly tagged as an organisation 5 times, resulting in a precision of only 26.3% and a recall of 59%. In fact, NLTK more frequently classifies Tesla as a geographical location (GPE)! We wish to find a NER model that can perform better at accurately linking entities. We try SpaCy next."
   ]
  },
  {
   "cell_type": "markdown",
   "metadata": {},
   "source": [
    "### Spacy"
   ]
  },
  {
   "cell_type": "markdown",
   "metadata": {},
   "source": [
    "SpaCy recognises 26 high-level entity classes, including:\n",
    "- PERSON:      People, including fictional.\n",
    "- NORP:        Nationalities or religious or political groups.\n",
    "- FAC:         Buildings, airports, highways, bridges, etc.\n",
    "- ORG:         Companies, agencies, institutions, etc.\n",
    "- GPE:         Countries, cities, states.\n",
    "- LOC:         Non-GPE locations, mountain ranges, bodies of water.\n",
    "- PRODUCT:     Objects, vehicles, foods, etc. (Not services.)\n",
    "- DATE:        Absolute or relative dates or periods.\n",
    "- TIME:        Times smaller than a day."
   ]
  },
  {
   "cell_type": "code",
   "execution_count": 21,
   "metadata": {},
   "outputs": [
    {
     "name": "stdout",
     "output_type": "stream",
     "text": [
      "Tesla ORG\n",
      "Tesla ORG\n",
      "Tesla ORG\n",
      "Tesla NORP\n",
      "Tesla ORG\n",
      "Tesla ORG\n",
      "Tesla NORP\n",
      "Tesla ORG\n",
      "Tesla ORG\n",
      "Tesla ORG\n",
      "Tesla ORG\n",
      "Tesla ORG\n",
      "Tesla ORG\n",
      "Tesla ORG\n",
      "Tesla ORG\n",
      "Tesla ORG\n",
      "Tesla ORG\n",
      "Tesla ORG\n",
      "Tesla ORG\n",
      "Tesla ORG\n"
     ]
    }
   ],
   "source": [
    "## Using spacy\n",
    "\n",
    "# load spacy model\n",
    "nlp = spacy.load('en_core_web_sm')\n",
    "nlp.disable_pipe(\"parser\")\n",
    "nlp.enable_pipe(\"senter\")\n",
    "# load data\n",
    "doc = nlp(tsla_item1)\n",
    "Spacy_name=[]\n",
    "Spacy_label=[]\n",
    "# collect unique labels\n",
    "unique_labels = {}\n",
    "for ent in doc.ents:\n",
    "    if ent.label_ not in unique_labels.keys():\n",
    "        unique_labels[ent.label_] = []\n",
    "    unique_labels[ent.label_].append((ent.text, ent.start_char, ent.end_char))\n",
    "    Spacy_name.append(ent.text)\n",
    "    Spacy_label.append(ent.label_)\n",
    "    if ent.text == 'Tesla':\n",
    "        print(ent.text, ent.label_)\n"
   ]
  },
  {
   "cell_type": "markdown",
   "metadata": {},
   "source": [
    "SpaCy performs much better than NLTK, recognising Tesla as an entity 20 times, and correctly identifying it as an organisation 18 times, for a precision of 90% and recall of 62.5%. "
   ]
  },
  {
   "cell_type": "markdown",
   "metadata": {},
   "source": [
    "## NER Evaluation"
   ]
  },
  {
   "cell_type": "markdown",
   "metadata": {},
   "source": [
    "We generalise the process of identifying the most frequently assigned label for a given entity below."
   ]
  },
  {
   "cell_type": "code",
   "execution_count": 39,
   "metadata": {},
   "outputs": [
    {
     "name": "stdout",
     "output_type": "stream",
     "text": [
      "('ORG', 0.9)\n",
      "('GPE', 0.3684210526315789)\n"
     ]
    }
   ],
   "source": [
    "def count(name, label):\n",
    "    name_counts = {}\n",
    "    for n, l in zip(name, label):\n",
    "        if n in name_counts:\n",
    "            name_counts[n] += 1\n",
    "        else:\n",
    "            name_counts[n] = 1\n",
    "    return name_counts\n",
    "\n",
    "def transfer_dic(name, label):\n",
    "    name_label_counts = {}\n",
    "    for n, l in zip(name, label):\n",
    "        key = (n, l) \n",
    "        if key in name_label_counts:\n",
    "            name_label_counts[key] += 1\n",
    "        else:\n",
    "            name_label_counts[key] = 1\n",
    "    return name_label_counts\n",
    "\n",
    "# output first the total appearing counts and the respective counts of each label\n",
    "def check_name(name, label, target_name):\n",
    "    if target_name not in name:\n",
    "        return \"no target_name\"\n",
    "    name_counts=count(name, label)\n",
    "    name_label_counts=transfer_dic(name, label)\n",
    "    print(\"total counts \"+ str(name_counts[target_name]))\n",
    "    for i in name_label_counts:\n",
    "        if i[0]==target_name:\n",
    "            print((i[1],name_label_counts[i]))\n",
    "\n",
    "# output a dictionary containg the key of name and the label with highest appearing ratio. {name:(label,ratio)}\n",
    "def get_NER(name, label,entity = None):\n",
    "    res={}\n",
    "    name_counts=count(name, label)\n",
    "    name_label_counts=transfer_dic(name, label)\n",
    "    for i in list(set(name)):\n",
    "        for j in name_label_counts:\n",
    "            if j[0]==i:\n",
    "                ratio=name_label_counts[j]/name_counts[i]\n",
    "                if j[0] in res:\n",
    "                    if ratio>res[j[0]][1]:\n",
    "                        res[j[0]]=(j[1],ratio)\n",
    "                else:\n",
    "                    res[j[0]]=(j[1],ratio)\n",
    "    if entity != None:\n",
    "        return res.get(entity,'not found')\n",
    "    \n",
    "    return res\n",
    "\n",
    "def highest_label(name, label):\n",
    "    res={}\n",
    "    NER=get_NER(name, label)\n",
    "    for i in NER:\n",
    "        if NER[i][0] in res:\n",
    "            res[NER[i][0]].append(i)\n",
    "        else:\n",
    "            res[NER[i][0]]=[i,]\n",
    "    return res\n",
    "\n",
    "\n",
    "\n",
    "print(get_NER(Spacy_name,Spacy_label,'Tesla'))\n",
    "print(get_NER(nltk_name,nltk_label,'Tesla'))\n"
   ]
  },
  {
   "cell_type": "code",
   "execution_count": 13,
   "metadata": {},
   "outputs": [
    {
     "data": {
      "text/plain": [
       "dict_keys(['ORG', 'PERSON', 'CARDINAL', 'MONEY', 'PRODUCT', 'NORP', 'DATE', 'ORDINAL', 'TIME', 'LOC', 'GPE', 'FAC', 'EVENT', 'LAW', 'PERCENT', 'WORK_OF_ART'])"
      ]
     },
     "execution_count": 13,
     "metadata": {},
     "output_type": "execute_result"
    }
   ],
   "source": [
    "unique_labels.keys()"
   ]
  },
  {
   "cell_type": "code",
   "execution_count": null,
   "metadata": {},
   "outputs": [],
   "source": [
    "unique_labels['ORG']"
   ]
  },
  {
   "cell_type": "code",
   "execution_count": null,
   "metadata": {},
   "outputs": [],
   "source": [
    "unique_labels['PRODUCT'] #products"
   ]
  },
  {
   "cell_type": "code",
   "execution_count": 16,
   "metadata": {},
   "outputs": [
    {
     "data": {
      "text/plain": [
       "[('North America', 16709, 16722),\n",
       " ('Europe', 16724, 16730),\n",
       " ('Asia', 16735, 16739),\n",
       " ('Northern California', 17880, 17899),\n",
       " ('Europe', 32867, 32873),\n",
       " ('Europe', 41224, 41230)]"
      ]
     },
     "execution_count": 16,
     "metadata": {},
     "output_type": "execute_result"
    }
   ],
   "source": [
    "unique_labels['LOC'] # locations"
   ]
  },
  {
   "cell_type": "code",
   "execution_count": 17,
   "metadata": {},
   "outputs": [
    {
     "data": {
      "text/plain": [
       "[('Gigafactory Texas', 17963, 17980),\n",
       " ('Fremont Factory', 42324, 42339),\n",
       " ('Gigafactory Texas', 42361, 42378)]"
      ]
     },
     "execution_count": 17,
     "metadata": {},
     "output_type": "execute_result"
    }
   ],
   "source": [
    "unique_labels['FAC'] # facilities / factories"
   ]
  },
  {
   "cell_type": "code",
   "execution_count": 18,
   "metadata": {},
   "outputs": [
    {
     "data": {
      "text/plain": [
       "[('this Annual Report on Form 10-K', 20814, 20845),\n",
       " ('this Annual Report on Form 10-K. Energy Storage System Incentives',\n",
       "  21988,\n",
       "  22053),\n",
       " ('this Annual Report on Form 10-K. Pursuant', 23163, 23204),\n",
       " ('this Annual Report on Form 10-K.', 45826, 45858)]"
      ]
     },
     "execution_count": 18,
     "metadata": {},
     "output_type": "execute_result"
    }
   ],
   "source": [
    "unique_labels['EVENT'] # events"
   ]
  },
  {
   "cell_type": "code",
   "execution_count": 55,
   "metadata": {},
   "outputs": [],
   "source": [
    "from spacy import displacy\n",
    "#displacy.render(doc, style=\"ent\")"
   ]
  },
  {
   "cell_type": "markdown",
   "metadata": {},
   "source": [
    "### ReFinED transformer"
   ]
  },
  {
   "cell_type": "markdown",
   "metadata": {},
   "source": [
    "<a href = \"https://github.com/amazon-science/ReFinED\"> ReFinED </a> uses a Transformer model to perform mention detection, entity typing, and entity disambiguation for all mentions in a document in a single forward pass. The model is trained on a dataset we generated dataset using Wikipedia hyperlinks, which consists of over 150M entity mentions. The model uses entity descriptions and fine-grained entity types to perform linking. Therefore, new entities can be added to the system without retraining.\n",
    "\n"
   ]
  },
  {
   "cell_type": "code",
   "execution_count": null,
   "metadata": {},
   "outputs": [],
   "source": [
    "pip install git+https://github.com/ardentaegis17/ReFinED.git"
   ]
  },
  {
   "cell_type": "code",
   "execution_count": 61,
   "metadata": {},
   "outputs": [
    {
     "name": "stderr",
     "output_type": "stream",
     "text": [
      "c:\\Users\\ongai\\Desktop\\DSA3101\\WW-AI-GK\\.venv\\Lib\\site-packages\\transformers\\tokenization_utils_base.py:1601: FutureWarning: `clean_up_tokenization_spaces` was not set. It will be set to `True` by default. This behavior will be depracted in transformers v4.45, and will be then set to `False` by default. For more details check this issue: https://github.com/huggingface/transformers/issues/31884\n",
      "  warnings.warn(\n",
      "c:\\Users\\ongai\\Desktop\\DSA3101\\WW-AI-GK\\.venv\\Lib\\site-packages\\refined\\model_components\\refined_model.py:626: FutureWarning: You are using `torch.load` with `weights_only=False` (the current default value), which uses the default pickle module implicitly. It is possible to construct malicious pickle data which will execute arbitrary code during unpickling (See https://github.com/pytorch/pytorch/blob/main/SECURITY.md#untrusted-models for more details). In a future release, the default value for `weights_only` will be flipped to `True`. This limits the functions that could be executed during unpickling. Arbitrary objects will no longer be allowed to be loaded via this mode unless they are explicitly allowlisted by the user via `torch.serialization.add_safe_globals`. We recommend you start setting `weights_only=True` for any use case where you don't have full control of the loaded file. Please open an issue on GitHub for any issues related to this experimental feature.\n",
      "  checkpoint = torch.load(io.BytesIO(f.read()), map_location=\"cpu\")\n",
      "c:\\Users\\ongai\\Desktop\\DSA3101\\WW-AI-GK\\.venv\\Lib\\site-packages\\refined\\inference\\processor.py:293: FutureWarning: `torch.cuda.amp.autocast(args...)` is deprecated. Please use `torch.amp.autocast('cuda', args...)` instead.\n",
      "  with autocast():\n",
      "c:\\Users\\ongai\\Desktop\\DSA3101\\WW-AI-GK\\.venv\\Lib\\site-packages\\torch\\amp\\autocast_mode.py:265: UserWarning: User provided device_type of 'cuda', but CUDA is not available. Disabling\n",
      "  warnings.warn(\n"
     ]
    },
    {
     "name": "stdout",
     "output_type": "stream",
     "text": [
      "[['ITEM 1', Entity not linked to a knowledge base, None], ['two', None, 'CARDINAL'], ['five', None, 'CARDINAL'], ['Model 3', Entity(wikidata_entity_id=Q23663332, wikipedia_entity_title=Tesla Model 3), None], ['Cybertruck', Entity(wikidata_entity_id=Q66311587, wikipedia_entity_title=Tesla Cybertruck), None], ['Model 3', Entity(wikidata_entity_id=Q23663332, wikipedia_entity_title=Tesla Model 3), None], ['four-door', None, 'CARDINAL'], ['Model', Entity(wikidata_entity_id=Q4610556, wikipedia_entity_title=Model (person)), None], ['Model 3', Entity(wikidata_entity_id=Q23663332, wikipedia_entity_title=Tesla Model 3), None], ['seven', None, 'CARDINAL'], ['Model S', Entity(wikidata_entity_id=Q1463050, wikipedia_entity_title=Tesla Model S), None], ['four-door', None, 'CARDINAL'], ['Model X', Entity(wikidata_entity_id=Q1634161, wikipedia_entity_title=Tesla Model X), None], ['seven', None, 'CARDINAL'], ['Model S', Entity(wikidata_entity_id=Q1463050, wikipedia_entity_title=Tesla Model S), None], ['Model X', Entity(wikidata_entity_id=Q1634161, wikipedia_entity_title=Tesla Model X), None], ['November 2023', Entity(parsed_string=[timepoint: [\"2023/11\"]]), 'DATE'], ['first', None, 'ORDINAL'], ['Cybertruck', Entity(wikidata_entity_id=Q66311587, wikipedia_entity_title=Tesla Cybertruck), None], ['2022', Entity(parsed_string=[timepoint: [\"2022\"]]), 'DATE'], ['Tesla Semi', Entity(wikidata_entity_id=Q40008974, wikipedia_entity_title=Tesla Semi), None], ['Powerwall', Entity(wikidata_entity_id=Q19845823, wikipedia_entity_title=Tesla Powerwall), None], ['Megapack', Entity(wikidata_entity_id=Q85806042, wikipedia_entity_title=Tesla Megapack), None], ['Power', Entity(wikidata_entity_id=Q27137, wikipedia_entity_title=Electric power), None], ['Megapack', Entity(wikidata_entity_id=Q85806042, wikipedia_entity_title=Tesla Megapack), None], ['gigawatt hours', None, 'QUANTITY'], ['two', None, 'CARDINAL'], ['three', None, 'CARDINAL'], ['Model S', Entity(wikidata_entity_id=Q1463050, wikipedia_entity_title=Tesla Model S), None], ['Model X', Entity(wikidata_entity_id=Q1634161, wikipedia_entity_title=Tesla Model X), None], ['Cybertruck', Entity(wikidata_entity_id=Q66311587, wikipedia_entity_title=Tesla Cybertruck), None], ['Tesla Semi', Entity(wikidata_entity_id=Q40008974, wikipedia_entity_title=Tesla Semi), None], ['Tesla', Entity(wikidata_entity_id=Q478214, wikipedia_entity_title=Tesla, Inc.), 'ORG'], ['Optimus', Entity not linked to a knowledge base, None], ['Solar Energy Systems', Entity not linked to a knowledge base, 'ORG'], ['Solar', Entity not linked to a knowledge base, None], ['Powerwall', Entity(wikidata_entity_id=Q19845823, wikipedia_entity_title=Tesla Powerwall), None], ['Megapack', Entity(wikidata_entity_id=Q85806042, wikipedia_entity_title=Tesla Megapack), None], ['Autom', Entity not linked to a knowledge base, 'ORG'], ['Tesla', Entity(wikidata_entity_id=Q478214, wikipedia_entity_title=Tesla, Inc.), 'ORG'], ['Tesla', Entity(wikidata_entity_id=Q478214, wikipedia_entity_title=Tesla, Inc.), 'ORG'], ['non-Tesla', Entity not linked to a knowledge base, None], ['Tesla', Entity(wikidata_entity_id=Q478214, wikipedia_entity_title=Tesla, Inc.), 'ORG'], ['Tesla', Entity(wikidata_entity_id=Q478214, wikipedia_entity_title=Tesla, Inc.), 'ORG'], ['non-Tesla', Entity not linked to a knowledge base, None], ['third', None, 'ORDINAL'], ['Tesla', Entity(wikidata_entity_id=Q478214, wikipedia_entity_title=Tesla, Inc.), 'ORG'], ['Tesla', Entity(wikidata_entity_id=Q478214, wikipedia_entity_title=Tesla, Inc.), 'ORG'], ['November 2021', Entity(parsed_string=[timepoint: [\"2021/11\"]]), 'DATE'], ['non-Tesla', Entity not linked to a knowledge base, None], ['November 2022', Entity(parsed_string=[timepoint: [\"2022/11\"]]), 'DATE'], ['the North American Charging Standard', Entity not linked to a knowledge base, None], ['2024', Entity(parsed_string=[timepoint: [\"2024\"]]), 'DATE'], ['no later than 2025', None, 'DATE'], ['SAE International', Entity(wikidata_entity_id=Q1427072, wikipedia_entity_title=SAE International), 'ORG'], ['J3400', Entity not linked to a knowledge base, None], ['Tesla', Entity(wikidata_entity_id=Q478214, wikipedia_entity_title=Tesla, Inc.), 'ORG'], ['Tesla', Entity(wikidata_entity_id=Q478214, wikipedia_entity_title=Tesla, Inc.), 'ORG'], ['Energy Generation and', Entity not linked to a knowledge base, 'ORG'], ['Tesla Mobile Service', Entity not linked to a knowledge base, 'ORG'], ['Tesla', Entity(wikidata_entity_id=Q478214, wikipedia_entity_title=Tesla, Inc.), 'ORG'], ['North America', Entity(wikidata_entity_id=Q49, wikipedia_entity_title=North America), 'GPE'], ['Europe', Entity(wikidata_entity_id=Q46, wikipedia_entity_title=Europe), 'GPE'], ['Asia', Entity(wikidata_entity_id=Q48, wikipedia_entity_title=Asia), 'GPE'], ['2021', Entity(parsed_string=[timepoint: [\"2021\"]]), 'DATE'], ['12', None, 'CARDINAL'], ['kilowatt-', None, 'QUANTITY'], ['U.S.', Entity(wikidata_entity_id=Q30, wikipedia_entity_title=United States), 'GPE'], ['Northern', Entity(wikidata_entity_id=Q1066807, wikipedia_entity_title=Northern California), 'GPE'], ['California', Entity(wikidata_entity_id=Q99, wikipedia_entity_title=California), 'GPE'], ['Buffalo', Entity(wikidata_entity_id=Q40435, wikipedia_entity_title=Buffalo, New York), 'ORG'], ['New York', Entity(wikidata_entity_id=Q1384, wikipedia_entity_title=New York (state)), 'GPE'], ['Gigafactory New York', Entity not linked to a knowledge base, 'ORG'], ['Austin', Entity(wikidata_entity_id=Q16559, wikipedia_entity_title=Austin, Texas), 'ORG'], ['Texas', Entity(wikidata_entity_id=Q1439, wikipedia_entity_title=Texas), 'GPE'], ['Gigafactory', Entity(wikidata_entity_id=Q17182894, wikipedia_entity_title=Giga Nevada), 'ORG'], ['Texas', Entity(wikidata_entity_id=Q1439, wikipedia_entity_title=Texas), 'GPE'], ['Reno', Entity(wikidata_entity_id=Q49225, wikipedia_entity_title=Reno, Nevada), 'ORG'], ['Nevada', Entity(wikidata_entity_id=Q1227, wikipedia_entity_title=Nevada), 'GPE'], ['Gigafactory Nevada', Entity not linked to a knowledge base, 'ORG'], ['China', Entity(wikidata_entity_id=Q148, wikipedia_entity_title=China), 'ORG'], ['Gigafactory Shanghai', Entity(wikidata_entity_id=Q55642234, wikipedia_entity_title=Giga Shanghai), 'ORG'], ['Germany', Entity(wikidata_entity_id=Q183, wikipedia_entity_title=Germany), 'GPE'], ['Gigafactory Berlin-Brandenburg', Entity(wikidata_entity_id=Q75327597, wikipedia_entity_title=Giga Berlin), 'ORG'], ['March 2023', Entity(parsed_string=[timepoint: [\"2023/3\"]]), 'DATE'], ['Monterrey', Entity(wikidata_entity_id=Q81033, wikipedia_entity_title=Monterrey), 'ORG'], ['Mexico', Entity(wikidata_entity_id=Q96, wikipedia_entity_title=Mexico), 'GPE'], ['thousands', None, 'CARDINAL'], ['hundreds', None, 'CARDINAL'], ['al Programs, Incentives and', Entity not linked to a knowledge base, None], ['10-K', Entity(wikidata_entity_id=Q5469880, wikipedia_entity_title=Form 10-K), None], ['Programs and Incentives Inflation Reduction Act', Entity not linked to a knowledge base, None], ['August 16, 2022', Entity(parsed_string=[timepoint: [\"2022/8/16\"]]), 'DATE'], ['the Inflation Reduction Act of 2022', Entity not linked to a knowledge base, None], ['taxable years', None, 'DATE'], ['December 31, 2022', Entity(parsed_string=[timepoint: [\"2022/12/31\"]]), 'DATE'], ['Tesla', Entity(wikidata_entity_id=Q478214, wikipedia_entity_title=Tesla, Inc.), 'ORG'], ['up to $', None, 'MONEY'], ['7,500', None, 'MONEY'], ['U.S.', Entity(wikidata_entity_id=Q30, wikipedia_entity_title=United States), 'ORG'], ['2032', Entity(parsed_string=[timepoint: [\"2032\"]]), 'DATE'], ['zero-em', None, 'CARDINAL'], ['10-K', Entity(wikidata_entity_id=Q5469880, wikipedia_entity_title=Form 10-K), None], ['U.S.', Entity(wikidata_entity_id=Q30, wikipedia_entity_title=United States), 'GPE'], ['The Federal Energy Regulatory Commission', Entity(wikidata_entity_id=Q3067862, wikipedia_entity_title=Federal Energy Regulatory Commission), 'ORG'], ['California', Entity(wikidata_entity_id=Q99, wikipedia_entity_title=California), 'GPE'], ['the California Self Generation Incentive Program', Entity not linked to a knowledge base, None], ['10-K', Entity(wikidata_entity_id=Q5469880, wikipedia_entity_title=Form 10-K), None], ['48', None, 'CARDINAL'], ['48E', None, 'CARDINAL'], ['25D', None, 'CARDINAL'], ['the Internal Revenue Code', Entity(wikidata_entity_id=Q1666281, wikipedia_entity_title=Internal Revenue Code), 'WORK_OF_ART'], ['between 6% and 50%', None, 'PERCENT'], ['2032', Entity(parsed_string=[timepoint: [\"2032\"]]), 'DATE'], ['U.S.', Entity(wikidata_entity_id=Q30, wikipedia_entity_title=United States), 'GPE'], ['IRA', Entity(wikidata_entity_id=Q6025330, wikipedia_entity_title=Individual retirement account), None], ['48', None, 'CARDINAL'], ['48E', None, 'CARDINAL'], ['25D', None, 'CARDINAL'], ['IRC', Entity(wikidata_entity_id=Q1666281, wikipedia_entity_title=Internal Revenue Code), 'WORK_OF_ART'], ['between 6% and 70%', None, 'PERCENT'], ['2032', Entity(parsed_string=[timepoint: [\"2032\"]]), 'DATE'], ['Regulations Vehicle Safety and Testing', Entity not linked to a knowledge base, None], ['U.S', Entity(wikidata_entity_id=Q30, wikipedia_entity_title=United States), 'GPE'], ['National Highway Traffic Safety Administration', Entity(wikidata_entity_id=Q1967350, wikipedia_entity_title=National Highway Traffic Safety Administration), 'ORG'], ['Federal Motor Vehicle Safety Standards', Entity(wikidata_entity_id=Q1357174, wikipedia_entity_title=Federal Motor Vehicle Safety Standards), None], ['NHTSA', Entity(wikidata_entity_id=Q1967350, wikipedia_entity_title=National Highway Traffic Safety Administration), 'ORG'], ['FM', Entity(wikidata_entity_id=Q1368380, wikipedia_entity_title=FM broadcasting), None], ['SS', Entity(wikidata_entity_id=Q1087319, wikipedia_entity_title=Sensu), None], ['FM', Entity(wikidata_entity_id=Q1368380, wikipedia_entity_title=FM broadcasting), None], ['FMVSS', Entity(wikidata_entity_id=Q1357174, wikipedia_entity_title=Federal Motor Vehicle Safety Standards), None], ['NHTSA', Entity(wikidata_entity_id=Q1967350, wikipedia_entity_title=National Highway Traffic Safety Administration), 'ORG'], ['U.S', Entity(wikidata_entity_id=Q30, wikipedia_entity_title=United States), 'GPE'], ['NHTSA', Entity(wikidata_entity_id=Q1967350, wikipedia_entity_title=National Highway Traffic Safety Administration), 'ORG'], ['Average Fuel Economy', Entity not linked to a knowledge base, None], ['Theft Prevention Act', Entity not linked to a knowledge base, None], ['The U.S. Automobile Information and Disclosure Act', Entity not linked to a knowledge base, None], ['the', Entity not linked to a knowledge base, None], ['U.S. Department of Transportation', Entity(wikidata_entity_id=Q852211, wikipedia_entity_title=United States Department of Transportation), 'ORG'], ['the Environmental Protection Agency', Entity(wikidata_entity_id=Q460173, wikipedia_entity_title=United States Environmental Protection Agency), 'ORG'], ['New Car Assessment Program', Entity(wikidata_entity_id=Q7006371, wikipedia_entity_title=New Car Assessment Program), None], ['NHTSA', Entity(wikidata_entity_id=Q1967350, wikipedia_entity_title=National Highway Traffic Safety Administration), 'ORG'], ['U.S.', Entity(wikidata_entity_id=Q30, wikipedia_entity_title=United States), 'GPE'], ['U.S.', Entity(wikidata_entity_id=Q30, wikipedia_entity_title=United States), 'ORG'], ['U.S.', Entity(wikidata_entity_id=Q30, wikipedia_entity_title=United States), 'ORG'], ['NHTSA', Entity(wikidata_entity_id=Q1967350, wikipedia_entity_title=National Highway Traffic Safety Administration), 'ORG'], ['FMVSS', Entity(wikidata_entity_id=Q1357174, wikipedia_entity_title=Federal Motor Vehicle Safety Standards), None], ['U.S.', Entity(wikidata_entity_id=Q30, wikipedia_entity_title=United States), 'GPE'], ['U.S', Entity(wikidata_entity_id=Q30, wikipedia_entity_title=United States), 'GPE'], ['United Nations Economic Commission for Europe', Entity(wikidata_entity_id=Q659012, wikipedia_entity_title=United Nations Economic Commission for Europe), 'ORG'], ['ECE', Entity(wikidata_entity_id=Q659012, wikipedia_entity_title=United Nations Economic Commission for Europe), 'ORG'], ['China', Entity(wikidata_entity_id=Q148, wikipedia_entity_title=China), 'ORG'], ['U.S.', Entity(wikidata_entity_id=Q30, wikipedia_entity_title=United States), 'ORG'], ['ECE', Entity(wikidata_entity_id=Q659012, wikipedia_entity_title=United Nations Economic Commission for Europe), None], ['Automobile Manufacturer and Dealer Regulation', Entity not linked to a knowledge base, None], ['U.S', Entity(wikidata_entity_id=Q30, wikipedia_entity_title=United States), 'GPE'], ['U.S.', Entity(wikidata_entity_id=Q30, wikipedia_entity_title=United States), 'GPE'], ['third', None, 'ORDINAL'], ['third', None, 'ORDINAL'], ['U.S.', Entity(wikidata_entity_id=Q30, wikipedia_entity_title=United States), 'GPE'], ['Cybertruck', Entity(wikidata_entity_id=Q66311587, wikipedia_entity_title=Tesla Cybertruck), 'ORG'], ['Model S', Entity(wikidata_entity_id=Q1463050, wikipedia_entity_title=Tesla Model S), None], ['Model X', Entity(wikidata_entity_id=Q1634161, wikipedia_entity_title=Tesla Model X), None], ['Model 3', Entity(wikidata_entity_id=Q23663332, wikipedia_entity_title=Tesla Model 3), None], ['Model Y', Entity(wikidata_entity_id=Q42298250, wikipedia_entity_title=Tesla Model Y), None], ['today', None, 'DATE'], ['U.S', Entity(wikidata_entity_id=Q30, wikipedia_entity_title=United States), 'ORG'], ['China', Entity(wikidata_entity_id=Q148, wikipedia_entity_title=China), 'ORG'], ['Europe', Entity(wikidata_entity_id=Q46, wikipedia_entity_title=Europe), 'GPE'], ['third-party', None, 'ORDINAL'], ['Environmental, Social and Governance', Entity(wikidata_entity_id=Q3817465, wikipedia_entity_title=Environmental, social and corporate governance), None], ['ESG', Entity(wikidata_entity_id=Q3817465, wikipedia_entity_title=Environmental, social and corporate governance), 'ORG'], ['Human Capital Resources ESG', Entity not linked to a knowledge base, None], ['Tesla', Entity(wikidata_entity_id=Q478214, wikipedia_entity_title=Tesla, Inc.), 'ORG'], ['zero', None, 'CARDINAL'], ['the Organization for Economic Co-operation and Development', Entity(wikidata_entity_id=Q41550, wikipedia_entity_title=OECD), 'ORG'], ['ESG', Entity(wikidata_entity_id=Q3817465, wikipedia_entity_title=Environmental, social and corporate governance), 'ORG'], ['ESG Sustainability Council', Entity not linked to a knowledge base, None], ['Tesla', Entity(wikidata_entity_id=Q478214, wikipedia_entity_title=Tesla, Inc.), 'ORG'], ['the past year', None, 'DATE'], ['Tesla', Entity(wikidata_entity_id=Q478214, wikipedia_entity_title=Tesla, Inc.), 'ORG'], ['one', None, 'CARDINAL'], ['December 31, 2023', Entity(parsed_string=[timepoint: [\"2023/12/31\"]]), 'DATE'], ['140,473', None, 'CARDINAL'], ['nearly two-thirds', None, 'CARDINAL'], ['65%)', None, 'PERCENT'], ['43%', None, 'PERCENT'], ['Tesla', Entity(wikidata_entity_id=Q478214, wikipedia_entity_title=Tesla, Inc.), 'ORG'], ['more than five years', None, 'DATE'], ['Tesla', Entity(wikidata_entity_id=Q478214, wikipedia_entity_title=Tesla, Inc.), 'ORG'], ['35%', None, 'PERCENT'], ['the past two years', None, 'DATE'], ['Tesla', Entity(wikidata_entity_id=Q478214, wikipedia_entity_title=Tesla, Inc.), 'ORG'], ['89%', None, 'PERCENT'], ['zero-premium', None, 'CARDINAL'], ['the first day', None, 'DATE'], ['Tesla', Entity(wikidata_entity_id=Q478214, wikipedia_entity_title=Tesla, Inc.), 'ORG'], ['The Tesla Technician Trainee Program', Entity not linked to a knowledge base, None], ['Tesla', Entity(wikidata_entity_id=Q478214, wikipedia_entity_title=Tesla, Inc.), 'ORG'], ['2023', Entity(parsed_string=[timepoint: [\"2023\"]]), 'DATE'], ['1,900', None, 'CARDINAL'], ['U.S', Entity(wikidata_entity_id=Q30, wikipedia_entity_title=United States), 'GPE'], ['Germany', Entity(wikidata_entity_id=Q183, wikipedia_entity_title=Germany), 'GPE'], ['China', Entity(wikidata_entity_id=Q148, wikipedia_entity_title=China), 'ORG'], ['Tesla START', Entity not linked to a knowledge base, None], ['Tesla', Entity(wikidata_entity_id=Q478214, wikipedia_entity_title=Tesla, Inc.), 'ORG'], ['Tesla START', Entity not linked to a knowledge base, None], ['U.S', Entity(wikidata_entity_id=Q30, wikipedia_entity_title=United States), 'GPE'], ['United Kingdom', Entity(wikidata_entity_id=Q145, wikipedia_entity_title=United Kingdom), 'ORG'], ['Germany', Entity(wikidata_entity_id=Q183, wikipedia_entity_title=Germany), 'GPE'], ['2023', Entity(parsed_string=[timepoint: [\"2023\"]]), 'DATE'], ['350', None, 'CARDINAL'], ['Tesla', Entity(wikidata_entity_id=Q478214, wikipedia_entity_title=Tesla, Inc.), 'ORG'], ['6,000', None, 'CARDINAL'], ['day one', None, 'DATE'], ['U.S.', Entity(wikidata_entity_id=Q30, wikipedia_entity_title=United States), 'GPE'], ['Europe', Entity(wikidata_entity_id=Q46, wikipedia_entity_title=Europe), 'GPE'], ['European', Entity(wikidata_entity_id=Q458, wikipedia_entity_title=European Union), 'ORG'], ['five', None, 'CARDINAL'], ['the U.S. Chamber of Commerce', Entity(wikidata_entity_id=Q1800288, wikipedia_entity_title=United States Chamber of Commerce), 'ORG'], ['Tesla', Entity(wikidata_entity_id=Q478214, wikipedia_entity_title=Tesla, Inc.), 'ORG'], ['between one to four years', None, 'DATE'], ['U.S', Entity(wikidata_entity_id=Q30, wikipedia_entity_title=United States), 'GPE'], ['Australia', Entity(wikidata_entity_id=Q408, wikipedia_entity_title=Australia), 'ORG'], ['Hong Kong', Entity(wikidata_entity_id=Q8646, wikipedia_entity_title=Hong Kong), 'GPE'], ['Korea', Entity(wikidata_entity_id=Q18097, wikipedia_entity_title=Korea), 'GPE'], ['Germany', Entity(wikidata_entity_id=Q183, wikipedia_entity_title=Germany), 'ORG'], ['Tesla', Entity(wikidata_entity_id=Q478214, wikipedia_entity_title=Tesla, Inc.), 'ORG'], ['Tesla', Entity(wikidata_entity_id=Q478214, wikipedia_entity_title=Tesla, Inc.), 'ORG'], ['373', None, 'CARDINAL'], ['2023', Entity(parsed_string=[timepoint: [\"2023\"]]), 'DATE'], ['2024', Entity(parsed_string=[timepoint: [\"2024\"]]), 'DATE'], ['600', None, 'CARDINAL'], ['Fremont Factory', Entity not linked to a knowledge base, 'ORG'], ['Gigafactory Nevada', Entity not linked to a knowledge base, 'ORG'], ['Gigafactory', Entity(wikidata_entity_id=Q17182894, wikipedia_entity_title=Giga Nevada), 'ORG'], ['Texas', Entity(wikidata_entity_id=Q1439, wikipedia_entity_title=Texas), 'GPE'], ['Gigafactory New York', Entity not linked to a knowledge base, 'ORG'], ['January 2024', Entity(parsed_string=[timepoint: [\"2024/1\"]]), 'DATE'], ['Austin Community College', Entity(wikidata_entity_id=Q3629946, wikipedia_entity_title=Austin Community College District), 'GPE'], ['U.S.', Entity(wikidata_entity_id=Q30, wikipedia_entity_title=United States), 'GPE'], ['U.S.', Entity(wikidata_entity_id=Q30, wikipedia_entity_title=United States), 'GPE'], ['the spring of 2024', None, 'DATE'], ['Tesla', Entity(wikidata_entity_id=Q478214, wikipedia_entity_title=Tesla, Inc.), 'ORG'], ['day one', None, 'DATE'], ['10-K', Entity(wikidata_entity_id=Q5469880, wikipedia_entity_title=Form 10-K), None], ['10-Q', Entity(wikidata_entity_id=Q5469886, wikipedia_entity_title=Form 10-Q), None], ['8-K', Entity(wikidata_entity_id=Q5469909, wikipedia_entity_title=Form 8-K), None], ['SEC', Entity(wikidata_entity_id=Q953944, wikipedia_entity_title=U.S. Securities and Exchange Commission), 'ORG'], ['SEC', Entity(wikidata_entity_id=Q953944, wikipedia_entity_title=U.S. Securities and Exchange Commission), 'ORG'], ['SEC', Entity(wikidata_entity_id=Q953944, wikipedia_entity_title=U.S. Securities and Exchange Commission), 'ORG'], ['Form 10-K', Entity(wikidata_entity_id=Q5469880, wikipedia_entity_title=Form 10-K), None]]\n",
      "252\n",
      "197\n"
     ]
    }
   ],
   "source": [
    "from refined.inference.processor import Refined\n",
    "\n",
    "\n",
    "refined = Refined.from_pretrained(model_name='wikipedia_model_with_numbers',\n",
    "                                  entity_set=\"wikipedia\")\n",
    "\n",
    "spans = refined.process_text(tsla_item1)\n",
    "\n",
    "print(spans)\n",
    "print(len(spans))\n",
    "\n",
    "i = 0 \n",
    "\n",
    "for span in spans:\n",
    "    if isinstance(span.predicted_entity,type(spans[3].predicted_entity)): #the fourth entity identified is 'Model 3', which is correctly linked to the Wikipedia article for Tesla Model 3.\n",
    "        i += 1\n",
    "\n",
    "print(i)"
   ]
  },
  {
   "cell_type": "markdown",
   "metadata": {},
   "source": [
    "We see that the ReFinED transformer does an excellent job at entity resolution and disambiguation, successfully linking 197 of 252 entities to Wikipedia articles. We explore its capabilities further in the ERD.ipynb notebook. However, it lacks the ability to differentiate between important entities. Relationship extraction is also challenging, as it requires querying the Wikidata API using the entity id and parsing through voluminious JSON output. We thus turn to our final NER model."
   ]
  },
  {
   "cell_type": "markdown",
   "metadata": {},
   "source": [
    "## Diffbot API\n",
    "<a href = \"https://www.diffbot.com/\"> Diffbot </a> is a developer of machine learning and computer vision algorithms and public APIs for extracting data from web pages / web scraping to create a knowledge base. In September 2020 the company released a Natural Language Processing API for automatically building Knowledge Graphs from text.\n",
    "\n",
    "Because entities can be of different types and not all are equally important in the\n",
    "context of the natural language text being analyzed, it is quite common for NER\n",
    "processors to return the following in addition to a list of entities:\n",
    "\n",
    " **type**\n",
    "- Is it a person? Is it a location? Is it an organization? The set of categories will\n",
    "depend on the specific model used. \n",
    "- Diffbot API distinguishes between <a href= https://demo.nl.diffbot.com/schema/#types> 69 different entity types. </a>\n",
    " \n",
    "**salience**\n",
    "- The relative importance in the text analyzed or, in other words, the entity’s\n",
    "relevance. \n",
    "- Is the entity central to the text (higher score/salience), or is it just\n",
    "mentioned tangentially (lower score/salience)?"
   ]
  },
  {
   "cell_type": "code",
   "execution_count": 10,
   "metadata": {},
   "outputs": [],
   "source": [
    "from getpass import getpass\n",
    "\n",
    "TOKEN = getpass('Enter token: ')"
   ]
  },
  {
   "cell_type": "code",
   "execution_count": 11,
   "metadata": {},
   "outputs": [],
   "source": [
    "FIELDS = \"entities,facts\"\n",
    "HOST = \"nl.diffbot.com\""
   ]
  },
  {
   "cell_type": "code",
   "execution_count": 12,
   "metadata": {},
   "outputs": [],
   "source": [
    "import json\n",
    "\n",
    "def get_request(payload):\n",
    "  res = requests.post(\"https://{}/v1/?fields={}&token={}\".format(HOST, FIELDS, TOKEN), json=payload)\n",
    "  ret = None\n",
    "  try:\n",
    "    ret = res.json()\n",
    "  except:\n",
    "    print(\"Bad response: \" + res.text)\n",
    "    print(res.status_code)\n",
    "    print(res.headers)\n",
    "  return ret"
   ]
  },
  {
   "cell_type": "code",
   "execution_count": 65,
   "metadata": {},
   "outputs": [
    {
     "name": "stdout",
     "output_type": "stream",
     "text": [
      "{'entities': [{'name': 'Tesla Semi', 'diffbotUri': 'https://diffbot.com/entity/EF4g4ohJUPUeLKh-N-rvUyA', 'confidence': 0.9569246, 'salience': 0.8978014, 'isCustom': False, 'allUris': ['http://www.wikidata.org/entity/Q40008974'], 'allTypes': [{'name': 'skill', 'diffbotUri': 'https://diffbot.com/entity/EvfbHngnSNVOh7ZBM5XTywQ'}, {'name': 'product', 'diffbotUri': 'https://diffbot.com/entity/EgSPUye7QPcyQoPylO8biMQ'}, {'name': 'tool', 'diffbotUri': 'https://diffbot.com/entity/EKvoYuTx4P9WT35YUouc0ug'}, {'name': 'vehicle', 'diffbotUri': 'https://diffbot.com/entity/E4vBDPVu3OTq90vd1GhX5mw', 'dbpediaUri': 'http://dbpedia.org/ontology/MeanOfTransportation'}], 'mentions': [{'text': 'Tesla', 'beginOffset': 2922, 'endOffset': 2927, 'confidence': 0.9569246}, {'text': 'Tesla', 'beginOffset': 5361, 'endOffset': 5366, 'confidence': 0.9569246}]}, {'name': 'automotive battery', 'diffbotUri': 'https://diffbot.com/entity/EF6RvyvRnNsW6oAQQjtPb7g', 'confidence': 0.97791916, 'salience': 0.77393895, 'isCustom': False, 'allUris': ['http://www.wikidata.org/entity/Q902054'], 'allTypes': [{'name': 'skill', 'diffbotUri': 'https://diffbot.com/entity/EvfbHngnSNVOh7ZBM5XTywQ'}, {'name': 'product', 'diffbotUri': 'https://diffbot.com/entity/EgSPUye7QPcyQoPylO8biMQ'}, {'name': 'tool', 'diffbotUri': 'https://diffbot.com/entity/EKvoYuTx4P9WT35YUouc0ug'}], 'mentions': [{'text': 'Automotive', 'beginOffset': 4657, 'endOffset': 4667, 'confidence': 0.97791916}]}, {'name': 'Tesla Model X', 'diffbotUri': 'https://diffbot.com/entity/ETr-Ee8SIMyW2qgYQ352vQA', 'confidence': 0.9138682, 'salience': 0.6964315, 'isCustom': False, 'allUris': ['http://www.wikidata.org/entity/Q1634161'], 'allTypes': [{'name': 'skill', 'diffbotUri': 'https://diffbot.com/entity/EvfbHngnSNVOh7ZBM5XTywQ'}, {'name': 'product', 'diffbotUri': 'https://diffbot.com/entity/EgSPUye7QPcyQoPylO8biMQ'}, {'name': 'tool', 'diffbotUri': 'https://diffbot.com/entity/EKvoYuTx4P9WT35YUouc0ug'}, {'name': 'vehicle', 'diffbotUri': 'https://diffbot.com/entity/E4vBDPVu3OTq90vd1GhX5mw', 'dbpediaUri': 'http://dbpedia.org/ontology/MeanOfTransportation'}], 'mentions': [{'text': 'Model', 'beginOffset': 2374, 'endOffset': 2379, 'confidence': 0.9138682}, {'text': 'Model', 'beginOffset': 2449, 'endOffset': 2454, 'confidence': 0.9138682}, {'text': 'Model', 'beginOffset': 5321, 'endOffset': 5326, 'confidence': 0.9104794}, {'text': 'Model', 'beginOffset': 5333, 'endOffset': 5338, 'confidence': 0.9138682}]}, {'name': 'solar energy', 'diffbotUri': 'https://diffbot.com/entity/EPOEH5adkND6DrYMaSXAARQ', 'confidence': 0.97090673, 'salience': 0.6094218, 'isCustom': False, 'allUris': ['http://www.wikidata.org/entity/Q40015'], 'allTypes': [], 'mentions': [{'text': 'solar', 'beginOffset': 1823, 'endOffset': 1828, 'confidence': 0.97090673}]}, {'name': 'Tesla Autopilot', 'diffbotUri': 'https://diffbot.com/entity/EduXdFbV7Mtm7CyoRE7BNsg', 'confidence': 0.6537608, 'salience': 0.5553389, 'isCustom': False, 'allUris': ['http://www.wikidata.org/entity/Q27150149'], 'allTypes': [{'name': 'skill', 'diffbotUri': 'https://diffbot.com/entity/EvfbHngnSNVOh7ZBM5XTywQ'}, {'name': 'field of work', 'diffbotUri': 'https://diffbot.com/entity/EjGOLMsQZOGSg549SwYfFyQ'}, {'name': 'technology', 'diffbotUri': 'https://diffbot.com/entity/E-5jnlQEGOt2x8rdkkht1NQ'}], 'mentions': [{'text': 'full self-', 'beginOffset': 673, 'endOffset': 683, 'confidence': 0.6537608}, {'text': 'Full Self-', 'beginOffset': 3066, 'endOffset': 3076, 'confidence': 0.6537608}]}, {'name': 'artificial intelligence', 'diffbotUri': 'https://diffbot.com/entity/E_lYDrjmAMlKKwXaDf958zg', 'confidence': 0.94689095, 'salience': 0.5336387, 'isCustom': False, 'allUris': ['http://www.wikidata.org/entity/Q11660'], 'allTypes': [{'name': 'skill', 'diffbotUri': 'https://diffbot.com/entity/EvfbHngnSNVOh7ZBM5XTywQ'}, {'name': 'field of work', 'diffbotUri': 'https://diffbot.com/entity/EjGOLMsQZOGSg549SwYfFyQ'}, {'name': 'technology', 'diffbotUri': 'https://diffbot.com/entity/E-5jnlQEGOt2x8rdkkht1NQ'}], 'mentions': [{'text': 'Artificial', 'beginOffset': 6279, 'endOffset': 6289, 'confidence': 0.94689095}, {'text': 'artificial', 'beginOffset': 7471, 'endOffset': 7481, 'confidence': 0.94689095}]}, {'name': 'electric vehicle', 'diffbotUri': 'https://diffbot.com/entity/ETXHJmI3IMIiusgeTz1UagA', 'confidence': 0.82681704, 'salience': 0.5048789, 'isCustom': False, 'allUris': ['http://www.wikidata.org/entity/Q13629441'], 'allTypes': [{'name': 'skill', 'diffbotUri': 'https://diffbot.com/entity/EvfbHngnSNVOh7ZBM5XTywQ'}, {'name': 'product', 'diffbotUri': 'https://diffbot.com/entity/EgSPUye7QPcyQoPylO8biMQ'}, {'name': 'tool', 'diffbotUri': 'https://diffbot.com/entity/EKvoYuTx4P9WT35YUouc0ug'}, {'name': 'vehicle', 'diffbotUri': 'https://diffbot.com/entity/E4vBDPVu3OTq90vd1GhX5mw', 'dbpediaUri': 'http://dbpedia.org/ontology/MeanOfTransportation'}], 'mentions': [{'text': 'electric', 'beginOffset': 98, 'endOffset': 106, 'confidence': 0.82681704}]}, {'name': 'mobile service', 'diffbotUri': 'https://diffbot.com/entity/EBkGal9k7M-Srz8LE9_3P1A', 'confidence': 0.6482868, 'salience': 0.48290995, 'isCustom': False, 'allUris': ['http://www.wikidata.org/entity/Q1247189'], 'allTypes': [], 'mentions': [{'text': 'Mobile', 'beginOffset': 380, 'endOffset': 386, 'confidence': 0.6482868}]}, {'name': 'building-integrated photovoltaics', 'diffbotUri': 'https://diffbot.com/entity/E1CrHOP0dOtW7EpL4brXQEg', 'confidence': 0.6458624, 'salience': 0.40293533, 'isCustom': False, 'allUris': ['http://www.wikidata.org/entity/Q1497383'], 'allTypes': [{'name': 'skill', 'diffbotUri': 'https://diffbot.com/entity/EvfbHngnSNVOh7ZBM5XTywQ'}, {'name': 'product', 'diffbotUri': 'https://diffbot.com/entity/EgSPUye7QPcyQoPylO8biMQ'}, {'name': 'field of work', 'diffbotUri': 'https://diffbot.com/entity/EjGOLMsQZOGSg549SwYfFyQ'}, {'name': 'industry', 'diffbotUri': 'https://diffbot.com/entity/EQbug06rNN8i5GW_tCDs0aA'}], 'mentions': [{'text': 'Solar', 'beginOffset': 4355, 'endOffset': 4360, 'confidence': 0.6458624}, {'text': 'Solar', 'beginOffset': 8275, 'endOffset': 8280, 'confidence': 0.6458624}]}, {'name': 'global network', 'diffbotUri': 'https://diffbot.com/entity/EXKNk1H6HOYCOGs6OX6ZuWA', 'confidence': 0.63062304, 'salience': 0.21825783, 'isCustom': False, 'allUris': ['http://www.wikidata.org/entity/Q5570871'], 'allTypes': [], 'mentions': [{'text': 'global', 'beginOffset': 323, 'endOffset': 329, 'confidence': 0.63062304}]}, {'name': '2', 'confidence': 0.8120302, 'salience': 0.0, 'isCustom': False, 'allUris': [], 'allTypes': [{'name': 'number', 'diffbotUri': 'https://diffbot.com/entity/E7TnJgFyiMYqQUg3cvm8I3g'}], 'mentions': [{'text': '2', 'beginOffset': 20703, 'endOffset': 20704, 'confidence': 0.8120302}]}, {'name': '2023-03', 'confidence': 0.9993586, 'salience': 0.0, 'isCustom': False, 'allUris': [], 'allTypes': [{'name': 'date', 'diffbotUri': 'https://diffbot.com/entity/EGTSOJhZ0NnqIjbjgQ8pyLg'}], 'mentions': [{'text': 'March 2023', 'beginOffset': 18579, 'endOffset': 18589, 'confidence': 0.9993586}]}, {'name': 'Cybertruck', 'confidence': 0.99789643, 'salience': 0.0, 'isCustom': False, 'allUris': [], 'allTypes': [{'name': 'organization', 'diffbotUri': 'https://diffbot.com/entity/EN1ClYEdMMQCxB6AWTkT3mA', 'dbpediaUri': 'http://dbpedia.org/ontology/Organisation'}], 'mentions': [{'text': 'Cybertruck', 'beginOffset': 31916, 'endOffset': 31926, 'confidence': 0.99789643}]}, {'name': '1,900', 'confidence': 0.7998015, 'salience': 0.0, 'isCustom': False, 'allUris': [], 'allTypes': [{'name': 'number', 'diffbotUri': 'https://diffbot.com/entity/E7TnJgFyiMYqQUg3cvm8I3g'}], 'mentions': [{'text': 'over 1,900', 'beginOffset': 40121, 'endOffset': 40131, 'confidence': 0.7998015}]}, {'name': 'Human Resource Partners', 'confidence': 0.9998529, 'salience': 0.0, 'isCustom': False, 'allUris': [], 'allTypes': [{'name': 'organization', 'diffbotUri': 'https://diffbot.com/entity/EN1ClYEdMMQCxB6AWTkT3mA', 'dbpediaUri': 'http://dbpedia.org/ontology/Organisation'}], 'mentions': [{'text': 'Solar Energy Systems', 'beginOffset': 33993, 'endOffset': 34013, 'confidence': 0.99975353}, {'text': 'Human Capital Resources', 'beginOffset': 36044, 'endOffset': 36067, 'confidence': 0.95507044}, {'text': 'Human Capital Resources', 'beginOffset': 38228, 'endOffset': 38251, 'confidence': 0.9998529}, {'text': 'Human Resource Partners', 'beginOffset': 44839, 'endOffset': 44862, 'confidence': 0.90947086}]}, {'name': 'Organization for Economic Co-operation and Development', 'confidence': 0.9985733, 'salience': 0.0, 'isCustom': False, 'allUris': [], 'allTypes': [{'name': 'organization', 'diffbotUri': 'https://diffbot.com/entity/EN1ClYEdMMQCxB6AWTkT3mA', 'dbpediaUri': 'http://dbpedia.org/ontology/Organisation'}], 'mentions': [{'text': 'Organization for Economic Co-operation and Development', 'beginOffset': 37226, 'endOffset': 37280, 'confidence': 0.9985733}]}, {'name': '2021-11', 'confidence': 0.9989975, 'salience': 0.0, 'isCustom': False, 'allUris': [], 'allTypes': [{'name': 'date', 'diffbotUri': 'https://diffbot.com/entity/EGTSOJhZ0NnqIjbjgQ8pyLg'}], 'mentions': [{'text': 'November 2021', 'beginOffset': 12405, 'endOffset': 12418, 'confidence': 0.9989975}]}, {'name': '2024-01', 'confidence': 0.5556619, 'salience': 0.0, 'isCustom': False, 'allUris': [], 'allTypes': [{'name': 'date', 'diffbotUri': 'https://diffbot.com/entity/EGTSOJhZ0NnqIjbjgQ8pyLg'}], 'mentions': [{'text': 'January 2024', 'beginOffset': 42471, 'endOffset': 42483, 'confidence': 0.5556619}]}, {'name': 'energy storage components', 'confidence': 0.51, 'salience': 0.0, 'isCustom': False, 'allUris': [], 'allTypes': [{'name': 'organization type', 'diffbotUri': 'https://diffbot.com/entity/E10DLO8yrMs26p-QOobvaJw'}], 'mentions': [{'text': 'energy storage components', 'beginOffset': 18187, 'endOffset': 18212, 'confidence': 0.51}]}, {'name': 'battery cells', 'confidence': 0.51, 'salience': 0.0, 'isCustom': False, 'allUris': [], 'allTypes': [{'name': 'organization type', 'diffbotUri': 'https://diffbot.com/entity/E10DLO8yrMs26p-QOobvaJw'}], 'mentions': [{'text': 'battery cells', 'beginOffset': 18172, 'endOffset': 18185, 'confidence': 0.51}]}, {'name': 'U.S.', 'confidence': 0.99989855, 'salience': 0.0, 'isCustom': False, 'allUris': [], 'allTypes': [{'name': 'location', 'diffbotUri': 'https://diffbot.com/entity/EiCyWUm4lNziqgLHx47iAIQ', 'dbpediaUri': 'http://dbpedia.org/ontology/Place'}], 'mentions': [{'text': 'U.S.', 'beginOffset': 17872, 'endOffset': 17876, 'confidence': 0.99976546}, {'text': 'U.S.', 'beginOffset': 21461, 'endOffset': 21465, 'confidence': 0.99873775}, {'text': 'U.S.', 'beginOffset': 22416, 'endOffset': 22420, 'confidence': 0.9977804}, {'text': 'U.S.', 'beginOffset': 23747, 'endOffset': 23751, 'confidence': 0.8428006}, {'text': 'U.S.', 'beginOffset': 24564, 'endOffset': 24568, 'confidence': 0.9997466}, {'text': 'U.S', 'beginOffset': 25306, 'endOffset': 25309, 'confidence': 0.9957372}, {'text': 'U.S.', 'beginOffset': 26440, 'endOffset': 26444, 'confidence': 0.9994935}, {'text': 'U.S.', 'beginOffset': 26602, 'endOffset': 26606, 'confidence': 0.9997538}, {'text': 'U.S.', 'beginOffset': 26955, 'endOffset': 26959, 'confidence': 0.99642974}, {'text': 'U.S.', 'beginOffset': 27339, 'endOffset': 27343, 'confidence': 0.9996493}, {'text': 'U.S', 'beginOffset': 27596, 'endOffset': 27599, 'confidence': 0.999701}, {'text': 'U.S.', 'beginOffset': 28181, 'endOffset': 28185, 'confidence': 0.99905306}, {'text': 'U.S.', 'beginOffset': 28368, 'endOffset': 28372, 'confidence': 0.99917656}, {'text': 'U.S.', 'beginOffset': 29760, 'endOffset': 29764, 'confidence': 0.9972036}, {'text': 'U.S.', 'beginOffset': 30927, 'endOffset': 30931, 'confidence': 0.996618}, {'text': 'U.S.', 'beginOffset': 32851, 'endOffset': 32855, 'confidence': 0.99980396}, {'text': 'U.S.', 'beginOffset': 40163, 'endOffset': 40167, 'confidence': 0.9995987}, {'text': 'U.S.', 'beginOffset': 40505, 'endOffset': 40509, 'confidence': 0.9959871}, {'text': 'U.S.', 'beginOffset': 41215, 'endOffset': 41219, 'confidence': 0.99899906}, {'text': 'U.S.', 'beginOffset': 41874, 'endOffset': 41878, 'confidence': 0.99989855}, {'text': 'U.S.', 'beginOffset': 42757, 'endOffset': 42761, 'confidence': 0.9443944}, {'text': 'U.S.', 'beginOffset': 42949, 'endOffset': 42953, 'confidence': 0.999218}]}, {'name': 'United Kingdom', 'confidence': 0.9997085, 'salience': 0.0, 'isCustom': False, 'allUris': [], 'allTypes': [{'name': 'location', 'diffbotUri': 'https://diffbot.com/entity/EiCyWUm4lNziqgLHx47iAIQ', 'dbpediaUri': 'http://dbpedia.org/ontology/Place'}], 'mentions': [{'text': 'United Kingdom', 'beginOffset': 40511, 'endOffset': 40525, 'confidence': 0.9997085}]}, {'name': '6,000', 'confidence': 0.96687406, 'salience': 0.0, 'isCustom': False, 'allUris': [], 'allTypes': [{'name': 'number', 'diffbotUri': 'https://diffbot.com/entity/E7TnJgFyiMYqQUg3cvm8I3g'}], 'mentions': [{'text': 'over 6,000', 'beginOffset': 40750, 'endOffset': 40760, 'confidence': 0.96687406}]}, {'name': '2024', 'confidence': 0.9934169, 'salience': 0.0, 'isCustom': False, 'allUris': [], 'allTypes': [{'name': 'date', 'diffbotUri': 'https://diffbot.com/entity/EGTSOJhZ0NnqIjbjgQ8pyLg'}], 'mentions': [{'text': '2024', 'beginOffset': 13112, 'endOffset': 13116, 'confidence': 0.96172404}, {'text': '2024', 'beginOffset': 42257, 'endOffset': 42261, 'confidence': 0.9934169}, {'text': '2024', 'beginOffset': 42971, 'endOffset': 42975, 'confidence': 0.8739427}]}, {'name': '2032', 'confidence': 0.9964169, 'salience': 0.0, 'isCustom': False, 'allUris': [], 'allTypes': [{'name': 'date', 'diffbotUri': 'https://diffbot.com/entity/EGTSOJhZ0NnqIjbjgQ8pyLg'}], 'mentions': [{'text': '2032', 'beginOffset': 21474, 'endOffset': 21478, 'confidence': 0.8853954}, {'text': '2032', 'beginOffset': 23688, 'endOffset': 23692, 'confidence': 0.9964169}, {'text': '2032', 'beginOffset': 24503, 'endOffset': 24507, 'confidence': 0.9955058}]}, {'name': 'Federal Energy Regulatory Commission', 'confidence': 0.9995609, 'salience': 0.0, 'isCustom': False, 'allUris': [], 'allTypes': [{'name': 'organization', 'diffbotUri': 'https://diffbot.com/entity/EN1ClYEdMMQCxB6AWTkT3mA', 'dbpediaUri': 'http://dbpedia.org/ontology/Organisation'}], 'mentions': [{'text': 'Federal Energy Regulatory Commission', 'beginOffset': 22462, 'endOffset': 22498, 'confidence': 0.9995609}, {'text': 'FERC', 'beginOffset': 22507, 'endOffset': 22511, 'confidence': 0.9879458}]}, {'name': 'ESG Sustainability Council', 'confidence': 0.9994111, 'salience': 0.0, 'isCustom': False, 'allUris': [], 'allTypes': [{'name': 'organization', 'diffbotUri': 'https://diffbot.com/entity/EN1ClYEdMMQCxB6AWTkT3mA', 'dbpediaUri': 'http://dbpedia.org/ontology/Organisation'}], 'mentions': [{'text': 'ESG Sustainability Council', 'beginOffset': 38044, 'endOffset': 38070, 'confidence': 0.9994111}]}, {'name': '2023-11', 'confidence': 0.99324775, 'salience': 0.0, 'isCustom': False, 'allUris': [], 'allTypes': [{'name': 'date', 'diffbotUri': 'https://diffbot.com/entity/EGTSOJhZ0NnqIjbjgQ8pyLg'}], 'mentions': [{'text': 'November 2023', 'beginOffset': 2575, 'endOffset': 2588, 'confidence': 0.99324775}]}, {'name': 'China', 'confidence': 0.99993134, 'salience': 0.0, 'isCustom': False, 'allUris': [], 'allTypes': [{'name': 'location', 'diffbotUri': 'https://diffbot.com/entity/EiCyWUm4lNziqgLHx47iAIQ', 'dbpediaUri': 'http://dbpedia.org/ontology/Place'}], 'mentions': [{'text': 'China', 'beginOffset': 18306, 'endOffset': 18311, 'confidence': 0.99993134}, {'text': 'China', 'beginOffset': 28069, 'endOffset': 28074, 'confidence': 0.99928576}, {'text': 'China', 'beginOffset': 32857, 'endOffset': 32862, 'confidence': 0.9995995}, {'text': 'China', 'beginOffset': 40181, 'endOffset': 40186, 'confidence': 0.9997098}]}, {'name': 'Energy Generation and Storage', 'confidence': 0.88162446, 'salience': 0.0, 'isCustom': False, 'allUris': [], 'allTypes': [{'name': 'organization', 'diffbotUri': 'https://diffbot.com/entity/EN1ClYEdMMQCxB6AWTkT3mA', 'dbpediaUri': 'http://dbpedia.org/ontology/Organisation'}], 'mentions': [{'text': 'Energy Generation and Storage', 'beginOffset': 17434, 'endOffset': 17463, 'confidence': 0.88162446}]}, {'name': '48', 'confidence': 0.9034858, 'salience': 0.0, 'isCustom': False, 'allUris': [], 'allTypes': [{'name': 'number', 'diffbotUri': 'https://diffbot.com/entity/E7TnJgFyiMYqQUg3cvm8I3g'}], 'mentions': [{'text': '48', 'beginOffset': 23232, 'endOffset': 23234, 'confidence': 0.75100386}, {'text': '48', 'beginOffset': 24067, 'endOffset': 24069, 'confidence': 0.9034858}]}, {'name': 'Nevada', 'confidence': 0.99969983, 'salience': 0.0, 'isCustom': False, 'allUris': [], 'allTypes': [{'name': 'location', 'diffbotUri': 'https://diffbot.com/entity/EiCyWUm4lNziqgLHx47iAIQ', 'dbpediaUri': 'http://dbpedia.org/ontology/Place'}], 'mentions': [{'text': 'Nevada', 'beginOffset': 17996, 'endOffset': 18002, 'confidence': 0.99969983}, {'text': 'Nevada', 'beginOffset': 18016, 'endOffset': 18022, 'confidence': 0.6785431}, {'text': 'Nevada', 'beginOffset': 42353, 'endOffset': 42359, 'confidence': 0.8908763}]}, {'name': 'SEC', 'confidence': 0.9997372, 'salience': 0.0, 'isCustom': False, 'allUris': [], 'allTypes': [{'name': 'organization', 'diffbotUri': 'https://diffbot.com/entity/EN1ClYEdMMQCxB6AWTkT3mA', 'dbpediaUri': 'http://dbpedia.org/ontology/Organisation'}], 'mentions': [{'text': 'SEC', 'beginOffset': 45251, 'endOffset': 45254, 'confidence': 0.997162}, {'text': 'SEC', 'beginOffset': 45273, 'endOffset': 45276, 'confidence': 0.9997372}, {'text': 'SEC', 'beginOffset': 45745, 'endOffset': 45748, 'confidence': 0.9986646}]}, {'name': 'United Nations Economic Commission for Europe', 'confidence': 0.99978465, 'salience': 0.0, 'isCustom': False, 'allUris': [], 'allTypes': [{'name': 'organization', 'diffbotUri': 'https://diffbot.com/entity/EN1ClYEdMMQCxB6AWTkT3mA', 'dbpediaUri': 'http://dbpedia.org/ontology/Organisation'}], 'mentions': [{'text': 'United Nations Economic Commission for Europe', 'beginOffset': 27647, 'endOffset': 27692, 'confidence': 0.99978465}, {'text': 'ECE', 'beginOffset': 27702, 'endOffset': 27705, 'confidence': 0.89474916}, {'text': 'ECE', 'beginOffset': 28190, 'endOffset': 28193, 'confidence': 0.97256976}]}, {'name': '2', 'confidence': 0.99993944, 'salience': 0.0, 'isCustom': False, 'allUris': [], 'allTypes': [{'name': 'number', 'diffbotUri': 'https://diffbot.com/entity/E7TnJgFyiMYqQUg3cvm8I3g'}], 'mentions': [{'text': 'past two years', 'beginOffset': 38893, 'endOffset': 38907, 'confidence': 0.99993944}]}, {'name': '48', 'confidence': 0.6463439, 'salience': 0.0, 'isCustom': False, 'allUris': [], 'allTypes': [{'name': 'number', 'diffbotUri': 'https://diffbot.com/entity/E7TnJgFyiMYqQUg3cvm8I3g'}], 'mentions': [{'text': '48E', 'beginOffset': 24071, 'endOffset': 24074, 'confidence': 0.6463439}]}, {'name': '600', 'confidence': 0.7214546, 'salience': 0.0, 'isCustom': False, 'allUris': [], 'allTypes': [{'name': 'number', 'diffbotUri': 'https://diffbot.com/entity/E7TnJgFyiMYqQUg3cvm8I3g'}], 'mentions': [{'text': '600', 'beginOffset': 42291, 'endOffset': 42294, 'confidence': 0.7214546}]}, {'name': '2023-12-31', 'confidence': 0.9984863, 'salience': 0.0, 'isCustom': False, 'allUris': [], 'allTypes': [{'name': 'date', 'diffbotUri': 'https://diffbot.com/entity/EGTSOJhZ0NnqIjbjgQ8pyLg'}], 'mentions': [{'text': 'December 31, 2023', 'beginOffset': 38525, 'endOffset': 38542, 'confidence': 0.9984863}]}, {'name': '140,473', 'confidence': 0.9985663, 'salience': 0.0, 'isCustom': False, 'allUris': [], 'allTypes': [{'name': 'number', 'diffbotUri': 'https://diffbot.com/entity/E7TnJgFyiMYqQUg3cvm8I3g'}], 'mentions': [{'text': '140,473', 'beginOffset': 38581, 'endOffset': 38588, 'confidence': 0.9985663}]}, {'name': 'Annual Reports on Form 10-K', 'confidence': 0.73619694, 'salience': 0.0, 'isCustom': False, 'allUris': [], 'allTypes': [{'name': 'skill', 'diffbotUri': 'https://diffbot.com/entity/EvfbHngnSNVOh7ZBM5XTywQ'}, {'name': 'product', 'diffbotUri': 'https://diffbot.com/entity/EgSPUye7QPcyQoPylO8biMQ'}, {'name': 'creative work', 'diffbotUri': 'https://diffbot.com/entity/EnuIck9oSO_2b9wNK6CD3Vw', 'dbpediaUri': 'http://dbpedia.org/ontology/Work'}], 'mentions': [{'text': 'Annual Reports on Form 10-K', 'beginOffset': 45106, 'endOffset': 45133, 'confidence': 0.73619694}]}, {'name': '1', 'confidence': 0.9953819, 'salience': 0.0, 'isCustom': False, 'allUris': [], 'allTypes': [{'name': 'number', 'diffbotUri': 'https://diffbot.com/entity/E7TnJgFyiMYqQUg3cvm8I3g'}], 'mentions': [{'text': '1', 'beginOffset': 6, 'endOffset': 7, 'confidence': 0.9953819}]}, {'name': '1', 'confidence': 0.9693983, 'salience': 0.0, 'isCustom': False, 'allUris': [], 'allTypes': [{'name': 'number', 'diffbotUri': 'https://diffbot.com/entity/E7TnJgFyiMYqQUg3cvm8I3g'}], 'mentions': [{'text': 'day one', 'beginOffset': 40968, 'endOffset': 40975, 'confidence': 0.9615613}, {'text': 'day one', 'beginOffset': 44052, 'endOffset': 44059, 'confidence': 0.9693983}]}, {'name': 'U.S. Department of Transportation', 'confidence': 0.9978275, 'salience': 0.0, 'isCustom': False, 'allUris': [], 'allTypes': [{'name': 'organization', 'diffbotUri': 'https://diffbot.com/entity/EN1ClYEdMMQCxB6AWTkT3mA', 'dbpediaUri': 'http://dbpedia.org/ontology/Organisation'}], 'mentions': [{'text': 'U.S. Department of Transportation', 'beginOffset': 26231, 'endOffset': 26264, 'confidence': 0.9978275}]}, {'name': '2', 'confidence': 0.9100253, 'salience': 0.0, 'isCustom': False, 'allUris': [], 'allTypes': [{'name': 'number', 'diffbotUri': 'https://diffbot.com/entity/E7TnJgFyiMYqQUg3cvm8I3g'}], 'mentions': [{'text': 'two', 'beginOffset': 1203, 'endOffset': 1206, 'confidence': 0.9100253}]}, {'name': '2022-11', 'confidence': 0.9893225, 'salience': 0.0, 'isCustom': False, 'allUris': [], 'allTypes': [{'name': 'date', 'diffbotUri': 'https://diffbot.com/entity/EGTSOJhZ0NnqIjbjgQ8pyLg'}], 'mentions': [{'text': 'November 2022', 'beginOffset': 12600, 'endOffset': 12613, 'confidence': 0.9893225}]}, {'name': 'Texas', 'confidence': 0.9995339, 'salience': 0.0, 'isCustom': False, 'allUris': [], 'allTypes': [{'name': 'location', 'diffbotUri': 'https://diffbot.com/entity/EiCyWUm4lNziqgLHx47iAIQ', 'dbpediaUri': 'http://dbpedia.org/ontology/Place'}], 'mentions': [{'text': 'Texas', 'beginOffset': 17956, 'endOffset': 17961, 'confidence': 0.9995339}, {'text': 'Texas', 'beginOffset': 17975, 'endOffset': 17980, 'confidence': 0.6026241}, {'text': 'Texas', 'beginOffset': 42373, 'endOffset': 42378, 'confidence': 0.9042769}]}, {'name': 'solar energy', 'confidence': 0.51, 'salience': 0.0, 'isCustom': False, 'allUris': [], 'allTypes': [{'name': 'organization type', 'diffbotUri': 'https://diffbot.com/entity/E10DLO8yrMs26p-QOobvaJw'}], 'mentions': [{'text': 'solar energy', 'beginOffset': 34045, 'endOffset': 34057, 'confidence': 0.51}]}, {'name': 'Environmental Protection Agency', 'confidence': 0.9995684, 'salience': 0.0, 'isCustom': False, 'allUris': [], 'allTypes': [{'name': 'organization', 'diffbotUri': 'https://diffbot.com/entity/EN1ClYEdMMQCxB6AWTkT3mA', 'dbpediaUri': 'http://dbpedia.org/ontology/Organisation'}], 'mentions': [{'text': 'Environmental Protection Agency', 'beginOffset': 26273, 'endOffset': 26304, 'confidence': 0.9995684}, {'text': 'EPA', 'beginOffset': 26317, 'endOffset': 26320, 'confidence': 0.99686}]}, {'name': 'New Car Assessment Program', 'confidence': 0.9971559, 'salience': 0.0, 'isCustom': False, 'allUris': [], 'allTypes': [{'name': 'organization', 'diffbotUri': 'https://diffbot.com/entity/EN1ClYEdMMQCxB6AWTkT3mA', 'dbpediaUri': 'http://dbpedia.org/ontology/Organisation'}], 'mentions': [{'text': 'New Car Assessment Program', 'beginOffset': 26334, 'endOffset': 26360, 'confidence': 0.9971559}]}, {'name': 'Monterrey', 'confidence': 0.99722505, 'salience': 0.0, 'isCustom': False, 'allUris': [], 'allTypes': [{'name': 'location', 'diffbotUri': 'https://diffbot.com/entity/EiCyWUm4lNziqgLHx47iAIQ', 'dbpediaUri': 'http://dbpedia.org/ontology/Place'}], 'mentions': [{'text': 'Monterrey', 'beginOffset': 18644, 'endOffset': 18653, 'confidence': 0.99722505}]}, {'name': 'New York', 'confidence': 0.99899596, 'salience': 0.0, 'isCustom': False, 'allUris': [], 'allTypes': [{'name': 'location', 'diffbotUri': 'https://diffbot.com/entity/EiCyWUm4lNziqgLHx47iAIQ', 'dbpediaUri': 'http://dbpedia.org/ontology/Place'}], 'mentions': [{'text': 'New York', 'beginOffset': 17913, 'endOffset': 17921, 'confidence': 0.99770397}, {'text': 'New York', 'beginOffset': 17935, 'endOffset': 17943, 'confidence': 0.99814045}, {'text': 'New York', 'beginOffset': 42395, 'endOffset': 42403, 'confidence': 0.99899596}]}, {'name': '5', 'confidence': 0.99785787, 'salience': 0.0, 'isCustom': False, 'allUris': [], 'allTypes': [{'name': 'number', 'diffbotUri': 'https://diffbot.com/entity/E7TnJgFyiMYqQUg3cvm8I3g'}], 'mentions': [{'text': 'between one to four years', 'beginOffset': 41763, 'endOffset': 41788, 'confidence': 0.99785787}]}, {'name': 'Annual Report on Form 10-K', 'confidence': 0.9762599, 'salience': 0.0, 'isCustom': False, 'allUris': [], 'allTypes': [{'name': 'skill', 'diffbotUri': 'https://diffbot.com/entity/EvfbHngnSNVOh7ZBM5XTywQ'}, {'name': 'product', 'diffbotUri': 'https://diffbot.com/entity/EgSPUye7QPcyQoPylO8biMQ'}, {'name': 'creative work', 'diffbotUri': 'https://diffbot.com/entity/EnuIck9oSO_2b9wNK6CD3Vw', 'dbpediaUri': 'http://dbpedia.org/ontology/Work'}], 'mentions': [{'text': 'Annual Report on Form 10-K', 'beginOffset': 20819, 'endOffset': 20845, 'confidence': 0.87014645}, {'text': 'Annual Report on Form 10-K', 'beginOffset': 21993, 'endOffset': 22019, 'confidence': 0.9762599}, {'text': 'Annual Report on Form 10-K', 'beginOffset': 23168, 'endOffset': 23194, 'confidence': 0.8617825}]}, {'name': 'Mexico', 'confidence': 0.9987804, 'salience': 0.0, 'isCustom': False, 'allUris': [], 'allTypes': [{'name': 'location', 'diffbotUri': 'https://diffbot.com/entity/EiCyWUm4lNziqgLHx47iAIQ', 'dbpediaUri': 'http://dbpedia.org/ontology/Place'}], 'mentions': [{'text': 'Mexico', 'beginOffset': 18655, 'endOffset': 18661, 'confidence': 0.9987804}]}, {'name': 'Gigafactory', 'confidence': 0.9030801, 'salience': 0.0, 'isCustom': False, 'allUris': [], 'allTypes': [{'name': 'location', 'diffbotUri': 'https://diffbot.com/entity/EiCyWUm4lNziqgLHx47iAIQ', 'dbpediaUri': 'http://dbpedia.org/ontology/Place'}], 'mentions': [{'text': 'Gigafactory', 'beginOffset': 17923, 'endOffset': 17934, 'confidence': 0.72815025}, {'text': 'Gigafactory', 'beginOffset': 17963, 'endOffset': 17974, 'confidence': 0.80655056}, {'text': 'Gigafactory', 'beginOffset': 18004, 'endOffset': 18015, 'confidence': 0.8476274}, {'text': 'Gigafactory', 'beginOffset': 42341, 'endOffset': 42352, 'confidence': 0.7670857}, {'text': 'Gigafactory', 'beginOffset': 42361, 'endOffset': 42372, 'confidence': 0.9030801}, {'text': 'Gigafactory', 'beginOffset': 42383, 'endOffset': 42394, 'confidence': 0.7347366}]}, {'name': '2025', 'confidence': 0.97317183, 'salience': 0.0, 'isCustom': False, 'allUris': [], 'allTypes': [{'name': 'date', 'diffbotUri': 'https://diffbot.com/entity/EGTSOJhZ0NnqIjbjgQ8pyLg'}], 'mentions': [{'text': '2025', 'beginOffset': 13179, 'endOffset': 13183, 'confidence': 0.97317183}]}, {'name': '2022', 'confidence': 0.9965952, 'salience': 0.0, 'isCustom': False, 'allUris': [], 'allTypes': [{'name': 'date', 'diffbotUri': 'https://diffbot.com/entity/EGTSOJhZ0NnqIjbjgQ8pyLg'}], 'mentions': [{'text': '2022', 'beginOffset': 2832, 'endOffset': 2836, 'confidence': 0.9965952}]}, {'name': 'Korea', 'confidence': 0.9997619, 'salience': 0.0, 'isCustom': False, 'allUris': [], 'allTypes': [{'name': 'location', 'diffbotUri': 'https://diffbot.com/entity/EiCyWUm4lNziqgLHx47iAIQ', 'dbpediaUri': 'http://dbpedia.org/ontology/Place'}], 'mentions': [{'text': 'Korea', 'beginOffset': 41902, 'endOffset': 41907, 'confidence': 0.9997619}]}, {'name': 'SAE International', 'confidence': 0.9997843, 'salience': 0.0, 'isCustom': False, 'allUris': [], 'allTypes': [{'name': 'organization', 'diffbotUri': 'https://diffbot.com/entity/EN1ClYEdMMQCxB6AWTkT3mA', 'dbpediaUri': 'http://dbpedia.org/ontology/Organisation'}], 'mentions': [{'text': 'SAE International', 'beginOffset': 13201, 'endOffset': 13218, 'confidence': 0.9997843}]}, {'name': '2022-08-16', 'confidence': 0.997771, 'salience': 0.0, 'isCustom': False, 'allUris': [], 'allTypes': [{'name': 'date', 'diffbotUri': 'https://diffbot.com/entity/EGTSOJhZ0NnqIjbjgQ8pyLg'}], 'mentions': [{'text': 'August 16, 2022', 'beginOffset': 20918, 'endOffset': 20933, 'confidence': 0.997771}]}, {'name': 'power electronics', 'confidence': 0.51, 'salience': 0.0, 'isCustom': False, 'allUris': [], 'allTypes': [{'name': 'skill', 'diffbotUri': 'https://diffbot.com/entity/EvfbHngnSNVOh7ZBM5XTywQ'}, {'name': 'field of work', 'diffbotUri': 'https://diffbot.com/entity/EjGOLMsQZOGSg549SwYfFyQ'}], 'mentions': [{'text': 'power electronics', 'beginOffset': 7985, 'endOffset': 8002, 'confidence': 0.51}]}, {'name': 'Germany', 'confidence': 0.9998275, 'salience': 0.0, 'isCustom': False, 'allUris': [], 'allTypes': [{'name': 'location', 'diffbotUri': 'https://diffbot.com/entity/EiCyWUm4lNziqgLHx47iAIQ', 'dbpediaUri': 'http://dbpedia.org/ontology/Place'}], 'mentions': [{'text': 'Germany', 'beginOffset': 18339, 'endOffset': 18346, 'confidence': 0.99943465}, {'text': 'Germany', 'beginOffset': 40169, 'endOffset': 40176, 'confidence': 0.9998275}, {'text': 'Germany', 'beginOffset': 40530, 'endOffset': 40537, 'confidence': 0.9990885}, {'text': 'Germany', 'beginOffset': 41912, 'endOffset': 41919, 'confidence': 0.9992693}]}, {'name': 'Solar Energy System Incentives', 'confidence': 0.8689756, 'salience': 0.0, 'isCustom': False, 'allUris': [], 'allTypes': [{'name': 'organization', 'diffbotUri': 'https://diffbot.com/entity/EN1ClYEdMMQCxB6AWTkT3mA', 'dbpediaUri': 'http://dbpedia.org/ontology/Organisation'}], 'mentions': [{'text': 'Solar Energy System Incentives', 'beginOffset': 23703, 'endOffset': 23733, 'confidence': 0.8689756}]}, {'name': 'Austin Community College', 'confidence': 0.9999069, 'salience': 0.0, 'isCustom': False, 'allUris': [], 'allTypes': [{'name': 'organization', 'diffbotUri': 'https://diffbot.com/entity/EN1ClYEdMMQCxB6AWTkT3mA', 'dbpediaUri': 'http://dbpedia.org/ontology/Organisation'}], 'mentions': [{'text': 'Austin Community College', 'beginOffset': 42604, 'endOffset': 42628, 'confidence': 0.9999069}]}, {'name': 'J3400', 'confidence': 0.96967614, 'salience': 0.0, 'isCustom': False, 'allUris': [], 'allTypes': [{'name': 'organization', 'diffbotUri': 'https://diffbot.com/entity/EN1ClYEdMMQCxB6AWTkT3mA', 'dbpediaUri': 'http://dbpedia.org/ontology/Organisation'}], 'mentions': [{'text': 'J3400', 'beginOffset': 13269, 'endOffset': 13274, 'confidence': 0.96967614}]}, {'name': 'Australia', 'confidence': 0.9998964, 'salience': 0.0, 'isCustom': False, 'allUris': [], 'allTypes': [{'name': 'location', 'diffbotUri': 'https://diffbot.com/entity/EiCyWUm4lNziqgLHx47iAIQ', 'dbpediaUri': 'http://dbpedia.org/ontology/Place'}], 'mentions': [{'text': 'Australia', 'beginOffset': 41880, 'endOffset': 41889, 'confidence': 0.9998964}]}, {'name': 'National Highway Traffic Safety Administration', 'confidence': 0.9998702, 'salience': 0.0, 'isCustom': False, 'allUris': [], 'allTypes': [{'name': 'organization', 'diffbotUri': 'https://diffbot.com/entity/EN1ClYEdMMQCxB6AWTkT3mA', 'dbpediaUri': 'http://dbpedia.org/ontology/Organisation'}], 'mentions': [{'text': 'National Highway Traffic Safety Administration', 'beginOffset': 24616, 'endOffset': 24662, 'confidence': 0.9997192}, {'text': 'NHTSA', 'beginOffset': 24671, 'endOffset': 24676, 'confidence': 0.99432486}, {'text': 'NHTSA', 'beginOffset': 24780, 'endOffset': 24785, 'confidence': 0.9987446}, {'text': 'NHTSA', 'beginOffset': 25207, 'endOffset': 25212, 'confidence': 0.9981487}, {'text': 'NHTSA', 'beginOffset': 25382, 'endOffset': 25387, 'confidence': 0.99850094}, {'text': 'NHTSA', 'beginOffset': 26386, 'endOffset': 26391, 'confidence': 0.9998702}, {'text': 'NHTSA', 'beginOffset': 27048, 'endOffset': 27053, 'confidence': 0.9995597}]}, {'name': 'Hong Kong', 'confidence': 0.999871, 'salience': 0.0, 'isCustom': False, 'allUris': [], 'allTypes': [{'name': 'location', 'diffbotUri': 'https://diffbot.com/entity/EiCyWUm4lNziqgLHx47iAIQ', 'dbpediaUri': 'http://dbpedia.org/ontology/Place'}], 'mentions': [{'text': 'Hong Kong', 'beginOffset': 41891, 'endOffset': 41900, 'confidence': 0.999871}]}, {'name': 'IRC', 'confidence': 0.9644549, 'salience': 0.0, 'isCustom': False, 'allUris': [], 'allTypes': [{'name': 'organization', 'diffbotUri': 'https://diffbot.com/entity/EN1ClYEdMMQCxB6AWTkT3mA', 'dbpediaUri': 'http://dbpedia.org/ontology/Organisation'}], 'mentions': [{'text': 'IRC', 'beginOffset': 24090, 'endOffset': 24093, 'confidence': 0.9644549}]}, {'name': '0', 'confidence': 0.81100655, 'salience': 0.0, 'isCustom': False, 'allUris': [], 'allTypes': [{'name': 'number', 'diffbotUri': 'https://diffbot.com/entity/E7TnJgFyiMYqQUg3cvm8I3g'}], 'mentions': [{'text': 'zero', 'beginOffset': 37107, 'endOffset': 37111, 'confidence': 0.6128353}, {'text': 'zero', 'beginOffset': 39342, 'endOffset': 39346, 'confidence': 0.81100655}]}, {'name': 'Buffalo', 'confidence': 0.99979895, 'salience': 0.0, 'isCustom': False, 'allUris': [], 'allTypes': [{'name': 'location', 'diffbotUri': 'https://diffbot.com/entity/EiCyWUm4lNziqgLHx47iAIQ', 'dbpediaUri': 'http://dbpedia.org/ontology/Place'}], 'mentions': [{'text': 'Buffalo', 'beginOffset': 17904, 'endOffset': 17911, 'confidence': 0.99979895}]}, {'name': '2023', 'confidence': 0.99797696, 'salience': 0.0, 'isCustom': False, 'allUris': [], 'allTypes': [{'name': 'date', 'diffbotUri': 'https://diffbot.com/entity/EGTSOJhZ0NnqIjbjgQ8pyLg'}], 'mentions': [{'text': '2023', 'beginOffset': 40106, 'endOffset': 40110, 'confidence': 0.99797696}, {'text': '2023', 'beginOffset': 40542, 'endOffset': 40546, 'confidence': 0.99718696}, {'text': '2023', 'beginOffset': 42235, 'endOffset': 42239, 'confidence': 0.99448794}]}, {'name': 'California', 'confidence': 0.99953115, 'salience': 0.0, 'isCustom': False, 'allUris': [], 'allTypes': [{'name': 'location', 'diffbotUri': 'https://diffbot.com/entity/EiCyWUm4lNziqgLHx47iAIQ', 'dbpediaUri': 'http://dbpedia.org/ontology/Place'}], 'mentions': [{'text': 'California', 'beginOffset': 17889, 'endOffset': 17899, 'confidence': 0.88779753}, {'text': 'California', 'beginOffset': 22629, 'endOffset': 22639, 'confidence': 0.99953115}]}, {'name': '350', 'confidence': 0.65766835, 'salience': 0.0, 'isCustom': False, 'allUris': [], 'allTypes': [{'name': 'number', 'diffbotUri': 'https://diffbot.com/entity/E7TnJgFyiMYqQUg3cvm8I3g'}], 'mentions': [{'text': 'over 350', 'beginOffset': 40557, 'endOffset': 40565, 'confidence': 0.65766835}]}, {'name': 'California Self Generation Incentive Program', 'confidence': 0.7058981, 'salience': 0.0, 'isCustom': False, 'allUris': [], 'allTypes': [{'name': 'organization', 'diffbotUri': 'https://diffbot.com/entity/EN1ClYEdMMQCxB6AWTkT3mA', 'dbpediaUri': 'http://dbpedia.org/ontology/Organisation'}], 'mentions': [{'text': 'California Self Generation Incentive Program', 'beginOffset': 22796, 'endOffset': 22840, 'confidence': 0.7058981}]}, {'name': '373', 'confidence': 0.9870695, 'salience': 0.0, 'isCustom': False, 'allUris': [], 'allTypes': [{'name': 'number', 'diffbotUri': 'https://diffbot.com/entity/E7TnJgFyiMYqQUg3cvm8I3g'}], 'mentions': [{'text': '373', 'beginOffset': 42197, 'endOffset': 42200, 'confidence': 0.9870695}]}, {'name': '2021', 'confidence': 0.99490094, 'salience': 0.0, 'isCustom': False, 'allUris': [], 'allTypes': [{'name': 'date', 'diffbotUri': 'https://diffbot.com/entity/EGTSOJhZ0NnqIjbjgQ8pyLg'}], 'mentions': [{'text': '2021', 'beginOffset': 17029, 'endOffset': 17033, 'confidence': 0.99490094}]}, {'name': 'European Defence Ministries', 'confidence': 0.9994698, 'salience': 0.0, 'isCustom': False, 'allUris': [], 'allTypes': [{'name': 'organization', 'diffbotUri': 'https://diffbot.com/entity/EN1ClYEdMMQCxB6AWTkT3mA', 'dbpediaUri': 'http://dbpedia.org/ontology/Organisation'}], 'mentions': [{'text': 'European Defence Ministries', 'beginOffset': 41345, 'endOffset': 41372, 'confidence': 0.9994698}]}, {'name': 'Solar Energy', 'confidence': 0.68528044, 'salience': 0.0, 'isCustom': False, 'allUris': [], 'allTypes': [{'name': 'organization', 'diffbotUri': 'https://diffbot.com/entity/EN1ClYEdMMQCxB6AWTkT3mA', 'dbpediaUri': 'http://dbpedia.org/ontology/Organisation'}], 'mentions': [{'text': 'Solar Energy', 'beginOffset': 30876, 'endOffset': 30888, 'confidence': 0.68528044}]}, {'name': '7', 'confidence': 0.98877794, 'salience': 0.0, 'isCustom': False, 'allUris': [], 'allTypes': [{'name': 'number', 'diffbotUri': 'https://diffbot.com/entity/E7TnJgFyiMYqQUg3cvm8I3g'}], 'mentions': [{'text': 'up to seven', 'beginOffset': 2311, 'endOffset': 2322, 'confidence': 0.98877794}, {'text': 'up to seven', 'beginOffset': 2417, 'endOffset': 2428, 'confidence': 0.94858044}]}, {'name': '4', 'confidence': 0.62155026, 'salience': 0.0, 'isCustom': False, 'allUris': [], 'allTypes': [{'name': 'number', 'diffbotUri': 'https://diffbot.com/entity/E7TnJgFyiMYqQUg3cvm8I3g'}], 'mentions': [{'text': 'four', 'beginOffset': 2095, 'endOffset': 2099, 'confidence': 0.62155026}]}, {'name': '100', 'confidence': 0.99825484, 'salience': 0.0, 'isCustom': False, 'allUris': [], 'allTypes': [{'name': 'number', 'diffbotUri': 'https://diffbot.com/entity/E7TnJgFyiMYqQUg3cvm8I3g'}], 'mentions': [{'text': 'hundreds', 'beginOffset': 18943, 'endOffset': 18951, 'confidence': 0.99825484}]}, {'name': 'Apprentice', 'confidence': 0.63754624, 'salience': 0.0, 'isCustom': False, 'allUris': [], 'allTypes': [{'name': 'organization', 'diffbotUri': 'https://diffbot.com/entity/EN1ClYEdMMQCxB6AWTkT3mA', 'dbpediaUri': 'http://dbpedia.org/ontology/Organisation'}], 'mentions': [{'text': 'Apprentice', 'beginOffset': 41813, 'endOffset': 41823, 'confidence': 0.63754624}]}, {'name': '2', 'confidence': 0.9963225, 'salience': 0.0, 'isCustom': False, 'allUris': [], 'allTypes': [{'name': 'number', 'diffbotUri': 'https://diffbot.com/entity/E7TnJgFyiMYqQUg3cvm8I3g'}], 'mentions': [{'text': 'nearly two-thirds', 'beginOffset': 38679, 'endOffset': 38696, 'confidence': 0.9963225}]}, {'name': '7,500 USD', 'confidence': 0.9995334, 'salience': 0.0, 'isCustom': False, 'allUris': [], 'allTypes': [{'name': 'money', 'diffbotUri': 'https://diffbot.com/entity/ELRzIOsrYN-uw703z4KTm-A'}], 'mentions': [{'text': 'up to $7,500', 'beginOffset': 21370, 'endOffset': 21382, 'confidence': 0.9995334}]}, {'name': 'Reno', 'confidence': 0.9998202, 'salience': 0.0, 'isCustom': False, 'allUris': [], 'allTypes': [{'name': 'location', 'diffbotUri': 'https://diffbot.com/entity/EiCyWUm4lNziqgLHx47iAIQ', 'dbpediaUri': 'http://dbpedia.org/ontology/Place'}], 'mentions': [{'text': 'Reno', 'beginOffset': 17990, 'endOffset': 17994, 'confidence': 0.9998202}]}, {'name': '5', 'confidence': 0.9973309, 'salience': 0.0, 'isCustom': False, 'allUris': [], 'allTypes': [{'name': 'number', 'diffbotUri': 'https://diffbot.com/entity/E7TnJgFyiMYqQUg3cvm8I3g'}], 'mentions': [{'text': 'more than five years', 'beginOffset': 38834, 'endOffset': 38854, 'confidence': 0.9973309}]}, {'name': '1,000', 'confidence': 0.9651748, 'salience': 0.0, 'isCustom': False, 'allUris': [], 'allTypes': [{'name': 'number', 'diffbotUri': 'https://diffbot.com/entity/E7TnJgFyiMYqQUg3cvm8I3g'}], 'mentions': [{'text': 'thousands', 'beginOffset': 18902, 'endOffset': 18911, 'confidence': 0.9651748}]}, {'name': 'U.S. Chamber of Commerce', 'confidence': 0.9991264, 'salience': 0.0, 'isCustom': False, 'allUris': [], 'allTypes': [{'name': 'organization', 'diffbotUri': 'https://diffbot.com/entity/EN1ClYEdMMQCxB6AWTkT3mA', 'dbpediaUri': 'http://dbpedia.org/ontology/Organisation'}], 'mentions': [{'text': 'U.S. Chamber of Commerce', 'beginOffset': 41411, 'endOffset': 41435, 'confidence': 0.9991264}]}, {'name': '2022-12-31', 'confidence': 0.99842936, 'salience': 0.0, 'isCustom': False, 'allUris': [], 'allTypes': [{'name': 'date', 'diffbotUri': 'https://diffbot.com/entity/EGTSOJhZ0NnqIjbjgQ8pyLg'}], 'mentions': [{'text': 'December 31, 2022', 'beginOffset': 21063, 'endOffset': 21080, 'confidence': 0.99842936}]}, {'name': 'Austin', 'confidence': 0.99986804, 'salience': 0.0, 'isCustom': False, 'allUris': [], 'allTypes': [{'name': 'location', 'diffbotUri': 'https://diffbot.com/entity/EiCyWUm4lNziqgLHx47iAIQ', 'dbpediaUri': 'http://dbpedia.org/ontology/Place'}], 'mentions': [{'text': 'Austin', 'beginOffset': 17948, 'endOffset': 17954, 'confidence': 0.99986804}]}, {'name': '5', 'confidence': 0.99802893, 'salience': 0.0, 'isCustom': False, 'allUris': [], 'allTypes': [{'name': 'number', 'diffbotUri': 'https://diffbot.com/entity/E7TnJgFyiMYqQUg3cvm8I3g'}], 'mentions': [{'text': 'five', 'beginOffset': 2004, 'endOffset': 2008, 'confidence': 0.99739933}, {'text': 'five', 'beginOffset': 41380, 'endOffset': 41384, 'confidence': 0.99802893}]}, {'name': 'Hire our Heroes', 'confidence': 0.98717725, 'salience': 0.0, 'isCustom': False, 'allUris': [], 'allTypes': [{'name': 'organization', 'diffbotUri': 'https://diffbot.com/entity/EN1ClYEdMMQCxB6AWTkT3mA', 'dbpediaUri': 'http://dbpedia.org/ontology/Organisation'}], 'mentions': [{'text': 'Hire our Heroes', 'beginOffset': 41444, 'endOffset': 41459, 'confidence': 0.98717725}]}, {'name': 'Shanghai', 'confidence': 0.9367737, 'salience': 0.0, 'isCustom': False, 'allUris': [], 'allTypes': [{'name': 'location', 'diffbotUri': 'https://diffbot.com/entity/EiCyWUm4lNziqgLHx47iAIQ', 'dbpediaUri': 'http://dbpedia.org/ontology/Place'}], 'mentions': [{'text': 'Shanghai', 'beginOffset': 18325, 'endOffset': 18333, 'confidence': 0.9367737}]}, {'name': 'Tesla', 'confidence': 0.9999672, 'salience': 0.0, 'isCustom': False, 'allUris': [], 'allTypes': [{'name': 'organization', 'diffbotUri': 'https://diffbot.com/entity/EN1ClYEdMMQCxB6AWTkT3mA', 'dbpediaUri': 'http://dbpedia.org/ontology/Organisation'}], 'mentions': [{'text': 'Tesla', 'beginOffset': 2922, 'endOffset': 2927, 'confidence': 0.5555123}, {'text': 'Tesla', 'beginOffset': 7312, 'endOffset': 7317, 'confidence': 0.98101866}, {'text': 'Tesla', 'beginOffset': 11052, 'endOffset': 11057, 'confidence': 0.9998292}, {'text': 'Tesla', 'beginOffset': 11508, 'endOffset': 11513, 'confidence': 0.9997143}, {'text': 'Tesla', 'beginOffset': 11521, 'endOffset': 11526, 'confidence': 0.9992262}, {'text': 'Tesla', 'beginOffset': 11566, 'endOffset': 11571, 'confidence': 0.9999094}, {'text': 'Tesla', 'beginOffset': 11585, 'endOffset': 11590, 'confidence': 0.9996642}, {'text': 'Tesla', 'beginOffset': 11599, 'endOffset': 11604, 'confidence': 0.9994154}, {'text': 'Tesla', 'beginOffset': 11737, 'endOffset': 11742, 'confidence': 0.99994564}, {'text': 'Tesla', 'beginOffset': 11857, 'endOffset': 11862, 'confidence': 0.9998271}, {'text': 'Tesla', 'beginOffset': 12465, 'endOffset': 12470, 'confidence': 0.9672182}, {'text': 'Tesla', 'beginOffset': 13327, 'endOffset': 13332, 'confidence': 0.79745525}, {'text': 'Tesla', 'beginOffset': 13836, 'endOffset': 13841, 'confidence': 0.9981377}, {'text': 'Tesla', 'beginOffset': 14693, 'endOffset': 14698, 'confidence': 0.654063}, {'text': 'Tesla', 'beginOffset': 15215, 'endOffset': 15220, 'confidence': 0.9947153}, {'text': 'Tesla', 'beginOffset': 21342, 'endOffset': 21347, 'confidence': 0.99940586}, {'text': 'Tesla', 'beginOffset': 36092, 'endOffset': 36097, 'confidence': 0.9907554}, {'text': 'Tesla', 'beginOffset': 38275, 'endOffset': 38280, 'confidence': 0.99989045}, {'text': 'its', 'beginOffset': 38284, 'endOffset': 38287, 'isPronoun': True, 'confidence': 0.9997377}, {'text': 'Tesla', 'beginOffset': 38364, 'endOffset': 38369, 'confidence': 0.99984264}, {'text': 'its', 'beginOffset': 38402, 'endOffset': 38405, 'isPronoun': True, 'confidence': 0.9997428}, {'text': 'We', 'beginOffset': 38590, 'endOffset': 38592, 'isPronoun': True, 'confidence': 0.9999057}, {'text': 'Tesla', 'beginOffset': 38824, 'endOffset': 38829, 'confidence': 0.99991894}, {'text': 'Tesla', 'beginOffset': 38856, 'endOffset': 38861, 'confidence': 0.9999274}, {'text': 'We', 'beginOffset': 39047, 'endOffset': 39049, 'isPronoun': True, 'confidence': 0.99994123}, {'text': 'our', 'beginOffset': 39069, 'endOffset': 39072, 'isPronoun': True, 'confidence': 0.9999409}, {'text': 'Tesla', 'beginOffset': 39143, 'endOffset': 39148, 'confidence': 0.9994604}, {'text': 'We', 'beginOffset': 39617, 'endOffset': 39619, 'isPronoun': True, 'confidence': 0.9997377}, {'text': 'Tesla', 'beginOffset': 39644, 'endOffset': 39649, 'confidence': 0.9999672}, {'text': 'Tesla', 'beginOffset': 39815, 'endOffset': 39820, 'confidence': 0.99492836}, {'text': 'Tesla', 'beginOffset': 39903, 'endOffset': 39908, 'confidence': 0.9998381}, {'text': 'we', 'beginOffset': 40112, 'endOffset': 40114, 'isPronoun': True, 'confidence': 0.9997309}, {'text': 'Tesla', 'beginOffset': 40238, 'endOffset': 40243, 'confidence': 0.99489754}, {'text': 'Tesla', 'beginOffset': 40413, 'endOffset': 40418, 'confidence': 0.9999491}, {'text': 'We', 'beginOffset': 40420, 'endOffset': 40422, 'isPronoun': True, 'confidence': 0.9992969}, {'text': 'Tesla', 'beginOffset': 40486, 'endOffset': 40491, 'confidence': 0.9977894}, {'text': 'we', 'beginOffset': 40548, 'endOffset': 40550, 'isPronoun': True, 'confidence': 0.998635}, {'text': 'Tesla', 'beginOffset': 40738, 'endOffset': 40743, 'confidence': 0.9999343}, {'text': 'We', 'beginOffset': 40816, 'endOffset': 40818, 'isPronoun': True, 'confidence': 0.99975616}, {'text': 'our', 'beginOffset': 40912, 'endOffset': 40915, 'isPronoun': True, 'confidence': 0.9998895}, {'text': 'we', 'beginOffset': 40981, 'endOffset': 40983, 'isPronoun': True, 'confidence': 0.9999249}, {'text': 'Tesla', 'beginOffset': 41608, 'endOffset': 41613, 'confidence': 0.9851657}, {'text': 'Tesla', 'beginOffset': 41977, 'endOffset': 41982, 'confidence': 0.99872285}, {'text': 'Tesla', 'beginOffset': 42181, 'endOffset': 42186, 'confidence': 0.9999486}, {'text': 'We', 'beginOffset': 42188, 'endOffset': 42190, 'isPronoun': True, 'confidence': 0.99989116}, {'text': 'our', 'beginOffset': 42245, 'endOffset': 42248, 'isPronoun': True, 'confidence': 0.999892}, {'text': 'We', 'beginOffset': 42777, 'endOffset': 42779, 'isPronoun': True, 'confidence': 0.9998778}, {'text': 'our', 'beginOffset': 42826, 'endOffset': 42829, 'isPronoun': True, 'confidence': 0.9998965}, {'text': 'Tesla', 'beginOffset': 43187, 'endOffset': 43192, 'confidence': 0.9998673}, {'text': 'our', 'beginOffset': 43310, 'endOffset': 43313, 'isPronoun': True, 'confidence': 0.9999263}, {'text': 'We', 'beginOffset': 43512, 'endOffset': 43514, 'isPronoun': True, 'confidence': 0.9999213}, {'text': 'we', 'beginOffset': 43723, 'endOffset': 43725, 'isPronoun': True, 'confidence': 0.9999151}]}], 'facts': []}\n"
     ]
    }
   ],
   "source": [
    "res = get_request({\n",
    "    \"content\": tsla_item1,\n",
    "    \"lang\": \"en\",\n",
    "    \"format\": \"plain text with title\",\n",
    "})\n",
    "\n",
    "print (res)"
   ]
  },
  {
   "cell_type": "markdown",
   "metadata": {},
   "source": [
    "### View Entities and Entity Types"
   ]
  },
  {
   "cell_type": "code",
   "execution_count": 66,
   "metadata": {},
   "outputs": [
    {
     "name": "stdout",
     "output_type": "stream",
     "text": [
      "Entity Name: Tesla Semi\n",
      "Salience: 0.8978014\n",
      "Entity Types:\n",
      "['skill', 'product', 'tool', 'vehicle']\n",
      "\n",
      "Entity Name: automotive battery\n",
      "Salience: 0.77393895\n",
      "Entity Types:\n",
      "['skill', 'product', 'tool']\n",
      "\n",
      "Entity Name: Tesla Model X\n",
      "Salience: 0.6964315\n",
      "Entity Types:\n",
      "['skill', 'product', 'tool', 'vehicle']\n",
      "\n",
      "Entity Name: solar energy\n",
      "Salience: 0.6094218\n",
      "Entity Types:\n",
      "[]\n",
      "\n",
      "Entity Name: Tesla Autopilot\n",
      "Salience: 0.5553389\n",
      "Entity Types:\n",
      "['skill', 'field of work', 'technology']\n",
      "\n",
      "Entity Name: artificial intelligence\n",
      "Salience: 0.5336387\n",
      "Entity Types:\n",
      "['skill', 'field of work', 'technology']\n",
      "\n",
      "Entity Name: electric vehicle\n",
      "Salience: 0.5048789\n",
      "Entity Types:\n",
      "['skill', 'product', 'tool', 'vehicle']\n",
      "\n"
     ]
    }
   ],
   "source": [
    "for ent in res[\"entities\"]:\n",
    "    if ent[\"salience\"] > 0.5:\n",
    "        print(\"Entity Name: \" + ent['name'])\n",
    "        print(\"Salience: \" + str(ent['salience']))\n",
    "        print(\"Entity Types:\")\n",
    "        print([ent_type[\"name\"] for ent_type in ent['allTypes']])\n",
    "        print()"
   ]
  },
  {
   "cell_type": "markdown",
   "metadata": {},
   "source": [
    "Filtering the output to retain only significant entities with a salience score greater than 0.5, we see that 7 entities were extracted from the SEC 10-K filing data. All entities are indeed relevant to Tesla as an automobile electric vehicle company with significant investments in solar energy and artificial intelligence.\n",
    "\n",
    "We also see that each entity is linked to a variety of entity types. For our knowledge graph, we are primarily interested in **company**, **product**, **industry / field of work**, and **location / country** entities. "
   ]
  },
  {
   "cell_type": "code",
   "execution_count": 13,
   "metadata": {},
   "outputs": [],
   "source": [
    "def extract_entites(res):\n",
    "    ents = pd.DataFrame.from_dict(res[\"entities\"])\n",
    "    if not ents.empty:\n",
    "        salient_ents = ents[ents[\"salience\"] > 0.5]\n",
    "        salient_ents[\"Labels\"] = None\n",
    "        for i, row in salient_ents.iterrows():\n",
    "            if len(row['allTypes']) != 0:\n",
    "                names = [ent_type[\"name\"] for ent_type in row['allTypes']]\n",
    "                if \"organization\" in names:\n",
    "                    salient_ents.loc[i,\"Labels\"] = 'company'\n",
    "                elif (\"field of work\" in names)  or (\"industry\" in names) or (\"industry\" in row['name']):\n",
    "                    salient_ents.loc[i,'Labels'] = 'industry'\n",
    "                elif \"country\" in names:\n",
    "                    salient_ents.loc[i,'Labels'] = 'country'\n",
    "                elif \"location\" in names:\n",
    "                    salient_ents.loc[i,'Labels'] = 'location'\n",
    "                elif \"product\" in names:\n",
    "                    salient_ents.loc[i,'Labels'] = 'product'\n",
    "                else:\n",
    "                    salient_ents.loc[i,'Labels'] = row['allTypes'][0]['name']\n",
    "                \n",
    "\n",
    "        fin_ents = salient_ents[['name','salience','Labels']]\n",
    "        return fin_ents\n",
    "    return ents"
   ]
  },
  {
   "cell_type": "code",
   "execution_count": null,
   "metadata": {},
   "outputs": [],
   "source": [
    "tsla_entities = extract_entites(res)\n",
    "tsla_entities.head()"
   ]
  },
  {
   "cell_type": "markdown",
   "metadata": {},
   "source": [
    "## View Relationships and Relationship Types"
   ]
  },
  {
   "cell_type": "code",
   "execution_count": 14,
   "metadata": {},
   "outputs": [],
   "source": [
    "def extract_relationships(res):\n",
    "    rels =  pd.DataFrame.from_dict(res[\"facts\"])\n",
    "    if not rels.empty:\n",
    "        for i, row in rels.iterrows():\n",
    "            rels.loc[i,\"entity\"] = row[\"entity\"][\"name\"]\n",
    "            rels.loc[i,\"property\"] = row[\"property\"][\"name\"]\n",
    "            rels.loc[i,\"value\"] = row[\"value\"][\"name\"]\n",
    "            if row[\"evidence\"] != []:\n",
    "                rels.loc[i,\"evidence\"] = row[\"evidence\"][0].get(\"passage\",None)\n",
    "        fin_rels = rels[['entity','property','value','evidence']]\n",
    "        return fin_rels\n",
    "    return rels"
   ]
  },
  {
   "cell_type": "code",
   "execution_count": null,
   "metadata": {},
   "outputs": [],
   "source": [
    "extract_relationships(res)"
   ]
  },
  {
   "cell_type": "markdown",
   "metadata": {},
   "source": [
    "Diffbot's NLP API is unable to extract any relationships from Tesla's SEC 10-K filing data. We turn to Tesla's wikipedia article as a supplementary data source."
   ]
  },
  {
   "cell_type": "markdown",
   "metadata": {},
   "source": [
    "### Supplementary Source: Wikipedia Article"
   ]
  },
  {
   "cell_type": "code",
   "execution_count": 77,
   "metadata": {},
   "outputs": [],
   "source": [
    "tesla_wiki = \"Tesla, Inc. (/ˈtɛslə/ TESS-lə or /ˈtɛzlə/ TEZ-lə[a]) is an American multinational automotive and clean energy company. Headquartered in Austin, Texas, it designs, manufactures and sells battery electric vehicles (BEVs), stationary battery energy storage devices from home to grid-scale, solar panels and solar shingles, and related products and services. \\\n",
    "    Tesla was incorporated in July 2003 by Martin Eberhard and Marc Tarpenning as Tesla Motors. Its name is a tribute to inventor and electrical engineer Nikola Tesla. In February 2004, Elon Musk joined as Tesla's largest shareholder; in 2008, he was named chief executive officer. In 2008, the company began production of its first car model, the Roadster sports car, followed by the Model S sedan in 2012, the Model X SUV in 2015, the Model 3 sedan in 2017, the Model Y crossover in 2020, the Tesla Semi truck in 2022 and the Cybertruck pickup truck in 2023. The Model 3 is the all-time best-selling plug-in electric car worldwide, and in June 2021 became the first electric car to sell 1 million units globally.[6] In 2023, the Model Y was the best-selling vehicle, of any kind, globally.[7][8][3] \\\n",
    "        Tesla is one of the world's most valuable companies in terms of market capitalization. In October 2021, Tesla temporarily became a trillion-dollar company, the seventh U.S. company to do so. In 2023, the company led the battery electric vehicle market, with 19.9% share. Also in 2023, the company was ranked 69th in the Forbes Global 2000.[9] As of March 2024, it is the world's most valuable automaker. Tesla has been the subject of lawsuits, government scrutiny, and journalistic criticism, stemming from allegations of multiple cases of whistleblower retaliation, worker rights violations such as sexual harassment and anti-union activities, safety defects leadings to dozens of recalls, the lack of a public relations department, and controversial statements from Musk including overpromising on the company's driving assist technology and product release timelines.\""
   ]
  },
  {
   "cell_type": "code",
   "execution_count": 78,
   "metadata": {},
   "outputs": [],
   "source": [
    "res = get_request({\n",
    "    \"content\": tesla_wiki,\n",
    "    \"lang\": \"en\",\n",
    "    \"format\": \"plain text with title\",\n",
    "})"
   ]
  },
  {
   "cell_type": "code",
   "execution_count": 92,
   "metadata": {},
   "outputs": [
    {
     "name": "stderr",
     "output_type": "stream",
     "text": [
      "C:\\Users\\ongai\\AppData\\Local\\Temp\\ipykernel_28788\\229648480.py:5: SettingWithCopyWarning: \n",
      "A value is trying to be set on a copy of a slice from a DataFrame.\n",
      "Try using .loc[row_indexer,col_indexer] = value instead\n",
      "\n",
      "See the caveats in the documentation: https://pandas.pydata.org/pandas-docs/stable/user_guide/indexing.html#returning-a-view-versus-a-copy\n",
      "  salient_ents[\"Labels\"] = None\n"
     ]
    },
    {
     "data": {
      "text/html": [
       "<div>\n",
       "<style scoped>\n",
       "    .dataframe tbody tr th:only-of-type {\n",
       "        vertical-align: middle;\n",
       "    }\n",
       "\n",
       "    .dataframe tbody tr th {\n",
       "        vertical-align: top;\n",
       "    }\n",
       "\n",
       "    .dataframe thead th {\n",
       "        text-align: right;\n",
       "    }\n",
       "</style>\n",
       "<table border=\"1\" class=\"dataframe\">\n",
       "  <thead>\n",
       "    <tr style=\"text-align: right;\">\n",
       "      <th></th>\n",
       "      <th>name</th>\n",
       "      <th>salience</th>\n",
       "      <th>Labels</th>\n",
       "    </tr>\n",
       "  </thead>\n",
       "  <tbody>\n",
       "    <tr>\n",
       "      <th>0</th>\n",
       "      <td>Marc Tarpenning</td>\n",
       "      <td>0.988777</td>\n",
       "      <td>person</td>\n",
       "    </tr>\n",
       "    <tr>\n",
       "      <th>1</th>\n",
       "      <td>Martin Eberhard</td>\n",
       "      <td>0.988030</td>\n",
       "      <td>person</td>\n",
       "    </tr>\n",
       "    <tr>\n",
       "      <th>2</th>\n",
       "      <td>Tesla</td>\n",
       "      <td>0.975387</td>\n",
       "      <td>company</td>\n",
       "    </tr>\n",
       "    <tr>\n",
       "      <th>3</th>\n",
       "      <td>battery electric vehicle</td>\n",
       "      <td>0.834153</td>\n",
       "      <td>product</td>\n",
       "    </tr>\n",
       "    <tr>\n",
       "      <th>4</th>\n",
       "      <td>Elon Musk</td>\n",
       "      <td>0.758810</td>\n",
       "      <td>person</td>\n",
       "    </tr>\n",
       "  </tbody>\n",
       "</table>\n",
       "</div>"
      ],
      "text/plain": [
       "                       name  salience   Labels\n",
       "0           Marc Tarpenning  0.988777   person\n",
       "1           Martin Eberhard  0.988030   person\n",
       "2                     Tesla  0.975387  company\n",
       "3  battery electric vehicle  0.834153  product\n",
       "4                 Elon Musk  0.758810   person"
      ]
     },
     "execution_count": 92,
     "metadata": {},
     "output_type": "execute_result"
    }
   ],
   "source": [
    "tsla_wiki_entities = extract_entites(res)\n",
    "tsla_wiki_entities.head()"
   ]
  },
  {
   "cell_type": "code",
   "execution_count": 95,
   "metadata": {},
   "outputs": [
    {
     "data": {
      "text/html": [
       "<div>\n",
       "<style scoped>\n",
       "    .dataframe tbody tr th:only-of-type {\n",
       "        vertical-align: middle;\n",
       "    }\n",
       "\n",
       "    .dataframe tbody tr th {\n",
       "        vertical-align: top;\n",
       "    }\n",
       "\n",
       "    .dataframe thead th {\n",
       "        text-align: right;\n",
       "    }\n",
       "</style>\n",
       "<table border=\"1\" class=\"dataframe\">\n",
       "  <thead>\n",
       "    <tr style=\"text-align: right;\">\n",
       "      <th></th>\n",
       "      <th>name</th>\n",
       "      <th>salience</th>\n",
       "      <th>Labels</th>\n",
       "    </tr>\n",
       "  </thead>\n",
       "  <tbody>\n",
       "    <tr>\n",
       "      <th>2</th>\n",
       "      <td>Tesla</td>\n",
       "      <td>0.975387</td>\n",
       "      <td>company</td>\n",
       "    </tr>\n",
       "    <tr>\n",
       "      <th>22</th>\n",
       "      <td>NASA's Transiting Exoplanet Survey Satellite -...</td>\n",
       "      <td>0.559259</td>\n",
       "      <td>company</td>\n",
       "    </tr>\n",
       "    <tr>\n",
       "      <th>45</th>\n",
       "      <td>BEVs</td>\n",
       "      <td>0.529361</td>\n",
       "      <td>company</td>\n",
       "    </tr>\n",
       "    <tr>\n",
       "      <th>57</th>\n",
       "      <td>Cybertruck</td>\n",
       "      <td>0.733953</td>\n",
       "      <td>company</td>\n",
       "    </tr>\n",
       "  </tbody>\n",
       "</table>\n",
       "</div>"
      ],
      "text/plain": [
       "                                                 name  salience   Labels\n",
       "2                                               Tesla  0.975387  company\n",
       "22  NASA's Transiting Exoplanet Survey Satellite -...  0.559259  company\n",
       "45                                               BEVs  0.529361  company\n",
       "57                                         Cybertruck  0.733953  company"
      ]
     },
     "execution_count": 95,
     "metadata": {},
     "output_type": "execute_result"
    }
   ],
   "source": [
    "tsla_wiki_entities[tsla_wiki_entities['Labels'] == 'company'] #Tesla correctly identified as the most salient company entity."
   ]
  },
  {
   "cell_type": "code",
   "execution_count": 96,
   "metadata": {},
   "outputs": [
    {
     "data": {
      "text/html": [
       "<div>\n",
       "<style scoped>\n",
       "    .dataframe tbody tr th:only-of-type {\n",
       "        vertical-align: middle;\n",
       "    }\n",
       "\n",
       "    .dataframe tbody tr th {\n",
       "        vertical-align: top;\n",
       "    }\n",
       "\n",
       "    .dataframe thead th {\n",
       "        text-align: right;\n",
       "    }\n",
       "</style>\n",
       "<table border=\"1\" class=\"dataframe\">\n",
       "  <thead>\n",
       "    <tr style=\"text-align: right;\">\n",
       "      <th></th>\n",
       "      <th>name</th>\n",
       "      <th>salience</th>\n",
       "      <th>Labels</th>\n",
       "    </tr>\n",
       "  </thead>\n",
       "  <tbody>\n",
       "    <tr>\n",
       "      <th>14</th>\n",
       "      <td>automotive industry</td>\n",
       "      <td>0.669135</td>\n",
       "      <td>industry</td>\n",
       "    </tr>\n",
       "    <tr>\n",
       "      <th>16</th>\n",
       "      <td>sustainable energy</td>\n",
       "      <td>0.624084</td>\n",
       "      <td>industry</td>\n",
       "    </tr>\n",
       "    <tr>\n",
       "      <th>19</th>\n",
       "      <td>electrical engineering</td>\n",
       "      <td>0.606833</td>\n",
       "      <td>industry</td>\n",
       "    </tr>\n",
       "  </tbody>\n",
       "</table>\n",
       "</div>"
      ],
      "text/plain": [
       "                      name  salience    Labels\n",
       "14     automotive industry  0.669135  industry\n",
       "16      sustainable energy  0.624084  industry\n",
       "19  electrical engineering  0.606833  industry"
      ]
     },
     "execution_count": 96,
     "metadata": {},
     "output_type": "execute_result"
    }
   ],
   "source": [
    "tsla_wiki_entities[tsla_wiki_entities['Labels'] == 'industry'] "
   ]
  },
  {
   "cell_type": "code",
   "execution_count": 97,
   "metadata": {},
   "outputs": [
    {
     "data": {
      "text/html": [
       "<div>\n",
       "<style scoped>\n",
       "    .dataframe tbody tr th:only-of-type {\n",
       "        vertical-align: middle;\n",
       "    }\n",
       "\n",
       "    .dataframe tbody tr th {\n",
       "        vertical-align: top;\n",
       "    }\n",
       "\n",
       "    .dataframe thead th {\n",
       "        text-align: right;\n",
       "    }\n",
       "</style>\n",
       "<table border=\"1\" class=\"dataframe\">\n",
       "  <thead>\n",
       "    <tr style=\"text-align: right;\">\n",
       "      <th></th>\n",
       "      <th>name</th>\n",
       "      <th>salience</th>\n",
       "      <th>Labels</th>\n",
       "    </tr>\n",
       "  </thead>\n",
       "  <tbody>\n",
       "    <tr>\n",
       "      <th>3</th>\n",
       "      <td>battery electric vehicle</td>\n",
       "      <td>0.834153</td>\n",
       "      <td>product</td>\n",
       "    </tr>\n",
       "    <tr>\n",
       "      <th>5</th>\n",
       "      <td>plug-in electric vehicle</td>\n",
       "      <td>0.742809</td>\n",
       "      <td>product</td>\n",
       "    </tr>\n",
       "    <tr>\n",
       "      <th>6</th>\n",
       "      <td>Tesla Model Y</td>\n",
       "      <td>0.742138</td>\n",
       "      <td>product</td>\n",
       "    </tr>\n",
       "    <tr>\n",
       "      <th>7</th>\n",
       "      <td>pickup truck</td>\n",
       "      <td>0.741191</td>\n",
       "      <td>product</td>\n",
       "    </tr>\n",
       "    <tr>\n",
       "      <th>8</th>\n",
       "      <td>Tesla Model X</td>\n",
       "      <td>0.720437</td>\n",
       "      <td>product</td>\n",
       "    </tr>\n",
       "    <tr>\n",
       "      <th>11</th>\n",
       "      <td>Tesla Model S</td>\n",
       "      <td>0.707837</td>\n",
       "      <td>product</td>\n",
       "    </tr>\n",
       "    <tr>\n",
       "      <th>13</th>\n",
       "      <td>electric car</td>\n",
       "      <td>0.684443</td>\n",
       "      <td>product</td>\n",
       "    </tr>\n",
       "    <tr>\n",
       "      <th>15</th>\n",
       "      <td>sport utility vehicle</td>\n",
       "      <td>0.655946</td>\n",
       "      <td>product</td>\n",
       "    </tr>\n",
       "    <tr>\n",
       "      <th>17</th>\n",
       "      <td>sports car</td>\n",
       "      <td>0.618520</td>\n",
       "      <td>product</td>\n",
       "    </tr>\n",
       "    <tr>\n",
       "      <th>18</th>\n",
       "      <td>energy storage</td>\n",
       "      <td>0.607389</td>\n",
       "      <td>product</td>\n",
       "    </tr>\n",
       "    <tr>\n",
       "      <th>20</th>\n",
       "      <td>Tesla Roadster (first generation)</td>\n",
       "      <td>0.580403</td>\n",
       "      <td>product</td>\n",
       "    </tr>\n",
       "    <tr>\n",
       "      <th>21</th>\n",
       "      <td>Tesla Model 3</td>\n",
       "      <td>0.564537</td>\n",
       "      <td>product</td>\n",
       "    </tr>\n",
       "    <tr>\n",
       "      <th>23</th>\n",
       "      <td>crossover</td>\n",
       "      <td>0.545244</td>\n",
       "      <td>product</td>\n",
       "    </tr>\n",
       "  </tbody>\n",
       "</table>\n",
       "</div>"
      ],
      "text/plain": [
       "                                 name  salience   Labels\n",
       "3            battery electric vehicle  0.834153  product\n",
       "5            plug-in electric vehicle  0.742809  product\n",
       "6                       Tesla Model Y  0.742138  product\n",
       "7                        pickup truck  0.741191  product\n",
       "8                       Tesla Model X  0.720437  product\n",
       "11                      Tesla Model S  0.707837  product\n",
       "13                       electric car  0.684443  product\n",
       "15              sport utility vehicle  0.655946  product\n",
       "17                         sports car  0.618520  product\n",
       "18                     energy storage  0.607389  product\n",
       "20  Tesla Roadster (first generation)  0.580403  product\n",
       "21                      Tesla Model 3  0.564537  product\n",
       "23                          crossover  0.545244  product"
      ]
     },
     "execution_count": 97,
     "metadata": {},
     "output_type": "execute_result"
    }
   ],
   "source": [
    "tsla_wiki_entities[tsla_wiki_entities['Labels'] == 'product'] "
   ]
  },
  {
   "cell_type": "code",
   "execution_count": 100,
   "metadata": {},
   "outputs": [
    {
     "data": {
      "text/html": [
       "<div>\n",
       "<style scoped>\n",
       "    .dataframe tbody tr th:only-of-type {\n",
       "        vertical-align: middle;\n",
       "    }\n",
       "\n",
       "    .dataframe tbody tr th {\n",
       "        vertical-align: top;\n",
       "    }\n",
       "\n",
       "    .dataframe thead th {\n",
       "        text-align: right;\n",
       "    }\n",
       "</style>\n",
       "<table border=\"1\" class=\"dataframe\">\n",
       "  <thead>\n",
       "    <tr style=\"text-align: right;\">\n",
       "      <th></th>\n",
       "      <th>entity</th>\n",
       "      <th>property</th>\n",
       "      <th>value</th>\n",
       "      <th>evidence</th>\n",
       "    </tr>\n",
       "  </thead>\n",
       "  <tbody>\n",
       "    <tr>\n",
       "      <th>0</th>\n",
       "      <td>Tesla</td>\n",
       "      <td>product type</td>\n",
       "      <td>battery electric vehicles</td>\n",
       "      <td>Headquartered in Austin, Texas, it designs, ma...</td>\n",
       "    </tr>\n",
       "    <tr>\n",
       "      <th>1</th>\n",
       "      <td>Elon Musk</td>\n",
       "      <td>position held</td>\n",
       "      <td>chief executive officer</td>\n",
       "      <td>In February 2004, Elon Musk joined as Tesla's ...</td>\n",
       "    </tr>\n",
       "    <tr>\n",
       "      <th>2</th>\n",
       "      <td>Tesla</td>\n",
       "      <td>chief executive officer</td>\n",
       "      <td>Elon Musk</td>\n",
       "      <td>In February 2004, Elon Musk joined as Tesla's ...</td>\n",
       "    </tr>\n",
       "    <tr>\n",
       "      <th>3</th>\n",
       "      <td>Tesla</td>\n",
       "      <td>chief executive officer</td>\n",
       "      <td>Elon Musk</td>\n",
       "      <td>In February 2004, Elon Musk joined as Tesla's ...</td>\n",
       "    </tr>\n",
       "    <tr>\n",
       "      <th>4</th>\n",
       "      <td>Elon Musk</td>\n",
       "      <td>employee or member of</td>\n",
       "      <td>Tesla</td>\n",
       "      <td>In February 2004, Elon Musk joined as Tesla's ...</td>\n",
       "    </tr>\n",
       "  </tbody>\n",
       "</table>\n",
       "</div>"
      ],
      "text/plain": [
       "      entity                 property                      value  \\\n",
       "0      Tesla             product type  battery electric vehicles   \n",
       "1  Elon Musk            position held    chief executive officer   \n",
       "2      Tesla  chief executive officer                  Elon Musk   \n",
       "3      Tesla  chief executive officer                  Elon Musk   \n",
       "4  Elon Musk    employee or member of                      Tesla   \n",
       "\n",
       "                                            evidence  \n",
       "0  Headquartered in Austin, Texas, it designs, ma...  \n",
       "1  In February 2004, Elon Musk joined as Tesla's ...  \n",
       "2  In February 2004, Elon Musk joined as Tesla's ...  \n",
       "3  In February 2004, Elon Musk joined as Tesla's ...  \n",
       "4  In February 2004, Elon Musk joined as Tesla's ...  "
      ]
     },
     "execution_count": 100,
     "metadata": {},
     "output_type": "execute_result"
    }
   ],
   "source": [
    "extract_relationships(res).head()"
   ]
  },
  {
   "cell_type": "markdown",
   "metadata": {},
   "source": [
    "Diffbot can successfully extract entity relationships from Tesla's Wikipedia article!"
   ]
  },
  {
   "cell_type": "markdown",
   "metadata": {},
   "source": [
    "### Creating Entity-Relationship Extraction Pipelines"
   ]
  },
  {
   "cell_type": "markdown",
   "metadata": {},
   "source": [
    "We now construct E-R extraction pipelines, and run them to gain insights into Apple Inc, with stock ticker code AAPL."
   ]
  },
  {
   "cell_type": "code",
   "execution_count": 15,
   "metadata": {},
   "outputs": [
    {
     "name": "stdout",
     "output_type": "stream",
     "text": [
      "Found Company: Apple Inc.\n"
     ]
    },
    {
     "data": {
      "text/plain": [
       "'Apple Inc.'"
      ]
     },
     "execution_count": 15,
     "metadata": {},
     "output_type": "execute_result"
    }
   ],
   "source": [
    "from googlesearch import search\n",
    "from yahooquery import Ticker\n",
    "\n",
    "def get_company_ticker(self):\n",
    "\n",
    "    searchval = 'yahoo finance '+self\n",
    "    link = []\n",
    "    #limits to the first link\n",
    "    for url in search(searchval, tld='es', lang='es', stop=1):\n",
    "        link.append(url)\n",
    "\n",
    "    link = str(link[0])\n",
    "    link=link.split(\"/\")\n",
    "    if link[-1]=='':\n",
    "        ticker=link[-2]\n",
    "    else:\n",
    "        x=link[-1].split('=')\n",
    "        ticker=x[-1]\n",
    "\n",
    "    return(ticker)\n",
    "\n",
    "def get_company_name(ticker):\n",
    "    try:\n",
    "        ticker_info = Ticker(ticker)\n",
    "        company_name = ticker_info.quote_type[ticker]['longName']\n",
    "        print(f\"Found Company: {company_name}\")\n",
    "        return company_name\n",
    "    except Exception as e:\n",
    "        print(f\"Error fetching company name for ticker {ticker}: {e}\")\n",
    "        return ticker\n",
    "\n",
    "get_company_name(\"AAPL\")\n"
   ]
  },
  {
   "cell_type": "code",
   "execution_count": 16,
   "metadata": {},
   "outputs": [],
   "source": [
    "import requests\n",
    "from bs4 import BeautifulSoup\n",
    "\n",
    "def get_wikipedia_article(company_name_or_ticker):\n",
    "    search_url = f\"https://en.wikipedia.org/wiki/{company_name_or_ticker}\"\n",
    "    \n",
    "    try:\n",
    "        response = requests.get(search_url)\n",
    "        response.raise_for_status()\n",
    "\n",
    "        soup = BeautifulSoup(response.text, 'html.parser')\n",
    "\n",
    "        title = soup.find('h1', {'id': 'firstHeading'}).text\n",
    "\n",
    "        content_div = soup.find('div', {'id': 'mw-content-text'})\n",
    "\n",
    "        paragraphs = content_div.find_all('p')\n",
    "\n",
    "        full_article_text = '\\n\\n'.join([p.text.strip() for p in paragraphs if p.text.strip()])\n",
    "\n",
    "        #print(f\"Title: {title}\")\n",
    "        #print(f\"Full Article:\\n{full_article_text}\")\n",
    "        return f\"{title}\" + \" \" + f\"{full_article_text}\"\n",
    "\n",
    "    except requests.exceptions.RequestException as e:\n",
    "        print(f\"Error fetching the Wikipedia article: {e}\")\n",
    "        return None\n",
    "\n",
    "# company_name_or_ticker = input(\"Enter the company name or ticker code: \").replace(' ', '_')\n",
    "# get_wikipedia_article(company_name_or_ticker)\n",
    "\n",
    "\n"
   ]
  },
  {
   "cell_type": "code",
   "execution_count": 22,
   "metadata": {},
   "outputs": [],
   "source": [
    "def wikipedia_ner_rel_pipeline(ticker):\n",
    "    company_name = get_company_name(ticker)\n",
    "    article = get_wikipedia_article(company_name)\n",
    "    if article is None:\n",
    "        return (None,None)\n",
    "    res = get_request({\n",
    "    \"content\": article,\n",
    "    \"lang\": \"en\",\n",
    "    \"format\": \"plain text with title\",\n",
    "    })\n",
    "    ents, rels = None, None\n",
    "    try:\n",
    "        ents = extract_entites(res)\n",
    "        rels = extract_relationships(res)\n",
    "    except:\n",
    "        print(\"Rate Limit Exceeded. Natural Language API allows only 500 calls a month.\")\n",
    "        print(res)\n",
    "        return (None, None)\n",
    "    \n",
    "    pd.options.display.max_columns = None\n",
    "    pd.set_option('display.width', 3000)\n",
    "    \n",
    "    return (ents, rels)\n",
    "\n",
    "def sec_10k_ner_rel_pipeline(ticker):\n",
    "    dbpath = 'data/ecmdatabase.db'\n",
    "    con = sqlite3.connect(f\"file:{dbpath}?mode=ro\", uri=True)\n",
    "    with con:\n",
    "        result = con.execute(f\"SELECT * from companies WHERE stock_symbol = '{ticker}';\")\n",
    "        records = result.fetchall()\n",
    "        if records == []:\n",
    "            print(f\"no records of company ticker {ticker} found in database.\")\n",
    "            return (None,None)\n",
    "        company_name = records[0][1]\n",
    "        item1 = records[0][2].replace('\\n', '')\n",
    "        item7 = records[0][3].replace('\\n', '')\n",
    "    item1_res = get_request({\n",
    "    \"content\": item1,\n",
    "    \"lang\": \"en\",\n",
    "    \"format\": \"plain text\",\n",
    "    })\n",
    "    item7_res = get_request({\n",
    "    \"content\": item7,\n",
    "    \"lang\": \"en\",\n",
    "    \"format\": \"plain text\",\n",
    "    })\n",
    "\n",
    "    try:\n",
    "        item1_ents, item1_rels = extract_entites(item1_res), extract_relationships(item1_res)\n",
    "        item7_ents, item7_rels = extract_entites(item7_res), extract_relationships(item7_res)\n",
    "    except:\n",
    "        print(\"Rate Limit Exceeded. Natural Language API allows only 500 calls a month.\")\n",
    "        print(item1_res)\n",
    "        return (None, None)\n",
    "\n",
    "    ents = pd.concat([item1_ents,item7_ents],axis = 0)\n",
    "    rels = pd.concat([item1_rels,item7_rels],axis = 0)\n",
    "\n",
    "    return (ents,rels)\n",
    "\n",
    "    \n",
    "\n",
    "    \n"
   ]
  },
  {
   "cell_type": "code",
   "execution_count": 266,
   "metadata": {},
   "outputs": [
    {
     "name": "stdout",
     "output_type": "stream",
     "text": [
      "{'entities': [{'name': 'Apple', 'diffbotUri': 'https://diffbot.com/entity/EHb0_0NEcMwyY8b083taTTw', 'confidence': 0.9999504, 'salience': 0.9023153, 'isCustom': False, 'allUris': ['http://www.wikidata.org/entity/Q312'], 'allTypes': [{'name': 'organization', 'diffbotUri': 'https://diffbot.com/entity/EN1ClYEdMMQCxB6AWTkT3mA', 'dbpediaUri': 'http://dbpedia.org/ontology/Organisation'}, {'name': 'skill', 'diffbotUri': 'https://diffbot.com/entity/EvfbHngnSNVOh7ZBM5XTywQ'}, {'name': 'product', 'diffbotUri': 'https://diffbot.com/entity/EgSPUye7QPcyQoPylO8biMQ'}, {'name': 'creative work', 'diffbotUri': 'https://diffbot.com/entity/EnuIck9oSO_2b9wNK6CD3Vw', 'dbpediaUri': 'http://dbpedia.org/ontology/Work'}, {'name': 'field of work', 'diffbotUri': 'https://diffbot.com/entity/EjGOLMsQZOGSg549SwYfFyQ'}], 'mentions': [{'text': 'Apple', 'beginOffset': 1163, 'endOffset': 1168, 'confidence': 0.99830735}, {'text': 'Apple', 'beginOffset': 1191, 'endOffset': 1196, 'confidence': 0.9991774}, {'text': 'Apple', 'beginOffset': 1223, 'endOffset': 1228, 'confidence': 0.9978818}, {'text': 'Apple', 'beginOffset': 1402, 'endOffset': 1407, 'confidence': 0.9946532}, {'text': 'Apple', 'beginOffset': 1622, 'endOffset': 1627, 'confidence': 0.9985353}, {'text': 'Apple Inc.', 'beginOffset': 1665, 'endOffset': 1675, 'confidence': 0.9847894}, {'text': 'AppleCare', 'beginOffset': 1853, 'endOffset': 1862, 'confidence': 0.9550051}, {'text': 'AppleCare', 'beginOffset': 1946, 'endOffset': 1955, 'confidence': 0.9926402}, {'text': 'Apple', 'beginOffset': 2011, 'endOffset': 2016, 'confidence': 0.9998454}, {'text': 'Apple', 'beginOffset': 2057, 'endOffset': 2062, 'confidence': 0.999848}, {'text': 'Apple', 'beginOffset': 2396, 'endOffset': 2401, 'confidence': 0.99887675}, {'text': 'that', 'beginOffset': 2531, 'endOffset': 2535, 'isPronoun': True, 'confidence': 0.99765366}, {'text': 'Apple', 'beginOffset': 2747, 'endOffset': 2752, 'confidence': 0.98521197}, {'text': 'Apple', 'beginOffset': 2850, 'endOffset': 2855, 'confidence': 0.95250726}, {'text': 'which', 'beginOffset': 2871, 'endOffset': 2876, 'isPronoun': True, 'confidence': 0.89700246}, {'text': 'Apple', 'beginOffset': 2952, 'endOffset': 2957, 'confidence': 0.95250726}, {'text': 'Apple', 'beginOffset': 3019, 'endOffset': 3024, 'confidence': 0.9960538}, {'text': 'Apple', 'beginOffset': 3159, 'endOffset': 3164, 'confidence': 0.99906284}, {'text': 'Apple', 'beginOffset': 3209, 'endOffset': 3214, 'confidence': 0.99964094}, {'text': 'its', 'beginOffset': 3285, 'endOffset': 3288, 'isPronoun': True, 'confidence': 0.9997621}, {'text': 'Apple Inc.', 'beginOffset': 5426, 'endOffset': 5436, 'confidence': 0.95250726}, {'text': 'that', 'beginOffset': 11152, 'endOffset': 11156, 'isPronoun': True, 'confidence': 0.9658948}, {'text': 'Apple Inc.', 'beginOffset': 11234, 'endOffset': 11244, 'confidence': 0.70380443}, {'text': 'its', 'beginOffset': 11374, 'endOffset': 11377, 'isPronoun': True, 'confidence': 0.7892582}, {'text': 'its', 'beginOffset': 11422, 'endOffset': 11425, 'isPronoun': True, 'confidence': 0.88108253}, {'text': 'its', 'beginOffset': 11689, 'endOffset': 11692, 'isPronoun': True, 'confidence': 0.99992}, {'text': 'it', 'beginOffset': 12035, 'endOffset': 12037, 'isPronoun': True, 'confidence': 0.9999504}, {'text': 'its', 'beginOffset': 12161, 'endOffset': 12164, 'isPronoun': True, 'confidence': 0.9999498}, {'text': 'Apple Inc.', 'beginOffset': 15560, 'endOffset': 15570, 'confidence': 0.8860768}], 'location': {'latitude': 37.331676, 'longitude': -122.01111, 'precision': 0.1}}, {'name': 'MacBook Air', 'diffbotUri': 'https://diffbot.com/entity/E-TA5n2GcP9S0Aqrbwi45Tw', 'confidence': 0.9241782, 'salience': 0.89551705, 'isCustom': False, 'allUris': ['http://www.wikidata.org/entity/Q488192'], 'allTypes': [{'name': 'skill', 'diffbotUri': 'https://diffbot.com/entity/EvfbHngnSNVOh7ZBM5XTywQ'}, {'name': 'product', 'diffbotUri': 'https://diffbot.com/entity/EgSPUye7QPcyQoPylO8biMQ'}, {'name': 'tool', 'diffbotUri': 'https://diffbot.com/entity/EKvoYuTx4P9WT35YUouc0ug'}], 'mentions': [{'text': 'MacBook Air', 'beginOffset': 641, 'endOffset': 652, 'confidence': 0.9241782}]}, {'name': 'MacBook Pro', 'diffbotUri': 'https://diffbot.com/entity/EpX9m11e3Mhqa6JjQ2oQtKg', 'confidence': 0.92412233, 'salience': 0.8677077, 'isCustom': False, 'allUris': ['http://www.wikidata.org/entity/Q214276'], 'allTypes': [{'name': 'skill', 'diffbotUri': 'https://diffbot.com/entity/EvfbHngnSNVOh7ZBM5XTywQ'}, {'name': 'product', 'diffbotUri': 'https://diffbot.com/entity/EgSPUye7QPcyQoPylO8biMQ'}, {'name': 'tool', 'diffbotUri': 'https://diffbot.com/entity/EKvoYuTx4P9WT35YUouc0ug'}], 'mentions': [{'text': 'MacBook Pro', 'beginOffset': 664, 'endOffset': 675, 'confidence': 0.92412233}]}, {'name': 'Apple TV', 'diffbotUri': 'https://diffbot.com/entity/E5Yuw9nTYPz-mZOHUDk8DRA', 'confidence': 0.8858921, 'salience': 0.84044325, 'isCustom': False, 'allUris': ['http://www.wikidata.org/entity/Q270285'], 'allTypes': [{'name': 'skill', 'diffbotUri': 'https://diffbot.com/entity/EvfbHngnSNVOh7ZBM5XTywQ'}, {'name': 'product', 'diffbotUri': 'https://diffbot.com/entity/EgSPUye7QPcyQoPylO8biMQ'}], 'mentions': [{'text': 'Apple TV', 'beginOffset': 1402, 'endOffset': 1410, 'confidence': 0.8858921}]}, {'name': 'AirPods Max', 'diffbotUri': 'https://diffbot.com/entity/E16GegDODOmSKEqp9aMZWNw', 'confidence': 0.7639292, 'salience': 0.8316309, 'isCustom': False, 'allUris': ['http://www.wikidata.org/entity/Q104030801'], 'allTypes': [], 'mentions': [{'text': 'AirPods Max', 'beginOffset': 1342, 'endOffset': 1353, 'confidence': 0.7639292}]}, {'name': 'Mac Studio', 'diffbotUri': 'https://diffbot.com/entity/EsCHdkQk9MV6B9HFTyhrw_w', 'confidence': 0.75663745, 'salience': 0.82042, 'isCustom': False, 'allUris': ['http://www.wikidata.org/entity/Q111154785'], 'allTypes': [{'name': 'skill', 'diffbotUri': 'https://diffbot.com/entity/EvfbHngnSNVOh7ZBM5XTywQ'}, {'name': 'product', 'diffbotUri': 'https://diffbot.com/entity/EgSPUye7QPcyQoPylO8biMQ'}, {'name': 'tool', 'diffbotUri': 'https://diffbot.com/entity/EKvoYuTx4P9WT35YUouc0ug'}], 'mentions': [{'text': 'Mac Studio', 'beginOffset': 737, 'endOffset': 747, 'confidence': 0.75663745}]}, {'name': 'AirPods', 'diffbotUri': 'https://diffbot.com/entity/EdjmvC_7sM1ycen3Wd1i7mw', 'confidence': 0.9185245, 'salience': 0.7979413, 'isCustom': False, 'allUris': ['http://www.wikidata.org/entity/Q26936286'], 'allTypes': [{'name': 'skill', 'diffbotUri': 'https://diffbot.com/entity/EvfbHngnSNVOh7ZBM5XTywQ'}, {'name': 'product', 'diffbotUri': 'https://diffbot.com/entity/EgSPUye7QPcyQoPylO8biMQ'}, {'name': 'tool', 'diffbotUri': 'https://diffbot.com/entity/EKvoYuTx4P9WT35YUouc0ug'}], 'mentions': [{'text': 'AirPods', 'beginOffset': 1321, 'endOffset': 1328, 'confidence': 0.9185245}, {'text': 'AirPods', 'beginOffset': 1342, 'endOffset': 1349, 'confidence': 0.9185245}]}, {'name': 'Apple Card', 'diffbotUri': 'https://diffbot.com/entity/ErR01ZzHOOr2VRg2Vx0mAyw', 'confidence': 0.8190008, 'salience': 0.69937015, 'isCustom': False, 'allUris': ['http://www.wikidata.org/entity/Q62462617'], 'allTypes': [{'name': 'skill', 'diffbotUri': 'https://diffbot.com/entity/EvfbHngnSNVOh7ZBM5XTywQ'}, {'name': 'product', 'diffbotUri': 'https://diffbot.com/entity/EgSPUye7QPcyQoPylO8biMQ'}, {'name': 'field of work', 'diffbotUri': 'https://diffbot.com/entity/EjGOLMsQZOGSg549SwYfFyQ'}], 'mentions': [{'text': 'Apple Card', 'beginOffset': 3159, 'endOffset': 3169, 'confidence': 0.8190008}]}, {'name': 'Apple Watch SE', 'diffbotUri': 'https://diffbot.com/entity/ERDP65A1rPuW9LAbj1qRH_A', 'confidence': 0.62648386, 'salience': 0.69444466, 'isCustom': False, 'allUris': ['http://www.wikidata.org/entity/Q99355766'], 'allTypes': [{'name': 'skill', 'diffbotUri': 'https://diffbot.com/entity/EvfbHngnSNVOh7ZBM5XTywQ'}, {'name': 'product', 'diffbotUri': 'https://diffbot.com/entity/EgSPUye7QPcyQoPylO8biMQ'}, {'name': 'tool', 'diffbotUri': 'https://diffbot.com/entity/EKvoYuTx4P9WT35YUouc0ug'}], 'mentions': [{'text': 'Apple Watch SE', 'beginOffset': 1223, 'endOffset': 1237, 'confidence': 0.62648386}]}, {'name': 'Mac Pro', 'diffbotUri': 'https://diffbot.com/entity/E54pBKFlrOeO49UhiPwEOSQ', 'confidence': 0.9620544, 'salience': 0.6585074, 'isCustom': False, 'allUris': ['http://www.wikidata.org/entity/Q308869'], 'allTypes': [{'name': 'skill', 'diffbotUri': 'https://diffbot.com/entity/EvfbHngnSNVOh7ZBM5XTywQ'}, {'name': 'product', 'diffbotUri': 'https://diffbot.com/entity/EgSPUye7QPcyQoPylO8biMQ'}, {'name': 'tool', 'diffbotUri': 'https://diffbot.com/entity/EKvoYuTx4P9WT35YUouc0ug'}], 'mentions': [{'text': 'Mac Pro', 'beginOffset': 759, 'endOffset': 766, 'confidence': 0.9620544}]}, {'name': 'AirPods Pro', 'diffbotUri': 'https://diffbot.com/entity/EK98laQ-sN3OXwCOt3kHl3A', 'confidence': 0.74506843, 'salience': 0.6550938, 'isCustom': False, 'allUris': ['http://www.wikidata.org/entity/Q72725578'], 'allTypes': [{'name': 'skill', 'diffbotUri': 'https://diffbot.com/entity/EvfbHngnSNVOh7ZBM5XTywQ'}, {'name': 'product', 'diffbotUri': 'https://diffbot.com/entity/EgSPUye7QPcyQoPylO8biMQ'}, {'name': 'tool', 'diffbotUri': 'https://diffbot.com/entity/EKvoYuTx4P9WT35YUouc0ug'}], 'mentions': [{'text': 'AirPods Pro', 'beginOffset': 1321, 'endOffset': 1332, 'confidence': 0.74506843}]}, {'name': 'Greater China', 'diffbotUri': 'https://diffbot.com/entity/EFbMHwXRVOhO_6pTXrXDs4Q', 'confidence': 0.95815545, 'salience': 0.6234796, 'isCustom': False, 'allUris': ['http://www.wikidata.org/entity/Q1143195'], 'allTypes': [{'name': 'location', 'diffbotUri': 'https://diffbot.com/entity/EiCyWUm4lNziqgLHx47iAIQ', 'dbpediaUri': 'http://dbpedia.org/ontology/Place'}], 'mentions': [{'text': 'Greater China', 'beginOffset': 3404, 'endOffset': 3417, 'confidence': 0.95815545}, {'text': 'Greater China', 'beginOffset': 3581, 'endOffset': 3594, 'confidence': 0.95815545}], 'location': {'latitude': 23.798532, 'longitude': 120.95543, 'precision': 190.70941}}, {'name': 'Australia', 'diffbotUri': 'https://diffbot.com/entity/EFMlRRXcoPwu5uHO8umFWJg', 'confidence': 0.9886214, 'salience': 0.62290686, 'isCustom': False, 'allUris': ['http://www.wikidata.org/entity/Q408'], 'allTypes': [{'name': 'location', 'diffbotUri': 'https://diffbot.com/entity/EiCyWUm4lNziqgLHx47iAIQ', 'dbpediaUri': 'http://dbpedia.org/ontology/Place'}, {'name': 'administrative area', 'diffbotUri': 'https://diffbot.com/entity/EcTIu1tWKPouIa6qZtSpc4A', 'dbpediaUri': 'http://dbpedia.org/ontology/PopulatedPlace'}, {'name': 'country', 'diffbotUri': 'https://diffbot.com/entity/E9bmxGo8aNgCDUxsGSFl_9A', 'dbpediaUri': 'http://dbpedia.org/ontology/Country'}], 'mentions': [{'text': 'Australia', 'beginOffset': 3672, 'endOffset': 3681, 'confidence': 0.9886214}], 'location': {'latitude': -25.0, 'longitude': 133.0, 'precision': 641.0749}}, {'name': 'App Store', 'diffbotUri': 'https://diffbot.com/entity/EvNblThnsMv2Y7CHAkurq5A', 'confidence': 0.84031385, 'salience': 0.609155, 'isCustom': False, 'allUris': ['http://www.wikidata.org/entity/Q368215'], 'allTypes': [{'name': 'organization', 'diffbotUri': 'https://diffbot.com/entity/EN1ClYEdMMQCxB6AWTkT3mA', 'dbpediaUri': 'http://dbpedia.org/ontology/Organisation'}, {'name': 'location', 'diffbotUri': 'https://diffbot.com/entity/EiCyWUm4lNziqgLHx47iAIQ', 'dbpediaUri': 'http://dbpedia.org/ontology/Place'}, {'name': 'skill', 'diffbotUri': 'https://diffbot.com/entity/EvfbHngnSNVOh7ZBM5XTywQ'}, {'name': 'product', 'diffbotUri': 'https://diffbot.com/entity/EgSPUye7QPcyQoPylO8biMQ'}, {'name': 'creative work', 'diffbotUri': 'https://diffbot.com/entity/EnuIck9oSO_2b9wNK6CD3Vw', 'dbpediaUri': 'http://dbpedia.org/ontology/Work'}], 'mentions': [{'text': 'App Store', 'beginOffset': 2512, 'endOffset': 2521, 'confidence': 0.84031385}], 'location': {'latitude': 37.33066, 'longitude': -122.0399, 'precision': 0.1}}, {'name': 'Apple Watch', 'diffbotUri': 'https://diffbot.com/entity/Erl_w753bONGSYiUrsF6_uw', 'confidence': 0.907372, 'salience': 0.6020962, 'isCustom': False, 'allUris': ['http://www.wikidata.org/entity/Q18010946'], 'allTypes': [{'name': 'skill', 'diffbotUri': 'https://diffbot.com/entity/EvfbHngnSNVOh7ZBM5XTywQ'}, {'name': 'product', 'diffbotUri': 'https://diffbot.com/entity/EgSPUye7QPcyQoPylO8biMQ'}, {'name': 'tool', 'diffbotUri': 'https://diffbot.com/entity/EKvoYuTx4P9WT35YUouc0ug'}], 'mentions': [{'text': 'Apple Watch', 'beginOffset': 1191, 'endOffset': 1202, 'confidence': 0.907372}]}, {'name': 'HomePod', 'diffbotUri': 'https://diffbot.com/entity/EoJpQnpatPJqJv2YY5c0Xkg', 'confidence': 0.75255495, 'salience': 0.5367015, 'isCustom': False, 'allUris': ['http://www.wikidata.org/entity/Q30137500'], 'allTypes': [{'name': 'skill', 'diffbotUri': 'https://diffbot.com/entity/EvfbHngnSNVOh7ZBM5XTywQ'}, {'name': 'product', 'diffbotUri': 'https://diffbot.com/entity/EgSPUye7QPcyQoPylO8biMQ'}, {'name': 'tool', 'diffbotUri': 'https://diffbot.com/entity/EKvoYuTx4P9WT35YUouc0ug'}], 'mentions': [{'text': 'HomePod', 'beginOffset': 1521, 'endOffset': 1528, 'confidence': 0.75255495}]}, {'name': 'Apple Arcade', 'diffbotUri': 'https://diffbot.com/entity/EP5HdA7eWP2Sa1UUsd0qmEQ', 'confidence': 0.7666801, 'salience': 0.5330189, 'isCustom': False, 'allUris': ['http://www.wikidata.org/entity/Q62513347'], 'allTypes': [{'name': 'organization', 'diffbotUri': 'https://diffbot.com/entity/EN1ClYEdMMQCxB6AWTkT3mA', 'dbpediaUri': 'http://dbpedia.org/ontology/Organisation'}], 'mentions': [{'text': 'Apple Arcade', 'beginOffset': 2747, 'endOffset': 2759, 'confidence': 0.7666801}]}, {'name': 'Americas', 'diffbotUri': 'https://diffbot.com/entity/EGuv11E_7PACAnfohzniZ6w', 'confidence': 0.9312265, 'salience': 0.5210597, 'isCustom': False, 'allUris': ['http://www.wikidata.org/entity/Q828'], 'allTypes': [{'name': 'location', 'diffbotUri': 'https://diffbot.com/entity/EiCyWUm4lNziqgLHx47iAIQ', 'dbpediaUri': 'http://dbpedia.org/ontology/Place'}], 'mentions': [{'text': 'Americas', 'beginOffset': 3451, 'endOffset': 3459, 'confidence': 0.9312265}, {'text': 'North and South America', 'beginOffset': 3474, 'endOffset': 3497, 'confidence': 0.9312265}], 'location': {'latitude': 19.0, 'longitude': -96.0, 'precision': 6522.9595}}, {'name': 'iPhone', 'diffbotUri': 'https://diffbot.com/entity/EuqssOVF2O5O1Q2rpnJ4MIQ', 'confidence': 0.90709776, 'salience': 0.5008783, 'isCustom': False, 'allUris': ['http://www.wikidata.org/entity/Q2766'], 'allTypes': [{'name': 'skill', 'diffbotUri': 'https://diffbot.com/entity/EvfbHngnSNVOh7ZBM5XTywQ'}, {'name': 'product', 'diffbotUri': 'https://diffbot.com/entity/EgSPUye7QPcyQoPylO8biMQ'}, {'name': 'tool', 'diffbotUri': 'https://diffbot.com/entity/EKvoYuTx4P9WT35YUouc0ug'}, {'name': 'field of work', 'diffbotUri': 'https://diffbot.com/entity/EjGOLMsQZOGSg549SwYfFyQ'}], 'mentions': [{'text': 'iPhone', 'beginOffset': 308, 'endOffset': 314, 'confidence': 0.90709776}, {'text': 'iPhone', 'beginOffset': 315, 'endOffset': 321, 'confidence': 0.90709776}]}, {'name': 'Taiwan', 'diffbotUri': 'https://diffbot.com/entity/EP-lHngxXPDeoLGinsUr9Ew', 'confidence': 0.9995671, 'salience': 0.48632163, 'isCustom': False, 'allUris': ['http://www.wikidata.org/entity/Q865'], 'allTypes': [{'name': 'location', 'diffbotUri': 'https://diffbot.com/entity/EiCyWUm4lNziqgLHx47iAIQ', 'dbpediaUri': 'http://dbpedia.org/ontology/Place'}, {'name': 'administrative area', 'diffbotUri': 'https://diffbot.com/entity/EcTIu1tWKPouIa6qZtSpc4A', 'dbpediaUri': 'http://dbpedia.org/ontology/PopulatedPlace'}, {'name': 'country', 'diffbotUri': 'https://diffbot.com/entity/E9bmxGo8aNgCDUxsGSFl_9A', 'dbpediaUri': 'http://dbpedia.org/ontology/Country'}], 'mentions': [{'text': 'Taiwan', 'beginOffset': 3634, 'endOffset': 3640, 'confidence': 0.9995671}], 'location': {'latitude': 24.0, 'longitude': 121.0, 'precision': 190.24458}}, {'name': 'Beats Electronics', 'diffbotUri': 'https://diffbot.com/entity/EIZivpmAMPZSFpRruQSlV6g', 'confidence': 0.8835366, 'salience': 0.48328936, 'isCustom': False, 'allUris': ['http://www.wikidata.org/entity/Q1961036'], 'allTypes': [{'name': 'organization', 'diffbotUri': 'https://diffbot.com/entity/EN1ClYEdMMQCxB6AWTkT3mA', 'dbpediaUri': 'http://dbpedia.org/ontology/Organisation'}], 'mentions': [{'text': 'Beats', 'beginOffset': 1365, 'endOffset': 1370, 'confidence': 0.8835366}], 'location': {'latitude': 34.011948, 'longitude': -118.39625, 'precision': 3.6490042}}, {'name': 'India', 'diffbotUri': 'https://diffbot.com/entity/EkL_5YoTSMA6dbNRVyE9yCQ', 'confidence': 0.9880998, 'salience': 0.47553077, 'isCustom': False, 'allUris': ['http://www.wikidata.org/entity/Q668'], 'allTypes': [{'name': 'location', 'diffbotUri': 'https://diffbot.com/entity/EiCyWUm4lNziqgLHx47iAIQ', 'dbpediaUri': 'http://dbpedia.org/ontology/Place'}, {'name': 'administrative area', 'diffbotUri': 'https://diffbot.com/entity/EcTIu1tWKPouIa6qZtSpc4A', 'dbpediaUri': 'http://dbpedia.org/ontology/PopulatedPlace'}, {'name': 'country', 'diffbotUri': 'https://diffbot.com/entity/E9bmxGo8aNgCDUxsGSFl_9A', 'dbpediaUri': 'http://dbpedia.org/ontology/Country'}], 'mentions': [{'text': 'India', 'beginOffset': 3546, 'endOffset': 3551, 'confidence': 0.9880998}], 'location': {'latitude': 22.8, 'longitude': 83.0, 'precision': 1813.081}}, {'name': 'Japan', 'diffbotUri': 'https://diffbot.com/entity/EFSw0ClDyP1axnPu4r17OUw', 'confidence': 0.9982667, 'salience': 0.4717756, 'isCustom': False, 'allUris': ['http://www.wikidata.org/entity/Q17'], 'allTypes': [{'name': 'location', 'diffbotUri': 'https://diffbot.com/entity/EiCyWUm4lNziqgLHx47iAIQ', 'dbpediaUri': 'http://dbpedia.org/ontology/Place'}, {'name': 'administrative area', 'diffbotUri': 'https://diffbot.com/entity/EcTIu1tWKPouIa6qZtSpc4A', 'dbpediaUri': 'http://dbpedia.org/ontology/PopulatedPlace'}, {'name': 'country', 'diffbotUri': 'https://diffbot.com/entity/E9bmxGo8aNgCDUxsGSFl_9A', 'dbpediaUri': 'http://dbpedia.org/ontology/Country'}], 'mentions': [{'text': 'Japan', 'beginOffset': 3419, 'endOffset': 3424, 'confidence': 0.9982667}], 'location': {'latitude': 35.0, 'longitude': 136.0, 'precision': 614.79425}}, {'name': 'Hong Kong', 'diffbotUri': 'https://diffbot.com/entity/EBqwYJcdBPDuHPZL_C348rA', 'confidence': 0.999723, 'salience': 0.4658325, 'isCustom': False, 'allUris': ['http://www.wikidata.org/entity/Q8646'], 'allTypes': [{'name': 'location', 'diffbotUri': 'https://diffbot.com/entity/EiCyWUm4lNziqgLHx47iAIQ', 'dbpediaUri': 'http://dbpedia.org/ontology/Place'}, {'name': 'administrative area', 'diffbotUri': 'https://diffbot.com/entity/EcTIu1tWKPouIa6qZtSpc4A', 'dbpediaUri': 'http://dbpedia.org/ontology/PopulatedPlace'}, {'name': 'city', 'diffbotUri': 'https://diffbot.com/entity/EzdJrGHiyMWu0XbSn101rFA', 'dbpediaUri': 'http://dbpedia.org/ontology/City'}, {'name': 'country subdivision', 'diffbotUri': 'https://diffbot.com/entity/EpOJP55J8P3qMkXrOXp6b6g'}], 'mentions': [{'text': 'Hong Kong', 'beginOffset': 3620, 'endOffset': 3629, 'confidence': 0.999723}], 'location': {'latitude': 22.278334, 'longitude': 114.15861, 'precision': 52.488094}}, {'name': 'macOS', 'diffbotUri': 'https://diffbot.com/entity/ELumAczgpNruHRKR-A-ukLg', 'confidence': 0.9284569, 'salience': 0.37300122, 'isCustom': False, 'allUris': ['http://www.wikidata.org/entity/Q14116'], 'allTypes': [{'name': 'skill', 'diffbotUri': 'https://diffbot.com/entity/EvfbHngnSNVOh7ZBM5XTywQ'}, {'name': 'product', 'diffbotUri': 'https://diffbot.com/entity/EgSPUye7QPcyQoPylO8biMQ'}], 'mentions': [{'text': 'Mac', 'beginOffset': 615, 'endOffset': 618, 'confidence': 0.9284569}]}, {'name': 'intellectual property', 'diffbotUri': 'https://diffbot.com/entity/EqU3LB65XOF-eDHl_PvdpYA', 'confidence': 0.95343, 'salience': 0.37234917, 'isCustom': False, 'allUris': ['http://www.wikidata.org/entity/Q131257'], 'allTypes': [{'name': 'skill', 'diffbotUri': 'https://diffbot.com/entity/EvfbHngnSNVOh7ZBM5XTywQ'}, {'name': 'product', 'diffbotUri': 'https://diffbot.com/entity/EgSPUye7QPcyQoPylO8biMQ'}, {'name': 'field of work', 'diffbotUri': 'https://diffbot.com/entity/EjGOLMsQZOGSg549SwYfFyQ'}], 'mentions': [{'text': 'Intellectual Property', 'beginOffset': 9425, 'endOffset': 9446, 'confidence': 0.95343}]}, {'name': 'Asia-Pacific', 'diffbotUri': 'https://diffbot.com/entity/Ez59Yd5sHMHash9Sx3EByPQ', 'confidence': 0.79750144, 'salience': 0.32350495, 'isCustom': False, 'allUris': ['http://www.wikidata.org/entity/Q1070940'], 'allTypes': [{'name': 'location', 'diffbotUri': 'https://diffbot.com/entity/EiCyWUm4lNziqgLHx47iAIQ', 'dbpediaUri': 'http://dbpedia.org/ontology/Place'}], 'mentions': [{'text': 'Asia Pacific', 'beginOffset': 3437, 'endOffset': 3449, 'confidence': 0.79750144}, {'text': 'Asia Pacific', 'beginOffset': 3650, 'endOffset': 3662, 'confidence': 0.79750144}]}, {'name': \"People's Republic of China\", 'diffbotUri': 'https://diffbot.com/entity/EdI-rIizmN7uzAzt3j0tCGQ', 'confidence': 0.9964825, 'salience': 0.32274783, 'isCustom': False, 'allUris': ['http://www.wikidata.org/entity/Q148'], 'allTypes': [{'name': 'location', 'diffbotUri': 'https://diffbot.com/entity/EiCyWUm4lNziqgLHx47iAIQ', 'dbpediaUri': 'http://dbpedia.org/ontology/Place'}, {'name': 'administrative area', 'diffbotUri': 'https://diffbot.com/entity/EcTIu1tWKPouIa6qZtSpc4A', 'dbpediaUri': 'http://dbpedia.org/ontology/PopulatedPlace'}, {'name': 'country', 'diffbotUri': 'https://diffbot.com/entity/E9bmxGo8aNgCDUxsGSFl_9A', 'dbpediaUri': 'http://dbpedia.org/ontology/Country'}], 'mentions': [{'text': 'China', 'beginOffset': 3604, 'endOffset': 3609, 'confidence': 0.9964825}], 'location': {'latitude': 35.844723, 'longitude': 103.45194, 'precision': 3097.8962}}, {'name': 'Apple Music', 'diffbotUri': 'https://diffbot.com/entity/E-AdsR-iMOJu3jAkCx0DfeQ', 'confidence': 0.9646053, 'salience': 0.32108265, 'isCustom': False, 'allUris': ['http://www.wikidata.org/entity/Q20056642'], 'allTypes': [{'name': 'organization', 'diffbotUri': 'https://diffbot.com/entity/EN1ClYEdMMQCxB6AWTkT3mA', 'dbpediaUri': 'http://dbpedia.org/ontology/Organisation'}, {'name': 'skill', 'diffbotUri': 'https://diffbot.com/entity/EvfbHngnSNVOh7ZBM5XTywQ'}, {'name': 'product', 'diffbotUri': 'https://diffbot.com/entity/EgSPUye7QPcyQoPylO8biMQ'}, {'name': 'creative work', 'diffbotUri': 'https://diffbot.com/entity/EnuIck9oSO_2b9wNK6CD3Vw', 'dbpediaUri': 'http://dbpedia.org/ontology/Work'}], 'mentions': [{'text': 'Apple Music', 'beginOffset': 2850, 'endOffset': 2861, 'confidence': 0.9646053}], 'location': {'latitude': 37.313866, 'longitude': -122.049805, 'precision': 5.4120965}}, {'name': 'Asia', 'diffbotUri': 'https://diffbot.com/entity/EVIPhaJFZOrG52qgZ3Ifv5A', 'confidence': 0.8960649, 'salience': 0.30182183, 'isCustom': False, 'allUris': ['http://www.wikidata.org/entity/Q48'], 'allTypes': [{'name': 'location', 'diffbotUri': 'https://diffbot.com/entity/EiCyWUm4lNziqgLHx47iAIQ', 'dbpediaUri': 'http://dbpedia.org/ontology/Place'}], 'mentions': [{'text': 'Asian', 'beginOffset': 3692, 'endOffset': 3697, 'confidence': 0.8960649}], 'location': {'latitude': 43.68111, 'longitude': 87.33111, 'precision': 6679.4087}}, {'name': 'Microsoft Windows', 'diffbotUri': 'https://diffbot.com/entity/E4b6nyAZFPxK9Vgac0-uDlw', 'confidence': 0.9078504, 'salience': 0.29909024, 'isCustom': False, 'allUris': ['http://www.wikidata.org/entity/Q1406'], 'allTypes': [{'name': 'skill', 'diffbotUri': 'https://diffbot.com/entity/EvfbHngnSNVOh7ZBM5XTywQ'}, {'name': 'product', 'diffbotUri': 'https://diffbot.com/entity/EgSPUye7QPcyQoPylO8biMQ'}, {'name': 'field of work', 'diffbotUri': 'https://diffbot.com/entity/EjGOLMsQZOGSg549SwYfFyQ'}], 'mentions': [{'text': 'Windows', 'beginOffset': 2414, 'endOffset': 2421, 'confidence': 0.9078504}]}, {'name': 'wearable computer', 'diffbotUri': 'https://diffbot.com/entity/E-uIoqcTbO9GZkvZfXwrv1A', 'confidence': 0.95242834, 'salience': 0.26438427, 'isCustom': False, 'allUris': ['http://www.wikidata.org/entity/Q1334829'], 'allTypes': [{'name': 'skill', 'diffbotUri': 'https://diffbot.com/entity/EvfbHngnSNVOh7ZBM5XTywQ'}, {'name': 'product', 'diffbotUri': 'https://diffbot.com/entity/EgSPUye7QPcyQoPylO8biMQ'}, {'name': 'tool', 'diffbotUri': 'https://diffbot.com/entity/EKvoYuTx4P9WT35YUouc0ug'}], 'mentions': [{'text': 'wearables', 'beginOffset': 125, 'endOffset': 134, 'confidence': 0.95242834}, {'text': 'Wearables', 'beginOffset': 1009, 'endOffset': 1018, 'confidence': 0.95242834}]}, {'name': 'Apple Pay', 'diffbotUri': 'https://diffbot.com/entity/EHAVJlMNxMKixJrAwoPsu2g', 'confidence': 0.924391, 'salience': 0.26338267, 'isCustom': False, 'allUris': ['http://www.wikidata.org/entity/Q18010990'], 'allTypes': [{'name': 'skill', 'diffbotUri': 'https://diffbot.com/entity/EvfbHngnSNVOh7ZBM5XTywQ'}, {'name': 'product', 'diffbotUri': 'https://diffbot.com/entity/EgSPUye7QPcyQoPylO8biMQ'}, {'name': 'creative work', 'diffbotUri': 'https://diffbot.com/entity/EnuIck9oSO_2b9wNK6CD3Vw', 'dbpediaUri': 'http://dbpedia.org/ontology/Work'}], 'mentions': [{'text': 'Apple Pay', 'beginOffset': 3209, 'endOffset': 3218, 'confidence': 0.924391}]}, {'name': 'United States of America', 'diffbotUri': 'https://diffbot.com/entity/E01d4EK33MmCosgI2KXa4-A', 'confidence': 0.99982774, 'salience': 0.25382286, 'isCustom': False, 'allUris': ['http://www.wikidata.org/entity/Q30'], 'allTypes': [{'name': 'location', 'diffbotUri': 'https://diffbot.com/entity/EiCyWUm4lNziqgLHx47iAIQ', 'dbpediaUri': 'http://dbpedia.org/ontology/Place'}, {'name': 'administrative area', 'diffbotUri': 'https://diffbot.com/entity/EcTIu1tWKPouIa6qZtSpc4A', 'dbpediaUri': 'http://dbpedia.org/ontology/PopulatedPlace'}, {'name': 'country', 'diffbotUri': 'https://diffbot.com/entity/E9bmxGo8aNgCDUxsGSFl_9A', 'dbpediaUri': 'http://dbpedia.org/ontology/Country'}], 'mentions': [{'text': 'U.S.', 'beginOffset': 9725, 'endOffset': 9729, 'confidence': 0.99982774}], 'location': {'latitude': 39.828175, 'longitude': -98.5795, 'precision': 3134.7527}}, {'name': 'home', 'diffbotUri': 'https://diffbot.com/entity/EyeteFqVdO2y3_Ju-X4hHAA', 'confidence': 0.8269614, 'salience': 0.21157601, 'isCustom': False, 'allUris': ['http://www.wikidata.org/entity/Q7743'], 'allTypes': [], 'mentions': [{'text': 'Home', 'beginOffset': 1388, 'endOffset': 1392, 'confidence': 0.8269614}]}, {'name': 'Apple News', 'diffbotUri': 'https://diffbot.com/entity/EZ3I2S8lqN82ZAEk31LA_sw', 'confidence': 0.89696455, 'salience': 0.21113223, 'isCustom': False, 'allUris': ['http://www.wikidata.org/entity/Q22096321'], 'allTypes': [{'name': 'organization', 'diffbotUri': 'https://diffbot.com/entity/EN1ClYEdMMQCxB6AWTkT3mA', 'dbpediaUri': 'http://dbpedia.org/ontology/Organisation'}, {'name': 'skill', 'diffbotUri': 'https://diffbot.com/entity/EvfbHngnSNVOh7ZBM5XTywQ'}, {'name': 'product', 'diffbotUri': 'https://diffbot.com/entity/EgSPUye7QPcyQoPylO8biMQ'}, {'name': 'creative work', 'diffbotUri': 'https://diffbot.com/entity/EnuIck9oSO_2b9wNK6CD3Vw', 'dbpediaUri': 'http://dbpedia.org/ontology/Work'}], 'mentions': [{'text': 'Apple News', 'beginOffset': 2952, 'endOffset': 2962, 'confidence': 0.89696455}], 'location': {'latitude': -19.914318, 'longitude': -43.959503, 'precision': 13.60771}}, {'name': 'Middle East', 'diffbotUri': 'https://diffbot.com/entity/E4rPUM9DCMs-CEzrSjRgalw', 'confidence': 0.96872675, 'salience': 0.20750539, 'isCustom': False, 'allUris': ['http://www.wikidata.org/entity/Q7204'], 'allTypes': [{'name': 'location', 'diffbotUri': 'https://diffbot.com/entity/EiCyWUm4lNziqgLHx47iAIQ', 'dbpediaUri': 'http://dbpedia.org/ontology/Place'}], 'mentions': [{'text': 'Middle East', 'beginOffset': 3557, 'endOffset': 3568, 'confidence': 0.96872675}], 'location': {'latitude': 28.0, 'longitude': 45.0, 'precision': 2700.6682}}, {'name': 'Europe', 'diffbotUri': 'https://diffbot.com/entity/EwQGDALmEN4qSFSO47GqqGQ', 'confidence': 0.96933824, 'salience': 0.18954101, 'isCustom': False, 'allUris': ['http://www.wikidata.org/entity/Q46'], 'allTypes': [{'name': 'location', 'diffbotUri': 'https://diffbot.com/entity/EiCyWUm4lNziqgLHx47iAIQ', 'dbpediaUri': 'http://dbpedia.org/ontology/Place'}], 'mentions': [{'text': 'Europe', 'beginOffset': 3396, 'endOffset': 3402, 'confidence': 0.96933824}, {'text': 'Europe', 'beginOffset': 3499, 'endOffset': 3505, 'confidence': 0.96933824}], 'location': {'latitude': 48.69096, 'longitude': 9.14062, 'precision': 3191.5513}}, {'name': 'smartphone', 'diffbotUri': 'https://diffbot.com/entity/EO-5Z5nFgM2aPbvhp5Jz36w', 'confidence': 0.86837727, 'salience': 0.18276988, 'isCustom': False, 'allUris': ['http://www.wikidata.org/entity/Q22645'], 'allTypes': [{'name': 'skill', 'diffbotUri': 'https://diffbot.com/entity/EvfbHngnSNVOh7ZBM5XTywQ'}, {'name': 'product', 'diffbotUri': 'https://diffbot.com/entity/EgSPUye7QPcyQoPylO8biMQ'}, {'name': 'tool', 'diffbotUri': 'https://diffbot.com/entity/EKvoYuTx4P9WT35YUouc0ug'}], 'mentions': [{'text': 'smartphones', 'beginOffset': 83, 'endOffset': 94, 'confidence': 0.86837727}, {'text': 'smartphones', 'beginOffset': 360, 'endOffset': 371, 'confidence': 0.86837727}]}, {'name': 'Apple TV+', 'diffbotUri': 'https://diffbot.com/entity/EGUFsNYM3PLG8nyVW5b5l0Q', 'confidence': 0.5725287, 'salience': 0.16615154, 'isCustom': False, 'allUris': ['http://www.wikidata.org/entity/Q62446736'], 'allTypes': [{'name': 'organization', 'diffbotUri': 'https://diffbot.com/entity/EN1ClYEdMMQCxB6AWTkT3mA', 'dbpediaUri': 'http://dbpedia.org/ontology/Organisation'}, {'name': 'skill', 'diffbotUri': 'https://diffbot.com/entity/EvfbHngnSNVOh7ZBM5XTywQ'}, {'name': 'product', 'diffbotUri': 'https://diffbot.com/entity/EgSPUye7QPcyQoPylO8biMQ'}, {'name': 'creative work', 'diffbotUri': 'https://diffbot.com/entity/EnuIck9oSO_2b9wNK6CD3Vw', 'dbpediaUri': 'http://dbpedia.org/ontology/Work'}], 'mentions': [{'text': 'Apple TV+', 'beginOffset': 3019, 'endOffset': 3028, 'confidence': 0.5725287}], 'location': {'latitude': 41.115532, 'longitude': -74.143974, 'precision': 2.3467636}}, {'name': 'debt', 'diffbotUri': 'https://diffbot.com/entity/EoiTtB8RYPhygC-ORdHuyTQ', 'confidence': 0.5534742, 'salience': 0.1406404, 'isCustom': False, 'allUris': ['http://www.wikidata.org/entity/Q3196867'], 'allTypes': [], 'mentions': [{'text': 'Principal', 'beginOffset': 5824, 'endOffset': 5833, 'confidence': 0.5534742}]}, {'name': 'costume accessory', 'diffbotUri': 'https://diffbot.com/entity/EPw74sFWwOUC6d3e8prDXpQ', 'confidence': 0.70078105, 'salience': 0.102281846, 'isCustom': False, 'allUris': ['http://www.wikidata.org/entity/Q1065579'], 'allTypes': [{'name': 'skill', 'diffbotUri': 'https://diffbot.com/entity/EvfbHngnSNVOh7ZBM5XTywQ'}, {'name': 'product', 'diffbotUri': 'https://diffbot.com/entity/EgSPUye7QPcyQoPylO8biMQ'}], 'mentions': [{'text': 'accessories', 'beginOffset': 139, 'endOffset': 150, 'confidence': 0.70078105}, {'text': 'Accessories', 'beginOffset': 1601, 'endOffset': 1612, 'confidence': 0.70078105}]}, {'name': 'Africa', 'diffbotUri': 'https://diffbot.com/entity/E3Kl9aoAuN2Wc2oXM3zYx-Q', 'confidence': 0.9514532, 'salience': 0.100753754, 'isCustom': False, 'allUris': ['http://www.wikidata.org/entity/Q15'], 'allTypes': [{'name': 'location', 'diffbotUri': 'https://diffbot.com/entity/EiCyWUm4lNziqgLHx47iAIQ', 'dbpediaUri': 'http://dbpedia.org/ontology/Place'}], 'mentions': [{'text': 'Africa', 'beginOffset': 3573, 'endOffset': 3579, 'confidence': 0.9514532}], 'location': {'latitude': 21.09375, 'longitude': 7.1881, 'precision': 5501.9087}}, {'name': 'tablet computer', 'diffbotUri': 'https://diffbot.com/entity/EAdkG3GAJMruajLpL7S5DAA', 'confidence': 0.8099857, 'salience': 0.08653972, 'isCustom': False, 'allUris': ['http://www.wikidata.org/entity/Q155972'], 'allTypes': [{'name': 'skill', 'diffbotUri': 'https://diffbot.com/entity/EvfbHngnSNVOh7ZBM5XTywQ'}, {'name': 'product', 'diffbotUri': 'https://diffbot.com/entity/EgSPUye7QPcyQoPylO8biMQ'}, {'name': 'tool', 'diffbotUri': 'https://diffbot.com/entity/EKvoYuTx4P9WT35YUouc0ug'}], 'mentions': [{'text': 'tablets', 'beginOffset': 116, 'endOffset': 123, 'confidence': 0.8099857}]}, {'name': 'computer', 'diffbotUri': 'https://diffbot.com/entity/Eb-dTb5tfPeiTHigLEgFPEg', 'confidence': 1.0, 'salience': 0.08305082, 'isCustom': False, 'allUris': ['http://www.wikidata.org/entity/Q68'], 'allTypes': [{'name': 'skill', 'diffbotUri': 'https://diffbot.com/entity/EvfbHngnSNVOh7ZBM5XTywQ'}, {'name': 'product', 'diffbotUri': 'https://diffbot.com/entity/EgSPUye7QPcyQoPylO8biMQ'}, {'name': 'tool', 'diffbotUri': 'https://diffbot.com/entity/EKvoYuTx4P9WT35YUouc0ug'}], 'mentions': [{'text': 'computers', 'beginOffset': 105, 'endOffset': 114, 'confidence': 1.0}]}, {'name': 'operating system', 'diffbotUri': 'https://diffbot.com/entity/E7X3AS1wWOG2HH176y4K6Mw', 'confidence': 0.94991636, 'salience': 0.05852066, 'isCustom': False, 'allUris': ['http://www.wikidata.org/entity/Q9135'], 'allTypes': [{'name': 'skill', 'diffbotUri': 'https://diffbot.com/entity/EvfbHngnSNVOh7ZBM5XTywQ'}, {'name': 'product', 'diffbotUri': 'https://diffbot.com/entity/EgSPUye7QPcyQoPylO8biMQ'}], 'mentions': [{'text': 'operating system', 'beginOffset': 5753, 'endOffset': 5769, 'confidence': 0.94991636}]}, {'name': 'market', 'diffbotUri': 'https://diffbot.com/entity/EyTyYa7ivOjuJeX1BQY2m3w', 'confidence': 0.7979857, 'salience': 0.0554329, 'isCustom': False, 'allUris': ['http://www.wikidata.org/entity/Q37654'], 'allTypes': [], 'mentions': [{'text': 'Markets', 'beginOffset': 4055, 'endOffset': 4062, 'confidence': 0.7979857}, {'text': 'markets', 'beginOffset': 4208, 'endOffset': 4215, 'confidence': 0.7979857}]}, {'name': 'personal computer', 'diffbotUri': 'https://diffbot.com/entity/EoTwfIQ9MNoeomBUZosy3NQ', 'confidence': 0.7345952, 'salience': 0.041832343, 'isCustom': False, 'allUris': ['http://www.wikidata.org/entity/Q16338'], 'allTypes': [{'name': 'skill', 'diffbotUri': 'https://diffbot.com/entity/EvfbHngnSNVOh7ZBM5XTywQ'}, {'name': 'product', 'diffbotUri': 'https://diffbot.com/entity/EgSPUye7QPcyQoPylO8biMQ'}, {'name': 'tool', 'diffbotUri': 'https://diffbot.com/entity/EKvoYuTx4P9WT35YUouc0ug'}], 'mentions': [{'text': 'personal computers', 'beginOffset': 96, 'endOffset': 114, 'confidence': 0.7345952}]}, {'name': 'supply', 'diffbotUri': 'https://diffbot.com/entity/EvF2AFcJcOQCzGmHhui15yg', 'confidence': 0.6974954, 'salience': 0.03397267, 'isCustom': False, 'allUris': ['http://www.wikidata.org/entity/Q542869'], 'allTypes': [], 'mentions': [{'text': 'Supply', 'beginOffset': 7415, 'endOffset': 7421, 'confidence': 0.6974954}]}, {'name': 'Democratic Party', 'diffbotUri': 'https://diffbot.com/entity/EsAK1CigZMFeqk72s5EidGQ', 'confidence': 0.76270217, 'salience': 0.029444411, 'isCustom': False, 'allUris': ['http://www.wikidata.org/entity/Q29552'], 'allTypes': [{'name': 'organization', 'diffbotUri': 'https://diffbot.com/entity/EN1ClYEdMMQCxB6AWTkT3mA', 'dbpediaUri': 'http://dbpedia.org/ontology/Organisation'}, {'name': 'political party', 'diffbotUri': 'https://diffbot.com/entity/ETY34I85FO0WfOraaHr9oow', 'dbpediaUri': 'http://dbpedia.org/ontology/PoliticalParty'}], 'mentions': [{'text': 'D', 'beginOffset': 9321, 'endOffset': 9322, 'confidence': 0.76270217}], 'location': {'latitude': 38.8843, 'longitude': -77.0091, 'precision': 10.0}}, {'name': 'product', 'diffbotUri': 'https://diffbot.com/entity/EgSPUye7QPcyQoPylO8biMQ', 'confidence': 0.55800986, 'salience': 0.020168852, 'isCustom': False, 'allUris': ['http://www.wikidata.org/entity/Q2424752'], 'allTypes': [], 'mentions': [{'text': 'Products', 'beginOffset': 299, 'endOffset': 307, 'confidence': 0.55800986}, {'text': 'products', 'beginOffset': 1378, 'endOffset': 1386, 'confidence': 0.55800986}]}, {'name': 'competition', 'diffbotUri': 'https://diffbot.com/entity/ErEdCau25PFWVcoTAvJNMXw', 'confidence': 0.62123245, 'salience': 0.012707619, 'isCustom': False, 'allUris': ['http://www.wikidata.org/entity/Q476300'], 'allTypes': [{'name': 'event', 'diffbotUri': 'https://diffbot.com/entity/ERNUaoRZ5MSSJKx-s-xTYOA', 'dbpediaUri': 'http://dbpedia.org/ontology/Event'}], 'mentions': [{'text': 'Competition', 'beginOffset': 4710, 'endOffset': 4721, 'confidence': 0.60286176}, {'text': 'Competition', 'beginOffset': 6742, 'endOffset': 6753, 'confidence': 0.62123245}]}, {'name': 'electronic component', 'diffbotUri': 'https://diffbot.com/entity/EqpVVwm3GMs-UsXneN7qysA', 'confidence': 0.65749913, 'salience': 0.008044356, 'isCustom': False, 'allUris': ['http://www.wikidata.org/entity/Q11653'], 'allTypes': [{'name': 'skill', 'diffbotUri': 'https://diffbot.com/entity/EvfbHngnSNVOh7ZBM5XTywQ'}, {'name': 'product', 'diffbotUri': 'https://diffbot.com/entity/EgSPUye7QPcyQoPylO8biMQ'}, {'name': 'tool', 'diffbotUri': 'https://diffbot.com/entity/EKvoYuTx4P9WT35YUouc0ug'}], 'mentions': [{'text': 'Components', 'beginOffset': 7425, 'endOffset': 7435, 'confidence': 0.65749913}, {'text': 'components', 'beginOffset': 7450, 'endOffset': 7460, 'confidence': 0.65749913}]}, {'name': 'design', 'diffbotUri': 'https://diffbot.com/entity/ESqGb0ib7MJa6pgKZ8PDRHA', 'confidence': 0.64668196, 'salience': 0.00418138, 'isCustom': False, 'allUris': ['http://www.wikidata.org/entity/Q82604'], 'allTypes': [{'name': 'skill', 'diffbotUri': 'https://diffbot.com/entity/EvfbHngnSNVOh7ZBM5XTywQ'}, {'name': 'field of work', 'diffbotUri': 'https://diffbot.com/entity/EjGOLMsQZOGSg549SwYfFyQ'}], 'mentions': [{'text': 'designs', 'beginOffset': 49, 'endOffset': 56, 'confidence': 0.64668196}]}, {'name': 'service', 'diffbotUri': 'https://diffbot.com/entity/EOVfbhD0kNdqWmRNJkr8jpQ', 'confidence': 0.6782266, 'salience': 0.001870992, 'isCustom': False, 'allUris': ['http://www.wikidata.org/entity/Q7406919'], 'allTypes': [{'name': 'skill', 'diffbotUri': 'https://diffbot.com/entity/EvfbHngnSNVOh7ZBM5XTywQ'}, {'name': 'product', 'diffbotUri': 'https://diffbot.com/entity/EgSPUye7QPcyQoPylO8biMQ'}], 'mentions': [{'text': 'services', 'beginOffset': 183, 'endOffset': 191, 'confidence': 0.6782266}]}, {'name': 'Human Capital The Company', 'confidence': 0.99941194, 'salience': 0.0, 'isCustom': False, 'allUris': [], 'allTypes': [{'name': 'organization', 'diffbotUri': 'https://diffbot.com/entity/EN1ClYEdMMQCxB6AWTkT3mA', 'dbpediaUri': 'http://dbpedia.org/ontology/Organisation'}], 'mentions': [{'text': 'Human Capital The Company', 'beginOffset': 12000, 'endOffset': 12025, 'confidence': 0.99941194}]}, {'name': '2023', 'confidence': 0.9948803, 'salience': 0.0, 'isCustom': False, 'allUris': [], 'allTypes': [{'name': 'date', 'diffbotUri': 'https://diffbot.com/entity/EGTSOJhZ0NnqIjbjgQ8pyLg'}], 'mentions': [{'text': '2023', 'beginOffset': 4559, 'endOffset': 4563, 'confidence': 0.9948803}]}, {'name': '2,023', 'confidence': 0.9923503, 'salience': 0.0, 'isCustom': False, 'allUris': [], 'allTypes': [{'name': 'number', 'diffbotUri': 'https://diffbot.com/entity/E7TnJgFyiMYqQUg3cvm8I3g'}], 'mentions': [{'text': '2023', 'beginOffset': 1678, 'endOffset': 1682, 'confidence': 0.9897739}, {'text': '2023', 'beginOffset': 5439, 'endOffset': 5443, 'confidence': 0.9880548}, {'text': '2023', 'beginOffset': 11247, 'endOffset': 11251, 'confidence': 0.9923503}, {'text': '2023', 'beginOffset': 15573, 'endOffset': 15577, 'confidence': 0.97000176}]}, {'name': '3', 'confidence': 0.62703776, 'salience': 0.0, 'isCustom': False, 'allUris': [], 'allTypes': [{'name': 'number', 'diffbotUri': 'https://diffbot.com/entity/E7TnJgFyiMYqQUg3cvm8I3g'}], 'mentions': [{'text': '3', 'beginOffset': 11264, 'endOffset': 11265, 'confidence': 0.62703776}]}, {'name': '52', 'confidence': 0.99980694, 'salience': 0.0, 'isCustom': False, 'allUris': [], 'allTypes': [{'name': 'number', 'diffbotUri': 'https://diffbot.com/entity/E7TnJgFyiMYqQUg3cvm8I3g'}], 'mentions': [{'text': '52- or 53-week', 'beginOffset': 232, 'endOffset': 246, 'confidence': 0.99980694}]}, {'name': 'AirPods', 'confidence': 0.9214675, 'salience': 0.7979413, 'isCustom': False, 'allUris': [], 'allTypes': [{'name': 'organization', 'diffbotUri': 'https://diffbot.com/entity/EN1ClYEdMMQCxB6AWTkT3mA', 'dbpediaUri': 'http://dbpedia.org/ontology/Organisation'}], 'mentions': [{'text': 'AirPods', 'beginOffset': 1304, 'endOffset': 1311, 'confidence': 0.9214675}]}, {'name': '2', 'confidence': 0.6128657, 'salience': 0.0, 'isCustom': False, 'allUris': [], 'allTypes': [{'name': 'number', 'diffbotUri': 'https://diffbot.com/entity/E7TnJgFyiMYqQUg3cvm8I3g'}], 'mentions': [{'text': '2', 'beginOffset': 5456, 'endOffset': 5457, 'confidence': 0.6128657}]}, {'name': 'Apple Fitness', 'confidence': 0.7529026, 'salience': 0.0, 'isCustom': False, 'allUris': [], 'allTypes': [{'name': 'organization', 'diffbotUri': 'https://diffbot.com/entity/EN1ClYEdMMQCxB6AWTkT3mA', 'dbpediaUri': 'http://dbpedia.org/ontology/Organisation'}], 'mentions': [{'text': 'Apple Fitness', 'beginOffset': 2798, 'endOffset': 2811, 'confidence': 0.7529026}]}, {'name': 'Health and Safety', 'confidence': 0.94981337, 'salience': 0.0, 'isCustom': False, 'allUris': [], 'allTypes': [{'name': 'organization', 'diffbotUri': 'https://diffbot.com/entity/EN1ClYEdMMQCxB6AWTkT3mA', 'dbpediaUri': 'http://dbpedia.org/ontology/Organisation'}], 'mentions': [{'text': 'Health and Safety', 'beginOffset': 13809, 'endOffset': 13826, 'confidence': 0.94981337}]}, {'name': '1,000', 'confidence': 0.96274126, 'salience': 0.0, 'isCustom': False, 'allUris': [], 'allTypes': [{'name': 'number', 'diffbotUri': 'https://diffbot.com/entity/E7TnJgFyiMYqQUg3cvm8I3g'}], 'mentions': [{'text': 'thousands', 'beginOffset': 10267, 'endOffset': 10276, 'confidence': 0.96274126}]}, {'name': 'U.S. Securities and Exchange Commission', 'confidence': 0.9999136, 'salience': 0.0, 'isCustom': False, 'allUris': [], 'allTypes': [{'name': 'organization', 'diffbotUri': 'https://diffbot.com/entity/EN1ClYEdMMQCxB6AWTkT3mA', 'dbpediaUri': 'http://dbpedia.org/ontology/Organisation'}], 'mentions': [{'text': 'U.S. Securities and Exchange Commission', 'beginOffset': 14659, 'endOffset': 14698, 'confidence': 0.9999136}, {'text': 'SEC', 'beginOffset': 14711, 'endOffset': 14714, 'confidence': 0.9943721}, {'text': 'SEC', 'beginOffset': 14789, 'endOffset': 14792, 'confidence': 0.99970967}, {'text': 'SEC', 'beginOffset': 14927, 'endOffset': 14930, 'confidence': 0.9998653}]}, {'name': '1', 'confidence': 0.9894834, 'salience': 0.0, 'isCustom': False, 'allUris': [], 'allTypes': [{'name': 'number', 'diffbotUri': 'https://diffbot.com/entity/E7TnJgFyiMYqQUg3cvm8I3g'}], 'mentions': [{'text': '1', 'beginOffset': 6, 'endOffset': 7, 'confidence': 0.9894834}, {'text': '1', 'beginOffset': 1695, 'endOffset': 1696, 'confidence': 0.9534895}]}, {'name': '161,000', 'confidence': 0.95559275, 'salience': 0.0, 'isCustom': False, 'allUris': [], 'allTypes': [{'name': 'number', 'diffbotUri': 'https://diffbot.com/entity/E7TnJgFyiMYqQUg3cvm8I3g'}], 'mentions': [{'text': 'approximately 161,000', 'beginOffset': 12221, 'endOffset': 12242, 'confidence': 0.95559275}]}, {'name': '1', 'confidence': 0.92893374, 'salience': 0.0, 'isCustom': False, 'allUris': [], 'allTypes': [{'name': 'number', 'diffbotUri': 'https://diffbot.com/entity/E7TnJgFyiMYqQUg3cvm8I3g'}], 'mentions': [{'text': 'only one', 'beginOffset': 8163, 'endOffset': 8171, 'confidence': 0.92893374}]}, {'name': '2023-09-30', 'confidence': 0.99922884, 'salience': 0.0, 'isCustom': False, 'allUris': [], 'allTypes': [{'name': 'date', 'diffbotUri': 'https://diffbot.com/entity/EGTSOJhZ0NnqIjbjgQ8pyLg'}], 'mentions': [{'text': 'September 30, 2023', 'beginOffset': 12185, 'endOffset': 12203, 'confidence': 0.99922884}]}, {'name': '4', 'confidence': 0.8921649, 'salience': 0.0, 'isCustom': False, 'allUris': [], 'allTypes': [{'name': 'number', 'diffbotUri': 'https://diffbot.com/entity/E7TnJgFyiMYqQUg3cvm8I3g'}], 'mentions': [{'text': '4', 'beginOffset': 15590, 'endOffset': 15591, 'confidence': 0.8921649}]}, {'name': 'Business Company', 'confidence': 0.8633712, 'salience': 0.0, 'isCustom': False, 'allUris': [], 'allTypes': [{'name': 'organization', 'diffbotUri': 'https://diffbot.com/entity/EN1ClYEdMMQCxB6AWTkT3mA', 'dbpediaUri': 'http://dbpedia.org/ontology/Organisation'}], 'mentions': [{'text': 'Business Company', 'beginOffset': 9, 'endOffset': 25, 'confidence': 0.8633712}]}], 'facts': []}\n"
     ]
    }
   ],
   "source": [
    "(aapl_sec_ents, aapl_sec_rels) = sec_10k_ner_rel_pipeline('AAPL')"
   ]
  },
  {
   "cell_type": "code",
   "execution_count": 111,
   "metadata": {},
   "outputs": [
    {
     "data": {
      "text/html": [
       "<div>\n",
       "<style scoped>\n",
       "    .dataframe tbody tr th:only-of-type {\n",
       "        vertical-align: middle;\n",
       "    }\n",
       "\n",
       "    .dataframe tbody tr th {\n",
       "        vertical-align: top;\n",
       "    }\n",
       "\n",
       "    .dataframe thead th {\n",
       "        text-align: right;\n",
       "    }\n",
       "</style>\n",
       "<table border=\"1\" class=\"dataframe\">\n",
       "  <thead>\n",
       "    <tr style=\"text-align: right;\">\n",
       "      <th></th>\n",
       "      <th>name</th>\n",
       "      <th>salience</th>\n",
       "      <th>Labels</th>\n",
       "    </tr>\n",
       "  </thead>\n",
       "  <tbody>\n",
       "    <tr>\n",
       "      <th>0</th>\n",
       "      <td>Apple</td>\n",
       "      <td>0.902315</td>\n",
       "      <td>company</td>\n",
       "    </tr>\n",
       "    <tr>\n",
       "      <th>1</th>\n",
       "      <td>MacBook Air</td>\n",
       "      <td>0.895517</td>\n",
       "      <td>product</td>\n",
       "    </tr>\n",
       "    <tr>\n",
       "      <th>2</th>\n",
       "      <td>MacBook Pro</td>\n",
       "      <td>0.867708</td>\n",
       "      <td>product</td>\n",
       "    </tr>\n",
       "    <tr>\n",
       "      <th>3</th>\n",
       "      <td>Apple TV</td>\n",
       "      <td>0.840443</td>\n",
       "      <td>product</td>\n",
       "    </tr>\n",
       "    <tr>\n",
       "      <th>4</th>\n",
       "      <td>AirPods Max</td>\n",
       "      <td>0.831631</td>\n",
       "      <td>None</td>\n",
       "    </tr>\n",
       "  </tbody>\n",
       "</table>\n",
       "</div>"
      ],
      "text/plain": [
       "          name  salience   Labels\n",
       "0        Apple  0.902315  company\n",
       "1  MacBook Air  0.895517  product\n",
       "2  MacBook Pro  0.867708  product\n",
       "3     Apple TV  0.840443  product\n",
       "4  AirPods Max  0.831631     None"
      ]
     },
     "execution_count": 111,
     "metadata": {},
     "output_type": "execute_result"
    }
   ],
   "source": [
    "aapl_sec_ents.head() # more entities extracted compared to wikipedia articles."
   ]
  },
  {
   "cell_type": "code",
   "execution_count": 113,
   "metadata": {},
   "outputs": [
    {
     "data": {
      "text/html": [
       "<div>\n",
       "<style scoped>\n",
       "    .dataframe tbody tr th:only-of-type {\n",
       "        vertical-align: middle;\n",
       "    }\n",
       "\n",
       "    .dataframe tbody tr th {\n",
       "        vertical-align: top;\n",
       "    }\n",
       "\n",
       "    .dataframe thead th {\n",
       "        text-align: right;\n",
       "    }\n",
       "</style>\n",
       "<table border=\"1\" class=\"dataframe\">\n",
       "  <thead>\n",
       "    <tr style=\"text-align: right;\">\n",
       "      <th></th>\n",
       "    </tr>\n",
       "  </thead>\n",
       "  <tbody>\n",
       "  </tbody>\n",
       "</table>\n",
       "</div>"
      ],
      "text/plain": [
       "Empty DataFrame\n",
       "Columns: []\n",
       "Index: []"
      ]
     },
     "execution_count": 113,
     "metadata": {},
     "output_type": "execute_result"
    }
   ],
   "source": [
    "aapl_sec_rels #can't extract relationships from 10-K forms."
   ]
  },
  {
   "cell_type": "code",
   "execution_count": 114,
   "metadata": {},
   "outputs": [
    {
     "name": "stdout",
     "output_type": "stream",
     "text": [
      "Found Company: Apple Inc.\n"
     ]
    },
    {
     "name": "stderr",
     "output_type": "stream",
     "text": [
      "C:\\Users\\ongai\\AppData\\Local\\Temp\\ipykernel_28788\\2575082870.py:5: SettingWithCopyWarning: \n",
      "A value is trying to be set on a copy of a slice from a DataFrame.\n",
      "Try using .loc[row_indexer,col_indexer] = value instead\n",
      "\n",
      "See the caveats in the documentation: https://pandas.pydata.org/pandas-docs/stable/user_guide/indexing.html#returning-a-view-versus-a-copy\n",
      "  salient_ents[\"Labels\"] = None\n"
     ]
    }
   ],
   "source": [
    "(aapl_wiki_ents, aapl_wiki_rels) = wikipedia_ner_rel_pipeline(\"AAPL\")"
   ]
  },
  {
   "cell_type": "code",
   "execution_count": 115,
   "metadata": {},
   "outputs": [
    {
     "data": {
      "text/html": [
       "<div>\n",
       "<style scoped>\n",
       "    .dataframe tbody tr th:only-of-type {\n",
       "        vertical-align: middle;\n",
       "    }\n",
       "\n",
       "    .dataframe tbody tr th {\n",
       "        vertical-align: top;\n",
       "    }\n",
       "\n",
       "    .dataframe thead th {\n",
       "        text-align: right;\n",
       "    }\n",
       "</style>\n",
       "<table border=\"1\" class=\"dataframe\">\n",
       "  <thead>\n",
       "    <tr style=\"text-align: right;\">\n",
       "      <th></th>\n",
       "      <th>name</th>\n",
       "      <th>salience</th>\n",
       "      <th>Labels</th>\n",
       "    </tr>\n",
       "  </thead>\n",
       "  <tbody>\n",
       "    <tr>\n",
       "      <th>0</th>\n",
       "      <td>Jef Raskin</td>\n",
       "      <td>0.957273</td>\n",
       "      <td>person</td>\n",
       "    </tr>\n",
       "    <tr>\n",
       "      <th>1</th>\n",
       "      <td>Ronald Wayne</td>\n",
       "      <td>0.945415</td>\n",
       "      <td>person</td>\n",
       "    </tr>\n",
       "    <tr>\n",
       "      <th>2</th>\n",
       "      <td>Apple</td>\n",
       "      <td>0.924540</td>\n",
       "      <td>company</td>\n",
       "    </tr>\n",
       "    <tr>\n",
       "      <th>3</th>\n",
       "      <td>Steve Jobs</td>\n",
       "      <td>0.899881</td>\n",
       "      <td>person</td>\n",
       "    </tr>\n",
       "    <tr>\n",
       "      <th>4</th>\n",
       "      <td>Jean-Louis Gassée</td>\n",
       "      <td>0.883979</td>\n",
       "      <td>person</td>\n",
       "    </tr>\n",
       "  </tbody>\n",
       "</table>\n",
       "</div>"
      ],
      "text/plain": [
       "                name  salience   Labels\n",
       "0         Jef Raskin  0.957273   person\n",
       "1       Ronald Wayne  0.945415   person\n",
       "2              Apple  0.924540  company\n",
       "3         Steve Jobs  0.899881   person\n",
       "4  Jean-Louis Gassée  0.883979   person"
      ]
     },
     "execution_count": 115,
     "metadata": {},
     "output_type": "execute_result"
    }
   ],
   "source": [
    "aapl_wiki_ents.head() # fewer entities extracted"
   ]
  },
  {
   "cell_type": "code",
   "execution_count": 116,
   "metadata": {},
   "outputs": [
    {
     "data": {
      "text/html": [
       "<div>\n",
       "<style scoped>\n",
       "    .dataframe tbody tr th:only-of-type {\n",
       "        vertical-align: middle;\n",
       "    }\n",
       "\n",
       "    .dataframe tbody tr th {\n",
       "        vertical-align: top;\n",
       "    }\n",
       "\n",
       "    .dataframe thead th {\n",
       "        text-align: right;\n",
       "    }\n",
       "</style>\n",
       "<table border=\"1\" class=\"dataframe\">\n",
       "  <thead>\n",
       "    <tr style=\"text-align: right;\">\n",
       "      <th></th>\n",
       "      <th>entity</th>\n",
       "      <th>property</th>\n",
       "      <th>value</th>\n",
       "      <th>evidence</th>\n",
       "    </tr>\n",
       "  </thead>\n",
       "  <tbody>\n",
       "    <tr>\n",
       "      <th>0</th>\n",
       "      <td>Apple Computer Company</td>\n",
       "      <td>founded by</td>\n",
       "      <td>Steve Jobs</td>\n",
       "      <td>Apple Computer Company was founded on April 1,...</td>\n",
       "    </tr>\n",
       "    <tr>\n",
       "      <th>1</th>\n",
       "      <td>Apple Computer Company</td>\n",
       "      <td>chief executive officer</td>\n",
       "      <td>Steve Jobs</td>\n",
       "      <td>Apple Computer Company was founded on April 1,...</td>\n",
       "    </tr>\n",
       "    <tr>\n",
       "      <th>2</th>\n",
       "      <td>Steve Jobs</td>\n",
       "      <td>position held</td>\n",
       "      <td>CEO</td>\n",
       "      <td>[39]: 195  In early 1985, this sales slump tri...</td>\n",
       "    </tr>\n",
       "    <tr>\n",
       "      <th>3</th>\n",
       "      <td>Be Inc.</td>\n",
       "      <td>competitors</td>\n",
       "      <td>Gassée</td>\n",
       "      <td>[52] Gassée left the company later that year t...</td>\n",
       "    </tr>\n",
       "    <tr>\n",
       "      <th>4</th>\n",
       "      <td>Steve Jobs</td>\n",
       "      <td>employee or member of</td>\n",
       "      <td>Apple</td>\n",
       "      <td>The next month, in August 1997, Steve Jobs con...</td>\n",
       "    </tr>\n",
       "  </tbody>\n",
       "</table>\n",
       "</div>"
      ],
      "text/plain": [
       "                   entity                 property       value                                           evidence\n",
       "0  Apple Computer Company               founded by  Steve Jobs  Apple Computer Company was founded on April 1,...\n",
       "1  Apple Computer Company  chief executive officer  Steve Jobs  Apple Computer Company was founded on April 1,...\n",
       "2              Steve Jobs            position held         CEO  [39]: 195  In early 1985, this sales slump tri...\n",
       "3                 Be Inc.              competitors      Gassée  [52] Gassée left the company later that year t...\n",
       "4              Steve Jobs    employee or member of       Apple  The next month, in August 1997, Steve Jobs con..."
      ]
     },
     "execution_count": 116,
     "metadata": {},
     "output_type": "execute_result"
    }
   ],
   "source": [
    "aapl_wiki_rels.head()"
   ]
  },
  {
   "cell_type": "code",
   "execution_count": 117,
   "metadata": {},
   "outputs": [
    {
     "data": {
      "text/plain": [
       "array(['founded by', 'chief executive officer', 'position held',\n",
       "       'competitors', 'employee or member of', 'industry',\n",
       "       'work relationship', 'acquired by', 'parent organization',\n",
       "       'partnership', 'subsidiary', 'brands', 'number of employees',\n",
       "       'customers', 'suppliers', 'organization locations', 'skilled at',\n",
       "       'interested in', 'cause of death', 'product type', 'founding date',\n",
       "       'headquarters', 'yearly revenue', 'political affiliation',\n",
       "       'date of death', 'all names', 'gender'], dtype=object)"
      ]
     },
     "execution_count": 117,
     "metadata": {},
     "output_type": "execute_result"
    }
   ],
   "source": [
    "aapl_wiki_rels[\"property\"].unique()"
   ]
  },
  {
   "cell_type": "code",
   "execution_count": 118,
   "metadata": {},
   "outputs": [
    {
     "data": {
      "text/html": [
       "<div>\n",
       "<style scoped>\n",
       "    .dataframe tbody tr th:only-of-type {\n",
       "        vertical-align: middle;\n",
       "    }\n",
       "\n",
       "    .dataframe tbody tr th {\n",
       "        vertical-align: top;\n",
       "    }\n",
       "\n",
       "    .dataframe thead th {\n",
       "        text-align: right;\n",
       "    }\n",
       "</style>\n",
       "<table border=\"1\" class=\"dataframe\">\n",
       "  <thead>\n",
       "    <tr style=\"text-align: right;\">\n",
       "      <th></th>\n",
       "      <th>entity</th>\n",
       "      <th>property</th>\n",
       "      <th>value</th>\n",
       "      <th>evidence</th>\n",
       "    </tr>\n",
       "  </thead>\n",
       "  <tbody>\n",
       "    <tr>\n",
       "      <th>75</th>\n",
       "      <td>Emagic</td>\n",
       "      <td>product type</td>\n",
       "      <td>music software</td>\n",
       "      <td>The purchase of Emagic made Apple the first co...</td>\n",
       "    </tr>\n",
       "    <tr>\n",
       "      <th>76</th>\n",
       "      <td>Emagic</td>\n",
       "      <td>product type</td>\n",
       "      <td>computer</td>\n",
       "      <td>The purchase of Emagic made Apple the first co...</td>\n",
       "    </tr>\n",
       "    <tr>\n",
       "      <th>108</th>\n",
       "      <td>Apple Energy, LLC</td>\n",
       "      <td>product type</td>\n",
       "      <td>solar energy</td>\n",
       "      <td>Apple Energy, LLC is a wholly-owned subsidiary...</td>\n",
       "    </tr>\n",
       "    <tr>\n",
       "      <th>119</th>\n",
       "      <td>Apple Inc.</td>\n",
       "      <td>product type</td>\n",
       "      <td>solar energy</td>\n",
       "      <td>Apple Energy, LLC is a wholly-owned subsidiary...</td>\n",
       "    </tr>\n",
       "    <tr>\n",
       "      <th>155</th>\n",
       "      <td>Apple</td>\n",
       "      <td>product type</td>\n",
       "      <td>mobile handset</td>\n",
       "      <td>[115] By October 2008, Apple was the third-lar...</td>\n",
       "    </tr>\n",
       "  </tbody>\n",
       "</table>\n",
       "</div>"
      ],
      "text/plain": [
       "                entity      property           value                                           evidence\n",
       "75              Emagic  product type  music software  The purchase of Emagic made Apple the first co...\n",
       "76              Emagic  product type        computer  The purchase of Emagic made Apple the first co...\n",
       "108  Apple Energy, LLC  product type    solar energy  Apple Energy, LLC is a wholly-owned subsidiary...\n",
       "119         Apple Inc.  product type    solar energy  Apple Energy, LLC is a wholly-owned subsidiary...\n",
       "155              Apple  product type  mobile handset  [115] By October 2008, Apple was the third-lar..."
      ]
     },
     "execution_count": 118,
     "metadata": {},
     "output_type": "execute_result"
    }
   ],
   "source": [
    "aapl_wiki_rels[aapl_wiki_rels[\"property\"] == \"product type\"]"
   ]
  },
  {
   "cell_type": "code",
   "execution_count": 119,
   "metadata": {},
   "outputs": [
    {
     "data": {
      "text/html": [
       "<div>\n",
       "<style scoped>\n",
       "    .dataframe tbody tr th:only-of-type {\n",
       "        vertical-align: middle;\n",
       "    }\n",
       "\n",
       "    .dataframe tbody tr th {\n",
       "        vertical-align: top;\n",
       "    }\n",
       "\n",
       "    .dataframe thead th {\n",
       "        text-align: right;\n",
       "    }\n",
       "</style>\n",
       "<table border=\"1\" class=\"dataframe\">\n",
       "  <thead>\n",
       "    <tr style=\"text-align: right;\">\n",
       "      <th></th>\n",
       "      <th>entity</th>\n",
       "      <th>property</th>\n",
       "      <th>value</th>\n",
       "      <th>evidence</th>\n",
       "    </tr>\n",
       "  </thead>\n",
       "  <tbody>\n",
       "    <tr>\n",
       "      <th>44</th>\n",
       "      <td>Apple</td>\n",
       "      <td>organization locations</td>\n",
       "      <td>Ireland</td>\n",
       "      <td>Apple's headquarters for Europe, the Middle Ea...</td>\n",
       "    </tr>\n",
       "    <tr>\n",
       "      <th>47</th>\n",
       "      <td>Apple</td>\n",
       "      <td>organization locations</td>\n",
       "      <td>Cork</td>\n",
       "      <td>[274] Apple's international sales and distribu...</td>\n",
       "    </tr>\n",
       "    <tr>\n",
       "      <th>62</th>\n",
       "      <td>Apple</td>\n",
       "      <td>organization locations</td>\n",
       "      <td>Austin</td>\n",
       "      <td>Apple has two campuses near Austin, Texas: a 2...</td>\n",
       "    </tr>\n",
       "    <tr>\n",
       "      <th>70</th>\n",
       "      <td>Apple</td>\n",
       "      <td>organization locations</td>\n",
       "      <td>Texas</td>\n",
       "      <td>Apple has two campuses near Austin, Texas: a 2...</td>\n",
       "    </tr>\n",
       "    <tr>\n",
       "      <th>83</th>\n",
       "      <td>Apple</td>\n",
       "      <td>organization locations</td>\n",
       "      <td>Cork</td>\n",
       "      <td>Apple's headquarters for Europe, the Middle Ea...</td>\n",
       "    </tr>\n",
       "    <tr>\n",
       "      <th>88</th>\n",
       "      <td>Apple</td>\n",
       "      <td>organization locations</td>\n",
       "      <td>California</td>\n",
       "      <td>Apple Computer, Inc. was incorporated in Cuper...</td>\n",
       "    </tr>\n",
       "    <tr>\n",
       "      <th>125</th>\n",
       "      <td>Apple</td>\n",
       "      <td>organization locations</td>\n",
       "      <td>Cupertino</td>\n",
       "      <td>Apple Inc. is an American multinational corpor...</td>\n",
       "    </tr>\n",
       "    <tr>\n",
       "      <th>158</th>\n",
       "      <td>Zhengzhou Technology Park</td>\n",
       "      <td>organization locations</td>\n",
       "      <td>Zhengzhou</td>\n",
       "      <td>[386] Zhengzhou Technology Park alone employs ...</td>\n",
       "    </tr>\n",
       "  </tbody>\n",
       "</table>\n",
       "</div>"
      ],
      "text/plain": [
       "                        entity                property       value                                           evidence\n",
       "44                       Apple  organization locations     Ireland  Apple's headquarters for Europe, the Middle Ea...\n",
       "47                       Apple  organization locations        Cork  [274] Apple's international sales and distribu...\n",
       "62                       Apple  organization locations      Austin  Apple has two campuses near Austin, Texas: a 2...\n",
       "70                       Apple  organization locations       Texas  Apple has two campuses near Austin, Texas: a 2...\n",
       "83                       Apple  organization locations        Cork  Apple's headquarters for Europe, the Middle Ea...\n",
       "88                       Apple  organization locations  California  Apple Computer, Inc. was incorporated in Cuper...\n",
       "125                      Apple  organization locations   Cupertino  Apple Inc. is an American multinational corpor...\n",
       "158  Zhengzhou Technology Park  organization locations   Zhengzhou  [386] Zhengzhou Technology Park alone employs ..."
      ]
     },
     "execution_count": 119,
     "metadata": {},
     "output_type": "execute_result"
    }
   ],
   "source": [
    "aapl_wiki_rels[aapl_wiki_rels[\"property\"] == \"organization locations\"]"
   ]
  },
  {
   "cell_type": "code",
   "execution_count": 120,
   "metadata": {},
   "outputs": [
    {
     "data": {
      "text/html": [
       "<div>\n",
       "<style scoped>\n",
       "    .dataframe tbody tr th:only-of-type {\n",
       "        vertical-align: middle;\n",
       "    }\n",
       "\n",
       "    .dataframe tbody tr th {\n",
       "        vertical-align: top;\n",
       "    }\n",
       "\n",
       "    .dataframe thead th {\n",
       "        text-align: right;\n",
       "    }\n",
       "</style>\n",
       "<table border=\"1\" class=\"dataframe\">\n",
       "  <thead>\n",
       "    <tr style=\"text-align: right;\">\n",
       "      <th></th>\n",
       "      <th>entity</th>\n",
       "      <th>property</th>\n",
       "      <th>value</th>\n",
       "      <th>evidence</th>\n",
       "    </tr>\n",
       "  </thead>\n",
       "  <tbody>\n",
       "    <tr>\n",
       "      <th>89</th>\n",
       "      <td>Apple</td>\n",
       "      <td>headquarters</td>\n",
       "      <td>California</td>\n",
       "      <td>Apple Inc. is an American multinational corpor...</td>\n",
       "    </tr>\n",
       "    <tr>\n",
       "      <th>126</th>\n",
       "      <td>Apple</td>\n",
       "      <td>headquarters</td>\n",
       "      <td>Cupertino</td>\n",
       "      <td>Apple Inc. is an American multinational corpor...</td>\n",
       "    </tr>\n",
       "    <tr>\n",
       "      <th>159</th>\n",
       "      <td>Zhengzhou Technology Park</td>\n",
       "      <td>headquarters</td>\n",
       "      <td>Zhengzhou</td>\n",
       "      <td>[386] Zhengzhou Technology Park alone employs ...</td>\n",
       "    </tr>\n",
       "  </tbody>\n",
       "</table>\n",
       "</div>"
      ],
      "text/plain": [
       "                        entity      property       value                                           evidence\n",
       "89                       Apple  headquarters  California  Apple Inc. is an American multinational corpor...\n",
       "126                      Apple  headquarters   Cupertino  Apple Inc. is an American multinational corpor...\n",
       "159  Zhengzhou Technology Park  headquarters   Zhengzhou  [386] Zhengzhou Technology Park alone employs ..."
      ]
     },
     "execution_count": 120,
     "metadata": {},
     "output_type": "execute_result"
    }
   ],
   "source": [
    "aapl_wiki_rels[aapl_wiki_rels[\"property\"] == \"headquarters\"]"
   ]
  },
  {
   "cell_type": "code",
   "execution_count": 121,
   "metadata": {},
   "outputs": [
    {
     "data": {
      "text/html": [
       "<div>\n",
       "<style scoped>\n",
       "    .dataframe tbody tr th:only-of-type {\n",
       "        vertical-align: middle;\n",
       "    }\n",
       "\n",
       "    .dataframe tbody tr th {\n",
       "        vertical-align: top;\n",
       "    }\n",
       "\n",
       "    .dataframe thead th {\n",
       "        text-align: right;\n",
       "    }\n",
       "</style>\n",
       "<table border=\"1\" class=\"dataframe\">\n",
       "  <thead>\n",
       "    <tr style=\"text-align: right;\">\n",
       "      <th></th>\n",
       "      <th>entity</th>\n",
       "      <th>property</th>\n",
       "      <th>value</th>\n",
       "      <th>evidence</th>\n",
       "    </tr>\n",
       "  </thead>\n",
       "  <tbody>\n",
       "    <tr>\n",
       "      <th>6</th>\n",
       "      <td>Apple</td>\n",
       "      <td>industry</td>\n",
       "      <td>accounting</td>\n",
       "      <td>In the late 1980s, Apple was a pioneer of an a...</td>\n",
       "    </tr>\n",
       "    <tr>\n",
       "      <th>131</th>\n",
       "      <td>Apple</td>\n",
       "      <td>industry</td>\n",
       "      <td>technology</td>\n",
       "      <td>Apple is the largest technology company by rev...</td>\n",
       "    </tr>\n",
       "    <tr>\n",
       "      <th>169</th>\n",
       "      <td>Apple</td>\n",
       "      <td>industry</td>\n",
       "      <td>information technology</td>\n",
       "      <td>Apple is one of the Big Five American informat...</td>\n",
       "    </tr>\n",
       "  </tbody>\n",
       "</table>\n",
       "</div>"
      ],
      "text/plain": [
       "    entity  property                   value                                           evidence\n",
       "6    Apple  industry              accounting  In the late 1980s, Apple was a pioneer of an a...\n",
       "131  Apple  industry              technology  Apple is the largest technology company by rev...\n",
       "169  Apple  industry  information technology  Apple is one of the Big Five American informat..."
      ]
     },
     "execution_count": 121,
     "metadata": {},
     "output_type": "execute_result"
    }
   ],
   "source": [
    "aapl_wiki_rels[aapl_wiki_rels[\"property\"] == \"industry\"]"
   ]
  },
  {
   "cell_type": "code",
   "execution_count": 160,
   "metadata": {},
   "outputs": [
    {
     "data": {
      "text/html": [
       "<div>\n",
       "<style scoped>\n",
       "    .dataframe tbody tr th:only-of-type {\n",
       "        vertical-align: middle;\n",
       "    }\n",
       "\n",
       "    .dataframe tbody tr th {\n",
       "        vertical-align: top;\n",
       "    }\n",
       "\n",
       "    .dataframe thead th {\n",
       "        text-align: right;\n",
       "    }\n",
       "</style>\n",
       "<table border=\"1\" class=\"dataframe\">\n",
       "  <thead>\n",
       "    <tr style=\"text-align: right;\">\n",
       "      <th></th>\n",
       "      <th>entity</th>\n",
       "      <th>property</th>\n",
       "      <th>value</th>\n",
       "      <th>evidence</th>\n",
       "    </tr>\n",
       "  </thead>\n",
       "  <tbody>\n",
       "    <tr>\n",
       "      <th>24</th>\n",
       "      <td>Verizon</td>\n",
       "      <td>subsidiary</td>\n",
       "      <td>Flurry Analytics</td>\n",
       "      <td>A study by Verizon subsidiary Flurry Analytics...</td>\n",
       "    </tr>\n",
       "    <tr>\n",
       "      <th>117</th>\n",
       "      <td>Apple Inc.</td>\n",
       "      <td>subsidiary</td>\n",
       "      <td>Apple Energy, LLC</td>\n",
       "      <td>Apple Energy, LLC is a wholly-owned subsidiary...</td>\n",
       "    </tr>\n",
       "  </tbody>\n",
       "</table>\n",
       "</div>"
      ],
      "text/plain": [
       "         entity    property              value                                           evidence\n",
       "24      Verizon  subsidiary   Flurry Analytics  A study by Verizon subsidiary Flurry Analytics...\n",
       "117  Apple Inc.  subsidiary  Apple Energy, LLC  Apple Energy, LLC is a wholly-owned subsidiary..."
      ]
     },
     "execution_count": 160,
     "metadata": {},
     "output_type": "execute_result"
    }
   ],
   "source": [
    "aapl_wiki_rels[aapl_wiki_rels[\"property\"] == \"subsidiary\"]"
   ]
  },
  {
   "cell_type": "code",
   "execution_count": 123,
   "metadata": {},
   "outputs": [
    {
     "data": {
      "text/html": [
       "<div>\n",
       "<style scoped>\n",
       "    .dataframe tbody tr th:only-of-type {\n",
       "        vertical-align: middle;\n",
       "    }\n",
       "\n",
       "    .dataframe tbody tr th {\n",
       "        vertical-align: top;\n",
       "    }\n",
       "\n",
       "    .dataframe thead th {\n",
       "        text-align: right;\n",
       "    }\n",
       "</style>\n",
       "<table border=\"1\" class=\"dataframe\">\n",
       "  <thead>\n",
       "    <tr style=\"text-align: right;\">\n",
       "      <th></th>\n",
       "      <th>entity</th>\n",
       "      <th>property</th>\n",
       "      <th>value</th>\n",
       "      <th>evidence</th>\n",
       "    </tr>\n",
       "  </thead>\n",
       "  <tbody>\n",
       "    <tr>\n",
       "      <th>41</th>\n",
       "      <td>Apple</td>\n",
       "      <td>suppliers</td>\n",
       "      <td>NeXTSTEP</td>\n",
       "      <td>[69] Only weeks away from bankruptcy,[70] Appl...</td>\n",
       "    </tr>\n",
       "    <tr>\n",
       "      <th>66</th>\n",
       "      <td>Apple</td>\n",
       "      <td>suppliers</td>\n",
       "      <td>Lens Technology</td>\n",
       "      <td>Apple announced on August 16, 2016, that Lens ...</td>\n",
       "    </tr>\n",
       "    <tr>\n",
       "      <th>135</th>\n",
       "      <td>Apple</td>\n",
       "      <td>suppliers</td>\n",
       "      <td>Lens Technology</td>\n",
       "      <td>Apple announced on August 16, 2016, that Lens ...</td>\n",
       "    </tr>\n",
       "  </tbody>\n",
       "</table>\n",
       "</div>"
      ],
      "text/plain": [
       "    entity   property            value                                           evidence\n",
       "41   Apple  suppliers         NeXTSTEP  [69] Only weeks away from bankruptcy,[70] Appl...\n",
       "66   Apple  suppliers  Lens Technology  Apple announced on August 16, 2016, that Lens ...\n",
       "135  Apple  suppliers  Lens Technology  Apple announced on August 16, 2016, that Lens ..."
      ]
     },
     "execution_count": 123,
     "metadata": {},
     "output_type": "execute_result"
    }
   ],
   "source": [
    "aapl_wiki_rels[aapl_wiki_rels[\"property\"] == \"suppliers\"]"
   ]
  },
  {
   "cell_type": "code",
   "execution_count": 124,
   "metadata": {},
   "outputs": [
    {
     "data": {
      "text/html": [
       "<div>\n",
       "<style scoped>\n",
       "    .dataframe tbody tr th:only-of-type {\n",
       "        vertical-align: middle;\n",
       "    }\n",
       "\n",
       "    .dataframe tbody tr th {\n",
       "        vertical-align: top;\n",
       "    }\n",
       "\n",
       "    .dataframe thead th {\n",
       "        text-align: right;\n",
       "    }\n",
       "</style>\n",
       "<table border=\"1\" class=\"dataframe\">\n",
       "  <thead>\n",
       "    <tr style=\"text-align: right;\">\n",
       "      <th></th>\n",
       "      <th>entity</th>\n",
       "      <th>property</th>\n",
       "      <th>value</th>\n",
       "      <th>evidence</th>\n",
       "    </tr>\n",
       "  </thead>\n",
       "  <tbody>\n",
       "    <tr>\n",
       "      <th>3</th>\n",
       "      <td>Be Inc.</td>\n",
       "      <td>competitors</td>\n",
       "      <td>Gassée</td>\n",
       "      <td>[52] Gassée left the company later that year t...</td>\n",
       "    </tr>\n",
       "    <tr>\n",
       "      <th>11</th>\n",
       "      <td>Gassée</td>\n",
       "      <td>competitors</td>\n",
       "      <td>Be Inc.</td>\n",
       "      <td>[52] Gassée left the company later that year t...</td>\n",
       "    </tr>\n",
       "    <tr>\n",
       "      <th>111</th>\n",
       "      <td>Microsoft</td>\n",
       "      <td>competitors</td>\n",
       "      <td>Apple</td>\n",
       "      <td>[119] In May 2010, Apple's market cap exceeded...</td>\n",
       "    </tr>\n",
       "    <tr>\n",
       "      <th>127</th>\n",
       "      <td>Apple</td>\n",
       "      <td>competitors</td>\n",
       "      <td>Microsoft</td>\n",
       "      <td>[119] In May 2010, Apple's market cap exceeded...</td>\n",
       "    </tr>\n",
       "  </tbody>\n",
       "</table>\n",
       "</div>"
      ],
      "text/plain": [
       "        entity     property      value                                           evidence\n",
       "3      Be Inc.  competitors     Gassée  [52] Gassée left the company later that year t...\n",
       "11      Gassée  competitors    Be Inc.  [52] Gassée left the company later that year t...\n",
       "111  Microsoft  competitors      Apple  [119] In May 2010, Apple's market cap exceeded...\n",
       "127      Apple  competitors  Microsoft  [119] In May 2010, Apple's market cap exceeded..."
      ]
     },
     "execution_count": 124,
     "metadata": {},
     "output_type": "execute_result"
    }
   ],
   "source": [
    "aapl_wiki_rels[aapl_wiki_rels[\"property\"] == \"competitors\"]"
   ]
  },
  {
   "cell_type": "markdown",
   "metadata": {},
   "source": [
    "## Create JSON Node and Relationship Objects"
   ]
  },
  {
   "cell_type": "markdown",
   "metadata": {},
   "source": [
    "To faciliate knowledge graph construction, we collate the entities and relationships extracted for all 40 companies into a JSON object."
   ]
  },
  {
   "cell_type": "code",
   "execution_count": 2,
   "metadata": {},
   "outputs": [],
   "source": [
    "def create_json_schema():\n",
    "    json_schema = {\n",
    "        \"nodes\":{\n",
    "            \"Company\":[\n",
    "                # company nodes here\n",
    "            ],\n",
    "            \"Country\":[\n",
    "                # country nodes here\n",
    "            ],\n",
    "            \"Industry\":[\n",
    "                # industry nodes here\n",
    "            ],\n",
    "            \"Region\":[\n",
    "                # region nodes here\n",
    "            ],\n",
    "\n",
    "            \"Product\":[\n",
    "                # product nodes here\n",
    "            ]\n",
    "        },\n",
    "        \n",
    "        \"relationships\":{\n",
    "            \"PARTNERS_WITH\":[\n",
    "                # (COMPANY cid1)-[:PARTNERS_WITH]->(COMPANY cid2)\n",
    "            ],\n",
    "            \"COMPETES_WITH\":[\n",
    "                # (COMPANY cid1)-[:COMPETES_WITH]->(COMPANY cid2)\n",
    "            ],\n",
    "            \"SUBSIDIARY_OF\":[\n",
    "                # (COMPANY cid1)-[:SUBSIDIARY_OF]->(COMPANY cid2)\n",
    "            ],\n",
    "\n",
    "            \"HEADQUARTERS_IN\":[\n",
    "                # (COMPANY cid)-[:HEADQUARTERS_IN]->(COUNTRY ctyid)\n",
    "            ],\n",
    "\n",
    "            \"OPERATES_IN_COUNTRY\":[\n",
    "                # (COMPANY cid)-[:OPERATES_IN_COUNTRY]->(COUNTRY ctyid)\n",
    "            ],\n",
    "\n",
    "            \"IS_INVOLVED_IN\":[\n",
    "                # (COMPANY cid)-[:IS_INVOLVED_IN]->(INDUSTRY iid)\n",
    "            ],\n",
    "\n",
    "            \"IS_IN\":[\n",
    "                # (COUNTRY ctyid)-[:IS_IN]->(REGION rid)\n",
    "            ],\n",
    "\n",
    "            \"OPERATES_IN_REGION\":[\n",
    "                # (COMPANY cid)-[:OPERATES_IN_REGION]->(REGION rid)\n",
    "            ],\n",
    "\n",
    "            \"PRODUCES\":[\n",
    "                # (COMPANY cid)-[:PRODUCES]->(PRODUCT)\n",
    "            ]\n",
    "    }}\n",
    "\n",
    "\n",
    "    return json_schema\n",
    "\n"
   ]
  },
  {
   "cell_type": "code",
   "execution_count": 3,
   "metadata": {},
   "outputs": [],
   "source": [
    "def create_company_node(name,ticker_code = None,founded_year = None):\n",
    "    c_node = {}\n",
    "\n",
    "    c_node[\"name\"] = name\n",
    "\n",
    "    if ticker_code is None:\n",
    "        c_node[\"ticker_code\"] = get_company_ticker(name)\n",
    "    else:\n",
    "        c_node[\"ticker_code\"] = ticker_code\n",
    "    c_node[\"founded_year\"] = founded_year\n",
    "\n",
    "    return c_node"
   ]
  },
  {
   "cell_type": "code",
   "execution_count": null,
   "metadata": {},
   "outputs": [],
   "source": [
    "#pip install pycountry\n",
    "#pip install pycountry-convert\n",
    "#pip install locationtagger"
   ]
  },
  {
   "cell_type": "code",
   "execution_count": 4,
   "metadata": {},
   "outputs": [],
   "source": [
    "import pycountry_convert as pc\n",
    "import random\n",
    "\n",
    "def city_to_country(city):\n",
    "    response = requests.request(\"GET\", f\"https://www.geonames.org/search.html?q={city}&country=\")\n",
    "    country_raw = re.findall(\"/countries.*\\\\.html\", response.text)\n",
    "    if len(country_raw) != 0:\n",
    "        country_pred = country_raw[0].strip(\".html\").split(\"/\")[-1]\n",
    "        country = country_pred.replace('-',' ').title()\n",
    "        return country\n",
    "    else:\n",
    "        return \"Not Found\"\n",
    "\n",
    "def country_to_continent(country_name):\n",
    "    country_alpha2 = pc.country_name_to_country_alpha2(country_name)\n",
    "    country_continent_code = pc.country_alpha2_to_continent_code(country_alpha2)\n",
    "    country_continent_name = pc.convert_continent_code_to_continent_name(country_continent_code)\n",
    "    return country_continent_name\n",
    "\n",
    "def create_country_node(name,iso3=None,iso2=None, population = None, gdp = None, corporate_tax_rate = None, is_city = False):\n",
    "    cnty_node = {}\n",
    "    \n",
    "    if is_city:\n",
    "        cnty_node[\"source_city\"] = name\n",
    "        name = city_to_country(name)\n",
    "    cnty_node[\"name\"] = name\n",
    "    try:\n",
    "        cnty_node[\"iso2\"] = pc.country_name_to_country_alpha2(name)\n",
    "        cnty_node[\"iso3\"] = pc.country_name_to_country_alpha3(name)\n",
    "    except KeyError:\n",
    "        print(f\"{cnty_node[\"name\"]} could not be mapped to iso code\")\n",
    "    \n",
    "    cnty_node[\"population\"] = random.randint(5,1400) #in millions\n",
    "    cnty_node[\"gdp\"] = random.randint(1,20000) #in billions\n",
    "    cnty_node[\"corporate_tax_rate\"] = random.randint(10,50)\n",
    "\n",
    "    return cnty_node\n",
    "\n",
    "def create_region_node(cnty_node):\n",
    "    reg_node = {}\n",
    "    if cnty_node.get(\"iso2\",None) is None:\n",
    "        reg_node[\"name\"] = \"Not Found\"\n",
    "    else:\n",
    "        reg_node[\"name\"] = pc.country_alpha2_to_continent_code(cnty_node[\"iso2\"])\n",
    "\n",
    "    reg_node[\"m49\"] = None\n",
    "    return reg_node"
   ]
  },
  {
   "cell_type": "code",
   "execution_count": 5,
   "metadata": {},
   "outputs": [],
   "source": [
    "def create_industry_node(name,SIC_code = None, industry_group = None, subindustry_desc = None, primary_activity= None):\n",
    "    ind_node = {}\n",
    "    ind_node[\"name\"] = name\n",
    "    ind_node[\"SIC_code\"] = SIC_code\n",
    "    ind_node[\"industry_group\"] = industry_group\n",
    "    ind_node[\"subindustry_desc\"] = subindustry_desc\n",
    "    ind_node[\"primary_activity\"] = primary_activity\n",
    "    return ind_node\n",
    "\n",
    "def create_product_node(name):\n",
    "    pdt_node = {}\n",
    "    pdt_node[\"name\"] = name\n",
    "    return pdt_node"
   ]
  },
  {
   "cell_type": "code",
   "execution_count": 6,
   "metadata": {},
   "outputs": [],
   "source": [
    "def create_hq_rel(c_node, cnty_node):\n",
    "    hq_rel = {}\n",
    "    hq_rel[\"company_name\"] = c_node[\"name\"]\n",
    "    hq_rel[\"country_name\"] = cnty_node[\"name\"]\n",
    "\n",
    "    return hq_rel\n",
    "\n",
    "def create_operates_in_country_rel(c_node, cnty_node):\n",
    "    oic_rel = {}\n",
    "    oic_rel[\"company_name\"] = c_node[\"name\"]\n",
    "    oic_rel[\"country_name\"] = cnty_node[\"name\"]\n",
    "    oic_rel[\"net sales\"] = random.randint(-30000000,30000000)\n",
    "    oic_rel[\"headcount\"] = random.randint(1,10000)\n",
    "\n",
    "    return oic_rel\n",
    "\n",
    "def create_operates_in_region_rel(c_node, reg_node):\n",
    "    oir_rel = {}\n",
    "    oir_rel[\"company_name\"] = c_node[\"name\"]\n",
    "    oir_rel[\"region_name\"] = reg_node[\"name\"]\n",
    "    oir_rel[\"net sales\"] = random.randint(-30000000,30000000)\n",
    "    oir_rel[\"headcount\"] = random.randint(100,1000000)\n",
    "\n",
    "    return oir_rel\n",
    "\n",
    "def create_is_in_rel(cnty_node, reg_node):\n",
    "    is_in_rel = {}\n",
    "    is_in_rel[\"country_name\"] = cnty_node[\"name\"]\n",
    "    is_in_rel[\"region_name\"] = reg_node[\"name\"]\n",
    "\n",
    "\n",
    "#partners, competitors, subsidiaries \n",
    "def create_company_company_rel(c_node1, c_node2, type = None):\n",
    "    c_c_rel = {}\n",
    "    c_c_rel[\"company_name_1\"] = c_node1[\"name\"]\n",
    "    c_c_rel[\"company_name_2\"] = c_node2[\"name\"]\n",
    "    c_c_rel[\"type\"] = type\n",
    "\n",
    "    return c_c_rel\n",
    "\n",
    "def create_in_industry_rel(c_node, ind_node):\n",
    "    c_ind_rel = {}\n",
    "    c_ind_rel[\"company_name\"] = c_node[\"name\"]\n",
    "    c_ind_rel[\"industry_name\"] = ind_node[\"name\"]\n",
    "    return c_ind_rel\n",
    "\n",
    "def create_produces_rel(c_node, pdt_node):\n",
    "    c_pdt_rel = {}\n",
    "    c_pdt_rel[\"company_name\"] = c_node[\"name\"]\n",
    "    c_pdt_rel[\"product_name\"] = pdt_node[\"name\"]\n",
    "\n",
    "    return c_pdt_rel"
   ]
  },
  {
   "cell_type": "code",
   "execution_count": 7,
   "metadata": {},
   "outputs": [],
   "source": [
    "def generate_json_schema(json, offset = 0):\n",
    "    dbpath = 'data/ecmdatabase.db'\n",
    "    con = sqlite3.connect(f\"file:{dbpath}?mode=ro\", uri=True)\n",
    "\n",
    "    def fill_entities(ents, c_name):\n",
    "        if ents is None:\n",
    "            return None\n",
    "        \n",
    "        for _,ent in ents.iterrows():\n",
    "            if ent[\"Labels\"] =='company' and ent[\"name\"] != c_name:\n",
    "                ticker = get_company_ticker(ent[\"name\"])\n",
    "                json[\"nodes\"][\"Company\"].append(create_company_node(ent[\"name\"],ticker))\n",
    "            elif ent[\"Labels\"] == 'industry':\n",
    "                json[\"nodes\"][\"Industry\"].append(create_industry_node(ent[\"name\"]))\n",
    "            elif ent[\"Labels\"] == 'country':\n",
    "                json[\"nodes\"][\"Country\"].append(create_country_node(ent[\"name\"]))\n",
    "            elif ent[\"Labels\"] == 'location':\n",
    "                json[\"nodes\"][\"Country\"].append(create_country_node(ent[\"name\"], is_city = True))\n",
    "            elif ent[\"Labels\"] == 'product':\n",
    "                json[\"nodes\"][\"Product\"].append(create_product_node(ent[\"name\"]))\n",
    "\n",
    "        for cnty_node in json[\"nodes\"][\"Country\"]:\n",
    "            reg_node = create_region_node(cnty_node)\n",
    "            json[\"nodes\"][\"Region\"].append(reg_node)\n",
    "            json[\"relationships\"][\"IS_IN\"].append(create_is_in_rel(cnty_node,reg_node))\n",
    "    \n",
    "    def fill_relationships(rels):\n",
    "        if rels is None:\n",
    "            return None\n",
    "        \n",
    "        for _, rel in rels.iterrows():\n",
    "            if rel[\"property\"] == \"headquarters\":\n",
    "                c_node = create_company_node(rel[\"entity\"])\n",
    "                hq_node = create_country_node(rel[\"value\"], is_city = True)\n",
    "                hq_rel = create_hq_rel(c_node, hq_node)\n",
    "                json[\"relationships\"][\"HEADQUARTERS_IN\"].append(hq_rel)\n",
    "            elif rel[\"property\"] == \"organization locations\":\n",
    "                c_node = create_company_node(rel[\"entity\"])\n",
    "                loc_node = create_country_node(rel[\"value\"],is_city = True)\n",
    "                loc_rel = create_operates_in_country_rel(c_node, loc_node)\n",
    "                json[\"relationships\"][\"OPERATES_IN_COUNTRY\"].append(loc_rel)\n",
    "            elif rel[\"property\"] == \"industry\":\n",
    "                c_node = create_company_node(rel[\"entity\"])\n",
    "                ind_node = create_industry_node(rel[\"value\"])\n",
    "                works_rel = create_in_industry_rel(c_node, ind_node)\n",
    "                json[\"relationships\"][\"IS_INVOLVED_IN\"].append(works_rel)\n",
    "            elif rel[\"property\"] == \"product type\":\n",
    "                c_node = create_company_node(rel[\"entity\"])\n",
    "                pdt_node = create_product_node(rel[\"value\"])\n",
    "                produces_rel = create_produces_rel(c_node,pdt_node)\n",
    "                json[\"relationships\"][\"PRODUCES\"].append(produces_rel)\n",
    "\n",
    "            elif rel[\"property\"] == \"competitors\":\n",
    "                c_node_1 = create_company_node(rel[\"entity\"])\n",
    "                c_node_2 = create_company_node(rel[\"value\"])\n",
    "                cc_rel = create_company_company_rel(c_node_1,c_node_2)\n",
    "                json[\"relationships\"][\"COMPETES_WITH\"].append(cc_rel)\n",
    "            elif rel[\"property\"] == \"suppliers\":\n",
    "                c_node_1 = create_company_node(rel[\"entity\"])\n",
    "                c_node_2 = create_company_node(rel[\"value\"])\n",
    "                cc_rel = create_company_company_rel(c_node_1,c_node_2, \"suppliers\")\n",
    "                json[\"relationships\"][\"PARTNERS_WITH\"].append(cc_rel)\n",
    "            elif rel[\"property\"] == \"subsidiary\":\n",
    "                c_node_1 = create_company_node(rel[\"entity\"])\n",
    "                c_node_2 = create_company_node(rel[\"value\"])\n",
    "                cc_rel = create_company_company_rel(c_node_2, c_node_1, \"subsidiary\")\n",
    "                json[\"relationships\"][\"SUBSIDIARY_OF\"].append(cc_rel)\n",
    "    with con:\n",
    "        result = con.execute(f\"SELECT name, stock_symbol from companies ORDER BY name LIMIT 40 OFFSET {offset};\")\n",
    "        records = result.fetchall()\n",
    "        for record in records:\n",
    "            company_name = record[0]\n",
    "            stock_code = record[1]\n",
    "\n",
    "            print(f'Processing {company_name} with stock code {stock_code}')\n",
    "            \n",
    "            c_node = create_company_node(company_name,stock_code)\n",
    "            json[\"nodes\"][\"Company\"].append(c_node)\n",
    "\n",
    "            sec_10k_ents, sec_10k_rels = sec_10k_ner_rel_pipeline(stock_code)\n",
    "            wiki_ents, wiki_rels = wikipedia_ner_rel_pipeline(stock_code)\n",
    "\n",
    "            fill_entities(sec_10k_ents,company_name)\n",
    "            fill_entities(wiki_ents,company_name)\n",
    "            fill_relationships(sec_10k_rels)\n",
    "            fill_relationships(wiki_rels)\n",
    "    \n",
    "    return json\n"
   ]
  },
  {
   "cell_type": "code",
   "execution_count": 23,
   "metadata": {},
   "outputs": [
    {
     "name": "stdout",
     "output_type": "stream",
     "text": [
      "{'nodes': {'Company': [], 'Country': [], 'Industry': [], 'Region': [], 'Product': []}, 'relationships': {'PARTNERS_WITH': [], 'COMPETES_WITH': [], 'SUBSIDIARY_OF': [], 'HEADQUARTERS_IN': [], 'OPERATES_IN_COUNTRY': [], 'IS_INVOLVED_IN': [], 'IS_IN': [], 'OPERATES_IN_REGION': [], 'PRODUCES': []}}\n"
     ]
    }
   ],
   "source": [
    "empty_schema = create_json_schema()\n",
    "print(empty_schema)"
   ]
  },
  {
   "cell_type": "code",
   "execution_count": null,
   "metadata": {},
   "outputs": [],
   "source": [
    "import warnings\n",
    "warnings.filterwarnings('ignore')\n",
    "\n",
    "kg_json = generate_json_schema(empty_schema,offset = 10) # change offset to index of last generated company"
   ]
  },
  {
   "cell_type": "code",
   "execution_count": 290,
   "metadata": {},
   "outputs": [
    {
     "data": {
      "text/plain": [
       "{'nodes': {'Company': [{'name': 'Booking Holdings Inc.',\n",
       "    'ticker_code': 'BKNG',\n",
       "    'founded_year': None},\n",
       "   {'name': 'Booking Holdings', 'ticker_code': 'BKNG', 'founded_year': None},\n",
       "   {'name': 'Booking.com', 'ticker_code': 'BKNG', 'founded_year': None},\n",
       "   {'name': 'OpenTable',\n",
       "    'ticker_code': 'opentable-225400154.html',\n",
       "    'founded_year': None},\n",
       "   {'name': 'Agoda', 'ticker_code': 'BKNG', 'founded_year': None},\n",
       "   {'name': 'Nasdaq', 'ticker_code': '%5EIXIC', 'founded_year': None},\n",
       "   {'name': 'Agoda', 'ticker_code': 'BKNG', 'founded_year': None},\n",
       "   {'name': 'Booking.com', 'ticker_code': 'BKNG', 'founded_year': None},\n",
       "   {'name': 'OpenTable',\n",
       "    'ticker_code': 'opentable-225400154.html',\n",
       "    'founded_year': None},\n",
       "   {'name': 'Booking Holdings', 'ticker_code': 'BKNG', 'founded_year': None},\n",
       "   {'name': 'Broadcom Inc.', 'ticker_code': 'AVGO', 'founded_year': None},\n",
       "   {'name': 'Broadcom', 'ticker_code': 'AVGO', 'founded_year': None},\n",
       "   {'name': 'CINTAS CORP', 'ticker_code': 'CTAS', 'founded_year': None}],\n",
       "  'Country': [{'source_city': 'North America',\n",
       "    'name': 'United States',\n",
       "    'iso2': 'US',\n",
       "    'iso3': 'USA',\n",
       "    'population': 432,\n",
       "    'gdp': 8028,\n",
       "    'corporate_tax_rate': 37},\n",
       "   {'name': 'Belarus',\n",
       "    'iso2': 'BY',\n",
       "    'iso3': 'BLR',\n",
       "    'population': 914,\n",
       "    'gdp': 5923,\n",
       "    'corporate_tax_rate': 30},\n",
       "   {'name': 'Israel',\n",
       "    'iso2': 'IL',\n",
       "    'iso3': 'ISR',\n",
       "    'population': 647,\n",
       "    'gdp': 15978,\n",
       "    'corporate_tax_rate': 20},\n",
       "   {'name': 'Ukraine',\n",
       "    'iso2': 'UA',\n",
       "    'iso3': 'UKR',\n",
       "    'population': 112,\n",
       "    'gdp': 12828,\n",
       "    'corporate_tax_rate': 16}],\n",
       "  'Industry': [],\n",
       "  'Region': [{'name': 'NA', 'm49': None},\n",
       "   {'name': 'EU', 'm49': None},\n",
       "   {'name': 'AS', 'm49': None},\n",
       "   {'name': 'EU', 'm49': None},\n",
       "   {'name': 'NA', 'm49': None},\n",
       "   {'name': 'EU', 'm49': None},\n",
       "   {'name': 'AS', 'm49': None},\n",
       "   {'name': 'EU', 'm49': None}],\n",
       "  'Product': [{'name': 'United States dollar'}]},\n",
       " 'relationships': {'PARTNERS_WITH': [{'company_name_1': 'Avago Technologies',\n",
       "    'company_name_2': 'Emulex',\n",
       "    'type': 'suppliers'}],\n",
       "  'COMPETES_WITH': [{'company_name_1': 'Booking.com',\n",
       "    'company_name_2': 'Booking Holdings',\n",
       "    'type': None},\n",
       "   {'company_name_1': 'Booking Holdings',\n",
       "    'company_name_2': 'Booking.com',\n",
       "    'type': None},\n",
       "   {'company_name_1': 'Broadcom', 'company_name_2': 'Huawei', 'type': None},\n",
       "   {'company_name_1': 'Huawei', 'company_name_2': 'Broadcom', 'type': None},\n",
       "   {'company_name_1': 'HP', 'company_name_2': 'Broadcom', 'type': None},\n",
       "   {'company_name_1': 'Broadcom', 'company_name_2': 'HP', 'type': None}],\n",
       "  'SUBSIDIARY_OF': [{'company_name_1': 'Cyoptics',\n",
       "    'company_name_2': 'Broadcom',\n",
       "    'type': 'subsidiary'}],\n",
       "  'HEADQUARTERS_IN': [{'company_name': 'Booking Holdings',\n",
       "    'country_name': 'United States'},\n",
       "   {'company_name': 'OpenTable', 'country_name': 'United States'},\n",
       "   {'company_name': 'KAYAK', 'country_name': 'United States'},\n",
       "   {'company_name': 'OpenTable', 'country_name': 'Honduras'},\n",
       "   {'company_name': 'Booking Holdings', 'country_name': 'United States'},\n",
       "   {'company_name': 'Broadcom', 'country_name': 'Costa Rica'}],\n",
       "  'OPERATES_IN_COUNTRY': [{'company_name': 'Agoda',\n",
       "    'country_name': 'Thailand',\n",
       "    'net sales': 14028936,\n",
       "    'headcount': 2405},\n",
       "   {'company_name': 'Agoda',\n",
       "    'country_name': 'Thailand',\n",
       "    'net sales': 12656892,\n",
       "    'headcount': 1012},\n",
       "   {'company_name': 'Booking Holdings',\n",
       "    'country_name': 'United States',\n",
       "    'net sales': -29070997,\n",
       "    'headcount': 2966},\n",
       "   {'company_name': 'Booking.com',\n",
       "    'country_name': 'The Netherlands',\n",
       "    'net sales': -8121906,\n",
       "    'headcount': 2695},\n",
       "   {'company_name': 'Agoda',\n",
       "    'country_name': 'Singapore',\n",
       "    'net sales': 24853689,\n",
       "    'headcount': 7480},\n",
       "   {'company_name': 'OpenTable',\n",
       "    'country_name': 'United States',\n",
       "    'net sales': 19899426,\n",
       "    'headcount': 1665},\n",
       "   {'company_name': 'OpenTable',\n",
       "    'country_name': 'United States',\n",
       "    'net sales': -8096024,\n",
       "    'headcount': 9476},\n",
       "   {'company_name': 'KAYAK',\n",
       "    'country_name': 'United States',\n",
       "    'net sales': -10064646,\n",
       "    'headcount': 6393},\n",
       "   {'company_name': 'KAYAK',\n",
       "    'country_name': 'United States',\n",
       "    'net sales': -19359976,\n",
       "    'headcount': 8960},\n",
       "   {'company_name': 'OpenTable',\n",
       "    'country_name': 'Honduras',\n",
       "    'net sales': -14693187,\n",
       "    'headcount': 7168},\n",
       "   {'company_name': 'Booking Holdings',\n",
       "    'country_name': 'United States',\n",
       "    'net sales': 12966600,\n",
       "    'headcount': 7360},\n",
       "   {'company_name': 'Broadcom',\n",
       "    'country_name': 'United States',\n",
       "    'net sales': -18857007,\n",
       "    'headcount': 4012},\n",
       "   {'company_name': 'Broadcom',\n",
       "    'country_name': 'Costa Rica',\n",
       "    'net sales': -26596526,\n",
       "    'headcount': 6684},\n",
       "   {'company_name': 'Broadcom',\n",
       "    'country_name': 'Singapore',\n",
       "    'net sales': 1395132,\n",
       "    'headcount': 7930}],\n",
       "  'IS_INVOLVED_IN': [{'company_name': 'Booking Holdings',\n",
       "    'industry_name': 'restaurant reservations'},\n",
       "   {'company_name': 'Booking Holdings',\n",
       "    'industry_name': 'advertising services'},\n",
       "   {'company_name': 'Agoda',\n",
       "    'industry_name': 'online accommodation reservation'},\n",
       "   {'company_name': 'Booking Holdings',\n",
       "    'industry_name': 'restaurant management services'},\n",
       "   {'company_name': 'Booking.com',\n",
       "    'industry_name': 'online accommodation reservations'},\n",
       "   {'company_name': 'OpenTable',\n",
       "    'industry_name': 'online restaurant reservation services'},\n",
       "   {'company_name': 'Booking.com',\n",
       "    'industry_name': 'online rental car reservation services'},\n",
       "   {'company_name': 'Booking Holdings',\n",
       "    'industry_name': 'discount travel reservation'},\n",
       "   {'company_name': 'Booking Holdings',\n",
       "    'industry_name': 'online travel reservation services'},\n",
       "   {'company_name': 'Broadcom', 'industry_name': 'software'},\n",
       "   {'company_name': 'Broadcom', 'industry_name': 'mainframe computers'},\n",
       "   {'company_name': 'Broadcom', 'industry_name': 'factory automation'},\n",
       "   {'company_name': 'Broadcom', 'industry_name': 'management'},\n",
       "   {'company_name': 'Broadcom', 'industry_name': 'storage'},\n",
       "   {'company_name': 'HP', 'industry_name': 'semiconductor products'},\n",
       "   {'company_name': 'CA', 'industry_name': 'cloud computing'},\n",
       "   {'company_name': 'CA', 'industry_name': 'software'},\n",
       "   {'company_name': 'CA', 'industry_name': 'mainframe computers'},\n",
       "   {'company_name': 'Broadcom', 'industry_name': 'semiconductor products'}],\n",
       "  'IS_IN': [None, None, None, None, None, None, None, None],\n",
       "  'OPERATES_IN_REGION': [],\n",
       "  'PRODUCES': [{'company_name': 'Booking Holdings',\n",
       "    'product_name': 'rental car reservation services'},\n",
       "   {'company_name': 'Booking Holdings',\n",
       "    'product_name': 'hotel distribution services'},\n",
       "   {'company_name': 'Agoda', 'product_name': 'ground transportation'},\n",
       "   {'company_name': 'Agoda',\n",
       "    'product_name': 'activities reservation services'},\n",
       "   {'company_name': 'Agoda', 'product_name': 'flight'},\n",
       "   {'company_name': 'Booking.com',\n",
       "    'product_name': 'accommodation reservation services'},\n",
       "   {'company_name': 'Booking.com', 'product_name': 'Connected Trip'},\n",
       "   {'company_name': 'Broadcom', 'product_name': 'enterprise security'},\n",
       "   {'company_name': 'Broadcom', 'product_name': 'SSD controller'},\n",
       "   {'company_name': 'Broadcom',\n",
       "    'product_name': 'semiconductor and infrastructure software products'}]}}"
      ]
     },
     "execution_count": 290,
     "metadata": {},
     "output_type": "execute_result"
    }
   ],
   "source": [
    "empty_schema"
   ]
  },
  {
   "cell_type": "code",
   "execution_count": null,
   "metadata": {},
   "outputs": [],
   "source": [
    "len(empty_schema[\"nodes\"][\"Company\"])"
   ]
  },
  {
   "cell_type": "code",
   "execution_count": 285,
   "metadata": {},
   "outputs": [],
   "source": [
    "with open('nasdaq_kg_schema_rank_1-10.json', 'w') as f:\n",
    "    json.dump(empty_schema, f)"
   ]
  },
  {
   "cell_type": "markdown",
   "metadata": {},
   "source": [
    "## Spacy Node and Relationship Objects"
   ]
  },
  {
   "cell_type": "code",
   "execution_count": 9,
   "metadata": {},
   "outputs": [
    {
     "name": "stderr",
     "output_type": "stream",
     "text": [
      "C:\\Users\\ongai\\AppData\\Local\\Temp\\ipykernel_28788\\1123930051.py:57: UserWarning: [W007] The model you're using has no word vectors loaded, so the result of the Span.similarity method will be based on the tagger, parser and NER, which may not give useful similarity judgements. This may happen if you're using one of the small models, e.g. `en_core_web_sm`, which don't ship with word vectors and only use context-sensitive tensors. You can always add your own word vectors, or use one of the larger models instead if available.\n",
      "  similarity = sent.similarity(nlp(phrase))  # Compute similarity\n"
     ]
    },
    {
     "name": "stdout",
     "output_type": "stream",
     "text": [
      "Nodes:\n",
      "Company: ['FSD Computer', 'Gigafactory Nevada', 'Automotive Purchase Financing and Leases', 'Powertrain Our', 'Model S', 'Energy Generation and Storage Energy Storage Systems', 'NHTSA', 'Megapack', 'AI', 'the Organization for Economic Co-operation and', 'Tesla Superchargers', 'Autopilot', 'Internships &#8211', 'the National Highway Traffic Safety Administration', 'ECE', 'ESG', 'Tesla', 'SAE International', 'Solar Energy Offerings', 'the Internal Revenue Code', 'Energy Generation and Storage Energy Storage Products', 'Control systems', 'FMVSS', 'Automobile Manufacturer', 'Energy Generation and Storage Energy Storage Products Powerwall', 'European Defence Ministries', 'ECE markets &#8221;)', 'Our Products and Services Automotive', 'FSD', 'ir.tesla.com', 'NACS', 'Technician Trainee', 'the &#8220;EPA&#8221', 'Battery Safety and Testing Our', ': &#8226', 'IRC', 'SEC', 'Full Self-Driving (&', 'Take Charge', 'START', 'Significant Accounting Policies', 'Solar Energy Systems', 'Financial Services', 'Technician Trainees', 'the U.S.', 'Energy Generation and Storage', 'Automotive Direct Sales Our', 'Automotive Regulatory Credits', 'Governmental Programs', 'Self-Driving Vehicles', 'Apprenticeships &#8211']\n",
      "Product: ['the Model 3', 'Model Y', 'Model S', 'Solar Roof', 'Model 3']\n",
      "Industry: ['non-Tesla', 'Model X', 'Tesla', 'Optimus', 'Superchargers']\n",
      "Country: ['Nevada', 'Gigafactory Nevada', 'Texas', 'Germany', 'Buffalo', 'China', 'Korea', 'Gigafactory Berlin-Brandenburg', 'New York', 'United Kingdom', 'Shanghai', 'Monterrey', 'Reno', 'California', 'Hong Kong', 'Mexico', 'Gigafactory', 'Australia', 'Austin', 'Heroes', 'U.S.']\n",
      "\n",
      "Edges:\n"
     ]
    }
   ],
   "source": [
    "\n",
    "\n",
    "# Load spaCy English language model\n",
    "nlp = spacy.load(\"en_core_web_sm\")\n",
    "\n",
    "doc = nlp(tsla_item1)\n",
    "\n",
    "# Extract entities and relations\n",
    "nodes = defaultdict(set)  # Use a set to avoid duplicates\n",
    "edges = []\n",
    "\n",
    "# Define a function to identify non-company keywords\n",
    "def is_non_company(entity_text):\n",
    "    # Keywords or patterns that indicate the entity is not a company\n",
    "    non_company_keywords = [\n",
    "        'program', 'act', 'regulation', 'department', 'agency', 'council',\n",
    "        'commission', 'service', 'policy', 'initiative', 'standard', \n",
    "        'incentive', 'college', 'school', 'university', 'authority', 'board',\n",
    "        'order', 'capital', 'vehicle', 'development', 'internship', 'apprenticeship',\n",
    "        'system', 'training', 'product', 'directive', 'committee', 'resource',\n",
    "        'partnership', 'technology', 'platform'\n",
    "    ]\n",
    "    \n",
    "    # If the entity contains any of these keywords, it is not a company\n",
    "    return any(re.search(r'\\b' + keyword + r'\\b', entity_text.lower()) for keyword in non_company_keywords)\n",
    "\n",
    "# Improved function to categorize and extract entities\n",
    "def categorize_entities(entity):\n",
    "    if entity.label_ == 'ORG':\n",
    "        # Check if it's not a company\n",
    "        if is_non_company(entity.text):\n",
    "            return  # Exclude if it's not a company\n",
    "        nodes['Company'].add(entity.text)\n",
    "    elif entity.label_ == 'PRODUCT':\n",
    "        nodes['Product'].add(entity.text)\n",
    "    elif entity.label_ == 'GPE':\n",
    "        nodes['Country'].add(entity.text)\n",
    "    elif entity.label_ in ['NORP', 'INDUSTRY']:\n",
    "        nodes['Industry'].add(entity.text)\n",
    "\n",
    "# Extract named entities\n",
    "for ent in doc.ents:\n",
    "    categorize_entities(ent)\n",
    "\n",
    "# Synonyms to match different verbs for edge detection\n",
    "target_phrases = {\n",
    "    'SUPPLIES': [\"provide products\", \"manufactures products\", \"delivers goods\", \"offers items\", \"distributes products\"],\n",
    "    'LOCATED_IN': [\"headquartered in\", \"based in\", \"located in\", \"situated in\"],\n",
    "    'RIVALS_WITH': [\"competes with\", \"is a competitor of\", \"challenges\", \"rivals\"],\n",
    "    'ALLIES_WITH': [\"partners with\", \"collaborates with\", \"is allied with\", \"cooperates with\"]\n",
    "}\n",
    "\n",
    "# Extract relationships using semantic similarity\n",
    "for sent in doc.sents:\n",
    "    sent_vector = sent.vector  # Get the vector of the current sentence\n",
    "    for relationship, phrases in target_phrases.items():\n",
    "        for phrase in phrases:\n",
    "            phrase_vector = nlp(phrase).vector  # Get the vector for the target phrase\n",
    "            similarity = sent.similarity(nlp(phrase))  # Compute similarity\n",
    "            if similarity > 0.7:  # Threshold for determining a match\n",
    "                # Check if entities in the sentence can be matched to the known nodes\n",
    "                for entity in sent.ents:\n",
    "                    if entity.label_ == \"ORG\" and entity.text in nodes[\"Company\"]:\n",
    "                        target_entity = None\n",
    "                        if relationship == \"SUPPLIES\":\n",
    "                            target_entity = [ent.text for ent in sent.ents if ent.label_ == \"PRODUCT\"]\n",
    "                        elif relationship == \"LOCATED_IN\":\n",
    "                            target_entity = [ent.text for ent in sent.ents if ent.label_ == \"GPE\"]\n",
    "                        elif relationship in [\"RIVALS_WITH\", \"ALLIES_WITH\"]:\n",
    "                            target_entity = [ent.text for ent in sent.ents if ent.label_ == \"ORG\" and ent.text != entity.text]\n",
    "                        \n",
    "                        if target_entity:\n",
    "                            for target in target_entity:\n",
    "                                edges.append((entity.text, relationship, target))\n",
    "\n",
    "\n",
    "\n",
    "# Convert nodes to list to remove duplicates and maintain order\n",
    "nodes = {k: list(v) for k, v in nodes.items()}\n",
    "\n",
    "# Output nodes and edges\n",
    "print(\"Nodes:\")\n",
    "for node_type, node_list in nodes.items():\n",
    "    print(f\"{node_type}: {node_list}\")\n",
    "\n",
    "print(\"\\nEdges:\")\n",
    "for edge in edges:\n",
    "    print(f\"{edge[0]} -[{edge[1]}]-> {edge[2]}\")\n"
   ]
  }
 ],
 "metadata": {
  "kernelspec": {
   "display_name": ".venv",
   "language": "python",
   "name": "python3"
  },
  "language_info": {
   "codemirror_mode": {
    "name": "ipython",
    "version": 3
   },
   "file_extension": ".py",
   "mimetype": "text/x-python",
   "name": "python",
   "nbconvert_exporter": "python",
   "pygments_lexer": "ipython3",
   "version": "3.12.3"
  }
 },
 "nbformat": 4,
 "nbformat_minor": 2
}
