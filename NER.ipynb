{
 "cells": [
  {
   "cell_type": "markdown",
   "metadata": {},
   "source": [
    "## Subtask A: Entity and Relationship Extraction\n"
   ]
  },
  {
   "cell_type": "code",
   "execution_count": null,
   "metadata": {},
   "outputs": [],
   "source": [
    "#pip install transformers\n",
    "#pip install spacy\n",
    "#pip install nltk\n",
    "#pip install torch\n",
    "#pip install requests beautifulsoup4\n",
    "#pip install yahooquery\n",
    "#pip install scikit-learn\n",
    "#pip install gensim"
   ]
  },
  {
   "cell_type": "code",
   "execution_count": null,
   "metadata": {},
   "outputs": [],
   "source": [
    "#!python -m spacy download en_core_web_sm"
   ]
  },
  {
   "cell_type": "code",
   "execution_count": 2,
   "metadata": {},
   "outputs": [
    {
     "name": "stderr",
     "output_type": "stream",
     "text": [
      "c:\\Users\\ongai\\Desktop\\DSA3101\\WW-AI-GK\\.venv\\Lib\\site-packages\\tqdm\\auto.py:21: TqdmWarning: IProgress not found. Please update jupyter and ipywidgets. See https://ipywidgets.readthedocs.io/en/stable/user_install.html\n",
      "  from .autonotebook import tqdm as notebook_tqdm\n"
     ]
    }
   ],
   "source": [
    "import sqlite3\n",
    "from transformers import AutoTokenizer, AutoModelForTokenClassification, pipeline\n",
    "import spacy \n",
    "import nltk\n",
    "import requests \n",
    "import torch\n",
    "import pandas as pd\n",
    "\n",
    "from collections import Counter\n",
    "from bs4 import BeautifulSoup\n",
    "from sklearn.feature_extraction.text import TfidfVectorizer\n",
    "from gensim import corpora\n",
    "from gensim.models import LdaModel\n",
    "pd.set_option(\"display.max_rows\", 200)"
   ]
  },
  {
   "cell_type": "code",
   "execution_count": 3,
   "metadata": {},
   "outputs": [],
   "source": [
    "dbpath = 'data/ecmdatabase.db'\n",
    "con = sqlite3.connect(f\"file:{dbpath}?mode=ro\", uri=True)\n",
    "with con:\n",
    "    result = con.execute(\"SELECT * from companies WHERE stock_symbol = 'TSLA';\")\n",
    "    records = result.fetchall()\n",
    "    company_name = records[0][1]\n",
    "    tsla_item1 = records[0][2]"
   ]
  },
  {
   "cell_type": "code",
   "execution_count": 4,
   "metadata": {},
   "outputs": [
    {
     "data": {
      "text/plain": [
       "\" ITEM 1. BUSINESS \\n\\nOverview \\n\\nWe design, develop, manufacture, sell and lease high-performance fully electric vehicles and energy generation and storage systems, and offer services related to our products. We generally sell our products directly to customers, and continue to grow our customer-facing infrastructure through a global network of vehicle showrooms and service centers, Mobile Service, body shops, Supercharger stations and Destination Chargers to accelerate the widespread adoption of our products. We emphasize performance, attractive styling and the safety of our users and workforce in the design and manufacture of our products and are continuing to develop full self-driving technology for improved safety. We also strive to lower the cost of ownership for our customers through continuous efforts to reduce manufacturing costs and by offering financial and other services tailored to our products. \\n\\nOur mission is to accelerate the world&#8217;s transition to sustainable energy. We believe that this mission, along with our engineering expertise, vertically integrated business model and focus on user experience differentiate us from other companies. \\n\\nSegment Information \\n\\nWe operate as two reportable segments: (i) automotive and (ii) energy generation and storage. \\n\\nThe automotive segment includes the design, development, manufacturing, sales and leasing of high-performance fully electric vehicles as well as sales of automotive regulatory credits. Additionally, the automotive segment also includes services and other, which includes sales of used vehicles, non-warranty after-sales vehicle services, body shop and parts, paid Supercharging, vehicle insurance revenue and retail merchandise. The energy generation and storage segment includes the design, manufacture, installation, sales and leasing of solar energy generation and energy storage products and related services and sales of solar energy systems incentives. \\n\\nOur Products and Services \\n\\nAutomotive \\n\\nWe currently manufacture five different consumer vehicles &#8211; the Model 3, Y, S, X and Cybertruck. Model 3 is a four-door mid-size sedan that we designed for manufacturability with a base price for mass-market appeal. Model Y is a compact sport utility vehicle (&#8220;SUV&#8221;) built on the Model 3 platform with seating for up to seven adults. Model S is a four-door full-size sedan and Model X is a mid-size SUV with seating for up to seven adults. Model S and Model X feature the highest performance characteristics and longest ranges that we offer in a sedan and SUV, respectively. In November 2023, we entered the consumer pickup truck market with first deliveries of the Cybertruck, a full-size electric pickup truck with a stainless steel exterior that has the utility and strength of a truck while featuring the speed of a sports car. \\n\\nIn 2022, we also began early production and deliveries of a commercial electric vehicle, the Tesla Semi. We have planned electric vehicles to address additional vehicle markets, and to continue leveraging developments in our proprietary Full Self-Driving (&#8220;FSD&#8221;) Capability features, battery cell and other technologies. \\n\\nEnergy Generation and Storage \\n\\nEnergy Storage Products \\n\\nPowerwall and Megapack are our lithium-ion battery energy storage products. Powerwall, which we sell directly to customers, as well as through channel partners, is designed to store energy at a home or small commercial facility. Megapack is an energy storage solution for commercial, industrial, utility and energy generation customers, multiple of which may be grouped together to form larger installations of gigawatt hours (&#8220;GWh&#8221;) or greater capacity. \\n\\nWe also continue to develop software capabilities for remotely controlling and dispatching our energy storage systems across a wide range of markets and applications, including through our real-time energy control and optimization platforms. \\n\\nSolar Energy Offerings \\n\\nWe sell retrofit solar energy systems to customers and channel partners and also make them available through power purchase agreement (&#8220;PPA&#8221;) arrangements. We purchase most of the components for our retrofit solar energy systems from multiple sources to ensure competitive pricing and adequate supply. We also design and manufacture certain components for our solar energy products. \\n\\nWe sell our Solar Roof, which combines premium glass roof tiles with energy generation, directly to customers, as well as through channel customers. We continue to improve our installation capability and efficiency, including through collaboration with real estate developers and builders on new homes. \\n\\nTechnology \\n\\nAutomotive \\n\\nBattery and Powertrain \\n\\nOur core vehicle technology competencies include powertrain engineering and manufacturing and our ability to design vehicles that utilize the unique advantages of an electric powertrain. We have designed our proprietary powertrain systems to be adaptable, efficient, reliable and cost-effective while withstanding the rigors of an automotive environment. We offer dual motor powertrain vehicles, which use two electric motors to maximize traction and performance in an all-wheel drive configuration, as well as vehicle powertrain technology featuring three electric motors for further increased performance in certain versions of Model S and Model X, Cybertruck and the Tesla Semi. \\n\\nWe maintain extensive testing and R&#38;D capabilities for battery cells, packs and systems, and have built an expansive body of knowledge on lithium-ion cell chemistry types and performance characteristics. In order to enable a greater supply of cells for our products with higher energy density at lower costs, we have developed a new proprietary lithium-ion battery cell and improved manufacturing processes. \\n\\nVehicle Control and Infotainment Software \\n\\nThe performance and safety systems of our vehicles and their battery packs utilize sophisticated control software. Control systems in our vehicles optimize performance, customize vehicle behavior, manage charging and control all infotainment functions. We develop almost all of this software, including most of the user interfaces, internally and update our vehicles&#8217; software regularly through over-the-air updates. \\n\\nSelf-Driving Development and Artificial Intelligence \\n\\nWe have expertise in developing technologies, systems and software to enable self-driving vehicles using primarily vision-based technologies. Our FSD Computer runs our neural networks in our vehicles, and we are also developing additional computer hardware to better enable the massive amounts of field data captured by our vehicles to continually train and improve these neural networks for real-world performance. \\n\\nCurrently, we offer in our vehicles certain advanced driver assist systems under our Autopilot and FSD Capability options. Although at present the driver is ultimately responsible for controlling the vehicle, our systems provide safety and convenience functionality that relieves drivers of the most tedious and potentially dangerous aspects of road travel much like the system that airplane pilots use, when conditions permit. As with other vehicle systems, we improve these functions in our vehicles over time through over-the-air updates. \\n\\nWe intend to establish in the future an autonomous Tesla ride-hailing network, which we expect would also allow us to access a new customer base even as modes of transportation evolve. \\n\\nWe are also applying our artificial intelligence learnings from self-driving technology to the field of robotics, such as through Optimus, a robotic humanoid in development, which is controlled by the same AI system. \\n\\nEnergy Generation and Storage \\n\\nEnergy Storage Products \\n\\nWe leverage many of the component-level technologies from our vehicles in our energy storage products. By taking a modular approach to the design of battery systems, we can optimize manufacturing capacity of our energy storage products. Additionally, our expertise in power electronics enables our battery systems to interconnect with electricity grids while providing fast-acting systems for power injection and absorption. We have also developed software to remotely control and dispatch our energy storage systems. \\n\\nSolar Energy Systems \\n\\nWe have engineered Solar Roof over numerous iterations to combine aesthetic appeal and durability with power generation. The efficiency of our solar energy products is aided by our own solar inverter, which incorporates our power electronics technologies. We designed both products to integrate with Powerwall. \\n\\nDesign and Engineering \\n\\nAutomotive \\n\\nWe have established significant in-house capabilities in the design and test engineering of electric vehicles and their components and systems. Our team has significant experience in computer-aided design as well as durability, strength and crash test simulations, which reduces the product development time of new models. We have also achieved complex engineering feats in stamping, casting and thermal systems, and developed a method to integrate batteries directly with vehicle body structures without separate battery packs to optimize manufacturability, weight, range and cost characteristics. \\n\\nWe are also expanding our manufacturing operations globally while taking action to localize our vehicle designs and production for particular markets, including country-specific market demands and factory optimizations for local workforces. As we increase our capabilities, particularly in the areas of automation, die-making and line-building, we are also making strides in the simulations modeling these capabilities prior to construction. \\n\\nEnergy Generation and Storage \\n\\nOur expertise in electrical, mechanical, civil and software engineering allows us to design, engineer, manufacture and install energy generating and storage products and components, including at the residential through utility scale. For example, the modular design of our Megapack utility-scale battery line is intended to significantly reduce the amount of assembly required in the field. We also customize solutions including our energy storage products, solar energy systems and/or Solar Roof for customers to meet their specific needs. \\n\\nSales and Marketing \\n\\nHistorically, we have been able to achieve sales without traditional advertising and at relatively low marketing costs. We continue to monitor our public narrative and brand, and tailor our marketing efforts accordingly, including through investments in customer education and advertising as necessary. \\n\\nAutomotive \\n\\nDirect Sales \\n\\nOur vehicle sales channels currently include our website and an international network of company-owned stores. In some jurisdictions, we also have galleries to educate and inform customers about our products, but such locations do not transact in the sale of vehicles. We believe this infrastructure enables us to better control costs of inventory, manage warranty service and pricing, educate consumers about electric vehicles, make our vehicles more affordable, maintain and strengthen the Tesla brand and obtain rapid customer feedback. \\n\\nWe reevaluate our sales strategy both globally and at a location-by-location level from time to time to optimize our sales channels. However, sales of vehicles in the automobile industry tend to be cyclical in many markets, which may expose us to volatility from time to time. \\n\\nUsed Vehicle Sales \\n\\nOur used vehicle business supports new vehicle sales by integrating the trade-in of a customer&#8217;s existing Tesla or non-Tesla vehicle with the sale of a new or used Tesla vehicle. The Tesla and non-Tesla vehicles we acquire as trade-ins are subsequently remarketed, either directly by us or through third parties. We also remarket used Tesla vehicles acquired from other sources including lease returns. \\n\\nPublic Charging \\n\\nWe have a growing global network of Tesla Superchargers, which are our industrial-grade, high-speed vehicle chargers. Where possible, we co-locate Superchargers with our solar and energy storage systems to reduce costs and promote renewable power. Supercharger stations are typically placed along well-traveled routes and in and around dense city centers to allow vehicle owners the ability to enjoy quick, reliable charging along an extensive network with convenient stops. Use of the Supercharger network either requires payment of a fee or is free under certain sales programs. In November 2021, we began to offer Supercharger access to non-Tesla vehicles in certain locations in support of our mission to accelerate the world&#8217;s transition to sustainable energy, and in November 2022, we opened up our previously proprietary charging connector as the North American Charging Standard (NACS). This enables all electric vehicles and charging stations to interoperate &#8212; which makes charging easier and more efficient for everyone and advances our mission to accelerate the world&#8217;s transition to sustainable energy. Following this, a number of major automotive companies announced their adoption of NACS, with their access to the Supercharger network beginning in phases in 2024 and their production of NACS vehicles beginning no later than 2025. We also engaged SAE International to govern NACS as an industry standard, now named J3400. We continue to monitor and increase our network of Tesla Superchargers in anticipation of future demand. \\n\\nWe also work with a wide variety of hospitality, retail and public destinations, as well as businesses with commuting employees, to offer additional charging options for our customers, as well as single-family homeowners and multi-family residential entities, to deploy home charging solutions. \\n\\nIn-App Upgrades \\n\\nAs our vehicles are capable of being updated remotely over-the-air, our customers may purchase additional paid options and features through the Tesla app or through the in-vehicle user interface. We expect that this functionality will also allow us to offer certain options and features on a subscription basis in the future. \\n\\nEnergy Generation and Storage \\n\\nWe market and sell our solar and energy storage products to residential, commercial and industrial customers and utilities through a variety of channels, including through our website, stores and galleries, as well as through our network of channel partners, and in the case of some commercial customers, through PPA transactions. We emphasize simplicity, standardization and accessibility to make it easy and cost-effective for customers to adopt clean energy, while reducing our customer acquisition costs. \\n\\nService and Warranty \\n\\nAutomotive \\n\\nService \\n\\nWe provide service for our electric vehicles at our company-owned service locations and through Tesla Mobile Service technicians who perform work remotely at customers&#8217; homes or other locations. Servicing the vehicles ourselves allows us to identify problems and implement solutions and improvements faster than traditional automobile manufacturers and their dealer networks. The connectivity of our vehicles also allows us to diagnose and remedy many problems remotely and proactively. \\n\\nVehicle Limited Warranties and Extended Service Plans \\n\\nWe provide a manufacturer&#8217;s limited warranty on all new and used Tesla vehicles we sell directly to consumers, which may include limited warranties on certain components, specific types of damage or battery capacity retention. We also currently offer optional extended service plans that provide coverage beyond the new vehicle limited warranties for certain models in specified regions. \\n\\nEnergy Generation and Storage \\n\\nWe provide service and repairs to our energy product customers, including under warranty where applicable. We generally provide manufacturer&#8217;s limited warranties with our energy storage products and offer certain extended limited warranties that are available at the time of purchase of the system. If we install a system, we also provide certain limited warranties on our installation workmanship. \\n\\nFor retrofit solar energy systems, we provide separate limited warranties for workmanship and against roof leaks, and for Solar Roof, we also provide limited warranties for defects and weatherization. For components not manufactured by us, we generally pass-through the applicable manufacturers&#8217; warranties. \\n\\nAs part of our solar energy system and energy storage contracts, we may provide the customer with performance guarantees that commit that the underlying system will meet or exceed the minimum energy generation or performance requirements specified in the contract. \\n\\nFinancial Services \\n\\nAutomotive \\n\\nPurchase Financing and Leases \\n\\nWe offer leasing and/or loan financing arrangements for our vehicles in certain jurisdictions in North America, Europe and Asia ourselves and through various financial institutions. Under certain of such programs, we have provided resale value guarantees or buyback guarantees that may obligate us to cover a resale loss up to a certain limit or repurchase the subject vehicles at pre-determined values. \\n\\nInsurance \\n\\nIn 2021, we launched our insurance product using real-time driving behavior in select states, which offers rates that are often better than other alternatives and promotes safer driving. Our insurance products are currently available in 12 states and we plan to expand the markets in which we offer insurance products, as part of our ongoing effort to decrease the total cost of ownership for our customers. \\n\\nEnergy Generation and Storage \\n\\nWe offer certain financing options to our solar customers, which enable the customer to purchase and own a solar energy system, Solar Roof or integrated solar and Powerwall system. Our solar PPAs, offered primarily to commercial customers, charge a fee per kilowatt-hour based on the amount of electricity produced by our solar energy systems. \\n\\nManufacturing \\n\\nWe currently have manufacturing facilities in the U.S. in Northern California, in Buffalo, New York, Gigafactory New York; in Austin, Texas, Gigafactory Texas and near Reno, Nevada, Gigafactory Nevada. At these facilities, we manufacture and assemble, among other things, vehicles, certain vehicle parts and components, such as our battery packs and battery cells, energy storage components and solar products and components. \\n\\nInternationally, we also have manufacturing facilities in China (Gigafactory Shanghai) and Germany (Gigafactory Berlin-Brandenburg), which allows us to increase the affordability of our vehicles for customers in local markets by reducing transportation and manufacturing costs and eliminating the impact of unfavorable tariffs. In March 2023, we announced the location of our next Gigafactory in Monterrey, Mexico. Generally, we continue to expand production capacity at our existing facilities. We also intend to further increase cost-competitiveness in our significant markets by strategically adding local manufacturing. \\n\\nSupply Chain \\n\\nOur products use thousands of parts that are sourced from hundreds of suppliers across the world. We have developed close relationships with vendors of key parts such as battery cells, electronics and complex vehicle assemblies. Certain components purchased from these suppliers are shared or are similar across many product lines, allowing us to take advantage of pricing efficiencies from economies of scale. \\n\\nAs is the case for some automotive companies, some of our procured components and systems are sourced from single suppliers. Where multiple sources are available for certain key components, we work to qualify multiple suppliers for them where it is sensible to do so in order to minimize potential production risks due to disruptions in their supply. We also mitigate risk by maintaining safety stock for key parts and assemblies and die banks for components with lengthy procurement lead times. \\n\\nOur products use various raw materials including aluminum, steel, cobalt, lithium, nickel and copper. Pricing for these materials is governed by market conditions and may fluctuate due to various factors outside of our control, such as supply and demand and market speculation. We strive to execute long-term supply contracts for such materials at competitive pricing when feasible, and we currently believe that we have adequate access to raw materials supplies to meet the needs of our operations. \\n\\nGovernmental Programs, Incentives and Regulations \\n\\nGlobally, the ownership of our products by our customers is impacted by various government credits, incentives, and policies. Our business and products are also subject to numerous governmental regulations that vary among jurisdictions. \\n\\nThe operation of our business is also impacted by various government programs, incentives, and other arrangements. See Note 2, Summary of Significant Accounting Policies , to the consolidated financial statements included elsewhere in this Annual Report on Form 10-K for further details. \\n\\nPrograms and Incentives \\n\\nInflation Reduction Act \\n\\nOn August 16, 2022, the Inflation Reduction Act of 2022 (&#8220;IRA&#8221;) was enacted into law and is effective for taxable years beginning after December 31, 2022, and remains subject to future guidance releases. The IRA includes multiple incentives to promote clean energy, electric vehicles, battery and energy storage manufacture or purchase, including through providing tax credits to consumers. For example, qualifying Tesla customers may receive up to $7,500 in federal tax credits for the purchase of qualified electric vehicles in the U.S. through 2032. \\n\\nAutomotive Regulatory Credits \\n\\nWe earn tradable credits in the operation of our business under various regulations related to zero-emission vehicles (&#8220;ZEVs&#8221;), greenhouse gas, fuel economy and clean fuel. We sell these credits to other regulated entities who can use the credits to comply with emission standards and other regulatory requirements. Sales of these credits are recognized within automotive regulatory credits revenue in our consolidated statements of operations included elsewhere in this Annual Report on Form 10-K. \\n\\nEnergy Storage System Incentives and Policies \\n\\nWhile the regulatory regime for energy storage projects is still under development, there are various policies, incentives and financial mechanisms at the federal, state and local levels that support the adoption of energy storage. \\n\\nFor example, energy storage systems that are charged using solar energy may be eligible for the solar energy-related U.S. federal tax credits described below. The Federal Energy Regulatory Commission (&#8220;FERC&#8221;) has also taken steps to enable the participation of energy storage in wholesale energy markets. In addition, California and a number of other states have adopted procurement targets for energy storage, and behind-the-meter energy storage systems qualify for funding under the California Self Generation Incentive Program. Our customers primarily benefit directly under these programs. In certain instances our customers may transfer such credits to us as contract consideration. In such transactions, they are included as a component of energy generation and storage revenues in our consolidated statements of operations included elsewhere in this Annual Report on Form 10-K. \\n\\nPursuant to the IRA, under Sections 48, 48E and 25D of the Internal Revenue Code (&#8221;IRC&#8221;), standalone energy storage technology is eligible for a tax credit between 6% and 50% of qualified expenditures, regardless of the source of energy, which may be claimed by our customers for storage systems they purchase or by us for arrangements where we own the systems. These tax credits are primarily for the benefit of our customers and are currently scheduled to phase-out starting in 2032 or later. \\n\\nSolar Energy System Incentives and Policies \\n\\nU.S. federal, state and local governments have established various policies, incentives and financial mechanisms to reduce the cost of solar energy and to accelerate the adoption of solar energy. These incentives include tax credits, cash grants, tax abatements and rebates. \\n\\nIn particular, pursuant to the IRA, Sections 48, 48E and 25D of the IRC provides a tax credit between 6% and 70% of qualified commercial or residential expenditures for solar energy systems, which may be claimed by our customers for systems they purchase, or by us for arrangements where we own the systems for properties that meet statutory requirements. These tax credits are primarily for the direct benefit of our customers and are currently scheduled to phase-out starting in 2032 or later. \\n\\nRegulations \\n\\nVehicle Safety and Testing \\n\\nIn the U.S., our vehicles are subject to regulation by the National Highway Traffic Safety Administration (&#8220;NHTSA&#8221;), including all applicable Federal Motor Vehicle Safety Standards (&#8220;FMVSS&#8221;) and the NHTSA bumper standard. Numerous FMVSS apply to our vehicles, such as crash-worthiness and occupant protection requirements. Our current vehicles fully comply and we expect that our vehicles in the future will fully comply with all applicable FMVSS with limited or no exemptions, however, FMVSS are subject to change from time to time. As a manufacturer, we must self-certify that our vehicles meet all applicable FMVSS and the NHTSA bumper standard, or otherwise are exempt, before the vehicles may be imported or sold in the U.S. \\n\\nWe are also required to comply with other federal laws administered by NHTSA, including the Corporate Average Fuel Economy standards, Theft Prevention Act requirements, labeling requirements and other information provided to customers in writing, Early Warning Reporting requirements regarding warranty claims, field reports, death and injury reports and foreign recalls, a Standing General Order requiring reports regarding crashes involving vehicles equipped with advanced driver assistance systems, and additional requirements for cooperating with compliance and safety investigations and recall reporting. The U.S. Automobile Information and Disclosure Act also requires manufacturers of motor vehicles to disclose certain information regarding the manufacturer&#8217;s suggested retail price, optional equipment and pricing. In addition, federal law requires inclusion of fuel economy ratings, as determined by the U.S. Department of Transportation and the Environmental Protection Agency (the &#8220;EPA&#8221;), and New Car Assessment Program ratings as determined by NHTSA, if available. \\n\\nOur vehicles sold outside of the U.S. are subject to similar foreign compliance, safety, environmental and other regulations. Many of those regulations are different from those applicable in the U.S. and may require redesign and/or retesting. Some of those regulations impact or prevent the rollout of new vehicle features. \\n\\nSelf-Driving Vehicles \\n\\nGenerally, laws pertaining to self-driving vehicles are evolving globally, and in some cases may create restrictions on features or vehicle designs that we develop. While there are currently no federal U.S. regulations pertaining specifically to self-driving vehicles or self-driving equipment, NHTSA has published recommended guidelines on self-driving vehicles, apart from the FMVSS and manufacturer reporting obligations, and retains the authority to investigate and/or take action on the safety or compliance of any vehicle, equipment or features operating on public roads. Certain U.S. states also have legal restrictions on the operation, registration or licensure of self-driving vehicles, and many other states are considering them. This regulatory patchwork increases the legal complexity with respect to self-driving vehicles in the U.S. \\n\\nIn markets that follow the regulations of the United Nations Economic Commission for Europe (&#8220; ECE markets &#8221;), some requirements restrict the design of advanced driver-assistance or self-driving features, which can compromise or prevent their use entirely. Other applicable laws, both current and proposed, may hinder the path and timeline to introducing self-driving vehicles for sale and use in the markets where they apply. \\n\\nOther key markets, including China, continue to consider self-driving regulation. Any implemented regulations may differ materially from the U.S. and ECE markets, which may further increase the legal complexity of self-driving vehicles and limit or prevent certain features. \\n\\nAutomobile Manufacturer and Dealer Regulation \\n\\nIn the U.S., state laws regulate the manufacture, distribution, sale and service of automobiles, and generally require motor vehicle manufacturers and dealers to be licensed in order to sell vehicles directly to residents. Certain states have asserted that the laws in such states do not permit automobile manufacturers to be licensed as dealers or to act in the capacity of a dealer, or that they otherwise restrict a manufacturer&#8217;s ability to deliver or perform warranty repairs on vehicles. To sell vehicles to residents of states where we are not licensed as a dealer, we generally conduct the sale out of the state. In certain such states, we have opened &#8220;galleries&#8221; that serve an educational purpose and where sales may not occur. \\n\\nSome automobile dealer trade associations have both challenged the legality of our operations in court and used administrative and legislative processes to attempt to prohibit or limit our ability to operate existing stores or expand to new locations. Certain dealer associations have also actively lobbied state licensing agencies and legislators to interpret existing laws or enact new laws in ways not favorable to our ownership and operation of our own retail and service locations. We expect such challenges to continue, and we intend to actively fight any such efforts. \\n\\nBattery Safety and Testing \\n\\nOur battery packs are subject to various U.S. and international regulations that govern transport of &#8220;dangerous goods,&#8221; defined to include lithium-ion batteries, which may present a risk in transportation. We conduct testing to demonstrate our compliance with such regulations. \\n\\nWe use lithium-ion cells in our high voltage battery packs in our vehicles and energy storage products. The use, storage and disposal of our battery packs are regulated under existing laws and are the subject of ongoing regulatory changes that may add additional requirements in the future. We have agreements with third party battery recycling companies to recycle our battery packs, and we are also piloting our own recycling technology. \\n\\nSolar Energy&#8212;General \\n\\nWe are subject to certain state and federal regulations applicable to solar and battery storage providers and sellers of electricity. To operate our systems, we enter into standard interconnection agreements with applicable utilities. Sales of electricity and non-sale equipment leases by third parties, such as our leases and PPAs, have faced regulatory challenges in some states and jurisdictions. \\n\\nSolar Energy&#8212;Net Metering \\n\\nMost states in the U.S. make net energy metering, or net metering, available to solar customers. Net metering typically allows solar customers to interconnect their solar energy systems to the utility grid and offset their utility electricity purchases by receiving a bill credit for excess energy generated by their solar energy system that is exported to the grid. In certain jurisdictions, regulators or utilities have reduced or eliminated the benefit available under net metering or have proposed to do so. \\n\\nCompetition \\n\\nAutomotive \\n\\nThe worldwide automotive market is highly competitive and we expect it will become even more competitive in the future as a significant and growing number of established and new automobile manufacturers, as well as other companies, have entered, or are reported to have plans to enter the electric vehicle market. \\n\\nWe believe that our vehicles compete in the market based on both their traditional segment classification as well as their propulsion technology. For example, Cybertruck competes with other pickup trucks, Model S and Model X compete primarily with premium sedans and premium SUVs and Model 3 and Model Y compete with small to medium-sized sedans and compact SUVs, which are extremely competitive markets. Competing products typically include internal combustion vehicles from more established automobile manufacturers; however, many established and new automobile manufacturers have entered or have announced plans to enter the market for electric and other alternative fuel vehicles. Overall, we believe these announcements and vehicle introductions, including the introduction of electric vehicles into rental car company fleets, promote the development of the electric vehicle market by highlighting the attractiveness of electric vehicles relative to the internal combustion vehicle. Many major automobile manufacturers have electric vehicles available today in major markets including the U.S., China and Europe, and other current and prospective automobile manufacturers are also developing electric vehicles. In addition, several manufacturers offer hybrid vehicles, including plug-in versions. \\n\\nWe believe that there is also increasing competition for our vehicle offerings as a platform for delivering self-driving technologies, charging solutions and other features and services, and we expect to compete in this developing market through continued progress on our Autopilot, FSD and neural network capabilities, Supercharger network and our infotainment offerings. \\n\\nEnergy Generation and Storage \\n\\nEnergy Storage Systems \\n\\nThe market for energy storage products is also highly competitive, and both established and emerging companies have introduced products that are similar to our product portfolio or that are alternatives to the elements of our systems. We compete with these companies based on price, energy density and efficiency. We believe that the specifications and features of our products, our strong brand and the modular, scalable nature of our energy storage products give us a competitive advantage in our markets. \\n\\nSolar Energy Systems \\n\\nThe primary competitors to our solar energy business are the traditional local utility companies that supply energy to our potential customers. We compete with these traditional utility companies primarily based on price and the ease by which customers can switch to electricity generated by our solar energy systems. We also compete with solar energy companies that provide products and services similar to ours. Many solar energy companies only install solar energy systems, while others only provide financing for these installations. We believe we have a significant expansion opportunity with our offerings and that the regulatory environment is increasingly conducive to the adoption of renewable energy systems. \\n\\nIntellectual Property \\n\\nWe place a strong emphasis on our innovative approach and proprietary designs which bring intrinsic value and uniqueness to our product portfolio. As part of our business, we seek to protect the underlying intellectual property rights of these innovations and designs such as with respect to patents, trademarks, copyrights, trade secrets, confidential information and other measures, including through employee and third-party nondisclosure agreements and other contractual arrangements. For example, we place a high priority on obtaining patents to provide the broadest and strongest possible protection to enable our freedom to operate our innovations and designs across all of our products and technologies as well as to protect and defend our product portfolio. We have also adopted a patent policy in which we irrevocably pledged that we will not initiate a lawsuit against any party for infringing our patents through activity relating to electric vehicles or related equipment for so long as such party is acting in good faith. We made this pledge in order to encourage the advancement of a common, rapidly-evolving platform for electric vehicles, thereby benefiting ourselves, other companies making electric vehicles and the world. \\n\\nEnvironmental, Social and Governance (ESG) and Human Capital Resources \\n\\nESG \\n\\nThe very purpose of Tesla's existence is to accelerate the world's transition to sustainable energy. We believe the world cannot reduce carbon emissions without addressing both energy generation and consumption, and we are designing and manufacturing a complete energy and transportation ecosystem to achieve this goal. As we expand, we are building each new factory to be more efficient and sustainably designed than the previous one, including with respect to per-unit waste reduction and resource consumption, including water and energy usage. We are focused on further enhancing sustainability of operations outside of our direct control, including reducing the carbon footprint of our supply chain. \\n\\nWe are committed to sourcing only responsibly produced materials, and our suppliers are required to provide evidence of management systems that ensure social, environmental and sustainability best practices in their own operations, as well as to demonstrate a commitment to responsible sourcing into their supply chains. We have a zero-tolerance policy when it comes to child or forced labor and human trafficking by our suppliers and we look to the Organization for Economic Co-operation and Development Due Diligence Guidelines to inform our process and use feedback from our internal and external stakeholders to find ways to continually improve. We are also driving safety in our own factories by focusing on worker engagement. Our incidents per vehicle continue to drop even as our production volumes increase. We also strive to be an employer of choice by offering compelling, impactful jobs with best in-industry benefits. \\n\\nWe believe that sound corporate governance is critical to helping us achieve our goals, including with respect to ESG. We continue to evolve a governance framework that exercises appropriate oversight of responsibilities at all levels throughout the company and manages its affairs consistent with high principles of business ethics. Our ESG Sustainability Council is made up of leaders from across our company, and regularly presents to our Board of Directors, which oversees our ESG impacts, initiatives and priorities. \\n\\nHuman Capital Resources \\n\\nA competitive edge for Tesla is its ability to attract and retain high quality employees. During the past year, Tesla made substantial investments in its workforce, further strengthening its standing as one of the most desirable and innovative companies to work for. As of December 31, 2023, our employee headcount worldwide was 140,473. \\n\\nWe have created an environment that fosters growth opportunities, and as of this report, nearly two-thirds (65%) of our managers were promoted from an internal, non-manager position, and 43% of our management employees have been with Tesla for more than five years. Tesla&#8217;s growth of 35% over the past two years has offered internal career development to our employees as well as the ability to make a meaningful contribution to a sustainable future. \\n\\nWe are able to retain our employees, in part, not only because employees can enjoy ownership in Tesla through stock (of which 89% have been given the opportunity to), but because we also provide them with excellent health benefits such as free counseling, paid parental leave, paid time off and zero-premium medical plan options that are made available on the first day of employment. \\n\\nWe recognize the positive impact that leaders can have on their teams and offer fundamental skills training and continuous development to all leaders through various programs globally. \\n\\nWe don&#8217;t stop there. Tesla has several other programs strategically designed to increase paths for greater career opportunity such as: \\n\\n&#8226; Technician Trainee (Service) &#8211; &#8239; The Tesla Technician Trainee Program provides on-the-job automotive maintenance training at Tesla, resulting in an industry certification. Targeted at individuals with limited experience, whether in industry or vocational schools, the program prepares trainees for employment as technicians. In 2023, we hired over 1,900 Technician Trainees across the U.S., Germany and China. \\n\\n&#8226; START (Manufacturing and Service) &#8211; Tesla START is an intensive training program that complements the Technician Trainee program and equips individuals with the skills needed for a successful technician role at Tesla. We have partnered with colleges and technical academies to launch Tesla START in the U.S., United Kingdom and Germany. In 2023, we hired over 350 trainees for manufacturing and service roles through this program, providing an opportunity to transition into full-time employment . \\n\\n&#8226; Internships &#8211; Annually, Tesla hires over 6,000 university and college students from around the world. We recruit from diverse student organizations and campuses, seeking top talent passionate about our mission. Our interns engage in meaningful work from day one, and we often offer them full-time positions post-internship. \\n\\n&#8226; Military Fellowship and Transition Programs &#8211; &#8239;The Military Fellowship and Transition Programs are designed to offer exiting military service members in the U.S. and Europe with career guidance on transitioning into the civil workforce. We partner with the career transition services of European Defence Ministries across five countries, as well as the U.S. Chamber of Commerce&#8217;s Hire our Heroes. These programs aim to convert high-performing individuals to full-time roles and create a veteran talent pipeline. \\n\\n&#8226; Apprenticeships &#8211; Tesla Apprenticeships are offered globally, providing academic and on-the-job training to prepare specialists in skilled trades. Apprentices will complete between one to four years of on-the-job training. Apprentice programs have seen skilled trade hires across the U.S., Australia, Hong Kong, Korea and Germany. \\n\\n&#8226; Manufacturing Development Program &#8211;&#8239;Tesla's manufacturing pathway program is designed to provide graduating high school seniors with the financial resources, coursework and experience they need to start a successful manufacturing career at Tesla. We hired 373 graduates through this program in 2023, and our goal in 2024 is grow this program to over 600 students annually across our Fremont Factory, Gigafactory Nevada, Gigafactory Texas and Gigafactory New York. \\n\\n&#8226; Engineering Development Program &#8211;&#8239;Launched in January 2024, this program targets recent college and university graduates for specialized engineering fields. In collaboration with Austin Community College, the program educates early-career engineers in controls engineering, enhancing their knowledge of high-demand technologies for U.S. manufacturing. \\n\\nWe will continue to expand the opportunities for our employees to add skills and develop professionally with a new Employee Educational Assistance Program launching in the U.S. in the spring of 2024 to help employees pursue select certificates or degrees. With virtual, self-paced education options available, employees can pursue a new path or expand their knowledge while continuing to grow their career. \\n\\nAt Tesla, our employees show up passionate about making a difference in the world and for each other. We remain unwavering in our demand that our factories, offices, stores and service centers are places where our employees feel respected and appreciated. Our policies are designed to promote fairness and respect for everyone. We hire, evaluate and promote employees based on their skills and performance. Everyone is expected to be trustworthy, demonstrate excellence in their performance and collaborate with others. With this in mind, we will not tolerate certain behaviors. These include harassment, retaliation, violence, intimidation and discrimination of any kind on the basis of race, color, religion, national origin, gender, sexual orientation, gender identity, gender expression, age, disability or veteran status. \\n\\nAnti-harassment training is conducted on day one of new hire orientation for all employees and reoccurring for leaders. In addition, we run various leadership development programs throughout the year aimed at enhancing leaders&#8217; skills, and in particular, helping them to understand how to appropriately respond to and address employee concerns. \\n\\nEmployees are encouraged to speak up both in regard to misconduct and safety concerns and can do so by contacting the integrity line, submitting concerns through our Take Charge process, or notifying their Human Resource Partner or any member of management. Concerns are reviewed in accordance with established protocols by investigators with expertise, who also review for trends and outcomes for remediation and appropriate controls. Responding to questions timely is key so Human Resource Partners for each functional area are visible throughout facilities and are actively involved in driving culture and engagement alongside business leaders. \\n\\nAvailable Information \\n\\nWe file or furnish periodic reports and amendments thereto, including our Annual Reports on Form 10-K, our Quarterly Reports on Form 10-Q and Current Reports on Form 8-K, proxy statements and other information with the SEC. In addition, the SEC maintains a website ( www.sec.gov ) that contains reports, proxy and information statements, and other information regarding issuers that file electronically. Our website is located at www.tesla.com , and our reports, amendments thereto, proxy statements and other information are also made available, free of charge, on our investor relations website at ir.tesla.com as soon as reasonably practicable after we electronically file or furnish such information with the SEC. The information posted on our website is not incorporated by reference into this Annual Report on Form 10-K. \\n\\n\""
      ]
     },
     "execution_count": 4,
     "metadata": {},
     "output_type": "execute_result"
    }
   ],
   "source": [
    "tsla_item1"
   ]
  },
  {
   "cell_type": "code",
   "execution_count": 12,
   "metadata": {},
   "outputs": [
    {
     "data": {
      "text/plain": [
       "\" ITEM 1. BUSINESS Overview We design, develop, manufacture, sell and lease high-performance fully electric vehicles and energy generation and storage systems, and offer services related to our products. We generally sell our products directly to customers, and continue to grow our customer-facing infrastructure through a global network of vehicle showrooms and service centers, Mobile Service, body shops, Supercharger stations and Destination Chargers to accelerate the widespread adoption of our products. We emphasize performance, attractive styling and the safety of our users and workforce in the design and manufacture of our products and are continuing to develop full self-driving technology for improved safety. We also strive to lower the cost of ownership for our customers through continuous efforts to reduce manufacturing costs and by offering financial and other services tailored to our products. Our mission is to accelerate the world&#8217;s transition to sustainable energy. We believe that this mission, along with our engineering expertise, vertically integrated business model and focus on user experience differentiate us from other companies. Segment Information We operate as two reportable segments: (i) automotive and (ii) energy generation and storage. The automotive segment includes the design, development, manufacturing, sales and leasing of high-performance fully electric vehicles as well as sales of automotive regulatory credits. Additionally, the automotive segment also includes services and other, which includes sales of used vehicles, non-warranty after-sales vehicle services, body shop and parts, paid Supercharging, vehicle insurance revenue and retail merchandise. The energy generation and storage segment includes the design, manufacture, installation, sales and leasing of solar energy generation and energy storage products and related services and sales of solar energy systems incentives. Our Products and Services Automotive We currently manufacture five different consumer vehicles &#8211; the Model 3, Y, S, X and Cybertruck. Model 3 is a four-door mid-size sedan that we designed for manufacturability with a base price for mass-market appeal. Model Y is a compact sport utility vehicle (&#8220;SUV&#8221;) built on the Model 3 platform with seating for up to seven adults. Model S is a four-door full-size sedan and Model X is a mid-size SUV with seating for up to seven adults. Model S and Model X feature the highest performance characteristics and longest ranges that we offer in a sedan and SUV, respectively. In November 2023, we entered the consumer pickup truck market with first deliveries of the Cybertruck, a full-size electric pickup truck with a stainless steel exterior that has the utility and strength of a truck while featuring the speed of a sports car. In 2022, we also began early production and deliveries of a commercial electric vehicle, the Tesla Semi. We have planned electric vehicles to address additional vehicle markets, and to continue leveraging developments in our proprietary Full Self-Driving (&#8220;FSD&#8221;) Capability features, battery cell and other technologies. Energy Generation and Storage Energy Storage Products Powerwall and Megapack are our lithium-ion battery energy storage products. Powerwall, which we sell directly to customers, as well as through channel partners, is designed to store energy at a home or small commercial facility. Megapack is an energy storage solution for commercial, industrial, utility and energy generation customers, multiple of which may be grouped together to form larger installations of gigawatt hours (&#8220;GWh&#8221;) or greater capacity. We also continue to develop software capabilities for remotely controlling and dispatching our energy storage systems across a wide range of markets and applications, including through our real-time energy control and optimization platforms. Solar Energy Offerings We sell retrofit solar energy systems to customers and channel partners and also make them available through power purchase agreement (&#8220;PPA&#8221;) arrangements. We purchase most of the components for our retrofit solar energy systems from multiple sources to ensure competitive pricing and adequate supply. We also design and manufacture certain components for our solar energy products. We sell our Solar Roof, which combines premium glass roof tiles with energy generation, directly to customers, as well as through channel customers. We continue to improve our installation capability and efficiency, including through collaboration with real estate developers and builders on new homes. Technology Automotive Battery and Powertrain Our core vehicle technology competencies include powertrain engineering and manufacturing and our ability to design vehicles that utilize the unique advantages of an electric powertrain. We have designed our proprietary powertrain systems to be adaptable, efficient, reliable and cost-effective while withstanding the rigors of an automotive environment. We offer dual motor powertrain vehicles, which use two electric motors to maximize traction and performance in an all-wheel drive configuration, as well as vehicle powertrain technology featuring three electric motors for further increased performance in certain versions of Model S and Model X, Cybertruck and the Tesla Semi. We maintain extensive testing and R&#38;D capabilities for battery cells, packs and systems, and have built an expansive body of knowledge on lithium-ion cell chemistry types and performance characteristics. In order to enable a greater supply of cells for our products with higher energy density at lower costs, we have developed a new proprietary lithium-ion battery cell and improved manufacturing processes. Vehicle Control and Infotainment Software The performance and safety systems of our vehicles and their battery packs utilize sophisticated control software. Control systems in our vehicles optimize performance, customize vehicle behavior, manage charging and control all infotainment functions. We develop almost all of this software, including most of the user interfaces, internally and update our vehicles&#8217; software regularly through over-the-air updates. Self-Driving Development and Artificial Intelligence We have expertise in developing technologies, systems and software to enable self-driving vehicles using primarily vision-based technologies. Our FSD Computer runs our neural networks in our vehicles, and we are also developing additional computer hardware to better enable the massive amounts of field data captured by our vehicles to continually train and improve these neural networks for real-world performance. Currently, we offer in our vehicles certain advanced driver assist systems under our Autopilot and FSD Capability options. Although at present the driver is ultimately responsible for controlling the vehicle, our systems provide safety and convenience functionality that relieves drivers of the most tedious and potentially dangerous aspects of road travel much like the system that airplane pilots use, when conditions permit. As with other vehicle systems, we improve these functions in our vehicles over time through over-the-air updates. We intend to establish in the future an autonomous Tesla ride-hailing network, which we expect would also allow us to access a new customer base even as modes of transportation evolve. We are also applying our artificial intelligence learnings from self-driving technology to the field of robotics, such as through Optimus, a robotic humanoid in development, which is controlled by the same AI system. Energy Generation and Storage Energy Storage Products We leverage many of the component-level technologies from our vehicles in our energy storage products. By taking a modular approach to the design of battery systems, we can optimize manufacturing capacity of our energy storage products. Additionally, our expertise in power electronics enables our battery systems to interconnect with electricity grids while providing fast-acting systems for power injection and absorption. We have also developed software to remotely control and dispatch our energy storage systems. Solar Energy Systems We have engineered Solar Roof over numerous iterations to combine aesthetic appeal and durability with power generation. The efficiency of our solar energy products is aided by our own solar inverter, which incorporates our power electronics technologies. We designed both products to integrate with Powerwall. Design and Engineering Automotive We have established significant in-house capabilities in the design and test engineering of electric vehicles and their components and systems. Our team has significant experience in computer-aided design as well as durability, strength and crash test simulations, which reduces the product development time of new models. We have also achieved complex engineering feats in stamping, casting and thermal systems, and developed a method to integrate batteries directly with vehicle body structures without separate battery packs to optimize manufacturability, weight, range and cost characteristics. We are also expanding our manufacturing operations globally while taking action to localize our vehicle designs and production for particular markets, including country-specific market demands and factory optimizations for local workforces. As we increase our capabilities, particularly in the areas of automation, die-making and line-building, we are also making strides in the simulations modeling these capabilities prior to construction. Energy Generation and Storage Our expertise in electrical, mechanical, civil and software engineering allows us to design, engineer, manufacture and install energy generating and storage products and components, including at the residential through utility scale. For example, the modular design of our Megapack utility-scale battery line is intended to significantly reduce the amount of assembly required in the field. We also customize solutions including our energy storage products, solar energy systems and/or Solar Roof for customers to meet their specific needs. Sales and Marketing Historically, we have been able to achieve sales without traditional advertising and at relatively low marketing costs. We continue to monitor our public narrative and brand, and tailor our marketing efforts accordingly, including through investments in customer education and advertising as necessary. Automotive Direct Sales Our vehicle sales channels currently include our website and an international network of company-owned stores. In some jurisdictions, we also have galleries to educate and inform customers about our products, but such locations do not transact in the sale of vehicles. We believe this infrastructure enables us to better control costs of inventory, manage warranty service and pricing, educate consumers about electric vehicles, make our vehicles more affordable, maintain and strengthen the Tesla brand and obtain rapid customer feedback. We reevaluate our sales strategy both globally and at a location-by-location level from time to time to optimize our sales channels. However, sales of vehicles in the automobile industry tend to be cyclical in many markets, which may expose us to volatility from time to time. Used Vehicle Sales Our used vehicle business supports new vehicle sales by integrating the trade-in of a customer&#8217;s existing Tesla or non-Tesla vehicle with the sale of a new or used Tesla vehicle. The Tesla and non-Tesla vehicles we acquire as trade-ins are subsequently remarketed, either directly by us or through third parties. We also remarket used Tesla vehicles acquired from other sources including lease returns. Public Charging We have a growing global network of Tesla Superchargers, which are our industrial-grade, high-speed vehicle chargers. Where possible, we co-locate Superchargers with our solar and energy storage systems to reduce costs and promote renewable power. Supercharger stations are typically placed along well-traveled routes and in and around dense city centers to allow vehicle owners the ability to enjoy quick, reliable charging along an extensive network with convenient stops. Use of the Supercharger network either requires payment of a fee or is free under certain sales programs. In November 2021, we began to offer Supercharger access to non-Tesla vehicles in certain locations in support of our mission to accelerate the world&#8217;s transition to sustainable energy, and in November 2022, we opened up our previously proprietary charging connector as the North American Charging Standard (NACS). This enables all electric vehicles and charging stations to interoperate &#8212; which makes charging easier and more efficient for everyone and advances our mission to accelerate the world&#8217;s transition to sustainable energy. Following this, a number of major automotive companies announced their adoption of NACS, with their access to the Supercharger network beginning in phases in 2024 and their production of NACS vehicles beginning no later than 2025. We also engaged SAE International to govern NACS as an industry standard, now named J3400. We continue to monitor and increase our network of Tesla Superchargers in anticipation of future demand. We also work with a wide variety of hospitality, retail and public destinations, as well as businesses with commuting employees, to offer additional charging options for our customers, as well as single-family homeowners and multi-family residential entities, to deploy home charging solutions. In-App Upgrades As our vehicles are capable of being updated remotely over-the-air, our customers may purchase additional paid options and features through the Tesla app or through the in-vehicle user interface. We expect that this functionality will also allow us to offer certain options and features on a subscription basis in the future. Energy Generation and Storage We market and sell our solar and energy storage products to residential, commercial and industrial customers and utilities through a variety of channels, including through our website, stores and galleries, as well as through our network of channel partners, and in the case of some commercial customers, through PPA transactions. We emphasize simplicity, standardization and accessibility to make it easy and cost-effective for customers to adopt clean energy, while reducing our customer acquisition costs. Service and Warranty Automotive Service We provide service for our electric vehicles at our company-owned service locations and through Tesla Mobile Service technicians who perform work remotely at customers&#8217; homes or other locations. Servicing the vehicles ourselves allows us to identify problems and implement solutions and improvements faster than traditional automobile manufacturers and their dealer networks. The connectivity of our vehicles also allows us to diagnose and remedy many problems remotely and proactively. Vehicle Limited Warranties and Extended Service Plans We provide a manufacturer&#8217;s limited warranty on all new and used Tesla vehicles we sell directly to consumers, which may include limited warranties on certain components, specific types of damage or battery capacity retention. We also currently offer optional extended service plans that provide coverage beyond the new vehicle limited warranties for certain models in specified regions. Energy Generation and Storage We provide service and repairs to our energy product customers, including under warranty where applicable. We generally provide manufacturer&#8217;s limited warranties with our energy storage products and offer certain extended limited warranties that are available at the time of purchase of the system. If we install a system, we also provide certain limited warranties on our installation workmanship. For retrofit solar energy systems, we provide separate limited warranties for workmanship and against roof leaks, and for Solar Roof, we also provide limited warranties for defects and weatherization. For components not manufactured by us, we generally pass-through the applicable manufacturers&#8217; warranties. As part of our solar energy system and energy storage contracts, we may provide the customer with performance guarantees that commit that the underlying system will meet or exceed the minimum energy generation or performance requirements specified in the contract. Financial Services Automotive Purchase Financing and Leases We offer leasing and/or loan financing arrangements for our vehicles in certain jurisdictions in North America, Europe and Asia ourselves and through various financial institutions. Under certain of such programs, we have provided resale value guarantees or buyback guarantees that may obligate us to cover a resale loss up to a certain limit or repurchase the subject vehicles at pre-determined values. Insurance In 2021, we launched our insurance product using real-time driving behavior in select states, which offers rates that are often better than other alternatives and promotes safer driving. Our insurance products are currently available in 12 states and we plan to expand the markets in which we offer insurance products, as part of our ongoing effort to decrease the total cost of ownership for our customers. Energy Generation and Storage We offer certain financing options to our solar customers, which enable the customer to purchase and own a solar energy system, Solar Roof or integrated solar and Powerwall system. Our solar PPAs, offered primarily to commercial customers, charge a fee per kilowatt-hour based on the amount of electricity produced by our solar energy systems. Manufacturing We currently have manufacturing facilities in the U.S. in Northern California, in Buffalo, New York, Gigafactory New York; in Austin, Texas, Gigafactory Texas and near Reno, Nevada, Gigafactory Nevada. At these facilities, we manufacture and assemble, among other things, vehicles, certain vehicle parts and components, such as our battery packs and battery cells, energy storage components and solar products and components. Internationally, we also have manufacturing facilities in China (Gigafactory Shanghai) and Germany (Gigafactory Berlin-Brandenburg), which allows us to increase the affordability of our vehicles for customers in local markets by reducing transportation and manufacturing costs and eliminating the impact of unfavorable tariffs. In March 2023, we announced the location of our next Gigafactory in Monterrey, Mexico. Generally, we continue to expand production capacity at our existing facilities. We also intend to further increase cost-competitiveness in our significant markets by strategically adding local manufacturing. Supply Chain Our products use thousands of parts that are sourced from hundreds of suppliers across the world. We have developed close relationships with vendors of key parts such as battery cells, electronics and complex vehicle assemblies. Certain components purchased from these suppliers are shared or are similar across many product lines, allowing us to take advantage of pricing efficiencies from economies of scale. As is the case for some automotive companies, some of our procured components and systems are sourced from single suppliers. Where multiple sources are available for certain key components, we work to qualify multiple suppliers for them where it is sensible to do so in order to minimize potential production risks due to disruptions in their supply. We also mitigate risk by maintaining safety stock for key parts and assemblies and die banks for components with lengthy procurement lead times. Our products use various raw materials including aluminum, steel, cobalt, lithium, nickel and copper. Pricing for these materials is governed by market conditions and may fluctuate due to various factors outside of our control, such as supply and demand and market speculation. We strive to execute long-term supply contracts for such materials at competitive pricing when feasible, and we currently believe that we have adequate access to raw materials supplies to meet the needs of our operations. Governmental Programs, Incentives and Regulations Globally, the ownership of our products by our customers is impacted by various government credits, incentives, and policies. Our business and products are also subject to numerous governmental regulations that vary among jurisdictions. The operation of our business is also impacted by various government programs, incentives, and other arrangements. See Note 2, Summary of Significant Accounting Policies , to the consolidated financial statements included elsewhere in this Annual Report on Form 10-K for further details. Programs and Incentives Inflation Reduction Act On August 16, 2022, the Inflation Reduction Act of 2022 (&#8220;IRA&#8221;) was enacted into law and is effective for taxable years beginning after December 31, 2022, and remains subject to future guidance releases. The IRA includes multiple incentives to promote clean energy, electric vehicles, battery and energy storage manufacture or purchase, including through providing tax credits to consumers. For example, qualifying Tesla customers may receive up to $7,500 in federal tax credits for the purchase of qualified electric vehicles in the U.S. through 2032. Automotive Regulatory Credits We earn tradable credits in the operation of our business under various regulations related to zero-emission vehicles (&#8220;ZEVs&#8221;), greenhouse gas, fuel economy and clean fuel. We sell these credits to other regulated entities who can use the credits to comply with emission standards and other regulatory requirements. Sales of these credits are recognized within automotive regulatory credits revenue in our consolidated statements of operations included elsewhere in this Annual Report on Form 10-K. Energy Storage System Incentives and Policies While the regulatory regime for energy storage projects is still under development, there are various policies, incentives and financial mechanisms at the federal, state and local levels that support the adoption of energy storage. For example, energy storage systems that are charged using solar energy may be eligible for the solar energy-related U.S. federal tax credits described below. The Federal Energy Regulatory Commission (&#8220;FERC&#8221;) has also taken steps to enable the participation of energy storage in wholesale energy markets. In addition, California and a number of other states have adopted procurement targets for energy storage, and behind-the-meter energy storage systems qualify for funding under the California Self Generation Incentive Program. Our customers primarily benefit directly under these programs. In certain instances our customers may transfer such credits to us as contract consideration. In such transactions, they are included as a component of energy generation and storage revenues in our consolidated statements of operations included elsewhere in this Annual Report on Form 10-K. Pursuant to the IRA, under Sections 48, 48E and 25D of the Internal Revenue Code (&#8221;IRC&#8221;), standalone energy storage technology is eligible for a tax credit between 6% and 50% of qualified expenditures, regardless of the source of energy, which may be claimed by our customers for storage systems they purchase or by us for arrangements where we own the systems. These tax credits are primarily for the benefit of our customers and are currently scheduled to phase-out starting in 2032 or later. Solar Energy System Incentives and Policies U.S. federal, state and local governments have established various policies, incentives and financial mechanisms to reduce the cost of solar energy and to accelerate the adoption of solar energy. These incentives include tax credits, cash grants, tax abatements and rebates. In particular, pursuant to the IRA, Sections 48, 48E and 25D of the IRC provides a tax credit between 6% and 70% of qualified commercial or residential expenditures for solar energy systems, which may be claimed by our customers for systems they purchase, or by us for arrangements where we own the systems for properties that meet statutory requirements. These tax credits are primarily for the direct benefit of our customers and are currently scheduled to phase-out starting in 2032 or later. Regulations Vehicle Safety and Testing In the U.S., our vehicles are subject to regulation by the National Highway Traffic Safety Administration (&#8220;NHTSA&#8221;), including all applicable Federal Motor Vehicle Safety Standards (&#8220;FMVSS&#8221;) and the NHTSA bumper standard. Numerous FMVSS apply to our vehicles, such as crash-worthiness and occupant protection requirements. Our current vehicles fully comply and we expect that our vehicles in the future will fully comply with all applicable FMVSS with limited or no exemptions, however, FMVSS are subject to change from time to time. As a manufacturer, we must self-certify that our vehicles meet all applicable FMVSS and the NHTSA bumper standard, or otherwise are exempt, before the vehicles may be imported or sold in the U.S. We are also required to comply with other federal laws administered by NHTSA, including the Corporate Average Fuel Economy standards, Theft Prevention Act requirements, labeling requirements and other information provided to customers in writing, Early Warning Reporting requirements regarding warranty claims, field reports, death and injury reports and foreign recalls, a Standing General Order requiring reports regarding crashes involving vehicles equipped with advanced driver assistance systems, and additional requirements for cooperating with compliance and safety investigations and recall reporting. The U.S. Automobile Information and Disclosure Act also requires manufacturers of motor vehicles to disclose certain information regarding the manufacturer&#8217;s suggested retail price, optional equipment and pricing. In addition, federal law requires inclusion of fuel economy ratings, as determined by the U.S. Department of Transportation and the Environmental Protection Agency (the &#8220;EPA&#8221;), and New Car Assessment Program ratings as determined by NHTSA, if available. Our vehicles sold outside of the U.S. are subject to similar foreign compliance, safety, environmental and other regulations. Many of those regulations are different from those applicable in the U.S. and may require redesign and/or retesting. Some of those regulations impact or prevent the rollout of new vehicle features. Self-Driving Vehicles Generally, laws pertaining to self-driving vehicles are evolving globally, and in some cases may create restrictions on features or vehicle designs that we develop. While there are currently no federal U.S. regulations pertaining specifically to self-driving vehicles or self-driving equipment, NHTSA has published recommended guidelines on self-driving vehicles, apart from the FMVSS and manufacturer reporting obligations, and retains the authority to investigate and/or take action on the safety or compliance of any vehicle, equipment or features operating on public roads. Certain U.S. states also have legal restrictions on the operation, registration or licensure of self-driving vehicles, and many other states are considering them. This regulatory patchwork increases the legal complexity with respect to self-driving vehicles in the U.S. In markets that follow the regulations of the United Nations Economic Commission for Europe (&#8220; ECE markets &#8221;), some requirements restrict the design of advanced driver-assistance or self-driving features, which can compromise or prevent their use entirely. Other applicable laws, both current and proposed, may hinder the path and timeline to introducing self-driving vehicles for sale and use in the markets where they apply. Other key markets, including China, continue to consider self-driving regulation. Any implemented regulations may differ materially from the U.S. and ECE markets, which may further increase the legal complexity of self-driving vehicles and limit or prevent certain features. Automobile Manufacturer and Dealer Regulation In the U.S., state laws regulate the manufacture, distribution, sale and service of automobiles, and generally require motor vehicle manufacturers and dealers to be licensed in order to sell vehicles directly to residents. Certain states have asserted that the laws in such states do not permit automobile manufacturers to be licensed as dealers or to act in the capacity of a dealer, or that they otherwise restrict a manufacturer&#8217;s ability to deliver or perform warranty repairs on vehicles. To sell vehicles to residents of states where we are not licensed as a dealer, we generally conduct the sale out of the state. In certain such states, we have opened &#8220;galleries&#8221; that serve an educational purpose and where sales may not occur. Some automobile dealer trade associations have both challenged the legality of our operations in court and used administrative and legislative processes to attempt to prohibit or limit our ability to operate existing stores or expand to new locations. Certain dealer associations have also actively lobbied state licensing agencies and legislators to interpret existing laws or enact new laws in ways not favorable to our ownership and operation of our own retail and service locations. We expect such challenges to continue, and we intend to actively fight any such efforts. Battery Safety and Testing Our battery packs are subject to various U.S. and international regulations that govern transport of &#8220;dangerous goods,&#8221; defined to include lithium-ion batteries, which may present a risk in transportation. We conduct testing to demonstrate our compliance with such regulations. We use lithium-ion cells in our high voltage battery packs in our vehicles and energy storage products. The use, storage and disposal of our battery packs are regulated under existing laws and are the subject of ongoing regulatory changes that may add additional requirements in the future. We have agreements with third party battery recycling companies to recycle our battery packs, and we are also piloting our own recycling technology. Solar Energy&#8212;General We are subject to certain state and federal regulations applicable to solar and battery storage providers and sellers of electricity. To operate our systems, we enter into standard interconnection agreements with applicable utilities. Sales of electricity and non-sale equipment leases by third parties, such as our leases and PPAs, have faced regulatory challenges in some states and jurisdictions. Solar Energy&#8212;Net Metering Most states in the U.S. make net energy metering, or net metering, available to solar customers. Net metering typically allows solar customers to interconnect their solar energy systems to the utility grid and offset their utility electricity purchases by receiving a bill credit for excess energy generated by their solar energy system that is exported to the grid. In certain jurisdictions, regulators or utilities have reduced or eliminated the benefit available under net metering or have proposed to do so. Competition Automotive The worldwide automotive market is highly competitive and we expect it will become even more competitive in the future as a significant and growing number of established and new automobile manufacturers, as well as other companies, have entered, or are reported to have plans to enter the electric vehicle market. We believe that our vehicles compete in the market based on both their traditional segment classification as well as their propulsion technology. For example, Cybertruck competes with other pickup trucks, Model S and Model X compete primarily with premium sedans and premium SUVs and Model 3 and Model Y compete with small to medium-sized sedans and compact SUVs, which are extremely competitive markets. Competing products typically include internal combustion vehicles from more established automobile manufacturers; however, many established and new automobile manufacturers have entered or have announced plans to enter the market for electric and other alternative fuel vehicles. Overall, we believe these announcements and vehicle introductions, including the introduction of electric vehicles into rental car company fleets, promote the development of the electric vehicle market by highlighting the attractiveness of electric vehicles relative to the internal combustion vehicle. Many major automobile manufacturers have electric vehicles available today in major markets including the U.S., China and Europe, and other current and prospective automobile manufacturers are also developing electric vehicles. In addition, several manufacturers offer hybrid vehicles, including plug-in versions. We believe that there is also increasing competition for our vehicle offerings as a platform for delivering self-driving technologies, charging solutions and other features and services, and we expect to compete in this developing market through continued progress on our Autopilot, FSD and neural network capabilities, Supercharger network and our infotainment offerings. Energy Generation and Storage Energy Storage Systems The market for energy storage products is also highly competitive, and both established and emerging companies have introduced products that are similar to our product portfolio or that are alternatives to the elements of our systems. We compete with these companies based on price, energy density and efficiency. We believe that the specifications and features of our products, our strong brand and the modular, scalable nature of our energy storage products give us a competitive advantage in our markets. Solar Energy Systems The primary competitors to our solar energy business are the traditional local utility companies that supply energy to our potential customers. We compete with these traditional utility companies primarily based on price and the ease by which customers can switch to electricity generated by our solar energy systems. We also compete with solar energy companies that provide products and services similar to ours. Many solar energy companies only install solar energy systems, while others only provide financing for these installations. We believe we have a significant expansion opportunity with our offerings and that the regulatory environment is increasingly conducive to the adoption of renewable energy systems. Intellectual Property We place a strong emphasis on our innovative approach and proprietary designs which bring intrinsic value and uniqueness to our product portfolio. As part of our business, we seek to protect the underlying intellectual property rights of these innovations and designs such as with respect to patents, trademarks, copyrights, trade secrets, confidential information and other measures, including through employee and third-party nondisclosure agreements and other contractual arrangements. For example, we place a high priority on obtaining patents to provide the broadest and strongest possible protection to enable our freedom to operate our innovations and designs across all of our products and technologies as well as to protect and defend our product portfolio. We have also adopted a patent policy in which we irrevocably pledged that we will not initiate a lawsuit against any party for infringing our patents through activity relating to electric vehicles or related equipment for so long as such party is acting in good faith. We made this pledge in order to encourage the advancement of a common, rapidly-evolving platform for electric vehicles, thereby benefiting ourselves, other companies making electric vehicles and the world. Environmental, Social and Governance (ESG) and Human Capital Resources ESG The very purpose of Tesla's existence is to accelerate the world's transition to sustainable energy. We believe the world cannot reduce carbon emissions without addressing both energy generation and consumption, and we are designing and manufacturing a complete energy and transportation ecosystem to achieve this goal. As we expand, we are building each new factory to be more efficient and sustainably designed than the previous one, including with respect to per-unit waste reduction and resource consumption, including water and energy usage. We are focused on further enhancing sustainability of operations outside of our direct control, including reducing the carbon footprint of our supply chain. We are committed to sourcing only responsibly produced materials, and our suppliers are required to provide evidence of management systems that ensure social, environmental and sustainability best practices in their own operations, as well as to demonstrate a commitment to responsible sourcing into their supply chains. We have a zero-tolerance policy when it comes to child or forced labor and human trafficking by our suppliers and we look to the Organization for Economic Co-operation and Development Due Diligence Guidelines to inform our process and use feedback from our internal and external stakeholders to find ways to continually improve. We are also driving safety in our own factories by focusing on worker engagement. Our incidents per vehicle continue to drop even as our production volumes increase. We also strive to be an employer of choice by offering compelling, impactful jobs with best in-industry benefits. We believe that sound corporate governance is critical to helping us achieve our goals, including with respect to ESG. We continue to evolve a governance framework that exercises appropriate oversight of responsibilities at all levels throughout the company and manages its affairs consistent with high principles of business ethics. Our ESG Sustainability Council is made up of leaders from across our company, and regularly presents to our Board of Directors, which oversees our ESG impacts, initiatives and priorities. Human Capital Resources A competitive edge for Tesla is its ability to attract and retain high quality employees. During the past year, Tesla made substantial investments in its workforce, further strengthening its standing as one of the most desirable and innovative companies to work for. As of December 31, 2023, our employee headcount worldwide was 140,473. We have created an environment that fosters growth opportunities, and as of this report, nearly two-thirds (65%) of our managers were promoted from an internal, non-manager position, and 43% of our management employees have been with Tesla for more than five years. Tesla&#8217;s growth of 35% over the past two years has offered internal career development to our employees as well as the ability to make a meaningful contribution to a sustainable future. We are able to retain our employees, in part, not only because employees can enjoy ownership in Tesla through stock (of which 89% have been given the opportunity to), but because we also provide them with excellent health benefits such as free counseling, paid parental leave, paid time off and zero-premium medical plan options that are made available on the first day of employment. We recognize the positive impact that leaders can have on their teams and offer fundamental skills training and continuous development to all leaders through various programs globally. We don&#8217;t stop there. Tesla has several other programs strategically designed to increase paths for greater career opportunity such as: &#8226; Technician Trainee (Service) &#8211; &#8239; The Tesla Technician Trainee Program provides on-the-job automotive maintenance training at Tesla, resulting in an industry certification. Targeted at individuals with limited experience, whether in industry or vocational schools, the program prepares trainees for employment as technicians. In 2023, we hired over 1,900 Technician Trainees across the U.S., Germany and China. &#8226; START (Manufacturing and Service) &#8211; Tesla START is an intensive training program that complements the Technician Trainee program and equips individuals with the skills needed for a successful technician role at Tesla. We have partnered with colleges and technical academies to launch Tesla START in the U.S., United Kingdom and Germany. In 2023, we hired over 350 trainees for manufacturing and service roles through this program, providing an opportunity to transition into full-time employment . &#8226; Internships &#8211; Annually, Tesla hires over 6,000 university and college students from around the world. We recruit from diverse student organizations and campuses, seeking top talent passionate about our mission. Our interns engage in meaningful work from day one, and we often offer them full-time positions post-internship. &#8226; Military Fellowship and Transition Programs &#8211; &#8239;The Military Fellowship and Transition Programs are designed to offer exiting military service members in the U.S. and Europe with career guidance on transitioning into the civil workforce. We partner with the career transition services of European Defence Ministries across five countries, as well as the U.S. Chamber of Commerce&#8217;s Hire our Heroes. These programs aim to convert high-performing individuals to full-time roles and create a veteran talent pipeline. &#8226; Apprenticeships &#8211; Tesla Apprenticeships are offered globally, providing academic and on-the-job training to prepare specialists in skilled trades. Apprentices will complete between one to four years of on-the-job training. Apprentice programs have seen skilled trade hires across the U.S., Australia, Hong Kong, Korea and Germany. &#8226; Manufacturing Development Program &#8211;&#8239;Tesla's manufacturing pathway program is designed to provide graduating high school seniors with the financial resources, coursework and experience they need to start a successful manufacturing career at Tesla. We hired 373 graduates through this program in 2023, and our goal in 2024 is grow this program to over 600 students annually across our Fremont Factory, Gigafactory Nevada, Gigafactory Texas and Gigafactory New York. &#8226; Engineering Development Program &#8211;&#8239;Launched in January 2024, this program targets recent college and university graduates for specialized engineering fields. In collaboration with Austin Community College, the program educates early-career engineers in controls engineering, enhancing their knowledge of high-demand technologies for U.S. manufacturing. We will continue to expand the opportunities for our employees to add skills and develop professionally with a new Employee Educational Assistance Program launching in the U.S. in the spring of 2024 to help employees pursue select certificates or degrees. With virtual, self-paced education options available, employees can pursue a new path or expand their knowledge while continuing to grow their career. At Tesla, our employees show up passionate about making a difference in the world and for each other. We remain unwavering in our demand that our factories, offices, stores and service centers are places where our employees feel respected and appreciated. Our policies are designed to promote fairness and respect for everyone. We hire, evaluate and promote employees based on their skills and performance. Everyone is expected to be trustworthy, demonstrate excellence in their performance and collaborate with others. With this in mind, we will not tolerate certain behaviors. These include harassment, retaliation, violence, intimidation and discrimination of any kind on the basis of race, color, religion, national origin, gender, sexual orientation, gender identity, gender expression, age, disability or veteran status. Anti-harassment training is conducted on day one of new hire orientation for all employees and reoccurring for leaders. In addition, we run various leadership development programs throughout the year aimed at enhancing leaders&#8217; skills, and in particular, helping them to understand how to appropriately respond to and address employee concerns. Employees are encouraged to speak up both in regard to misconduct and safety concerns and can do so by contacting the integrity line, submitting concerns through our Take Charge process, or notifying their Human Resource Partner or any member of management. Concerns are reviewed in accordance with established protocols by investigators with expertise, who also review for trends and outcomes for remediation and appropriate controls. Responding to questions timely is key so Human Resource Partners for each functional area are visible throughout facilities and are actively involved in driving culture and engagement alongside business leaders. Available Information We file or furnish periodic reports and amendments thereto, including our Annual Reports on Form 10-K, our Quarterly Reports on Form 10-Q and Current Reports on Form 8-K, proxy statements and other information with the SEC. In addition, the SEC maintains a website ( www.sec.gov ) that contains reports, proxy and information statements, and other information regarding issuers that file electronically. Our website is located at www.tesla.com , and our reports, amendments thereto, proxy statements and other information are also made available, free of charge, on our investor relations website at ir.tesla.com as soon as reasonably practicable after we electronically file or furnish such information with the SEC. The information posted on our website is not incorporated by reference into this Annual Report on Form 10-K. \""
      ]
     },
     "execution_count": 12,
     "metadata": {},
     "output_type": "execute_result"
    }
   ],
   "source": [
    "tsla_item1 = tsla_item1.replace('\\n', '')\n",
    "tsla_item1"
   ]
  },
  {
   "cell_type": "markdown",
   "metadata": {},
   "source": [
    "## Data Exploration - Text Analysis"
   ]
  },
  {
   "cell_type": "markdown",
   "metadata": {},
   "source": [
    "### Frequency Analysis"
   ]
  },
  {
   "cell_type": "code",
   "execution_count": null,
   "metadata": {},
   "outputs": [],
   "source": [
    "## FREQUENCY ANALYSIS\n",
    "# load spacy model\n",
    "nlp = spacy.load('en_core_web_sm')\n",
    "nlp.disable_pipe(\"parser\")\n",
    "nlp.enable_pipe(\"senter\")\n",
    "# load data\n",
    "doc = nlp(tsla_item1)\n",
    "words = [token.text for token in doc if not token.is_stop and not token.is_punct]\n",
    "\n",
    "print(Counter(words).most_common(20))"
   ]
  },
  {
   "cell_type": "markdown",
   "metadata": {},
   "source": [
    "### TF-IDF"
   ]
  },
  {
   "cell_type": "code",
   "execution_count": 23,
   "metadata": {},
   "outputs": [
    {
     "name": "stderr",
     "output_type": "stream",
     "text": [
      "[nltk_data] Downloading package punkt to\n",
      "[nltk_data]     C:\\Users\\ongai\\AppData\\Roaming\\nltk_data...\n",
      "[nltk_data]   Package punkt is already up-to-date!\n",
      "[nltk_data] Downloading package stopwords to\n",
      "[nltk_data]     C:\\Users\\ongai\\AppData\\Roaming\\nltk_data...\n",
      "[nltk_data]   Unzipping corpora\\stopwords.zip.\n"
     ]
    }
   ],
   "source": [
    "# Load spaCy model\n",
    "nlp = spacy.load('en_core_web_sm')\n",
    "\n",
    "# Step 1: Load and preprocess the text\n",
    "text_data = [tsla_item1]\n",
    "\n",
    "# Tokenization using nltk\n",
    "nltk.download('punkt')\n",
    "nltk.download('stopwords')\n",
    "from nltk.corpus import stopwords\n",
    "from nltk.tokenize import word_tokenize\n",
    "\n",
    "stop_words = set(stopwords.words('english'))\n",
    "\n",
    "def preprocess(text):\n",
    "    # Tokenization and lowercasing\n",
    "    tokens = word_tokenize(text.lower())\n",
    "    # Remove stopwords and non-alphabetic characters\n",
    "    tokens = [word for word in tokens if word.isalpha() and word not in stop_words]\n",
    "    return ' '.join(tokens)\n",
    "\n",
    "# Preprocess the data\n",
    "processed_text = [preprocess(text) for text in text_data]\n"
   ]
  },
  {
   "cell_type": "code",
   "execution_count": null,
   "metadata": {},
   "outputs": [],
   "source": [
    "# TF-IDF Vectorization\n",
    "tfidf_vectorizer = TfidfVectorizer(max_features=10)  # Limit to top 10 features for brevity\n",
    "tfidf_matrix = tfidf_vectorizer.fit_transform(processed_text)\n",
    "tfidf_keywords = tfidf_vectorizer.get_feature_names_out()\n",
    "\n",
    "print(\"Top TF-IDF Keywords:\")\n",
    "print(tfidf_keywords)"
   ]
  },
  {
   "cell_type": "markdown",
   "metadata": {},
   "source": [
    "### LDA"
   ]
  },
  {
   "cell_type": "code",
   "execution_count": null,
   "metadata": {},
   "outputs": [],
   "source": [
    "# Prepare data for LDA\n",
    "tokenized_texts = [preprocess(text).split() for text in text_data]\n",
    "dictionary = corpora.Dictionary(tokenized_texts)\n",
    "corpus = [dictionary.doc2bow(text) for text in tokenized_texts]\n",
    "\n",
    "# Train LDA model\n",
    "lda_model = LdaModel(corpus, num_topics=2, id2word=dictionary, passes=15)\n",
    "\n",
    "# Display topics\n",
    "print(\"LDA Topics:\")\n",
    "for idx, topic in lda_model.print_topics(-1):\n",
    "    print(f\"Topic {idx}: {topic}\")\n"
   ]
  },
  {
   "cell_type": "markdown",
   "metadata": {},
   "source": [
    "### Pos tagging"
   ]
  },
  {
   "cell_type": "code",
   "execution_count": null,
   "metadata": {},
   "outputs": [],
   "source": [
    "# POS Tagging using spaCy\n",
    "doc = nlp(tsla_item1)\n",
    "\n",
    "# Extract POS tags\n",
    "pos_tags = [(token.text, token.pos_) for token in doc]\n",
    "\n",
    "print(\"Part-of-Speech Tags:\")\n",
    "print(pos_tags)\n"
   ]
  },
  {
   "cell_type": "markdown",
   "metadata": {},
   "source": [
    "## Named Entity Recognition"
   ]
  },
  {
   "cell_type": "markdown",
   "metadata": {},
   "source": [
    "### NLTK"
   ]
  },
  {
   "cell_type": "code",
   "execution_count": null,
   "metadata": {},
   "outputs": [],
   "source": [
    "## using nltk\n",
    "'''\n",
    "nltk.download('punkt')\n",
    "nltk.download('punkt_tab')\n",
    "nltk.download('averaged_perceptron_tagger_eng')\n",
    "nltk.download('maxent_ne_chunker_tab')\n",
    "nltk.download('words')\n",
    "''' \n",
    "# Step Two: Load Data\n",
    "print(len(tsla_item1))\n",
    "\n",
    "# Step Three: Tokenise, find parts of speech and chunk words \n",
    "nltk_name=[]\n",
    "nltk_label=[]\n",
    "for sent in nltk.sent_tokenize(tsla_item1):\n",
    "  for chunk in nltk.ne_chunk(nltk.pos_tag(nltk.word_tokenize(sent))):\n",
    "     if hasattr(chunk, 'label'):\n",
    "      entity_name = ' '.join(c[0] for c in chunk)\n",
    "      entity_label = chunk.label()\n",
    "      nltk_name.append(entity_name)\n",
    "      nltk_label.append(entity_label)\n",
    "      print(entity_label, entity_name)"
   ]
  },
  {
   "cell_type": "markdown",
   "metadata": {},
   "source": [
    "### Spacy"
   ]
  },
  {
   "cell_type": "code",
   "execution_count": 130,
   "metadata": {},
   "outputs": [],
   "source": [
    "## Using spacy\n",
    "\n",
    "# load spacy model\n",
    "nlp = spacy.load('en_core_web_sm')\n",
    "nlp.disable_pipe(\"parser\")\n",
    "nlp.enable_pipe(\"senter\")\n",
    "# load data\n",
    "doc = nlp(tsla_item1)\n",
    "Spacy_name=[]\n",
    "Spacy_label=[]\n",
    "# collect unique labels\n",
    "unique_labels = {}\n",
    "for ent in doc.ents:\n",
    "    if ent.label_ not in unique_labels.keys():\n",
    "        unique_labels[ent.label_] = []\n",
    "    unique_labels[ent.label_].append((ent.text, ent.start_char, ent.end_char))\n",
    "    Spacy_name.append(ent.text)\n",
    "    Spacy_label.append(ent.label_)\n"
   ]
  },
  {
   "cell_type": "markdown",
   "metadata": {},
   "source": [
    "- PERSON:      People, including fictional.\n",
    "- NORP:        Nationalities or religious or political groups.\n",
    "- FAC:         Buildings, airports, highways, bridges, etc.\n",
    "- ORG:         Companies, agencies, institutions, etc.\n",
    "- GPE:         Countries, cities, states.\n",
    "- LOC:         Non-GPE locations, mountain ranges, bodies of water.\n",
    "- PRODUCT:     Objects, vehicles, foods, etc. (Not services.)\n",
    "- EVENT:       Named hurricanes, battles, wars, sports events, etc.\n",
    "- WORK_OF_ART: Titles of books, songs, etc.\n",
    "- LAW:         Named documents made into laws.\n",
    "- LANGUAGE:    Any named language.\n",
    "- DATE:        Absolute or relative dates or periods.\n",
    "- TIME:        Times smaller than a day.\n",
    "- PERCENT:     Percentage, including ”%“.\n",
    "- MONEY:       Monetary values, including unit.\n",
    "- QUANTITY:    Measurements, as of weight or distance.\n",
    "- ORDINAL:     “first”, “second”, etc.\n",
    "- CARDINAL:    Numerals that do not fall under another type."
   ]
  },
  {
   "cell_type": "code",
   "execution_count": null,
   "metadata": {},
   "outputs": [],
   "source": [
    "unique_labels.keys()"
   ]
  },
  {
   "cell_type": "code",
   "execution_count": null,
   "metadata": {},
   "outputs": [],
   "source": [
    "unique_labels['ORG']"
   ]
  },
  {
   "cell_type": "code",
   "execution_count": null,
   "metadata": {},
   "outputs": [],
   "source": [
    "unique_labels['PRODUCT'] #products"
   ]
  },
  {
   "cell_type": "code",
   "execution_count": null,
   "metadata": {},
   "outputs": [],
   "source": [
    "unique_labels['LOC'] # locations"
   ]
  },
  {
   "cell_type": "code",
   "execution_count": null,
   "metadata": {},
   "outputs": [],
   "source": [
    "unique_labels['FAC'] # facilities / factories"
   ]
  },
  {
   "cell_type": "code",
   "execution_count": null,
   "metadata": {},
   "outputs": [],
   "source": [
    "unique_labels['EVENT'] # events"
   ]
  },
  {
   "cell_type": "code",
   "execution_count": 55,
   "metadata": {},
   "outputs": [],
   "source": [
    "from spacy import displacy\n",
    "#displacy.render(doc, style=\"ent\")"
   ]
  },
  {
   "cell_type": "markdown",
   "metadata": {},
   "source": [
    "### Hugging Face Transformers"
   ]
  },
  {
   "cell_type": "markdown",
   "metadata": {},
   "source": [
    "Because entities can be of different types and not all are equally important in the\n",
    "context of the natural language text being analyzed, it is quite common for NER\n",
    "processors to return the following in addition to a list of entities:\n",
    "\n",
    " **type**\n",
    "- Is it a person? Is it a location? Is it an organization? The set of categories will\n",
    "depend on the specific model used. \n",
    "- The bert-base-NER distinguishes four types\n",
    "of entities: location (LOC), organization (ORG), person (PER), and miscellaneous\n",
    "(MISC).\n",
    " \n",
    "**salience**\n",
    "- The relative importance in the text analyzed or, in other words, the entity’s\n",
    "relevance. \n",
    "- Is the entity central to the text (higher score/salience), or is it just\n",
    "mentioned tangentially (lower score/salience)?"
   ]
  },
  {
   "cell_type": "code",
   "execution_count": null,
   "metadata": {},
   "outputs": [],
   "source": [
    "## Using transformers\n",
    "tokenizer = AutoTokenizer.from_pretrained(\"dslim/bert-base-NER\")\n",
    "model = AutoModelForTokenClassification.from_pretrained(\"dslim/bert-base-NER\")\n",
    "ner_pipe = pipeline(\"ner\", model = model, tokenizer = tokenizer)\n",
    "for ent in ner_pipe(tsla_item1):\n",
    "    print(ent)"
   ]
  },
  {
   "cell_type": "markdown",
   "metadata": {},
   "source": [
    "## Diffbot API\n",
    "https://www.diffbot.com/\n"
   ]
  },
  {
   "cell_type": "code",
   "execution_count": 7,
   "metadata": {},
   "outputs": [],
   "source": [
    "from getpass import getpass\n",
    "\n",
    "TOKEN = getpass('Enter token: ')"
   ]
  },
  {
   "cell_type": "code",
   "execution_count": 8,
   "metadata": {},
   "outputs": [],
   "source": [
    "FIELDS = \"entities,facts\"\n",
    "HOST = \"nl.diffbot.com\""
   ]
  },
  {
   "cell_type": "code",
   "execution_count": 9,
   "metadata": {},
   "outputs": [],
   "source": [
    "import json\n",
    "\n",
    "def get_request(payload):\n",
    "  res = requests.post(\"https://{}/v1/?fields={}&token={}\".format(HOST, FIELDS, TOKEN), json=payload)\n",
    "  ret = None\n",
    "  try:\n",
    "    ret = res.json()\n",
    "  except:\n",
    "    print(\"Bad response: \" + res.text)\n",
    "    print(res.status_code)\n",
    "    print(res.headers)\n",
    "  return ret"
   ]
  },
  {
   "cell_type": "code",
   "execution_count": 28,
   "metadata": {},
   "outputs": [
    {
     "name": "stdout",
     "output_type": "stream",
     "text": [
      "{'entities': [{'name': 'Tesla Semi', 'diffbotUri': 'https://diffbot.com/entity/EF4g4ohJUPUeLKh-N-rvUyA', 'confidence': 0.9569246, 'salience': 0.8978014, 'isCustom': False, 'allUris': ['http://www.wikidata.org/entity/Q40008974'], 'allTypes': [{'name': 'skill', 'diffbotUri': 'https://diffbot.com/entity/EvfbHngnSNVOh7ZBM5XTywQ'}, {'name': 'product', 'diffbotUri': 'https://diffbot.com/entity/EgSPUye7QPcyQoPylO8biMQ'}, {'name': 'tool', 'diffbotUri': 'https://diffbot.com/entity/EKvoYuTx4P9WT35YUouc0ug'}, {'name': 'vehicle', 'diffbotUri': 'https://diffbot.com/entity/E4vBDPVu3OTq90vd1GhX5mw', 'dbpediaUri': 'http://dbpedia.org/ontology/MeanOfTransportation'}], 'mentions': [{'text': 'Tesla', 'beginOffset': 2922, 'endOffset': 2927, 'confidence': 0.9569246}, {'text': 'Tesla', 'beginOffset': 5361, 'endOffset': 5366, 'confidence': 0.9569246}]}, {'name': 'automotive battery', 'diffbotUri': 'https://diffbot.com/entity/EF6RvyvRnNsW6oAQQjtPb7g', 'confidence': 0.97791916, 'salience': 0.77393895, 'isCustom': False, 'allUris': ['http://www.wikidata.org/entity/Q902054'], 'allTypes': [{'name': 'skill', 'diffbotUri': 'https://diffbot.com/entity/EvfbHngnSNVOh7ZBM5XTywQ'}, {'name': 'product', 'diffbotUri': 'https://diffbot.com/entity/EgSPUye7QPcyQoPylO8biMQ'}, {'name': 'tool', 'diffbotUri': 'https://diffbot.com/entity/EKvoYuTx4P9WT35YUouc0ug'}], 'mentions': [{'text': 'Automotive', 'beginOffset': 4657, 'endOffset': 4667, 'confidence': 0.97791916}]}, {'name': 'Tesla Model X', 'diffbotUri': 'https://diffbot.com/entity/ETr-Ee8SIMyW2qgYQ352vQA', 'confidence': 0.9138682, 'salience': 0.6964315, 'isCustom': False, 'allUris': ['http://www.wikidata.org/entity/Q1634161'], 'allTypes': [{'name': 'skill', 'diffbotUri': 'https://diffbot.com/entity/EvfbHngnSNVOh7ZBM5XTywQ'}, {'name': 'product', 'diffbotUri': 'https://diffbot.com/entity/EgSPUye7QPcyQoPylO8biMQ'}, {'name': 'tool', 'diffbotUri': 'https://diffbot.com/entity/EKvoYuTx4P9WT35YUouc0ug'}, {'name': 'vehicle', 'diffbotUri': 'https://diffbot.com/entity/E4vBDPVu3OTq90vd1GhX5mw', 'dbpediaUri': 'http://dbpedia.org/ontology/MeanOfTransportation'}], 'mentions': [{'text': 'Model', 'beginOffset': 2374, 'endOffset': 2379, 'confidence': 0.9138682}, {'text': 'Model', 'beginOffset': 2449, 'endOffset': 2454, 'confidence': 0.9138682}, {'text': 'Model', 'beginOffset': 5321, 'endOffset': 5326, 'confidence': 0.9104794}, {'text': 'Model', 'beginOffset': 5333, 'endOffset': 5338, 'confidence': 0.9138682}]}, {'name': 'solar energy', 'diffbotUri': 'https://diffbot.com/entity/EPOEH5adkND6DrYMaSXAARQ', 'confidence': 0.97090673, 'salience': 0.6094218, 'isCustom': False, 'allUris': ['http://www.wikidata.org/entity/Q40015'], 'allTypes': [], 'mentions': [{'text': 'solar', 'beginOffset': 1823, 'endOffset': 1828, 'confidence': 0.97090673}]}, {'name': 'Tesla Autopilot', 'diffbotUri': 'https://diffbot.com/entity/EduXdFbV7Mtm7CyoRE7BNsg', 'confidence': 0.6537608, 'salience': 0.5553389, 'isCustom': False, 'allUris': ['http://www.wikidata.org/entity/Q27150149'], 'allTypes': [{'name': 'skill', 'diffbotUri': 'https://diffbot.com/entity/EvfbHngnSNVOh7ZBM5XTywQ'}, {'name': 'field of work', 'diffbotUri': 'https://diffbot.com/entity/EjGOLMsQZOGSg549SwYfFyQ'}, {'name': 'technology', 'diffbotUri': 'https://diffbot.com/entity/E-5jnlQEGOt2x8rdkkht1NQ'}], 'mentions': [{'text': 'full self-', 'beginOffset': 673, 'endOffset': 683, 'confidence': 0.6537608}, {'text': 'Full Self-', 'beginOffset': 3066, 'endOffset': 3076, 'confidence': 0.6537608}]}, {'name': 'artificial intelligence', 'diffbotUri': 'https://diffbot.com/entity/E_lYDrjmAMlKKwXaDf958zg', 'confidence': 0.94689095, 'salience': 0.5336387, 'isCustom': False, 'allUris': ['http://www.wikidata.org/entity/Q11660'], 'allTypes': [{'name': 'skill', 'diffbotUri': 'https://diffbot.com/entity/EvfbHngnSNVOh7ZBM5XTywQ'}, {'name': 'field of work', 'diffbotUri': 'https://diffbot.com/entity/EjGOLMsQZOGSg549SwYfFyQ'}, {'name': 'technology', 'diffbotUri': 'https://diffbot.com/entity/E-5jnlQEGOt2x8rdkkht1NQ'}], 'mentions': [{'text': 'Artificial', 'beginOffset': 6279, 'endOffset': 6289, 'confidence': 0.94689095}, {'text': 'artificial', 'beginOffset': 7471, 'endOffset': 7481, 'confidence': 0.94689095}]}, {'name': 'electric vehicle', 'diffbotUri': 'https://diffbot.com/entity/ETXHJmI3IMIiusgeTz1UagA', 'confidence': 0.82681704, 'salience': 0.5048789, 'isCustom': False, 'allUris': ['http://www.wikidata.org/entity/Q13629441'], 'allTypes': [{'name': 'skill', 'diffbotUri': 'https://diffbot.com/entity/EvfbHngnSNVOh7ZBM5XTywQ'}, {'name': 'product', 'diffbotUri': 'https://diffbot.com/entity/EgSPUye7QPcyQoPylO8biMQ'}, {'name': 'tool', 'diffbotUri': 'https://diffbot.com/entity/EKvoYuTx4P9WT35YUouc0ug'}, {'name': 'vehicle', 'diffbotUri': 'https://diffbot.com/entity/E4vBDPVu3OTq90vd1GhX5mw', 'dbpediaUri': 'http://dbpedia.org/ontology/MeanOfTransportation'}], 'mentions': [{'text': 'electric', 'beginOffset': 98, 'endOffset': 106, 'confidence': 0.82681704}]}, {'name': 'mobile service', 'diffbotUri': 'https://diffbot.com/entity/EBkGal9k7M-Srz8LE9_3P1A', 'confidence': 0.6482868, 'salience': 0.48290995, 'isCustom': False, 'allUris': ['http://www.wikidata.org/entity/Q1247189'], 'allTypes': [], 'mentions': [{'text': 'Mobile', 'beginOffset': 380, 'endOffset': 386, 'confidence': 0.6482868}]}, {'name': 'building-integrated photovoltaics', 'diffbotUri': 'https://diffbot.com/entity/E1CrHOP0dOtW7EpL4brXQEg', 'confidence': 0.6458624, 'salience': 0.40293533, 'isCustom': False, 'allUris': ['http://www.wikidata.org/entity/Q1497383'], 'allTypes': [{'name': 'skill', 'diffbotUri': 'https://diffbot.com/entity/EvfbHngnSNVOh7ZBM5XTywQ'}, {'name': 'product', 'diffbotUri': 'https://diffbot.com/entity/EgSPUye7QPcyQoPylO8biMQ'}, {'name': 'field of work', 'diffbotUri': 'https://diffbot.com/entity/EjGOLMsQZOGSg549SwYfFyQ'}, {'name': 'industry', 'diffbotUri': 'https://diffbot.com/entity/EQbug06rNN8i5GW_tCDs0aA'}], 'mentions': [{'text': 'Solar', 'beginOffset': 4355, 'endOffset': 4360, 'confidence': 0.6458624}, {'text': 'Solar', 'beginOffset': 8275, 'endOffset': 8280, 'confidence': 0.6458624}]}, {'name': 'global network', 'diffbotUri': 'https://diffbot.com/entity/EXKNk1H6HOYCOGs6OX6ZuWA', 'confidence': 0.63062304, 'salience': 0.21825783, 'isCustom': False, 'allUris': ['http://www.wikidata.org/entity/Q5570871'], 'allTypes': [], 'mentions': [{'text': 'global', 'beginOffset': 323, 'endOffset': 329, 'confidence': 0.63062304}]}, {'name': '2022-12-31', 'confidence': 0.99842936, 'salience': 0.0, 'isCustom': False, 'allUris': [], 'allTypes': [{'name': 'date', 'diffbotUri': 'https://diffbot.com/entity/EGTSOJhZ0NnqIjbjgQ8pyLg'}], 'mentions': [{'text': 'December 31, 2022', 'beginOffset': 21063, 'endOffset': 21080, 'confidence': 0.99842936}]}, {'name': 'Austin', 'confidence': 0.99986804, 'salience': 0.0, 'isCustom': False, 'allUris': [], 'allTypes': [{'name': 'location', 'diffbotUri': 'https://diffbot.com/entity/EiCyWUm4lNziqgLHx47iAIQ', 'dbpediaUri': 'http://dbpedia.org/ontology/Place'}], 'mentions': [{'text': 'Austin', 'beginOffset': 17948, 'endOffset': 17954, 'confidence': 0.99986804}]}, {'name': 'J3400', 'confidence': 0.96967614, 'salience': 0.0, 'isCustom': False, 'allUris': [], 'allTypes': [{'name': 'organization', 'diffbotUri': 'https://diffbot.com/entity/EN1ClYEdMMQCxB6AWTkT3mA', 'dbpediaUri': 'http://dbpedia.org/ontology/Organisation'}], 'mentions': [{'text': 'J3400', 'beginOffset': 13269, 'endOffset': 13274, 'confidence': 0.96967614}]}, {'name': 'Solar Energy System Incentives', 'confidence': 0.86897606, 'salience': 0.0, 'isCustom': False, 'allUris': [], 'allTypes': [{'name': 'organization', 'diffbotUri': 'https://diffbot.com/entity/EN1ClYEdMMQCxB6AWTkT3mA', 'dbpediaUri': 'http://dbpedia.org/ontology/Organisation'}], 'mentions': [{'text': 'Solar Energy System Incentives', 'beginOffset': 23703, 'endOffset': 23733, 'confidence': 0.86897606}]}, {'name': 'National Highway Traffic Safety Administration', 'confidence': 0.9998702, 'salience': 0.0, 'isCustom': False, 'allUris': [], 'allTypes': [{'name': 'organization', 'diffbotUri': 'https://diffbot.com/entity/EN1ClYEdMMQCxB6AWTkT3mA', 'dbpediaUri': 'http://dbpedia.org/ontology/Organisation'}], 'mentions': [{'text': 'National Highway Traffic Safety Administration', 'beginOffset': 24616, 'endOffset': 24662, 'confidence': 0.9997192}, {'text': 'NHTSA', 'beginOffset': 24671, 'endOffset': 24676, 'confidence': 0.99432486}, {'text': 'NHTSA', 'beginOffset': 24780, 'endOffset': 24785, 'confidence': 0.9987446}, {'text': 'NHTSA', 'beginOffset': 25207, 'endOffset': 25212, 'confidence': 0.9981487}, {'text': 'NHTSA', 'beginOffset': 25382, 'endOffset': 25387, 'confidence': 0.99850094}, {'text': 'NHTSA', 'beginOffset': 26386, 'endOffset': 26391, 'confidence': 0.9998702}, {'text': 'NHTSA', 'beginOffset': 27048, 'endOffset': 27053, 'confidence': 0.9995597}]}, {'name': 'SAE International', 'confidence': 0.9997843, 'salience': 0.0, 'isCustom': False, 'allUris': [], 'allTypes': [{'name': 'organization', 'diffbotUri': 'https://diffbot.com/entity/EN1ClYEdMMQCxB6AWTkT3mA', 'dbpediaUri': 'http://dbpedia.org/ontology/Organisation'}], 'mentions': [{'text': 'SAE International', 'beginOffset': 13201, 'endOffset': 13218, 'confidence': 0.9997843}]}, {'name': '2022', 'confidence': 0.9965953, 'salience': 0.0, 'isCustom': False, 'allUris': [], 'allTypes': [{'name': 'date', 'diffbotUri': 'https://diffbot.com/entity/EGTSOJhZ0NnqIjbjgQ8pyLg'}], 'mentions': [{'text': '2022', 'beginOffset': 2832, 'endOffset': 2836, 'confidence': 0.9965953}]}, {'name': 'Austin Community College', 'confidence': 0.9999069, 'salience': 0.0, 'isCustom': False, 'allUris': [], 'allTypes': [{'name': 'organization', 'diffbotUri': 'https://diffbot.com/entity/EN1ClYEdMMQCxB6AWTkT3mA', 'dbpediaUri': 'http://dbpedia.org/ontology/Organisation'}], 'mentions': [{'text': 'Austin Community College', 'beginOffset': 42604, 'endOffset': 42628, 'confidence': 0.9999069}]}, {'name': 'Germany', 'confidence': 0.9998275, 'salience': 0.0, 'isCustom': False, 'allUris': [], 'allTypes': [{'name': 'location', 'diffbotUri': 'https://diffbot.com/entity/EiCyWUm4lNziqgLHx47iAIQ', 'dbpediaUri': 'http://dbpedia.org/ontology/Place'}], 'mentions': [{'text': 'Germany', 'beginOffset': 18339, 'endOffset': 18346, 'confidence': 0.99943465}, {'text': 'Germany', 'beginOffset': 40169, 'endOffset': 40176, 'confidence': 0.9998275}, {'text': 'Germany', 'beginOffset': 40530, 'endOffset': 40537, 'confidence': 0.9990885}, {'text': 'Germany', 'beginOffset': 41912, 'endOffset': 41919, 'confidence': 0.9992693}]}, {'name': 'Hong Kong', 'confidence': 0.999871, 'salience': 0.0, 'isCustom': False, 'allUris': [], 'allTypes': [{'name': 'location', 'diffbotUri': 'https://diffbot.com/entity/EiCyWUm4lNziqgLHx47iAIQ', 'dbpediaUri': 'http://dbpedia.org/ontology/Place'}], 'mentions': [{'text': 'Hong Kong', 'beginOffset': 41891, 'endOffset': 41900, 'confidence': 0.999871}]}, {'name': '7,500 USD', 'confidence': 0.9995334, 'salience': 0.0, 'isCustom': False, 'allUris': [], 'allTypes': [{'name': 'money', 'diffbotUri': 'https://diffbot.com/entity/ELRzIOsrYN-uw703z4KTm-A'}], 'mentions': [{'text': 'up to $7,500', 'beginOffset': 21370, 'endOffset': 21382, 'confidence': 0.9995334}]}, {'name': 'IRC', 'confidence': 0.9644548, 'salience': 0.0, 'isCustom': False, 'allUris': [], 'allTypes': [{'name': 'organization', 'diffbotUri': 'https://diffbot.com/entity/EN1ClYEdMMQCxB6AWTkT3mA', 'dbpediaUri': 'http://dbpedia.org/ontology/Organisation'}], 'mentions': [{'text': 'IRC', 'beginOffset': 24090, 'endOffset': 24093, 'confidence': 0.9644548}]}, {'name': 'power electronics', 'confidence': 0.51, 'salience': 0.0, 'isCustom': False, 'allUris': [], 'allTypes': [{'name': 'skill', 'diffbotUri': 'https://diffbot.com/entity/EvfbHngnSNVOh7ZBM5XTywQ'}, {'name': 'field of work', 'diffbotUri': 'https://diffbot.com/entity/EjGOLMsQZOGSg549SwYfFyQ'}], 'mentions': [{'text': 'power electronics', 'beginOffset': 7985, 'endOffset': 8002, 'confidence': 0.51}]}, {'name': 'Korea', 'confidence': 0.9997619, 'salience': 0.0, 'isCustom': False, 'allUris': [], 'allTypes': [{'name': 'location', 'diffbotUri': 'https://diffbot.com/entity/EiCyWUm4lNziqgLHx47iAIQ', 'dbpediaUri': 'http://dbpedia.org/ontology/Place'}], 'mentions': [{'text': 'Korea', 'beginOffset': 41902, 'endOffset': 41907, 'confidence': 0.9997619}]}, {'name': 'Australia', 'confidence': 0.9998964, 'salience': 0.0, 'isCustom': False, 'allUris': [], 'allTypes': [{'name': 'location', 'diffbotUri': 'https://diffbot.com/entity/EiCyWUm4lNziqgLHx47iAIQ', 'dbpediaUri': 'http://dbpedia.org/ontology/Place'}], 'mentions': [{'text': 'Australia', 'beginOffset': 41880, 'endOffset': 41889, 'confidence': 0.9998964}]}, {'name': '0', 'confidence': 0.8110069, 'salience': 0.0, 'isCustom': False, 'allUris': [], 'allTypes': [{'name': 'number', 'diffbotUri': 'https://diffbot.com/entity/E7TnJgFyiMYqQUg3cvm8I3g'}], 'mentions': [{'text': 'zero', 'beginOffset': 37107, 'endOffset': 37111, 'confidence': 0.61283517}, {'text': 'zero', 'beginOffset': 39342, 'endOffset': 39346, 'confidence': 0.8110069}]}, {'name': '5', 'confidence': 0.9973309, 'salience': 0.0, 'isCustom': False, 'allUris': [], 'allTypes': [{'name': 'number', 'diffbotUri': 'https://diffbot.com/entity/E7TnJgFyiMYqQUg3cvm8I3g'}], 'mentions': [{'text': 'more than five years', 'beginOffset': 38834, 'endOffset': 38854, 'confidence': 0.9973309}]}, {'name': 'Reno', 'confidence': 0.9998202, 'salience': 0.0, 'isCustom': False, 'allUris': [], 'allTypes': [{'name': 'location', 'diffbotUri': 'https://diffbot.com/entity/EiCyWUm4lNziqgLHx47iAIQ', 'dbpediaUri': 'http://dbpedia.org/ontology/Place'}], 'mentions': [{'text': 'Reno', 'beginOffset': 17990, 'endOffset': 17994, 'confidence': 0.9998202}]}, {'name': '100', 'confidence': 0.99825484, 'salience': 0.0, 'isCustom': False, 'allUris': [], 'allTypes': [{'name': 'number', 'diffbotUri': 'https://diffbot.com/entity/E7TnJgFyiMYqQUg3cvm8I3g'}], 'mentions': [{'text': 'hundreds', 'beginOffset': 18943, 'endOffset': 18951, 'confidence': 0.99825484}]}, {'name': 'Apprentice', 'confidence': 0.63754445, 'salience': 0.0, 'isCustom': False, 'allUris': [], 'allTypes': [{'name': 'organization', 'diffbotUri': 'https://diffbot.com/entity/EN1ClYEdMMQCxB6AWTkT3mA', 'dbpediaUri': 'http://dbpedia.org/ontology/Organisation'}], 'mentions': [{'text': 'Apprentice', 'beginOffset': 41813, 'endOffset': 41823, 'confidence': 0.63754445}]}, {'name': '1,000', 'confidence': 0.96517485, 'salience': 0.0, 'isCustom': False, 'allUris': [], 'allTypes': [{'name': 'number', 'diffbotUri': 'https://diffbot.com/entity/E7TnJgFyiMYqQUg3cvm8I3g'}], 'mentions': [{'text': 'thousands', 'beginOffset': 18902, 'endOffset': 18911, 'confidence': 0.96517485}]}, {'name': 'Tesla', 'confidence': 0.9999672, 'salience': 0.0, 'isCustom': False, 'allUris': [], 'allTypes': [{'name': 'organization', 'diffbotUri': 'https://diffbot.com/entity/EN1ClYEdMMQCxB6AWTkT3mA', 'dbpediaUri': 'http://dbpedia.org/ontology/Organisation'}], 'mentions': [{'text': 'Tesla', 'beginOffset': 2922, 'endOffset': 2927, 'confidence': 0.5555124}, {'text': 'Tesla', 'beginOffset': 7312, 'endOffset': 7317, 'confidence': 0.98101866}, {'text': 'Tesla', 'beginOffset': 11052, 'endOffset': 11057, 'confidence': 0.9998292}, {'text': 'Tesla', 'beginOffset': 11508, 'endOffset': 11513, 'confidence': 0.9997143}, {'text': 'Tesla', 'beginOffset': 11521, 'endOffset': 11526, 'confidence': 0.9992262}, {'text': 'Tesla', 'beginOffset': 11566, 'endOffset': 11571, 'confidence': 0.9999094}, {'text': 'Tesla', 'beginOffset': 11585, 'endOffset': 11590, 'confidence': 0.9996642}, {'text': 'Tesla', 'beginOffset': 11599, 'endOffset': 11604, 'confidence': 0.9994154}, {'text': 'Tesla', 'beginOffset': 11737, 'endOffset': 11742, 'confidence': 0.99994564}, {'text': 'Tesla', 'beginOffset': 11857, 'endOffset': 11862, 'confidence': 0.9998271}, {'text': 'Tesla', 'beginOffset': 12465, 'endOffset': 12470, 'confidence': 0.9672181}, {'text': 'Tesla', 'beginOffset': 13327, 'endOffset': 13332, 'confidence': 0.79745543}, {'text': 'Tesla', 'beginOffset': 13836, 'endOffset': 13841, 'confidence': 0.9981377}, {'text': 'Tesla', 'beginOffset': 14693, 'endOffset': 14698, 'confidence': 0.654063}, {'text': 'Tesla', 'beginOffset': 15215, 'endOffset': 15220, 'confidence': 0.9947153}, {'text': 'Tesla', 'beginOffset': 21342, 'endOffset': 21347, 'confidence': 0.99940586}, {'text': 'Tesla', 'beginOffset': 36092, 'endOffset': 36097, 'confidence': 0.99075526}, {'text': 'Tesla', 'beginOffset': 38275, 'endOffset': 38280, 'confidence': 0.99989045}, {'text': 'its', 'beginOffset': 38284, 'endOffset': 38287, 'isPronoun': True, 'confidence': 0.9997377}, {'text': 'Tesla', 'beginOffset': 38364, 'endOffset': 38369, 'confidence': 0.99984264}, {'text': 'its', 'beginOffset': 38402, 'endOffset': 38405, 'isPronoun': True, 'confidence': 0.9997428}, {'text': 'We', 'beginOffset': 38590, 'endOffset': 38592, 'isPronoun': True, 'confidence': 0.9999057}, {'text': 'Tesla', 'beginOffset': 38824, 'endOffset': 38829, 'confidence': 0.99991894}, {'text': 'Tesla', 'beginOffset': 38856, 'endOffset': 38861, 'confidence': 0.9999274}, {'text': 'We', 'beginOffset': 39047, 'endOffset': 39049, 'isPronoun': True, 'confidence': 0.99994123}, {'text': 'our', 'beginOffset': 39069, 'endOffset': 39072, 'isPronoun': True, 'confidence': 0.9999409}, {'text': 'Tesla', 'beginOffset': 39143, 'endOffset': 39148, 'confidence': 0.9994604}, {'text': 'We', 'beginOffset': 39617, 'endOffset': 39619, 'isPronoun': True, 'confidence': 0.9997377}, {'text': 'Tesla', 'beginOffset': 39644, 'endOffset': 39649, 'confidence': 0.9999672}, {'text': 'Tesla', 'beginOffset': 39815, 'endOffset': 39820, 'confidence': 0.99492836}, {'text': 'Tesla', 'beginOffset': 39903, 'endOffset': 39908, 'confidence': 0.9998381}, {'text': 'we', 'beginOffset': 40112, 'endOffset': 40114, 'isPronoun': True, 'confidence': 0.9997309}, {'text': 'Tesla', 'beginOffset': 40238, 'endOffset': 40243, 'confidence': 0.99489754}, {'text': 'Tesla', 'beginOffset': 40413, 'endOffset': 40418, 'confidence': 0.9999491}, {'text': 'We', 'beginOffset': 40420, 'endOffset': 40422, 'isPronoun': True, 'confidence': 0.9992969}, {'text': 'Tesla', 'beginOffset': 40486, 'endOffset': 40491, 'confidence': 0.9977894}, {'text': 'we', 'beginOffset': 40548, 'endOffset': 40550, 'isPronoun': True, 'confidence': 0.998635}, {'text': 'Tesla', 'beginOffset': 40738, 'endOffset': 40743, 'confidence': 0.9999343}, {'text': 'We', 'beginOffset': 40816, 'endOffset': 40818, 'isPronoun': True, 'confidence': 0.99975616}, {'text': 'our', 'beginOffset': 40912, 'endOffset': 40915, 'isPronoun': True, 'confidence': 0.9998895}, {'text': 'we', 'beginOffset': 40981, 'endOffset': 40983, 'isPronoun': True, 'confidence': 0.9999249}, {'text': 'Tesla', 'beginOffset': 41608, 'endOffset': 41613, 'confidence': 0.9851657}, {'text': 'Tesla', 'beginOffset': 41977, 'endOffset': 41982, 'confidence': 0.99872285}, {'text': 'Tesla', 'beginOffset': 42181, 'endOffset': 42186, 'confidence': 0.9999486}, {'text': 'We', 'beginOffset': 42188, 'endOffset': 42190, 'isPronoun': True, 'confidence': 0.99989116}, {'text': 'our', 'beginOffset': 42245, 'endOffset': 42248, 'isPronoun': True, 'confidence': 0.999892}, {'text': 'We', 'beginOffset': 42777, 'endOffset': 42779, 'isPronoun': True, 'confidence': 0.9998778}, {'text': 'our', 'beginOffset': 42826, 'endOffset': 42829, 'isPronoun': True, 'confidence': 0.9998965}, {'text': 'Tesla', 'beginOffset': 43187, 'endOffset': 43192, 'confidence': 0.9998673}, {'text': 'our', 'beginOffset': 43310, 'endOffset': 43313, 'isPronoun': True, 'confidence': 0.9999263}, {'text': 'We', 'beginOffset': 43512, 'endOffset': 43514, 'isPronoun': True, 'confidence': 0.9999213}, {'text': 'we', 'beginOffset': 43723, 'endOffset': 43725, 'isPronoun': True, 'confidence': 0.9999151}]}, {'name': '5', 'confidence': 0.99802893, 'salience': 0.0, 'isCustom': False, 'allUris': [], 'allTypes': [{'name': 'number', 'diffbotUri': 'https://diffbot.com/entity/E7TnJgFyiMYqQUg3cvm8I3g'}], 'mentions': [{'text': 'five', 'beginOffset': 2004, 'endOffset': 2008, 'confidence': 0.99739933}, {'text': 'five', 'beginOffset': 41380, 'endOffset': 41384, 'confidence': 0.99802893}]}, {'name': '2022-08-16', 'confidence': 0.997771, 'salience': 0.0, 'isCustom': False, 'allUris': [], 'allTypes': [{'name': 'date', 'diffbotUri': 'https://diffbot.com/entity/EGTSOJhZ0NnqIjbjgQ8pyLg'}], 'mentions': [{'text': 'August 16, 2022', 'beginOffset': 20918, 'endOffset': 20933, 'confidence': 0.997771}]}, {'name': 'Hire our Heroes', 'confidence': 0.9871774, 'salience': 0.0, 'isCustom': False, 'allUris': [], 'allTypes': [{'name': 'organization', 'diffbotUri': 'https://diffbot.com/entity/EN1ClYEdMMQCxB6AWTkT3mA', 'dbpediaUri': 'http://dbpedia.org/ontology/Organisation'}], 'mentions': [{'text': 'Hire our Heroes', 'beginOffset': 41444, 'endOffset': 41459, 'confidence': 0.9871774}]}, {'name': '2', 'confidence': 0.9963225, 'salience': 0.0, 'isCustom': False, 'allUris': [], 'allTypes': [{'name': 'number', 'diffbotUri': 'https://diffbot.com/entity/E7TnJgFyiMYqQUg3cvm8I3g'}], 'mentions': [{'text': 'nearly two-thirds', 'beginOffset': 38679, 'endOffset': 38696, 'confidence': 0.9963225}]}, {'name': 'Shanghai', 'confidence': 0.9367738, 'salience': 0.0, 'isCustom': False, 'allUris': [], 'allTypes': [{'name': 'location', 'diffbotUri': 'https://diffbot.com/entity/EiCyWUm4lNziqgLHx47iAIQ', 'dbpediaUri': 'http://dbpedia.org/ontology/Place'}], 'mentions': [{'text': 'Shanghai', 'beginOffset': 18325, 'endOffset': 18333, 'confidence': 0.9367738}]}, {'name': 'U.S. Chamber of Commerce', 'confidence': 0.9991264, 'salience': 0.0, 'isCustom': False, 'allUris': [], 'allTypes': [{'name': 'organization', 'diffbotUri': 'https://diffbot.com/entity/EN1ClYEdMMQCxB6AWTkT3mA', 'dbpediaUri': 'http://dbpedia.org/ontology/Organisation'}], 'mentions': [{'text': 'U.S. Chamber of Commerce', 'beginOffset': 41411, 'endOffset': 41435, 'confidence': 0.9991264}]}, {'name': 'Energy Generation and Storage', 'confidence': 0.881623, 'salience': 0.0, 'isCustom': False, 'allUris': [], 'allTypes': [{'name': 'organization', 'diffbotUri': 'https://diffbot.com/entity/EN1ClYEdMMQCxB6AWTkT3mA', 'dbpediaUri': 'http://dbpedia.org/ontology/Organisation'}], 'mentions': [{'text': 'Energy Generation and Storage', 'beginOffset': 17434, 'endOffset': 17463, 'confidence': 0.881623}]}, {'name': 'European Defence Ministries', 'confidence': 0.9994698, 'salience': 0.0, 'isCustom': False, 'allUris': [], 'allTypes': [{'name': 'organization', 'diffbotUri': 'https://diffbot.com/entity/EN1ClYEdMMQCxB6AWTkT3mA', 'dbpediaUri': 'http://dbpedia.org/ontology/Organisation'}], 'mentions': [{'text': 'European Defence Ministries', 'beginOffset': 41345, 'endOffset': 41372, 'confidence': 0.9994698}]}, {'name': 'California Self Generation Incentive Program', 'confidence': 0.70589775, 'salience': 0.0, 'isCustom': False, 'allUris': [], 'allTypes': [{'name': 'organization', 'diffbotUri': 'https://diffbot.com/entity/EN1ClYEdMMQCxB6AWTkT3mA', 'dbpediaUri': 'http://dbpedia.org/ontology/Organisation'}], 'mentions': [{'text': 'California Self Generation Incentive Program', 'beginOffset': 22796, 'endOffset': 22840, 'confidence': 0.70589775}]}, {'name': 'California', 'confidence': 0.99953115, 'salience': 0.0, 'isCustom': False, 'allUris': [], 'allTypes': [{'name': 'location', 'diffbotUri': 'https://diffbot.com/entity/EiCyWUm4lNziqgLHx47iAIQ', 'dbpediaUri': 'http://dbpedia.org/ontology/Place'}], 'mentions': [{'text': 'California', 'beginOffset': 17889, 'endOffset': 17899, 'confidence': 0.8877974}, {'text': 'California', 'beginOffset': 22629, 'endOffset': 22639, 'confidence': 0.99953115}]}, {'name': '1', 'confidence': 0.9953819, 'salience': 0.0, 'isCustom': False, 'allUris': [], 'allTypes': [{'name': 'number', 'diffbotUri': 'https://diffbot.com/entity/E7TnJgFyiMYqQUg3cvm8I3g'}], 'mentions': [{'text': '1', 'beginOffset': 6, 'endOffset': 7, 'confidence': 0.9953819}]}, {'name': 'Solar Energy', 'confidence': 0.685279, 'salience': 0.0, 'isCustom': False, 'allUris': [], 'allTypes': [{'name': 'organization', 'diffbotUri': 'https://diffbot.com/entity/EN1ClYEdMMQCxB6AWTkT3mA', 'dbpediaUri': 'http://dbpedia.org/ontology/Organisation'}], 'mentions': [{'text': 'Solar Energy', 'beginOffset': 30876, 'endOffset': 30888, 'confidence': 0.685279}]}, {'name': 'Buffalo', 'confidence': 0.99979895, 'salience': 0.0, 'isCustom': False, 'allUris': [], 'allTypes': [{'name': 'location', 'diffbotUri': 'https://diffbot.com/entity/EiCyWUm4lNziqgLHx47iAIQ', 'dbpediaUri': 'http://dbpedia.org/ontology/Place'}], 'mentions': [{'text': 'Buffalo', 'beginOffset': 17904, 'endOffset': 17911, 'confidence': 0.99979895}]}, {'name': '2032', 'confidence': 0.9964169, 'salience': 0.0, 'isCustom': False, 'allUris': [], 'allTypes': [{'name': 'date', 'diffbotUri': 'https://diffbot.com/entity/EGTSOJhZ0NnqIjbjgQ8pyLg'}], 'mentions': [{'text': '2032', 'beginOffset': 21474, 'endOffset': 21478, 'confidence': 0.88539535}, {'text': '2032', 'beginOffset': 23688, 'endOffset': 23692, 'confidence': 0.9964169}, {'text': '2032', 'beginOffset': 24503, 'endOffset': 24507, 'confidence': 0.9955059}]}, {'name': '2024', 'confidence': 0.9934169, 'salience': 0.0, 'isCustom': False, 'allUris': [], 'allTypes': [{'name': 'date', 'diffbotUri': 'https://diffbot.com/entity/EGTSOJhZ0NnqIjbjgQ8pyLg'}], 'mentions': [{'text': '2024', 'beginOffset': 13112, 'endOffset': 13116, 'confidence': 0.9617239}, {'text': '2024', 'beginOffset': 42257, 'endOffset': 42261, 'confidence': 0.9934169}, {'text': '2024', 'beginOffset': 42971, 'endOffset': 42975, 'confidence': 0.87394243}]}, {'name': 'ESG Sustainability Council', 'confidence': 0.9994111, 'salience': 0.0, 'isCustom': False, 'allUris': [], 'allTypes': [{'name': 'organization', 'diffbotUri': 'https://diffbot.com/entity/EN1ClYEdMMQCxB6AWTkT3mA', 'dbpediaUri': 'http://dbpedia.org/ontology/Organisation'}], 'mentions': [{'text': 'ESG Sustainability Council', 'beginOffset': 38044, 'endOffset': 38070, 'confidence': 0.9994111}]}, {'name': 'China', 'confidence': 0.99993134, 'salience': 0.0, 'isCustom': False, 'allUris': [], 'allTypes': [{'name': 'location', 'diffbotUri': 'https://diffbot.com/entity/EiCyWUm4lNziqgLHx47iAIQ', 'dbpediaUri': 'http://dbpedia.org/ontology/Place'}], 'mentions': [{'text': 'China', 'beginOffset': 18306, 'endOffset': 18311, 'confidence': 0.99993134}, {'text': 'China', 'beginOffset': 28069, 'endOffset': 28074, 'confidence': 0.99928576}, {'text': 'China', 'beginOffset': 32857, 'endOffset': 32862, 'confidence': 0.9995995}, {'text': 'China', 'beginOffset': 40181, 'endOffset': 40186, 'confidence': 0.9997098}]}, {'name': 'U.S.', 'confidence': 0.99989855, 'salience': 0.0, 'isCustom': False, 'allUris': [], 'allTypes': [{'name': 'location', 'diffbotUri': 'https://diffbot.com/entity/EiCyWUm4lNziqgLHx47iAIQ', 'dbpediaUri': 'http://dbpedia.org/ontology/Place'}], 'mentions': [{'text': 'U.S.', 'beginOffset': 17872, 'endOffset': 17876, 'confidence': 0.99976546}, {'text': 'U.S.', 'beginOffset': 21461, 'endOffset': 21465, 'confidence': 0.99873775}, {'text': 'U.S.', 'beginOffset': 22416, 'endOffset': 22420, 'confidence': 0.9977804}, {'text': 'U.S.', 'beginOffset': 23747, 'endOffset': 23751, 'confidence': 0.8428004}, {'text': 'U.S.', 'beginOffset': 24564, 'endOffset': 24568, 'confidence': 0.9997466}, {'text': 'U.S', 'beginOffset': 25306, 'endOffset': 25309, 'confidence': 0.9957372}, {'text': 'U.S.', 'beginOffset': 26440, 'endOffset': 26444, 'confidence': 0.9994935}, {'text': 'U.S.', 'beginOffset': 26602, 'endOffset': 26606, 'confidence': 0.9997538}, {'text': 'U.S.', 'beginOffset': 26955, 'endOffset': 26959, 'confidence': 0.99642974}, {'text': 'U.S.', 'beginOffset': 27339, 'endOffset': 27343, 'confidence': 0.9996493}, {'text': 'U.S', 'beginOffset': 27596, 'endOffset': 27599, 'confidence': 0.999701}, {'text': 'U.S.', 'beginOffset': 28181, 'endOffset': 28185, 'confidence': 0.99905306}, {'text': 'U.S.', 'beginOffset': 28368, 'endOffset': 28372, 'confidence': 0.99917656}, {'text': 'U.S.', 'beginOffset': 29760, 'endOffset': 29764, 'confidence': 0.9972036}, {'text': 'U.S.', 'beginOffset': 30927, 'endOffset': 30931, 'confidence': 0.996618}, {'text': 'U.S.', 'beginOffset': 32851, 'endOffset': 32855, 'confidence': 0.99980396}, {'text': 'U.S.', 'beginOffset': 40163, 'endOffset': 40167, 'confidence': 0.9995987}, {'text': 'U.S.', 'beginOffset': 40505, 'endOffset': 40509, 'confidence': 0.9959871}, {'text': 'U.S.', 'beginOffset': 41215, 'endOffset': 41219, 'confidence': 0.99899906}, {'text': 'U.S.', 'beginOffset': 41874, 'endOffset': 41878, 'confidence': 0.99989855}, {'text': 'U.S.', 'beginOffset': 42757, 'endOffset': 42761, 'confidence': 0.9443943}, {'text': 'U.S.', 'beginOffset': 42949, 'endOffset': 42953, 'confidence': 0.999218}]}, {'name': '6,000', 'confidence': 0.96687406, 'salience': 0.0, 'isCustom': False, 'allUris': [], 'allTypes': [{'name': 'number', 'diffbotUri': 'https://diffbot.com/entity/E7TnJgFyiMYqQUg3cvm8I3g'}], 'mentions': [{'text': 'over 6,000', 'beginOffset': 40750, 'endOffset': 40760, 'confidence': 0.96687406}]}, {'name': 'United Kingdom', 'confidence': 0.9997085, 'salience': 0.0, 'isCustom': False, 'allUris': [], 'allTypes': [{'name': 'location', 'diffbotUri': 'https://diffbot.com/entity/EiCyWUm4lNziqgLHx47iAIQ', 'dbpediaUri': 'http://dbpedia.org/ontology/Place'}], 'mentions': [{'text': 'United Kingdom', 'beginOffset': 40511, 'endOffset': 40525, 'confidence': 0.9997085}]}, {'name': '2021', 'confidence': 0.99490094, 'salience': 0.0, 'isCustom': False, 'allUris': [], 'allTypes': [{'name': 'date', 'diffbotUri': 'https://diffbot.com/entity/EGTSOJhZ0NnqIjbjgQ8pyLg'}], 'mentions': [{'text': '2021', 'beginOffset': 17029, 'endOffset': 17033, 'confidence': 0.99490094}]}, {'name': 'Human Resource Partners', 'confidence': 0.9998529, 'salience': 0.0, 'isCustom': False, 'allUris': [], 'allTypes': [{'name': 'organization', 'diffbotUri': 'https://diffbot.com/entity/EN1ClYEdMMQCxB6AWTkT3mA', 'dbpediaUri': 'http://dbpedia.org/ontology/Organisation'}], 'mentions': [{'text': 'Solar Energy Systems', 'beginOffset': 33993, 'endOffset': 34013, 'confidence': 0.99975353}, {'text': 'Human Capital Resources', 'beginOffset': 36044, 'endOffset': 36067, 'confidence': 0.95507044}, {'text': 'Human Capital Resources', 'beginOffset': 38228, 'endOffset': 38251, 'confidence': 0.9998529}, {'text': 'Human Resource Partners', 'beginOffset': 44839, 'endOffset': 44862, 'confidence': 0.90947086}]}, {'name': '2021-11', 'confidence': 0.9989975, 'salience': 0.0, 'isCustom': False, 'allUris': [], 'allTypes': [{'name': 'date', 'diffbotUri': 'https://diffbot.com/entity/EGTSOJhZ0NnqIjbjgQ8pyLg'}], 'mentions': [{'text': 'November 2021', 'beginOffset': 12405, 'endOffset': 12418, 'confidence': 0.9989975}]}, {'name': '1,900', 'confidence': 0.7998019, 'salience': 0.0, 'isCustom': False, 'allUris': [], 'allTypes': [{'name': 'number', 'diffbotUri': 'https://diffbot.com/entity/E7TnJgFyiMYqQUg3cvm8I3g'}], 'mentions': [{'text': 'over 1,900', 'beginOffset': 40121, 'endOffset': 40131, 'confidence': 0.7998019}]}, {'name': 'Monterrey', 'confidence': 0.99722505, 'salience': 0.0, 'isCustom': False, 'allUris': [], 'allTypes': [{'name': 'location', 'diffbotUri': 'https://diffbot.com/entity/EiCyWUm4lNziqgLHx47iAIQ', 'dbpediaUri': 'http://dbpedia.org/ontology/Place'}], 'mentions': [{'text': 'Monterrey', 'beginOffset': 18644, 'endOffset': 18653, 'confidence': 0.99722505}]}, {'name': 'Cybertruck', 'confidence': 0.99789643, 'salience': 0.0, 'isCustom': False, 'allUris': [], 'allTypes': [{'name': 'organization', 'diffbotUri': 'https://diffbot.com/entity/EN1ClYEdMMQCxB6AWTkT3mA', 'dbpediaUri': 'http://dbpedia.org/ontology/Organisation'}], 'mentions': [{'text': 'Cybertruck', 'beginOffset': 31916, 'endOffset': 31926, 'confidence': 0.99789643}]}, {'name': '2024-01', 'confidence': 0.5556617, 'salience': 0.0, 'isCustom': False, 'allUris': [], 'allTypes': [{'name': 'date', 'diffbotUri': 'https://diffbot.com/entity/EGTSOJhZ0NnqIjbjgQ8pyLg'}], 'mentions': [{'text': 'January 2024', 'beginOffset': 42471, 'endOffset': 42483, 'confidence': 0.5556617}]}, {'name': '2022-11', 'confidence': 0.9893225, 'salience': 0.0, 'isCustom': False, 'allUris': [], 'allTypes': [{'name': 'date', 'diffbotUri': 'https://diffbot.com/entity/EGTSOJhZ0NnqIjbjgQ8pyLg'}], 'mentions': [{'text': 'November 2022', 'beginOffset': 12600, 'endOffset': 12613, 'confidence': 0.9893225}]}, {'name': '2023-03', 'confidence': 0.9993586, 'salience': 0.0, 'isCustom': False, 'allUris': [], 'allTypes': [{'name': 'date', 'diffbotUri': 'https://diffbot.com/entity/EGTSOJhZ0NnqIjbjgQ8pyLg'}], 'mentions': [{'text': 'March 2023', 'beginOffset': 18579, 'endOffset': 18589, 'confidence': 0.9993586}]}, {'name': 'Organization for Economic Co-operation and Development', 'confidence': 0.9985733, 'salience': 0.0, 'isCustom': False, 'allUris': [], 'allTypes': [{'name': 'organization', 'diffbotUri': 'https://diffbot.com/entity/EN1ClYEdMMQCxB6AWTkT3mA', 'dbpediaUri': 'http://dbpedia.org/ontology/Organisation'}], 'mentions': [{'text': 'Organization for Economic Co-operation and Development', 'beginOffset': 37226, 'endOffset': 37280, 'confidence': 0.9985733}]}, {'name': '2', 'confidence': 0.9100253, 'salience': 0.0, 'isCustom': False, 'allUris': [], 'allTypes': [{'name': 'number', 'diffbotUri': 'https://diffbot.com/entity/E7TnJgFyiMYqQUg3cvm8I3g'}], 'mentions': [{'text': 'two', 'beginOffset': 1203, 'endOffset': 1206, 'confidence': 0.9100253}]}, {'name': 'energy storage components', 'confidence': 0.51, 'salience': 0.0, 'isCustom': False, 'allUris': [], 'allTypes': [{'name': 'organization type', 'diffbotUri': 'https://diffbot.com/entity/E10DLO8yrMs26p-QOobvaJw'}], 'mentions': [{'text': 'energy storage components', 'beginOffset': 18187, 'endOffset': 18212, 'confidence': 0.51}]}, {'name': 'battery cells', 'confidence': 0.51, 'salience': 0.0, 'isCustom': False, 'allUris': [], 'allTypes': [{'name': 'organization type', 'diffbotUri': 'https://diffbot.com/entity/E10DLO8yrMs26p-QOobvaJw'}], 'mentions': [{'text': 'battery cells', 'beginOffset': 18172, 'endOffset': 18185, 'confidence': 0.51}]}, {'name': 'U.S. Department of Transportation', 'confidence': 0.9978275, 'salience': 0.0, 'isCustom': False, 'allUris': [], 'allTypes': [{'name': 'organization', 'diffbotUri': 'https://diffbot.com/entity/EN1ClYEdMMQCxB6AWTkT3mA', 'dbpediaUri': 'http://dbpedia.org/ontology/Organisation'}], 'mentions': [{'text': 'U.S. Department of Transportation', 'beginOffset': 26231, 'endOffset': 26264, 'confidence': 0.9978275}]}, {'name': 'Environmental Protection Agency', 'confidence': 0.9995684, 'salience': 0.0, 'isCustom': False, 'allUris': [], 'allTypes': [{'name': 'organization', 'diffbotUri': 'https://diffbot.com/entity/EN1ClYEdMMQCxB6AWTkT3mA', 'dbpediaUri': 'http://dbpedia.org/ontology/Organisation'}], 'mentions': [{'text': 'Environmental Protection Agency', 'beginOffset': 26273, 'endOffset': 26304, 'confidence': 0.9995684}, {'text': 'EPA', 'beginOffset': 26317, 'endOffset': 26320, 'confidence': 0.99686}]}, {'name': '1', 'confidence': 0.9693983, 'salience': 0.0, 'isCustom': False, 'allUris': [], 'allTypes': [{'name': 'number', 'diffbotUri': 'https://diffbot.com/entity/E7TnJgFyiMYqQUg3cvm8I3g'}], 'mentions': [{'text': 'day one', 'beginOffset': 40968, 'endOffset': 40975, 'confidence': 0.96156144}, {'text': 'day one', 'beginOffset': 44052, 'endOffset': 44059, 'confidence': 0.9693983}]}, {'name': '5', 'confidence': 0.99785787, 'salience': 0.0, 'isCustom': False, 'allUris': [], 'allTypes': [{'name': 'number', 'diffbotUri': 'https://diffbot.com/entity/E7TnJgFyiMYqQUg3cvm8I3g'}], 'mentions': [{'text': 'between one to four years', 'beginOffset': 41763, 'endOffset': 41788, 'confidence': 0.99785787}]}, {'name': 'New Car Assessment Program', 'confidence': 0.9971559, 'salience': 0.0, 'isCustom': False, 'allUris': [], 'allTypes': [{'name': 'organization', 'diffbotUri': 'https://diffbot.com/entity/EN1ClYEdMMQCxB6AWTkT3mA', 'dbpediaUri': 'http://dbpedia.org/ontology/Organisation'}], 'mentions': [{'text': 'New Car Assessment Program', 'beginOffset': 26334, 'endOffset': 26360, 'confidence': 0.9971559}]}, {'name': '2025', 'confidence': 0.97317183, 'salience': 0.0, 'isCustom': False, 'allUris': [], 'allTypes': [{'name': 'date', 'diffbotUri': 'https://diffbot.com/entity/EGTSOJhZ0NnqIjbjgQ8pyLg'}], 'mentions': [{'text': '2025', 'beginOffset': 13179, 'endOffset': 13183, 'confidence': 0.97317183}]}, {'name': 'Annual Report on Form 10-K', 'confidence': 0.9762599, 'salience': 0.0, 'isCustom': False, 'allUris': [], 'allTypes': [{'name': 'skill', 'diffbotUri': 'https://diffbot.com/entity/EvfbHngnSNVOh7ZBM5XTywQ'}, {'name': 'product', 'diffbotUri': 'https://diffbot.com/entity/EgSPUye7QPcyQoPylO8biMQ'}, {'name': 'creative work', 'diffbotUri': 'https://diffbot.com/entity/EnuIck9oSO_2b9wNK6CD3Vw', 'dbpediaUri': 'http://dbpedia.org/ontology/Work'}], 'mentions': [{'text': 'Annual Report on Form 10-K', 'beginOffset': 20819, 'endOffset': 20845, 'confidence': 0.8701466}, {'text': 'Annual Report on Form 10-K', 'beginOffset': 21993, 'endOffset': 22019, 'confidence': 0.9762599}, {'text': 'Annual Report on Form 10-K', 'beginOffset': 23168, 'endOffset': 23194, 'confidence': 0.8617825}]}, {'name': 'New York', 'confidence': 0.99899596, 'salience': 0.0, 'isCustom': False, 'allUris': [], 'allTypes': [{'name': 'location', 'diffbotUri': 'https://diffbot.com/entity/EiCyWUm4lNziqgLHx47iAIQ', 'dbpediaUri': 'http://dbpedia.org/ontology/Place'}], 'mentions': [{'text': 'New York', 'beginOffset': 17913, 'endOffset': 17921, 'confidence': 0.99770397}, {'text': 'New York', 'beginOffset': 17935, 'endOffset': 17943, 'confidence': 0.99814045}, {'text': 'New York', 'beginOffset': 42395, 'endOffset': 42403, 'confidence': 0.99899596}]}, {'name': '2', 'confidence': 0.8120309, 'salience': 0.0, 'isCustom': False, 'allUris': [], 'allTypes': [{'name': 'number', 'diffbotUri': 'https://diffbot.com/entity/E7TnJgFyiMYqQUg3cvm8I3g'}], 'mentions': [{'text': '2', 'beginOffset': 20703, 'endOffset': 20704, 'confidence': 0.8120309}]}, {'name': 'solar energy', 'confidence': 0.51, 'salience': 0.0, 'isCustom': False, 'allUris': [], 'allTypes': [{'name': 'organization type', 'diffbotUri': 'https://diffbot.com/entity/E10DLO8yrMs26p-QOobvaJw'}], 'mentions': [{'text': 'solar energy', 'beginOffset': 34045, 'endOffset': 34057, 'confidence': 0.51}]}, {'name': 'Gigafactory', 'confidence': 0.90307987, 'salience': 0.0, 'isCustom': False, 'allUris': [], 'allTypes': [{'name': 'location', 'diffbotUri': 'https://diffbot.com/entity/EiCyWUm4lNziqgLHx47iAIQ', 'dbpediaUri': 'http://dbpedia.org/ontology/Place'}], 'mentions': [{'text': 'Gigafactory', 'beginOffset': 17923, 'endOffset': 17934, 'confidence': 0.72814983}, {'text': 'Gigafactory', 'beginOffset': 17963, 'endOffset': 17974, 'confidence': 0.8065503}, {'text': 'Gigafactory', 'beginOffset': 18004, 'endOffset': 18015, 'confidence': 0.84762764}, {'text': 'Gigafactory', 'beginOffset': 42341, 'endOffset': 42352, 'confidence': 0.7670857}, {'text': 'Gigafactory', 'beginOffset': 42361, 'endOffset': 42372, 'confidence': 0.90307987}, {'text': 'Gigafactory', 'beginOffset': 42383, 'endOffset': 42394, 'confidence': 0.7347366}]}, {'name': 'Mexico', 'confidence': 0.9987804, 'salience': 0.0, 'isCustom': False, 'allUris': [], 'allTypes': [{'name': 'location', 'diffbotUri': 'https://diffbot.com/entity/EiCyWUm4lNziqgLHx47iAIQ', 'dbpediaUri': 'http://dbpedia.org/ontology/Place'}], 'mentions': [{'text': 'Mexico', 'beginOffset': 18655, 'endOffset': 18661, 'confidence': 0.9987804}]}, {'name': '48', 'confidence': 0.9034858, 'salience': 0.0, 'isCustom': False, 'allUris': [], 'allTypes': [{'name': 'number', 'diffbotUri': 'https://diffbot.com/entity/E7TnJgFyiMYqQUg3cvm8I3g'}], 'mentions': [{'text': '48', 'beginOffset': 23232, 'endOffset': 23234, 'confidence': 0.75100374}, {'text': '48', 'beginOffset': 24067, 'endOffset': 24069, 'confidence': 0.9034858}]}, {'name': 'Texas', 'confidence': 0.9995339, 'salience': 0.0, 'isCustom': False, 'allUris': [], 'allTypes': [{'name': 'location', 'diffbotUri': 'https://diffbot.com/entity/EiCyWUm4lNziqgLHx47iAIQ', 'dbpediaUri': 'http://dbpedia.org/ontology/Place'}], 'mentions': [{'text': 'Texas', 'beginOffset': 17956, 'endOffset': 17961, 'confidence': 0.9995339}, {'text': 'Texas', 'beginOffset': 17975, 'endOffset': 17980, 'confidence': 0.60262376}, {'text': 'Texas', 'beginOffset': 42373, 'endOffset': 42378, 'confidence': 0.9042768}]}, {'name': 'Federal Energy Regulatory Commission', 'confidence': 0.9995609, 'salience': 0.0, 'isCustom': False, 'allUris': [], 'allTypes': [{'name': 'organization', 'diffbotUri': 'https://diffbot.com/entity/EN1ClYEdMMQCxB6AWTkT3mA', 'dbpediaUri': 'http://dbpedia.org/ontology/Organisation'}], 'mentions': [{'text': 'Federal Energy Regulatory Commission', 'beginOffset': 22462, 'endOffset': 22498, 'confidence': 0.9995609}, {'text': 'FERC', 'beginOffset': 22507, 'endOffset': 22511, 'confidence': 0.9879458}]}, {'name': 'SEC', 'confidence': 0.9997372, 'salience': 0.0, 'isCustom': False, 'allUris': [], 'allTypes': [{'name': 'organization', 'diffbotUri': 'https://diffbot.com/entity/EN1ClYEdMMQCxB6AWTkT3mA', 'dbpediaUri': 'http://dbpedia.org/ontology/Organisation'}], 'mentions': [{'text': 'SEC', 'beginOffset': 45251, 'endOffset': 45254, 'confidence': 0.997162}, {'text': 'SEC', 'beginOffset': 45273, 'endOffset': 45276, 'confidence': 0.9997372}, {'text': 'SEC', 'beginOffset': 45745, 'endOffset': 45748, 'confidence': 0.9986646}]}, {'name': '48', 'confidence': 0.6463442, 'salience': 0.0, 'isCustom': False, 'allUris': [], 'allTypes': [{'name': 'number', 'diffbotUri': 'https://diffbot.com/entity/E7TnJgFyiMYqQUg3cvm8I3g'}], 'mentions': [{'text': '48E', 'beginOffset': 24071, 'endOffset': 24074, 'confidence': 0.6463442}]}, {'name': 'United Nations Economic Commission for Europe', 'confidence': 0.99978465, 'salience': 0.0, 'isCustom': False, 'allUris': [], 'allTypes': [{'name': 'organization', 'diffbotUri': 'https://diffbot.com/entity/EN1ClYEdMMQCxB6AWTkT3mA', 'dbpediaUri': 'http://dbpedia.org/ontology/Organisation'}], 'mentions': [{'text': 'United Nations Economic Commission for Europe', 'beginOffset': 27647, 'endOffset': 27692, 'confidence': 0.99978465}, {'text': 'ECE', 'beginOffset': 27702, 'endOffset': 27705, 'confidence': 0.8947487}, {'text': 'ECE', 'beginOffset': 28190, 'endOffset': 28193, 'confidence': 0.97256976}]}, {'name': '2', 'confidence': 0.99993944, 'salience': 0.0, 'isCustom': False, 'allUris': [], 'allTypes': [{'name': 'number', 'diffbotUri': 'https://diffbot.com/entity/E7TnJgFyiMYqQUg3cvm8I3g'}], 'mentions': [{'text': 'past two years', 'beginOffset': 38893, 'endOffset': 38907, 'confidence': 0.99993944}]}, {'name': 'Nevada', 'confidence': 0.99969983, 'salience': 0.0, 'isCustom': False, 'allUris': [], 'allTypes': [{'name': 'location', 'diffbotUri': 'https://diffbot.com/entity/EiCyWUm4lNziqgLHx47iAIQ', 'dbpediaUri': 'http://dbpedia.org/ontology/Place'}], 'mentions': [{'text': 'Nevada', 'beginOffset': 17996, 'endOffset': 18002, 'confidence': 0.99969983}, {'text': 'Nevada', 'beginOffset': 18016, 'endOffset': 18022, 'confidence': 0.6785426}, {'text': 'Nevada', 'beginOffset': 42353, 'endOffset': 42359, 'confidence': 0.8908765}]}, {'name': '2023-12-31', 'confidence': 0.9984863, 'salience': 0.0, 'isCustom': False, 'allUris': [], 'allTypes': [{'name': 'date', 'diffbotUri': 'https://diffbot.com/entity/EGTSOJhZ0NnqIjbjgQ8pyLg'}], 'mentions': [{'text': 'December 31, 2023', 'beginOffset': 38525, 'endOffset': 38542, 'confidence': 0.9984863}]}, {'name': '4', 'confidence': 0.62154967, 'salience': 0.0, 'isCustom': False, 'allUris': [], 'allTypes': [{'name': 'number', 'diffbotUri': 'https://diffbot.com/entity/E7TnJgFyiMYqQUg3cvm8I3g'}], 'mentions': [{'text': 'four', 'beginOffset': 2095, 'endOffset': 2099, 'confidence': 0.62154967}]}, {'name': '140,473', 'confidence': 0.9985663, 'salience': 0.0, 'isCustom': False, 'allUris': [], 'allTypes': [{'name': 'number', 'diffbotUri': 'https://diffbot.com/entity/E7TnJgFyiMYqQUg3cvm8I3g'}], 'mentions': [{'text': '140,473', 'beginOffset': 38581, 'endOffset': 38588, 'confidence': 0.9985663}]}, {'name': '7', 'confidence': 0.9887778, 'salience': 0.0, 'isCustom': False, 'allUris': [], 'allTypes': [{'name': 'number', 'diffbotUri': 'https://diffbot.com/entity/E7TnJgFyiMYqQUg3cvm8I3g'}], 'mentions': [{'text': 'up to seven', 'beginOffset': 2311, 'endOffset': 2322, 'confidence': 0.9887778}, {'text': 'up to seven', 'beginOffset': 2417, 'endOffset': 2428, 'confidence': 0.9485802}]}, {'name': 'Annual Reports on Form 10-K', 'confidence': 0.73619765, 'salience': 0.0, 'isCustom': False, 'allUris': [], 'allTypes': [{'name': 'skill', 'diffbotUri': 'https://diffbot.com/entity/EvfbHngnSNVOh7ZBM5XTywQ'}, {'name': 'product', 'diffbotUri': 'https://diffbot.com/entity/EgSPUye7QPcyQoPylO8biMQ'}, {'name': 'creative work', 'diffbotUri': 'https://diffbot.com/entity/EnuIck9oSO_2b9wNK6CD3Vw', 'dbpediaUri': 'http://dbpedia.org/ontology/Work'}], 'mentions': [{'text': 'Annual Reports on Form 10-K', 'beginOffset': 45106, 'endOffset': 45133, 'confidence': 0.73619765}]}, {'name': '350', 'confidence': 0.6576686, 'salience': 0.0, 'isCustom': False, 'allUris': [], 'allTypes': [{'name': 'number', 'diffbotUri': 'https://diffbot.com/entity/E7TnJgFyiMYqQUg3cvm8I3g'}], 'mentions': [{'text': 'over 350', 'beginOffset': 40557, 'endOffset': 40565, 'confidence': 0.6576686}]}, {'name': '600', 'confidence': 0.7214556, 'salience': 0.0, 'isCustom': False, 'allUris': [], 'allTypes': [{'name': 'number', 'diffbotUri': 'https://diffbot.com/entity/E7TnJgFyiMYqQUg3cvm8I3g'}], 'mentions': [{'text': '600', 'beginOffset': 42291, 'endOffset': 42294, 'confidence': 0.7214556}]}, {'name': '2023', 'confidence': 0.99797696, 'salience': 0.0, 'isCustom': False, 'allUris': [], 'allTypes': [{'name': 'date', 'diffbotUri': 'https://diffbot.com/entity/EGTSOJhZ0NnqIjbjgQ8pyLg'}], 'mentions': [{'text': '2023', 'beginOffset': 40106, 'endOffset': 40110, 'confidence': 0.99797696}, {'text': '2023', 'beginOffset': 40542, 'endOffset': 40546, 'confidence': 0.99718696}, {'text': '2023', 'beginOffset': 42235, 'endOffset': 42239, 'confidence': 0.99448794}]}, {'name': '373', 'confidence': 0.9870695, 'salience': 0.0, 'isCustom': False, 'allUris': [], 'allTypes': [{'name': 'number', 'diffbotUri': 'https://diffbot.com/entity/E7TnJgFyiMYqQUg3cvm8I3g'}], 'mentions': [{'text': '373', 'beginOffset': 42197, 'endOffset': 42200, 'confidence': 0.9870695}]}, {'name': '2023-11', 'confidence': 0.99324775, 'salience': 0.0, 'isCustom': False, 'allUris': [], 'allTypes': [{'name': 'date', 'diffbotUri': 'https://diffbot.com/entity/EGTSOJhZ0NnqIjbjgQ8pyLg'}], 'mentions': [{'text': 'November 2023', 'beginOffset': 2575, 'endOffset': 2588, 'confidence': 0.99324775}]}], 'facts': []}\n"
     ]
    }
   ],
   "source": [
    "res = get_request({\n",
    "    \"content\": tsla_item1,\n",
    "    \"lang\": \"en\",\n",
    "    \"format\": \"plain text with title\",\n",
    "})\n",
    "\n",
    "print (res)"
   ]
  },
  {
   "cell_type": "markdown",
   "metadata": {},
   "source": [
    "### View Entities and Entity Types"
   ]
  },
  {
   "cell_type": "code",
   "execution_count": 29,
   "metadata": {},
   "outputs": [
    {
     "name": "stdout",
     "output_type": "stream",
     "text": [
      "Entity Name: Tesla Semi\n",
      "Salience: 0.8978014\n",
      "Entity Types:\n",
      "['skill', 'product', 'tool', 'vehicle']\n",
      "\n",
      "Entity Name: automotive battery\n",
      "Salience: 0.77393895\n",
      "Entity Types:\n",
      "['skill', 'product', 'tool']\n",
      "\n",
      "Entity Name: Tesla Model X\n",
      "Salience: 0.6964315\n",
      "Entity Types:\n",
      "['skill', 'product', 'tool', 'vehicle']\n",
      "\n",
      "Entity Name: solar energy\n",
      "Salience: 0.6094218\n",
      "Entity Types:\n",
      "[]\n",
      "\n",
      "Entity Name: Tesla Autopilot\n",
      "Salience: 0.5553389\n",
      "Entity Types:\n",
      "['skill', 'field of work', 'technology']\n",
      "\n",
      "Entity Name: artificial intelligence\n",
      "Salience: 0.5336387\n",
      "Entity Types:\n",
      "['skill', 'field of work', 'technology']\n",
      "\n",
      "Entity Name: electric vehicle\n",
      "Salience: 0.5048789\n",
      "Entity Types:\n",
      "['skill', 'product', 'tool', 'vehicle']\n",
      "\n"
     ]
    }
   ],
   "source": [
    "for ent in res[\"entities\"]:\n",
    "    if ent[\"salience\"] > 0.5:\n",
    "        print(\"Entity Name: \" + ent['name'])\n",
    "        print(\"Salience: \" + str(ent['salience']))\n",
    "        print(\"Entity Types:\")\n",
    "        print([ent_type[\"name\"] for ent_type in ent['allTypes']])\n",
    "        print()"
   ]
  },
  {
   "cell_type": "code",
   "execution_count": 108,
   "metadata": {},
   "outputs": [],
   "source": [
    "def extract_entites(res):\n",
    "    ents = pd.DataFrame.from_dict(res[\"entities\"])\n",
    "    if not ents.empty:\n",
    "        salient_ents = ents[ents[\"salience\"] > 0.4]\n",
    "        salient_ents[\"Labels\"] = None\n",
    "        for i, row in salient_ents.iterrows():\n",
    "            if len(row['allTypes']) != 0:\n",
    "                names = [ent_type[\"name\"] for ent_type in row['allTypes']]\n",
    "                if \"organization\" in names:\n",
    "                    salient_ents.loc[i,\"Labels\"] = 'company'\n",
    "                elif (\"field of work\" in names)  or (\"industry\" in names):\n",
    "                    salient_ents.loc[i,'Labels'] = 'industry'\n",
    "                elif \"country\" in names:\n",
    "                    salient_ents.loc[i,'Labels'] = 'country'\n",
    "                elif \"product\" in names:\n",
    "                    salient_ents.loc[i,'Labels'] = 'product'\n",
    "                else:\n",
    "                    salient_ents.loc[i,'Labels'] = row['allTypes'][0]['name']\n",
    "                \n",
    "\n",
    "        fin_ents = salient_ents[['name','salience','Labels']]\n",
    "        return fin_ents\n",
    "    return ents"
   ]
  },
  {
   "cell_type": "code",
   "execution_count": null,
   "metadata": {},
   "outputs": [],
   "source": [
    "tsla_entities = extract_entites(res)\n",
    "tsla_entities"
   ]
  },
  {
   "cell_type": "markdown",
   "metadata": {},
   "source": [
    "## View Relationships and Relationship Types"
   ]
  },
  {
   "cell_type": "code",
   "execution_count": 123,
   "metadata": {},
   "outputs": [],
   "source": [
    "def extract_relationships(res):\n",
    "    rels =  pd.DataFrame.from_dict(res[\"facts\"])\n",
    "    if not rels.empty:\n",
    "        for i, row in rels.iterrows():\n",
    "            rels.loc[i,\"entity\"] = row[\"entity\"][\"name\"]\n",
    "            rels.loc[i,\"property\"] = row[\"property\"][\"name\"]\n",
    "            rels.loc[i,\"value\"] = row[\"value\"][\"name\"]\n",
    "            if row[\"evidence\"] != []:\n",
    "                rels.loc[i,\"evidence\"] = row[\"evidence\"][0].get(\"passage\",None)\n",
    "        fin_rels = rels[['entity','property','value','evidence']]\n",
    "        return fin_rels\n",
    "    return rels"
   ]
  },
  {
   "cell_type": "markdown",
   "metadata": {},
   "source": [
    "### Supplementary Source: Wikipedia Article"
   ]
  },
  {
   "cell_type": "code",
   "execution_count": 94,
   "metadata": {},
   "outputs": [],
   "source": [
    "tesla_wiki = \"Tesla, Inc. (/ˈtɛslə/ TESS-lə or /ˈtɛzlə/ TEZ-lə[a]) is an American multinational automotive and clean energy company. Headquartered in Austin, Texas, it designs, manufactures and sells battery electric vehicles (BEVs), stationary battery energy storage devices from home to grid-scale, solar panels and solar shingles, and related products and services. \\\n",
    "    Tesla was incorporated in July 2003 by Martin Eberhard and Marc Tarpenning as Tesla Motors. Its name is a tribute to inventor and electrical engineer Nikola Tesla. In February 2004, Elon Musk joined as Tesla's largest shareholder; in 2008, he was named chief executive officer. In 2008, the company began production of its first car model, the Roadster sports car, followed by the Model S sedan in 2012, the Model X SUV in 2015, the Model 3 sedan in 2017, the Model Y crossover in 2020, the Tesla Semi truck in 2022 and the Cybertruck pickup truck in 2023. The Model 3 is the all-time best-selling plug-in electric car worldwide, and in June 2021 became the first electric car to sell 1 million units globally.[6] In 2023, the Model Y was the best-selling vehicle, of any kind, globally.[7][8][3] \\\n",
    "        Tesla is one of the world's most valuable companies in terms of market capitalization. In October 2021, Tesla temporarily became a trillion-dollar company, the seventh U.S. company to do so. In 2023, the company led the battery electric vehicle market, with 19.9% share. Also in 2023, the company was ranked 69th in the Forbes Global 2000.[9] As of March 2024, it is the world's most valuable automaker. Tesla has been the subject of lawsuits, government scrutiny, and journalistic criticism, stemming from allegations of multiple cases of whistleblower retaliation, worker rights violations such as sexual harassment and anti-union activities, safety defects leadings to dozens of recalls, the lack of a public relations department, and controversial statements from Musk including overpromising on the company's driving assist technology and product release timelines.\""
   ]
  },
  {
   "cell_type": "code",
   "execution_count": 95,
   "metadata": {},
   "outputs": [],
   "source": [
    "res = get_request({\n",
    "    \"content\": tesla_wiki,\n",
    "    \"lang\": \"en\",\n",
    "    \"format\": \"plain text with title\",\n",
    "})"
   ]
  },
  {
   "cell_type": "code",
   "execution_count": 162,
   "metadata": {},
   "outputs": [
    {
     "name": "stderr",
     "output_type": "stream",
     "text": [
      "C:\\Users\\ongai\\AppData\\Local\\Temp\\ipykernel_22456\\2295280352.py:5: SettingWithCopyWarning: \n",
      "A value is trying to be set on a copy of a slice from a DataFrame.\n",
      "Try using .loc[row_indexer,col_indexer] = value instead\n",
      "\n",
      "See the caveats in the documentation: https://pandas.pydata.org/pandas-docs/stable/user_guide/indexing.html#returning-a-view-versus-a-copy\n",
      "  salient_ents[\"Labels\"] = None\n"
     ]
    },
    {
     "data": {
      "text/html": [
       "<div>\n",
       "<style scoped>\n",
       "    .dataframe tbody tr th:only-of-type {\n",
       "        vertical-align: middle;\n",
       "    }\n",
       "\n",
       "    .dataframe tbody tr th {\n",
       "        vertical-align: top;\n",
       "    }\n",
       "\n",
       "    .dataframe thead th {\n",
       "        text-align: right;\n",
       "    }\n",
       "</style>\n",
       "<table border=\"1\" class=\"dataframe\">\n",
       "  <thead>\n",
       "    <tr style=\"text-align: right;\">\n",
       "      <th></th>\n",
       "      <th>name</th>\n",
       "      <th>salience</th>\n",
       "      <th>Labels</th>\n",
       "    </tr>\n",
       "  </thead>\n",
       "  <tbody>\n",
       "    <tr>\n",
       "      <th>0</th>\n",
       "      <td>Marc Tarpenning</td>\n",
       "      <td>0.988777</td>\n",
       "      <td>person</td>\n",
       "    </tr>\n",
       "    <tr>\n",
       "      <th>1</th>\n",
       "      <td>Martin Eberhard</td>\n",
       "      <td>0.988030</td>\n",
       "      <td>person</td>\n",
       "    </tr>\n",
       "    <tr>\n",
       "      <th>2</th>\n",
       "      <td>Tesla</td>\n",
       "      <td>0.975387</td>\n",
       "      <td>company</td>\n",
       "    </tr>\n",
       "    <tr>\n",
       "      <th>3</th>\n",
       "      <td>battery electric vehicle</td>\n",
       "      <td>0.834153</td>\n",
       "      <td>product</td>\n",
       "    </tr>\n",
       "    <tr>\n",
       "      <th>4</th>\n",
       "      <td>Elon Musk</td>\n",
       "      <td>0.758810</td>\n",
       "      <td>person</td>\n",
       "    </tr>\n",
       "  </tbody>\n",
       "</table>\n",
       "</div>"
      ],
      "text/plain": [
       "                       name  salience   Labels\n",
       "0           Marc Tarpenning  0.988777   person\n",
       "1           Martin Eberhard  0.988030   person\n",
       "2                     Tesla  0.975387  company\n",
       "3  battery electric vehicle  0.834153  product\n",
       "4                 Elon Musk  0.758810   person"
      ]
     },
     "execution_count": 162,
     "metadata": {},
     "output_type": "execute_result"
    }
   ],
   "source": [
    "tsla_wiki_entities = extract_entites(res)\n",
    "tsla_wiki_entities.head()"
   ]
  },
  {
   "cell_type": "code",
   "execution_count": 163,
   "metadata": {},
   "outputs": [
    {
     "data": {
      "text/html": [
       "<div>\n",
       "<style scoped>\n",
       "    .dataframe tbody tr th:only-of-type {\n",
       "        vertical-align: middle;\n",
       "    }\n",
       "\n",
       "    .dataframe tbody tr th {\n",
       "        vertical-align: top;\n",
       "    }\n",
       "\n",
       "    .dataframe thead th {\n",
       "        text-align: right;\n",
       "    }\n",
       "</style>\n",
       "<table border=\"1\" class=\"dataframe\">\n",
       "  <thead>\n",
       "    <tr style=\"text-align: right;\">\n",
       "      <th></th>\n",
       "      <th>entity</th>\n",
       "      <th>property</th>\n",
       "      <th>value</th>\n",
       "      <th>evidence</th>\n",
       "    </tr>\n",
       "  </thead>\n",
       "  <tbody>\n",
       "    <tr>\n",
       "      <th>0</th>\n",
       "      <td>Tesla</td>\n",
       "      <td>product type</td>\n",
       "      <td>battery electric vehicles</td>\n",
       "      <td>Headquartered in Austin, Texas, it designs, ma...</td>\n",
       "    </tr>\n",
       "    <tr>\n",
       "      <th>1</th>\n",
       "      <td>Elon Musk</td>\n",
       "      <td>position held</td>\n",
       "      <td>chief executive officer</td>\n",
       "      <td>In February 2004, Elon Musk joined as Tesla's ...</td>\n",
       "    </tr>\n",
       "    <tr>\n",
       "      <th>2</th>\n",
       "      <td>Tesla</td>\n",
       "      <td>chief executive officer</td>\n",
       "      <td>Elon Musk</td>\n",
       "      <td>In February 2004, Elon Musk joined as Tesla's ...</td>\n",
       "    </tr>\n",
       "    <tr>\n",
       "      <th>3</th>\n",
       "      <td>Tesla</td>\n",
       "      <td>chief executive officer</td>\n",
       "      <td>Elon Musk</td>\n",
       "      <td>In February 2004, Elon Musk joined as Tesla's ...</td>\n",
       "    </tr>\n",
       "    <tr>\n",
       "      <th>4</th>\n",
       "      <td>Elon Musk</td>\n",
       "      <td>employee or member of</td>\n",
       "      <td>Tesla</td>\n",
       "      <td>In February 2004, Elon Musk joined as Tesla's ...</td>\n",
       "    </tr>\n",
       "  </tbody>\n",
       "</table>\n",
       "</div>"
      ],
      "text/plain": [
       "      entity                 property                      value                                           evidence\n",
       "0      Tesla             product type  battery electric vehicles  Headquartered in Austin, Texas, it designs, ma...\n",
       "1  Elon Musk            position held    chief executive officer  In February 2004, Elon Musk joined as Tesla's ...\n",
       "2      Tesla  chief executive officer                  Elon Musk  In February 2004, Elon Musk joined as Tesla's ...\n",
       "3      Tesla  chief executive officer                  Elon Musk  In February 2004, Elon Musk joined as Tesla's ...\n",
       "4  Elon Musk    employee or member of                      Tesla  In February 2004, Elon Musk joined as Tesla's ..."
      ]
     },
     "execution_count": 163,
     "metadata": {},
     "output_type": "execute_result"
    }
   ],
   "source": [
    "extract_relationships(res).head()"
   ]
  },
  {
   "cell_type": "markdown",
   "metadata": {},
   "source": [
    "### Creating Entity-Relationship Extraction Pipelines"
   ]
  },
  {
   "cell_type": "code",
   "execution_count": 102,
   "metadata": {},
   "outputs": [
    {
     "name": "stdout",
     "output_type": "stream",
     "text": [
      "Found Company: American Electric Power Company, Inc.\n"
     ]
    },
    {
     "data": {
      "text/plain": [
       "'American Electric Power Company, Inc.'"
      ]
     },
     "execution_count": 102,
     "metadata": {},
     "output_type": "execute_result"
    }
   ],
   "source": [
    "from yahooquery import Ticker\n",
    "\n",
    "def get_company_name(ticker):\n",
    "    try:\n",
    "        ticker_info = Ticker(ticker)\n",
    "        company_name = ticker_info.quote_type[ticker]['longName']\n",
    "        print(f\"Found Company: {company_name}\")\n",
    "        return company_name\n",
    "    except Exception as e:\n",
    "        print(f\"Error fetching company name for ticker {ticker}: {e}\")\n",
    "        return ticker\n",
    "\n",
    "get_company_name(\"AEP\")\n"
   ]
  },
  {
   "cell_type": "code",
   "execution_count": 101,
   "metadata": {},
   "outputs": [],
   "source": [
    "import requests\n",
    "from bs4 import BeautifulSoup\n",
    "\n",
    "def get_wikipedia_article(company_name_or_ticker):\n",
    "    search_url = f\"https://en.wikipedia.org/wiki/{company_name_or_ticker}\"\n",
    "    \n",
    "    try:\n",
    "        response = requests.get(search_url)\n",
    "        response.raise_for_status()\n",
    "\n",
    "        soup = BeautifulSoup(response.text, 'html.parser')\n",
    "\n",
    "        title = soup.find('h1', {'id': 'firstHeading'}).text\n",
    "\n",
    "        content_div = soup.find('div', {'id': 'mw-content-text'})\n",
    "\n",
    "        paragraphs = content_div.find_all('p')\n",
    "\n",
    "        full_article_text = '\\n\\n'.join([p.text.strip() for p in paragraphs if p.text.strip()])\n",
    "\n",
    "        #print(f\"Title: {title}\")\n",
    "        #print(f\"Full Article:\\n{full_article_text}\")\n",
    "        return f\"{title}\" + \" \" + f\"{full_article_text}\"\n",
    "\n",
    "    except requests.exceptions.RequestException as e:\n",
    "        print(f\"Error fetching the Wikipedia article: {e}\")\n",
    "        return None\n",
    "\n",
    "# company_name_or_ticker = input(\"Enter the company name or ticker code: \").replace(' ', '_')\n",
    "# get_wikipedia_article(company_name_or_ticker)\n",
    "\n",
    "\n"
   ]
  },
  {
   "cell_type": "code",
   "execution_count": 141,
   "metadata": {},
   "outputs": [],
   "source": [
    "def wikipedia_ner_rel_pipeline(ticker):\n",
    "    company_name = get_company_name(ticker)\n",
    "    article = get_wikipedia_article(company_name)\n",
    "    if article is None:\n",
    "        return None\n",
    "    res = get_request({\n",
    "    \"content\": article,\n",
    "    \"lang\": \"en\",\n",
    "    \"format\": \"plain text with title\",\n",
    "    })\n",
    "    ents, rels = None, None\n",
    "    ents = extract_entites(res)\n",
    "    rels = extract_relationships(res)\n",
    "    pd.options.display.max_columns = None\n",
    "    pd.set_option('display.width', 3000)\n",
    "    \n",
    "    return (ents, rels)\n",
    "\n",
    "def sec_10k_ner_rel_pipeline(ticker):\n",
    "    dbpath = 'data/ecmdatabase.db'\n",
    "    con = sqlite3.connect(f\"file:{dbpath}?mode=ro\", uri=True)\n",
    "    with con:\n",
    "        result = con.execute(f\"SELECT * from companies WHERE stock_symbol = '{ticker}';\")\n",
    "        records = result.fetchall()\n",
    "        if records == []:\n",
    "            print(f\"no records of company ticker {ticker} found in database.\")\n",
    "            return (None,None)\n",
    "        company_name = records[0][1]\n",
    "        item1 = records[0][2].replace('\\n', '')\n",
    "        item7 = records[0][3].replace('\\n', '')\n",
    "    item1_res = get_request({\n",
    "    \"content\": item1,\n",
    "    \"lang\": \"en\",\n",
    "    \"format\": \"plain text\",\n",
    "    })\n",
    "    item7_res = get_request({\n",
    "    \"content\": item7,\n",
    "    \"lang\": \"en\",\n",
    "    \"format\": \"plain text\",\n",
    "    })\n",
    "    item1_ents, item1_rels = extract_entites(item1_res), extract_relationships(item1_res)\n",
    "    item7_ents, item7_rels = extract_entites(item7_res), extract_relationships(item7_res)\n",
    "\n",
    "    ents = pd.concat([item1_ents,item7_ents],axis = 0)\n",
    "    rels = pd.concat([item1_rels,item7_rels],axis = 0)\n",
    "\n",
    "    return (ents,rels)\n",
    "\n",
    "    \n",
    "\n",
    "    \n"
   ]
  },
  {
   "cell_type": "code",
   "execution_count": 125,
   "metadata": {},
   "outputs": [
    {
     "name": "stdout",
     "output_type": "stream",
     "text": [
      "Found Company: American Electric Power Company, Inc.\n"
     ]
    },
    {
     "name": "stderr",
     "output_type": "stream",
     "text": [
      "C:\\Users\\ongai\\AppData\\Local\\Temp\\ipykernel_22456\\2295280352.py:5: SettingWithCopyWarning: \n",
      "A value is trying to be set on a copy of a slice from a DataFrame.\n",
      "Try using .loc[row_indexer,col_indexer] = value instead\n",
      "\n",
      "See the caveats in the documentation: https://pandas.pydata.org/pandas-docs/stable/user_guide/indexing.html#returning-a-view-versus-a-copy\n",
      "  salient_ents[\"Labels\"] = None\n"
     ]
    }
   ],
   "source": [
    "ents_rels = wikipedia_ner_rel_pipeline(\"AEP\")\n"
   ]
  },
  {
   "cell_type": "code",
   "execution_count": 173,
   "metadata": {},
   "outputs": [
    {
     "data": {
      "text/html": [
       "<div>\n",
       "<style scoped>\n",
       "    .dataframe tbody tr th:only-of-type {\n",
       "        vertical-align: middle;\n",
       "    }\n",
       "\n",
       "    .dataframe tbody tr th {\n",
       "        vertical-align: top;\n",
       "    }\n",
       "\n",
       "    .dataframe thead th {\n",
       "        text-align: right;\n",
       "    }\n",
       "</style>\n",
       "<table border=\"1\" class=\"dataframe\">\n",
       "  <thead>\n",
       "    <tr style=\"text-align: right;\">\n",
       "      <th></th>\n",
       "      <th>name</th>\n",
       "      <th>salience</th>\n",
       "      <th>Labels</th>\n",
       "    </tr>\n",
       "  </thead>\n",
       "  <tbody>\n",
       "    <tr>\n",
       "      <th>0</th>\n",
       "      <td>American Electric Power</td>\n",
       "      <td>0.737737</td>\n",
       "      <td>company</td>\n",
       "    </tr>\n",
       "    <tr>\n",
       "      <th>1</th>\n",
       "      <td>Algonquin Power</td>\n",
       "      <td>0.430244</td>\n",
       "      <td>company</td>\n",
       "    </tr>\n",
       "    <tr>\n",
       "      <th>2</th>\n",
       "      <td>AEP Texas Central</td>\n",
       "      <td>0.400038</td>\n",
       "      <td>company</td>\n",
       "    </tr>\n",
       "    <tr>\n",
       "      <th>95</th>\n",
       "      <td>American Electric Power</td>\n",
       "      <td>0.651433</td>\n",
       "      <td>company</td>\n",
       "    </tr>\n",
       "    <tr>\n",
       "      <th>150</th>\n",
       "      <td>American Electric Power Company</td>\n",
       "      <td>0.651433</td>\n",
       "      <td>company</td>\n",
       "    </tr>\n",
       "  </tbody>\n",
       "</table>\n",
       "</div>"
      ],
      "text/plain": [
       "                                name  salience   Labels\n",
       "0            American Electric Power  0.737737  company\n",
       "1                    Algonquin Power  0.430244  company\n",
       "2                  AEP Texas Central  0.400038  company\n",
       "95           American Electric Power  0.651433  company\n",
       "150  American Electric Power Company  0.651433  company"
      ]
     },
     "execution_count": 173,
     "metadata": {},
     "output_type": "execute_result"
    }
   ],
   "source": [
    "aep_ents = ents_rels[0]\n",
    "aep_ents.head()"
   ]
  },
  {
   "cell_type": "code",
   "execution_count": 175,
   "metadata": {},
   "outputs": [
    {
     "data": {
      "text/html": [
       "<div>\n",
       "<style scoped>\n",
       "    .dataframe tbody tr th:only-of-type {\n",
       "        vertical-align: middle;\n",
       "    }\n",
       "\n",
       "    .dataframe tbody tr th {\n",
       "        vertical-align: top;\n",
       "    }\n",
       "\n",
       "    .dataframe thead th {\n",
       "        text-align: right;\n",
       "    }\n",
       "</style>\n",
       "<table border=\"1\" class=\"dataframe\">\n",
       "  <thead>\n",
       "    <tr style=\"text-align: right;\">\n",
       "      <th></th>\n",
       "      <th>entity</th>\n",
       "      <th>property</th>\n",
       "      <th>value</th>\n",
       "      <th>evidence</th>\n",
       "    </tr>\n",
       "  </thead>\n",
       "  <tbody>\n",
       "    <tr>\n",
       "      <th>0</th>\n",
       "      <td>Mary Fallin</td>\n",
       "      <td>position held</td>\n",
       "      <td>Governor</td>\n",
       "      <td>In April 2014, Oklahoma Governor Mary Fallin s...</td>\n",
       "    </tr>\n",
       "    <tr>\n",
       "      <th>1</th>\n",
       "      <td>Appalachian Power Company</td>\n",
       "      <td>organization locations</td>\n",
       "      <td>Kingsport</td>\n",
       "      <td>AEP considers Appalachian Power to be the oper...</td>\n",
       "    </tr>\n",
       "    <tr>\n",
       "      <th>2</th>\n",
       "      <td>Kingsport Power Company</td>\n",
       "      <td>parent organization</td>\n",
       "      <td>American Electric Power Company</td>\n",
       "      <td>Until the 21st century, AEP's operations in Te...</td>\n",
       "    </tr>\n",
       "    <tr>\n",
       "      <th>3</th>\n",
       "      <td>American Electric Power</td>\n",
       "      <td>acquired by</td>\n",
       "      <td>American Electric Power Company</td>\n",
       "      <td>AEP Texas was formed from a merger of various ...</td>\n",
       "    </tr>\n",
       "    <tr>\n",
       "      <th>4</th>\n",
       "      <td>American Electric Power</td>\n",
       "      <td>headquarters</td>\n",
       "      <td>Ashland</td>\n",
       "      <td>Kentucky Power headquarters is in Ashland and ...</td>\n",
       "    </tr>\n",
       "  </tbody>\n",
       "</table>\n",
       "</div>"
      ],
      "text/plain": [
       "                      entity                property                            value                                           evidence\n",
       "0                Mary Fallin           position held                         Governor  In April 2014, Oklahoma Governor Mary Fallin s...\n",
       "1  Appalachian Power Company  organization locations                        Kingsport  AEP considers Appalachian Power to be the oper...\n",
       "2    Kingsport Power Company     parent organization  American Electric Power Company  Until the 21st century, AEP's operations in Te...\n",
       "3    American Electric Power             acquired by  American Electric Power Company  AEP Texas was formed from a merger of various ...\n",
       "4    American Electric Power            headquarters                          Ashland  Kentucky Power headquarters is in Ashland and ..."
      ]
     },
     "execution_count": 175,
     "metadata": {},
     "output_type": "execute_result"
    }
   ],
   "source": [
    "aep_rels = ents_rels[1]\n",
    "aep_rels.head()"
   ]
  },
  {
   "cell_type": "code",
   "execution_count": 143,
   "metadata": {},
   "outputs": [
    {
     "name": "stderr",
     "output_type": "stream",
     "text": [
      "C:\\Users\\ongai\\AppData\\Local\\Temp\\ipykernel_22456\\2295280352.py:5: SettingWithCopyWarning: \n",
      "A value is trying to be set on a copy of a slice from a DataFrame.\n",
      "Try using .loc[row_indexer,col_indexer] = value instead\n",
      "\n",
      "See the caveats in the documentation: https://pandas.pydata.org/pandas-docs/stable/user_guide/indexing.html#returning-a-view-versus-a-copy\n",
      "  salient_ents[\"Labels\"] = None\n",
      "C:\\Users\\ongai\\AppData\\Local\\Temp\\ipykernel_22456\\2295280352.py:5: SettingWithCopyWarning: \n",
      "A value is trying to be set on a copy of a slice from a DataFrame.\n",
      "Try using .loc[row_indexer,col_indexer] = value instead\n",
      "\n",
      "See the caveats in the documentation: https://pandas.pydata.org/pandas-docs/stable/user_guide/indexing.html#returning-a-view-versus-a-copy\n",
      "  salient_ents[\"Labels\"] = None\n"
     ]
    }
   ],
   "source": [
    "(aapl_sec_ents, aapl_sec_rels) = sec_10k_ner_rel_pipeline('AAPL')"
   ]
  },
  {
   "cell_type": "code",
   "execution_count": 168,
   "metadata": {},
   "outputs": [
    {
     "data": {
      "text/html": [
       "<div>\n",
       "<style scoped>\n",
       "    .dataframe tbody tr th:only-of-type {\n",
       "        vertical-align: middle;\n",
       "    }\n",
       "\n",
       "    .dataframe tbody tr th {\n",
       "        vertical-align: top;\n",
       "    }\n",
       "\n",
       "    .dataframe thead th {\n",
       "        text-align: right;\n",
       "    }\n",
       "</style>\n",
       "<table border=\"1\" class=\"dataframe\">\n",
       "  <thead>\n",
       "    <tr style=\"text-align: right;\">\n",
       "      <th></th>\n",
       "      <th>name</th>\n",
       "      <th>salience</th>\n",
       "      <th>Labels</th>\n",
       "    </tr>\n",
       "  </thead>\n",
       "  <tbody>\n",
       "    <tr>\n",
       "      <th>0</th>\n",
       "      <td>Apple</td>\n",
       "      <td>0.902315</td>\n",
       "      <td>company</td>\n",
       "    </tr>\n",
       "    <tr>\n",
       "      <th>1</th>\n",
       "      <td>MacBook Air</td>\n",
       "      <td>0.895517</td>\n",
       "      <td>product</td>\n",
       "    </tr>\n",
       "    <tr>\n",
       "      <th>2</th>\n",
       "      <td>MacBook Pro</td>\n",
       "      <td>0.867708</td>\n",
       "      <td>product</td>\n",
       "    </tr>\n",
       "    <tr>\n",
       "      <th>3</th>\n",
       "      <td>Apple TV</td>\n",
       "      <td>0.840443</td>\n",
       "      <td>product</td>\n",
       "    </tr>\n",
       "    <tr>\n",
       "      <th>4</th>\n",
       "      <td>AirPods Max</td>\n",
       "      <td>0.831631</td>\n",
       "      <td>None</td>\n",
       "    </tr>\n",
       "  </tbody>\n",
       "</table>\n",
       "</div>"
      ],
      "text/plain": [
       "          name  salience   Labels\n",
       "0        Apple  0.902315  company\n",
       "1  MacBook Air  0.895517  product\n",
       "2  MacBook Pro  0.867708  product\n",
       "3     Apple TV  0.840443  product\n",
       "4  AirPods Max  0.831631     None"
      ]
     },
     "execution_count": 168,
     "metadata": {},
     "output_type": "execute_result"
    }
   ],
   "source": [
    "aapl_sec_ents.head() # more entities extracted compared to wikipedia articles."
   ]
  },
  {
   "cell_type": "code",
   "execution_count": 147,
   "metadata": {},
   "outputs": [
    {
     "data": {
      "text/html": [
       "<div>\n",
       "<style scoped>\n",
       "    .dataframe tbody tr th:only-of-type {\n",
       "        vertical-align: middle;\n",
       "    }\n",
       "\n",
       "    .dataframe tbody tr th {\n",
       "        vertical-align: top;\n",
       "    }\n",
       "\n",
       "    .dataframe thead th {\n",
       "        text-align: right;\n",
       "    }\n",
       "</style>\n",
       "<table border=\"1\" class=\"dataframe\">\n",
       "  <thead>\n",
       "    <tr style=\"text-align: right;\">\n",
       "      <th></th>\n",
       "    </tr>\n",
       "  </thead>\n",
       "  <tbody>\n",
       "  </tbody>\n",
       "</table>\n",
       "</div>"
      ],
      "text/plain": [
       "Empty DataFrame\n",
       "Columns: []\n",
       "Index: []"
      ]
     },
     "execution_count": 147,
     "metadata": {},
     "output_type": "execute_result"
    }
   ],
   "source": [
    "aapl_sec_rels #can't extract relationships from 10-K forms."
   ]
  },
  {
   "cell_type": "code",
   "execution_count": 149,
   "metadata": {},
   "outputs": [
    {
     "name": "stdout",
     "output_type": "stream",
     "text": [
      "Found Company: Apple Inc.\n"
     ]
    },
    {
     "name": "stderr",
     "output_type": "stream",
     "text": [
      "C:\\Users\\ongai\\AppData\\Local\\Temp\\ipykernel_22456\\2295280352.py:5: SettingWithCopyWarning: \n",
      "A value is trying to be set on a copy of a slice from a DataFrame.\n",
      "Try using .loc[row_indexer,col_indexer] = value instead\n",
      "\n",
      "See the caveats in the documentation: https://pandas.pydata.org/pandas-docs/stable/user_guide/indexing.html#returning-a-view-versus-a-copy\n",
      "  salient_ents[\"Labels\"] = None\n"
     ]
    }
   ],
   "source": [
    "(aapl_wiki_ents, aapl_wiki_rels) = wikipedia_ner_rel_pipeline(\"AAPL\")"
   ]
  },
  {
   "cell_type": "code",
   "execution_count": 167,
   "metadata": {},
   "outputs": [
    {
     "data": {
      "text/html": [
       "<div>\n",
       "<style scoped>\n",
       "    .dataframe tbody tr th:only-of-type {\n",
       "        vertical-align: middle;\n",
       "    }\n",
       "\n",
       "    .dataframe tbody tr th {\n",
       "        vertical-align: top;\n",
       "    }\n",
       "\n",
       "    .dataframe thead th {\n",
       "        text-align: right;\n",
       "    }\n",
       "</style>\n",
       "<table border=\"1\" class=\"dataframe\">\n",
       "  <thead>\n",
       "    <tr style=\"text-align: right;\">\n",
       "      <th></th>\n",
       "      <th>name</th>\n",
       "      <th>salience</th>\n",
       "      <th>Labels</th>\n",
       "    </tr>\n",
       "  </thead>\n",
       "  <tbody>\n",
       "    <tr>\n",
       "      <th>0</th>\n",
       "      <td>Jef Raskin</td>\n",
       "      <td>0.957273</td>\n",
       "      <td>person</td>\n",
       "    </tr>\n",
       "    <tr>\n",
       "      <th>1</th>\n",
       "      <td>Ronald Wayne</td>\n",
       "      <td>0.945415</td>\n",
       "      <td>person</td>\n",
       "    </tr>\n",
       "    <tr>\n",
       "      <th>2</th>\n",
       "      <td>Apple</td>\n",
       "      <td>0.924846</td>\n",
       "      <td>company</td>\n",
       "    </tr>\n",
       "    <tr>\n",
       "      <th>3</th>\n",
       "      <td>Steve Jobs</td>\n",
       "      <td>0.899881</td>\n",
       "      <td>person</td>\n",
       "    </tr>\n",
       "    <tr>\n",
       "      <th>4</th>\n",
       "      <td>Jean-Louis Gassée</td>\n",
       "      <td>0.882259</td>\n",
       "      <td>person</td>\n",
       "    </tr>\n",
       "  </tbody>\n",
       "</table>\n",
       "</div>"
      ],
      "text/plain": [
       "                name  salience   Labels\n",
       "0         Jef Raskin  0.957273   person\n",
       "1       Ronald Wayne  0.945415   person\n",
       "2              Apple  0.924846  company\n",
       "3         Steve Jobs  0.899881   person\n",
       "4  Jean-Louis Gassée  0.882259   person"
      ]
     },
     "execution_count": 167,
     "metadata": {},
     "output_type": "execute_result"
    }
   ],
   "source": [
    "aapl_wiki_ents.head() # fewer entities extracted"
   ]
  },
  {
   "cell_type": "code",
   "execution_count": 164,
   "metadata": {},
   "outputs": [
    {
     "data": {
      "text/html": [
       "<div>\n",
       "<style scoped>\n",
       "    .dataframe tbody tr th:only-of-type {\n",
       "        vertical-align: middle;\n",
       "    }\n",
       "\n",
       "    .dataframe tbody tr th {\n",
       "        vertical-align: top;\n",
       "    }\n",
       "\n",
       "    .dataframe thead th {\n",
       "        text-align: right;\n",
       "    }\n",
       "</style>\n",
       "<table border=\"1\" class=\"dataframe\">\n",
       "  <thead>\n",
       "    <tr style=\"text-align: right;\">\n",
       "      <th></th>\n",
       "      <th>entity</th>\n",
       "      <th>property</th>\n",
       "      <th>value</th>\n",
       "      <th>evidence</th>\n",
       "    </tr>\n",
       "  </thead>\n",
       "  <tbody>\n",
       "    <tr>\n",
       "      <th>0</th>\n",
       "      <td>Lens Technology</td>\n",
       "      <td>customers</td>\n",
       "      <td>Apple</td>\n",
       "      <td>Apple announced on August 16, 2016, that Lens ...</td>\n",
       "    </tr>\n",
       "    <tr>\n",
       "      <th>1</th>\n",
       "      <td>Apple</td>\n",
       "      <td>competitors</td>\n",
       "      <td>Microsoft</td>\n",
       "      <td>[119] In May 2010, Apple's market cap exceeded...</td>\n",
       "    </tr>\n",
       "    <tr>\n",
       "      <th>2</th>\n",
       "      <td>Apple</td>\n",
       "      <td>product type</td>\n",
       "      <td>mobile handset</td>\n",
       "      <td>[115] By October 2008, Apple was the third-lar...</td>\n",
       "    </tr>\n",
       "    <tr>\n",
       "      <th>3</th>\n",
       "      <td>Apple Computer Company</td>\n",
       "      <td>founding date</td>\n",
       "      <td>1976-04-01</td>\n",
       "      <td>Apple Computer Company was founded on April 1,...</td>\n",
       "    </tr>\n",
       "    <tr>\n",
       "      <th>4</th>\n",
       "      <td>World Wide Fund for Nature</td>\n",
       "      <td>partnership</td>\n",
       "      <td>Apple</td>\n",
       "      <td>On April 14, 2016, Apple and the World Wide Fu...</td>\n",
       "    </tr>\n",
       "  </tbody>\n",
       "</table>\n",
       "</div>"
      ],
      "text/plain": [
       "                       entity       property           value                                           evidence\n",
       "0             Lens Technology      customers           Apple  Apple announced on August 16, 2016, that Lens ...\n",
       "1                       Apple    competitors       Microsoft  [119] In May 2010, Apple's market cap exceeded...\n",
       "2                       Apple   product type  mobile handset  [115] By October 2008, Apple was the third-lar...\n",
       "3      Apple Computer Company  founding date      1976-04-01  Apple Computer Company was founded on April 1,...\n",
       "4  World Wide Fund for Nature    partnership           Apple  On April 14, 2016, Apple and the World Wide Fu..."
      ]
     },
     "execution_count": 164,
     "metadata": {},
     "output_type": "execute_result"
    }
   ],
   "source": [
    "aapl_wiki_rels.head()"
   ]
  },
  {
   "cell_type": "code",
   "execution_count": 154,
   "metadata": {},
   "outputs": [
    {
     "data": {
      "text/plain": [
       "array(['customers', 'competitors', 'product type', 'founding date',\n",
       "       'partnership', 'work relationship', 'organization locations',\n",
       "       'headquarters', 'number of employees', 'employee or member of',\n",
       "       'position held', 'acquired by', 'founded by', 'date of death',\n",
       "       'suppliers', 'political affiliation', 'contributed to', 'brands',\n",
       "       'industry', 'parent organization', 'yearly revenue', 'subsidiary',\n",
       "       'cause of death', 'skilled at', 'interested in',\n",
       "       'chief executive officer', 'all names', 'gender'], dtype=object)"
      ]
     },
     "execution_count": 154,
     "metadata": {},
     "output_type": "execute_result"
    }
   ],
   "source": [
    "aapl_wiki_rels[\"property\"].unique()"
   ]
  },
  {
   "cell_type": "code",
   "execution_count": 172,
   "metadata": {},
   "outputs": [
    {
     "data": {
      "text/html": [
       "<div>\n",
       "<style scoped>\n",
       "    .dataframe tbody tr th:only-of-type {\n",
       "        vertical-align: middle;\n",
       "    }\n",
       "\n",
       "    .dataframe tbody tr th {\n",
       "        vertical-align: top;\n",
       "    }\n",
       "\n",
       "    .dataframe thead th {\n",
       "        text-align: right;\n",
       "    }\n",
       "</style>\n",
       "<table border=\"1\" class=\"dataframe\">\n",
       "  <thead>\n",
       "    <tr style=\"text-align: right;\">\n",
       "      <th></th>\n",
       "      <th>entity</th>\n",
       "      <th>property</th>\n",
       "      <th>value</th>\n",
       "      <th>evidence</th>\n",
       "    </tr>\n",
       "  </thead>\n",
       "  <tbody>\n",
       "    <tr>\n",
       "      <th>2</th>\n",
       "      <td>Apple</td>\n",
       "      <td>product type</td>\n",
       "      <td>mobile handset</td>\n",
       "      <td>[115] By October 2008, Apple was the third-lar...</td>\n",
       "    </tr>\n",
       "    <tr>\n",
       "      <th>6</th>\n",
       "      <td>Lens Technology</td>\n",
       "      <td>product type</td>\n",
       "      <td>glass</td>\n",
       "      <td>Apple announced on August 16, 2016, that Lens ...</td>\n",
       "    </tr>\n",
       "    <tr>\n",
       "      <th>138</th>\n",
       "      <td>Apple Inc.</td>\n",
       "      <td>product type</td>\n",
       "      <td>solar energy</td>\n",
       "      <td>Apple Energy, LLC is a wholly-owned subsidiary...</td>\n",
       "    </tr>\n",
       "    <tr>\n",
       "      <th>147</th>\n",
       "      <td>Apple Energy, LLC</td>\n",
       "      <td>product type</td>\n",
       "      <td>solar energy</td>\n",
       "      <td>Apple Energy, LLC is a wholly-owned subsidiary...</td>\n",
       "    </tr>\n",
       "    <tr>\n",
       "      <th>160</th>\n",
       "      <td>Emagic</td>\n",
       "      <td>product type</td>\n",
       "      <td>computer</td>\n",
       "      <td>The purchase of Emagic made Apple the first co...</td>\n",
       "    </tr>\n",
       "    <tr>\n",
       "      <th>165</th>\n",
       "      <td>Apple</td>\n",
       "      <td>product type</td>\n",
       "      <td>iPad accessories</td>\n",
       "      <td>[1] Apple sells several iPad accessories, incl...</td>\n",
       "    </tr>\n",
       "  </tbody>\n",
       "</table>\n",
       "</div>"
      ],
      "text/plain": [
       "                entity      property             value                                           evidence\n",
       "2                Apple  product type    mobile handset  [115] By October 2008, Apple was the third-lar...\n",
       "6      Lens Technology  product type             glass  Apple announced on August 16, 2016, that Lens ...\n",
       "138         Apple Inc.  product type      solar energy  Apple Energy, LLC is a wholly-owned subsidiary...\n",
       "147  Apple Energy, LLC  product type      solar energy  Apple Energy, LLC is a wholly-owned subsidiary...\n",
       "160             Emagic  product type          computer  The purchase of Emagic made Apple the first co...\n",
       "165              Apple  product type  iPad accessories  [1] Apple sells several iPad accessories, incl..."
      ]
     },
     "execution_count": 172,
     "metadata": {},
     "output_type": "execute_result"
    }
   ],
   "source": [
    "aapl_wiki_rels[aapl_wiki_rels[\"property\"] == \"product type\"]"
   ]
  },
  {
   "cell_type": "code",
   "execution_count": 170,
   "metadata": {},
   "outputs": [
    {
     "data": {
      "text/html": [
       "<div>\n",
       "<style scoped>\n",
       "    .dataframe tbody tr th:only-of-type {\n",
       "        vertical-align: middle;\n",
       "    }\n",
       "\n",
       "    .dataframe tbody tr th {\n",
       "        vertical-align: top;\n",
       "    }\n",
       "\n",
       "    .dataframe thead th {\n",
       "        text-align: right;\n",
       "    }\n",
       "</style>\n",
       "<table border=\"1\" class=\"dataframe\">\n",
       "  <thead>\n",
       "    <tr style=\"text-align: right;\">\n",
       "      <th></th>\n",
       "      <th>entity</th>\n",
       "      <th>property</th>\n",
       "      <th>value</th>\n",
       "      <th>evidence</th>\n",
       "    </tr>\n",
       "  </thead>\n",
       "  <tbody>\n",
       "    <tr>\n",
       "      <th>7</th>\n",
       "      <td>Zhengzhou Technology Park</td>\n",
       "      <td>organization locations</td>\n",
       "      <td>Zhengzhou</td>\n",
       "      <td>[384] Zhengzhou Technology Park alone employs ...</td>\n",
       "    </tr>\n",
       "    <tr>\n",
       "      <th>26</th>\n",
       "      <td>Apple</td>\n",
       "      <td>organization locations</td>\n",
       "      <td>Cupertino</td>\n",
       "      <td>Apple Inc. is an American multinational corpor...</td>\n",
       "    </tr>\n",
       "    <tr>\n",
       "      <th>29</th>\n",
       "      <td>Apple</td>\n",
       "      <td>organization locations</td>\n",
       "      <td>Cork</td>\n",
       "      <td>[274] Apple's international sales and distribu...</td>\n",
       "    </tr>\n",
       "    <tr>\n",
       "      <th>126</th>\n",
       "      <td>Apple</td>\n",
       "      <td>organization locations</td>\n",
       "      <td>Austin</td>\n",
       "      <td>Apple has two campuses near Austin, Texas: a 2...</td>\n",
       "    </tr>\n",
       "    <tr>\n",
       "      <th>170</th>\n",
       "      <td>Apple</td>\n",
       "      <td>organization locations</td>\n",
       "      <td>Texas</td>\n",
       "      <td>Apple has two campuses near Austin, Texas: a 2...</td>\n",
       "    </tr>\n",
       "    <tr>\n",
       "      <th>172</th>\n",
       "      <td>Apple</td>\n",
       "      <td>organization locations</td>\n",
       "      <td>California</td>\n",
       "      <td>Apple Inc. is an American multinational corpor...</td>\n",
       "    </tr>\n",
       "  </tbody>\n",
       "</table>\n",
       "</div>"
      ],
      "text/plain": [
       "                        entity                property       value                                           evidence\n",
       "7    Zhengzhou Technology Park  organization locations   Zhengzhou  [384] Zhengzhou Technology Park alone employs ...\n",
       "26                       Apple  organization locations   Cupertino  Apple Inc. is an American multinational corpor...\n",
       "29                       Apple  organization locations        Cork  [274] Apple's international sales and distribu...\n",
       "126                      Apple  organization locations      Austin  Apple has two campuses near Austin, Texas: a 2...\n",
       "170                      Apple  organization locations       Texas  Apple has two campuses near Austin, Texas: a 2...\n",
       "172                      Apple  organization locations  California  Apple Inc. is an American multinational corpor..."
      ]
     },
     "execution_count": 170,
     "metadata": {},
     "output_type": "execute_result"
    }
   ],
   "source": [
    "aapl_wiki_rels[aapl_wiki_rels[\"property\"] == \"organization locations\"]"
   ]
  },
  {
   "cell_type": "code",
   "execution_count": 152,
   "metadata": {},
   "outputs": [
    {
     "data": {
      "text/html": [
       "<div>\n",
       "<style scoped>\n",
       "    .dataframe tbody tr th:only-of-type {\n",
       "        vertical-align: middle;\n",
       "    }\n",
       "\n",
       "    .dataframe tbody tr th {\n",
       "        vertical-align: top;\n",
       "    }\n",
       "\n",
       "    .dataframe thead th {\n",
       "        text-align: right;\n",
       "    }\n",
       "</style>\n",
       "<table border=\"1\" class=\"dataframe\">\n",
       "  <thead>\n",
       "    <tr style=\"text-align: right;\">\n",
       "      <th></th>\n",
       "      <th>entity</th>\n",
       "      <th>property</th>\n",
       "      <th>value</th>\n",
       "      <th>evidence</th>\n",
       "    </tr>\n",
       "  </thead>\n",
       "  <tbody>\n",
       "    <tr>\n",
       "      <th>8</th>\n",
       "      <td>Zhengzhou Technology Park</td>\n",
       "      <td>headquarters</td>\n",
       "      <td>Zhengzhou</td>\n",
       "      <td>[384] Zhengzhou Technology Park alone employs ...</td>\n",
       "    </tr>\n",
       "    <tr>\n",
       "      <th>27</th>\n",
       "      <td>Apple</td>\n",
       "      <td>headquarters</td>\n",
       "      <td>Cupertino</td>\n",
       "      <td>Apple Inc. is an American multinational corpor...</td>\n",
       "    </tr>\n",
       "    <tr>\n",
       "      <th>173</th>\n",
       "      <td>Apple</td>\n",
       "      <td>headquarters</td>\n",
       "      <td>California</td>\n",
       "      <td>Apple Inc. is an American multinational corpor...</td>\n",
       "    </tr>\n",
       "  </tbody>\n",
       "</table>\n",
       "</div>"
      ],
      "text/plain": [
       "                        entity      property       value                                           evidence\n",
       "8    Zhengzhou Technology Park  headquarters   Zhengzhou  [384] Zhengzhou Technology Park alone employs ...\n",
       "27                       Apple  headquarters   Cupertino  Apple Inc. is an American multinational corpor...\n",
       "173                      Apple  headquarters  California  Apple Inc. is an American multinational corpor..."
      ]
     },
     "execution_count": 152,
     "metadata": {},
     "output_type": "execute_result"
    }
   ],
   "source": [
    "aapl_wiki_rels[aapl_wiki_rels[\"property\"] == \"headquarters\"]"
   ]
  },
  {
   "cell_type": "code",
   "execution_count": 153,
   "metadata": {},
   "outputs": [
    {
     "data": {
      "text/html": [
       "<div>\n",
       "<style scoped>\n",
       "    .dataframe tbody tr th:only-of-type {\n",
       "        vertical-align: middle;\n",
       "    }\n",
       "\n",
       "    .dataframe tbody tr th {\n",
       "        vertical-align: top;\n",
       "    }\n",
       "\n",
       "    .dataframe thead th {\n",
       "        text-align: right;\n",
       "    }\n",
       "</style>\n",
       "<table border=\"1\" class=\"dataframe\">\n",
       "  <thead>\n",
       "    <tr style=\"text-align: right;\">\n",
       "      <th></th>\n",
       "      <th>entity</th>\n",
       "      <th>property</th>\n",
       "      <th>value</th>\n",
       "      <th>evidence</th>\n",
       "    </tr>\n",
       "  </thead>\n",
       "  <tbody>\n",
       "    <tr>\n",
       "      <th>99</th>\n",
       "      <td>Apple</td>\n",
       "      <td>industry</td>\n",
       "      <td>accounting</td>\n",
       "      <td>In the late 1980s, Apple was a pioneer of an a...</td>\n",
       "    </tr>\n",
       "    <tr>\n",
       "      <th>111</th>\n",
       "      <td>Apple</td>\n",
       "      <td>industry</td>\n",
       "      <td>technology</td>\n",
       "      <td>Apple Inc. is an American multinational corpor...</td>\n",
       "    </tr>\n",
       "  </tbody>\n",
       "</table>\n",
       "</div>"
      ],
      "text/plain": [
       "    entity  property       value                                           evidence\n",
       "99   Apple  industry  accounting  In the late 1980s, Apple was a pioneer of an a...\n",
       "111  Apple  industry  technology  Apple Inc. is an American multinational corpor..."
      ]
     },
     "execution_count": 153,
     "metadata": {},
     "output_type": "execute_result"
    }
   ],
   "source": [
    "aapl_wiki_rels[aapl_wiki_rels[\"property\"] == \"industry\"]"
   ]
  },
  {
   "cell_type": "code",
   "execution_count": 155,
   "metadata": {},
   "outputs": [
    {
     "data": {
      "text/html": [
       "<div>\n",
       "<style scoped>\n",
       "    .dataframe tbody tr th:only-of-type {\n",
       "        vertical-align: middle;\n",
       "    }\n",
       "\n",
       "    .dataframe tbody tr th {\n",
       "        vertical-align: top;\n",
       "    }\n",
       "\n",
       "    .dataframe thead th {\n",
       "        text-align: right;\n",
       "    }\n",
       "</style>\n",
       "<table border=\"1\" class=\"dataframe\">\n",
       "  <thead>\n",
       "    <tr style=\"text-align: right;\">\n",
       "      <th></th>\n",
       "      <th>entity</th>\n",
       "      <th>property</th>\n",
       "      <th>value</th>\n",
       "      <th>evidence</th>\n",
       "    </tr>\n",
       "  </thead>\n",
       "  <tbody>\n",
       "    <tr>\n",
       "      <th>108</th>\n",
       "      <td>Apple</td>\n",
       "      <td>yearly revenue</td>\n",
       "      <td>383,290,000,000 USD</td>\n",
       "      <td>Apple is the largest technology company by rev...</td>\n",
       "    </tr>\n",
       "  </tbody>\n",
       "</table>\n",
       "</div>"
      ],
      "text/plain": [
       "    entity        property                value                                           evidence\n",
       "108  Apple  yearly revenue  383,290,000,000 USD  Apple is the largest technology company by rev..."
      ]
     },
     "execution_count": 155,
     "metadata": {},
     "output_type": "execute_result"
    }
   ],
   "source": [
    "aapl_wiki_rels[aapl_wiki_rels[\"property\"] == \"yearly revenue\"]"
   ]
  },
  {
   "cell_type": "code",
   "execution_count": 165,
   "metadata": {},
   "outputs": [
    {
     "data": {
      "text/html": [
       "<div>\n",
       "<style scoped>\n",
       "    .dataframe tbody tr th:only-of-type {\n",
       "        vertical-align: middle;\n",
       "    }\n",
       "\n",
       "    .dataframe tbody tr th {\n",
       "        vertical-align: top;\n",
       "    }\n",
       "\n",
       "    .dataframe thead th {\n",
       "        text-align: right;\n",
       "    }\n",
       "</style>\n",
       "<table border=\"1\" class=\"dataframe\">\n",
       "  <thead>\n",
       "    <tr style=\"text-align: right;\">\n",
       "      <th></th>\n",
       "      <th>entity</th>\n",
       "      <th>property</th>\n",
       "      <th>value</th>\n",
       "      <th>evidence</th>\n",
       "    </tr>\n",
       "  </thead>\n",
       "  <tbody>\n",
       "    <tr>\n",
       "      <th>37</th>\n",
       "      <td>Apple</td>\n",
       "      <td>suppliers</td>\n",
       "      <td>Lens Technology</td>\n",
       "      <td>Apple announced on August 16, 2016, that Lens ...</td>\n",
       "    </tr>\n",
       "    <tr>\n",
       "      <th>133</th>\n",
       "      <td>Apple</td>\n",
       "      <td>suppliers</td>\n",
       "      <td>NeXTSTEP</td>\n",
       "      <td>[69] Only weeks away from bankruptcy,[70] Appl...</td>\n",
       "    </tr>\n",
       "    <tr>\n",
       "      <th>156</th>\n",
       "      <td>Apple</td>\n",
       "      <td>suppliers</td>\n",
       "      <td>Lens Technology</td>\n",
       "      <td>Apple announced on August 16, 2016, that Lens ...</td>\n",
       "    </tr>\n",
       "  </tbody>\n",
       "</table>\n",
       "</div>"
      ],
      "text/plain": [
       "    entity   property            value                                           evidence\n",
       "37   Apple  suppliers  Lens Technology  Apple announced on August 16, 2016, that Lens ...\n",
       "133  Apple  suppliers         NeXTSTEP  [69] Only weeks away from bankruptcy,[70] Appl...\n",
       "156  Apple  suppliers  Lens Technology  Apple announced on August 16, 2016, that Lens ..."
      ]
     },
     "execution_count": 165,
     "metadata": {},
     "output_type": "execute_result"
    }
   ],
   "source": [
    "aapl_wiki_rels[aapl_wiki_rels[\"property\"] == \"suppliers\"]"
   ]
  },
  {
   "cell_type": "code",
   "execution_count": 166,
   "metadata": {},
   "outputs": [
    {
     "data": {
      "text/html": [
       "<div>\n",
       "<style scoped>\n",
       "    .dataframe tbody tr th:only-of-type {\n",
       "        vertical-align: middle;\n",
       "    }\n",
       "\n",
       "    .dataframe tbody tr th {\n",
       "        vertical-align: top;\n",
       "    }\n",
       "\n",
       "    .dataframe thead th {\n",
       "        text-align: right;\n",
       "    }\n",
       "</style>\n",
       "<table border=\"1\" class=\"dataframe\">\n",
       "  <thead>\n",
       "    <tr style=\"text-align: right;\">\n",
       "      <th></th>\n",
       "      <th>entity</th>\n",
       "      <th>property</th>\n",
       "      <th>value</th>\n",
       "      <th>evidence</th>\n",
       "    </tr>\n",
       "  </thead>\n",
       "  <tbody>\n",
       "    <tr>\n",
       "      <th>1</th>\n",
       "      <td>Apple</td>\n",
       "      <td>competitors</td>\n",
       "      <td>Microsoft</td>\n",
       "      <td>[119] In May 2010, Apple's market cap exceeded...</td>\n",
       "    </tr>\n",
       "    <tr>\n",
       "      <th>47</th>\n",
       "      <td>Microsoft</td>\n",
       "      <td>competitors</td>\n",
       "      <td>Apple</td>\n",
       "      <td>[119] In May 2010, Apple's market cap exceeded...</td>\n",
       "    </tr>\n",
       "    <tr>\n",
       "      <th>50</th>\n",
       "      <td>VisiCalc</td>\n",
       "      <td>competitors</td>\n",
       "      <td>Atari</td>\n",
       "      <td>[26] VisiCalc created a business market for th...</td>\n",
       "    </tr>\n",
       "    <tr>\n",
       "      <th>51</th>\n",
       "      <td>VisiCalc</td>\n",
       "      <td>competitors</td>\n",
       "      <td>CBM</td>\n",
       "      <td>[26] VisiCalc created a business market for th...</td>\n",
       "    </tr>\n",
       "    <tr>\n",
       "      <th>88</th>\n",
       "      <td>Atari</td>\n",
       "      <td>competitors</td>\n",
       "      <td>VisiCalc</td>\n",
       "      <td>[26] VisiCalc created a business market for th...</td>\n",
       "    </tr>\n",
       "    <tr>\n",
       "      <th>92</th>\n",
       "      <td>Gassée</td>\n",
       "      <td>competitors</td>\n",
       "      <td>Be Inc.</td>\n",
       "      <td>[52] Gassée left the company later that year t...</td>\n",
       "    </tr>\n",
       "    <tr>\n",
       "      <th>100</th>\n",
       "      <td>CBM</td>\n",
       "      <td>competitors</td>\n",
       "      <td>VisiCalc</td>\n",
       "      <td>[26] VisiCalc created a business market for th...</td>\n",
       "    </tr>\n",
       "    <tr>\n",
       "      <th>161</th>\n",
       "      <td>Be Inc.</td>\n",
       "      <td>competitors</td>\n",
       "      <td>Gassée</td>\n",
       "      <td>[52] Gassée left the company later that year t...</td>\n",
       "    </tr>\n",
       "  </tbody>\n",
       "</table>\n",
       "</div>"
      ],
      "text/plain": [
       "        entity     property      value                                           evidence\n",
       "1        Apple  competitors  Microsoft  [119] In May 2010, Apple's market cap exceeded...\n",
       "47   Microsoft  competitors      Apple  [119] In May 2010, Apple's market cap exceeded...\n",
       "50    VisiCalc  competitors      Atari  [26] VisiCalc created a business market for th...\n",
       "51    VisiCalc  competitors        CBM  [26] VisiCalc created a business market for th...\n",
       "88       Atari  competitors   VisiCalc  [26] VisiCalc created a business market for th...\n",
       "92      Gassée  competitors    Be Inc.  [52] Gassée left the company later that year t...\n",
       "100        CBM  competitors   VisiCalc  [26] VisiCalc created a business market for th...\n",
       "161    Be Inc.  competitors     Gassée  [52] Gassée left the company later that year t..."
      ]
     },
     "execution_count": 166,
     "metadata": {},
     "output_type": "execute_result"
    }
   ],
   "source": [
    "aapl_wiki_rels[aapl_wiki_rels[\"property\"] == \"competitors\"]"
   ]
  },
  {
   "cell_type": "markdown",
   "metadata": {},
   "source": [
    "## Create JSON Node and Relationship Objects"
   ]
  },
  {
   "cell_type": "code",
   "execution_count": 4,
   "metadata": {},
   "outputs": [],
   "source": [
    "def create_json_schema():\n",
    "    json_export = {\n",
    "        \"nodes\":{\n",
    "            \"Company\":[\n",
    "                # company nodes here\n",
    "            ],\n",
    "            \"Country\":[\n",
    "                # country nodes here\n",
    "            ],\n",
    "            \"Industry\":[\n",
    "                # industry nodes here\n",
    "            ],\n",
    "            \"Region\":[\n",
    "                # region nodes here\n",
    "            ]},\n",
    "        \"relationships\":{\n",
    "            \"PARTNERS_WITH\":[\n",
    "                # (COMPANY cid1)-[:PARTNERS_WITH]->(COMPANY cid2)\n",
    "            ],\n",
    "            \"COMPETES_WITH\":[\n",
    "                # (COMPANY cid1)-[:COMPETES_WITH]->(COMPANY cid2)\n",
    "            ],\n",
    "            \"SUBSIDIARY_OF\":[\n",
    "                # (COMPANY cid1)-[:SUBSIDIARY_OF]->(COMPANY cid2)\n",
    "            ],\n",
    "\n",
    "            \"HEADQUARTERS_IN\":[\n",
    "                # (COMPANY cid)-[:HEADQUARTERS_IN]->(COUNTRY ctyid)\n",
    "            ],\n",
    "\n",
    "            \"OPERATES_IN_COUNTRY\":[\n",
    "                # (COMPANY cid)-[:OPERATES_IN_COUNTRY]->(COUNTRY ctyid)\n",
    "            ],\n",
    "\n",
    "            \"IS_INVOLVED_IN\":[\n",
    "                # (COMPANY cid)-[:IS_INVOLVED_IN]->(INDUSTRY iid)\n",
    "            ],\n",
    "\n",
    "            \"IS_IN\":[\n",
    "                # (COUNTRY ctyid)-[:IS_IN]->(REGION rid)\n",
    "            ],\n",
    "\n",
    "            \"OPERATES_IN_REGION\":[\n",
    "                # (COMPANY cid)-[:OPERATES_IN_REGION]->(REGION rid)\n",
    "            ]\n",
    "    }}\n",
    "\n",
    "\n",
    "    return json_export\n",
    "\n"
   ]
  },
  {
   "cell_type": "code",
   "execution_count": null,
   "metadata": {},
   "outputs": [],
   "source": [
    "def create_company_node(name,ticker_code = None,founded_year = None):\n",
    "    c_node = {}\n",
    "\n",
    "    c_node[\"name\"] = name\n",
    "    c_node[\"ticker_code\"] = ticker_code\n",
    "    c_node[\"founded_year\"] = founded_year\n",
    "\n",
    "    return c_node"
   ]
  },
  {
   "cell_type": "code",
   "execution_count": null,
   "metadata": {},
   "outputs": [],
   "source": [
    "dbpath = 'data/ecmdatabase.db'\n",
    "con = sqlite3.connect(f\"file:{dbpath}?mode=ro\", uri=True)\n",
    "with con:\n",
    "    result = con.execute(\"SELECT name, stock_code from companies;\")\n",
    "    records = result.fetchall()\n",
    "    for record in records:\n",
    "        company_name = records[0][1]\n",
    "        tsla_item1 = records[0][2]"
   ]
  },
  {
   "cell_type": "markdown",
   "metadata": {},
   "source": [
    "## Spacy Node and Relationship Objects"
   ]
  },
  {
   "cell_type": "code",
   "execution_count": null,
   "metadata": {},
   "outputs": [],
   "source": [
    "\n",
    "\n",
    "# Load spaCy English language model\n",
    "nlp = spacy.load(\"en_core_web_sm\")\n",
    "\n",
    "doc = nlp(tsla_item1)\n",
    "\n",
    "# Extract entities and relations\n",
    "nodes = defaultdict(set)  # Use a set to avoid duplicates\n",
    "edges = []\n",
    "\n",
    "# Define a function to identify non-company keywords\n",
    "def is_non_company(entity_text):\n",
    "    # Keywords or patterns that indicate the entity is not a company\n",
    "    non_company_keywords = [\n",
    "        'program', 'act', 'regulation', 'department', 'agency', 'council',\n",
    "        'commission', 'service', 'policy', 'initiative', 'standard', \n",
    "        'incentive', 'college', 'school', 'university', 'authority', 'board',\n",
    "        'order', 'capital', 'vehicle', 'development', 'internship', 'apprenticeship',\n",
    "        'system', 'training', 'product', 'directive', 'committee', 'resource',\n",
    "        'partnership', 'technology', 'platform'\n",
    "    ]\n",
    "    \n",
    "    # If the entity contains any of these keywords, it is not a company\n",
    "    return any(re.search(r'\\b' + keyword + r'\\b', entity_text.lower()) for keyword in non_company_keywords)\n",
    "\n",
    "# Improved function to categorize and extract entities\n",
    "def categorize_entities(entity):\n",
    "    if entity.label_ == 'ORG':\n",
    "        # Check if it's not a company\n",
    "        if is_non_company(entity.text):\n",
    "            return  # Exclude if it's not a company\n",
    "        nodes['Company'].add(entity.text)\n",
    "    elif entity.label_ == 'PRODUCT':\n",
    "        nodes['Product'].add(entity.text)\n",
    "    elif entity.label_ == 'GPE':\n",
    "        nodes['Country'].add(entity.text)\n",
    "    elif entity.label_ in ['NORP', 'INDUSTRY']:\n",
    "        nodes['Industry'].add(entity.text)\n",
    "\n",
    "# Extract named entities\n",
    "for ent in doc.ents:\n",
    "    categorize_entities(ent)\n",
    "\n",
    "# Synonyms to match different verbs for edge detection\n",
    "target_phrases = {\n",
    "    'SUPPLIES': [\"provide products\", \"manufactures products\", \"delivers goods\", \"offers items\", \"distributes products\"],\n",
    "    'LOCATED_IN': [\"headquartered in\", \"based in\", \"located in\", \"situated in\"],\n",
    "    'RIVALS_WITH': [\"competes with\", \"is a competitor of\", \"challenges\", \"rivals\"],\n",
    "    'ALLIES_WITH': [\"partners with\", \"collaborates with\", \"is allied with\", \"cooperates with\"]\n",
    "}\n",
    "\n",
    "# Extract relationships using semantic similarity\n",
    "for sent in doc.sents:\n",
    "    sent_vector = sent.vector  # Get the vector of the current sentence\n",
    "    for relationship, phrases in target_phrases.items():\n",
    "        for phrase in phrases:\n",
    "            phrase_vector = nlp(phrase).vector  # Get the vector for the target phrase\n",
    "            similarity = sent.similarity(nlp(phrase))  # Compute similarity\n",
    "            if similarity > 0.7:  # Threshold for determining a match\n",
    "                # Check if entities in the sentence can be matched to the known nodes\n",
    "                for entity in sent.ents:\n",
    "                    if entity.label_ == \"ORG\" and entity.text in nodes[\"Company\"]:\n",
    "                        target_entity = None\n",
    "                        if relationship == \"SUPPLIES\":\n",
    "                            target_entity = [ent.text for ent in sent.ents if ent.label_ == \"PRODUCT\"]\n",
    "                        elif relationship == \"LOCATED_IN\":\n",
    "                            target_entity = [ent.text for ent in sent.ents if ent.label_ == \"GPE\"]\n",
    "                        elif relationship in [\"RIVALS_WITH\", \"ALLIES_WITH\"]:\n",
    "                            target_entity = [ent.text for ent in sent.ents if ent.label_ == \"ORG\" and ent.text != entity.text]\n",
    "                        \n",
    "                        if target_entity:\n",
    "                            for target in target_entity:\n",
    "                                edges.append((entity.text, relationship, target))\n",
    "\n",
    "\n",
    "\n",
    "# Convert nodes to list to remove duplicates and maintain order\n",
    "nodes = {k: list(v) for k, v in nodes.items()}\n",
    "\n",
    "# Output nodes and edges\n",
    "print(\"Nodes:\")\n",
    "for node_type, node_list in nodes.items():\n",
    "    print(f\"{node_type}: {node_list}\")\n",
    "\n",
    "print(\"\\nEdges:\")\n",
    "for edge in edges:\n",
    "    print(f\"{edge[0]} -[{edge[1]}]-> {edge[2]}\")\n"
   ]
  },
  {
   "cell_type": "code",
   "execution_count": null,
   "metadata": {},
   "outputs": [],
   "source": [
    "for ent in doc.ents:\n",
    "    print(ent.text, ent.label_)"
   ]
  },
  {
   "cell_type": "markdown",
   "metadata": {},
   "source": [
    "## NER model evaluation\n"
   ]
  },
  {
   "cell_type": "code",
   "execution_count": 131,
   "metadata": {},
   "outputs": [
    {
     "name": "stdout",
     "output_type": "stream",
     "text": [
      "{'up to seven': ('CARDINAL', 1.0), 'Powertrain Our': ('ORG', 1.0), 'Human Resource Partners': ('ORG', 1.0), 'Human Capital Resources A': ('ORG', 1.0), 'Marketing Historically': ('PERSON', 1.0), 'North America': ('LOC', 1.0), 'NHTSA': ('ORG', 1.0), 'Fremont Factory': ('FAC', 1.0), 'Automobile Manufacturer': ('ORG', 1.0), 'March 2023': ('DATE', 1.0), 'Human Capital Resources': ('ORG', 1.0), 'Cybertruck': ('PERSON', 1.0), 'AI': ('ORG', 1.0), 'ESG': ('ORG', 1.0), 'NACS': ('ORG', 1.0), '2023': ('DATE', 1.0), 'Vehicle Control': ('ORG', 1.0), 'Model Y': ('PERSON', 0.5), 'the Environmental Protection Agency': ('ORG', 1.0), '2032': ('DATE', 1.0), 'between 6% and 50%': ('PERCENT', 1.0), 'Technician Trainees': ('ORG', 1.0), '2022': ('DATE', 1.0), 'Germany': ('GPE', 1.0), 'Monterrey': ('GPE', 1.0), 'United Kingdom': ('GPE', 1.0), 'Megapack': ('PERSON', 0.5), 'Warranty Automotive Service': ('ORG', 1.0), 'Model X': ('PERSON', 0.5), 'Mexico': ('GPE', 1.0), 'Automotive Purchase Financing and Leases': ('ORG', 1.0), 'SEC': ('ORG', 1.0), 'the Organization for Economic Co-operation and': ('ORG', 1.0), 'December 31, 2023': ('DATE', 1.0), '6,000': ('CARDINAL', 1.0), 'Reno': ('GPE', 1.0), 'Solar Roof': ('PRODUCT', 1.0), 'Tesla Apprenticeships': ('PERSON', 1.0), 'U.S.': ('GPE', 1.0), 'hundreds': ('CARDINAL', 1.0), 'the United Nations Economic Commission for Europe': ('ORG', 1.0), 'the spring of 2024': ('DATE', 1.0), 'Tesla Mobile Service': ('ORG', 1.0), 'thousands': ('CARDINAL', 1.0), 'today': ('DATE', 1.0), '8211;&#8239;Launched': ('MONEY', 1.0), 'Self-Driving Vehicles Generally': ('ORG', 1.0), 'Autopilot': ('ORG', 1.0), 'over 1,900': ('CARDINAL', 1.0), 'FSD': ('ORG', 1.0), 'two': ('CARDINAL', 1.0), 'European Defence Ministries': ('ORG', 1.0), '#8239;The Military Fellowship and Transition Programs': ('MONEY', 1.0), 'between one to four years': ('CARDINAL', 1.0), 'Northern California': ('LOC', 1.0), 'Hong Kong': ('GPE', 1.0), 'Governmental Programs': ('ORG', 1.0), 'Automotive Regulatory Credits': ('ORG', 1.0), 'the North American Charging Standard': ('ORG', 1.0), 'November 2023': ('DATE', 1.0), 'Europe': ('LOC', 1.0), 'Tesla': ('ORG', 0.9), 'this Annual Report on Form 10-K': ('EVENT', 1.0), 'Vehicle Limited Warranties and Extended Service': ('ORG', 1.0), 'Intellectual Property': ('PERSON', 1.0), 'Early Warning Reporting': ('WORK_OF_ART', 1.0), 'Supercharging': ('PERSON', 1.0), 'Gigafactory Nevada': ('GPE', 0.5), 'New Car Assessment Program': ('ORG', 1.0), 'first': ('ORDINAL', 1.0), 'Heroes': ('GPE', 1.0), '8239': ('MONEY', 1.0), '2021': ('DATE', 1.0), 'Tesla Superchargers': ('ORG', 1.0), 'kilowatt-hour': ('TIME', 1.0), 'Take Charge': ('ORG', 1.0), 'Significant Accounting Policies': ('ORG', 1.0), ': &#8226': ('ORG', 1.0), 'Gigafactory': ('GPE', 1.0), 'Destination Chargers': ('PERSON', 1.0), '43%': ('PERCENT', 1.0), 'Supercharger': ('PERSON', 1.0), 'Asia': ('LOC', 1.0), 'California': ('GPE', 1.0), 'this Annual Report on Form 10-K.': ('EVENT', 1.0), 'Automotive Direct Sales Our': ('ORG', 1.0), 'Board of Directors': ('ORG', 1.0), 'the Internal Revenue Code': ('ORG', 1.0), 'Shanghai': ('GPE', 1.0), 'Our Products and Services Automotive': ('ORG', 1.0), 'the &#8220;EPA&#8221': ('ORG', 1.0), 'Energy Generation and Storage Energy Storage Systems': ('ORG', 1.0), 'Annually': ('DATE', 1.0), 'Gigafactory Texas': ('FAC', 1.0), '2': ('CARDINAL', 1.0), 'Energy Generation and Storage Energy Storage Products': ('ORG', 1.0), 'Gigafactory Berlin-Brandenburg': ('GPE', 1.0), 'nearly two-thirds': ('CARDINAL', 1.0), 'over 350': ('CARDINAL', 1.0), 'Australia': ('GPE', 1.0), 'this Annual Report on Form 10-K. Pursuant': ('EVENT', 1.0), 'Tesla START': ('PERSON', 1.0), 'Theft Prevention Act': ('ORG', 1.0), '65%': ('PERCENT', 1.0), 'the first day': ('DATE', 1.0), '48': ('CARDINAL', 1.0), 'Incentives Inflation Reduction Act': ('ORG', 1.0), 'FMVSS': ('ORG', 1.0), 'more than five years': ('DATE', 1.0), 'Manufacturing Development Program &': ('ORG', 1.0), 'Financial Services': ('ORG', 1.0), 'hours': ('TIME', 1.0), '35%': ('PERCENT', 1.0), 'the Model 3': ('PRODUCT', 1.0), 'December 31, 2022': ('DATE', 1.0), 'START': ('ORG', 1.0), 'ir.tesla.com': ('ORG', 1.0), 'Superchargers': ('NORP', 1.0), 'Regulations Vehicle Safety and Testing In': ('ORG', 1.0), 'third': ('ORDINAL', 1.0), '600': ('CARDINAL', 1.0), 'Buffalo': ('GPE', 1.0), 'between 6% and 70%': ('PERCENT', 1.0), 'ECE': ('ORG', 1.0), 'Standing General Order': ('ORG', 1.0), 'China': ('GPE', 1.0), 'this Annual Report on Form 10-K. Energy Storage System Incentives': ('EVENT', 1.0), 'up to $7,500': ('MONEY', 1.0), 'years': ('DATE', 1.0), 'the National Highway Traffic Safety Administration': ('ORG', 1.0), 'the Inflation Reduction Act': ('LAW', 1.0), '373': ('CARDINAL', 1.0), 'January 2024': ('DATE', 1.0), 'Annual': ('DATE', 1.0), '8220;ZEVs&#8221': ('MONEY', 1.0), 'November 2022': ('DATE', 1.0), 'Self-Driving Development and Artificial Intelligence We': ('ORG', 1.0), '25D': ('CARDINAL', 1.0), 'Nevada': ('GPE', 1.0), 'IRC': ('ORG', 1.0), 'Apprenticeships &#8211': ('ORG', 1.0), 'four': ('CARDINAL', 1.0), 'The Federal Energy Regulatory Commission': ('ORG', 1.0), 'Solar Energy Offerings': ('ORG', 1.0), 'The U.S. Automobile Information and Disclosure Act': ('ORG', 1.0), 'Technician Trainee (Service) &': ('ORG', 1.0), 'Engineering Development Program &': ('ORG', 1.0), 'FSD Computer': ('ORG', 1.0), 'five': ('CARDINAL', 1.0), 'Control systems': ('ORG', 1.0), 'Federal Motor Vehicle Safety Standards (&#8220;FMVSS&#8221': ('ORG', 1.0), 'Korea': ('GPE', 1.0), 'the past year': ('DATE', 1.0), 'the California Self Generation Incentive Program': ('ORG', 1.0), '8220;galleries&#8221': ('MONEY', 1.0), 'Employee Educational Assistance Program': ('LAW', 1.0), '8212': ('MONEY', 1.0), 'Technician Trainee Program': ('ORG', 1.0), 'Internships &#8211': ('ORG', 1.0), 'annually': ('DATE', 1.0), 'August 16, 2022': ('DATE', 1.0), 'Model S': ('ORG', 0.5), 'New York': ('GPE', 1.0), 'zero': ('CARDINAL', 1.0), '48E': ('CARDINAL', 1.0), 'November 2021': ('DATE', 1.0), 'Model 3': ('PRODUCT', 1.0), 'no later than 2025': ('DATE', 1.0), 'ESG Sustainability Council': ('ORG', 1.0), '89%': ('PERCENT', 1.0), 'Austin Community College': ('ORG', 1.0), 'day one': ('DATE', 1.0), 'three': ('CARDINAL', 1.0), 'the year': ('DATE', 1.0), 'SAE International': ('ORG', 1.0), 'the past two years': ('DATE', 1.0), 'Austin': ('GPE', 1.0), 'the U.S.': ('ORG', 1.0), 'Solar Energy Systems': ('ORG', 1.0), 'Mobile Service': ('ORG', 1.0), 'Texas': ('GPE', 1.0), '8211': ('MONEY', 1.0), '2024': ('DATE', 1.0), 'non-Tesla': ('NORP', 1.0), 'Full Self-Driving (&': ('ORG', 1.0), 'Energy Generation and Storage': ('ORG', 1.0), 'Energy Generation and Storage Energy Storage Products Powerwall': ('ORG', 1.0), 'Battery Safety and Testing Our': ('ORG', 1.0), '140,473': ('CARDINAL', 1.0), '12': ('CARDINAL', 1.0), 'the U.S. Department of Transportation': ('ORG', 1.0), 'Technician Trainee': ('ORG', 1.0), 'Solar Energy System Incentives': ('ORG', 1.0), 'Optimus': ('NORP', 1.0), 'ECE markets &#8221;)': ('ORG', 1.0)}\n",
      "{'Vehicle': ('PERSON', 1.0), 'GWh': ('ORGANIZATION', 1.0), 'Services Automotive': ('ORGANIZATION', 1.0), 'Marketing Historically': ('PERSON', 1.0), 'Tesla Semi': ('ORGANIZATION', 1.0), 'Model S': ('PERSON', 1.0), 'Solar Roof': ('PERSON', 1.0), 'Design': ('GPE', 1.0), 'Cybertruck': ('ORGANIZATION', 0.6666666666666666), 'FSD': ('ORGANIZATION', 1.0), 'Model': ('PERSON', 1.0), 'Automotive Battery': ('ORGANIZATION', 1.0), 'Powerwall': ('GPE', 0.5), 'Artificial': ('ORGANIZATION', 1.0), 'BUSINESS': ('ORGANIZATION', 1.0), 'Mobile Service': ('PERSON', 1.0), 'Energy': ('PERSON', 1.0), 'Megapack': ('GPE', 1.0), 'Storage Energy Storage': ('PERSON', 1.0), 'Generation': ('ORGANIZATION', 1.0), 'Energy Offerings': ('PERSON', 1.0), 'Infotainment': ('ORGANIZATION', 1.0), 'Model X': ('PERSON', 1.0), 'Solar': ('PERSON', 1.0), 'Y': ('GPE', 1.0), 'FSD Computer': ('ORGANIZATION', 1.0), 'SUV': ('ORGANIZATION', 1.0), 'PPA': ('ORGANIZATION', 1.0), 'Energy Systems': ('ORGANIZATION', 1.0), 'Supercharger': ('GPE', 1.0), 'Technology': ('PERSON', 1.0), 'Control': ('ORGANIZATION', 0.5), 'Powertrain': ('GPE', 1.0), 'Optimus': ('GPE', 1.0), 'S': ('GPE', 1.0)}\n"
     ]
    }
   ],
   "source": [
    "def count(name, label):\n",
    "    name_counts = {}\n",
    "    for n, l in zip(name, label):\n",
    "        if n in name_counts:\n",
    "            name_counts[n] += 1\n",
    "        else:\n",
    "            name_counts[n] = 1\n",
    "    return name_counts\n",
    "\n",
    "def transfer_dic(name, label):\n",
    "    name_label_counts = {}\n",
    "    for n, l in zip(name, label):\n",
    "        key = (n, l) \n",
    "        if key in name_label_counts:\n",
    "            name_label_counts[key] += 1\n",
    "        else:\n",
    "            name_label_counts[key] = 1\n",
    "    return name_label_counts\n",
    "\n",
    "# output first the total appearing counts and the respective counts of each label\n",
    "def check_name(name, label, target_name):\n",
    "    if target_name not in name:\n",
    "        return \"no target_name\"\n",
    "    name_counts=count(name, label)\n",
    "    name_label_counts=transfer_dic(name, label)\n",
    "    print(\"total counts \"+ str(name_counts[target_name]))\n",
    "    for i in name_label_counts:\n",
    "        if i[0]==target_name:\n",
    "            print((i[1],name_label_counts[i]))\n",
    "\n",
    "# output a dictionary containg the key of name and the label with highest appearing ratio. {name:(label,ratio)}\n",
    "def get_NER(name, label):\n",
    "    res={}\n",
    "    name_counts=count(name, label)\n",
    "    name_label_counts=transfer_dic(name, label)\n",
    "    for i in list(set(name)):\n",
    "        for j in name_label_counts:\n",
    "            if j[0]==i:\n",
    "                ratio=name_label_counts[j]/name_counts[i]\n",
    "                if j[0] in res:\n",
    "                    if ratio>res[j[0]][1]:\n",
    "                        res[j[0]]=(j[1],ratio)\n",
    "                else:\n",
    "                    res[j[0]]=(j[1],ratio)\n",
    "    return res\n",
    "\n",
    "def highest_label(name, label):\n",
    "    res={}\n",
    "    NER=get_NER(name, label)\n",
    "    for i in NER:\n",
    "        if NER[i][0] in res:\n",
    "            res[NER[i][0]].append(i)\n",
    "        else:\n",
    "            res[NER[i][0]]=[i,]\n",
    "    return res\n",
    "\n",
    "\n",
    "\n",
    "print(get_NER(Spacy_name,Spacy_label))\n",
    "print(get_NER(nltk_name,nltk_label))\n",
    "\n",
    "\n",
    "\n"
   ]
  }
 ],
 "metadata": {
  "kernelspec": {
   "display_name": ".venv",
   "language": "python",
   "name": "python3"
  },
  "language_info": {
   "codemirror_mode": {
    "name": "ipython",
    "version": 3
   },
   "file_extension": ".py",
   "mimetype": "text/x-python",
   "name": "python",
   "nbconvert_exporter": "python",
   "pygments_lexer": "ipython3",
   "version": "3.12.3"
  }
 },
 "nbformat": 4,
 "nbformat_minor": 2
}
